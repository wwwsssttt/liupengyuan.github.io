{
 "cells": [
  {
   "cell_type": "markdown",
   "metadata": {
    "deletable": true,
    "editable": true
   },
   "source": [
    "# 练习三"
   ]
  },
  {
   "cell_type": "markdown",
   "metadata": {
    "deletable": true,
    "editable": true
   },
   "source": [
    "### 练习1"
   ]
  },
  {
   "cell_type": "code",
   "execution_count": null,
   "metadata": {
    "collapsed": false,
    "deletable": true,
    "editable": true
   },
   "outputs": [],
   "source": [
    "name=input(\"please input your name\")\n",
    "birth=int(input(\"Please input your birthday date like 1020（10月20号）,204(2月4号) \"))\n",
    "if  birth >= 1222:\n",
    "    print(name,\"你是摩羯座！\")\n",
    "elif birth>= 1123:\n",
    "    print(name,\"你是射手座！\")\n",
    "elif birth>=1024:\n",
    "    print(name,\"你是天蝎座！\")\n",
    "elif birth>= 923:\n",
    "    print(name,\"你是天秤座！\")\n",
    "elif birth>=823:\n",
    "    print(name,\"你是处女座！\")\n",
    "elif birth>=723:\n",
    "    print(name,\"你是狮子座！\")\n",
    "elif birth>=622:\n",
    "    print(name,\"你是巨蟹座！\")\n",
    "elif birth>=521:\n",
    "    print(name,\"你是双子座！\")\n",
    "elif birth>=420:\n",
    "    print(name,\"你是金牛座！\")\n",
    "elif birth>=321:\n",
    "    print(name,\"你是白羊座！\")\n",
    "elif birth>=219:\n",
    "    print(name,\"你是双鱼座！\")\n",
    "elif birth>=120:\n",
    "    print(name,\"你是水瓶座！\")\n",
    "else :\n",
    "    print(name,\"你是摩羯座！\")"
   ]
  },
  {
   "cell_type": "markdown",
   "metadata": {
    "deletable": true,
    "editable": true
   },
   "source": [
    "### 练习2"
   ]
  },
  {
   "cell_type": "code",
   "execution_count": 26,
   "metadata": {
    "collapsed": false,
    "deletable": true,
    "editable": true,
    "scrolled": true
   },
   "outputs": [
    {
     "name": "stdout",
     "output_type": "stream",
     "text": [
      "请输入一个数4\n",
      "请输入另一个非零数1\n",
      "您想进行哪种操作？请输入：连续求和／连续乘积／求余／整除连续乘积\n",
      "24\n"
     ]
    }
   ],
   "source": [
    "m=int(input(\"请输入一个数\"))\n",
    "n=int(input(\"请输入另一个非零数\"))\n",
    "question=input(\"您想进行哪种操作？请输入：连续求和／连续乘积／求余／整除\")\n",
    "if question ==\"连续求和\":\n",
    "    if m>n:\n",
    "        total=n\n",
    "        while m>n:\n",
    "            n=n+1\n",
    "            total=total+n\n",
    "        print(total)\n",
    "    elif m<n:\n",
    "        total=m\n",
    "        while m<n:\n",
    "            m=m+1\n",
    "            total=total+m\n",
    "        print(total)\n",
    "    else:\n",
    "        print(m+n)\n",
    "\n",
    "\n",
    "elif question==\"连续乘积\":\n",
    "    if m>n:\n",
    "        pro=n\n",
    "        while m>n:\n",
    "            n=n+1\n",
    "            pro=pro*n\n",
    "        print(pro)\n",
    "    \n",
    "    elif m<n:\n",
    "        pro=m\n",
    "        while m<n:\n",
    "            m=m+1\n",
    "            pro=pro*m\n",
    "        print(pro)\n",
    "    \n",
    "    else:\n",
    "        print(n*m)\n",
    "\n",
    "elif question==\"求余\":\n",
    "    print(m%n)\n",
    "else:\n",
    "    print(m/n)\n",
    "    \n",
    "\n"
   ]
  },
  {
   "cell_type": "markdown",
   "metadata": {
    "deletable": true,
    "editable": true
   },
   "source": [
    "### 练习3"
   ]
  },
  {
   "cell_type": "code",
   "execution_count": 21,
   "metadata": {
    "collapsed": false,
    "deletable": true,
    "editable": true
   },
   "outputs": [
    {
     "name": "stdout",
     "output_type": "stream",
     "text": [
      "请输入北京当前PM2.5数值： (140)\n",
      "请避免户外运动，并佩戴口罩。\n",
      "谢谢您的合作！\n"
     ]
    }
   ],
   "source": [
    "p=int(input(\"请输入北京当前PM2.5数值：\"))\n",
    "if p>=500:\n",
    "    print(\"请打开空气净化器，并佩戴防霾口罩。\")\n",
    "elif p>=300:\n",
    "    print(\"请打开空气净化器，并佩戴口罩。\")\n",
    "elif p>=100:\n",
    "    print(\"请避免户外运动，并佩戴口罩。\")\n",
    "else:\n",
    "    print(\"今天天气很好。\")\n",
    "    \n",
    "print(\"谢谢您的合作！\")\n",
    "\n"
   ]
  },
  {
   "cell_type": "markdown",
   "metadata": {
    "collapsed": true,
    "deletable": true,
    "editable": true
   },
   "source": [
    "### 练习4"
   ]
  },
  {
   "cell_type": "code",
   "execution_count": null,
   "metadata": {
    "collapsed": false,
    "deletable": true,
    "editable": true
   },
   "outputs": [],
   "source": [
    "word=input(\"请输入一个英文单词，我们将其转化为复数形式。\")\n",
    "if \"word\" .endswith(\"ch/sh\"):\n",
    "    print(word\"es\")\n",
    "elif \"word\" .endswith(\"o\"):\n",
    "    print(word\"es\")\n",
    "else:\n",
    "    print(word\"s\")"
   ]
  },
  {
   "cell_type": "code",
   "execution_count": null,
   "metadata": {
    "collapsed": true,
    "deletable": true,
    "editable": true
   },
   "outputs": [],
   "source": []
  }
 ],
 "metadata": {
  "kernelspec": {
   "display_name": "Python 3",
   "language": "python",
   "name": "python3"
  },
  "language_info": {
   "codemirror_mode": {
    "name": "ipython",
    "version": 3
   },
   "file_extension": ".py",
   "mimetype": "text/x-python",
   "name": "python",
   "nbconvert_exporter": "python",
   "pygments_lexer": "ipython3",
   "version": "3.6.0"
  }
 },
 "nbformat": 4,
 "nbformat_minor": 2
}
