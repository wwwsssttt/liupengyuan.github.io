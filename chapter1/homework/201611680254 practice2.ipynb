{
 "cells": [
  {
   "cell_type": "code",
   "execution_count": 3,
   "metadata": {
    "collapsed": false
   },
   "outputs": [
    {
     "ename": "SyntaxError",
     "evalue": "invalid syntax (<ipython-input-3-be7559051222>, line 4)",
     "output_type": "error",
     "traceback": [
      "\u001b[1;36m  File \u001b[1;32m\"<ipython-input-3-be7559051222>\"\u001b[1;36m, line \u001b[1;32m4\u001b[0m\n\u001b[1;33m    i=0\u001b[0m\n\u001b[1;37m    ^\u001b[0m\n\u001b[1;31mSyntaxError\u001b[0m\u001b[1;31m:\u001b[0m invalid syntax\n"
     ]
    }
   ],
   "source": [
    "name=int(input(\"请输入你的名字\"))\n",
    "print(\"hello,name\")\n",
    "n=int(input(\"请输入你想要输入的整数个数\")\n",
    "i=0\n",
    "s=0\n",
    "while i<n:\n",
    "      m=int(input(\"请你想输入的整数\"))\n",
    "      i=i+1\n",
    "      s=s+m\n",
    "else:\n",
    "      print(\"结束输入，谢谢\")"
   ]
  },
  {
   "cell_type": "code",
   "execution_count": 5,
   "metadata": {
    "collapsed": false
   },
   "outputs": [
    {
     "name": "stdout",
     "output_type": "stream",
     "text": [
      "不知道这个语法错误在哪里，之前可以运行的\n"
     ]
    }
   ],
   "source": [
    "print('不知道这个语法错误在哪里，之前可以运行的')"
   ]
  },
  {
   "cell_type": "code",
   "execution_count": null,
   "metadata": {
    "collapsed": true
   },
   "outputs": [],
   "source": []
  }
 ],
 "metadata": {
  "kernelspec": {
   "display_name": "Python 3",
   "language": "python",
   "name": "python3"
  },
  "language_info": {
   "codemirror_mode": {
    "name": "ipython",
    "version": 3
   },
   "file_extension": ".py",
   "mimetype": "text/x-python",
   "name": "python",
   "nbconvert_exporter": "python",
   "pygments_lexer": "ipython3",
   "version": "3.6.0"
  }
 },
 "nbformat": 4,
 "nbformat_minor": 2
}
