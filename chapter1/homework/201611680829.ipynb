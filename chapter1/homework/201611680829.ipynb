{
 "cells": [
  {
   "cell_type": "code",
   "execution_count": 4,
   "metadata": {
    "collapsed": false
   },
   "outputs": [
    {
     "name": "stdout",
     "output_type": "stream",
     "text": [
      "请输入你的名字Andrew\n",
      "请输入你的生日（如：1.1）1.5\n",
      "Andrew 你是摩羯座\n"
     ]
    }
   ],
   "source": [
    "a=str(input('请输入你的名字'))\n",
    "x=float(input('请输入你的生日（如：1.1）'))\n",
    "\n",
    "if 3.21<=x<=4.19:\n",
    "    print(a,'你是白羊座')\n",
    "elif 4.20<=x<=5.20:\n",
    "    print(a,'你是金牛座')\n",
    "elif 5.21<=x<=6.21:\n",
    "    print(a,'你是双子座')\n",
    "elif 6.22<=x<=7.22:\n",
    "    print(a,'你是巨蟹座')\n",
    "elif 7.23<=x<=8.22:\n",
    "    print(a,'你是狮子座')\n",
    "elif 8.23<=x<=9.22:\n",
    "    print(a,'你是处女座')\n",
    "elif 9.23<=x<=10.23:\n",
    "    print(a,'你是天秤座')\n",
    "elif 10.24<=x<=11.22:\n",
    "    print(a,'你是天蝎座')\n",
    "elif 11.23<=x<=12.21:\n",
    "    print(a,'你是射手座')\n",
    "else:\n",
    "    12.22<=x<=12.31 or 1.1<=x<=1.19\n",
    "    print(a,'你是摩羯座')"
   ]
  },
  {
   "cell_type": "code",
   "execution_count": 10,
   "metadata": {
    "collapsed": false
   },
   "outputs": [
    {
     "name": "stdout",
     "output_type": "stream",
     "text": [
      "请输入整数n2\n",
      "请输入整数m3\n",
      "您需要的计算是：请输入‘+’，‘*’，‘%’，‘//’*\n",
      "6\n"
     ]
    }
   ],
   "source": [
    "n=int(input('请输入整数n'))\n",
    "m=int(input('请输入整数m'))\n",
    "x=input('您需要的计算是：请输入‘+’，‘*’，‘%’，‘//’')\n",
    "       \n",
    "if x=='+':\n",
    "       print(m+n)\n",
    "elif x=='*':\n",
    "       print(m*n)\n",
    "elif x=='%':\n",
    "       print(m%n)\n",
    "elif x=='//':\n",
    "       print(m//n)"
   ]
  },
  {
   "cell_type": "code",
   "execution_count": 12,
   "metadata": {
    "collapsed": false
   },
   "outputs": [
    {
     "name": "stdout",
     "output_type": "stream",
     "text": [
      "请输入北京PM2.5指数176\n",
      "对敏感人群影响较大\n"
     ]
    }
   ],
   "source": [
    "n=float(input('请输入北京PM2.5指数'))\n",
    "if 0<=n<=50:\n",
    "    print('参加户外活动吸收新鲜空气')\n",
    "elif 50<n<=100:\n",
    "    print('可正常进行室外活动')\n",
    "elif 100<n<=150:\n",
    "    print('敏感人群减少户外活动')\n",
    "elif 150<n<=200:\n",
    "    print('对敏感人群影响较大')\n",
    "elif 200<n<=300:\n",
    "    print('所有人群减少户外活动')\n",
    "elif 300<n<=500:\n",
    "    print('不要在室外逗留')\n",
    "else:\n",
    "    n>500\n",
    "    print('打开空气净化器，戴防雾霾口罩')"
   ]
  },
  {
   "cell_type": "code",
   "execution_count": 13,
   "metadata": {
    "collapsed": false
   },
   "outputs": [
    {
     "name": "stdout",
     "output_type": "stream",
     "text": [
      "hello\n",
      "\n",
      "\n",
      "123\n"
     ]
    }
   ],
   "source": [
    "print('hello')\n",
    "print('\\n')\n",
    "print('123')"
   ]
  },
  {
   "cell_type": "code",
   "execution_count": 15,
   "metadata": {
    "collapsed": false
   },
   "outputs": [
    {
     "name": "stdout",
     "output_type": "stream",
     "text": [
      "请输入想输入的整数个数5\n",
      "请输入一个整数1\n",
      "请输入一个整数3\n",
      "请输入一个整数5\n",
      "请输入一个整数7\n",
      "请输入一个整数9\n",
      "7\n"
     ]
    }
   ],
   "source": [
    "n=int(input('请输入想输入的整数个数'))\n",
    "mid=0\n",
    "a=int(input('请输入一个整数'))\n",
    "b=int(input('请输入一个整数'))\n",
    "if a>=b:\n",
    "    max=a\n",
    "    min=b\n",
    "else:\n",
    "    max=b\n",
    "    min=a\n",
    "i=2\n",
    "while i<n:\n",
    "    x=int(input('请输入一个整数'))\n",
    "    if x>min and x<max:\n",
    "        mid=x\n",
    "    elif x>=max:\n",
    "        mid=max\n",
    "        max=x\n",
    "    else:\n",
    "        mid=min\n",
    "        min=x\n",
    "    i=i+1\n",
    "print(mid)"
   ]
  }
 ],
 "metadata": {
  "kernelspec": {
   "display_name": "Python 3",
   "language": "python",
   "name": "python3"
  },
  "language_info": {
   "codemirror_mode": {
    "name": "ipython",
    "version": 3
   },
   "file_extension": ".py",
   "mimetype": "text/x-python",
   "name": "python",
   "nbconvert_exporter": "python",
   "pygments_lexer": "ipython3",
   "version": "3.6.0"
  }
 },
 "nbformat": 4,
 "nbformat_minor": 2
}
