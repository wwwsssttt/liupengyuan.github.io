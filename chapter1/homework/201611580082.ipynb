{
 "cells": [
  {
   "cell_type": "code",
   "execution_count": 2,
   "metadata": {
    "collapsed": false
   },
   "outputs": [
    {
     "name": "stdout",
     "output_type": "stream",
     "text": [
      "Enter your name.3\n",
      "雷猴 3\n",
      "请输入你要求和的数字个数，以回车结束。3\n",
      "请输入一个正整数，以回车结束。3\n",
      "请输入一个正整数，以回车结束。3\n",
      "请输入一个正整数，以回车结束。3\n",
      "这些数的和是： 9\n",
      "扎心了老铁\n"
     ]
    }
   ],
   "source": [
    "# 练习2: 写出由用户指定整数个数，并由用户输入多个整数，并求和的代码。\n",
    "\n",
    "name=input('Enter your name.')\n",
    "print('雷猴',name)\n",
    "\n",
    "n=int(input('请输入你要求和的数字个数，以回车结束。'))\n",
    "\n",
    "i=0\n",
    "sum=0\n",
    "\n",
    "while i<n:\n",
    "    i=i+1\n",
    "    m=int(input('请输入一个正整数，以回车结束。'))\n",
    "    sum=sum+m\n",
    "\n",
    "print('这些数的和是：',sum)\n",
    "\n",
    "print('扎心了老铁')"
   ]
  },
  {
   "cell_type": "code",
   "execution_count": 3,
   "metadata": {
    "collapsed": false
   },
   "outputs": [
    {
     "name": "stdout",
     "output_type": "stream",
     "text": [
      "任意输入数字直到你不想输入，此时打“no”。\n",
      "请输入一个数，以回车结束。1\n",
      "请输入一个数，以回车结束。1\n",
      "请输入一个数，以回车结束。1\n",
      "请输入一个数，以回车结束。1\n",
      "请输入一个数，以回车结束。no\n",
      "end\n"
     ]
    }
   ],
   "source": [
    "#练习3：用户可以输入任意多个数字，直到用户不想输入为止。\n",
    "\n",
    "print('任意输入数字直到你不想输入，此时打“no”。')\n",
    "\n",
    "n=('no')\n",
    "m=input('请输入一个数，以回车结束。')\n",
    "\n",
    "while m != n:\n",
    "    m=input('请输入一个数，以回车结束。')\n",
    "       \n",
    "print('end')"
   ]
  },
  {
   "cell_type": "code",
   "execution_count": 5,
   "metadata": {
    "collapsed": false
   },
   "outputs": [
    {
     "name": "stdout",
     "output_type": "stream",
     "text": [
      "请输入一个正整数，以回车结束。4\n",
      "请输入一个正整数，以回车结束1\n"
     ]
    }
   ],
   "source": [
    "\n",
    "#练习4：用户可以输入任意多个数字，直到输入所有数字的和比当前输入数字小，且输入所有数字的积比当前输入数字的平方小。\n",
    "n = int(input('请输入一个正整数，以回车结束。'))\n",
    "\n",
    "i = 0\n",
    "j = 0\n",
    "sum = 0\n",
    "product = 1\n",
    "\n",
    "while sum < n and product < n :\n",
    "    i = i + 1\n",
    "    sum = sum + i\n",
    "    j = j + 1\n",
    "    product = j * product\n",
    "    n = int(input('请输入一个正整数，以回车结束'))"
   ]
  }
 ],
 "metadata": {
  "kernelspec": {
   "display_name": "Python 3",
   "language": "python",
   "name": "python3"
  },
  "language_info": {
   "codemirror_mode": {
    "name": "ipython",
    "version": 3
   },
   "file_extension": ".py",
   "mimetype": "text/x-python",
   "name": "python",
   "nbconvert_exporter": "python",
   "pygments_lexer": "ipython3",
   "version": "3.6.0"
  }
 },
 "nbformat": 4,
 "nbformat_minor": 2
}
