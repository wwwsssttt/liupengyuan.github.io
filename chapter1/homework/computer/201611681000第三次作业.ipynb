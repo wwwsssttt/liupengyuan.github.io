{
 "cells": [
  {
   "cell_type": "code",
   "execution_count": null,
   "metadata": {
    "collapsed": false,
    "deletable": true,
    "editable": true
   },
   "outputs": [],
   "source": [
    "name=input (\"请输入你的名字\\n\")\n",
    "m=int(input(\"请输入你出生月份\\n\"))\n",
    "d=int(input(\"请输入你的出生日期\\n\"))\n",
    "if m==3 and d>20 or (m==4 and d<20):\n",
    "    print(name,\"你是傲娇的白羊座\")\n",
    "elif m==4 and d>19 or (m==5 and d<21):\n",
    "    print(name,\"你是很有性格的金牛座\")\n",
    "elif m==5 and d>20 or (m==6 and d<22):\n",
    "    print(name,\"你是人格分裂的双子座\")\n",
    "elif m==6 and d>21 or (m==7 and d<23):\n",
    "    print(name,\"你是没有大脑的巨蟹座\")\n",
    "elif m==7 and d>22 or (m==8 and d<23):\n",
    "    print(name,\"你是性格温顺的狮子座\")\n",
    "elif m==8 and d>22 or (m==9 and d<23):\n",
    "    print(name,\"你是非常完美的处女座\")\n",
    "elif m==9 and d>22 or(m==10 and d<24):\n",
    "    print(name,\"你是僵尸般的天秤座\")\n",
    "elif m==10 and d>23 or (m==11 and d<23):\n",
    "    print(name,\"你是招人喜欢的天蝎座\")\n",
    "elif m==11 and d>22 or (m==12 and d<22):\n",
    "    print(name,\"你是花心的射手座\")\n",
    "elif m==12 and d>21 or (m==1 and d<18):\n",
    "    print(name,\"你是高高的摩羯座\")\n",
    "elif m==1 and d>19 or (m==2 and d<19):\n",
    "    print(name,\"你是瘦瘦的水瓶座\")\n",
    "elif m==2 and d>18 or(m==3 and d<21):\n",
    "    print (name,\"你是喜欢游泳的双鱼座\")"
   ]
  },
  {
   "cell_type": "code",
   "execution_count": 3,
   "metadata": {
    "collapsed": false,
    "deletable": true,
    "editable": true
   },
   "outputs": [
    {
     "name": "stdout",
     "output_type": "stream",
     "text": [
      "请输入一个整数\n",
      "8\n",
      "请输入一个不为零的整数\n",
      "6\n",
      "请输入你想要的操作:求和请输入1，求积请输入2，求余数请输入3，求整除商请输入4\n",
      "2\n",
      "48\n"
     ]
    }
   ],
   "source": [
    "m=int(input(\"请输入一个整数\\n\"))\n",
    "n=int(input(\"请输入一个不为零的整数\\n\"))\n",
    "yt=int(input(\"请输入你想要的操作:求和请输入1，求积请输入2，求余数请输入3，求整除商请输入4\\n\"))\n",
    "if yt==1:\n",
    "    print(m+n)\n",
    "elif yt==2:\n",
    "    print(m*n)\n",
    "elif yt==3:\n",
    "    print(m%n)\n",
    "elif yt==4:\n",
    "    print(m//n)"
   ]
  },
  {
   "cell_type": "code",
   "execution_count": 6,
   "metadata": {
    "collapsed": false,
    "deletable": true,
    "editable": true
   },
   "outputs": [
    {
     "name": "stdout",
     "output_type": "stream",
     "text": [
      "请输入PM2.5的数值200\n",
      "外面空气不太好，建议不要出门，出门就是找死\n"
     ]
    }
   ],
   "source": [
    "m= int(input(\"请输入PM2.5的数值\"))\n",
    "if m>=500:\n",
    "    print(\"请打开空气净化器，戴防护口罩\")\n",
    "elif m>=100:\n",
    "    print(\"外面空气不太好，建议不要出门，出门就是找死\")\n",
    "elif m>=50:\n",
    "    print(\"空气良好，减少室外运动\")\n",
    "elif m>=10:\n",
    "    print(\"空气非常好，赶紧出门透透气吧！\")"
   ]
  },
  {
   "cell_type": "code",
   "execution_count": 5,
   "metadata": {
    "collapsed": false,
    "deletable": true,
    "editable": true
   },
   "outputs": [
    {
     "name": "stdout",
     "output_type": "stream",
     "text": [
      "Please enter a countable noun\n",
      "box\n",
      "boxes\n"
     ]
    }
   ],
   "source": [
    "word=input(\"Please enter a countable noun\\n\")\n",
    "if word.endswith('s') or word.endswith('x') or word.endswith('sh') or word.endswith('ch'):\n",
    "    word+='es'\n",
    "    print(word)\n",
    "elif word.endswith('y'):\n",
    "    print(\"You can change the last letter into i plus es\\n\")\n",
    "    print(word,\"->\",word,\"ies\")\n",
    "else:\n",
    "    word+='s'\n",
    "    print(word)"
   ]
  },
  {
   "cell_type": "code",
   "execution_count": 17,
   "metadata": {
    "collapsed": false,
    "deletable": true,
    "editable": true
   },
   "outputs": [
    {
     "name": "stdout",
     "output_type": "stream",
     "text": [
      "Please enter the rows of blank places\n",
      "5\n",
      "\n",
      "\n",
      "\n",
      "\n",
      "\n",
      "end\n"
     ]
    }
   ],
   "source": [
    "print(\"Please enter the rows of blank places\")\n",
    "m=int(input())\n",
    "i=0\n",
    "while(i<m):\n",
    "    print()\n",
    "    i+=1\n",
    "print(\"end\")"
   ]
  },
  {
   "cell_type": "code",
   "execution_count": 7,
   "metadata": {
    "collapsed": false,
    "deletable": true,
    "editable": true
   },
   "outputs": [
    {
     "name": "stdout",
     "output_type": "stream",
     "text": [
      "请输入要输入的整数个数，回车结束。4\n",
      "请输入一个整数，回车结束1\n",
      "请输入一个整数，回车结束3\n",
      "请输入一个整数，回车结束5\n",
      "请输入一个整数，回车结束6\n",
      "第二大的数为 5\n"
     ]
    }
   ],
   "source": [
    "m=int(input('请输入要输入的整数个数，回车结束。'))\n",
    "max1=int(input('请输入一个整数，回车结束'))\n",
    "max2=int(input('请输入一个整数，回车结束'))\n",
    "if max2>max1:\n",
    "    temp=max1\n",
    "    max1=max2\n",
    "    max2=temp\n",
    "    \n",
    "i=2\n",
    "while i<m:\n",
    "    n=int(input('请输入一个整数，回车结束'))\n",
    "    if n>max2 and n<max1:\n",
    "        max2=n\n",
    "    elif n>max1:\n",
    "        temp=max2\n",
    "        max2=max1\n",
    "        max1=n  \n",
    "    i+=1\n",
    "print(\"第二大的数为\",max2)"
   ]
  }
 ],
 "metadata": {
  "kernelspec": {
   "display_name": "Python 3",
   "language": "python",
   "name": "python3"
  }
 },
 "nbformat": 4,
 "nbformat_minor": 2
}
