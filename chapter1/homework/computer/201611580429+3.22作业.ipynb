{
 "cells": [
  {
   "cell_type": "code",
   "execution_count": 1,
   "metadata": {
    "collapsed": false
   },
   "outputs": [
    {
     "name": "stdout",
     "output_type": "stream",
     "text": [
      "What is your name? Mr.right\n",
      "Enter the date of your birthday425\n",
      "Mr. right，你是非常有性格的金牛座！\n"
     ]
    }
   ],
   "source": [
    "#练习1\n",
    "name=input('What is your name? ')\n",
    "x=int(input('Enter the date of your birthday'))\n",
    "if x>=420 and x<=520  :\n",
    "    print('Mr. right，你是非常有性格的金牛座！')\n",
    "else:\n",
    "    print('Mr. right，你不是金牛座。')"
   ]
  },
  {
   "cell_type": "code",
   "execution_count": 2,
   "metadata": {
    "collapsed": false
   },
   "outputs": [
    {
     "name": "stdout",
     "output_type": "stream",
     "text": [
      "Enter an integer:5\n",
      "Enter another integer,and it is not zero2\n",
      "What do you want to do with the two numbers?plus\n",
      "The sum is:  7\n"
     ]
    }
   ],
   "source": [
    "#练习2\n",
    "m = int(input('Enter an integer:'))\n",
    "n = int(input('Enter another integer,and it is not zero'))\n",
    "operation=input('What do you want to do with the two numbers?')\n",
    "if operation.endswith('plus'):\n",
    "    print('The sum is: ',m+n)\n",
    "else:\n",
    "    print('The result is: ',n/m)"
   ]
  },
  {
   "cell_type": "code",
   "execution_count": 3,
   "metadata": {
    "collapsed": false
   },
   "outputs": [
    {
     "name": "stdout",
     "output_type": "stream",
     "text": [
      "Enter the PM2.5 value: 520\n",
      "应该打开空气净化器，戴防雾霾口罩\n"
     ]
    }
   ],
   "source": [
    "#练习3\n",
    "num = int(input('Enter the PM2.5 value: '))\n",
    "if num>500:\n",
    "    print('应该打开空气净化器，戴防雾霾口罩')\n",
    "else :\n",
    "    print('It is no problem')\n",
    "    "
   ]
  },
  {
   "cell_type": "code",
   "execution_count": 5,
   "metadata": {
    "collapsed": false
   },
   "outputs": [
    {
     "name": "stdout",
     "output_type": "stream",
     "text": [
      "Enter a noun: fly\n",
      "变y为i加es\n"
     ]
    }
   ],
   "source": [
    "#练习4\n",
    "word=input('Enter a noun: ')\n",
    "if word.endswith('y'):  \n",
    "    print('变y为i加es') \n",
    "elif word[-1] in 'sx' or word[-2:] in ['sh','ch']:  \n",
    "    print('加es')  \n",
    "else:  \n",
    "    print('加s')\n"
   ]
  },
  {
   "cell_type": "code",
   "execution_count": 6,
   "metadata": {
    "collapsed": false
   },
   "outputs": [
    {
     "name": "stdout",
     "output_type": "stream",
     "text": [
      " \n"
     ]
    }
   ],
   "source": [
    "#尝试性练习\n",
    "print(' ',sep = '  ')"
   ]
  },
  {
   "cell_type": "code",
   "execution_count": 8,
   "metadata": {
    "collapsed": false
   },
   "outputs": [
    {
     "name": "stdout",
     "output_type": "stream",
     "text": [
      "请输入要输入的整数个数，回车结束。5\n",
      "Enter an integer: 2\n",
      "Enter an integer: 9\n",
      "Enter an integer: 3\n",
      "Enter an integer: 4\n",
      "Enter an integer: 8\n",
      " [2, 9, 3, 4, 8]\n",
      " 8\n"
     ]
    }
   ],
   "source": [
    "#挑战性练习\n",
    "m = int(input('请输入要输入的整数个数，回车结束。'))\n",
    "a = []\n",
    "i = 0\n",
    "while i <m:\n",
    "    a.append(int(input('Enter an integer: ')))\n",
    "    i = i + 1\n",
    "print('',a)\n",
    "b=a[:]\n",
    "b.sort()\n",
    "print('',b[3])"
   ]
  },
  {
   "cell_type": "code",
   "execution_count": null,
   "metadata": {
    "collapsed": true
   },
   "outputs": [],
   "source": []
  },
  {
   "cell_type": "code",
   "execution_count": null,
   "metadata": {
    "collapsed": true
   },
   "outputs": [],
   "source": []
  },
  {
   "cell_type": "code",
   "execution_count": null,
   "metadata": {
    "collapsed": true
   },
   "outputs": [],
   "source": []
  }
 ],
 "metadata": {
  "anaconda-cloud": {},
  "kernelspec": {
   "display_name": "Python [default]",
   "language": "python",
   "name": "python3"
  },
  "language_info": {
   "codemirror_mode": {
    "name": "ipython",
    "version": 3
   },
   "file_extension": ".py",
   "mimetype": "text/x-python",
   "name": "python",
   "nbconvert_exporter": "python",
   "pygments_lexer": "ipython3",
   "version": "3.5.2"
  }
 },
 "nbformat": 4,
 "nbformat_minor": 1
}
