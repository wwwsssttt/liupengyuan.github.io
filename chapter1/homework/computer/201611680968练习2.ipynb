{
 "cells": [
  {
   "cell_type": "code",
   "execution_count": 4,
   "metadata": {
    "collapsed": false
   },
   "outputs": [
    {
     "name": "stdout",
     "output_type": "stream",
     "text": [
      "请输入您想要的整数个数，以回车结束。5\n",
      "请输入多个整数，以回车结束。1\n",
      "请输入多个整数，以回车结束。1\n",
      "请输入多个整数，以回车结束。1\n",
      "请输入多个整数，以回车结束。1\n",
      "请输入多个整数，以回车结束。1\n",
      "n个数的和是： 5\n"
     ]
    }
   ],
   "source": [
    "n=int(input('请输入您想要的整数个数，以回车结束。'))\n",
    "i=0\n",
    "total=0\n",
    "while i<n:\n",
    "    num=int(input('请输入多个整数，以回车结束。'))\n",
    "    i=i+1\n",
    "    total=total+num\n",
    "    \n",
    "print('n个数的和是：',total)"
   ]
  },
  {
   "cell_type": "markdown",
   "metadata": {},
   "source": []
  }
 ],
 "metadata": {
  "kernelspec": {
   "display_name": "Python 3",
   "language": "python",
   "name": "python3"
  },
  "language_info": {
   "codemirror_mode": {
    "name": "ipython",
    "version": 3
   },
   "file_extension": ".py",
   "mimetype": "text/x-python",
   "name": "python",
   "nbconvert_exporter": "python",
   "pygments_lexer": "ipython3",
   "version": "3.6.0"
  }
 },
 "nbformat": 4,
 "nbformat_minor": 2
}
