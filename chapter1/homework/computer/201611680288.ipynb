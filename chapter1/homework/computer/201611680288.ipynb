{
 "cells": [
  {
   "cell_type": "code",
   "execution_count": null,
   "metadata": {
    "collapsed": false
   },
   "outputs": [],
   "source": [
    "m=int(input('输入您出生的月份'))\n",
    "d=int(input('输入您出生的日期'))\n",
    "if m==1:\n",
    "    if d>=1 and d<=19:\n",
    "        print('您是摩羯座 ！')\n",
    "    else \n",
    "        print('您是水瓶座 ！')\n",
    "elif m==2:\n",
    "    if d>=1 and d<=18:\n",
    "        print('您是水瓶座 ！')\n",
    "    else\n",
    "        print('您是双鱼座 ！')\n",
    "elif m==3:\n",
    "    if d>=1 and d<=20:\n",
    "        print('您是双鱼座 ！')\n",
    "    else\n",
    "        print('您是白羊座 ！')\n",
    "elif m==4:\n",
    "    if d>=1 and d<=19:\n",
    "        print('您是白羊座 ！')\n",
    "    else\n",
    "        print('您是金牛座 ！')\n",
    "elif m==5:\n",
    "    if d>=1 and d<=20:\n",
    "        print('您是金牛座 ！')\n",
    "    else\n",
    "        print('您是双子座 ！')\n",
    "elif m==6:\n",
    "    if d>=1 and d<=21:\n",
    "        print('您是双子座 ！')\n",
    "    else\n",
    "        print('您是巨蟹座 ！')\n",
    "elif m==7:\n",
    "    if d>=1 and d<=22:\n",
    "        print('您是巨蟹座 ！')\n",
    "    else\n",
    "        print('您是狮子座 ！')\n",
    "elif m==8:\n",
    "    if d>=1 and d<=22:\n",
    "        print('您是狮子座 ！')\n",
    "    else\n",
    "        print('您是处女座 ！')\n",
    "elif m==9:\n",
    "    if d>=1 and d<=22:\n",
    "        print('您是处女座 ！')\n",
    "    else\n",
    "        print('您是天秤座 ！')\n",
    "elif m==10:\n",
    "    if d>=1 and d<=23:\n",
    "        print('您是天秤座 ！')\n",
    "    else\n",
    "        print('您是天蝎座 ！')\n",
    "elif m==11:\n",
    "    if d>=1 and d<=24:\n",
    "        print('您是天蝎座 ！')\n",
    "    else\n",
    "        print('您是射手座 ！')\n",
    "else\n",
    "    if d>=1 and d<=22:\n",
    "        print('您是射手座 ！')\n",
    "    else\n",
    "        print('您是摩羯座 ！')"
   ]
  },
  {
   "cell_type": "code",
   "execution_count": null,
   "metadata": {
    "collapsed": true
   },
   "outputs": [],
   "source": [
    "m=int(input('请输入一个整数，以回车结束'))\n",
    "n=int(input('请输入一个整数，以回车结束'))\n",
    "x=int(input('求和，则输入1；求积，则输入2；求余，则输入3'))\n",
    "if x==1:\n",
    "    print('求和:',m+n)\n",
    "elif x==2:\n",
    "    print('求积:',m*n)\n",
    "elif x==3:\n",
    "    print('求余:',m%n)\n",
    "else:\n",
    "    print('求商:',m/n)"
   ]
  },
  {
   "cell_type": "code",
   "execution_count": null,
   "metadata": {
    "collapsed": true
   },
   "outputs": [],
   "source": [
    "pz=int(input('请输入北京雾霾PM2.5的数值，以回车结束'))\n",
    "if pz<=100:\n",
    "    print('空气质量优良，适宜户外活动')\n",
    "elif pz<=200 and pz>100:\n",
    "    printf('轻度污染，减少外出时间')\n",
    "elif pz<=500 and pz>200:\n",
    "    printf('中度污染，减少外出时间')\n",
    "if pz>500:\n",
    "    print('重度污染，请戴防霾口罩，打开空气净化器')"
   ]
  },
  {
   "cell_type": "code",
   "execution_count": null,
   "metadata": {
    "collapsed": true
   },
   "outputs": [],
   "source": [
    "a=int(input('请输入一个可数英文单词的单数形式，以回车结束'))\n",
    "if  a.endswith('y') \n",
    "    return  a[:-1]+'ies'\n",
    "elif a[:-1]in 'sx' or a[:-2]in ['sh','ch']:\n",
    "    return a+'es'\n",
    "elif a.endswith('an'):\n",
    "    return a[:-2]+'en'\n",
    "else\n",
    "    return a+'s'"
   ]
  }
 ],
 "metadata": {
  "kernelspec": {
   "display_name": "Python 3",
   "language": "python",
   "name": "python3"
  },
  "language_info": {
   "codemirror_mode": {
    "name": "ipython",
    "version": 3
   },
   "file_extension": ".py",
   "mimetype": "text/x-python",
   "name": "python",
   "nbconvert_exporter": "python",
   "pygments_lexer": "ipython3",
   "version": "3.6.0"
  }
 },
 "nbformat": 4,
 "nbformat_minor": 2
}
