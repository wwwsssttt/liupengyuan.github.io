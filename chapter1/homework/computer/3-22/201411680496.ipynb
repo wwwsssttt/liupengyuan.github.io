{
 "cells": [
  {
   "cell_type": "code",
   "execution_count": 1,
   "metadata": {
    "collapsed": false
   },
   "outputs": [
    {
     "name": "stdout",
     "output_type": "stream",
     "text": [
      "plz input ur name jessica\n",
      "input ur birth month 8\n",
      "input ur birth day 15\n",
      "jessica 你是狮子座\n"
     ]
    }
   ],
   "source": [
    "#练习 1：写程序，可由键盘读入用户姓名例如Mr. right，让用户输入出生的月份与日期，判断用户星座，假设用户是金牛座，\n",
    "#则输出，Mr. right，你是非常有性格的金牛座！。\n",
    "n=str(input('plz input ur name '))\n",
    "m=int(input('input ur birth month '))\n",
    "d=int(input('input ur birth day '))\n",
    "if (m>=3 and d>21) or (m<=4 and d<19):\n",
    "        print (n,'你是白羊座')\n",
    "elif (m>=4 and d>20) or (m<=5 and d<20):\n",
    "        print (n,'你是金牛座')\n",
    "elif (m>=5 and d>21) or (m<=6 and d<21):\n",
    "        print (n,'你是双子座')\n",
    "elif (m>=6 and d>22) or (m<=7 and d<22):\n",
    "        print (n,'你是巨蟹座')\n",
    "elif (m>=7 and d>23) or (m<=8 and d<22):\n",
    "        print (n,'你是狮子座')\n",
    "elif (m>=8 and d>23) or (m<=9 and d<22):\n",
    "        print (n,'你是处女座')\n",
    "elif (m>=9 and d>23) or (m<=10 and d<23):\n",
    "        print (n,'你是天秤座')\n",
    "elif (m>=10 and d>24) or (m<=11 and d<23):\n",
    "        print (n,'你是天蝎座')\n",
    "elif (m>=11 and d>23) or (m<=12 and d<21):\n",
    "        print (n,'你是射手座')\n",
    "elif (m>=12 and d>22) or (m<=1 and d<19):\n",
    "        print (n,'你是摩羯座')\n",
    "elif (m>=1 and d>20) or (m<=2 and d<18):\n",
    "        print (n,'你是水瓶座')\n",
    "elif (m>=2 and d>19) or (m<=3 and d<20):\n",
    "        print (n,'你是双鱼座')"
   ]
  },
  {
   "cell_type": "code",
   "execution_count": 2,
   "metadata": {
    "collapsed": false
   },
   "outputs": [
    {
     "name": "stdout",
     "output_type": "stream",
     "text": [
      "plz input m: 5\n",
      "plz input n: 9\n",
      "plz  input one of +  * % ops: +\n",
      "14\n"
     ]
    }
   ],
   "source": [
    "#练习 2：写程序，可由键盘读入两个整数m与n(n不等于0)，询问用户意图，如果要求和则计算从m到n的和输出，\n",
    "#如果要乘积则计算从m到n的积并输出，如果要求余数则计算m除以n的余数的值并输出，否则则计算m整除n的值并输出。\n",
    "m=int(input('plz input m: '))\n",
    "n=int(input('plz input n: '))\n",
    "\n",
    "a=str(input('plz  input one of +  * % ops: '))\n",
    "if a== '+':\n",
    "    print (m+n)\n",
    "elif a=='*':\n",
    "    print (m*n)\n",
    "elif a=='%':\n",
    "    print (m%n)\n",
    "else:\n",
    "    print(int(m/n))"
   ]
  },
  {
   "cell_type": "code",
   "execution_count": 3,
   "metadata": {
    "collapsed": false
   },
   "outputs": [
    {
     "name": "stdout",
     "output_type": "stream",
     "text": [
      "plz input pm2.5: 567\n",
      "应该打开空气净化器，戴防雾霾口罩\n"
     ]
    }
   ],
   "source": [
    "#练习 3：写程序，能够根据北京雾霾PM2.5数值给出对应的防护建议。如当PM2.5数值大于500，则应该打开空气净化器，戴防雾霾口罩等。\n",
    "n=int(input('plz input pm2.5: '))\n",
    "if n>500:\n",
    "    print ('应该打开空气净化器，戴防雾霾口罩')\n",
    "else:\n",
    "    print('good weather,good day!')"
   ]
  },
  {
   "cell_type": "code",
   "execution_count": 4,
   "metadata": {
    "collapsed": false
   },
   "outputs": [
    {
     "name": "stdout",
     "output_type": "stream",
     "text": [
      "plz input a wordtomato\n",
      "tomatoes\n"
     ]
    }
   ],
   "source": [
    "#练习 4：英文单词单数转复数，要求输入一个英文动词（单数形式），能够得到其复数形式，\n",
    "#或给出单数转复数形式的建议（提示，some_string.endswith(some_letter)函数可以判断某字符串结尾字符，\n",
    "word=str(input('plz input a word'))\n",
    "if(word.endswith('ch') or word.endswith('sh') or word.endswith('o') or word.endswith('x') or word.endswith('s')  ):\n",
    "    print(word,'es',sep='')\n",
    "else:\n",
    "    print(word,'s',sep='')"
   ]
  },
  {
   "cell_type": "code",
   "execution_count": 10,
   "metadata": {
    "collapsed": false
   },
   "outputs": [
    {
     "name": "stdout",
     "output_type": "stream",
     "text": [
      "plz input a num : 46\n",
      "plz input a num : 46\n",
      "plz input a num end with 10086 : 456\n",
      "plz input a num end with 10086 : 235\n",
      "plz input a num end with 10086 : 678\n",
      "plz input a num end with 10086 : 46\n",
      "plz input a num end with 10086 : 9864\n",
      "plz input a num end with 10086 : 10086\n",
      "the second num is :  9864\n"
     ]
    }
   ],
   "source": [
    "max_num=int(input('plz input a num : '))\n",
    "sec_num=int(input('plz input a num : '))\n",
    "if sec_num > max_num:\n",
    "    sec_num.max_num=max_num,sec_num\n",
    "    \n",
    "number=None\n",
    "while number != 10086:\n",
    "    number=int(input('plz input a num end with 10086 : '))\n",
    "    if number > max_num:\n",
    "        sec_num=max_num\n",
    "        max_num=number\n",
    "    elif number > sec_num:\n",
    "        sec_num=number\n",
    "    else:\n",
    "        pass\n",
    "    \n",
    "print ('the second num is : ',sec_num)"
   ]
  },
  {
   "cell_type": "code",
   "execution_count": null,
   "metadata": {
    "collapsed": true
   },
   "outputs": [],
   "source": []
  }
 ],
 "metadata": {
  "kernelspec": {
   "display_name": "Python 3",
   "language": "python",
   "name": "python3"
  },
  "language_info": {
   "codemirror_mode": {
    "name": "ipython",
    "version": 3
   },
   "file_extension": ".py",
   "mimetype": "text/x-python",
   "name": "python",
   "nbconvert_exporter": "python",
   "pygments_lexer": "ipython3",
   "version": "3.6.0"
  }
 },
 "nbformat": 4,
 "nbformat_minor": 2
}
