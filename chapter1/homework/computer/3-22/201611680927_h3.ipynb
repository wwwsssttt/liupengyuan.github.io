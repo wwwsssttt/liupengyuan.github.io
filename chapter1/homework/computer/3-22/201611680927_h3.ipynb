{
 "cells": [
  {
   "cell_type": "code",
   "execution_count": 1,
   "metadata": {
    "collapsed": false,
    "deletable": true,
    "editable": true
   },
   "outputs": [
    {
     "name": "stdout",
     "output_type": "stream",
     "text": [
      "请输入要输入的整数个数，回车结束。10\n",
      "请输入一个整数，回车结束1\n",
      "请输入一个整数，回车结束5\n",
      "请输入一个整数，回车结束8\n",
      "请输入一个整数，回车结束9\n",
      "请输入一个整数，回车结束4\n",
      "请输入一个整数，回车结束3\n",
      "请输入一个整数，回车结束6\n",
      "请输入一个整数，回车结束8\n",
      "请输入一个整数，回车结束4\n",
      "请输入一个整数，回车结束20\n",
      "次大值是： 9\n"
     ]
    }
   ],
   "source": [
    "m = int(input('请输入要输入的整数个数，回车结束。'))\n",
    "i=1\n",
    "max_number = int(input('请输入一个整数，回车结束'))\n",
    "submax_number=max_number\n",
    "while i < m:\n",
    "    i += 1\n",
    "    n = int(input('请输入一个整数，回车结束'))\n",
    "    if n > max_number:\n",
    "        submax_number=max_number\n",
    "        max_number = n\n",
    "print('次大值是：', submax_number)"
   ]
  }
 ],
 "metadata": {
  "kernelspec": {
   "display_name": "Python 3",
   "language": "python",
   "name": "python3"
  },
  "language_info": {
   "codemirror_mode": {
    "name": "ipython",
    "version": 3
   },
   "file_extension": ".py",
   "mimetype": "text/x-python",
   "name": "python",
   "nbconvert_exporter": "python",
   "pygments_lexer": "ipython3",
   "version": "3.6.0"
  }
 },
 "nbformat": 4,
 "nbformat_minor": 2
}
