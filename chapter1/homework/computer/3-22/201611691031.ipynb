{
 "cells": [
  {
   "cell_type": "code",
   "execution_count": 4,
   "metadata": {
    "collapsed": false
   },
   "outputs": [
    {
     "name": "stdout",
     "output_type": "stream",
     "text": [
      "请输入要输入的整数个数5\n",
      "请输入一个整数4\n",
      "请输入一个整数7\n",
      "请输入一个整数8\n",
      "请输入一个整数0\n",
      "请输入一个整数5\n",
      "次大值是 7\n"
     ]
    }
   ],
   "source": [
    "m=int(input('请输入要输入的整数个数'))\n",
    "max=int(input('请输入一个整数'))\n",
    "i=1\n",
    "max1=0\n",
    "while i<m:\n",
    "    i+=1\n",
    "    n=int(input('请输入一个整数'))\n",
    "    if n>max:\n",
    "        max1=max\n",
    "        max=n\n",
    "    if n<max:\n",
    "        if n>max1:\n",
    "            max1=n\n",
    "print('次大值是',max1)\n",
    "        \n",
    "    \n"
   ]
  },
  {
   "cell_type": "code",
   "execution_count": null,
   "metadata": {
    "collapsed": true
   },
   "outputs": [],
   "source": []
  }
 ],
 "metadata": {
  "kernelspec": {
   "display_name": "Python 3",
   "language": "python",
   "name": "python3"
  },
  "language_info": {
   "codemirror_mode": {
    "name": "ipython",
    "version": 3
   },
   "file_extension": ".py",
   "mimetype": "text/x-python",
   "name": "python",
   "nbconvert_exporter": "python",
   "pygments_lexer": "ipython3",
   "version": "3.6.0"
  }
 },
 "nbformat": 4,
 "nbformat_minor": 2
}
