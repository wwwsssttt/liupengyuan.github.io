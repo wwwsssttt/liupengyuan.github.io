{
 "cells": [
  {
   "cell_type": "code",
   "execution_count": 8,
   "metadata": {
    "collapsed": false
   },
   "outputs": [
    {
     "name": "stdout",
     "output_type": "stream",
     "text": [
      "please enter your name.\n",
      "jiang\n",
      "please enter your birth monthes\n",
      "6\n",
      "please enter your birth days\n",
      "26\n",
      "jiang you are cancer\n"
     ]
    }
   ],
   "source": [
    "print('please enter your name.')\n",
    "a= str(input())\n",
    "print('please enter your birth monthes')\n",
    "b= int(input())\n",
    "print('please enter your birth days')\n",
    "c=int(input())\n",
    "if b==1:\n",
    "    if c<=20:\n",
    "        print(a,'you are capricron')\n",
    "    else:\n",
    "        print(a,'you are aquarius')\n",
    "elif b==2:\n",
    "    if c<=19:\n",
    "        print(a,'you are aquarius')\n",
    "    else:\n",
    "        print(a,'you are pisces')\n",
    "elif b==3:\n",
    "    if c<=21:\n",
    "        print(a,'you are pisces')\n",
    "    else:\n",
    "        print(a,'you are aries')\n",
    "elif b==4:\n",
    "    if c<=20:\n",
    "        print(a,'you are aries')\n",
    "    else:\n",
    "        print(a,'you are taurus')\n",
    "elif b==5:\n",
    "    if c<=22:\n",
    "        print(a,'you are taurus')\n",
    "    else:\n",
    "        print(a,'you are gemini')\n",
    "elif b==6:\n",
    "    if c<=21:\n",
    "        print(a,'you are gemini')\n",
    "    else:\n",
    "        print(a,'you are cancer')\n",
    "elif b==7:\n",
    "    if c<=22:\n",
    "        print(a,'you are cancer')\n",
    "    else:\n",
    "        print(a,'you are leo')\n",
    "elif b==8:\n",
    "    if c<=24:\n",
    "        print(a,'you are leo')\n",
    "    else:\n",
    "        print(a,'you are virgo')\n",
    "elif b==9:\n",
    "    if c<=23:\n",
    "        print(a,'you are virgo')\n",
    "    else:\n",
    "        print(a,'libra')\n",
    "elif b==10:\n",
    "    if c<=23:\n",
    "        print(a,'you are libra')\n",
    "    else:\n",
    "        print(a,'you are scorpio')\n",
    "elif b==11:\n",
    "    if c<=23:\n",
    "        print(a,'you are scorpio')\n",
    "    else:\n",
    "        print(a,'you are sagittarius')\n",
    "else:\n",
    "    if c<=21:\n",
    "        print(a,'you are sagittariu')\n",
    "    else:\n",
    "        print(a,'you are capricron')"
   ]
  },
  {
   "cell_type": "code",
   "execution_count": null,
   "metadata": {
    "collapsed": false
   },
   "outputs": [],
   "source": []
  },
  {
   "cell_type": "code",
   "execution_count": null,
   "metadata": {
    "collapsed": true
   },
   "outputs": [],
   "source": []
  },
  {
   "cell_type": "code",
   "execution_count": null,
   "metadata": {
    "collapsed": true
   },
   "outputs": [],
   "source": []
  }
 ],
 "metadata": {
  "kernelspec": {
   "display_name": "Python 3",
   "language": "python",
   "name": "python3"
  },
  "language_info": {
   "codemirror_mode": {
    "name": "ipython",
    "version": 3
   },
   "file_extension": ".py",
   "mimetype": "text/x-python",
   "name": "python",
   "nbconvert_exporter": "python",
   "pygments_lexer": "ipython3",
   "version": "3.6.0"
  }
 },
 "nbformat": 4,
 "nbformat_minor": 2
}
