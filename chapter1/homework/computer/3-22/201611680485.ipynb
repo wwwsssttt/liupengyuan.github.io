{
 "cells": [
  {
   "cell_type": "code",
   "execution_count": 5,
   "metadata": {
    "collapsed": false
   },
   "outputs": [
    {
     "name": "stdout",
     "output_type": "stream",
     "text": [
      "请输入您想输入的整数个数，回车结束5\n",
      "请输入一个整数，回车结束2\n",
      "请输入一个整数，回车结束4\n",
      "请输入一个整数，回车结束5\n",
      "请输入一个整数，回车结束1\n",
      "请输入一个整数，回车结束3\n",
      "第二大的值是： 4\n"
     ]
    }
   ],
   "source": [
    "x = int(input('请输入您想输入的整数个数，回车结束'))\n",
    "max_number = int(input('请输入一个整数，回车结束'))\n",
    "\n",
    "i = 1\n",
    "while i < x:\n",
    "    i += 1\n",
    "    n = int(input('请输入一个整数，回车结束'))\n",
    "    if n > max_number:\n",
    "        t = max_number\n",
    "        max_number = n\n",
    "        sec_max = t\n",
    "        \n",
    "print('第二大的值是：', sec_max ) "
   ]
  }
 ],
 "metadata": {
  "kernelspec": {
   "display_name": "Python 3",
   "language": "python",
   "name": "python3"
  },
  "language_info": {
   "codemirror_mode": {
    "name": "ipython",
    "version": 3
   },
   "file_extension": ".py",
   "mimetype": "text/x-python",
   "name": "python",
   "nbconvert_exporter": "python",
   "pygments_lexer": "ipython3",
   "version": "3.6.0"
  }
 },
 "nbformat": 4,
 "nbformat_minor": 2
}
