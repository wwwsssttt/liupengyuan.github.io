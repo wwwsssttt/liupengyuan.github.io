{
 "cells": [
  {
   "cell_type": "code",
   "execution_count": 4,
   "metadata": {
    "collapsed": false
   },
   "outputs": [
    {
     "name": "stdout",
     "output_type": "stream",
     "text": [
      "please enter an int \n",
      "1\n",
      "please enter an int,and the int !=0\n",
      "3\n",
      "please enter 1 means 乘法 2 means 加法 or 3 means取余 or others means m整除n\n",
      "3\n",
      "3 1\n"
     ]
    }
   ],
   "source": [
    "print('please enter an int ')\n",
    "m=int(input())\n",
    "print('please enter an int,and the int !=0')\n",
    "n=int(input())\n",
    "print('please enter 1 means 乘法 2 means 加法 or 3 means取余 or others means m整除n')\n",
    "a=int(input())\n",
    "if a==1:\n",
    "    if m>=n:\n",
    "        c=1\n",
    "        b=n\n",
    "        while b<=m:\n",
    "            c=c*b\n",
    "            b=b+1\n",
    "        print('1',c)\n",
    "    else:\n",
    "        c=1\n",
    "        b=m\n",
    "        while b<=n:\n",
    "            c=c*b\n",
    "            b=b+1\n",
    "        print('1',c)\n",
    "elif a==2:\n",
    "    if m>=n:\n",
    "        i=m-n\n",
    "    else:\n",
    "        i=n-m\n",
    "    x=(m+n)*(i+1)/2\n",
    "    print('2',x)\n",
    "elif a==3:\n",
    "    k=m%n\n",
    "    print('3',k)\n",
    "else:\n",
    "    z=int(m/n)\n",
    "    print('others',z)\n",
    "    "
   ]
  },
  {
   "cell_type": "code",
   "execution_count": null,
   "metadata": {
    "collapsed": true
   },
   "outputs": [],
   "source": []
  },
  {
   "cell_type": "code",
   "execution_count": null,
   "metadata": {
    "collapsed": true
   },
   "outputs": [],
   "source": []
  }
 ],
 "metadata": {
  "kernelspec": {
   "display_name": "Python 3",
   "language": "python",
   "name": "python3"
  },
  "language_info": {
   "codemirror_mode": {
    "name": "ipython",
    "version": 3
   },
   "file_extension": ".py",
   "mimetype": "text/x-python",
   "name": "python",
   "nbconvert_exporter": "python",
   "pygments_lexer": "ipython3",
   "version": "3.6.0"
  }
 },
 "nbformat": 4,
 "nbformat_minor": 2
}
