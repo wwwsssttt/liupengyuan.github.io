{
 "cells": [
  {
   "cell_type": "code",
   "execution_count": 4,
   "metadata": {
    "collapsed": false
   },
   "outputs": [
    {
     "name": "stdout",
     "output_type": "stream",
     "text": [
      "请输入需输入整数个数：5\n",
      "请输入一个整数：6\n",
      "请输入一个整数：7\n",
      "请输入一个整数：3\n",
      "请输入一个整数：4\n",
      "请输入一个整数：8\n",
      "7\n"
     ]
    }
   ],
   "source": [
    "a=int(input('请输入需输入整数个数：'))\n",
    "max=int(input('请输入一个整数：'))\n",
    "sec=int(input('请输入一个整数：'))\n",
    "if max<sec:\n",
    "    b=max\n",
    "    max=sec\n",
    "    sec=b\n",
    "i=1\n",
    "while i<(a-1):\n",
    "    i=i+1\n",
    "    n=int(input('请输入一个整数：'))\n",
    "    if n>=max:\n",
    "        c=max\n",
    "        max=n\n",
    "        sec=c\n",
    "    elif n<max and n>=sec:\n",
    "        sec=n\n",
    "print(sec)"
   ]
  },
  {
   "cell_type": "code",
   "execution_count": null,
   "metadata": {
    "collapsed": true
   },
   "outputs": [],
   "source": []
  }
 ],
 "metadata": {
  "kernelspec": {
   "display_name": "Python 3",
   "language": "python",
   "name": "python3"
  },
  "language_info": {
   "codemirror_mode": {
    "name": "ipython",
    "version": 3
   },
   "file_extension": ".py",
   "mimetype": "text/x-python",
   "name": "python",
   "nbconvert_exporter": "python",
   "pygments_lexer": "ipython3",
   "version": "3.6.0"
  }
 },
 "nbformat": 4,
 "nbformat_minor": 2
}
