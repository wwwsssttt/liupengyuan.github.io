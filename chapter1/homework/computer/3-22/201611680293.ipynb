{
 "cells": [
  {
   "cell_type": "code",
   "execution_count": 2,
   "metadata": {
    "collapsed": false
   },
   "outputs": [
    {
     "name": "stdout",
     "output_type": "stream",
     "text": [
      "请输入你的名字，以回车结束。Diana\n",
      "请输入你的出生日期，以回车结束。5.14\n",
      "Diana 你是金牛座\n"
     ]
    }
   ],
   "source": [
    "name=input('请输入你的名字，以回车结束。')\n",
    "d=float(input('请输入你的出生日期，以回车结束。'))\n",
    "\n",
    "if d>=3.21 and d<=4.19:\n",
    "    print(name,'你是白羊座')\n",
    "elif d>=4.20 and d<=5.20:\n",
    "    print(name,'你是金牛座')\n",
    "elif d>=5.21 and d<=6.21:\n",
    "    print(name,'你是双子座')\n",
    "elif d>=6.22 and d<=7.22:\n",
    "    print(name,'你是巨蟹座')\n",
    "elif d>=7.23 and d<=8.22:\n",
    "    print(name,'你是狮子座')\n",
    "elif d>=8.23 and d<=9.22:\n",
    "    print(name,'你是处女座')\n",
    "elif d>=9.23 and d<=10.23:\n",
    "    print(name,'你是白天秤座')\n",
    "elif d>=10.24 and d<=11.22:\n",
    "    print(name,'你是天蝎座')\n",
    "elif d>=11.23 and d<=12.21:\n",
    "    print(name,'你是射手座')\n",
    "elif d>=12.22 and d<=1.19:\n",
    "    print(name,'你是摩羯座')\n",
    "elif d>=1.20 and d<=2.18:\n",
    "    print(name,'你是水瓶座')\n",
    "elif d>=2.19 and d<=3.20:\n",
    "    print(name,'你是双鱼座')"
   ]
  },
  {
   "cell_type": "code",
   "execution_count": 3,
   "metadata": {
    "collapsed": false
   },
   "outputs": [
    {
     "name": "stdout",
     "output_type": "stream",
     "text": [
      "输入一个整数m3\n",
      "输入一个整数n大于m6\n",
      "求和输入1，乘积输入2，求余数输入3，否则计算m整除n，以回车结束。\n",
      "2\n",
      "360\n"
     ]
    }
   ],
   "source": [
    "m= int (input('输入一个整数m'))\n",
    "n= int (input('输入一个整数n大于m'))\n",
    "print('求和输入1，乘积输入2，求余数输入3，否则计算m整除n，以回车结束。')\n",
    "x= int (input())\n",
    "if x==1:\n",
    "    i = m\n",
    "    total1 = 0\n",
    "    while i < (n + 1):\n",
    "        total1 += i\n",
    "        i += 1\n",
    "    print(total1)\n",
    "elif x==2:\n",
    "    i = m\n",
    "    total2 = 1\n",
    "    while i < (n + 1):\n",
    "        total2 *= i\n",
    "        i += 1\n",
    "    print(total2)\n",
    "elif x==3:\n",
    "    y = n%m\n",
    "    print(y)\n",
    "else:\n",
    "    z=n//m\n",
    "    print(z)"
   ]
  },
  {
   "cell_type": "code",
   "execution_count": 19,
   "metadata": {
    "collapsed": false
   },
   "outputs": [
    {
     "name": "stdout",
     "output_type": "stream",
     "text": [
      "请输入PM2_5的数值，以回车结束。600\n",
      "应打开空气净化器，戴防雾霾口罩。\n"
     ]
    }
   ],
   "source": [
    "PM2_5 = int(input('请输入PM2_5的数值，以回车结束。'))\n",
    "if PM2_5>500:\n",
    "    print('应打开空气净化器，戴防雾霾口罩。')\n",
    "elif PM2_5>250:\n",
    "    print('应戴口罩。')\n",
    "else:\n",
    "    print('多喝水。')"
   ]
  },
  {
   "cell_type": "code",
   "execution_count": 16,
   "metadata": {
    "collapsed": false
   },
   "outputs": [
    {
     "name": "stdout",
     "output_type": "stream",
     "text": [
      "\n",
      "\n"
     ]
    }
   ],
   "source": [
    "print('\\n')"
   ]
  },
  {
   "cell_type": "code",
   "execution_count": 4,
   "metadata": {
    "collapsed": false
   },
   "outputs": [
    {
     "name": "stdout",
     "output_type": "stream",
     "text": [
      "请输入英文单词，以回车结束apple\n",
      "复数为 apple s\n"
     ]
    }
   ],
   "source": [
    "m=str(input('请输入英文单词，以回车结束'))\n",
    "if m.endswith('s') or m.endswith('x') or m.endswith('ch'):\n",
    "    print('复数为',m,'es')\n",
    "elif m.endswith('y'):\n",
    "    print('复数把y变为i再加es')\n",
    "else:\n",
    "    print('复数为',m,'s')\n",
    "    \n"
   ]
  },
  {
   "cell_type": "code",
   "execution_count": 6,
   "metadata": {
    "collapsed": false
   },
   "outputs": [
    {
     "name": "stdout",
     "output_type": "stream",
     "text": [
      "plz input a number77\n",
      "plz input a number7\n",
      "plz input a number777\n",
      "plz input a number0\n",
      "The second max number is: 77\n"
     ]
    }
   ],
   "source": [
    "max_num= int(input('plz input a number'))\n",
    "smax_num= int(input('plz input a number'))\n",
    "if smax_num>=max_num:\n",
    "    smax_num,max_num = max_num,smax_num\n",
    "    \n",
    "number = None\n",
    "while number !=0:\n",
    "    number=int(input('plz input a number'))\n",
    "    if number>=max_num:\n",
    "        smax_num=max_num\n",
    "        max_num=number\n",
    "    elif number>smax_num:\n",
    "        smax_num=number\n",
    "    else:\n",
    "        pass\n",
    "    \n",
    "print('The second max number is:',smax_num)"
   ]
  }
 ],
 "metadata": {
  "kernelspec": {
   "display_name": "Python 3",
   "language": "python",
   "name": "python3"
  },
  "language_info": {
   "codemirror_mode": {
    "name": "ipython",
    "version": 3
   },
   "file_extension": ".py",
   "mimetype": "text/x-python",
   "name": "python",
   "nbconvert_exporter": "python",
   "pygments_lexer": "ipython3",
   "version": "3.6.0"
  }
 },
 "nbformat": 4,
 "nbformat_minor": 2
}
