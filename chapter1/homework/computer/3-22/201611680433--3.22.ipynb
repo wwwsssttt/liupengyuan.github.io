{
 "cells": [
  {
   "cell_type": "code",
   "execution_count": null,
   "metadata": {
    "collapsed": false
   },
   "outputs": [],
   "source": [
    "name=input('请输入你的姓名,以回车结束。')\n",
    "\n",
    "month=int(input('请输入出生的月份，以回车结束。'))\n",
    "day=int(input('请输入出生的日期，以回车结束。'))\n",
    "\n",
    "if (month==3 and day>=21) or (month==4 and day<=19):\n",
    "    print(name,'你是非常有性格的白羊座')\n",
    "elif (month==4&day>=20)|(month==5&day<=20):\n",
    "    print(name,'你是非常有性格的金牛座')\n",
    "elif (month==5&day>=21)|(month==6&day<=21):\n",
    "    print(name,'你是非常有性格的双子座')\n",
    "elif (month==6&day>=22)|(month==7&day<=22):\n",
    "    print(name,'你是非常有性格的巨蟹座')\n",
    "elif (month==7&day>=23)|(month==8&day<=22):\n",
    "    print(name,'你是非常有性格的狮子座')\n",
    "elif (month==8&day>=23)|(month==9&day<=22):\n",
    "    print(name,'你是非常有性格的处女座')\n",
    "elif (month==9&day>=23)|(month==10&day<=23):\n",
    "    print(name,'你是非常有性格的天秤座')\n",
    "elif (month==10&day>=24)|(month==11&day<=22):\n",
    "    print(name,'你是非常有性格的天蝎座')\n",
    "elif (month==11&day>=23)|(month==12&day<=21):\n",
    "    print(name,'你是非常有性格的射手座')\n",
    "elif (month==12&day>=22)|(month==1&day<=19):\n",
    "    print(name,'你是非常有性格的摩羯座')\n",
    "elif (month==1&day>=20)|(month==2&day<=18):\n",
    "    print(name,'你是非常有性格的水瓶座')\n",
    "elif (month==2&day>=19|month==3&day<=20):\n",
    "    print(name,'你是非常有性格的双鱼座')"
   ]
  },
  {
   "cell_type": "code",
   "execution_count": 2,
   "metadata": {
    "collapsed": false
   },
   "outputs": [
    {
     "name": "stdout",
     "output_type": "stream",
     "text": [
      "请输入整数m，以回车结束。6\n",
      "请输入整数n(不为0)，以回车结束。8\n",
      "如果求和请输入1，如果求积请输入2，如果求m除以n的余数请输入3，如果求m整除n请输入4:1\n",
      "和为： 21\n"
     ]
    }
   ],
   "source": [
    "sum=0\n",
    "ji=1\n",
    "\n",
    "m=int(input('请输入整数m，以回车结束。'))\n",
    "n=int(input('请输入整数n(不为0)，以回车结束。'))\n",
    "j=int(input('如果求和请输入1，如果求积请输入2，如果求m除以n的余数请输入3，如果求m整除n请输入4:'))\n",
    "\n",
    "if j==1:\n",
    "    if m>n:\n",
    "        while n<=m:\n",
    "            sum+=n\n",
    "            n+=1\n",
    "        print('和为：',sum)\n",
    "    elif m<n:\n",
    "        while m<=n:\n",
    "            sum+=m\n",
    "            m+=1\n",
    "        print('和为：',sum)\n",
    "    else: print('和为：',m)\n",
    "elif j==2:\n",
    "    if m>n:\n",
    "        while n<=m:\n",
    "            ji*=n\n",
    "            n+=1\n",
    "        print('积为：',ji)\n",
    "    elif m<n:\n",
    "        while m<=n:\n",
    "            ji*=m\n",
    "            m+=1\n",
    "        print('积为：',ji)\n",
    "    else: print('积为：',m)\n",
    "elif j==3:\n",
    "    print('m除以n的余数为：',m%n)\n",
    "elif j==4:\n",
    "    print('m整除n为：',m//n)"
   ]
  },
  {
   "cell_type": "code",
   "execution_count": 3,
   "metadata": {
    "collapsed": false
   },
   "outputs": [
    {
     "name": "stdout",
     "output_type": "stream",
     "text": [
      "请输入今日pm2.5数值：200\n",
      "有污染，减少出行。\n"
     ]
    }
   ],
   "source": [
    "m=int(input('请输入今日pm2.5数值：'))\n",
    "\n",
    "if m<=100:\n",
    "    print('空气质量非常棒，多出去走走。')\n",
    "elif m>100 & m<=200:\n",
    "    print('有污染，减少出行。')\n",
    "elif m>200 & m<=300:\n",
    "    print('污染严重，出行佩戴口罩。')\n",
    "else:\n",
    "    print('有毒气体，做好防护工作。')"
   ]
  },
  {
   "cell_type": "code",
   "execution_count": 5,
   "metadata": {
    "collapsed": false
   },
   "outputs": [
    {
     "name": "stdout",
     "output_type": "stream",
     "text": [
      "\n",
      "\n",
      "\n"
     ]
    }
   ],
   "source": [
    "print('\\n')\n",
    "print(sep='  ')"
   ]
  },
  {
   "cell_type": "code",
   "execution_count": 10,
   "metadata": {
    "collapsed": false
   },
   "outputs": [
    {
     "name": "stdout",
     "output_type": "stream",
     "text": [
      "请输入整数，以-1结束。5\n",
      "请输入整数，以-1结束。8\n",
      "请输入整数，以-1结束。9\n",
      "请输入整数，以-1结束。4\n",
      "请输入整数，以-1结束。6\n",
      "请输入整数，以-1结束。-1\n",
      "次大值为： 8\n"
     ]
    }
   ],
   "source": [
    "max=0\n",
    "cimax=0\n",
    "\n",
    "a=int(input('请输入整数，以-1结束。'))\n",
    "max=a\n",
    "cimax=a\n",
    "\n",
    "a=int(input('请输入整数，以-1结束。'))\n",
    "while a!=-1:\n",
    "    if max==cimax:\n",
    "        if max<=a:\n",
    "            max=a\n",
    "        else:\n",
    "            cimax=a\n",
    "    else:\n",
    "        if max>a & a>cimax:\n",
    "            cimax=a\n",
    "        elif max<a:\n",
    "            cimax=max\n",
    "            max=a\n",
    "    a=int(input('请输入整数，以-1结束。'))\n",
    "print('次大值为：',cimax)"
   ]
  }
 ],
 "metadata": {
  "kernelspec": {
   "display_name": "Python 3",
   "language": "python",
   "name": "python3"
  },
  "language_info": {
   "codemirror_mode": {
    "name": "ipython",
    "version": 3
   },
   "file_extension": ".py",
   "mimetype": "text/x-python",
   "name": "python",
   "nbconvert_exporter": "python",
   "pygments_lexer": "ipython3",
   "version": "3.6.0"
  }
 },
 "nbformat": 4,
 "nbformat_minor": 2
}
