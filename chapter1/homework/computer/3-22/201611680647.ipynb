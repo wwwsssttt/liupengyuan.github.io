{
 "cells": [
  {
   "cell_type": "code",
   "execution_count": null,
   "metadata": {
    "collapsed": false,
    "deletable": true,
    "editable": true
   },
   "outputs": [],
   "source": [
    "name = input('输入您的真实姓名')\n",
    "date = int (input('输入您的生日 如5.6 输入0506:'))\n",
    "if 101<=date<=119 or 1222<=date <=1231:\n",
    "    print('你是非常有性格的摩羯座')\n",
    "elif date>119 and date <219:\n",
    "    print('你是非常有性格的水瓶座')\n",
    "elif date>218 and date <321:\n",
    "    print('你是非常有性格的双鱼座')\n",
    "elif date>320 and date <420:\n",
    "    print('你是非常有性格的白羊座')\n",
    "elif date>419 and date <521:\n",
    "    print('你是非常有性格的金牛座')\n",
    "elif date>520 and date <621:\n",
    "    print('你是非常有性格的双子座')\n",
    "elif date>620 and date <722:\n",
    "    print('你是非常有性格的巨蟹座')\n",
    "elif date>721 and date <823:\n",
    "    print('你是非常有性格的狮子座')\n",
    "elif date>822 and date <923:\n",
    "    print('你是非常有性格的处女座')\n",
    "elif date>922 and date <1023:\n",
    "    print('你是非常有性格的天秤座')\n",
    "elif date>1022 and date <1122:\n",
    "    print('你是非常有性格的天蝎座')\n",
    "elif date>1121 and date <1222:\n",
    "    print('你是非常有性格的射手座')"
   ]
  },
  {
   "cell_type": "code",
   "execution_count": 1,
   "metadata": {
    "collapsed": false,
    "deletable": true,
    "editable": true
   },
   "outputs": [
    {
     "name": "stdout",
     "output_type": "stream",
     "text": [
      "输入一个整数m2\n",
      "输入一个整数n大于m4\n",
      "求和输1，乘积输2，求余数输3，m整除n输4\n",
      "3\n",
      "0\n"
     ]
    }
   ],
   "source": [
    "m= int (input('输入一个整数m'))\n",
    "n= int (input('输入一个整数n大于m'))\n",
    "print('求和输1，乘积输2，求余数输3，m整除n输4')\n",
    "x= int (input())\n",
    "if x==1:\n",
    "    i = m\n",
    "    total1 = 0\n",
    "    while i < (n + 1):\n",
    "        total1 += i\n",
    "        i += 1\n",
    "    print(total1)\n",
    "elif x==2:\n",
    "    i = m\n",
    "    total2 = 1\n",
    "    while i < (n + 1):\n",
    "        total2 *= i\n",
    "        i += 1\n",
    "    print(total2)\n",
    "elif x==3:\n",
    "    y = n%m\n",
    "    print(y)\n",
    "elif x==4:\n",
    "    z=n//m\n",
    "    print(z)"
   ]
  },
  {
   "cell_type": "code",
   "execution_count": null,
   "metadata": {
    "collapsed": false,
    "deletable": true,
    "editable": true
   },
   "outputs": [],
   "source": [
    "PM = int (input ('北京雾霾PM2.5数值'))\n",
    "if PM > 500:\n",
    "    print('应该打开空气净化器，戴防雾霾口罩等')"
   ]
  },
  {
   "cell_type": "code",
   "execution_count": null,
   "metadata": {
    "collapsed": false,
    "deletable": true,
    "editable": true
   },
   "outputs": [],
   "source": [
    "some_string =input('请输入一个英文动词单词')\n",
    "if some_string.endswith('y'):\n",
    "    print('去y改ies')\n",
    "elif some_string.endswith('f'):\n",
    "    print('去f改ives')\n",
    "elif some_string.endswith('s') or some_string.endswith('h'):\n",
    "    print('加es')\n",
    "else :\n",
    "    print('直接加s')"
   ]
  },
  {
   "cell_type": "code",
   "execution_count": null,
   "metadata": {
    "collapsed": true,
    "deletable": true,
    "editable": true
   },
   "outputs": [],
   "source": [
    "print()"
   ]
  },
  {
   "cell_type": "code",
   "execution_count": null,
   "metadata": {
    "collapsed": false,
    "deletable": true,
    "editable": true
   },
   "outputs": [],
   "source": [
    "m= int (input('输入一个整数m'))\n",
    "n= int (input('输入一个整数n'))\n",
    "if n>=m:\n",
    "    max1=n\n",
    "    min1=m\n",
    "else:\n",
    "    max1=m\n",
    "    min2=n\n",
    "while (true):\n",
    "    x= int (input('输入一个整数x'))\n",
    "    y= int (input('输入一个整数y'))\n",
    "    if x>=y:\n",
    "        max1=x\n",
    "        min1=y\n",
    "    else:\n",
    "        max1=y\n",
    "        min2=x\n",
    "    if max1>max2>min2>min1 or max1>max2>min1>min2:\n",
    "        min1=max2\n",
    "    elif max2>min2>max1>min1:\n",
    "        max1=max2\n",
    "        min1=min2\n",
    "    elif max2>max1>min2>min1:\n",
    "        max1=t\n",
    "        max1=max2\n",
    "        min1=t\n",
    "print('次大数为',min1)"
   ]
  }
 ],
 "metadata": {
  "kernelspec": {
   "display_name": "Python 3",
   "language": "python",
   "name": "python3"
  }
 },
 "nbformat": 4,
 "nbformat_minor": 2
}
