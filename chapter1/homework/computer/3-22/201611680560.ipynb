{
 "cells": [
  {
   "cell_type": "markdown",
   "metadata": {},
   "source": [
    "包含练习和作业，但是练习4不会做！"
   ]
  },
  {
   "cell_type": "code",
   "execution_count": null,
   "metadata": {
    "collapsed": true
   },
   "outputs": [],
   "source": [
    "#输出空行\n",
    "print('\\n')"
   ]
  },
  {
   "cell_type": "code",
   "execution_count": null,
   "metadata": {
    "collapsed": true
   },
   "outputs": [],
   "source": [
    "#输出次大值\n",
    "y = int(input('请输入要输入的整数个数，回车结束。'))\n",
    "m = int(input('请输入一个整数，回车结束'))\n",
    "n = int(input('请输入一个整数，回车结束'))\n",
    "i=1\n",
    "if m>=n:\n",
    "    while i<(y-1):\n",
    "        i+=1\n",
    "        x = int(input('请输入一个整数，回车结束'))\n",
    "        if x>m:\n",
    "            n=m\n",
    "            m=x\n",
    "        elif n<x<m:\n",
    "            n=x\n",
    "    print(n)\n",
    "else:\n",
    "    while i<(y-1):\n",
    "        i+=1\n",
    "        x = int(input('请输入一个整数，回车结束'))\n",
    "        if x>n:\n",
    "            m=n\n",
    "            n=x\n",
    "        elif m<x<n:\n",
    "            m=x\n",
    "    print(m)"
   ]
  },
  {
   "cell_type": "code",
   "execution_count": null,
   "metadata": {
    "collapsed": true
   },
   "outputs": [],
   "source": [
    "#练习1\n",
    "name=input(\"请输入姓名,以回车结束:\")\n",
    "date=float(input(\"请输入出生日期:\"))\n",
    "\n",
    "if  1.20 <= date <= 2.18:\n",
    "    print(name,\"你是可爱的水瓶座!\")\n",
    "elif 2.19 <= date <= 3.20:\n",
    "    print(name,\"你是可爱的双鱼座!\")\n",
    "elif 3.21 <= date <= 4.19:\n",
    "    print(name,\"你是可爱的白羊座!\")\n",
    "elif 4.20 <= date <= 5.20:\n",
    "    print(name,\"你是可爱的金牛座!\")\n",
    "elif 5.21 <= date <= 6.21:\n",
    "    print(name,\"你是可爱的双子座!\")\n",
    "elif 6.22 <= date <= 7.22:\n",
    "    print(name,\"你是可爱的巨蟹座!\")\n",
    "elif 7.23 <= date <= 8.22:\n",
    "    print(name,\"你是可爱的狮子座!\")\n",
    "elif 8.23 <= date <= 9.22:\n",
    "    print(name,\"你是可爱的处女座!\")\n",
    "elif 9.23 <= date <= 10.23:\n",
    "    print(name,\"你是可爱的天平座!\")\n",
    "elif 10.24 <= date <= 11.22:\n",
    "    print(name,\"你是可爱的天蝎座!\")\n",
    "elif 11.23 <= date <= 12.21:\n",
    "    print(name,\"你是可爱的射手座!\")\n",
    "else :\n",
    "    print(name,\"你是可爱的摩羯座!\")"
   ]
  },
  {
   "cell_type": "code",
   "execution_count": null,
   "metadata": {
    "collapsed": false
   },
   "outputs": [],
   "source": [
    "#练习2\n",
    "m=int(input(\"请输入一个整数,以回车结束:\"))\n",
    "n=int(input(\"请输入一个整数,以回车结束:\"))\n",
    "i=int(input(\"如果要计算从m到n的和输入1，如果要计算从m到n的积输入2，如果要计算m除以n的余数输入3，如果要计算m整除n的值输入4:\"))\n",
    "if i==1:\n",
    "    sum=0\n",
    "    if m<n:\n",
    "        while m<=n:\n",
    "            sum+=m\n",
    "            m+=1\n",
    "        print(sum)\n",
    "    else:\n",
    "         while n<=m:\n",
    "            sum+=n\n",
    "            n+=1\n",
    "         print(sum)\n",
    "elif i==2:\n",
    "    mul=1\n",
    "    if m<n:\n",
    "        while m<=n:\n",
    "            mul*=m\n",
    "            m+=1\n",
    "        print(mul)\n",
    "    else:\n",
    "         while n<=m:\n",
    "            mul*=n\n",
    "            n+=1\n",
    "         print(mul)\n",
    "elif i==3:\n",
    "    x=m%n\n",
    "    print(x)\n",
    "else:\n",
    "    y=m//n\n",
    "    print(y)\n"
   ]
  },
  {
   "cell_type": "code",
   "execution_count": null,
   "metadata": {
    "collapsed": true
   },
   "outputs": [],
   "source": [
    "#练习3\n",
    "n=int(input(\"请输入PM2.5指数，以回车结束：\"))\n",
    "if 0<=n<=50:\n",
    "    print(\"优，参加室外活动呼吸新鲜空气。\")\n",
    "elif 51<=n<=100:\n",
    "    print(\"良，可以进行正常室外活动。\")\n",
    "elif 101<=n<=150:\n",
    "    print(\"轻度污染，敏感人群减少户外活动。\")\n",
    "elif 151<=n<=200:\n",
    "    print(\"中度污染，佩戴口罩。\")\n",
    "elif 201<=n<=300:\n",
    "    print(\"重度污染，所有人适当减少外出。\")\n",
    "else:\n",
    "    print(\"严重污染，尽量不要留在室外，打开空气净化器。\")"
   ]
  },
  {
   "cell_type": "code",
   "execution_count": null,
   "metadata": {
    "collapsed": true
   },
   "outputs": [],
   "source": [
    "#练习4 不会做"
   ]
  }
 ],
 "metadata": {
  "kernelspec": {
   "display_name": "Python 3",
   "language": "python",
   "name": "python3"
  }
 },
 "nbformat": 4,
 "nbformat_minor": 2
}
