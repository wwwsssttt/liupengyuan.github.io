{
 "cells": [
  {
   "cell_type": "code",
   "execution_count": 1,
   "metadata": {
    "collapsed": false
   },
   "outputs": [
    {
     "name": "stdout",
     "output_type": "stream",
     "text": [
      "qing shu ru yi ge shu:5\n",
      "2\n",
      "5\n",
      "3\n",
      "8\n",
      "4\n",
      "4\n"
     ]
    }
   ],
   "source": [
    "max1=0\n",
    "mix=0\n",
    "number=int(input('qing shu ru yi ge shu:'))\n",
    "while number>0:\n",
    "    n=int(input())\n",
    "    if n > max1:\n",
    "        max1=n\n",
    "    elif n<max1 and n>mix:\n",
    "        mix=n\n",
    "    number=number-1\n",
    "print (n)"
   ]
  }
 ],
 "metadata": {
  "kernelspec": {
   "display_name": "Python 3",
   "language": "python",
   "name": "python3"
  },
  "language_info": {
   "codemirror_mode": {
    "name": "ipython",
    "version": 3
   },
   "file_extension": ".py",
   "mimetype": "text/x-python",
   "name": "python",
   "nbconvert_exporter": "python",
   "pygments_lexer": "ipython3",
   "version": "3.6.0"
  }
 },
 "nbformat": 4,
 "nbformat_minor": 2
}
