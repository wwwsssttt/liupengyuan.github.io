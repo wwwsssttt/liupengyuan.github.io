{
 "cells": [
  {
   "cell_type": "code",
   "execution_count": null,
   "metadata": {
    "collapsed": true,
    "deletable": true,
    "editable": true
   },
   "outputs": [],
   "source": [
    "#练习 1：写程序，可由键盘读入用户姓名例如Mr. right，让用户输入出生的月份与日期，判断用户星座，假设用户是金牛座，则输出，Mr. right，你是非常有性格的金牛座！。\n",
    "#练习 2：写程序，可由键盘读入两个整数m与n(n不等于0)，询问用户意图，如果要求和则计算从m到n的和输出，如果要乘积则计算从m到n的积并输出，如果要求余数则计算m除以n的余数的值并输出，否则则计算m整除n的值并输出。\n",
    "#练习 3：写程序，能够根据北京雾霾PM2.5数值给出对应的防护建议。如当PM2.5数值大于500，则应该打开空气净化器，戴防雾霾口罩等。\n",
    "#练习 4：英文单词单数转复数，要求输入一个英文动词（单数形式），能够得到其复数形式，或给出单数转复数形式的建议（提示，some_string.endswith(some_letter)函数可以判断某字符串结尾字符，可尝试运行：'myname'.endswith('me')，'liupengyuan'.endswith('n')`）。\n",
    "#尝试性练习：写程序，能够在屏幕上显示空行。\n",
    "#挑战性练习：写程序，由用户输入一些整数，能够得到几个整数中的次大值(第二大的值)并输出。"
   ]
  },
  {
   "cell_type": "code",
   "execution_count": 20,
   "metadata": {
    "collapsed": false,
    "deletable": true,
    "editable": true
   },
   "outputs": [
    {
     "name": "stdout",
     "output_type": "stream",
     "text": [
      "please input your name:Han\n",
      "please input your birthday :8.03\n",
      "Han ，你是热情开朗的狮子座！\n",
      "\n"
     ]
    }
   ],
   "source": [
    "#练习1  \n",
    "\n",
    "name=str(input('please input your name:'))\n",
    "date=float(input('please input your birthday :'))\n",
    "\n",
    "if(date>=1.20 and date<=2.18):\n",
    "    print (name,\"，你是创意十足的水瓶座！\\n\")\n",
    "elif(date>=2.19 and date<=3.20):\n",
    "    print (name,\"，你是善解人意的双鱼座！\\n\")\n",
    "elif(date>=3.21 and date<=4.19):\n",
    "    print (name,\"，你是坦白率真的白羊座！\\n\")\n",
    "elif(date>=4.20 and date<=5.20):\n",
    "    print (name,\"，你是个性十足的金牛座！\\n\")\n",
    "elif(date>=5.21 and date<=6.21):\n",
    "    print (name,\"，你是足智多谋的双子座！\\n\") \n",
    "elif(date>=6.22 and date<7.22):\n",
    "    print (name,\"，你是亲切温暖的巨蟹座！\\n\")\n",
    "elif(date>=7.23 and date<=8.22):\n",
    "    print (name,\"，你是热情开朗的狮子座！\\n\")\n",
    "elif(date>=8.23 and date<=9.22):\n",
    "    print (name,\"，你是勤奋努力的处女座！\\n\")\n",
    "elif(date>=9.23 and date<=10.23):\n",
    "    print (name,\"，你是能屈能伸的天秤座！\\n\")\n",
    "elif(date>=10.24 and date<=11.22):\n",
    "    print (name,\"，你是深谋远虑的天蝎座！\\n\")\n",
    "elif(date>=11.23 and date<=12.21):\n",
    "    print (name,\"，你是正直坦率的射手座！\\n\")\n",
    "else:\n",
    "    print (name,\"，你是谨慎谦逊的摩羯座！\\n\")\n",
    "    "
   ]
  },
  {
   "cell_type": "code",
   "execution_count": 7,
   "metadata": {
    "collapsed": false,
    "deletable": true,
    "editable": true
   },
   "outputs": [
    {
     "name": "stdout",
     "output_type": "stream",
     "text": [
      "请输入两个整数（第二个不可为0），每输入一个后请回车：\n",
      "20\n",
      "3\n",
      "请选择要进行的运算。并输入以下的运算符之一：he/ji/yushu：\n",
      "20 整除 3 的值为： 6\n"
     ]
    }
   ],
   "source": [
    "#练习 2：写程序，可由键盘读入两个整数m与n(n不等于0)，询问用户意图，如果要求和则计算从m到n的和输出，如果要乘积则计算从m到n的积并输出，如果要求余数则计算m除以n的余数的值并输出，否则则计算m整除n的值并输出。\n",
    "print(\"请输入两个整数（第二个不可为0），每输入一个后请回车：\")\n",
    "m=int(input())\n",
    "n=int(input())\n",
    "yunsuan=str(input(\"请选择要进行的运算。并输入以下的运算符之一：he/ji/yushu：\"))\n",
    "if(yunsuan=='he'):\n",
    "    result=m+n;\n",
    "    print (m,\"和\",n,\"的和为：\",result)\n",
    "elif(yunsuan=='ji'):\n",
    "    result=m*n;\n",
    "    print (m,\"和\",n,\"的积为：\",result)\n",
    "elif(yunsuan=='yushu'):\n",
    "    result=m%n;\n",
    "    print (m,\"除以\",n,\"的余数为：\",result)\n",
    "else:\n",
    "    result=m//n;\n",
    "    print (m,\"整除\",n,\"的值为：\",result)"
   ]
  },
  {
   "cell_type": "code",
   "execution_count": 11,
   "metadata": {
    "collapsed": false,
    "deletable": true,
    "editable": true
   },
   "outputs": [
    {
     "name": "stdout",
     "output_type": "stream",
     "text": [
      "请输入北京的PM2.5数值：160\n",
      "空气质量中度污染，您应该避免开窗通风，出行请戴防雾霾口罩\n"
     ]
    }
   ],
   "source": [
    "#练习 3：写程序，能够根据北京雾霾PM2.5数值给出对应的防护建议。如当PM2.5数值大于500，则应该打开空气净化器，戴防雾霾口罩等。\n",
    "num=int(input(\"请输入北京的PM2.5数值：\"))\n",
    "if(num>300):\n",
    "    print(\"空气质量严重污染，您应该打开空气净化器，戴防雾霾口罩。\")\n",
    "elif(num>200):\n",
    "    print(\"空气质量重度污染，您应该戴防雾霾口罩，并尽量减少外出。\")\n",
    "elif(num>150):\n",
    "    print(\"空气质量中度污染，您应该避免开窗通风，出行请戴防雾霾口罩\")\n",
    "elif(num>100):\n",
    "    print(\"空气质量轻度污染，您应该注意空气质量变化，适当开窗通风\")\n",
    "elif(num>50):\n",
    "    print(\"空气质量良好，您应该多开窗通风\")\n",
    "else:\n",
    "    print(\"空气质量为优，适合外出\")"
   ]
  },
  {
   "cell_type": "code",
   "execution_count": 2,
   "metadata": {
    "collapsed": false,
    "deletable": true,
    "editable": true
   },
   "outputs": [
    {
     "name": "stdout",
     "output_type": "stream",
     "text": [
      "请输入一个英文单词的单数形式happy\n",
      "复数形式为： happies\n"
     ]
    }
   ],
   "source": [
    "##练习 4：英文单词单数转复数，要求输入一个英文动词（单数形式），能够得到其复数形式，或给出单数转复数形式的建议（提示，some_string.endswith(some_letter)函数可以判断某字符串结尾字符，可尝试运行：'myname'.endswith('me')，'liupengyuan'.endswith('n')`）。\n",
    "verb=str(input(\"请输入一个英文单词的单数形式\"))\n",
    "\n",
    "if(verb.endswith('s') | verb.endswith('z') | verb.endswith('sh') | verb.endswith('ch')):\n",
    "   verb=verb+'es'\n",
    "elif(verb.endswith('y')):\n",
    "   verb=verb[:-1]+'ies'\n",
    "else:\n",
    "    verb=verb+'s'\n",
    "print (\"复数形式为：\",verb)"
   ]
  },
  {
   "cell_type": "code",
   "execution_count": 17,
   "metadata": {
    "collapsed": false,
    "deletable": true,
    "editable": true
   },
   "outputs": [
    {
     "name": "stdout",
     "output_type": "stream",
     "text": [
      "下面有一行空行\n",
      "\n",
      "下面有两行空行\n",
      "\n",
      "\n",
      "下面有三行空行\n",
      "\n",
      "\n",
      "\n",
      "以上。\n"
     ]
    }
   ],
   "source": [
    "#尝试性练习：写程序，能够在屏幕上显示空行。\n",
    "print (\"下面有一行空行\\n\\n下面有两行空行\\n\\n\\n下面有三行空行\\n\\n\\n\\n以上。\")"
   ]
  },
  {
   "cell_type": "code",
   "execution_count": 1,
   "metadata": {
    "collapsed": false,
    "deletable": true,
    "editable": true
   },
   "outputs": [
    {
     "name": "stdout",
     "output_type": "stream",
     "text": [
      "请输入一些整数，不想再输时请输入'n'。每输入一个后请回车：\n",
      "1\n",
      "3\n",
      "5\n",
      "12\n",
      "55\n",
      "34\n",
      "100\n",
      "68\n",
      "n\n",
      "输入的整数中次大值为 68 \n",
      "\n"
     ]
    }
   ],
   "source": [
    "#挑战性练习：写程序，由用户输入一些整数，能够得到几个整数中的次大值(第二大的值)并输出\n",
    "max1=0\n",
    "max2=0\n",
    "buffer=0\n",
    "print(\"请输入一些整数，不想再输时请输入'n'。每输入一个后请回车：\")\n",
    "while True:\n",
    "    a=str(input());\n",
    "    if a=='n':\n",
    "        break;\n",
    "    else:\n",
    "        a=int(a)\n",
    "        if(a>max2):\n",
    "            max2=a\n",
    "            if(a>max1):\n",
    "                buffer=max1\n",
    "                max1=max2\n",
    "                max2=buffer\n",
    "\n",
    "print(\"输入的整数中次大值为\",max2,\"\\n\")"
   ]
  }
 ],
 "metadata": {
  "kernelspec": {
   "display_name": "Python 3",
   "language": "python",
   "name": "python3"
  },
  "language_info": {
   "codemirror_mode": {
    "name": "ipython",
    "version": 3
   },
   "file_extension": ".py",
   "mimetype": "text/x-python",
   "name": "python",
   "nbconvert_exporter": "python",
   "pygments_lexer": "ipython3",
   "version": "3.6.0"
  }
 },
 "nbformat": 4,
 "nbformat_minor": 2
}
