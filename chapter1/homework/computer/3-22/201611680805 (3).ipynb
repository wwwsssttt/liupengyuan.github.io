{
 "cells": [
  {
   "cell_type": "code",
   "execution_count": 2,
   "metadata": {
    "collapsed": false
   },
   "outputs": [
    {
     "name": "stdout",
     "output_type": "stream",
     "text": [
      "请输入一个整数m: 8\n",
      "请输入一个小于m的整数n: 3\n",
      "1为求和，2为求积，3为求余数，4为整除: 4\n",
      "2\n"
     ]
    }
   ],
   "source": [
    "m=int(input('请输入一个整数m: '))\n",
    "n=int(input('请输入一个小于m的整数n: '))\n",
    "x=int(input('1为求和，2为求积，3为求余数，4为整除: '))\n",
    "\n",
    "if x==1:\n",
    "    y=0\n",
    "    while n<=m:\n",
    "        y=total+n\n",
    "        n=n+1\n",
    "if x==2:\n",
    "    y=1\n",
    "    while n<=m:\n",
    "        y*=n\n",
    "        n+=1\n",
    "if x==3:\n",
    "    y=m%n\n",
    "if x==4:\n",
    "    y=m//n\n",
    "    \n",
    "print(y)\n"
   ]
  },
  {
   "cell_type": "code",
   "execution_count": 3,
   "metadata": {
    "collapsed": false
   },
   "outputs": [
    {
     "name": "stdout",
     "output_type": "stream",
     "text": [
      "空气质量指数为： 168\n",
      "空气质量中度污染，敏感人群避免长时间、高强度的户外锻练，一般人群适量减少户外运动。\n"
     ]
    }
   ],
   "source": [
    "AQI=int(input('空气质量指数为： '))\n",
    "\n",
    "if 0<=AQI<=50 :\n",
    "    print('空气质量为优，进行各项户外活动均佳。')\n",
    "    \n",
    "if 50<=AQI<=100 :\n",
    "    print('空气质量为良，建议极少数异常敏感人群应减少户外活动。')\n",
    "    \n",
    "if 100<=AQI<=150 :\n",
    "    print('空气质量轻度污染，建议儿童、老年人及心脏病、呼吸系统疾病患者应减少长时间、高强度的户外锻炼。')\n",
    "    \n",
    "if 150<=AQI<=200 :\n",
    "    print('空气质量中度污染，敏感人群避免长时间、高强度的户外锻练，一般人群适量减少户外运动。')\n",
    "    \n",
    "if 200<=AQI<=250 :\n",
    "    print('空气质量重度污染，敏感人群应停留在室内，停止户外运动，一般人群减少户外运动，外出请佩戴口罩。')\n",
    "    \n",
    "if 250<=AQI<=300 :\n",
    "    print('空气质量严重污染，建议儿童、老年人和病人应当留在室内，避免体力消耗，减少户外活动，室内打开空气净化机，外出请佩戴口罩。')\n"
   ]
  },
  {
   "cell_type": "code",
   "execution_count": 4,
   "metadata": {
    "collapsed": false
   },
   "outputs": [
    {
     "name": "stdout",
     "output_type": "stream",
     "text": [
      "......\n",
      " \n",
      " \n",
      " \n",
      " \n",
      " \n",
      " \n",
      " \n",
      " \n",
      " \n",
      " \n",
      "是这样的空行吗？\n"
     ]
    }
   ],
   "source": [
    "i=0\n",
    "print('......')\n",
    "while i<10:\n",
    "    print(' ')\n",
    "    i+=1\n",
    "print('是这样的空行吗？')\n"
   ]
  },
  {
   "cell_type": "code",
   "execution_count": null,
   "metadata": {
    "collapsed": false
   },
   "outputs": [],
   "source": [
    " n=int(input('请输入你想输入的整数个数'))\n",
    "max1=int(input('请输入一个整数：'))\n",
    "max2=int(int(input('请输入一个整数：')))\n",
    "if max1>max2:\n",
    "    max1=temp\n",
    "    max2=max1\n",
    "    temp=max2\n",
    "    \n",
    "i=0\n",
    "while i<n-2:\n",
    "    x=int(input('请输入一个整数: '))\n",
    "    if max2<x and x<max1:\n",
    "        max2=x\n",
    "    if x>max1:\n",
    "        max2=max1\n",
    "        max1=x\n",
    "    x+=1\n",
    "print('第二大的数为： ',max2)\n",
    "           \n"
   ]
  }
 ],
 "metadata": {
  "kernelspec": {
   "display_name": "Python 3",
   "language": "python",
   "name": "python3"
  },
  "language_info": {
   "codemirror_mode": {
    "name": "ipython",
    "version": 3
   },
   "file_extension": ".py",
   "mimetype": "text/x-python",
   "name": "python",
   "nbconvert_exporter": "python",
   "pygments_lexer": "ipython3",
   "version": "3.6.0"
  }
 },
 "nbformat": 4,
 "nbformat_minor": 2
}
