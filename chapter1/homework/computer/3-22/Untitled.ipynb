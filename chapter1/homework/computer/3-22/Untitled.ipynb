{
 "cells": [
  {
   "cell_type": "code",
   "execution_count": 2,
   "metadata": {
    "collapsed": false,
    "deletable": true,
    "editable": true
   },
   "outputs": [
    {
     "name": "stdout",
     "output_type": "stream",
     "text": [
      "请输入一个数字，回车结束400\n",
      "出门应佩戴口罩\n"
     ]
    }
   ],
   "source": [
    "num=int(input('请输入一个数字，回车结束'))\n",
    "if num<500:\n",
    "    print('出门应佩戴口罩')\n",
    "else:\n",
    "    print('减少出门，打开空气净化器')"
   ]
  },
  {
   "cell_type": "code",
   "execution_count": 8,
   "metadata": {
    "collapsed": false,
    "deletable": true,
    "editable": true
   },
   "outputs": [
    {
     "ename": "SyntaxError",
     "evalue": "invalid character in identifier (<ipython-input-8-0e7035bb4cdc>, line 5)",
     "output_type": "error",
     "traceback": [
      "\u001b[1;36m  File \u001b[1;32m\"<ipython-input-8-0e7035bb4cdc>\"\u001b[1;36m, line \u001b[1;32m5\u001b[0m\n\u001b[1;33m    if (month==1&day>19)and(month==2&day<19)：\u001b[0m\n\u001b[1;37m                                            ^\u001b[0m\n\u001b[1;31mSyntaxError\u001b[0m\u001b[1;31m:\u001b[0m invalid character in identifier\n"
     ]
    }
   ],
   "source": [
    "name =int(input('请输入数字,回车结束'))\n",
    "year =int(input('请输入数字，以回车结束'))\n",
    "month =int(input('请输入数字，以回车结束'))\n",
    "day =int(input('请输入数字，以回车结束'))\n",
    "if (month==1&day>19)and(month==2&day<19)：\n",
    "    print(name,'你是非常有个性的水瓶座')\n",
    "if (month==2&day>18)and(month==3&day<21)：\n",
    "    print(name,'你是非常有个性的双鱼座')\n",
    "if(month==3&day>20)and(month==4&day<20)：\n",
    "    print(name,'你是非常有个性的白羊座')\n",
    "if(month==4&day>19)and(month==5&day<21)：\n",
    "    print(name,'你是非常有个性的金牛座')\n",
    "if(month==5&day>20)and(month==6&day<22)：\n",
    "    print(name,'你是非常有个性的双子座')\n",
    "if(month==6&day>21)and(month==7&day<23)：\n",
    "    print(name,'你是非常有个性的巨蟹座')\n",
    "if(month==7&day>22)and(month==8&day<23)：\n",
    "    print(name,'你是非常有个性的狮子座')\n",
    "if(month==8&day>22)and(month==9&day<23)：\n",
    "    print(name,'你是非常有个性的处女座')\n",
    "if(month==9&day>22)and(month==10&day<24)：\n",
    "    print(name,'你是非常有个性的天秤座')\n",
    "if(month==10&day>23)and(month==11&day<23)：\n",
    "    print(name,'你是非常有个性的天蝎座')\n",
    "if(month==11&day>22)and(month==12&day<22)：\n",
    "    print(name,'你是非常有个性的射手座')\n",
    "if(month==12&day<21)and(month==1&day<20)：\n",
    "   print(name,'你是非常有个性的摩羯座')\n"
   ]
  },
  {
   "cell_type": "code",
   "execution_count": 7,
   "metadata": {
    "collapsed": false,
    "deletable": true,
    "editable": true
   },
   "outputs": [
    {
     "ename": "SyntaxError",
     "evalue": "invalid character in identifier (<ipython-input-7-17f5e4e62bf1>, line 10)",
     "output_type": "error",
     "traceback": [
      "\u001b[1;36m  File \u001b[1;32m\"<ipython-input-7-17f5e4e62bf1>\"\u001b[1;36m, line \u001b[1;32m10\u001b[0m\n\u001b[1;33m    if (n3==3) and (n1%n2==0)：\u001b[0m\n\u001b[1;37m                             ^\u001b[0m\n\u001b[1;31mSyntaxError\u001b[0m\u001b[1;31m:\u001b[0m invalid character in identifier\n"
     ]
    }
   ],
   "source": [
    "n1=int(input('请输入一个数字，以回车结束'))\n",
    "n2=int(input('请输入一个数字，以回车结束'))\n",
    "n3=int(input('请输入一个数字，以回车结束'))\n",
    "if n3==1:\n",
    "    total=n1+n2\n",
    "    print(total)\n",
    "if n3==2:\n",
    "    total=n1*n2\n",
    "    print(total)\n",
    "if (n3==3) and (n1%n2==0)：\n",
    "    total=n1/n2\n",
    "if (n3==3) and (n1%n2）!=0:\n",
    "    total=n1%n2\n",
    "    print(total)\n"
   ]
  },
  {
   "cell_type": "code",
   "execution_count": null,
   "metadata": {
    "collapsed": true,
    "deletable": true,
    "editable": true
   },
   "outputs": [],
   "source": []
  }
 ],
 "metadata": {
  "kernelspec": {
   "display_name": "Python 3",
   "language": "python",
   "name": "python3"
  },
  "language_info": {
   "codemirror_mode": {
    "name": "ipython",
    "version": 3
   },
   "file_extension": ".py",
   "mimetype": "text/x-python",
   "name": "python",
   "nbconvert_exporter": "python",
   "pygments_lexer": "ipython3",
   "version": "3.6.0"
  }
 },
 "nbformat": 4,
 "nbformat_minor": 2
}
