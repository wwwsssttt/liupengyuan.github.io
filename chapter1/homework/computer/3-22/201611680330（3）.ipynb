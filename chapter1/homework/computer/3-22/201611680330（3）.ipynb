{
 "cells": [
  {
   "cell_type": "code",
   "execution_count": 5,
   "metadata": {
    "collapsed": false
   },
   "outputs": [
    {
     "name": "stdout",
     "output_type": "stream",
     "text": [
      "800\n",
      "严重污染，不建议出行\n"
     ]
    }
   ],
   "source": [
    "n=int(input())\n",
    "if(n<=35):\n",
    "    print('优')\n",
    "elif(n<=75):\n",
    "    print('良')\n",
    "elif(n<=115):\n",
    "    print('轻度污染')\n",
    "elif(n<=150):\n",
    "    print('中度污染')\n",
    "elif(n<=250):\n",
    "    print('重度污染')\n",
    "else:\n",
    "    print('严重污染，不建议出行')\n"
   ]
  },
  {
   "cell_type": "code",
   "execution_count": null,
   "metadata": {
    "collapsed": true
   },
   "outputs": [],
   "source": []
  },
  {
   "cell_type": "code",
   "execution_count": null,
   "metadata": {
    "collapsed": true
   },
   "outputs": [],
   "source": []
  }
 ],
 "metadata": {
  "kernelspec": {
   "display_name": "Python 3",
   "language": "python",
   "name": "python3"
  },
  "language_info": {
   "codemirror_mode": {
    "name": "ipython",
    "version": 3
   },
   "file_extension": ".py",
   "mimetype": "text/x-python",
   "name": "python",
   "nbconvert_exporter": "python",
   "pygments_lexer": "ipython3",
   "version": "3.6.0"
  }
 },
 "nbformat": 4,
 "nbformat_minor": 2
}
