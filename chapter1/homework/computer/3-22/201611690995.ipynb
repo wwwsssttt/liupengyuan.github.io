{
 "cells": [
  {
   "cell_type": "code",
   "execution_count": 3,
   "metadata": {
    "collapsed": false
   },
   "outputs": [
    {
     "name": "stdout",
     "output_type": "stream",
     "text": [
      "请输入要输入的整数个数:5\n",
      "请输入一个整数:1\n",
      "请输入一个整数:52\n",
      "请输入一个整数:6\n",
      "请输入一个整数:5\n",
      "请输入一个整数:4\n",
      "次大值是： 6\n"
     ]
    }
   ],
   "source": [
    "n=int(input('请输入要输入的整数个数:'))\n",
    "i=0\n",
    "max=0\n",
    "while i<n :\n",
    "    num=int(input('请输入一个整数:'))\n",
    "    if num>max :\n",
    "        secmax=max\n",
    "        max=num\n",
    "    elif num>secmax :\n",
    "        secmax=num\n",
    "    i=i+1\n",
    "print('次大值是：',secmax)\n",
    "        "
   ]
  },
  {
   "cell_type": "code",
   "execution_count": null,
   "metadata": {
    "collapsed": true
   },
   "outputs": [],
   "source": []
  },
  {
   "cell_type": "code",
   "execution_count": null,
   "metadata": {
    "collapsed": true
   },
   "outputs": [],
   "source": []
  },
  {
   "cell_type": "code",
   "execution_count": null,
   "metadata": {
    "collapsed": true
   },
   "outputs": [],
   "source": []
  }
 ],
 "metadata": {
  "kernelspec": {
   "display_name": "Python 3",
   "language": "python",
   "name": "python3"
  },
  "language_info": {
   "codemirror_mode": {
    "name": "ipython",
    "version": 3
   },
   "file_extension": ".py",
   "mimetype": "text/x-python",
   "name": "python",
   "nbconvert_exporter": "python",
   "pygments_lexer": "ipython3",
   "version": "3.6.0"
  }
 },
 "nbformat": 4,
 "nbformat_minor": 2
}
