{
 "cells": [
  {
   "cell_type": "code",
   "execution_count": 2,
   "metadata": {
    "collapsed": false
   },
   "outputs": [
    {
     "name": "stdout",
     "output_type": "stream",
     "text": [
      "clare\n",
      "2\n",
      "16\n",
      "clare 你是水瓶座\n"
     ]
    }
   ],
   "source": [
    "name=input()\n",
    "month=int(input())\n",
    "day=int(input())\n",
    "if month==1:\n",
    "    if day<20:\n",
    "        print(name,'你是摩羯座')\n",
    "    else :\n",
    "        print(name,'你是水瓶座')\n",
    "if month==2:\n",
    "    if day<19:\n",
    "        print(name,'你是水瓶座')\n",
    "    else :\n",
    "        print(name,'你是双鱼座')\n",
    "if month==3:\n",
    "    if day<21:\n",
    "        print(name,'你是双鱼座')\n",
    "    else :\n",
    "        print(name,'你是白羊座')\n",
    "if month==4:\n",
    "    if day<20:\n",
    "        print(name,'你是白羊座')\n",
    "    else :\n",
    "        print(name,'你是金牛座')\n",
    "if month==5:\n",
    "    if day<21:\n",
    "        print(name,'你是金牛座')\n",
    "    else :\n",
    "        print(name,'你是双子座')\n",
    "if month==6:\n",
    "    if day<22:\n",
    "        print(name,'你是双子座')\n",
    "    else :\n",
    "        print(name,'你是巨蟹座')\n",
    "if month==7:\n",
    "    if day<23:\n",
    "        print(name,'你是巨蟹座')\n",
    "    else :\n",
    "        print(name,'你是狮子座')\n",
    "if month==8:\n",
    "    if day<23:\n",
    "        print(name,'你是狮子座')\n",
    "    else :\n",
    "        print(name,'你是处女座')\n",
    "if month==9:\n",
    "    if day<23:\n",
    "        print(name,'你是处女座')\n",
    "    else :\n",
    "        print(name,'你是天秤座')\n",
    "if month==10:\n",
    "    if day<24:\n",
    "        print(name,'你是天秤座')\n",
    "    else :\n",
    "        print(name,'你是天蝎座')\n",
    "if month==11:\n",
    "    if day<23:\n",
    "        print(name,'你是天蝎座')\n",
    "    else :\n",
    "        print(name,'你是射手座')\n",
    "if month==12:\n",
    "    if day<22:\n",
    "        print(name,'你是射手座')\n",
    "    else :\n",
    "        print(name,'你是摩羯座')\n"
   ]
  },
  {
   "cell_type": "code",
   "execution_count": 11,
   "metadata": {
    "collapsed": false
   },
   "outputs": [
    {
     "name": "stdout",
     "output_type": "stream",
     "text": [
      "请输入一个整数:3\n",
      "请输入一个整数:5\n",
      "若要求和则输入1，求乘积则输入2，求余则输入3，求商则输入其余任意数字:2\n",
      "60\n"
     ]
    }
   ],
   "source": [
    "m=int(input('请输入一个整数:'))\n",
    "n=int(input('请输入一个整数:'))\n",
    "s=int(input('若要求和则输入1，求乘积则输入2，求余则输入3，求商则输入其余任意数字:'))\n",
    "if s==1:\n",
    "    if m>n:\n",
    "        total=n\n",
    "        while n!=m:\n",
    "            n=n+1\n",
    "            total=total+n\n",
    "        print(total)\n",
    "    else :\n",
    "        total=m\n",
    "        while n!=m:\n",
    "            m=m+1\n",
    "            total=total+m\n",
    "        print(total)\n",
    "elif s==2:\n",
    "    if m>n:\n",
    "        total=n\n",
    "        while n!=m:\n",
    "            n=n+1\n",
    "            total=total*n\n",
    "        print(total)\n",
    "    else :\n",
    "        total=m\n",
    "        while n!=m:\n",
    "            m=m+1\n",
    "            total=total*m\n",
    "        print(total)\n",
    "elif s==3:\n",
    "    print(m%n)\n",
    "else:\n",
    "    print(m/n)"
   ]
  },
  {
   "cell_type": "code",
   "execution_count": 13,
   "metadata": {
    "collapsed": false
   },
   "outputs": [
    {
     "name": "stdout",
     "output_type": "stream",
     "text": [
      "输入当前PM2.5的值：150\n",
      "不做体育活动\n"
     ]
    }
   ],
   "source": [
    "p=int(input('输入当前PM2.5的值：'))\n",
    "if p>500:\n",
    "    print('减少户外活动')\n",
    "elif p>400 and p<500:\n",
    "    print('室内打开空气净化器')\n",
    "elif p>300 and p<400:\n",
    "    print('戴口罩出行')\n",
    "elif p>100 and p<300:\n",
    "    print('不做体育活动')\n",
    "elif p<100:\n",
    "    print('空气良好')"
   ]
  },
  {
   "cell_type": "code",
   "execution_count": 15,
   "metadata": {
    "collapsed": false
   },
   "outputs": [
    {
     "name": "stdout",
     "output_type": "stream",
     "text": [
      "请输入一个单词leaf\n",
      "把f变为ve加s\n"
     ]
    }
   ],
   "source": [
    "word=input('请输入一个单词')\n",
    "if word.endswith('f'):\n",
    "    print('把f变为ve加s')\n",
    "elif word.endswith('y'):\n",
    "    print('把y变i加es')\n",
    "elif word.endswith('se'):\n",
    "    print('加s')\n",
    "else :print('加s')"
   ]
  },
  {
   "cell_type": "code",
   "execution_count": 16,
   "metadata": {
    "collapsed": false
   },
   "outputs": [
    {
     "name": "stdout",
     "output_type": "stream",
     "text": [
      " \n"
     ]
    }
   ],
   "source": [
    "print(' ')"
   ]
  },
  {
   "cell_type": "code",
   "execution_count": 23,
   "metadata": {
    "collapsed": false
   },
   "outputs": [
    {
     "name": "stdout",
     "output_type": "stream",
     "text": [
      "输入一个整数1\n",
      "输入一个整数6\n",
      "输入一个整数7\n",
      "输入一个整数3\n",
      "输入一个整数-9999\n",
      "第二大的数是 6\n"
     ]
    }
   ],
   "source": [
    "max_number=int(input('输入一个整数'))\n",
    "second_number=int(input('输入一个整数'))\n",
    "if second_number > max_number:\n",
    "    second_number,max_number=max_number,second_number\n",
    "\n",
    "number=None\n",
    "while number!=-9999:\n",
    "    number=int(input('输入一个整数'))\n",
    "    if number>=max_number:\n",
    "        second_number=max_number\n",
    "        max_number=number\n",
    "    elif number>second_number:\n",
    "        second_number=number\n",
    "    else:\n",
    "        pass\n",
    "    \n",
    "print('第二大的数是',second_number)"
   ]
  },
  {
   "cell_type": "code",
   "execution_count": null,
   "metadata": {
    "collapsed": true
   },
   "outputs": [],
   "source": []
  }
 ],
 "metadata": {
  "kernelspec": {
   "display_name": "Python 3",
   "language": "python",
   "name": "python3"
  },
  "language_info": {
   "codemirror_mode": {
    "name": "ipython",
    "version": 3
   },
   "file_extension": ".py",
   "mimetype": "text/x-python",
   "name": "python",
   "nbconvert_exporter": "python",
   "pygments_lexer": "ipython3",
   "version": "3.6.0"
  }
 },
 "nbformat": 4,
 "nbformat_minor": 2
}
