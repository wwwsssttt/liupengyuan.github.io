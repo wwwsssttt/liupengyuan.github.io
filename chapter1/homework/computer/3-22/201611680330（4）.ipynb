{
 "cells": [
  {
   "cell_type": "code",
   "execution_count": 34,
   "metadata": {
    "collapsed": false
   },
   "outputs": [
    {
     "name": "stdout",
     "output_type": "stream",
     "text": [
      "please enter a word\n",
      "ay\n",
      "以辅音字母+y结尾 变y 为i再加es\n"
     ]
    }
   ],
   "source": [
    "print('please enter a word')\n",
    "a1=str(input())\n",
    "if(a1.endswith('s')):\n",
    "    print('加 -es ')\n",
    "elif(a1.endswith('sh')):\n",
    "    print('加 -es ')\n",
    "elif(a1.endswith('ch')):\n",
    "    print('加 -es ')\n",
    "elif(a1.endswith('x')):\n",
    "    print('加 -es ')\n",
    "elif(a1.endswith('y')):\n",
    "    print('以辅音字母+y结尾 变y 为i再加es')\n",
    "else:\n",
    "    print('以辅音字母+y结尾 变y 为i再加es')\n",
    "        \n",
    "    "
   ]
  },
  {
   "cell_type": "code",
   "execution_count": null,
   "metadata": {
    "collapsed": false
   },
   "outputs": [],
   "source": []
  },
  {
   "cell_type": "code",
   "execution_count": null,
   "metadata": {
    "collapsed": true
   },
   "outputs": [],
   "source": []
  }
 ],
 "metadata": {
  "kernelspec": {
   "display_name": "Python 3",
   "language": "python",
   "name": "python3"
  },
  "language_info": {
   "codemirror_mode": {
    "name": "ipython",
    "version": 3
   },
   "file_extension": ".py",
   "mimetype": "text/x-python",
   "name": "python",
   "nbconvert_exporter": "python",
   "pygments_lexer": "ipython3",
   "version": "3.6.0"
  }
 },
 "nbformat": 4,
 "nbformat_minor": 2
}
