{
 "cells": [
  {
   "cell_type": "code",
   "execution_count": null,
   "metadata": {
    "collapsed": false
   },
   "outputs": [
    {
     "name": "stdout",
     "output_type": "stream",
     "text": [
      "请输入一个非零的数表示运算开始：1\n",
      "输入数字：5\n",
      "输入数字：3\n",
      "输入数字：8\n",
      "次大数是： 5\n",
      "如果要继续输入，请输入一个非零数，如果要停止，请输入零：1\n",
      "输入数字：199\n",
      "次大数是： 8\n",
      "如果要继续输入，请输入一个非零数，如果要停止，请输入零：1\n",
      "输入数字：89\n",
      "次大数是： 89\n",
      "如果要继续输入，请输入一个非零数，如果要停止，请输入零：1\n",
      "输入数字：77\n",
      "次大数是： 89\n",
      "如果要继续输入，请输入一个非零数，如果要停止，请输入零：1\n",
      "输入数字：45\n",
      "次大数是： 89\n",
      "如果要继续输入，请输入一个非零数，如果要停止，请输入零：1\n",
      "输入数字：99\n",
      "次大数是： 99\n",
      "如果要继续输入，请输入一个非零数，如果要停止，请输入零：1\n",
      "输入数字：100\n",
      "次大数是： 100\n",
      "如果要继续输入，请输入一个非零数，如果要停止，请输入零：1\n",
      "输入数字：2\n",
      "次大数是： 100\n"
     ]
    }
   ],
   "source": [
    "a=int(input('请输入一个非零的数表示运算开始：'))\n",
    "m=int(input('输入数字：'))\n",
    "n=int(input('输入数字：'))\n",
    "b=0\n",
    "c=0\n",
    "if m>n:\n",
    "    b=n\n",
    "    c=m\n",
    "\n",
    "while(a!=0):\n",
    "    o=int(input('输入数字：'))\n",
    "    if o<b:\n",
    "        b=b\n",
    "    elif o>b and o<c:\n",
    "        b=o\n",
    "    elif o>c:\n",
    "        b=c\n",
    "        c=o\n",
    "    print('次大数是：',b)\n",
    "    a=int(input('如果要继续输入，请输入一个非零数，如果要停止，请输入零：'))"
   ]
  }
 ],
 "metadata": {
  "kernelspec": {
   "display_name": "Python 3",
   "language": "python",
   "name": "python3"
  },
  "language_info": {
   "codemirror_mode": {
    "name": "ipython",
    "version": 3
   },
   "file_extension": ".py",
   "mimetype": "text/x-python",
   "name": "python",
   "nbconvert_exporter": "python",
   "pygments_lexer": "ipython3",
   "version": "3.6.0"
  }
 },
 "nbformat": 4,
 "nbformat_minor": 2
}
