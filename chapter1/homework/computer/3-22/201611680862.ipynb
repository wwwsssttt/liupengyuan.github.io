{
 "cells": [
  {
   "cell_type": "code",
   "execution_count": 6,
   "metadata": {
    "collapsed": false
   },
   "outputs": [
    {
     "name": "stdout",
     "output_type": "stream",
     "text": [
      "请输入你想输入的数字总数:4\n",
      "请输入一个整数:2\n",
      "请输入一个整数:5\n",
      "请输入一个整数:9\n",
      "请输入一个整数:4\n",
      "第二大的数是: 5\n"
     ]
    }
   ],
   "source": [
    "n=int(input('请输入你想输入的数字总数:'))\n",
    "MAX1=int(input('请输入一个整数:'))\n",
    "i=1\n",
    "while i<n:\n",
    "    i+=1\n",
    "    m=int(input('请输入一个整数:'))\n",
    "    if m>MAX1:\n",
    "        MAX2=MAX1\n",
    "        MAX1=m\n",
    "        \n",
    "print('第二大的数是:',MAX2)"
   ]
  }
 ],
 "metadata": {
  "kernelspec": {
   "display_name": "Python 3",
   "language": "python",
   "name": "python3"
  },
  "language_info": {
   "codemirror_mode": {
    "name": "ipython",
    "version": 3
   },
   "file_extension": ".py",
   "mimetype": "text/x-python",
   "name": "python",
   "nbconvert_exporter": "python",
   "pygments_lexer": "ipython3",
   "version": "3.6.0"
  }
 },
 "nbformat": 4,
 "nbformat_minor": 2
}
