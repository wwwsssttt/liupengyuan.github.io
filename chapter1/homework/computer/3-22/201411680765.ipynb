{
 "cells": [
  {
   "cell_type": "code",
   "execution_count": 11,
   "metadata": {
    "collapsed": false
   },
   "outputs": [
    {
     "name": "stdout",
     "output_type": "stream",
     "text": [
      "请输入您的姓名：刘\n",
      "请输入您的出生月份：11\n",
      "请输入您的出生日期：26\n",
      "刘 您是非常有性格的射手座！\n"
     ]
    }
   ],
   "source": [
    "name=input('请输入您的姓名：')\n",
    "month=int(input('请输入您的出生月份：'))\n",
    "day=int(input('请输入您的出生日期：'))\n",
    "if month == 1:\n",
    "    if 1 <= day and day <= 19:\n",
    "        print (name,'您是非常有性格的摩羯座！')\n",
    "    elif 20 <= day <= 31:\n",
    "        print (name,'您是非常有性格的水瓶座！')\n",
    "    else:\n",
    "        print ('输入的出生日期错误！')\n",
    "if month == 2:\n",
    "    if 1 <= day and day <= 18:\n",
    "        print (name,'您是非常有性格的水瓶座！')\n",
    "    elif 19 <= day <= 29:\n",
    "        print (name,'您是非常有性格的双鱼座！')\n",
    "    else:\n",
    "        print ('输入的出生日期错误！')\n",
    "if month == 3:\n",
    "    if 1 <= day and day <= 20:\n",
    "        print (name,'您是非常有性格的双鱼座！')\n",
    "    elif 21 <= day <= 31:\n",
    "        print (name,'您是非常有性格的白羊座！')\n",
    "    else:\n",
    "        print ('输入的出生日期错误！')\n",
    "if month == 4:\n",
    "    if 1 <= day and day <= 19:\n",
    "        print (name,'您是非常有性格的白羊座！')\n",
    "    elif 20 <= day <= 30:\n",
    "        print (name,'您是非常有性格的金牛座！')\n",
    "    else:\n",
    "        print ('输入的出生日期错误！')\n",
    "if month == 5:\n",
    "    if 1 <= day and day <= 20:\n",
    "        print (name,'您是非常有性格的金牛座！')\n",
    "    elif 21 <= day <= 31:\n",
    "        print (name,'您是非常有性格的双子座！')\n",
    "    else:\n",
    "        print ('输入的出生日期错误！')\n",
    "if month == 6:\n",
    "    if 1 <= day and day <= 21:\n",
    "        print (name,'您是非常有性格的双子座！')\n",
    "    elif 22 <= day <= 30:\n",
    "        print (name,'您是非常有性格的巨蟹座！')\n",
    "    else:\n",
    "        print ('输入的出生日期错误！')\n",
    "if month == 7:\n",
    "    if 1 <= day and day <= 22:\n",
    "        print (name,'您是非常有性格的巨蟹座！')\n",
    "    elif 23 <= day <= 31:\n",
    "        print (name,'您是非常有性格的狮子座！')\n",
    "    else:\n",
    "        print ('输入的出生日期错误！')\n",
    "if month == 8:\n",
    "    if 1 <= day and day <= 22:\n",
    "        print (name,'您是非常有性格的狮子座！')\n",
    "    elif 23 <= day <= 31:\n",
    "        print (name,'您是非常有性格的处女座！')\n",
    "    else:\n",
    "        print ('输入的出生日期错误！')\n",
    "if month == 9:\n",
    "    if 1 <= day and day <= 22:\n",
    "        print (name,'您是非常有性格的处女座！')\n",
    "    elif 23 <= day <= 30:\n",
    "        print (name,'您是非常有性格的天秤座！')\n",
    "    else:\n",
    "        print ('输入的出生日期错误！')\n",
    "if month == 10:\n",
    "    if 1 <= day and day <= 23:\n",
    "        print (name,'您是非常有性格的天秤座！')\n",
    "    elif 24 <= day <= 31:\n",
    "        print (name,'您是非常有性格的天蝎座！')\n",
    "    else:\n",
    "        print ('输入的出生日期错误！')\n",
    "if month == 11:\n",
    "    if 1 <= day and day <= 22:\n",
    "        print (name,'您是非常有性格的天蝎座！')\n",
    "    elif 23 <= day <= 30:\n",
    "        print (name,'您是非常有性格的射手座！')\n",
    "    else:\n",
    "        print ('输入的出生日期错误！')\n",
    "if month == 12:\n",
    "    if 1 <= day and day <= 21:\n",
    "        print (name,'您是非常有性格的射手座！')\n",
    "    elif 22 <= day <= 31:\n",
    "        print (name,'您是非常有性格的摩羯座！')\n",
    "    else:\n",
    "        print ('输入的出生日期错误！')\n",
    "if month>12:\n",
    "    print ('输入的出生月份错误！')\n",
    "    "
   ]
  },
  {
   "cell_type": "code",
   "execution_count": 19,
   "metadata": {
    "collapsed": false
   },
   "outputs": [
    {
     "name": "stdout",
     "output_type": "stream",
     "text": [
      "请输入一个整数并以回车结束：2\n",
      "请输入一个整数并以回车结束：4\n",
      "输入+请求m到n和操作；输入*请求m到n积操作；输入%做m%n操作；默认做m//n取整操作：\n",
      "请输入您的操作选择：+\n",
      "m到n的和为： 9\n"
     ]
    }
   ],
   "source": [
    "m=int(input('请输入一个整数并以回车结束：'))\n",
    "n=int(input('请输入一个整数并以回车结束：'))\n",
    "print('输入+请求m到n和操作；输入*请求m到n积操作；输入%做m%n操作；默认做m//n取整操作：')\n",
    "option=input('请输入您的操作选择：')\n",
    "if option == '+':\n",
    "    sum1=0\n",
    "    if m <= n:\n",
    "        while m <= n :\n",
    "            sum1+=m\n",
    "            m+=1\n",
    "    else :\n",
    "        while n <= m :\n",
    "            sum1+=n\n",
    "            n+=1\n",
    "    print ('m到n的和为：',sum1)\n",
    "elif option == '*':\n",
    "    sum1=1\n",
    "    if m <= n:\n",
    "        while m <= n :\n",
    "            sum1*=m\n",
    "            m+=1\n",
    "    else :\n",
    "        while n <= m :\n",
    "            sum1*=n\n",
    "            n+=1\n",
    "    print ('m到n的积为：',sum1)\n",
    "elif option == '%':\n",
    "    sum1=m%n\n",
    "    print ('m%n为：',sum1)\n",
    "else :\n",
    "    sum1=m//n\n",
    "    print ('m//n为：',sum1)\n",
    "    \n",
    "            \n",
    "    "
   ]
  },
  {
   "cell_type": "code",
   "execution_count": 22,
   "metadata": {
    "collapsed": false
   },
   "outputs": [
    {
     "name": "stdout",
     "output_type": "stream",
     "text": [
      "请输入当前pm2.5的检测值：12\n",
      "空气质量优良，到外面呼吸一下新鲜空气吧！\n"
     ]
    }
   ],
   "source": [
    "value=int(input('请输入当前pm2.5的检测值：'))\n",
    "if 0 < value and value < 75:\n",
    "    print ('空气质量优良，到外面呼吸一下新鲜空气吧！')\n",
    "elif 75 <= value and value <115:\n",
    "    print ('空气轻度污染，上班上课的就去吧！')\n",
    "elif 115<= value and value <150:\n",
    "    print ('空气中度污染，没事儿就不要出去了，非去不可就戴个口罩吧！')\n",
    "elif 150 <= value and value <500:\n",
    "    print ('空气重度污染，千万不要出去！')\n",
    "else:\n",
    "    print('待在室内，打开空气净化器！一定要！')\n",
    "    "
   ]
  },
  {
   "cell_type": "code",
   "execution_count": 32,
   "metadata": {
    "collapsed": false
   },
   "outputs": [
    {
     "data": {
      "text/plain": [
       "True"
      ]
     },
     "execution_count": 32,
     "metadata": {},
     "output_type": "execute_result"
    }
   ],
   "source": [
    "'myname'.endswith('me')\n",
    "'hou'.endswith('u')\n",
    "'liushuo'.endswith('o')\n",
    "'liupengyuan'.endswith('n')"
   ]
  },
  {
   "cell_type": "code",
   "execution_count": 44,
   "metadata": {
    "collapsed": false
   },
   "outputs": [
    {
     "name": "stdout",
     "output_type": "stream",
     "text": [
      "请输入一个英文动词的第三人称单数形式：watches\n",
      "该动词的复数形式为： watch\n"
     ]
    }
   ],
   "source": [
    "sgword=input('请输入一个英文动词的第三人称单数形式：')\n",
    "if sgword.endswith('ies'):\n",
    "    plword=sgword[:-3]+'y'\n",
    "    print ('该动词的复数形式为：',plword)\n",
    "elif sgword.endswith('es'):\n",
    "    plword = sgword[:-2]\n",
    "    print ('该动词的复数形式为：',plword)\n",
    "elif sgword.endswith('s'):\n",
    "    plword = sgword[:-1]\n",
    "    print ('该动词的复数形式为：',plword)"
   ]
  },
  {
   "cell_type": "code",
   "execution_count": 45,
   "metadata": {
    "collapsed": false
   },
   "outputs": [
    {
     "name": "stdout",
     "output_type": "stream",
     "text": [
      "\n"
     ]
    }
   ],
   "source": [
    "print ('')"
   ]
  },
  {
   "cell_type": "code",
   "execution_count": 51,
   "metadata": {
    "collapsed": false
   },
   "outputs": [
    {
     "name": "stdout",
     "output_type": "stream",
     "text": [
      "请输入进行比较的整数个数：4\n",
      "请输入一个整数并以回车结束：3\n",
      "请输入一个整数并以回车结束：3\n",
      "请输入一个整数并以回车结束：8\n",
      "请输入一个整数并以回车结束：1\n",
      "最大值是： 8\n",
      "次大值是： 3\n"
     ]
    }
   ],
   "source": [
    "n=int(input('请输入进行比较的整数个数：'))\n",
    "number=int(input('请输入一个整数并以回车结束：'))\n",
    "maxnum=number\n",
    "i=1\n",
    "les_max=0\n",
    "while i<n:\n",
    "    num=int(input('请输入一个整数并以回车结束：'))\n",
    "    if maxnum==num:\n",
    "        i+=1\n",
    "        continue\n",
    "    if maxnum < num :\n",
    "        les_max=maxnum\n",
    "        maxnum=num\n",
    "    elif les_max < num :\n",
    "        les_max=num\n",
    "    i+=1\n",
    "print ('最大值是：',maxnum)\n",
    "print ('次大值是：',les_max)"
   ]
  }
 ],
 "metadata": {
  "kernelspec": {
   "display_name": "Python 3",
   "language": "python",
   "name": "python3"
  },
  "language_info": {
   "codemirror_mode": {
    "name": "ipython",
    "version": 3
   },
   "file_extension": ".py",
   "mimetype": "text/x-python",
   "name": "python",
   "nbconvert_exporter": "python",
   "pygments_lexer": "ipython3",
   "version": "3.6.0"
  }
 },
 "nbformat": 4,
 "nbformat_minor": 2
}
