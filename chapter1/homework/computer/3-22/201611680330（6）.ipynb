{
 "cells": [
  {
   "cell_type": "code",
   "execution_count": null,
   "metadata": {
    "collapsed": false
   },
   "outputs": [
    {
     "name": "stdout",
     "output_type": "stream",
     "text": [
      "请输入整数的个数\n"
     ]
    }
   ],
   "source": [
    "print('请输入整数的个数')\n",
    "n=int(input())\n",
    "i1=0\n",
    "j=0\n",
    "while(j<n):\n",
    "    a==int(input())\n",
    "    while a>=i1:\n",
    "        i1==ai\n",
    "        j=j+1\n",
    "print('再输入一次这些数')\n",
    "i2=0\n",
    "j=0\n",
    "while(j<n and a!=i1):\n",
    "    a==int(input())\n",
    "    while a>=i2:\n",
    "           i2==a\n",
    "print(i2)\n",
    "    "
   ]
  },
  {
   "cell_type": "code",
   "execution_count": null,
   "metadata": {
    "collapsed": false
   },
   "outputs": [],
   "source": []
  },
  {
   "cell_type": "code",
   "execution_count": null,
   "metadata": {
    "collapsed": true
   },
   "outputs": [],
   "source": []
  }
 ],
 "metadata": {
  "kernelspec": {
   "display_name": "Python 3",
   "language": "python",
   "name": "python3"
  },
  "language_info": {
   "codemirror_mode": {
    "name": "ipython",
    "version": 3
   },
   "file_extension": ".py",
   "mimetype": "text/x-python",
   "name": "python",
   "nbconvert_exporter": "python",
   "pygments_lexer": "ipython3",
   "version": "3.6.0"
  }
 },
 "nbformat": 4,
 "nbformat_minor": 2
}
