{
 "cells": [
  {
   "cell_type": "code",
   "execution_count": 1,
   "metadata": {
    "collapsed": false,
    "deletable": true,
    "editable": true
   },
   "outputs": [
    {
     "name": "stdout",
     "output_type": "stream",
     "text": [
      "请输入一个整数，回车结束6\n",
      "请输入一个整数，回车结束，输入‘q’为退出6\n",
      "请输入一个整数，回车结束，输入‘q’为退出6\n",
      "请输入一个整数，回车结束，输入‘q’为退出q\n",
      "6\n",
      "6\n",
      "6.0\n"
     ]
    }
   ],
   "source": [
    "#3.由用户输入几个整数，打印最大值，最小值、平均值。\n",
    "n = int(input('请输入一个整数，回车结束'))\n",
    "max_n = n\n",
    "min_n = n\n",
    "avg_n = n\n",
    "i = True\n",
    "while True:\n",
    "    n = input('请输入一个整数，回车结束，输入‘q’为退出')\n",
    "    if n == 'q':\n",
    "        break\n",
    "    n = int(n)\n",
    "    avg_n = (avg_n + n)/2\n",
    "    if n > max_n:\n",
    "        max_n = n\n",
    "    if n < min_n:\n",
    "        min_n = n\n",
    "print (max_n , min_n , avg_n , sep = '\\n')"
   ]
  },
  {
   "cell_type": "code",
   "execution_count": 2,
   "metadata": {
    "collapsed": false,
    "deletable": true,
    "editable": true
   },
   "outputs": [
    {
     "name": "stdout",
     "output_type": "stream",
     "text": [
      "请输入你的姓名，回车结束  lll\n",
      "请输入你生日的月份，回车结束  12\n",
      "请输入你生日的日号，回车结束  12\n",
      "lll,你是非常有性格的射手座！\n"
     ]
    }
   ],
   "source": [
    "#3.6 实践与练习\n",
    "#练习 1：写程序，可由键盘读入用户姓名例如Mr. right，让用户输入出生的月份与日期，判断用户星座，\n",
    "#假设用户是金牛座，则输出，Mr. right，你是非常有性格的金牛座！。\n",
    "name = input('请输入你的姓名，回车结束  ')\n",
    "birthday_month = int(input('请输入你生日的月份，回车结束  '))\n",
    "birthday_day = int(input('请输入你生日的日号，回车结束  '))\n",
    "if birthday_month > 12 or birthday_month < 1 or birthday_day < 1 or birthday_day > 31:\n",
    "    print ('你输入的数字非法！')\n",
    "if (birthday_month == 3 and 21<=birthday_day<=31) or (birthday_month == 4 and 1<=birthday_day<=19):\n",
    "    print (name,'你是非常有性格的白羊座！',sep = ',')\n",
    "elif (birthday_month == 4 and 20<=birthday_day<=30) or (birthday_month == 5 and 1<=birthday_day<=20):\n",
    "    print (name,'你是非常有性格的金牛座！',sep = ',')\n",
    "elif (birthday_month == 5 and 21<=birthday_day<=31) or (birthday_month == 6 and 1<=birthday_day<=21):\n",
    "    print (name,'你是非常有性格的双子座！',sep = ',')\n",
    "elif (birthday_month == 6 and 22<=birthday_day<=30) or (birthday_month == 7 and 1<=birthday_day<=22):\n",
    "    print (name,'你是非常有性格的巨蟹座！',sep = ',')\n",
    "elif (birthday_month == 7 and 23<=birthday_day<=31) or (birthday_month == 8 and 1<=birthday_day<=22):\n",
    "    print (name,'你是非常有性格的狮子座！',sep = ',')\n",
    "elif (birthday_month == 8 and 23<=birthday_day<=31) or (birthday_month == 9 and 1<=birthday_day<=22):\n",
    "    print (name,'你是非常有性格的处女座！',sep = ',')\n",
    "elif (birthday_month == 9 and 23<=birthday_day<=30) or (birthday_month == 10 and 1<=birthday_day<=23):\n",
    "    print (name,'你是非常有性格的天秤座！',sep = ',')\n",
    "elif (birthday_month == 10 and 24<=birthday_day<=31) or (birthday_month == 11 and 1<=birthday_day<=22):\n",
    "    print (name,'你是非常有性格的天蝎座！',sep = ',')\n",
    "elif (birthday_month == 11 and 23<=birthday_day<=30) or (birthday_month == 12 and 1<=birthday_day<=21):\n",
    "    print (name,'你是非常有性格的射手座！',sep = ',')\n",
    "elif (birthday_month == 12 and 22<=birthday_day<=31) or (birthday_month == 1 and 1<=birthday_day<=19):\n",
    "    print (name,'你是非常有性格的魔蝎座！',sep = ',')\n",
    "elif (birthday_month == 1 and 20<=birthday_day<=31) or (birthday_month == 2 and 1<=birthday_day<=18):\n",
    "    print (name,'你是非常有性格的水瓶座！',sep = ',')\n",
    "elif (birthday_month == 2 and 19<=birthday_day<=28) or (birthday_month == 3 and 1<=birthday_day<=20):\n",
    "    print (name,'你是非常有性格的双鱼座！',sep = ',')"
   ]
  },
  {
   "cell_type": "code",
   "execution_count": 3,
   "metadata": {
    "collapsed": false,
    "deletable": true,
    "editable": true
   },
   "outputs": [
    {
     "name": "stdout",
     "output_type": "stream",
     "text": [
      "请输入第一个整数，回车结束  3\n",
      "请输入第二个整数，回车结束  9\n",
      "如果你想求和请输入1，如果你想求和请输入2，如果你想求和请输入3，输入其他数字默认整除，回车结束2\n",
      "sum = 27\n"
     ]
    }
   ],
   "source": [
    "#练习 2：写程序，可由键盘读入两个整数m与n(n不等于0)，询问用户意图，如果要求和则计算从m到n的和输出，\n",
    "#如果要乘积则计算从m到n的积并输出，如果要求余数则计算m除以n的余数的值并输出，否则则计算m整除n的值并输出。\n",
    "n = int(input('请输入第一个整数，回车结束  '))\n",
    "m = int(input('请输入第二个整数，回车结束  '))\n",
    "question = int(input('如果你想求和请输入1，如果你想求和请输入2，如果你想求和请输入3，输入其他数字默认整除，回车结束'))\n",
    "if question == 1:\n",
    "    print ('add =',n+m)\n",
    "elif question == 2:\n",
    "    print ('sum =',n*m)\n",
    "elif question == 3:\n",
    "    print ('remainder =',m%n)\n",
    "else :\n",
    "    print ('divided =',m/n)"
   ]
  },
  {
   "cell_type": "code",
   "execution_count": 4,
   "metadata": {
    "collapsed": false,
    "deletable": true,
    "editable": true
   },
   "outputs": [
    {
     "name": "stdout",
     "output_type": "stream",
     "text": [
      "请输入pm2.5的值，回车结束  500\n",
      "应该打开空气净化器，戴防雾霾口罩\n"
     ]
    }
   ],
   "source": [
    "#练习 3：写程序，能够根据北京雾霾PM2.5数值给出对应的防护建议。如当PM2.5数值大于500，则应该打开空气净化器，戴防雾霾口罩等。\n",
    "pm2_5 = int(input('请输入pm2.5的值，回车结束  '))\n",
    "if pm2_5 >= 500:\n",
    "    print ('应该打开空气净化器，戴防雾霾口罩')\n",
    "elif 300 <= pm2_5 < 500:\n",
    "    print ('应该尽量不出门，必要出门戴防雾霾口罩')\n",
    "elif 100 <= pm2_5 < 300:\n",
    "    print ('出门戴防雾霾口罩')\n",
    "elif 0 <= pm2_5 < 100:\n",
    "    print ('空气不错')"
   ]
  },
  {
   "cell_type": "code",
   "execution_count": 7,
   "metadata": {
    "collapsed": false,
    "deletable": true,
    "editable": true
   },
   "outputs": [
    {
     "name": "stdout",
     "output_type": "stream",
     "text": [
      "请输入一个要转换的英语单词，回车结束,输入‘q’结束  photo\n",
      "photos\n",
      "请输入一个要转换的英语单词，回车结束,输入‘q’结束  tomato\n",
      "tomatoes\n",
      "请输入一个要转换的英语单词，回车结束,输入‘q’结束  safe\n",
      "safes\n",
      "请输入一个要转换的英语单词，回车结束,输入‘q’结束  life\n",
      "lives\n",
      "请输入一个要转换的英语单词，回车结束,输入‘q’结束  bus\n",
      "buses\n",
      "请输入一个要转换的英语单词，回车结束,输入‘q’结束  q\n"
     ]
    }
   ],
   "source": [
    "#练习 4：英文单词单数转复数，要求输入一个英文动词（单数形式），能够得到其复数形式，或给出单数转复数形式的建议\n",
    "#（提示，some_string.endswith(some_letter)函数可以判断某字符串结尾字符）。\n",
    "\n",
    "#写成英语名词了，就不写动词了\n",
    "\n",
    "while True :\n",
    "    Eng_word = input('请输入一个要转换的英语单词，回车结束,输入‘q’结束  ')\n",
    "    if Eng_word == 'q':\n",
    "        break\n",
    "    if Eng_word.endswith('s') or Eng_word.endswith('x') or Eng_word.endswith('sh') or Eng_word.endswith('ch'):\n",
    "        print (Eng_word+'es')\n",
    "    elif Eng_word.endswith('y'):\n",
    "        print (Eng_word[0:len(Eng_word)-1]+'ies')\n",
    "    elif Eng_word.endswith('f') or Eng_word.endswith('fe'):\n",
    "        if Eng_word == 'safe' or Eng_word == 'roof': #这特殊情况能列举完吗？？？\n",
    "            print (Eng_word+'s')\n",
    "        elif(Eng_word.endswith('f')):\n",
    "            print (Eng_word[0:len(Eng_word)-1]+'ves')\n",
    "        else :\n",
    "            print (Eng_word[0:len(Eng_word)-2]+'ves')\n",
    "    elif Eng_word.endswith('o'):\n",
    "        if Eng_word == 'tomato' or Eng_word == 'tomato' or Eng_word == 'hero' or Eng_word == 'negro':  #这特殊情况能列举完吗？？？\n",
    "            print (Eng_word+'es')\n",
    "        else :\n",
    "            print (Eng_word+'s')\n",
    "    #elif #不规则的单词 就不写了\n",
    "    else :\n",
    "        print (Eng_word+'s')"
   ]
  },
  {
   "cell_type": "code",
   "execution_count": 5,
   "metadata": {
    "collapsed": false,
    "deletable": true,
    "editable": true
   },
   "outputs": [
    {
     "name": "stdout",
     "output_type": "stream",
     "text": [
      "\n",
      "\n"
     ]
    }
   ],
   "source": [
    "#尝试性练习：写程序，能够在屏幕上显示空行。   ?????????????????????\n",
    "print ('\\n')"
   ]
  },
  {
   "cell_type": "code",
   "execution_count": 9,
   "metadata": {
    "collapsed": false,
    "deletable": true,
    "editable": true
   },
   "outputs": [
    {
     "name": "stdout",
     "output_type": "stream",
     "text": [
      "请输入一个整数，回车结束，输入‘q’为退出 5346547\n",
      "请输入一个整数，回车结束，输入‘q’为退出 342\n",
      "请输入一个整数，回车结束，输入‘q’为退出 454365464\n",
      "请输入一个整数，回车结束，输入‘q’为退出 32423\n",
      "请输入一个整数，回车结束，输入‘q’为退出 231\n",
      "请输入一个整数，回车结束，输入‘q’为退出 q\n",
      "max 454365464\n",
      "secmax 5346547\n"
     ]
    }
   ],
   "source": [
    "#挑战性练习：写程序，由用户输入一些整数，能够得到几个整数中的次大值(第二大的值)并输出。\n",
    "max_n = 0\n",
    "secmax_n = 0\n",
    "while True:\n",
    "    n = input('请输入一个整数，回车结束，输入‘q’为退出 ')\n",
    "    if n == 'q':\n",
    "        break\n",
    "    n = int(n)\n",
    "    if n >= max_n:\n",
    "        secmax_n = max_n\n",
    "        max_n = n\n",
    "print ('max',max_n)\n",
    "print ('secmax',secmax_n)"
   ]
  }
 ],
 "metadata": {
  "kernelspec": {
   "display_name": "Python 3",
   "language": "python",
   "name": "python3"
  },
  "language_info": {
   "codemirror_mode": {
    "name": "ipython",
    "version": 3
   },
   "file_extension": ".py",
   "mimetype": "text/x-python",
   "name": "python",
   "nbconvert_exporter": "python",
   "pygments_lexer": "ipython3",
   "version": "3.6.0"
  }
 },
 "nbformat": 4,
 "nbformat_minor": 2
}
