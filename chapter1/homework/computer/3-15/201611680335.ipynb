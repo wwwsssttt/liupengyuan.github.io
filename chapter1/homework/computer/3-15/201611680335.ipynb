{
 "cells": [
  {
   "cell_type": "code",
   "execution_count": 1,
   "metadata": {
    "collapsed": false,
    "deletable": true,
    "editable": true
   },
   "outputs": [
    {
     "name": "stdout",
     "output_type": "stream",
     "text": [
      "请输入一个整数，以回车结束4\n",
      "10\n"
     ]
    }
   ],
   "source": [
    "n=int(input('请输入一个整数，以回车结束'))\n",
    "\n",
    "i=0\n",
    "total=0\n",
    "\n",
    "while i<n:\n",
    "    i=i+1\n",
    "    total=total+i\n",
    "\n",
    "print(total)"
   ]
  },
  {
   "cell_type": "code",
   "execution_count": 2,
   "metadata": {
    "collapsed": false,
    "deletable": true,
    "editable": true
   },
   "outputs": [
    {
     "name": "stdout",
     "output_type": "stream",
     "text": [
      "请输入整数的个数：2\n",
      "1\n",
      "2\n",
      "输入整数的和是: 3\n"
     ]
    }
   ],
   "source": [
    "n=int(input('请输入整数的个数：'))\n",
    "i=0\n",
    "total=0\n",
    "\n",
    "while i<n:\n",
    "    i=i+1\n",
    "    m=int(input())\n",
    "    total=total+m\n",
    "    \n",
    "print('输入整数的和是:',total)"
   ]
  },
  {
   "cell_type": "code",
   "execution_count": 3,
   "metadata": {
    "collapsed": false,
    "deletable": true,
    "editable": true
   },
   "outputs": [
    {
     "name": "stdout",
     "output_type": "stream",
     "text": [
      "请输入任意整数，若不想输入以0结束\n",
      "请输入任意整数2\n",
      "请输入任意整数3\n",
      "请输入任意整数4\n",
      "请输入任意整数0\n"
     ]
    }
   ],
   "source": [
    "print('请输入任意整数，若不想输入以0结束')\n",
    "n=0\n",
    "\n",
    "while n<1:\n",
    "    m=int(input('请输入任意整数'))\n",
    "    if m==0:\n",
    "        break;"
   ]
  },
  {
   "cell_type": "code",
   "execution_count": 2,
   "metadata": {
    "collapsed": false,
    "deletable": true,
    "editable": true
   },
   "outputs": [
    {
     "name": "stdout",
     "output_type": "stream",
     "text": [
      "请输入任意的整数1\n",
      "请输入任意的整数3\n",
      "请输入任意的整数-6\n",
      "请输入任意的整数-7\n",
      "请输入任意的整数9\n",
      "请输入任意的整数0\n",
      "请输入任意的整数-8\n",
      "请输入任意的整数4\n",
      "the end\n"
     ]
    }
   ],
   "source": [
    "n=0\n",
    "sum=0\n",
    "mult=1\n",
    "while n<1:\n",
    "    m=int(input('请输入任意的整数'))\n",
    "    sum=sum+m\n",
    "    mult=mult*m\n",
    "    if sum < m and mult < m**2:\n",
    "           break;\n",
    "print('the end')"
   ]
  }
 ],
 "metadata": {
  "kernelspec": {
   "display_name": "Python 3",
   "language": "python",
   "name": "python3"
  },
  "language_info": {
   "codemirror_mode": {
    "name": "ipython",
    "version": 3
   },
   "file_extension": ".py",
   "mimetype": "text/x-python",
   "name": "python",
   "nbconvert_exporter": "python",
   "pygments_lexer": "ipython3",
   "version": "3.6.0"
  }
 },
 "nbformat": 4,
 "nbformat_minor": 2
}
