{
 "cells": [
  {
   "cell_type": "code",
   "execution_count": 2,
   "metadata": {
    "collapsed": false
   },
   "outputs": [
    {
     "name": "stdout",
     "output_type": "stream",
     "text": [
      "your name:hehe\n",
      "请输入日期格式为1.1:4.21\n",
      " hehe\n",
      "是金牛座\n"
     ]
    }
   ],
   "source": [
    "name = input('your name:')\n",
    "date = float(input('请输入日期格式为1.1:'))\n",
    "if 4.20<=date<=5.20:\n",
    "    print('',name)\n",
    "    print('是金牛座')"
   ]
  },
  {
   "cell_type": "code",
   "execution_count": 5,
   "metadata": {
    "collapsed": false
   },
   "outputs": [
    {
     "name": "stdout",
     "output_type": "stream",
     "text": [
      "请输入要输入的整数个数，回车结束。4\n",
      "请输入一个整数，回车结束3\n",
      "请输入一个整数，回车结束4\n",
      "请输入一个整数，回车结束6\n",
      "请输入一个整数，回车结束7\n",
      "最大值是： 7\n",
      "最小值是： 3\n",
      "平均值是： 4.25\n"
     ]
    }
   ],
   "source": [
    "m = int(input('请输入要输入的整数个数，回车结束。'))\n",
    "\n",
    "max_number = int(input('请输入一个整数，回车结束'))\n",
    "min_number = max_number\n",
    "\n",
    "total = 0\n",
    "\n",
    "i = 1\n",
    "while i < m:\n",
    "    i += 1\n",
    "    n = int(input('请输入一个整数，回车结束'))\n",
    "    total += n\n",
    "    if n > max_number:\n",
    "        max_number = n\n",
    "    elif n < min_number:\n",
    "        min_number = n\n",
    "        \n",
    "print('最大值是：', max_number)\n",
    "print('最小值是：', min_number)\n",
    "print('平均值是：', total/m)"
   ]
  },
  {
   "cell_type": "code",
   "execution_count": 7,
   "metadata": {
    "collapsed": false
   },
   "outputs": [
    {
     "name": "stdout",
     "output_type": "stream",
     "text": [
      "输入第一个数大9\n",
      "输入第er个数小8\n",
      "1求和 2乘积 3求余 4除\n",
      "请输入选项3\n",
      "1\n"
     ]
    }
   ],
   "source": [
    "m = int(input('输入第一个数大'))\n",
    "n= int(input('输入第er个数小')) \n",
    "print('1求和 2乘积 3求余 4除')\n",
    "a = int(input('请输入选项'))\n",
    "product=1\n",
    "sum=0\n",
    "if a==1:\n",
    "    while n<=m:\n",
    "        sum+=n\n",
    "        n+=1\n",
    "        print(sum)\n",
    "elif a==2:\n",
    "        while n<=m:\n",
    "            product *=n\n",
    "            n+=1\n",
    "        print(product)\n",
    "if a==3:\n",
    "    print(m%n)\n",
    "elif a==4:\n",
    "    print('m/n')\n",
    "\n",
    "    "
   ]
  },
  {
   "cell_type": "code",
   "execution_count": 4,
   "metadata": {
    "collapsed": false
   },
   "outputs": [
    {
     "name": "stdout",
     "output_type": "stream",
     "text": [
      "今天的PM2.5指数:\n",
      "520\n",
      "出么你记得戴口罩哈！\n"
     ]
    }
   ],
   "source": [
    "print('今天的PM2.5指数:')\n",
    "a = int (input())\n",
    "if a<=500:\n",
    "    print('空气质量良好')\n",
    "else :\n",
    "    print('出么你记得戴口罩哈！')"
   ]
  },
  {
   "cell_type": "code",
   "execution_count": 3,
   "metadata": {
    "collapsed": false
   },
   "outputs": [
    {
     "name": "stdout",
     "output_type": "stream",
     "text": [
      "pls enter a wordlove\n",
      "加s or es\n"
     ]
    }
   ],
   "source": [
    "string = input('pls enter a word')\n",
    "if (string.endswith('s')):\n",
    "    print('right')\n",
    "else:\n",
    "    print('加s or es')\n",
    "\n"
   ]
  },
  {
   "cell_type": "code",
   "execution_count": null,
   "metadata": {
    "collapsed": true
   },
   "outputs": [],
   "source": []
  }
 ],
 "metadata": {
  "kernelspec": {
   "display_name": "Python 3",
   "language": "python",
   "name": "python3"
  },
  "language_info": {
   "codemirror_mode": {
    "name": "ipython",
    "version": 3
   },
   "file_extension": ".py",
   "mimetype": "text/x-python",
   "name": "python",
   "nbconvert_exporter": "python",
   "pygments_lexer": "ipython3",
   "version": "3.6.0"
  }
 },
 "nbformat": 4,
 "nbformat_minor": 2
}
