{
 "cells": [
  {
   "cell_type": "code",
   "execution_count": 1,
   "metadata": {
    "collapsed": false
   },
   "outputs": [
    {
     "name": "stdout",
     "output_type": "stream",
     "text": [
      "请输入你的姓名，以回车结束。lai\n",
      "你好 lai\n",
      "请输入一个正整数，以回车结束。3\n",
      "请输入一个正整数，以回车结束。1\n",
      "请输入一个正整数，以回车结束。2\n",
      "请输入一个正整数，以回车结束。3\n",
      "这些数的和是:  6\n",
      "再见! lai\n"
     ]
    }
   ],
   "source": [
    "name=input('请输入你的姓名，以回车结束。')\n",
    "print('你好',name)\n",
    "\n",
    "n=int(input('请输入一个正整数，以回车结束。'))\n",
    "i=0\n",
    "total=0\n",
    "while i<n:\n",
    "    m=int(input('请输入一个正整数，以回车结束。'))\n",
    "    total=total+m\n",
    "    i=i+1\n",
    "print('这些数的和是: ',total)\n",
    "print('再见!',name)"
   ]
  },
  {
   "cell_type": "code",
   "execution_count": 2,
   "metadata": {
    "collapsed": false
   },
   "outputs": [
    {
     "name": "stdout",
     "output_type": "stream",
     "text": [
      "请输入一个数，以回车结束。2\n",
      "当结束输入时 输入-1回车\n",
      "请输入一个数，以回车结束。3\n",
      "请输入一个数，以回车结束。4\n",
      "请输入一个数，以回车结束。-1\n"
     ]
    }
   ],
   "source": [
    "n=int(input('请输入一个数，以回车结束。'))\n",
    "print('当结束输入时 输入-1回车')\n",
    "while n!=-1:\n",
    "    n=int(input('请输入一个数，以回车结束。'))"
   ]
  },
  {
   "cell_type": "code",
   "execution_count": 4,
   "metadata": {
    "collapsed": false
   },
   "outputs": [
    {
     "name": "stdout",
     "output_type": "stream",
     "text": [
      "请输入一个正整数，以回车结束。5\n",
      "请输入一个正整数，以回车结束。6\n",
      "请输入一个正整数，以回车结束。4\n",
      "请输入一个正整数，以回车结束。7\n",
      "请输入一个正整数，以回车结束。10\n",
      "请输入一个正整数，以回车结束。100\n"
     ]
    }
   ],
   "source": [
    "m=int(input('请输入一个正整数，以回车结束。'))\n",
    "n=int(input('请输入一个正整数，以回车结束。'))\n",
    "he=m+n\n",
    "ji=m*n\n",
    "x=int(input('请输入一个正整数，以回车结束。'))\n",
    "while x<=he and x*x<=ji:\n",
    "    he=he+x\n",
    "    ji=ji*x    \n",
    "    x=int(input('请输入一个正整数，以回车结束。'))"
   ]
  }
 ],
 "metadata": {
  "kernelspec": {
   "display_name": "Python 3",
   "language": "python",
   "name": "python3"
  },
  "language_info": {
   "codemirror_mode": {
    "name": "ipython",
    "version": 3
   },
   "file_extension": ".py",
   "mimetype": "text/x-python",
   "name": "python",
   "nbconvert_exporter": "python",
   "pygments_lexer": "ipython3",
   "version": "3.6.0"
  }
 },
 "nbformat": 4,
 "nbformat_minor": 2
}
