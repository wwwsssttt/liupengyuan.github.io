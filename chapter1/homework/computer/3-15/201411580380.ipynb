n = int(input('请输入一个正整数，以回车结束。'))
m = int(input('请输入一个正整数，以回车结束。'))
x = int(input('请输入一个正整数，以回车结束。'))
y = int(input('请输入一个正整数，以回车结束。'))
z = int(input('请输入一个正整数，以回车结束。'))
t = int(input('请输入一个正整数，以回车结束。'))
print('The total number is:',int(n+m+x+y+z+t))

total = 0

while True:
    number =input('Number: ') 

    try:
        total += number
    except ValueError:
        break

print ('Total number is:')
print(int(total))

total = 0
a = 1

while True:
    number =input('Number: ') 
    total += number
    a *= number
   # except int(number)>total and a<int(number)*int(number) and ValueError:
    #    break

print ('Total number is:')
print(int(total))
