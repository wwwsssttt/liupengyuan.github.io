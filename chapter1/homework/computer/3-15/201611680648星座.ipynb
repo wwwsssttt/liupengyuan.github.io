{
 "cells": [
  {
   "cell_type": "code",
   "execution_count": 4,
   "metadata": {
    "collapsed": false,
    "deletable": true,
    "editable": true
   },
   "outputs": [
    {
     "name": "stdout",
     "output_type": "stream",
     "text": [
      "请输入你生日的月份7\n",
      "请输入你生日的日期23\n",
      "Mr.right 你是狂拽酷炫的狮子座\n"
     ]
    }
   ],
   "source": [
    "month=int(input('请输入你生日的月份'))\n",
    "day=int(input('请输入你生日的日期'))\n",
    "if (month==1 and day>=20)or(month==2 and day<=18):\n",
    "    print('Mr.right 你是洒脱的水瓶座！')\n",
    "elif (month==2 and day>=19)or(month==3 and day<=20):\n",
    "    print('Mr.right 你是温柔的双鱼座！')\n",
    "elif (month==3 and day>=21)or(month==4 and day<=19):\n",
    "    print('Mr.right 你是热情的白羊座！')\n",
    "elif (month==4 and day>=20)or(month==5 and day<=20):\n",
    "    print('Mr.right 你是稳重的金牛座！')\n",
    "elif (month==5 and day>=21)or(month==6 and day<=21):\n",
    "    print('Mr.right 你是灵活的双子座！')\n",
    "elif (month==6 and day>=22)or(month==7 and day<=22):\n",
    "    print('Mr.right 你是爱家的巨蟹走！')\n",
    "elif (month==7 and day>=23)or(month==8 and day<=22):\n",
    "    print('Mr.right 你是狂拽酷炫的狮子座')\n",
    "elif (month==8 and day>=23)or(month==9 and day<=22):\n",
    "    print('Mr.right 你是追求完美的处女座！')\n",
    "elif (month==9 and day>=23)or(month==10 and day<=23):\n",
    "    print('Mr.right 你是优雅的天秤座！')\n",
    "elif (month==10 and day>=24)or(month==11 and day<=22):\n",
    "    print('Mr.right 你是外冷内热的天蝎座！')\n",
    "elif (month==11 and day>=23)or(month==12 and day<=21):\n",
    "    print('Mr.right 你是自由的射手座！')\n",
    "elif (month==12 and day>=22)or(month==1 and day<=19):\n",
    "    print('Mr.right 你是工作狂的摩羯座！')"
   ]
  }
 ],
 "metadata": {
  "kernelspec": {
   "display_name": "Python 3",
   "language": "python",
   "name": "python3"
  },
  "language_info": {
   "codemirror_mode": {
    "name": "ipython",
    "version": 3
   },
   "file_extension": ".py",
   "mimetype": "text/x-python",
   "name": "python",
   "nbconvert_exporter": "python",
   "pygments_lexer": "ipython3",
   "version": "3.6.0"
  }
 },
 "nbformat": 4,
 "nbformat_minor": 2
}
