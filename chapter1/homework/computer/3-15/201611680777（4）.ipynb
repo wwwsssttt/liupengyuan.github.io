{
 "cells": [
  {
   "cell_type": "code",
   "execution_count": 8,
   "metadata": {
    "collapsed": false
   },
   "outputs": [
    {
     "name": "stdout",
     "output_type": "stream",
     "text": [
      "eat\n",
      "eats\n"
     ]
    }
   ],
   "source": [
    "verb=str(input())\n",
    "\n",
    "if verb.endswith('sh') or verb.endswith('x') or verb.endswith('ch') or verb.endswith('s'):\n",
    "    y=verb+'es'\n",
    "    print(y)\n",
    "else:\n",
    "    y=verb+'s'\n",
    "    print(y)\n"
   ]
  }
 ],
 "metadata": {
  "kernelspec": {
   "display_name": "Python 3",
   "language": "python",
   "name": "python3"
  },
  "language_info": {
   "codemirror_mode": {
    "name": "ipython",
    "version": 3
   },
   "file_extension": ".py",
   "mimetype": "text/x-python",
   "name": "python",
   "nbconvert_exporter": "python",
   "pygments_lexer": "ipython3",
   "version": "3.6.0"
  }
 },
 "nbformat": 4,
 "nbformat_minor": 2
}
