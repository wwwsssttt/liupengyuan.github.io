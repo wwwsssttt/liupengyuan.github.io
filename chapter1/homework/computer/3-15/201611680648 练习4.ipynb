{
 "cells": [
  {
   "cell_type": "code",
   "execution_count": null,
   "metadata": {
    "collapsed": false
   },
   "outputs": [
    {
     "name": "stdout",
     "output_type": "stream",
     "text": [
      "请输入一个整数，并以回车结束1\n",
      "总和为 1\n",
      "积为 1\n",
      "请输入一个整数，并以回车结束3\n",
      "总和为 4\n",
      "积为 3\n"
     ]
    }
   ],
   "source": [
    "n=int(input('请输入一个整数，并以回车结束'))\n",
    "t=n\n",
    "p=n\n",
    "print('总和为',t)\n",
    "print('积为',p)\n",
    "while(t>=n and p<=n**2):\n",
    "    n=int(input('请输入一个整数，并以回车结束'))\n",
    "    t+=n\n",
    "    p*=n\n",
    "    print('总和为',t)\n",
    "    print('积为',p)"
   ]
  }
 ],
 "metadata": {
  "kernelspec": {
   "display_name": "Python 3",
   "language": "python",
   "name": "python3"
  },
  "language_info": {
   "codemirror_mode": {
    "name": "ipython",
    "version": 3
   },
   "file_extension": ".py",
   "mimetype": "text/x-python",
   "name": "python",
   "nbconvert_exporter": "python",
   "pygments_lexer": "ipython3",
   "version": "3.6.0"
  }
 },
 "nbformat": 4,
 "nbformat_minor": 2
}
