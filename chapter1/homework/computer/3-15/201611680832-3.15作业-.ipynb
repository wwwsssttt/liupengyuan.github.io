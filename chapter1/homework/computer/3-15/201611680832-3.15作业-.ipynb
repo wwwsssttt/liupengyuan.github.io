{
 "cells": [
  {
   "cell_type": "code",
   "execution_count": 2,
   "metadata": {
    "collapsed": false
   },
   "outputs": [
    {
     "name": "stdout",
     "output_type": "stream",
     "text": [
      "93326215443944152681699238856266700490715968264381621468592963895217599993229915608941463976156518286253697920827223758251185210916864000000000000000000000000\n"
     ]
    }
   ],
   "source": [
    "n=100\n",
    "i=0\n",
    "tatol=1\n",
    "while i<n:\n",
    "    i=i+1\n",
    "    tatol=tatol*i\n",
    "print(tatol)"
   ]
  },
  {
   "cell_type": "code",
   "execution_count": null,
   "metadata": {
    "collapsed": false
   },
   "outputs": [
    {
     "name": "stdout",
     "output_type": "stream",
     "text": [
      "输入正整数，回车结束6\n",
      "6\n",
      "输入正整数，回车结束7\n",
      "7\n"
     ]
    }
   ],
   "source": [
    "n=int(input('输入正整数，回车结束'))\n",
    "print(n)\n",
    "while n!=0:\n",
    "    m=int(input('输入正整数，回车结束'))\n",
    "    print(m)\n",
    "    "
   ]
  },
  {
   "cell_type": "code",
   "execution_count": null,
   "metadata": {
    "collapsed": true
   },
   "outputs": [],
   "source": [
    "n=int(input('输入正整数，回车结束'))\n",
    "print(n)\n",
    "tatol=0\n",
    "temp=1\n",
    "while n!=0:\n",
    "    m=int(input('输入正整数，回车结束'))\n",
    "    print(m)\n",
    "    tatol=tatol+m\n",
    "    print(tatol)\n",
    "    temp=temp*m\n",
    "    print(temp)\n",
    "    while tatol<m&&temp<(m*m):\n",
    "        break"
   ]
  }
 ],
 "metadata": {
  "kernelspec": {
   "display_name": "Python 3",
   "language": "python",
   "name": "python3"
  },
  "language_info": {
   "codemirror_mode": {
    "name": "ipython",
    "version": 3
   },
   "file_extension": ".py",
   "mimetype": "text/x-python",
   "name": "python",
   "nbconvert_exporter": "python",
   "pygments_lexer": "ipython3",
   "version": "3.6.0"
  }
 },
 "nbformat": 4,
 "nbformat_minor": 2
}
