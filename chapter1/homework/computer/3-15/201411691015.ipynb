{
 "cells": [
  {
   "cell_type": "code",
   "execution_count": 1,
   "metadata": {
    "collapsed": false,
    "deletable": true,
    "editable": true
   },
   "outputs": [
    {
     "name": "stdout",
     "output_type": "stream",
     "text": [
      "8\n",
      "40320\n"
     ]
    }
   ],
   "source": [
    "#练习1：仿照任务2完整代码，打印n!。\n",
    "n = int(input())\n",
    "total = 1\n",
    "i=1\n",
    "while i<n+1:\n",
    "    total *= i\n",
    "    i += 1\n",
    "print (total)"
   ]
  },
  {
   "cell_type": "code",
   "execution_count": 2,
   "metadata": {
    "collapsed": false,
    "deletable": true,
    "editable": true
   },
   "outputs": [
    {
     "name": "stdout",
     "output_type": "stream",
     "text": [
      "请输入你的姓名，以回车结束。l\n",
      "你好 l\n",
      "请输入一个正整数，以回车结束。2\n",
      "请输入一个正整数，以回车结束。6\n",
      "两个数的和是： 8\n",
      "再见！ l\n"
     ]
    }
   ],
   "source": [
    "#实践1：键入如下代码并观察执行结果。\n",
    "name = input('请输入你的姓名，以回车结束。')\n",
    "print('你好', name)\n",
    "\n",
    "n = int(input('请输入一个正整数，以回车结束。'))\n",
    "m = int(input('请输入一个正整数，以回车结束。'))\n",
    "\n",
    "print('两个数的和是：', m+n)\n",
    "print('再见！', name)"
   ]
  },
  {
   "cell_type": "code",
   "execution_count": 3,
   "metadata": {
    "collapsed": false,
    "deletable": true,
    "editable": true
   },
   "outputs": [
    {
     "name": "stdout",
     "output_type": "stream",
     "text": [
      "请输入一个正整数为次数，以回车结束。   3\n",
      "请输入一个正整数为加数，以回车结束。   3\n",
      "请输入一个正整数为加数，以回车结束。   3\n",
      "请输入一个正整数为加数，以回车结束。   3\n",
      "9\n"
     ]
    }
   ],
   "source": [
    "#练习2：仿照实践1，写出由用户指定整数个数，并由用户输入多个整数，并求和的代码。\n",
    "n = int(input('请输入一个正整数为次数，以回车结束。   '))\n",
    "total = 0\n",
    "i=0\n",
    "while i<n:\n",
    "    m = int(input('请输入一个正整数为加数，以回车结束。   '))\n",
    "    total += m\n",
    "    i += 1\n",
    "print (total)"
   ]
  },
  {
   "cell_type": "code",
   "execution_count": 5,
   "metadata": {
    "collapsed": false,
    "deletable": true,
    "editable": true
   },
   "outputs": [
    {
     "name": "stdout",
     "output_type": "stream",
     "text": [
      "请输入一个正整数为加数，以回车结束，输入‘q’为退出。    2\n",
      "请输入一个正整数为加数，以回车结束，输入‘q’为退出。    2\n",
      "请输入一个正整数为加数，以回车结束，输入‘q’为退出。    2\n",
      "请输入一个正整数为加数，以回车结束，输入‘q’为退出。    q\n",
      "6\n"
     ]
    }
   ],
   "source": [
    "#练习3：用户可以输入的任意多个数字，直到用户不想输入为止。\n",
    "total = 0\n",
    "i=True\n",
    "while i:\n",
    "    m = input('请输入一个正整数为加数，以回车结束，输入‘q’为退出。    ')\n",
    "    if ( m == 'q'):\n",
    "        break\n",
    "    m = int(m)\n",
    "    total += m\n",
    "print (total)"
   ]
  },
  {
   "cell_type": "code",
   "execution_count": 2,
   "metadata": {
    "collapsed": false,
    "deletable": true,
    "editable": true
   },
   "outputs": [
    {
     "name": "stdout",
     "output_type": "stream",
     "text": [
      "请输入一个正整数为加数，以回车结束。输入‘q’为退出   5\n",
      "请输入一个正整数为加数，以回车结束。输入‘q’为退出   555555555555\n",
      "请输入一个正整数为加数，以回车结束。输入‘q’为退出   4\n",
      "请输入一个正整数为加数，以回车结束。输入‘q’为退出   q\n",
      "555555555564\n",
      "11111111111100\n"
     ]
    }
   ],
   "source": [
    "#练习4：用户可以输入的任意多个数字，直到输入所有数字的和比当前输入数字小，且输入所有数字的积比当前输入数字的平方小(大)。\n",
    "m = int(input('请输入一个正整数为加数，以回车结束。输入‘q’为退出   '))\n",
    "total = m\n",
    "product = m\n",
    "sq_product = m*m\n",
    "while True:\n",
    "    m = input('请输入一个正整数为加数，以回车结束。输入‘q’为退出   ')\n",
    "    if m == 'q':\n",
    "        break\n",
    "    m = int(m) \n",
    "    if (m >= total and m <= sq_product):     #由于刚开始进入循环时total就被赋值为0\n",
    "        break\n",
    "    total += m\n",
    "    product *= m\n",
    "    sq_product = product * product\n",
    "print (total)\n",
    "print (product)"
   ]
  },
  {
   "cell_type": "code",
   "execution_count": 5,
   "metadata": {
    "collapsed": false,
    "deletable": true,
    "editable": true
   },
   "outputs": [
    {
     "name": "stdout",
     "output_type": "stream",
     "text": [
      "请输入一个正整数为加数，以回车结束。输入‘q’为退出   2\n",
      "请输入一个正整数为加数，以回车结束。输入‘q’为退出   6\n",
      "8\n",
      "12\n"
     ]
    }
   ],
   "source": [
    "#练习4：用户可以输入的任意多个数字，直到输入所有数字的和比当前输入数字小，且输入所有数字的积比当前输入数字的平方大。\n",
    "n = int(input('请输入一个正整数为加数，以回车结束。输入‘q’为退出   '))\n",
    "total = n\n",
    "product = n\n",
    "while total >= n and product <= n:\n",
    "    n = input('请输入一个正整数为加数，以回车结束。输入‘q’为退出   ')\n",
    "    if n == 'q':\n",
    "        break\n",
    "    n = int(n) \n",
    "    total += n\n",
    "    product *= n\n",
    "print (total)\n",
    "print (product)"
   ]
  }
 ],
 "metadata": {
  "kernelspec": {
   "display_name": "Python 3",
   "language": "python",
   "name": "python3"
  },
  "language_info": {
   "codemirror_mode": {
    "name": "ipython",
    "version": 3
   },
   "file_extension": ".py",
   "mimetype": "text/x-python",
   "name": "python",
   "nbconvert_exporter": "python",
   "pygments_lexer": "ipython3",
   "version": "3.6.0"
  }
 },
 "nbformat": 4,
 "nbformat_minor": 2
}
