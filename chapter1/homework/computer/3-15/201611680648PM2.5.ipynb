{
 "cells": [
  {
   "cell_type": "code",
   "execution_count": 1,
   "metadata": {
    "collapsed": false
   },
   "outputs": [
    {
     "name": "stdout",
     "output_type": "stream",
     "text": [
      "请输入今日的PM2.5指数145\n",
      "中度污染，应减少户外活动，外出时佩戴口罩，敏感人群应尽量避免外出。\n"
     ]
    }
   ],
   "source": [
    "PM=int(input('请输入今日的PM2.5指数'))\n",
    "if 0<=PM<35:\n",
    "    print('空气质量优')\n",
    "elif 35<=PM<75:\n",
    "    print('空气质量良')\n",
    "elif 75<=PM<115:\n",
    "    print('轻度污染，请减少外出并佩戴口罩')\n",
    "elif 115<=PM<150:\n",
    "    print('中度污染，应减少户外活动，外出时佩戴口罩，敏感人群应尽量避免外出。')\n",
    "elif 150<=PM<250:\n",
    "    print('重度污染，避免外出，开启空气净化器')\n",
    "else:\n",
    "    print('我也很绝望了')"
   ]
  }
 ],
 "metadata": {
  "kernelspec": {
   "display_name": "Python 3",
   "language": "python",
   "name": "python3"
  },
  "language_info": {
   "codemirror_mode": {
    "name": "ipython",
    "version": 3
   },
   "file_extension": ".py",
   "mimetype": "text/x-python",
   "name": "python",
   "nbconvert_exporter": "python",
   "pygments_lexer": "ipython3",
   "version": "3.6.0"
  }
 },
 "nbformat": 4,
 "nbformat_minor": 2
}
