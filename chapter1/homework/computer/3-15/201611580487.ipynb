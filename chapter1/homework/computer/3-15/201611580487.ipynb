{
 "cells": [
  {
   "cell_type": "code",
   "execution_count": 24,
   "metadata": {
    "collapsed": false,
    "deletable": true,
    "editable": true
   },
   "outputs": [
    {
     "name": "stdout",
     "output_type": "stream",
     "text": [
      "请输入100\n",
      "93326215443944152681699238856266700490715968264381621468592963895217599993229915608941463976156518286253697920827223758251185210916864000000000000000000000000\n"
     ]
    }
   ],
   "source": [
    "n=int(input('请输入'))\n",
    "i=0\n",
    "s=1\n",
    "while i<n:\n",
    "    i=i+1\n",
    "    s=s*i\n",
    "print(s)    \n"
   ]
  },
  {
   "cell_type": "code",
   "execution_count": 1,
   "metadata": {
    "collapsed": false,
    "deletable": true,
    "editable": true
   },
   "outputs": [
    {
     "name": "stdout",
     "output_type": "stream",
     "text": [
      "请输入你的名字，以回车结束。qc\n",
      "你好 qc\n",
      "请输入整数个数。2\n",
      "请输入一个正整数，以回车结束。3\n",
      "请输入一个正整数，以回车结束。3\n",
      "数的和是： 6\n",
      "再见！ qc\n"
     ]
    }
   ],
   "source": [
    "name=input('请输入你的名字，以回车结束。')\n",
    "print('你好',name)\n",
    "i=int(input('请输入整数个数。'))\n",
    "m=0\n",
    "s=0\n",
    "while m<i:\n",
    "    m+=1\n",
    "    n=int(input('请输入一个正整数，以回车结束。'))\n",
    "    s=s+n\n",
    "print('数的和是：',s)\n",
    "print('再见！',name)"
   ]
  },
  {
   "cell_type": "code",
   "execution_count": 10,
   "metadata": {
    "collapsed": false,
    "deletable": true,
    "editable": true
   },
   "outputs": [
    {
     "name": "stdout",
     "output_type": "stream",
     "text": [
      "请输入你的名字，以回车结束。qc\n",
      "你好 qc\n",
      "请输入一个正整数，以回车结束2\n",
      "请输入一个正整数，以回车结束3\n",
      "请输入一个正整数，以回车结束4\n",
      "请输入一个正整数，以回车结束5\n",
      "请输入一个正整数，以回车结束不输入\n",
      "再见！ qc\n"
     ]
    }
   ],
   "source": [
    "name=input('请输入你的名字，以回车结束。')\n",
    "print('你好',name)\n",
    "while True:\n",
    "    n=input('请输入一个正整数，以回车结束')\n",
    "    if n==('不输入'):\n",
    "        break\n",
    "print('再见！',name)"
   ]
  },
  {
   "cell_type": "code",
   "execution_count": 12,
   "metadata": {
    "collapsed": false,
    "deletable": true,
    "editable": true
   },
   "outputs": [
    {
     "name": "stdout",
     "output_type": "stream",
     "text": [
      "请输入你的姓名，以回车结束。qc\n",
      "你好 qc\n",
      "请输入一个正整数，以回车结束。2\n",
      "请输入一个正整数，以回车结束。10\n",
      "请输入一个正整数，以回车结束。10\n",
      "请输入一个正整数，以回车结束。10\n",
      "请输入一个正整数，以回车结束。q\n"
     ]
    },
    {
     "ename": "ValueError",
     "evalue": "invalid literal for int() with base 10: 'q'",
     "output_type": "error",
     "traceback": [
      "\u001b[1;31m---------------------------------------------------------------------------\u001b[0m",
      "\u001b[1;31mValueError\u001b[0m                                Traceback (most recent call last)",
      "\u001b[1;32m<ipython-input-12-1385fb0ac7c1>\u001b[0m in \u001b[0;36m<module>\u001b[1;34m()\u001b[0m\n\u001b[0;32m      4\u001b[0m \u001b[0mj\u001b[0m\u001b[1;33m=\u001b[0m\u001b[1;36m1\u001b[0m\u001b[1;33m\u001b[0m\u001b[0m\n\u001b[0;32m      5\u001b[0m \u001b[1;32mwhile\u001b[0m \u001b[1;32mTrue\u001b[0m\u001b[1;33m:\u001b[0m\u001b[1;33m\u001b[0m\u001b[0m\n\u001b[1;32m----> 6\u001b[1;33m     \u001b[0mn\u001b[0m\u001b[1;33m=\u001b[0m\u001b[0mint\u001b[0m\u001b[1;33m(\u001b[0m\u001b[0minput\u001b[0m\u001b[1;33m(\u001b[0m\u001b[1;34m'请输入一个正整数，以回车结束。'\u001b[0m\u001b[1;33m)\u001b[0m\u001b[1;33m)\u001b[0m\u001b[1;33m\u001b[0m\u001b[0m\n\u001b[0m\u001b[0;32m      7\u001b[0m     \u001b[0ms\u001b[0m\u001b[1;33m=\u001b[0m\u001b[0ms\u001b[0m\u001b[1;33m+\u001b[0m\u001b[0mn\u001b[0m\u001b[1;33m\u001b[0m\u001b[0m\n\u001b[0;32m      8\u001b[0m     \u001b[0mj\u001b[0m\u001b[1;33m=\u001b[0m\u001b[0mj\u001b[0m\u001b[1;33m*\u001b[0m\u001b[0mn\u001b[0m\u001b[1;33m\u001b[0m\u001b[0m\n",
      "\u001b[1;31mValueError\u001b[0m: invalid literal for int() with base 10: 'q'"
     ]
    }
   ],
   "source": [
    "name=input('请输入你的姓名，以回车结束。')\n",
    "print('你好',name)\n",
    "s=0\n",
    "j=1\n",
    "while True:\n",
    "    n=int(input('请输入任意一个整数，以回车结束。'))\n",
    "    s=s+n\n",
    "    j=j*n\n",
    "    if s<n and j<n*n:\n",
    "        break\n",
    "print('再见！',name)    "
   ]
  }
 ],
 "metadata": {
  "kernelspec": {
   "display_name": "Python 3",
   "language": "python",
   "name": "python3"
  },
  "language_info": {
   "codemirror_mode": {
    "name": "ipython",
    "version": 3
   },
   "file_extension": ".py",
   "mimetype": "text/x-python",
   "name": "python",
   "nbconvert_exporter": "python",
   "pygments_lexer": "ipython3",
   "version": "3.6.0"
  }
 },
 "nbformat": 4,
 "nbformat_minor": 2
}
