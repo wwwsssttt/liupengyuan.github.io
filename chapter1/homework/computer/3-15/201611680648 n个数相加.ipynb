{
 "cells": [
  {
   "cell_type": "code",
   "execution_count": 1,
   "metadata": {
    "collapsed": false
   },
   "outputs": [
    {
     "name": "stdout",
     "output_type": "stream",
     "text": [
      "请输入需相加的整数的个数n\n",
      "3\n",
      "请输入一个整数\n",
      "1\n",
      "请输入一个整数\n",
      "2\n",
      "请输入一个整数\n",
      "3\n",
      "total= 6\n"
     ]
    }
   ],
   "source": [
    "print(\"请输入需相加的整数的个数n\")\n",
    "n=int(input())\n",
    "total=int(0)\n",
    "while n>0:\n",
    "    print('请输入一个整数')\n",
    "    i=int(input())\n",
    "    total=total+i\n",
    "    n-=1\n",
    "print('total=',total)"
   ]
  },
  {
   "cell_type": "code",
   "execution_count": null,
   "metadata": {
    "collapsed": true
   },
   "outputs": [],
   "source": []
  }
 ],
 "metadata": {
  "kernelspec": {
   "display_name": "Python 3",
   "language": "python",
   "name": "python3"
  },
  "language_info": {
   "codemirror_mode": {
    "name": "ipython",
    "version": 3
   },
   "file_extension": ".py",
   "mimetype": "text/x-python",
   "name": "python",
   "nbconvert_exporter": "python",
   "pygments_lexer": "ipython3",
   "version": "3.6.0"
  }
 },
 "nbformat": 4,
 "nbformat_minor": 2
}
