{
 "cells": [
  {
   "cell_type": "code",
   "execution_count": 2,
   "metadata": {
    "collapsed": false
   },
   "outputs": [
    {
     "name": "stdout",
     "output_type": "stream",
     "text": [
      "请输入指定的整数个数，以回车结束。3\n",
      "1\n",
      "2\n",
      "3\n",
      "整数之和是 6\n"
     ]
    }
   ],
   "source": [
    "n=int(input('请输入指定的整数个数，以回车结束。'))\n",
    "i=0\n",
    "total=0\n",
    "while i<n :\n",
    "    m=int(input())\n",
    "    total=total+m\n",
    "    i =1+i\n",
    "print('整数之和是',total)\n"
   ]
  }
 ],
 "metadata": {
  "kernelspec": {
   "display_name": "Python 3",
   "language": "python",
   "name": "python3"
  },
  "language_info": {
   "codemirror_mode": {
    "name": "ipython",
    "version": 3
   },
   "file_extension": ".py",
   "mimetype": "text/x-python",
   "name": "python",
   "nbconvert_exporter": "python",
   "pygments_lexer": "ipython3",
   "version": "3.6.0"
  }
 },
 "nbformat": 4,
 "nbformat_minor": 2
}
