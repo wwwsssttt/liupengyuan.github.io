{
 "cells": [
  {
   "cell_type": "code",
   "execution_count": 1,
   "metadata": {
    "collapsed": false
   },
   "outputs": [
    {
     "name": "stdout",
     "output_type": "stream",
     "text": [
      "请输入一个正整数n：4\n",
      "请输入一个正整数，以回车结束。3\n",
      "请输入一个正整数，以回车结束。8\n",
      "请输入一个正整数，以回车结束。9\n",
      "请输入一个正整数，以回车结束。7\n",
      "27\n"
     ]
    }
   ],
   "source": [
    "n=int(input('请输入一个正整数n：'))\n",
    "i=0\n",
    "total=0\n",
    "while i<n:\n",
    "    i=i+1\n",
    "    m=int(input('请输入一个正整数，以回车结束。'))\n",
    "    total=total+m\n",
    "    \n",
    "print(total)"
   ]
  },
  {
   "cell_type": "code",
   "execution_count": 2,
   "metadata": {
    "collapsed": false
   },
   "outputs": [
    {
     "name": "stdout",
     "output_type": "stream",
     "text": [
      "请输入一个数，以0结束。5\n",
      "5\n",
      "请输入一个数，以0结束。6\n",
      "11\n",
      "请输入一个数，以0结束。3\n",
      "14\n",
      "请输入一个数，以0结束。0\n",
      "14\n",
      "over\n"
     ]
    }
   ],
   "source": [
    "m=1\n",
    "n=0\n",
    "total=0\n",
    "while m!=0:\n",
    "    n=int(input('请输入一个数，以0结束。'))\n",
    "    m=n\n",
    "    total=total+n\n",
    "    print(total)\n",
    "print('over')"
   ]
  },
  {
   "cell_type": "code",
   "execution_count": 4,
   "metadata": {
    "collapsed": false
   },
   "outputs": [
    {
     "name": "stdout",
     "output_type": "stream",
     "text": [
      "Please enter a number:77\n",
      "Please enter a number:777\n",
      "Please enter a number:77777\n",
      "Please enter a number:7\n"
     ]
    }
   ],
   "source": [
    "number = int(input('Please enter a number:'))\n",
    "total=number\n",
    "product=number\n",
    "\n",
    "while total>=number and product <= number*number:\n",
    "    number = int(input('Please enter a number:'))\n",
    "    total=total+number\n",
    "    product=product*number"
   ]
  }
 ],
 "metadata": {
  "kernelspec": {
   "display_name": "Python 3",
   "language": "python",
   "name": "python3"
  },
  "language_info": {
   "codemirror_mode": {
    "name": "ipython",
    "version": 3
   },
   "file_extension": ".py",
   "mimetype": "text/x-python",
   "name": "python",
   "nbconvert_exporter": "python",
   "pygments_lexer": "ipython3",
   "version": "3.6.0"
  }
 },
 "nbformat": 4,
 "nbformat_minor": 2
}
