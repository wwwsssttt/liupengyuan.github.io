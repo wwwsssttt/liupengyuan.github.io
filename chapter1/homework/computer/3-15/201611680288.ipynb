{
 "cells": [
  {
   "cell_type": "code",
   "execution_count": 1,
   "metadata": {
    "collapsed": false
   },
   "outputs": [
    {
     "name": "stdout",
     "output_type": "stream",
     "text": [
      "请输入整数个数，以回车结束。2\n",
      "请输入一个正整数，以回车结束。1\n",
      "请输入一个正整数，以回车结束。2\n",
      "3\n"
     ]
    }
   ],
   "source": [
    "n=int(input('请输入整数个数，以回车结束。'))\n",
    "i=0\n",
    "total=0\n",
    "while i<n:\n",
    "    i=i+1\n",
    "    a=int(input('请输入一个正整数，以回车结束。'))\n",
    "    total=total+a\n",
    "print(total)"
   ]
  },
  {
   "cell_type": "code",
   "execution_count": 3,
   "metadata": {
    "collapsed": false
   },
   "outputs": [
    {
     "name": "stdout",
     "output_type": "stream",
     "text": [
      "请输入任意的多个数字，不想输入时输入数字九结束\n",
      "9\n",
      "结束\n"
     ]
    }
   ],
   "source": [
    "print('请输入任意的多个数字，不想输入时输入数字九结束')\n",
    " s=int(input())\n",
    "while True:\n",
    "    if s==9:\n",
    "        break\n",
    "        s=int(input())\n",
    "print('结束')    "
   ]
  },
  {
   "cell_type": "code",
   "execution_count": 12,
   "metadata": {
    "collapsed": false
   },
   "outputs": [
    {
     "name": "stdout",
     "output_type": "stream",
     "text": [
      "请输入一个正整数，以回车结束。1\n",
      "请输入一个正整数，以回车结束。-1\n",
      "请输入一个正整数，以回车结束。2\n",
      "请输入一个正整数，以回车结束。-3\n",
      "请输入一个正整数，以回车结束。0\n",
      "请输入一个正整数，以回车结束。2\n",
      "结束\n"
     ]
    }
   ],
   "source": [
    "total=0\n",
    "accu=1\n",
    "while True:\n",
    "    a=int(input('请输入一个正整数，以回车结束。'))\n",
    "    total=total+a\n",
    "    accu=accu*a\n",
    "    if (total<a)and(accu<a**2):\n",
    "        print('结束')\n",
    "        break\n",
    "        \n"
   ]
  }
 ],
 "metadata": {
  "kernelspec": {
   "display_name": "Python 3",
   "language": "python",
   "name": "python3"
  },
  "language_info": {
   "codemirror_mode": {
    "name": "ipython",
    "version": 3
   },
   "file_extension": ".py",
   "mimetype": "text/x-python",
   "name": "python",
   "nbconvert_exporter": "python",
   "pygments_lexer": "ipython3",
   "version": "3.6.0"
  }
 },
 "nbformat": 4,
 "nbformat_minor": 2
}
