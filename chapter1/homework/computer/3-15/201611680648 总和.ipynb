{
 "cells": [
  {
   "cell_type": "code",
   "execution_count": null,
   "metadata": {
    "collapsed": false
   },
   "outputs": [
    {
     "name": "stdout",
     "output_type": "stream",
     "text": [
      "请输入一个正数，以回车结束1\n",
      "总和为： 1\n",
      "请输入一个正数，以回车结束2\n",
      "总和为： 3\n",
      "请输入一个正数，以回车结束3\n",
      "总和为： 6\n",
      "请输入一个正数，以回车结束5\n",
      "总和为： 11\n"
     ]
    }
   ],
   "source": [
    "t=int(0)\n",
    "while 1<2:\n",
    "    n=int(input('请输入一个正数，以回车结束'))\n",
    "    t+=n\n",
    "    print('总和为：',t)"
   ]
  }
 ],
 "metadata": {
  "kernelspec": {
   "display_name": "Python 3",
   "language": "python",
   "name": "python3"
  },
  "language_info": {
   "codemirror_mode": {
    "name": "ipython",
    "version": 3
   },
   "file_extension": ".py",
   "mimetype": "text/x-python",
   "name": "python",
   "nbconvert_exporter": "python",
   "pygments_lexer": "ipython3",
   "version": "3.6.0"
  }
 },
 "nbformat": 4,
 "nbformat_minor": 2
}
