{
 "cells": [
  {
   "cell_type": "code",
   "execution_count": 3,
   "metadata": {
    "collapsed": false
   },
   "outputs": [
    {
     "name": "stdout",
     "output_type": "stream",
     "text": [
      "100\n",
      "93326215443944152681699238856266700490715968264381621468592963895217599993229915608941463976156518286253697920827223758251185210916864000000000000000000000000\n"
     ]
    }
   ],
   "source": [
    "n=int(input())\n",
    "i=1\n",
    "total=1\n",
    "while i<=n:\n",
    "    total*=i\n",
    "    i+=1\n",
    "print(total)"
   ]
  },
  {
   "cell_type": "code",
   "execution_count": 4,
   "metadata": {
    "collapsed": false
   },
   "outputs": [
    {
     "name": "stdout",
     "output_type": "stream",
     "text": [
      "请输入你的姓名，以回车结束。wuyutong\n",
      "你好 wuyutong\n",
      "请输入一个正整数，以回车结束。100\n",
      "请输入一个正整数，以回车结束。100\n",
      "两个数的和是： 200\n",
      "再见！ wuyutong\n"
     ]
    }
   ],
   "source": [
    "name = input('请输入你的姓名，以回车结束。')\n",
    "print('你好', name)\n",
    "\n",
    "n = int(input('请输入一个正整数，以回车结束。'))\n",
    "m = int(input('请输入一个正整数，以回车结束。'))\n",
    "\n",
    "print('两个数的和是：', m+n)\n",
    "print('再见！', name)"
   ]
  },
  {
   "cell_type": "code",
   "execution_count": 6,
   "metadata": {
    "collapsed": false
   },
   "outputs": [
    {
     "name": "stdout",
     "output_type": "stream",
     "text": [
      "请输入整数个数5\n",
      "请输入一个正整数，以回车结束。10\n",
      "请输入一个正整数，以回车结束。12\n",
      "请输入一个正整数，以回车结束。13\n",
      "请输入一个正整数，以回车结束。50\n",
      "请输入一个正整数，以回车结束。10\n",
      "95\n"
     ]
    }
   ],
   "source": [
    "n=int(input('请输入整数个数'))\n",
    "i=1\n",
    "total=0\n",
    "while i<=n:\n",
    "    m=int(input('请输入一个正整数，以回车结束。'))\n",
    "    total+=m\n",
    "    i+=1\n",
    "print(total)"
   ]
  },
  {
   "cell_type": "code",
   "execution_count": 12,
   "metadata": {
    "collapsed": false
   },
   "outputs": [
    {
     "name": "stdout",
     "output_type": "stream",
     "text": [
      "当您不想继续输入的时候输入0\n",
      "请输入一个正整数，以回车结束。1\n",
      "请输入一个正整数，以回车结束。2\n",
      "请输入一个正整数，以回车结束。3\n",
      "请输入一个正整数，以回车结束。0\n",
      "6\n"
     ]
    }
   ],
   "source": [
    "total=0\n",
    "m=1\n",
    "print('当您不想继续输入的时候输入0')\n",
    "while m!=0:\n",
    "    m=int(input('请输入一个正整数，以回车结束。'))\n",
    "    total+=m\n",
    "print(total)"
   ]
  },
  {
   "cell_type": "code",
   "execution_count": 19,
   "metadata": {
    "collapsed": false
   },
   "outputs": [
    {
     "name": "stdout",
     "output_type": "stream",
     "text": [
      "请输入一个正整数，以回车结束。1\n",
      "请输入一个正整数，以回车结束。1\n",
      "请输入一个正整数，以回车结束。2\n",
      "4\n"
     ]
    }
   ],
   "source": [
    "n=int(input('请输入一个正整数，以回车结束。'))\n",
    "sum=n\n",
    "mul=n\n",
    "while n<=sum and n**2<=mul:\n",
    "    n=int(input('请输入一个正整数，以回车结束。'))\n",
    "    sum+=n\n",
    "    mul*=n\n",
    "print(sum)\n",
    "    "
   ]
  }
 ],
 "metadata": {
  "kernelspec": {
   "display_name": "Python 3",
   "language": "python",
   "name": "python3"
  },
  "language_info": {
   "codemirror_mode": {
    "name": "ipython",
    "version": 3
   },
   "file_extension": ".py",
   "mimetype": "text/x-python",
   "name": "python",
   "nbconvert_exporter": "python",
   "pygments_lexer": "ipython3",
   "version": "3.6.0"
  }
 },
 "nbformat": 4,
 "nbformat_minor": 2
}
