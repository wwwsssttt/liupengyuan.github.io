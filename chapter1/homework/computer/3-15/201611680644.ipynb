{
 "cells": [
  {
   "cell_type": "code",
   "execution_count": 2,
   "metadata": {
    "collapsed": false
   },
   "outputs": [
    {
     "name": "stdout",
     "output_type": "stream",
     "text": [
      "100\n",
      "5050\n"
     ]
    }
   ],
   "source": [
    "n=int (input())\n",
    "i=0\n",
    "sum=0\n",
    "while i<=n:\n",
    "    sum=sum+i\n",
    "    i=i+1\n",
    "print(sum)\n"
   ]
  },
  {
   "cell_type": "code",
   "execution_count": 3,
   "metadata": {
    "collapsed": false
   },
   "outputs": [
    {
     "name": "stdout",
     "output_type": "stream",
     "text": [
      "请输入你指定的整数个数\n",
      "3\n",
      "4\n",
      "1\n",
      "1\n",
      "6\n"
     ]
    }
   ],
   "source": [
    "print('请输入你指定的整数个数')\n",
    "n=int (input())\n",
    "sum=0\n",
    "i=0\n",
    "while i<n:\n",
    "    m=int (input())\n",
    "    sum=sum+m\n",
    "    i=i+1\n",
    "    \n",
    "print(sum)\n"
   ]
  },
  {
   "cell_type": "code",
   "execution_count": 4,
   "metadata": {
    "collapsed": false
   },
   "outputs": [
    {
     "name": "stdout",
     "output_type": "stream",
     "text": [
      "5\n",
      "1\n"
     ]
    }
   ],
   "source": [
    "sum=int (input())\n",
    "total=int (input())\n",
    "while sum>=n and total>=(n*n):\n",
    "    n=int (input())\n",
    "    sum=sum+n \n",
    "    total=total*n"
   ]
  }
 ],
 "metadata": {
  "kernelspec": {
   "display_name": "Python 3",
   "language": "python",
   "name": "python3"
  },
  "language_info": {
   "codemirror_mode": {
    "name": "ipython",
    "version": 3
   },
   "file_extension": ".py",
   "mimetype": "text/x-python",
   "name": "python",
   "nbconvert_exporter": "python",
   "pygments_lexer": "ipython3",
   "version": "3.6.0"
  }
 },
 "nbformat": 4,
 "nbformat_minor": 2
}
