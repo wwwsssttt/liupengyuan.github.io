{
 "cells": [
  {
   "cell_type": "code",
   "execution_count": 2,
   "metadata": {
    "collapsed": false
   },
   "outputs": [
    {
     "data": {
      "text/plain": [
       "True"
      ]
     },
     "execution_count": 2,
     "metadata": {},
     "output_type": "execute_result"
    }
   ],
   "source": [
    "'liupengyuan'.endswith('n')"
   ]
  },
  {
   "cell_type": "code",
   "execution_count": 12,
   "metadata": {
    "collapsed": false
   },
   "outputs": [
    {
     "name": "stdout",
     "output_type": "stream",
     "text": [
      "请输入一个英文名词的单数形式：\n",
      "fox\n",
      "foxes\n"
     ]
    }
   ],
   "source": [
    "print('请输入一个英文名词的单数形式：')\n",
    "n=str(input())\n",
    "if n.endswith('s')or n.endswith('sh')or n.endswith('x')or n.endswith('ch'):\n",
    "    print(n+'es')\n",
    "elif n.endswith('f'):\n",
    "    print('改f或fe为v加es')\n",
    "elif n.endswith('fe'):\n",
    "    print('改f或fe为v加es')\n",
    "elif n.endswith('y'):\n",
    "    print('改y为i加es')\n",
    "else:\n",
    "    print(n+'s')"
   ]
  }
 ],
 "metadata": {
  "kernelspec": {
   "display_name": "Python 3",
   "language": "python",
   "name": "python3"
  },
  "language_info": {
   "codemirror_mode": {
    "name": "ipython",
    "version": 3
   },
   "file_extension": ".py",
   "mimetype": "text/x-python",
   "name": "python",
   "nbconvert_exporter": "python",
   "pygments_lexer": "ipython3",
   "version": "3.6.0"
  }
 },
 "nbformat": 4,
 "nbformat_minor": 2
}
