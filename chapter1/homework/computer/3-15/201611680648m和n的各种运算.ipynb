{
 "cells": [
  {
   "cell_type": "code",
   "execution_count": null,
   "metadata": {
    "collapsed": true
   },
   "outputs": [],
   "source": [
    "print('请输入两个整数m、n，并且n不等于0，m>n')\n",
    "m=int(input('请输入m的值：'))\n",
    "n=int(input('请输入n的值：'))\n",
    "i=m-n\n",
    "s=char(input('请输入要进行的运算：+ or × or %'))\n",
    "if s=='+':\n",
    "    printf('m到n的和为：',i*(n+1)+i*(i+1)/2)\n",
    "elif s=='×':\n",
    "    q=0\n",
    "    p=1\n",
    "    while (q+n)<m:\n",
    "        p=p*(n+q)\n",
    "        q+=1\n",
    "    print('乘积运算结果为：',p)\n",
    "elif s=='%':\n",
    "    print('取余运算的结果为：',m%n)\n",
    "else:\n",
    "    print('整除运算结果为',m/n)"
   ]
  }
 ],
 "metadata": {
  "kernelspec": {
   "display_name": "Python 3",
   "language": "python",
   "name": "python3"
  },
  "language_info": {
   "codemirror_mode": {
    "name": "ipython",
    "version": 3
   },
   "file_extension": ".py",
   "mimetype": "text/x-python",
   "name": "python",
   "nbconvert_exporter": "python",
   "pygments_lexer": "ipython3",
   "version": "3.6.0"
  }
 },
 "nbformat": 4,
 "nbformat_minor": 2
}
