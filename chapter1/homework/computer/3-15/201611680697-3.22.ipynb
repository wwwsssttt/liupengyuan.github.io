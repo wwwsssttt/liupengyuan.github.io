{
 "cells": [
  {
   "cell_type": "markdown",
   "metadata": {
    "deletable": true,
    "editable": true
   },
   "source": [
    "写程序，可由键盘读入用户姓名例如Mr. right，让用户输入出生的月份与日期，判断用户星座，假设用户是金牛座，则输出，Mr. right，你是非常有性格的金牛座！。"
   ]
  },
  {
   "cell_type": "code",
   "execution_count": 10,
   "metadata": {
    "collapsed": false,
    "deletable": true,
    "editable": true
   },
   "outputs": [
    {
     "name": "stdout",
     "output_type": "stream",
     "text": [
      "your name:yan\n",
      "your birth month:2\n",
      "your birth day24\n",
      "yan 你是双鱼座！\n"
     ]
    }
   ],
   "source": [
    "name=str(input('your name:'))\n",
    "month=int(input('your birth month:'))\n",
    "day=int(input('your birth day'))\n",
    "if month==1 and day<21:\n",
    "    print(name,'你是摩羯座！')\n",
    "if month==12 and day>21:\n",
    "    print(name,'你是摩羯座！')\n",
    "if month==2 and day<19:\n",
    "    print(name,'你是水瓶座！')\n",
    "if month==1 and day>20:\n",
    "    print(name,'你是水瓶座！')\n",
    "if month==3 and day<21:\n",
    "    print(name,'你是双鱼座！')\n",
    "if month==2 and day>18:\n",
    "    print(name,'你是双鱼座！')\n",
    "if month==4 and day<21:\n",
    "    print(name,'你是白羊座！')\n",
    "if month==3 and day>20:\n",
    "    print(name,'你是白羊座！')\n",
    "if month==5 and day<22:\n",
    "    print(name,'你是金牛座！')\n",
    "if month==4 and day>20:\n",
    "    print(name,'你是金牛座！')\n",
    "if month==6 and day<23:\n",
    "    print(name,'你是摩羯座！')\n",
    "if month==5 and day>21:\n",
    "    print(name,'你是摩羯座！')\n",
    "if month==7 and day<24:\n",
    "    print(name,'你是双子座！')\n",
    "if month==6 and day>22:\n",
    "    print(name,'你是双子座！')\n",
    "if month==8 and day<24:\n",
    "    print(name,'你是巨蟹座！')\n",
    "if month==7 and day>23:\n",
    "    print(name,'你是巨蟹座！')\n",
    "if month==9 and day<24:\n",
    "    print(name,'你是狮子座！')\n",
    "if month==8 and day>23:\n",
    "    print(name,'你是狮子座！')\n",
    "if month==10 and day<24:\n",
    "    print(name,'你是处女座！')\n",
    "if month==9 and day>23:\n",
    "    print(name,'你是处女座！')\n",
    "if month==11 and day<23:\n",
    "    print(name,'你是天秤座！')\n",
    "if month==10 and day>23:\n",
    "    print(name,'你是天秤座！')\n",
    "if month==12 and day<23:\n",
    "    print(name,'你是射手座！')\n",
    "if month==11 and day>22:\n",
    "    print(name,'你是射手座！')"
   ]
  },
  {
   "cell_type": "markdown",
   "metadata": {
    "deletable": true,
    "editable": true
   },
   "source": [
    "写程序，可由键盘读入两个整数m与n(n不等于0)，询问用户意图，如果要求和则计算从m到n的和输出，如果要乘积则计算从m到n的积并输出，如果要求余数则计算m除以n的余数的值并输出，否则则计算m整除n的值并输出。"
   ]
  },
  {
   "cell_type": "code",
   "execution_count": 1,
   "metadata": {
    "collapsed": false,
    "deletable": true,
    "editable": true
   },
   "outputs": [
    {
     "name": "stdout",
     "output_type": "stream",
     "text": [
      "6\n",
      "2\n",
      "if you want to get m+n,enter 1.if you want to get m*n,enter 2.if you want to get m%n,enter 3.if you want to get m/n,enter 42\n",
      "12\n"
     ]
    }
   ],
   "source": [
    "m=int(input())\n",
    "n=int(input())\n",
    "aim=int(input('if you want to get m+n,enter 1.if you want to get m*n,enter 2.if you want to get m%n,enter 3.if you want to get m/n,enter 4'))\n",
    "if aim==1:\n",
    "    print(m+n)\n",
    "elif aim==2:\n",
    "    print(m*n)\n",
    "elif aim==3:\n",
    "    print(m%n)\n",
    "else:\n",
    "    print(m/n)"
   ]
  },
  {
   "cell_type": "markdown",
   "metadata": {
    "deletable": true,
    "editable": true
   },
   "source": [
    "写程序，能够根据北京雾霾PM2.5数值给出对应的防护建议。如当PM2.5数值大于500，则应该打开空气净化器，戴防雾霾口罩等。"
   ]
  },
  {
   "cell_type": "code",
   "execution_count": 2,
   "metadata": {
    "collapsed": false,
    "deletable": true,
    "editable": true
   },
   "outputs": [
    {
     "name": "stdout",
     "output_type": "stream",
     "text": [
      "500\n",
      "一般人群因避免户外运动。\n"
     ]
    }
   ],
   "source": [
    "pm=int(input())\n",
    "if pm<=50:\n",
    "    print('空气质量优，各类人群可正常活动')\n",
    "elif pm<=100:\n",
    "    print('空气质量良，极少数异常敏感人群应减少户外活动')\n",
    "elif pm<=150:\n",
    "    print('轻度污染，体质弱者应减少长时间、高强度的户外锻炼。')\n",
    "elif pm<=200:\n",
    "    print('中度污染,一般人群适量减少户外运动。')\n",
    "elif pm<=300:\n",
    "    print('重度污染，体质弱者停止户外运动，一般人群适量减少户外运动。')\n",
    "else:\n",
    "    print('一般人群因避免户外运动。')\n",
    "    "
   ]
  },
  {
   "cell_type": "markdown",
   "metadata": {
    "deletable": true,
    "editable": true
   },
   "source": [
    "英文单词单数转复数，要求输入一个英文动词（单数形式），能够得到其复数形式，或给出单数转复数形式的建议（提示，some_string.endswith(some_letter)函数可以判断某字符串结尾字符）。"
   ]
  },
  {
   "cell_type": "code",
   "execution_count": 7,
   "metadata": {
    "collapsed": false,
    "deletable": true,
    "editable": true
   },
   "outputs": [
    {
     "name": "stdout",
     "output_type": "stream",
     "text": [
      "study\n",
      "把y改i再加es\n"
     ]
    }
   ],
   "source": [
    "word=str(input())\n",
    "if word.endswith(('s','sh','ch','x','o')):\n",
    "    print(word+'es')\n",
    "elif word.endswith(('by','cy','dy','fy','gy','hy','jy','ky','ly','my','ny','py','qy','ry','sy','ty','vy','wy','xy','zy')):\n",
    "    print('把y改i再加es')\n",
    "else:\n",
    "    print(word+'s')"
   ]
  }
 ],
 "metadata": {
  "kernelspec": {
   "display_name": "Python 3",
   "language": "python",
   "name": "python3"
  },
  "language_info": {
   "codemirror_mode": {
    "name": "ipython",
    "version": 3
   },
   "file_extension": ".py",
   "mimetype": "text/x-python",
   "name": "python",
   "nbconvert_exporter": "python",
   "pygments_lexer": "ipython3",
   "version": "3.6.0"
  }
 },
 "nbformat": 4,
 "nbformat_minor": 2
}
