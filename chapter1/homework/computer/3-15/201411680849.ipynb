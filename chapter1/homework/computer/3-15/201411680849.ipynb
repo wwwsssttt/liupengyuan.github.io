{
 "cells": [
  {
   "cell_type": "code",
   "execution_count": 1,
   "metadata": {
    "collapsed": false,
    "deletable": true,
    "editable": true
   },
   "outputs": [
    {
     "name": "stdout",
     "output_type": "stream",
     "text": [
      "请输入想要求和的整数个数，并在输入结束后回车：10\n",
      "请输入想要求和的整数。每输入一个后请回车：\n",
      "1\n",
      "2\n",
      "3\n",
      "4\n",
      "5\n",
      "6\n",
      "7\n",
      "8\n",
      "9\n",
      "10\n",
      "输入的 10 个整数的和为: 55 。\n",
      "\n"
     ]
    }
   ],
   "source": [
    "#练习2：写出由用户指定整数个数，并由用户输入多个整数，并求和的代码\n",
    "num=int(input(\"请输入想要求和的整数个数，并在输入结束后回车：\"))\n",
    "i=0\n",
    "sum=0\n",
    "print(\"请输入想要求和的整数。每输入一个后请回车：\")\n",
    "while i<num:\n",
    "    a=int(input());\n",
    "    sum=sum+a;\n",
    "    i=i+1\n",
    "print(\"输入的\",num,\"个整数的和为:\",sum,\"。\\n\")"
   ]
  },
  {
   "cell_type": "code",
   "execution_count": 2,
   "metadata": {
    "collapsed": false,
    "deletable": true,
    "editable": true
   },
   "outputs": [
    {
     "name": "stdout",
     "output_type": "stream",
     "text": [
      "请输入想要求和的整数，不想再输时请输入'n'。每输入一个后请回车：\n",
      "1\n",
      "2\n",
      "3\n",
      "4\n",
      "5\n",
      "6\n",
      "7\n",
      "8\n",
      "9\n",
      "10\n",
      "-20\n",
      "n\n",
      "输入的 11 个整数的和为 35 \n",
      "\n"
     ]
    }
   ],
   "source": [
    "#练习3：用户可以输入的任意多个数字，直到用户不想输入为止。\n",
    "sum=0\n",
    "i=0\n",
    "print(\"请输入想要求和的整数，不想再输时请输入'n'。每输入一个后请回车：\")\n",
    "while True:\n",
    "    a=str(input());\n",
    "    if a=='n':\n",
    "        break;\n",
    "    else:\n",
    "        a=int(a)\n",
    "        sum=sum+a\n",
    "        i+=1;\n",
    "print(\"输入的\",i,\"个整数的和为\",sum,\"\\n\")"
   ]
  },
  {
   "cell_type": "code",
   "execution_count": 1,
   "metadata": {
    "collapsed": false,
    "deletable": true,
    "editable": true
   },
   "outputs": [
    {
     "name": "stdout",
     "output_type": "stream",
     "text": [
      "请输入一个整数，并在输入结束后回车：1\n",
      "请输入一个整数，并在输入结束后回车：1\n",
      "请输入一个整数，并在输入结束后回车：2\n",
      "请输入一个整数，并在输入结束后回车：3\n",
      "请输入一个整数，并在输入结束后回车：4\n",
      "请输入一个整数，并在输入结束后回车：10\n",
      "请输入一个整数，并在输入结束后回车：22\n",
      "输入的 6 个数字的和为 21 ，小于当前输入的数字 22 。且积为 240 ，小于当前输入的数字的平方 484 。\n"
     ]
    }
   ],
   "source": [
    "#练习4：用户可以输入的任意多个数字，直到输入所有数字的和比当前输入数字小，且输入所有数字的积比当前输入数字的平方小\n",
    "he=0\n",
    "ji=1\n",
    "i=0\n",
    "while True:\n",
    "    a=int(input('请输入一个整数，并在输入结束后回车：'));\n",
    "    if he<a and ji<a**2:\n",
    "        break;\n",
    "    else: \n",
    "        he=he+a;\n",
    "        ji=ji*a;\n",
    "        i+=1;\n",
    "print(\"输入的\",i,\"个数字的和为\",he,\"，小于当前输入的数字\",a,\"。且积为\",ji,\"，小于当前输入的数字的平方\",a**2,\"。\")"
   ]
  }
 ],
 "metadata": {
  "kernelspec": {
   "display_name": "Python 3",
   "language": "python",
   "name": "python3"
  },
  "language_info": {
   "codemirror_mode": {
    "name": "ipython",
    "version": 3
   },
   "file_extension": ".py",
   "mimetype": "text/x-python",
   "name": "python",
   "nbconvert_exporter": "python",
   "pygments_lexer": "ipython3",
   "version": "3.6.0"
  }
 },
 "nbformat": 4,
 "nbformat_minor": 2
}
