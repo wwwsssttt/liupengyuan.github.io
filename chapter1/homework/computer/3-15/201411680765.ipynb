{
 "cells": [
  {
   "cell_type": "code",
   "execution_count": 1,
   "metadata": {
    "collapsed": false
   },
   "outputs": [
    {
     "name": "stdout",
     "output_type": "stream",
     "text": [
      "请输入一个整数并以回车结束：\n",
      "3\n",
      "6\n"
     ]
    }
   ],
   "source": [
    "print ('请输入一个整数并以回车结束：')\n",
    "number=int(input())\n",
    "i=1\n",
    "sum=1\n",
    "while i<=number:\n",
    "    sum*=i\n",
    "    i+=1\n",
    "print (sum)"
   ]
  },
  {
   "cell_type": "code",
   "execution_count": 2,
   "metadata": {
    "collapsed": false
   },
   "outputs": [
    {
     "name": "stdout",
     "output_type": "stream",
     "text": [
      "请输入你的姓名并以回车结束：侯\n",
      "你好 侯\n",
      "请输入一个整数并以回车结束2\n",
      "请输入一个整数并以回车结束3\n",
      "两数之和 5\n",
      "再见 侯\n"
     ]
    }
   ],
   "source": [
    "name=input('请输入你的姓名并以回车结束：')\n",
    "print ('你好',name)\n",
    "m=int(input('请输入一个整数并以回车结束'))\n",
    "n=int(input('请输入一个整数并以回车结束'))\n",
    "print ('两数之和',m+n)\n",
    "print ('再见',name)"
   ]
  },
  {
   "cell_type": "code",
   "execution_count": 3,
   "metadata": {
    "collapsed": false
   },
   "outputs": [
    {
     "name": "stdout",
     "output_type": "stream",
     "text": [
      "请输入您想输入的整数个数并以回车结束3\n",
      "请输入一个整数并以回车结束：2\n",
      "请输入一个整数并以回车结束：3\n",
      "请输入一个整数并以回车结束：4\n",
      "9\n"
     ]
    }
   ],
   "source": [
    "number=int(input('请输入您想输入的整数个数并以回车结束'))\n",
    "i=0\n",
    "sum=0\n",
    "while 1:\n",
    "    if i>=number:\n",
    "        break\n",
    "    n=int(input('请输入一个整数并以回车结束：'))\n",
    "    sum+=n\n",
    "    i+=1\n",
    "print (sum)"
   ]
  },
  {
   "cell_type": "code",
   "execution_count": 4,
   "metadata": {
    "collapsed": false
   },
   "outputs": [
    {
     "name": "stdout",
     "output_type": "stream",
     "text": [
      "请输入一个整数并以回车结束：9\n",
      "请输入一个整数并以回车结束：8\n",
      "请输入一个整数并以回车结束：7\n",
      "请输入一个整数并以回车结束：q\n",
      "exit!\n"
     ]
    }
   ],
   "source": [
    "while 1:\n",
    "    n=input('请输入一个整数并以回车结束：')\n",
    "    if n == 'q':\n",
    "        print ('exit!')\n",
    "        break\n",
    "    number=int(n)"
   ]
  },
  {
   "cell_type": "code",
   "execution_count": 6,
   "metadata": {
    "collapsed": false
   },
   "outputs": [
    {
     "name": "stdout",
     "output_type": "stream",
     "text": [
      "请输入一个整数并以回车结束：4\n",
      "exit!\n"
     ]
    }
   ],
   "source": [
    "sum1=0\n",
    "sum2=1\n",
    "while 1:\n",
    "    number=int(input('请输入一个整数并以回车结束：'))\n",
    "    if sum1<number and sum2<number*number:\n",
    "        print ('exit!')\n",
    "        break\n",
    "    sum1+=number\n",
    "    sum2*=number"
   ]
  },
  {
   "cell_type": "code",
   "execution_count": null,
   "metadata": {
    "collapsed": true
   },
   "outputs": [],
   "source": []
  },
  {
   "cell_type": "code",
   "execution_count": null,
   "metadata": {
    "collapsed": true
   },
   "outputs": [],
   "source": []
  }
 ],
 "metadata": {
  "kernelspec": {
   "display_name": "Python 3",
   "language": "python",
   "name": "python3"
  },
  "language_info": {
   "codemirror_mode": {
    "name": "ipython",
    "version": 3
   },
   "file_extension": ".py",
   "mimetype": "text/x-python",
   "name": "python",
   "nbconvert_exporter": "python",
   "pygments_lexer": "ipython3",
   "version": "3.6.0"
  }
 },
 "nbformat": 4,
 "nbformat_minor": 2
}
