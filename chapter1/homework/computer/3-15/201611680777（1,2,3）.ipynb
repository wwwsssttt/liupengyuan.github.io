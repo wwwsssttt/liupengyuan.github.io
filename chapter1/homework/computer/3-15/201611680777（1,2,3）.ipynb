{
 "cells": [
  {
   "cell_type": "code",
   "execution_count": null,
   "metadata": {
    "collapsed": true
   },
   "outputs": [],
   "source": [
    "name=input('输入你的名字')\n",
    "x=int(input('输入你的出生月份'))\n",
    "y=int(input('输入你的出生日期'))\n",
    "print(name)\n",
    "if x==1:\n",
    "    if y>=20:\n",
    "        print('水瓶座')\n",
    "    else:\n",
    "        print('摩羯座')\n",
    "if x==2:\n",
    "    if y>=19:\n",
    "        print('双鱼座')\n",
    "    else:\n",
    "        print('水瓶座')\n",
    "if x==3:\n",
    "    if y>=21:\n",
    "        print('白羊座')\n",
    "    else:\n",
    "        print('双鱼座')\n",
    "if x==4:\n",
    "    if y>=20:\n",
    "        print('金牛座')\n",
    "    else:\n",
    "        print('白羊座')\n",
    "if x==5:\n",
    "    if y>=21:\n",
    "        print('双子座')\n",
    "    else:\n",
    "        print('金牛座')\n",
    "if x==6:\n",
    "    if y>=22:\n",
    "        print('巨蟹座')\n",
    "    else:\n",
    "        print('双子座')\n",
    "if x==7:\n",
    "    if y>=23:\n",
    "        print('狮子座')\n",
    "    else:\n",
    "        print('巨蟹座')\n",
    "if x==8:\n",
    "    if y>=23:\n",
    "        print('处女座')\n",
    "    else:\n",
    "        print('狮子座')\n",
    "if x==9:\n",
    "    if y>=23:\n",
    "        print('天秤座')\n",
    "    else:\n",
    "        print('狮子座')\n",
    "if x==10:\n",
    "    if y>=24:\n",
    "        print('天蝎座')\n",
    "    else:\n",
    "        print('天秤座')\n",
    "if x==11:\n",
    "    if y>=23:\n",
    "        print('射手座')\n",
    "    else:\n",
    "        print('天蝎座')\n",
    "if x==12:\n",
    "    if y>=22:\n",
    "        print('摩羯座')\n",
    "    else:\n",
    "        print('射手座')\n",
    "    \n"
   ]
  },
  {
   "cell_type": "code",
   "execution_count": null,
   "metadata": {
    "collapsed": true
   },
   "outputs": [],
   "source": [
    "m=int(input())\n",
    "n=int(input())\n",
    "max=0\n",
    "min=0\n",
    "i=0\n",
    "s1=0\n",
    "s2=1\n",
    "if m>n:\n",
    "    max=m\n",
    "    min=n\n",
    "else:\n",
    "    max=n\n",
    "    min=m\n",
    "print('请选择算法，1为加法，2未乘法，3为求余数，4为整除')\n",
    "x=int(input())\n",
    "if x==1:\n",
    "    while i<max:\n",
    "        s1=s1+i\n",
    "        i+=1\n",
    "    print(s1)\n",
    "if x==2:\n",
    "    while i<max:\n",
    "        s2=s2*i\n",
    "        i+=1\n",
    "    print(s2)\n",
    "if x==3:\n",
    "    s1=max//min\n",
    "    print(s1)\n",
    "if x==4:\n",
    "    s2=max%min\n",
    "    print(s2)\n"
   ]
  },
  {
   "cell_type": "code",
   "execution_count": null,
   "metadata": {
    "collapsed": true
   },
   "outputs": [],
   "source": [
    "x=float(input('请输入pm2.5的值'))\n",
    "if x<=100:\n",
    "    print('空气质量良好，适宜出门')\n",
    "if x>100 and x<=200:\n",
    "    print('污染较重，请做好防护措施出门')\n",
    "if x>200:\n",
    "    print('污染太重，别出门了')"
   ]
  }
 ],
 "metadata": {
  "kernelspec": {
   "display_name": "Python 3",
   "language": "python",
   "name": "python3"
  },
  "language_info": {
   "codemirror_mode": {
    "name": "ipython",
    "version": 3
   },
   "file_extension": ".py",
   "mimetype": "text/x-python",
   "name": "python",
   "nbconvert_exporter": "python",
   "pygments_lexer": "ipython3",
   "version": "3.6.0"
  }
 },
 "nbformat": 4,
 "nbformat_minor": 2
}
