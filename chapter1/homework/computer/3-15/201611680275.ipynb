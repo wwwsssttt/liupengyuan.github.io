{
 "cells": [
  {
   "cell_type": "code",
   "execution_count": 1,
   "metadata": {
    "collapsed": false
   },
   "outputs": [
    {
     "name": "stdout",
     "output_type": "stream",
     "text": [
      "请输入一个整数，作为加数的个数3\n",
      "请输入一个整数，作为加数2\n",
      "请输入一个整数，作为加数3\n",
      "请输入一个整数，作为加数2\n",
      "7\n"
     ]
    }
   ],
   "source": [
    "n=int(input('请输入一个整数，作为加数的个数'))\n",
    "m=0\n",
    "total=0\n",
    "\n",
    "while m<n:\n",
    "    m=m+1\n",
    "    i=int(input('请输入一个整数，作为加数'))\n",
    "    total=total+i\n",
    "    \n",
    "print(total)"
   ]
  },
  {
   "cell_type": "code",
   "execution_count": 2,
   "metadata": {
    "collapsed": false
   },
   "outputs": [
    {
     "name": "stdout",
     "output_type": "stream",
     "text": [
      "如果想继续输入数字，请输入1，如果不想继续输入，请输入01\n",
      "输入一个数字，如果不想继续输入，请输入0：2\n",
      "输入一个数字，如果不想继续输入，请输入0：4\n",
      "输入一个数字，如果不想继续输入，请输入0：1\n",
      "输入一个数字，如果不想继续输入，请输入0：0\n",
      "再见！\n"
     ]
    }
   ],
   "source": [
    "n=int(input('如果想继续输入数字，请输入1，如果不想继续输入，请输入0'))\n",
    "\n",
    "while n>0:\n",
    "    n=int(input('输入一个数字，如果不想继续输入，请输入0：'))\n",
    "\n",
    "print('再见！')"
   ]
  },
  {
   "cell_type": "code",
   "execution_count": 2,
   "metadata": {
    "collapsed": false
   },
   "outputs": [
    {
     "name": "stdout",
     "output_type": "stream",
     "text": [
      "请输入数字1：1\n",
      "现在所有数字的和为 1\n",
      "现在所有数字的积为 1\n",
      "请再输入一个数字2\n",
      "已达到要求，可结束\n",
      "现在所有数字的和为 3\n",
      "现在所有数字的积为 2\n",
      "若要继续输入，请输入数字1，否则，请输入数字0：1\n",
      "请再输入一个数字3\n",
      "现在所有数字的和为 6\n",
      "现在所有数字的积为 6\n",
      "若要继续输入，请输入数字1，否则，请输入数字0：1\n",
      "请再输入一个数字88\n",
      "已达到要求，可结束\n",
      "现在所有数字的和为 94\n",
      "现在所有数字的积为 528\n",
      "若要继续输入，请输入数字1，否则，请输入数字0：0\n"
     ]
    }
   ],
   "source": [
    "n=int(input('请输入数字1：')) \n",
    "a=n \n",
    "b=n \n",
    "print('现在所有数字的和为',a)\n",
    "print('现在所有数字的积为',b) \n",
    "while n==1: \n",
    "    m=int(input('请再输入一个数字'))\n",
    "    if a<m and b<m**2: \n",
    "        print('已达到要求，可结束')\n",
    "    a=a+m \n",
    "    b=b*m \n",
    "    print('现在所有数字的和为',a)\n",
    "    print('现在所有数字的积为',b)\n",
    "    n=int(input('若要继续输入，请输入数字1，否则，请输入数字0：'))"
   ]
  }
 ],
 "metadata": {
  "kernelspec": {
   "display_name": "Python 3",
   "language": "python",
   "name": "python3"
  },
  "language_info": {
   "codemirror_mode": {
    "name": "ipython",
    "version": 3
   },
   "file_extension": ".py",
   "mimetype": "text/x-python",
   "name": "python",
   "nbconvert_exporter": "python",
   "pygments_lexer": "ipython3",
   "version": "3.6.0"
  }
 },
 "nbformat": 4,
 "nbformat_minor": 2
}
