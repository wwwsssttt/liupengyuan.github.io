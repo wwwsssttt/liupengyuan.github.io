{
 "cells": [
  {
   "cell_type": "code",
   "execution_count": 1,
   "metadata": {
    "collapsed": false,
    "deletable": true,
    "editable": true
   },
   "outputs": [
    {
     "name": "stdout",
     "output_type": "stream",
     "text": [
      "请输入一个整数，以回车结束。5\n",
      "120\n"
     ]
    }
   ],
   "source": [
    "n=int(input('请输入一个整数，以回车结束。'))\n",
    "i=0\n",
    "num=1\n",
    "while i<n:\n",
    "    i+=1\n",
    "    num*=i\n",
    "print(num)"
   ]
  },
  {
   "cell_type": "code",
   "execution_count": 2,
   "metadata": {
    "collapsed": false,
    "deletable": true,
    "editable": true
   },
   "outputs": [
    {
     "name": "stdout",
     "output_type": "stream",
     "text": [
      "请输入整数个数4\n",
      "请输入整数1\n",
      "请输入整数2\n",
      "请输入整数3\n",
      "请输入整数4\n",
      "10\n"
     ]
    }
   ],
   "source": [
    "n=int(input('请输入整数个数'))\n",
    "i=0\n",
    "sum=0\n",
    "while i<n:\n",
    "    i+=1\n",
    "    num=int(input('请输入整数'))\n",
    "    sum+=num\n",
    "print(sum)"
   ]
  },
  {
   "cell_type": "code",
   "execution_count": 3,
   "metadata": {
    "collapsed": false,
    "deletable": true,
    "editable": true
   },
   "outputs": [
    {
     "name": "stdout",
     "output_type": "stream",
     "text": [
      "请输入大于0的整数5\n",
      "请输入大于0的整数5\n",
      "请输入大于0的整数4\n",
      "请输入大于0的整数0\n",
      "14\n"
     ]
    }
   ],
   "source": [
    "n=int(input('请输入大于0的整数'))\n",
    "sum=n\n",
    "while n!=0:\n",
    "    n=int(input('请输入大于0的整数'))\n",
    "    sum+=n\n",
    "print(sum)"
   ]
  },
  {
   "cell_type": "code",
   "execution_count": 1,
   "metadata": {
    "collapsed": false,
    "deletable": true,
    "editable": true
   },
   "outputs": [
    {
     "name": "stdout",
     "output_type": "stream",
     "text": [
      "请输入整数1\n",
      "1\n",
      "1\n",
      "请输入整数1\n",
      "2\n",
      "1\n",
      "请输入整数2\n",
      "4\n",
      "2\n",
      "请输入整数4\n",
      "8\n",
      "8\n",
      "请输入整数9\n",
      "8\n",
      "8\n"
     ]
    }
   ],
   "source": [
    "n=int(input('请输入整数'))\n",
    "sum=0\n",
    "num=1\n",
    "while sum>=n or num>=n*n:\n",
    "    sum+=n\n",
    "    print(sum)\n",
    "    num*=n\n",
    "    print(num)\n",
    "    n=int(input('请输入整数'))\n",
    "    \n",
    "print(sum)\n",
    "print(num)\n"
   ]
  },
  {
   "cell_type": "code",
   "execution_count": null,
   "metadata": {
    "collapsed": true
   },
   "outputs": [],
   "source": []
  }
 ],
 "metadata": {
  "kernelspec": {
   "display_name": "Python 3",
   "language": "python",
   "name": "python3"
  },
  "language_info": {
   "codemirror_mode": {
    "name": "ipython",
    "version": 3
   },
   "file_extension": ".py",
   "mimetype": "text/x-python",
   "name": "python",
   "nbconvert_exporter": "python",
   "pygments_lexer": "ipython3",
   "version": "3.6.0"
  }
 },
 "nbformat": 4,
 "nbformat_minor": 2
}
