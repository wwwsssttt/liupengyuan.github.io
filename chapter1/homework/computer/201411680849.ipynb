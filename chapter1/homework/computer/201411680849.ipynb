{
 "cells": [
  {
   "cell_type": "code",
   "execution_count": 3,
   "metadata": {
    "collapsed": false
   },
   "outputs": [
    {
     "name": "stdout",
     "output_type": "stream",
     "text": [
      "100\n",
      "100.23\n",
      "-100.23\n",
      "-100.23\n",
      "-100.23\n",
      "\n",
      "\n",
      "Hello,world!\n",
      "Hello,world!\n",
      "I'm ok.\n",
      "你好，Python!\n",
      "你好，Python!\n",
      "这句话\n",
      "有两行。\n",
      "这句话中间\n",
      "\n",
      "有一行空白行。\n"
     ]
    }
   ],
   "source": [
    "print(100)\n",
    "print(100.23)\n",
    "print(-100.23)\n",
    "print('-100.23')\n",
    "print(\"-100.23\")\n",
    "print('\\n')\n",
    "print('Hello,world!')\n",
    "print(\"Hello,world!\")\n",
    "print(\"I'm ok.\")\n",
    "print('你好，Python!')\n",
    "print(\"你好，Python!\")\n",
    "print('这句话\\n有两行。')\n",
    "print('这句话中间\\n\\n有一行空白行。')\n"
   ]
  }
 ],
 "metadata": {
  "kernelspec": {
   "display_name": "Python 3",
   "language": "python",
   "name": "python3"
  },
  "language_info": {
   "codemirror_mode": {
    "name": "ipython",
    "version": 3
   },
   "file_extension": ".py",
   "mimetype": "text/x-python",
   "name": "python",
   "nbconvert_exporter": "python",
   "pygments_lexer": "ipython3",
   "version": "3.6.0"
  }
 },
 "nbformat": 4,
 "nbformat_minor": 2
}
