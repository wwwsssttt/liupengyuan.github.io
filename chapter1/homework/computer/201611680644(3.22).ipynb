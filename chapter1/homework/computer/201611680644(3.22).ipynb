{
 "cells": [
  {
   "cell_type": "code",
   "execution_count": 1,
   "metadata": {
    "collapsed": false
   },
   "outputs": [
    {
     "name": "stdout",
     "output_type": "stream",
     "text": [
      "请输入你的名字，回车结束。z\n",
      "hello z\n",
      "请输入你的出生月份，回车结束。\n",
      "请输入你的出生日期，回车结束。9\n"
     ]
    }
   ],
   "source": [
    "name = (input('请输入你的名字，回车结束。'))\n",
    "print('hello',name)\n",
    "month = (input('请输入你的出生月份，回车结束。'))\n",
    "day=(input('请输入你的出生日期，回车结束。'))\n",
    "if month==1:  \n",
    "    if day>=20:\n",
    "        print(name,'你是非常有性格的水瓶座！')\n",
    "    else :print(name,'你是非常有性格的摩羯座！')\n",
    "elif month==2:\n",
    "    if day<19:\n",
    "        print(name,'你是非常有性格的水瓶座！')\n",
    "    else :print(name,'你是非常有性格的双鱼座！')\n",
    "elif month==3:\n",
    "    if day<21:\n",
    "        print(name,'你是非常有性格的双鱼座！')\n",
    "    else :print(name,'你是非常有性格的白羊座！')\n",
    "elif month==4:\n",
    "    if day<20:\n",
    "        print(name,'你是非常有性格的白羊座！')\n",
    "    else :print(name,'你是非常有性格的金牛座！')\n",
    "elif month==5:\n",
    "    if day<21:\n",
    "        print(name,'你是非常有性格的金牛座！')\n",
    "    else :print(name,'你是非常有性格的双子座！')\n",
    "elif month==6:\n",
    "    if day<22:\n",
    "        print(name,'你是非常有性格的双子座！')\n",
    "    else :print(name,'你是非常有性格的巨蟹座！')\n",
    "elif month==7:\n",
    "    if day<23:\n",
    "        print(name,'你是非常有性格的巨蟹座！')\n",
    "    else :print(name,'你是非常有性格的狮子座！')\n",
    "elif month==8:\n",
    "    if day<23:\n",
    "        print(name,'你是非常有性格的狮子座！')\n",
    "    else :print(name,'你是非常有性格的处女座！')\n",
    "elif month==9:\n",
    "    if day<23:\n",
    "        print(name,'你是非常有性格的处女座！')\n",
    "    else :print(name,'你是非常有性格的天秤座！')\n",
    "elif month==10:\n",
    "    if day<24:\n",
    "        print(name,'你是非常有性格的天秤座！')\n",
    "    else :print(name,'你是非常有性格的天蝎座！')\n",
    "elif month==11:\n",
    "    if day<23:\n",
    "        print(name,'你是非常有性格的天蝎座！')\n",
    "    else :print(name,'你是非常有性格的射手座！')\n",
    "elif month==12:\n",
    "    if day<22:\n",
    "        print(name,'你是非常有性格的射手座！')\n",
    "    else :print(name,'你是非常有性格的摩羯座！')"
   ]
  },
  {
   "cell_type": "code",
   "execution_count": null,
   "metadata": {
    "collapsed": true
   },
   "outputs": [],
   "source": [
    "m=int (input())\n",
    "n=int (input('请输入一个非零整数，回车结束'))\n",
    "fuhao= input('你想做的运算的运算符，回车结束')\n",
    "if fuhao=='+':\n",
    "    if m<n:\n",
    "        m=t\n",
    "        t=n\n",
    "        n=m\n",
    "    sum=n\n",
    "    while n<=m:\n",
    "        sum=sum+n\n",
    "        n+=n\n",
    "    print(sum)\n",
    "elif fuhao=='*':\n",
    "    if m<n:\n",
    "        m=t\n",
    "        t=n\n",
    "        n=m\n",
    "    total=n\n",
    "    while n<=m:\n",
    "        total=total*n\n",
    "        n+=n\n",
    "    print(total)\n",
    "elif fuhao=='%':\n",
    "    print(m%n)\n",
    "elif fuhao=='/':\n",
    "    print(m/n)"
   ]
  },
  {
   "cell_type": "code",
   "execution_count": null,
   "metadata": {
    "collapsed": false
   },
   "outputs": [],
   "source": [
    "m=int (input('今天PM2.5的指数，回车结束'))\n",
    "if m>500:\n",
    "    print('不要出行，打开空气净化器')\n",
    "elif m>200:\n",
    "    print('减少出行，带好防雾霾口罩')\n",
    "elif m>100:\n",
    "    print('可出行，不可做剧烈运动')\n",
    "else:\n",
    "    print('空气清新赶快出去春游吧')"
   ]
  },
  {
   "cell_type": "code",
   "execution_count": null,
   "metadata": {
    "collapsed": true
   },
   "outputs": [],
   "source": [
    "word=input('plz inout a word')\n",
    "if word.endswith('x') or word.endswith('ch') or word.endswith('sh')or word.endswith('o') :\n",
    "    print(word,'es',sep='')\n",
    "elif word.endswith('y'):\n",
    "    print(word,'ies',sep='')\n",
    "else:\n",
    "    print(word,'s',sep='')"
   ]
  },
  {
   "cell_type": "markdown",
   "metadata": {},
   "source": []
  },
  {
   "cell_type": "code",
   "execution_count": null,
   "metadata": {
    "collapsed": true
   },
   "outputs": [],
   "source": [
    "max_number=int(input('plz input a int:'))\n",
    "second_large_number=int(input('plz input a int:'))\n",
    "if second_large_number>=max_number:\n",
    "    second_large_number,max_number = max_number,second_large_number\n",
    "number = None\n",
    "while number !=0:\n",
    "    number=int(input('plz input a int:'))\n",
    "    if number>= max_number:\n",
    "        second_large_number = max_number\n",
    "        max_number = number\n",
    "    elif number>second_large_number:\n",
    "        second_large_number = number \n",
    "    else:\n",
    "        pass\n",
    "    \n",
    "print('second large number is : ',second_large_number)"
   ]
  },
  {
   "cell_type": "code",
   "execution_count": null,
   "metadata": {
    "collapsed": true
   },
   "outputs": [],
   "source": [
    "n=int(input('plz input a int'))\n",
    "a=[]\n",
    "i=0\n",
    "while i<n:\n",
    "    a,append(int(input('plz int a int')))\n",
    "    i=i+1\n",
    "print(a)\n",
    "a.sort()\n",
    "print(a)\n",
    "print(a[n-2])"
   ]
  },
  {
   "cell_type": "code",
   "execution_count": null,
   "metadata": {
    "collapsed": true
   },
   "outputs": [],
   "source": []
  }
 ],
 "metadata": {
  "kernelspec": {
   "display_name": "Python 3",
   "language": "python",
   "name": "python3"
  },
  "language_info": {
   "codemirror_mode": {
    "name": "ipython",
    "version": 3
   },
   "file_extension": ".py",
   "mimetype": "text/x-python",
   "name": "python",
   "nbconvert_exporter": "python",
   "pygments_lexer": "ipython3",
   "version": "3.6.0"
  }
 },
 "nbformat": 4,
 "nbformat_minor": 2
}
