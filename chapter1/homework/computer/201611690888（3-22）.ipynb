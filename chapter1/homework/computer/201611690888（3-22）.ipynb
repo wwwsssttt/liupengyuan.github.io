{
 "cells": [
  {
   "cell_type": "code",
   "execution_count": 4,
   "metadata": {
    "collapsed": false,
    "deletable": true,
    "editable": true
   },
   "outputs": [
    {
     "name": "stdout",
     "output_type": "stream",
     "text": [
      "请输入要输入的整数个数，回车结束。6\n",
      "请输入一个正整数，回车结束3\n",
      "请输入一个正整数，回车结束7\n",
      "请输入一个正整数，以回车结束。4\n",
      "请输入一个正整数，以回车结束。56\n",
      "请输入一个正整数，以回车结束。98\n",
      "请输入一个正整数，以回车结束。2\n",
      "56\n"
     ]
    }
   ],
   "source": [
    "m = int(input('请输入要输入的整数个数，回车结束。'))\n",
    "max1 = int(input('请输入一个正整数，回车结束'))\n",
    "max2 = int(input('请输入一个正整数，回车结束'))\n",
    "\n",
    "i=2\n",
    "p=0\n",
    "\n",
    "if  max1<max2:\n",
    "    p=max1\n",
    "    max1=max2\n",
    "    max2=p\n",
    "while i<m:\n",
    "    i=i+1\n",
    "    n=int(input('请输入一个正整数，以回车结束。'))\n",
    "    if n>max1:\n",
    "        max2=max1\n",
    "        max1=n\n",
    "    elif n<max1 and n>max2:\n",
    "        max2=n\n",
    "print(max2)\n",
    "        \n",
    "     \n",
    "    "
   ]
  }
 ],
 "metadata": {
  "kernelspec": {
   "display_name": "Python 3",
   "language": "python",
   "name": "python3"
  },
  "language_info": {
   "codemirror_mode": {
    "name": "ipython",
    "version": 3
   },
   "file_extension": ".py",
   "mimetype": "text/x-python",
   "name": "python",
   "nbconvert_exporter": "python",
   "pygments_lexer": "ipython3",
   "version": "3.6.0"
  }
 },
 "nbformat": 4,
 "nbformat_minor": 2
}
