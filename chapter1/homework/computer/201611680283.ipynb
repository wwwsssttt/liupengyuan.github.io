{
 "cells": [
  {
   "cell_type": "code",
   "execution_count": 30,
   "metadata": {
    "collapsed": false
   },
   "outputs": [
    {
     "name": "stdout",
     "output_type": "stream",
     "text": [
      "请输入你的名字:liuxiaoning\n",
      "请输入你的出生月份和日期，以xx.xx形式，如3.09：04.03\n",
      "liuxiaoning ,你是非常有个性的白羊座\n"
     ]
    }
   ],
   "source": [
    "#练习 1：写程序，可由键盘读入用户姓名例如Mr. right，\n",
    "#让用户输入出生的月份与日期，判断用户星座，假设用户是金牛座，则输出，Mr. right，你是非常有性格的金牛座！。\n",
    "name=input('请输入你的名字:')\n",
    "data=float(input('请输入你的出生月份和日期，以xx.xx形式，如3.09：'))\n",
    "if 3.21<=data<=4.19:\n",
    "    print(name,',你是非常有个性的白羊座')\n",
    "elif 4.20<=data<=5.20:\n",
    "    print(name,',你是非常有个性的金牛座')\n",
    "elif 5.21<=data<=6.21:\n",
    "    print(name,',你是非常有个性的双子座')\n",
    "elif 6.22<=data<=7.22:\n",
    "    print(name,',你是非常有个性的巨蟹座')\n",
    "elif 7.23<=data<=8.22:\n",
    "    print(name,',你是非常有个性的狮子座')\n",
    "elif 8.23<=data<=9.22:\n",
    "    print(name,',你是非常有个性的处女座')\n",
    "elif 9.23<=data<=10.23:\n",
    "    print(name,',你是非常有个性的天秤座')\n",
    "elif 10.24<=data<=11.22:\n",
    "    print(name,',你是非常有个性的天蝎座')\n",
    "elif 11.23<=data<=12.21:\n",
    "    print(name,',你是非常有个性的射手座')\n",
    "elif 12.22<=data<=1.19:\n",
    "    print(name,',你是非常有个性的魔蝎座')\n",
    "elif 1.20<=data<=2.18:\n",
    "    print(name,',你是非常有个性的水瓶座')\n",
    "else:\n",
    "    print(name,',你是非常有个性的双鱼座')"
   ]
  },
  {
   "cell_type": "code",
   "execution_count": 12,
   "metadata": {
    "collapsed": false
   },
   "outputs": [
    {
     "name": "stdout",
     "output_type": "stream",
     "text": [
      "请输入一个整数m：4\n",
      "请输入一个整数n,n不等于0：5\n",
      "如果要求和则输入sum，如果要乘积则输入product，如果要求余数则输入yushu，否则计算m整除n的值sum\n",
      "9\n"
     ]
    }
   ],
   "source": [
    "#练习 2：写程序，可由键盘读入两个整数m与n(n不等于0)，询问用户意图，如果要求和则计算从m到n的和输出，\n",
    "#如果要乘积则计算从m到n的积并输出，如果要求余数则计算m除以n的余数的值并输出，否则则计算m整除n的值并输出。\n",
    "m=int(input('请输入一个整数m：'))\n",
    "n=int(input('请输入一个整数n,n不等于0：'))\n",
    "k=input('如果要求和则输入sum，如果要乘积则输入product，如果要求余数则输入yushu，否则计算m整除n的值')\n",
    "\n",
    "m, n = (m, n) if m < n else (n, m)\n",
    "i=m;\n",
    "product=1\n",
    "if k=='sum':\n",
    "    print(sum(range(m, n+1)))\n",
    "elif k=='product':\n",
    "    while i<=n :\n",
    "        product=product * i\n",
    "        i=i+1\n",
    "    print(product)\n",
    "elif('yushu'):\n",
    "    print(m%n)\n",
    "else:\n",
    "    print(n//m)\n",
    "    "
   ]
  },
  {
   "cell_type": "code",
   "execution_count": 28,
   "metadata": {
    "collapsed": false
   },
   "outputs": [
    {
     "name": "stdout",
     "output_type": "stream",
     "text": [
      "请输入PM2.5的数值，以便于得到相应的防护措施：150\n",
      "空气质量良好\n"
     ]
    }
   ],
   "source": [
    "#练习 3：写程序，能够根据北京雾霾PM2.5数值给出对应的防护建议。如当PM2.5数值大于500，则应该打开空气净化器，戴防雾霾口罩等\n",
    "a=int(input('请输入PM2.5的数值，以便于得到相应的防护措施：'))\n",
    "if a>500 :\n",
    "    print('应该打开空气净化器')\n",
    "elif a>300:\n",
    "    print('应避免户外活动')\n",
    "elif a>200:\n",
    "    print('应减少户外活动并戴口罩')\n",
    "elif a>150:\n",
    "    print('应减少户外活动')\n",
    "else :\n",
    "    print('空气质量良好')"
   ]
  },
  {
   "cell_type": "code",
   "execution_count": 5,
   "metadata": {
    "collapsed": false
   },
   "outputs": [
    {
     "name": "stdout",
     "output_type": "stream",
     "text": [
      "请输入一个可数英文单词的单数形式box\n",
      "box +es\n"
     ]
    }
   ],
   "source": [
    "#练习 4：英文单词单数转复数，要求输入一个英文动词（单数形式），能够得到其复数形式，或给出单数转复数形式的建议\n",
    "#（提示，some_string.endswith(some_letter)函数可以判断某字符串结尾字符）\n",
    "a=input(\"请输入一个可数英文单词的单数形式\")\n",
    "if a.endswith('s') or a.endswith('x')or a.endswith('ch') or a.endswith('sh'):\n",
    "    print (a,'+es')\n",
    "else:\n",
    "    print(a,'+s')"
   ]
  },
  {
   "cell_type": "code",
   "execution_count": 7,
   "metadata": {
    "collapsed": false
   },
   "outputs": [
    {
     "name": "stdout",
     "output_type": "stream",
     "text": [
      "随意输入几个字符456\n",
      "\n",
      "\n",
      "456\n"
     ]
    }
   ],
   "source": [
    "#尝试性练习：写程序，能够在屏幕上显示空行。\n",
    "x=input('随意输入几个字符')\n",
    "print('\\n')\n",
    "print(x)"
   ]
  },
  {
   "cell_type": "code",
   "execution_count": null,
   "metadata": {
    "collapsed": true
   },
   "outputs": [],
   "source": [
    "#挑战性练习：写程序，由用户输入一些整数，能够得到几个整数中的次大值(第二大的值)并输出。"
   ]
  }
 ],
 "metadata": {
  "kernelspec": {
   "display_name": "Python 3",
   "language": "python",
   "name": "python3"
  },
  "language_info": {
   "codemirror_mode": {
    "name": "ipython",
    "version": 3
   },
   "file_extension": ".py",
   "mimetype": "text/x-python",
   "name": "python",
   "nbconvert_exporter": "python",
   "pygments_lexer": "ipython3",
   "version": "3.6.0"
  }
 },
 "nbformat": 4,
 "nbformat_minor": 2
}
