{
 "cells": [
  {
   "cell_type": "code",
   "execution_count": 1,
   "metadata": {
    "collapsed": false,
    "scrolled": true
   },
   "outputs": [
    {
     "name": "stdout",
     "output_type": "stream",
     "text": [
      "请输入你的名字,以回车键结束 wuyutong\n",
      "请输入你的出生月份 2\n",
      "请输入你的出生日期 9\n",
      "wuyutong 你是非常有性格的水瓶座。\n"
     ]
    }
   ],
   "source": [
    "name = input(\"请输入你的名字,以回车键结束 \")\n",
    "m = int(input(\"请输入你的出生月份 \"))\n",
    "n = int(input(\"请输入你的出生日期 \"))\n",
    "if m==1 and n>=20 or (m==2 and n<=18):\n",
    "    print (name,\"你是非常有性格的水瓶座。\")\n",
    "elif m==2 and n>=19 or (m==3 and n<=20):\n",
    "    print (name,\"你是非常有性格的双鱼座。\")\n",
    "elif m==3 and n>=21 or (m==4 and n<=19):\n",
    "    print (name,\"你是非常有性格的白羊座。\")\n",
    "elif m==4 and n>=20 or (m==5 and n<=20):\n",
    "    print (name,\"你是非常有性格的金牛座。\")\n",
    "elif m==5 and n>=21 or (m==6 and n<=21):\n",
    "    print (name,\"你是非常有性格的双子座。\")\n",
    "elif m==6 and n>=22 or (m==7 and n<=22):\n",
    "    print (name,\"你是非常有性格的巨蟹座。\")\n",
    "elif m==7 and n>=23 or (m==8 and n<=22):\n",
    "    print (name,\"你是非常有性格的狮子座。\")\n",
    "elif m==8 and n>=23 or (m==9 and n<=22):\n",
    "    print (name,\"你是非常有性格的处女座。\")\n",
    "elif m==9 and n>=23 or (m==10 and n<=23):\n",
    "    print (name,\"你是非常有性格的天秤座。\")\n",
    "elif m==10 and n>=24 or (m==11 and n<=22):\n",
    "    print (name,\"你是非常有性格的天蝎座。\")\n",
    "elif m==11 and n>=23 or (m==12 and n<=21):\n",
    "    print (name,\"你是非常有性格的射手座。\")\n",
    "elif m==12 and n>=22 or (m==1 and n<=19):\n",
    "    print (name,\"你是非常有性格的摩羯座。\")"
   ]
  },
  {
   "cell_type": "code",
   "execution_count": 3,
   "metadata": {
    "collapsed": false
   },
   "outputs": [
    {
     "name": "stdout",
     "output_type": "stream",
     "text": [
      "请输入一个整数 5\n",
      "请输入一个不为0整数 2\n",
      "请输入你的意图，求和请输入1，求积请输入2，求余数请输入3，求整除商请输入4 3\n",
      "1\n"
     ]
    }
   ],
   "source": [
    "m = int(input(\"请输入一个整数 \"))\n",
    "n = int(input(\"请输入一个不为0整数 \"))\n",
    "yt = int(input(\"请输入你的意图，求和请输入1，求积请输入2，求余数请输入3，求整除商请输入4 \"))\n",
    "if yt==1:\n",
    "    print (m+n)\n",
    "elif yt==2:\n",
    "    print (m*n)\n",
    "elif yt==3:\n",
    "    print (m%n)\n",
    "else:\n",
    "    print (m//n)\n",
    "    "
   ]
  },
  {
   "cell_type": "code",
   "execution_count": 4,
   "metadata": {
    "collapsed": false
   },
   "outputs": [
    {
     "name": "stdout",
     "output_type": "stream",
     "text": [
      "请输入PM2.5数值 500\n",
      "请关闭门窗，佩戴防毒面具\n"
     ]
    }
   ],
   "source": [
    "m = int(input(\"请输入PM2.5数值 \"))\n",
    "if m > 500:\n",
    "    print (\"打开空气净化器，戴防雾霾口罩\")\n",
    "elif m>100:\n",
    "    print (\"请关闭门窗，佩戴防毒面具\")\n",
    "else:\n",
    "    print (\"空气良好，可出门\")"
   ]
  },
  {
   "cell_type": "code",
   "execution_count": 5,
   "metadata": {
    "collapsed": false
   },
   "outputs": [
    {
     "name": "stdout",
     "output_type": "stream",
     "text": [
      "请输入一个单词的单数形式 box\n",
      "在单词结尾直接加es\n"
     ]
    }
   ],
   "source": [
    "word = input(\"请输入一个单词的单数形式 \")\n",
    "if word.endswith('s') or word.endswith('x') or word.endswith('ch') or word.endswith('sh'):\n",
    "    print (\"在单词结尾直接加es\")\n",
    "elif word.endswith('y'):\n",
    "    print (\"变y为i，加es\")\n",
    "else:\n",
    "    print (\"直接加s\")"
   ]
  },
  {
   "cell_type": "code",
   "execution_count": null,
   "metadata": {
    "collapsed": true
   },
   "outputs": [],
   "source": []
  }
 ],
 "metadata": {
  "kernelspec": {
   "display_name": "Python 3",
   "language": "python",
   "name": "python3"
  },
  "language_info": {
   "codemirror_mode": {
    "name": "ipython",
    "version": 3
   },
   "file_extension": ".py",
   "mimetype": "text/x-python",
   "name": "python",
   "nbconvert_exporter": "python",
   "pygments_lexer": "ipython3",
   "version": "3.6.0"
  }
 },
 "nbformat": 4,
 "nbformat_minor": 2
}
