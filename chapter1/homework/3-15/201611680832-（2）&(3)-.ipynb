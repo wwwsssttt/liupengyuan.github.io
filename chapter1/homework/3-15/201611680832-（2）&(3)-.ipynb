{
 "cells": [
  {
   "cell_type": "code",
   "execution_count": 9,
   "metadata": {
    "collapsed": false
   },
   "outputs": [
    {
     "name": "stdout",
     "output_type": "stream",
     "text": [
      "int number:22\n",
      "int number:2\n",
      "int number:1\n",
      "m+n= 24\n"
     ]
    }
   ],
   "source": [
    "m=int(input('int number:'))\n",
    "n=int(input('int number:'))\n",
    "a=int(input('int number:'))\n",
    "if a==1:\n",
    "    print('m+n=',m+n)\n",
    "elif a==2:\n",
    "    print('m*n=',m*n)\n",
    "elif a==3:\n",
    "    print('m%n=',m%n)\n",
    "else :\n",
    "    print('m/n',m/n)"
   ]
  },
  {
   "cell_type": "code",
   "execution_count": 11,
   "metadata": {
    "collapsed": false
   },
   "outputs": [
    {
     "name": "stdout",
     "output_type": "stream",
     "text": [
      "int numbers:299\n",
      "注意防范雾霾\n"
     ]
    }
   ],
   "source": [
    "pm=int(input('int numbers:'))\n",
    "if pm>=500:\n",
    "    print('应该打开空气净化器')\n",
    "else :\n",
    "    print('注意防范雾霾')"
   ]
  }
 ],
 "metadata": {
  "kernelspec": {
   "display_name": "Python 3",
   "language": "python",
   "name": "python3"
  },
  "language_info": {
   "codemirror_mode": {
    "name": "ipython",
    "version": 3
   },
   "file_extension": ".py",
   "mimetype": "text/x-python",
   "name": "python",
   "nbconvert_exporter": "python",
   "pygments_lexer": "ipython3",
   "version": "3.6.0"
  }
 },
 "nbformat": 4,
 "nbformat_minor": 2
}
