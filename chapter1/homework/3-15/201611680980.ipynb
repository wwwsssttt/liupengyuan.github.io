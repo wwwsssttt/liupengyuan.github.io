{
 "cells": [
  {
   "cell_type": "code",
   "execution_count": 5,
   "metadata": {
    "collapsed": false,
    "deletable": true,
    "editable": true
   },
   "outputs": [
    {
     "name": "stdout",
     "output_type": "stream",
     "text": [
      "362880\n"
     ]
    }
   ],
   "source": [
    "n=100\n",
    "i=1\n",
    "total=1\n",
    "while i<n:\n",
    "    total=total*i\n",
    "    i=i+1\n",
    "print(total)"
   ]
  },
  {
   "cell_type": "code",
   "execution_count": 6,
   "metadata": {
    "collapsed": false,
    "deletable": true,
    "editable": true
   },
   "outputs": [
    {
     "name": "stdout",
     "output_type": "stream",
     "text": [
      "请输入你的名字，以回车结束zhuo\n",
      "你好 zhuo\n",
      "请输入一个正整数，以回车结束。123\n",
      "请输入一个正整数，以回车结束。234\n",
      "两个数的和是： 357\n",
      "再见！ zhuo\n"
     ]
    }
   ],
   "source": [
    "name = input('请输入你的名字，以回车结束')\n",
    "print('你好',name)\n",
    "n = int(input('请输入一个正整数，以回车结束。'))\n",
    "m = int(input('请输入一个正整数，以回车结束。'))\n",
    "\n",
    "print('两个数的和是：', m+n)\n",
    "print('再见！', name)"
   ]
  },
  {
   "cell_type": "code",
   "execution_count": 1,
   "metadata": {
    "collapsed": false,
    "deletable": true,
    "editable": true
   },
   "outputs": [
    {
     "name": "stdout",
     "output_type": "stream",
     "text": [
      "请输入一个正整数，以回车结束。3\n",
      "请输入一个正整数，以回车结束。1\n",
      "请输入一个正整数，以回车结束。2\n",
      "请输入一个正整数，以回车结束。3\n",
      "6\n"
     ]
    }
   ],
   "source": [
    "n=int(input('请输入一个正整数，以回车结束。'))\n",
    "i=0\n",
    "total=0\n",
    "while i<n:\n",
    "    m=int(input('请输入一个正整数，以回车结束。'))\n",
    "    total=total+m\n",
    "    i=i+1\n",
    "print(total)"
   ]
  },
  {
   "cell_type": "code",
   "execution_count": 1,
   "metadata": {
    "collapsed": false,
    "deletable": true,
    "editable": true
   },
   "outputs": [
    {
     "name": "stdout",
     "output_type": "stream",
     "text": [
      "请输入一个数字，以回车结束。2\n",
      "是否继续输入数字？是，请输入0,；否，请输入1；以回车结束。0\n",
      "请输入一个数字，以回车结束。3\n",
      "是否继续输入数字？是，请输入0,；否，请输入1；以回车结束。1\n"
     ]
    }
   ],
   "source": [
    "i=0\n",
    "while i==0:\n",
    "    m=int(input('请输入一个数字，以回车结束。'))\n",
    "    i=int(input('是否继续输入数字？是，请输入0,；否，请输入1；以回车结束。'))"
   ]
  },
  {
   "cell_type": "code",
   "execution_count": 3,
   "metadata": {
    "collapsed": false,
    "deletable": true,
    "editable": true
   },
   "outputs": [
    {
     "name": "stdout",
     "output_type": "stream",
     "text": [
      "请输入一个正整数，以回车结束。3\n",
      "请输入一个正整数，以回车结束。4\n",
      "请输入一个正整数，以回车结束。5\n",
      "请输入一个正整数，以回车结束。1\n"
     ]
    }
   ],
   "source": [
    "m=int(input('请输入一个正整数，以回车结束。'))\n",
    "sum=m\n",
    "mult=1\n",
    "pf=1\n",
    "while (((sum>m)or(sum==m))and((mult<pf)or(mult==pf))):\n",
    "    m=int(input('请输入一个正整数，以回车结束。'))\n",
    "    mult=mult*m\n",
    "    pf=m*m\n",
    "    sum=sum+m"
   ]
  }
 ],
 "metadata": {
  "kernelspec": {
   "display_name": "Python 3",
   "language": "python",
   "name": "python3"
  },
  "language_info": {
   "codemirror_mode": {
    "name": "ipython",
    "version": 3
   },
   "file_extension": ".py",
   "mimetype": "text/x-python",
   "name": "python",
   "nbconvert_exporter": "python",
   "pygments_lexer": "ipython3",
   "version": "3.6.0"
  }
 },
 "nbformat": 4,
 "nbformat_minor": 2
}
