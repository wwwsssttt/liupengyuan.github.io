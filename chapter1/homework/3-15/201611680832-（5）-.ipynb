{
 "cells": [
  {
   "cell_type": "code",
   "execution_count": 2,
   "metadata": {
    "collapsed": false
   },
   "outputs": [
    {
     "name": "stdout",
     "output_type": "stream",
     "text": [
      "请输入一个整数，回车结束1\n",
      "请输入一个整数，回车结束2\n",
      "请输入一个整数，回车结束3\n",
      "请输入一个整数，回车结束6\n",
      "请输入一个整数，回车结束5\n",
      "请输入一个整数，回车结束4\n",
      "最大值是： 6\n",
      "请输入一个整数，回车结束1\n",
      "请输入一个整数，回车结束2\n",
      "请输入一个整数，回车结束3\n",
      "请输入一个整数，回车结束4\n",
      "请输入一个整数，回车结束5\n",
      "次大值是： 5\n"
     ]
    }
   ],
   "source": [
    "max_number = int(input('请输入一个整数，回车结束'))\n",
    "\n",
    "i = 0\n",
    "while i < 5:\n",
    "    i += 1\n",
    "    n = int(input('请输入一个整数，回车结束'))\n",
    "    if n > max_number:\n",
    "        max_number = n\n",
    "\n",
    "print('最大值是：', max_number)\n",
    "max_number = int(input('请输入一个整数，回车结束'))\n",
    "\n",
    "i = 0\n",
    "while i < 4:\n",
    "    i += 1\n",
    "    n = int(input('请输入一个整数，回车结束'))\n",
    "    if n > max_number:\n",
    "        second_number = n\n",
    "\n",
    "print('次大值是：', second_number)"
   ]
  }
 ],
 "metadata": {
  "kernelspec": {
   "display_name": "Python 3",
   "language": "python",
   "name": "python3"
  },
  "language_info": {
   "codemirror_mode": {
    "name": "ipython",
    "version": 3
   },
   "file_extension": ".py",
   "mimetype": "text/x-python",
   "name": "python",
   "nbconvert_exporter": "python",
   "pygments_lexer": "ipython3",
   "version": "3.6.0"
  }
 },
 "nbformat": 4,
 "nbformat_minor": 2
}
