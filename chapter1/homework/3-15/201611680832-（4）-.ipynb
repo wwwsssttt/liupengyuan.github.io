{
 "cells": [
  {
   "cell_type": "code",
   "execution_count": 11,
   "metadata": {
    "collapsed": false
   },
   "outputs": [
    {
     "name": "stdout",
     "output_type": "stream",
     "text": [
      "word:aash\n",
      "aashes\n"
     ]
    }
   ],
   "source": [
    "word=input('word:')\n",
    "if word.endswith('ch'):\n",
    "    print(word +'es')\n",
    "elif word.endswith('sh'):\n",
    "    print(word +'es')\n",
    "elif word.endswith('y'):\n",
    "    print('变y为i再加es')\n",
    "else:\n",
    "    print(word +'s')"
   ]
  }
 ],
 "metadata": {
  "kernelspec": {
   "display_name": "Python 3",
   "language": "python",
   "name": "python3"
  },
  "language_info": {
   "codemirror_mode": {
    "name": "ipython",
    "version": 3
   },
   "file_extension": ".py",
   "mimetype": "text/x-python",
   "name": "python",
   "nbconvert_exporter": "python",
   "pygments_lexer": "ipython3",
   "version": "3.6.0"
  }
 },
 "nbformat": 4,
 "nbformat_minor": 2
}
