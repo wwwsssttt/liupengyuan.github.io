{
 "cells": [
  {
   "cell_type": "code",
   "execution_count": 5,
   "metadata": {
    "collapsed": false
   },
   "outputs": [
    {
     "name": "stdout",
     "output_type": "stream",
     "text": [
      "name:www\n",
      "month:3\n",
      "day:23\n",
      "www you are a great 白羊座\n"
     ]
    }
   ],
   "source": [
    "name=input('name:')\n",
    "m=int(input('month:'))\n",
    "n=int(input('day:'))\n",
    "if m==1 and n>=20:\n",
    "    print(name,'you are a great 水瓶座')\n",
    "elif m==2 and n>=19:\n",
    "    print(name,'you are a great 双鱼座')\n",
    "elif m==3 and n>=21:\n",
    "    print(name,'you are a great 白羊座')\n",
    "elif m==4 and n>=20:\n",
    "    print(name,'you are a great 金牛座')\n",
    "else:\n",
    "    print('其他星座')"
   ]
  },
  {
   "cell_type": "code",
   "execution_count": null,
   "metadata": {
    "collapsed": true
   },
   "outputs": [],
   "source": []
  }
 ],
 "metadata": {
  "kernelspec": {
   "display_name": "Python 3",
   "language": "python",
   "name": "python3"
  },
  "language_info": {
   "codemirror_mode": {
    "name": "ipython",
    "version": 3
   },
   "file_extension": ".py",
   "mimetype": "text/x-python",
   "name": "python",
   "nbconvert_exporter": "python",
   "pygments_lexer": "ipython3",
   "version": "3.6.0"
  }
 },
 "nbformat": 4,
 "nbformat_minor": 2
}
