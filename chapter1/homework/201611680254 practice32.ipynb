{
 "cells": [
  {
   "cell_type": "code",
   "execution_count": 1,
   "metadata": {
    "collapsed": false
   },
   "outputs": [
    {
     "name": "stdout",
     "output_type": "stream",
     "text": [
      "请输入你的姓名，以回车结束。w\n",
      "你好 w\n",
      "请输入你想输入的整数个数，以回车结束。3\n",
      "请输入你想输入的整数，以回车结束。1\n",
      "请输入你想输入的整数，以回车结束。2\n",
      "请输入你想输入的整数，以回车结束。4\n",
      "7\n"
     ]
    }
   ],
   "source": [
    "name = input('请输入你的姓名，以回车结束。')\n",
    "print('你好', name)\n",
    "n = int(input('请输入你想输入的整数个数，以回车结束。'))\n",
    "i=0\n",
    "s=0\n",
    "while i<n:\n",
    "    m=int(input('请输入你想输入的整数，以回车结束。'))\n",
    "    s=s+m\n",
    "    i=i+1\n",
    "else:\n",
    "    print(s)"
   ]
  },
  {
   "cell_type": "code",
   "execution_count": null,
   "metadata": {
    "collapsed": true
   },
   "outputs": [],
   "source": []
  }
 ],
 "metadata": {
  "kernelspec": {
   "display_name": "Python 3",
   "language": "python",
   "name": "python3"
  },
  "language_info": {
   "codemirror_mode": {
    "name": "ipython",
    "version": 3
   },
   "file_extension": ".py",
   "mimetype": "text/x-python",
   "name": "python",
   "nbconvert_exporter": "python",
   "pygments_lexer": "ipython3",
   "version": "3.6.0"
  }
 },
 "nbformat": 4,
 "nbformat_minor": 2
}
