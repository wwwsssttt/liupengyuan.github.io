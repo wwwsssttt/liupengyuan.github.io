{
 "cells": [
  {
   "cell_type": "code",
   "execution_count": 5,
   "metadata": {
    "collapsed": false
   },
   "outputs": [
    {
     "name": "stdout",
     "output_type": "stream",
     "text": [
      "请输入你想输入的数字1\n",
      "请再次输入你想输入的数字2\n",
      "请再次输入你想输入的数字3\n",
      "结束，谢谢输入\n"
     ]
    }
   ],
   "source": [
    "n=int(input('请输入你想输入的数字'))\n",
    "c=int(input('请再次输入你想输入的数字'))\n",
    "m=0\n",
    "s=n+m+c\n",
    "p=n*c\n",
    "\n",
    "while s>=m and p>=m**2:\n",
    "    s=s+m\n",
    "    p=p*m\n",
    "    m=int(input('请再次输入你想输入的数字'))\n",
    "else:\n",
    "    print('结束，谢谢输入')"
   ]
  },
  {
   "cell_type": "code",
   "execution_count": null,
   "metadata": {
    "collapsed": true
   },
   "outputs": [],
   "source": []
  },
  {
   "cell_type": "code",
   "execution_count": null,
   "metadata": {
    "collapsed": true
   },
   "outputs": [],
   "source": []
  }
 ],
 "metadata": {
  "kernelspec": {
   "display_name": "Python 3",
   "language": "python",
   "name": "python3"
  },
  "language_info": {
   "codemirror_mode": {
    "name": "ipython",
    "version": 3
   },
   "file_extension": ".py",
   "mimetype": "text/x-python",
   "name": "python",
   "nbconvert_exporter": "python",
   "pygments_lexer": "ipython3",
   "version": "3.6.0"
  }
 },
 "nbformat": 4,
 "nbformat_minor": 2
}
