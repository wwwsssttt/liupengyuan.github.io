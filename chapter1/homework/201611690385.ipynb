{
 "cells": [
  {
   "cell_type": "code",
   "execution_count": 1,
   "metadata": {
    "collapsed": false
   },
   "outputs": [
    {
     "name": "stdout",
     "output_type": "stream",
     "text": [
      "请输入第1个整数，以回车结束。3\n",
      "请输入第2个整数，以回车结束。4\n",
      "请输入第3个整数，以回车结束。5\n",
      "最终的和是： 150\n"
     ]
    }
   ],
   "source": [
    "def compute_sum(end):\n",
    "    i = 0\n",
    "    total_n = 1\n",
    "    while i<end:\n",
    "        i=i+1\n",
    "        total_n=total_n*i\n",
    "    return total_n\n",
    "n = int(input('请输入第1个整数，以回车结束。'))\n",
    "m = int(input('请输入第2个整数，以回车结束。'))\n",
    "k = int(input('请输入第3个整数，以回车结束。'))\n",
    "\n",
    "print('最终的和是：', compute_sum(m) + compute_sum(n) + compute_sum(k))"
   ]
  },
  {
   "cell_type": "code",
   "execution_count": 2,
   "metadata": {
    "collapsed": false
   },
   "outputs": [
    {
     "name": "stdout",
     "output_type": "stream",
     "text": [
      "n=1000时，四倍该函数的和是 0.7858971648964472\n",
      "n=100000时，四倍该函数的和是 0.7854031632974463\n"
     ]
    }
   ],
   "source": [
    "def compute_sum(n):\n",
    "    num=0\n",
    "    k=0\n",
    "    i= -1\n",
    "    while i<n:\n",
    "        k=k+1\n",
    "        i=i+2\n",
    "        if k%2==1:\n",
    "            num=num+1/i\n",
    "        else:\n",
    "            num=num-1/i\n",
    "    return num\n",
    "n=1000\n",
    "print('n=1000时，四倍该函数的和是',compute_sum(n))\n",
    "n=100000\n",
    "print('n=100000时，四倍该函数的和是',compute_sum(n))"
   ]
  },
  {
   "cell_type": "code",
   "execution_count": 3,
   "metadata": {
    "collapsed": false
   },
   "outputs": [
    {
     "name": "stdout",
     "output_type": "stream",
     "text": [
      "请输入第1个整数，以回车结束。2\n",
      "请输入第2个整数，以回车结束。4\n",
      "请输入第3个整数，以回车结束。1\n",
      "9\n"
     ]
    }
   ],
   "source": [
    "def compute_sum(m,n,k):\n",
    "    total_n=0\n",
    "    i=(m-k)\n",
    "    while i<n:\n",
    "        i=i+k\n",
    "        total_n=total_n+i\n",
    "    return total_n\n",
    "m = int(input('请输入第1个整数，以回车结束。'))\n",
    "n = int(input('请输入第2个整数，以回车结束。'))\n",
    "k = int(input('请输入第3个整数，以回车结束。'))\n",
    "print(compute_sum(m,n,k))"
   ]
  },
  {
   "cell_type": "code",
   "execution_count": null,
   "metadata": {
    "collapsed": true
   },
   "outputs": [],
   "source": []
  }
 ],
 "metadata": {
  "kernelspec": {
   "display_name": "Python 3",
   "language": "python",
   "name": "python3"
  },
  "language_info": {
   "codemirror_mode": {
    "name": "ipython",
    "version": 3
   },
   "file_extension": ".py",
   "mimetype": "text/x-python",
   "name": "python",
   "nbconvert_exporter": "python",
   "pygments_lexer": "ipython3",
   "version": "3.6.0"
  }
 },
 "nbformat": 4,
 "nbformat_minor": 2
}
