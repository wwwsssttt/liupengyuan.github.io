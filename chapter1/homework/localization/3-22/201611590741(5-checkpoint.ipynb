{
 "cells": [
  {
   "cell_type": "code",
   "execution_count": 6,
   "metadata": {
    "collapsed": false,
    "deletable": true,
    "editable": true
   },
   "outputs": [
    {
     "name": "stdout",
     "output_type": "stream",
     "text": [
      "请输入你的名字张骋\n",
      "请输入你的出生月份11\n",
      "请输入你的出生日期17\n",
      "Mr. 张骋 你是一个非常有个性的天蝎座\n"
     ]
    }
   ],
   "source": [
    "name=input('请输入你的名字')\n",
    "m=int(input('请输入你的出生月份'))\n",
    "d=int(input('请输入你的出生日期'))\n",
    "if (m == 1 and (d >= 20 and d <= 31)) or (m == 2 and (d >= 1 and d <= 18)):\n",
    "    print('Mr.',name,'你是一个非常有个性的水瓶座')\n",
    "elif (m == 2 and (d >= 19 and d <= 29)) or (m == 3 and (d >= 1 and d <= 20)):\n",
    "      print('Mr.',name,'你是一个非常有个性的双鱼座')\n",
    "elif (m == 3 and (d >= 21 and d <= 31)) or (m == 4 and (d >= 1 and d <= 20)):\n",
    "        print('Mr.',name,'你是一个非常有个性的白羊座')\n",
    "elif (m == 4 and (d >= 21 and d <= 30)) or (m == 5 and (d >= 1 and d <= 20)):\n",
    "        print('Mr.',name,'你是一个非常有个性的金牛座')\n",
    "elif (m == 5 and (d >= 21 and d <= 31)) or (m == 6 and (d >= 1 and d <= 21)):\n",
    "        print('Mr.',name,'你是一个非常有个性的双子座')\n",
    "elif (m == 6 and (d >= 22 and d <= 30)) or (m == 7 and (d >= 1 and d <= 22)):\n",
    "        print('Mr.',name,'你是一个非常有个性的巨蟹座')\n",
    "elif (m == 7 and (d >= 23 and d <= 31)) or (m == 8 and (d >= 1 and d <= 22)):\n",
    "        print('Mr.',name,'你是一个非常有个性的狮子座')\n",
    "elif (m == 8 and (d >= 23 and d <= 31)) or (m == 9 and (d >= 1 and d <= 22)):\n",
    "        print('Mr.',name,'你是一个非常有个性的处女座')\n",
    "elif (m == 9 and (d >= 23 and d <= 30)) or (m == 10 and (d >= 1 and d <= 22)):\n",
    "        print('Mr.',name,'你是一个非常有个性的天平座')\n",
    "elif (m == 10 and (d >= 23 and d <= 31)) or (m == 11 and (d >= 1 and d <= 22)):\n",
    "        print('Mr.',name,'你是一个非常有个性的天蝎座')\n",
    "elif (m == 11 and (d >= 23 and d <= 30)) or (m == 12 and (d >= 1 and d <= 21)):\n",
    "        print('Mr.',name,'你是一个非常有个性的射手座')\n",
    "elif (m == 12 and (d >= 22 and d <= 31)) or (m == 1 and (d >= 1 and d <= 19)):\n",
    "        print('Mr.',name,'你是一个非常有个性的摩羯座')\n"
   ]
  }
 ],
 "metadata": {
  "kernelspec": {
   "display_name": "Python 3",
   "language": "python",
   "name": "python3"
  },
  "language_info": {
   "codemirror_mode": {
    "name": "ipython",
    "version": 3
   },
   "file_extension": ".py",
   "mimetype": "text/x-python",
   "name": "python",
   "nbconvert_exporter": "python",
   "pygments_lexer": "ipython3",
   "version": "3.6.0"
  }
 },
 "nbformat": 4,
 "nbformat_minor": 2
}
