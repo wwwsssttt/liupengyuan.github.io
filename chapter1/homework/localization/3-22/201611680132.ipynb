{
 "cells": [
  {
   "cell_type": "code",
   "execution_count": 1,
   "metadata": {
    "collapsed": false,
    "deletable": true,
    "editable": true
   },
   "outputs": [
    {
     "name": "stdout",
     "output_type": "stream",
     "text": [
      "请输入你的名字，以回车结束L\n",
      "请输入你的出生日期，如0105。以回车结束0105\n",
      "L 你是踏实固执的摩羯座\n"
     ]
    }
   ],
   "source": [
    "name = input('请输入你的名字，以回车结束')\n",
    "\n",
    "n = int(input('请输入你的出生日期，如0105。以回车结束'))\n",
    "\n",
    "if 321 < n < 419:\n",
    "    print(name,'你是容易冲动的白羊座')\n",
    "if 420 < n < 520:\n",
    "    print(name,'你是真诚随和的金牛座')\n",
    "if 521 < n < 621:\n",
    "    print(name,'你是聪明活泼的双子座')\n",
    "if 622 < n < 722:\n",
    "    print(name,'你是感性善变的巨蟹座')\n",
    "if 723 < n < 822:\n",
    "    print(name,'你是高傲自大的狮子座')\n",
    "if 823 < n < 922:\n",
    "    print(name,'你是追求完美的处女座')\n",
    "if 923 < n < 1023:\n",
    "    print(name,'你是圆滑保守的天秤座')\n",
    "if 1024 < n < 1122:\n",
    "    print(name,'你是神秘莫测的天蝎座')\n",
    "if 1123 < n < 1221:\n",
    "    print(name,'你是乐观积极的射手座')\n",
    "if 1222 < n < 1231:\n",
    "    print(name,'你是踏实固执的摩羯座')\n",
    "if 101 < n < 120:\n",
    "    print(name,'你是踏实固执的摩羯座')\n",
    "if 120 < n < 219:\n",
    "    print(name,'你是求知欲强的水瓶座')\n",
    "if 220 < n < 320:\n",
    "    print(name,'你是的善良浪漫双鱼座')\n"
   ]
  },
  {
   "cell_type": "code",
   "execution_count": 17,
   "metadata": {
    "collapsed": false,
    "deletable": true,
    "editable": true
   },
   "outputs": [
    {
     "name": "stdout",
     "output_type": "stream",
     "text": [
      "请输入今日北京PM2.5指数，以回车结束500\n",
      "今天空气质量良好。\n"
     ]
    }
   ],
   "source": [
    "n = int(input('请输入今日北京PM2.5指数，以回车结束'))\n",
    "\n",
    "\n",
    "if n>500:\n",
    "    print('你应该打开空气净化器，并戴上防霾口罩。')\n",
    "\n",
    "else:\n",
    "    print('今天空气质量良好。')"
   ]
  },
  {
   "cell_type": "code",
   "execution_count": 3,
   "metadata": {
    "collapsed": false,
    "deletable": true,
    "editable": true
   },
   "outputs": [
    {
     "name": "stdout",
     "output_type": "stream",
     "text": [
      "请输入一个名词单数tree\n",
      "trees\n"
     ]
    }
   ],
   "source": [
    "word = input('请输入一个名词单数')\n",
    "\n",
    "if word. endswith('e'):\n",
    "    print(word,'s',sep='')\n",
    "    \n",
    "if word. endswith('s'):\n",
    "    print(wold,'es',sep='')\n",
    "    \n",
    "if word. endswith('sh'):\n",
    "    print(world,'es',sep='')"
   ]
  },
  {
   "cell_type": "code",
   "execution_count": 8,
   "metadata": {
    "collapsed": false
   },
   "outputs": [
    {
     "name": "stdout",
     "output_type": "stream",
     "text": [
      "请输入一个数，以回车结束5\n",
      "请输入一个数，以回车结束6\n",
      "请输入一个数，以回车结束2\n",
      "请输入一个数，以回车结束4\n",
      "请输入一个数，以回车结束1000\n",
      "第二大的数是： 6\n"
     ]
    }
   ],
   "source": [
    "n = int(input('请输入一个数，以回车结束'))\n",
    "m = int(input('请输入一个数，以回车结束'))\n",
    "if n >= m:\n",
    "    n, m = m, n\n",
    "number = None\n",
    "while number != 1000:\n",
    "    number = int(input('请输入一个数，以回车结束'))\n",
    "    if number >= m:\n",
    "        n = m\n",
    "        m = number\n",
    "    elif number > n:\n",
    "        number, n = n, number\n",
    "        \n",
    "print('第二大的数是：', n)"
   ]
  }
 ],
 "metadata": {
  "kernelspec": {
   "display_name": "Python 3",
   "language": "python",
   "name": "python3"
  },
  "language_info": {
   "codemirror_mode": {
    "name": "ipython",
    "version": 3
   },
   "file_extension": ".py",
   "mimetype": "text/x-python",
   "name": "python",
   "nbconvert_exporter": "python",
   "pygments_lexer": "ipython3",
   "version": "3.6.0"
  }
 },
 "nbformat": 4,
 "nbformat_minor": 2
}
