{
 "cells": [
  {
   "cell_type": "markdown",
   "metadata": {
    "deletable": true,
    "editable": true
   },
   "source": [
    "写程序，可由键盘读入用户姓名例如Mr. right，让用户输入出生的月份与日期，判断用户星座，假设用户是金牛座，则输出，Mr. right，你是非常有性格的金牛座！。"
   ]
  },
  {
   "cell_type": "code",
   "execution_count": 3,
   "metadata": {
    "collapsed": false,
    "deletable": true,
    "editable": true
   },
   "outputs": [
    {
     "name": "stdout",
     "output_type": "stream",
     "text": [
      "请输入你的姓名ivy\n",
      "hello ivy\n",
      "请输入你的生日11.27\n",
      "ivy 你是非常骚气的射手座\n"
     ]
    }
   ],
   "source": [
    "name=input('请输入你的姓名')\n",
    "print('hello',name)\n",
    "\n",
    "birthday=float(input('请输入你的生日'))\n",
    "if 3.20<birthday<4.20:\n",
    "    print(name,'你是非常热情的白羊座')\n",
    "elif 4.20<birthday<5.21:\n",
    "    print(name,'你是非常稳重的金牛座')\n",
    "elif 5.21<birthday<6.22:\n",
    "    print(name,'你是非常纠结的双子座')\n",
    "elif 6.22<birthday<7.23:\n",
    "    print(name,'你是非常暖心的巨蟹座')\n",
    "elif 7.23<birthday<8.23:\n",
    "    print(name,'你是非常帅气的狮子座')\n",
    "elif 8.23<birthday<9.23:\n",
    "    print(name,'你是非常傲娇的处女座')\n",
    "elif 9.23<birthday<10.24:\n",
    "    print(name,'你是非常貌美的天秤座')\n",
    "elif 10.23<birthday<11.23:\n",
    "    print(name,'你是非常可爱的天蝎座')\n",
    "elif 11.23<birthday<12.22:\n",
    "    print(name,'你是非常骚气的射手座')\n",
    "elif 12.22<birthday<12.32 or 1.00<birthday<1.20:\n",
    "    print(name,'你是非常死心眼的摩羯座')\n",
    "elif 1.20<birthday<2.19:\n",
    "    print(name,'你是非常矫情的水瓶座')\n",
    "elif 2.18<birthda<3.21:\n",
    "    print(name,'你是非常有爱的双鱼座')"
   ]
  },
  {
   "cell_type": "markdown",
   "metadata": {
    "deletable": true,
    "editable": true
   },
   "source": [
    "写程序，可由键盘读入两个整数m与n(n不等于0)，询问用户意图，如果要求和则计算从m到n的和输出，如果要乘积则计算从m到n的积并输出，如果要求余数则计算m除以n的余数的值并输出，否则则计算m整除n的值并输出。"
   ]
  },
  {
   "cell_type": "code",
   "execution_count": null,
   "metadata": {
    "collapsed": true,
    "deletable": true,
    "editable": true
   },
   "outputs": [],
   "source": [
    "m=int(input('请输入一个整数'))\n",
    "n=int(input('请输入一个整数'))\n",
    "\n",
    "\n",
    "question=input('是否需要求和或者求积或者求余数')\n",
    "\n",
    "if question==('求和'):\n",
    "    total=m+n\n",
    "    if m<n:\n",
    "        while m<n:\n",
    "            m+=1\n",
    "            total+=m\n",
    "        else:\n",
    "            print(total-m)\n",
    "    elif n<m:      \n",
    "        while n<m:\n",
    "            n+=1\n",
    "            total+=n\n",
    "        else:\n",
    "            print(total-n)\n",
    "            \n",
    "elif question==('求积'):\n",
    "       product=m*n\n",
    "    if m<n:\n",
    "        while m<n:\n",
    "            m+=1\n",
    "            product*=m\n",
    "        else:\n",
    "            print(product/m)\n",
    "    elif n<m:      \n",
    "        while n<m:\n",
    "            n+=1\n",
    "            product*=n\n",
    "        else:\n",
    "            print(product/n)\n",
    "elif question==('求余数'):\n",
    "    print(m%n)\n",
    "else:\n",
    "    print(m//n)"
   ]
  },
  {
   "cell_type": "markdown",
   "metadata": {
    "collapsed": true,
    "deletable": true,
    "editable": true
   },
   "source": [
    "写程序，能够根据北京雾霾PM2.5数值给出对应的防护建议。如当PM2.5数值大于500，则应该打开空气净化器，戴防雾霾口罩等。"
   ]
  },
  {
   "cell_type": "code",
   "execution_count": 13,
   "metadata": {
    "collapsed": false,
    "deletable": true,
    "editable": true
   },
   "outputs": [
    {
     "name": "stdout",
     "output_type": "stream",
     "text": [
      "请输入北京的雾霾PM2.5数值152\n",
      "空气质量良好,可以正常出行\n"
     ]
    }
   ],
   "source": [
    "m=int(input('请输入北京的雾霾PM2.5数值'))\n",
    "\n",
    "if m>=500:\n",
    "    print('则应该打开空气净化器，戴防雾霾口罩')\n",
    "elif 300<=m<500:\n",
    "    print('空气质量一般,但不影响出行')\n",
    "elif 100<=m<300:\n",
    "    print('空气质量良好,可以正常出行')\n",
    "else:\n",
    "    print('空气质量非常好,请继续保持')\n",
    "\n",
    "    \n"
   ]
  },
  {
   "cell_type": "markdown",
   "metadata": {
    "deletable": true,
    "editable": true
   },
   "source": [
    "练习 4：英文单词单数转复数，要求输入一个英文单词，，some_string.endswith(some_letter)函数可以判断某字符串结尾字符）。"
   ]
  },
  {
   "cell_type": "code",
   "execution_count": 38,
   "metadata": {
    "collapsed": false,
    "deletable": true,
    "editable": true
   },
   "outputs": [
    {
     "name": "stdout",
     "output_type": "stream",
     "text": [
      "请输入一个英文单词apple\n",
      "apples\n"
     ]
    }
   ],
   "source": [
    "m=input(\"请输入一个英文单词\")\n",
    "suffix = 's'or'es'\n",
    "a=str.endswith(suffix);\n",
    "\n",
    "if a==True:\n",
    "    print(m,\"这已经是一个复数单词\")\n",
    "else:\n",
    "    print(m,'s',sep='')"
   ]
  },
  {
   "cell_type": "markdown",
   "metadata": {
    "deletable": true,
    "editable": true
   },
   "source": [
    "尝试性练习：写程序，能够在屏幕上显示空行。"
   ]
  },
  {
   "cell_type": "code",
   "execution_count": 3,
   "metadata": {
    "collapsed": false,
    "deletable": true,
    "editable": true,
    "scrolled": true
   },
   "outputs": [
    {
     "name": "stdout",
     "output_type": "stream",
     "text": [
      "    \n"
     ]
    }
   ],
   "source": [
    "print('    ')"
   ]
  },
  {
   "cell_type": "markdown",
   "metadata": {
    "deletable": true,
    "editable": true
   },
   "source": [
    "挑战性练习：写程序，由用户输入一些整数，能够得到几个整数中的次大值(第二大的值)并输出"
   ]
  },
  {
   "cell_type": "code",
   "execution_count": 2,
   "metadata": {
    "collapsed": false,
    "deletable": true,
    "editable": true
   },
   "outputs": [
    {
     "name": "stdout",
     "output_type": "stream",
     "text": [
      "请输入要输入的整数个数,以回车结束5\n",
      "请输入要输入的整数,以回车结束1\n",
      "请输入要输入的整数,以回车结束5\n",
      "请输入要输入的整数,以回车结束9\n",
      "请输入要输入的整数,以回车结束2\n",
      "请输入要输入的整数,以回车结束3\n",
      "次大值为: 5\n"
     ]
    }
   ],
   "source": [
    "m=int(input(\"请输入要输入的整数个数,以回车结束\"))\n",
    "max_number=int(input(\"请输入要输入的整数,以回车结束\"))\n",
    "\n",
    "i=1\n",
    "a=0\n",
    "\n",
    "while i<m:\n",
    "    i+=1\n",
    "    n=int(input(\"请输入要输入的整数,以回车结束\"))\n",
    "    if n>max_number:\n",
    "        a=max_number\n",
    "        max_number=n\n",
    "else:\n",
    "    print(\"次大值为:\",a)\n",
    "    "
   ]
  },
  {
   "cell_type": "code",
   "execution_count": null,
   "metadata": {
    "collapsed": true,
    "deletable": true,
    "editable": true
   },
   "outputs": [],
   "source": []
  },
  {
   "cell_type": "code",
   "execution_count": null,
   "metadata": {
    "collapsed": true,
    "deletable": true,
    "editable": true
   },
   "outputs": [],
   "source": []
  },
  {
   "cell_type": "code",
   "execution_count": null,
   "metadata": {
    "collapsed": true,
    "deletable": true,
    "editable": true
   },
   "outputs": [],
   "source": []
  }
 ],
 "metadata": {
  "kernelspec": {
   "display_name": "Python 3",
   "language": "python",
   "name": "python3"
  },
  "language_info": {
   "codemirror_mode": {
    "name": "ipython",
    "version": 3
   },
   "file_extension": ".py",
   "mimetype": "text/x-python",
   "name": "python",
   "nbconvert_exporter": "python",
   "pygments_lexer": "ipython3",
   "version": "3.6.0"
  }
 },
 "nbformat": 4,
 "nbformat_minor": 2
}
