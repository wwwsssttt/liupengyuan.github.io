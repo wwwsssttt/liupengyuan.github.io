{
 "cells": [
  {
   "cell_type": "code",
   "execution_count": 7,
   "metadata": {
    "collapsed": false
   },
   "outputs": [
    {
     "name": "stdout",
     "output_type": "stream",
     "text": [
      "请输入你的姓名wulitt\n",
      "请输入你的出生日期，格式为“月.日”，如“4.11”5.55\n",
      "wulitt 你是非常有性格的双子座!\n"
     ]
    }
   ],
   "source": [
    "#练习 1：可由键盘读入用户姓名例如Mr. right，让用户输入出生的月份与日期，判断用户星座，假设用户是金牛座，则输出，Mr. right，你是非常有性格的金牛座！。#\n",
    "\n",
    "name=input('请输入你的姓名')\n",
    "date=float(input('请输入你的出生日期，格式为“月.日”，如“4.11”'))\n",
    "if 3.21<=date<=4.19:\n",
    "    print(name,'你是非常有性格的白羊座!')\n",
    "elif 4.20<=date<=5.20:\n",
    "    print(name,'你是非常有性格的金牛座!')\n",
    "elif 5.21<=date<=6.21:\n",
    "    print(name,'你是非常有性格的双子座!')\n",
    "elif 6.22<=date<=7.22:\n",
    "    print(name,'你是非常有性格的巨蟹座!')\n",
    "elif 7.23<=date<=8.22:\n",
    "    print(name,'你是非常有性格的狮子座!')\n",
    "elif 8.23<=date<=9.22:\n",
    "    print(name,'你是非常有性格的处女座!')\n",
    "elif 9.23<=date<=10.23:\n",
    "    print(name,'你是非常有性格的天秤座!')\n",
    "elif 10.24<=date<=11.22:\n",
    "    print(name,'你是非常有性格的天蝎座!')\n",
    "elif 11.23<=date<=12.21:\n",
    "    print(name,'你是非常有性格的射手座!')\n",
    "elif 12.22<=date<=12.31 or 1.1<=date<=1.19:\n",
    "    print(name,'你是非常有性格的摩羯座!')\n",
    "elif 1.20<=date<=2.18:\n",
    "    print(name,'你是非常有性格的水瓶座!')\n",
    "elif 2.19<=date<=3.20:\n",
    "    print(name,'你是非常有性格的双鱼座!')\n"
   ]
  },
  {
   "cell_type": "code",
   "execution_count": 4,
   "metadata": {
    "collapsed": false
   },
   "outputs": [
    {
     "ename": "SyntaxError",
     "evalue": "invalid syntax (<ipython-input-4-2406e8859ab6>, line 7)",
     "output_type": "error",
     "traceback": [
      "\u001b[0;36m  File \u001b[0;32m\"<ipython-input-4-2406e8859ab6>\"\u001b[0;36m, line \u001b[0;32m7\u001b[0m\n\u001b[0;31m    if thought = (1)\u001b[0m\n\u001b[0m               ^\u001b[0m\n\u001b[0;31mSyntaxError\u001b[0m\u001b[0;31m:\u001b[0m invalid syntax\n"
     ]
    }
   ],
   "source": [
    "#可由键盘读入两个整数m与n(n不等于0)，询问用户意图，如果要求和则计算从m到n的和输出，如果要乘积则计算从m到n的积并输出，如果要求余数则计算m除以n的余数的值并输出，否则则计算m整除n的值并输出#\n",
    "\n",
    "m=int(input('请输入一个整数'))\n",
    "n=int(input('请输入一个不为零的整数'))\n",
    "thought=int(input('你想干啥，求和请输入1，乘积请输入2，求余请输入3，整除请输入4。'))\n",
    "\n",
    "if thought = ('1')\n",
    "    a=m+n\n",
    "    print(a)\n",
    "elif thought=('2'):\n",
    "    a=m*n\n",
    "    print(a)\n",
    "elif thought=('3'):\n",
    "    a=m%n\n",
    "    print(a)\n",
    "elif thought=('4'):\n",
    "    a=m//n\n",
    "    print(a)\n",
    "\n",
    "\n"
   ]
  },
  {
   "cell_type": "code",
   "execution_count": 21,
   "metadata": {
    "collapsed": false
   },
   "outputs": [
    {
     "name": "stdout",
     "output_type": "stream",
     "text": [
      "请输入北京的PM2.5数值1\n",
      "可以室外裸奔\n"
     ]
    }
   ],
   "source": [
    "#写程序，能够根据北京雾霾PM2.5数值给出对应的防护建议。如当PM2.5数值大于500，则应该打开空气净化器，戴防雾霾口罩等。#\n",
    "\n",
    "haze=int(input('请输入北京的PM2.5数值'))\n",
    "\n",
    "if haze>=500:\n",
    "    print('减少外出，室内打开空气净化器，出门戴口罩')\n",
    "elif 1<haze<=499:\n",
    "    print('多喝冰糖雪梨')\n",
    "elif haze<=1:\n",
    "    print('可以室外裸奔')\n",
    "\n"
   ]
  },
  {
   "cell_type": "code",
   "execution_count": 5,
   "metadata": {
    "collapsed": false
   },
   "outputs": [
    {
     "name": "stdout",
     "output_type": "stream",
     "text": [
      "输入一个英文名词，老铁mma\n",
      "直接加s就可以了，大妹子\n",
      "好好学英语\n"
     ]
    }
   ],
   "source": [
    "#英文单词单数转复数，要求输入一个英文单词，能够得到其复数形式（提示，some_string.endswith(some_letter)函数可以判断某字符串结尾字符）#\n",
    "\n",
    "m = str(input('输入一个英文名词，老铁'))\n",
    "if m.endswith('s') or m.endswith('sh') or m.endswith('ch') or m.endswith('x'):\n",
    "    print('请在这个单词结尾加上es，老铁')\n",
    "elif m.endswith('ly'):\n",
    "    print('请把y变i加es，老哥')\n",
    "else: \n",
    "    print('直接加s就可以了，大妹子')\n",
    "    \n",
    "print('好好学英语')"
   ]
  },
  {
   "cell_type": "code",
   "execution_count": 7,
   "metadata": {
    "collapsed": false
   },
   "outputs": [
    {
     "name": "stdout",
     "output_type": "stream",
     "text": [
      "                                  \n"
     ]
    }
   ],
   "source": [
    "#写程序，能够在屏幕上显示空行#\n",
    "\n",
    "print('                                  ')\n"
   ]
  },
  {
   "cell_type": "code",
   "execution_count": null,
   "metadata": {
    "collapsed": true
   },
   "outputs": [],
   "source": [
    "#写程序，由用户输入一些整数，能够得到几个整数中的次大值(第二大的值)并输出#\n",
    "\n",
    "m = int(input('请输入要输入的整数个数，回车结束'))\n",
    "\n",
    "submax_number = 0\n",
    "\n",
    "i=1\n",
    "while i<= m:\n",
    "    i+=1\n",
    "    n=int(input('请输入一个整数，回车结束'))\n",
    "    if n<max_number and n>submax_number:\n",
    "        submax_number=n\n",
    "    elif n>max_number:\n",
    "        submax_number=max_number\n",
    "        max_number=n\n",
    "print('第二大的数是：', submax_number)"
   ]
  }
 ],
 "metadata": {
  "kernelspec": {
   "display_name": "Python 3",
   "language": "python",
   "name": "python3"
  },
  "language_info": {
   "codemirror_mode": {
    "name": "ipython",
    "version": 3
   },
   "file_extension": ".py",
   "mimetype": "text/x-python",
   "name": "python",
   "nbconvert_exporter": "python",
   "pygments_lexer": "ipython3",
   "version": "3.6.0"
  }
 },
 "nbformat": 4,
 "nbformat_minor": 2
}
