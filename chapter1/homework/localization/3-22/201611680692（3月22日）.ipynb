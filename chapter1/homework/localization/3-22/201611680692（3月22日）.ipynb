{
 "cells": [
  {
   "cell_type": "code",
   "execution_count": 1,
   "metadata": {
    "collapsed": false
   },
   "outputs": [
    {
     "name": "stdout",
     "output_type": "stream",
     "text": [
      "please input a number:88\n",
      "please input a number:95\n",
      "please input a number:2368\n",
      "please input a number:9857\n",
      "please input a number:-8888\n",
      "second large is: 2368\n"
     ]
    }
   ],
   "source": [
    "maxnumber=int (input(\"please input a number:\"))\n",
    "second=int (input(\"please input a number:\"))\n",
    "if second>=maxnumber:\n",
    "    second,maxnumber=maxnumber,second\n",
    "\n",
    "number=None\n",
    "while number !=-8888:\n",
    "    number=int(input(\"please input a number:\"))\n",
    "    if number>=maxnumber:\n",
    "        second=maxnumber\n",
    "        maxnumber=number\n",
    "    elif number>second:\n",
    "        second=number\n",
    "    else:\n",
    "        pass\n",
    "    \n",
    "print(\"second large is:\",second)"
   ]
  },
  {
   "cell_type": "code",
   "execution_count": null,
   "metadata": {
    "collapsed": true
   },
   "outputs": [],
   "source": []
  }
 ],
 "metadata": {
  "kernelspec": {
   "display_name": "Python 3",
   "language": "python",
   "name": "python3"
  },
  "language_info": {
   "codemirror_mode": {
    "name": "ipython",
    "version": 3
   },
   "file_extension": ".py",
   "mimetype": "text/x-python",
   "name": "python",
   "nbconvert_exporter": "python",
   "pygments_lexer": "ipython3",
   "version": "3.6.0"
  }
 },
 "nbformat": 4,
 "nbformat_minor": 2
}
