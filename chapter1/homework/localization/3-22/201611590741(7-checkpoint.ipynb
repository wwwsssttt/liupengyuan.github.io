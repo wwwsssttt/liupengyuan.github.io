{
 "cells": [
  {
   "cell_type": "code",
   "execution_count": 12,
   "metadata": {
    "collapsed": false,
    "deletable": true,
    "editable": true
   },
   "outputs": [
    {
     "name": "stdout",
     "output_type": "stream",
     "text": [
      "请输入污染指数1000\n",
      "此地不宜生存，请迅速转移\n"
     ]
    }
   ],
   "source": [
    "index= float(input('请输入污染指数'))\n",
    "if 0<index<100:\n",
    "    print('天气贼好，快粗去玩吧')\n",
    "elif 100<index<200:\n",
    "    print('轻度污染，不要在外面呆太长时间')\n",
    "elif 200<index<300:\n",
    "    print('中度污染，出门记得戴口罩')\n",
    "elif 300<index<500:\n",
    "    print('重度污染，没什么大不了的事儿就甭出门了')\n",
    "elif index>500:\n",
    "    print('此地不宜生存，请迅速转移')"
   ]
  }
 ],
 "metadata": {
  "kernelspec": {
   "display_name": "Python 3",
   "language": "python",
   "name": "python3"
  },
  "language_info": {
   "codemirror_mode": {
    "name": "ipython",
    "version": 3
   },
   "file_extension": ".py",
   "mimetype": "text/x-python",
   "name": "python",
   "nbconvert_exporter": "python",
   "pygments_lexer": "ipython3",
   "version": "3.6.0"
  }
 },
 "nbformat": 4,
 "nbformat_minor": 2
}
