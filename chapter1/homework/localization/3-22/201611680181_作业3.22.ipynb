{
 "cells": [
  {
   "cell_type": "markdown",
   "metadata": {},
   "source": [
    "写程序，可由键盘读入用户姓名例如Mr. right，让用户输入出生的月份与日期，判断用户星座，假设用户是金牛座，则输出，Mr. right，你是非常有性格的金牛座！"
   ]
  },
  {
   "cell_type": "code",
   "execution_count": 1,
   "metadata": {
    "collapsed": false
   },
   "outputs": [
    {
     "name": "stdout",
     "output_type": "stream",
     "text": [
      "请输入你的名字lcy\n",
      "lcy\n",
      "请输入你的生日8.1\n",
      "你是狮子座\n"
     ]
    }
   ],
   "source": [
    "name=input('请输入你的名字')\n",
    "print(name)\n",
    "date=float(input('请输入你的生日'))\n",
    "if 1.19<date<2.19:\n",
    "    print('你是水瓶座')\n",
    "elif 2.18<date<3.21:\n",
    "    print('你是双鱼座')\n",
    "elif 3.20<date<4.20:\n",
    "    print('你是白羊座')\n",
    "elif 4.19<date<5.21:\n",
    "    print('你是金牛座')\n",
    "elif 5.20<date<6.22:\n",
    "    print('你是双子座')\n",
    "elif 6.21<date<7.23:\n",
    "    print('你是巨蟹座')\n",
    "elif 7.22<date<8.23:\n",
    "    print('你是狮子座')\n",
    "elif 3.22<date<9.23:\n",
    "    print('你是处女座')\n",
    "elif 9.22<date<10.24:\n",
    "    print('你是天枰座')\n",
    "elif 10.23<date<11.23:\n",
    "    print('你是天蝎座')\n",
    "elif 11.22<date<12.22:\n",
    "    print('你是射手座')\n",
    "elif date>12.21 or date<1.20:\n",
    "    print('你是摩羯座')"
   ]
  },
  {
   "cell_type": "markdown",
   "metadata": {},
   "source": [
    "写程序，可由键盘读入两个整数m与n(n不等于0)，询问用户意图，如果要求和则计算从m到n的和输出，如果要乘积则计算从m到n的积并输出，如果要求余数则计算m除以n的余数的值并输出，否则则计算m整除n的值并输出。"
   ]
  },
  {
   "cell_type": "code",
   "execution_count": 2,
   "metadata": {
    "collapsed": false
   },
   "outputs": [
    {
     "name": "stdout",
     "output_type": "stream",
     "text": [
      "请输入一个整数5\n",
      "请输入一个不为零的整数3\n",
      "请输入0，1，2或其他数字0\n",
      "12\n"
     ]
    }
   ],
   "source": [
    "m=int(input('请输入一个整数'))\n",
    "n=int(input('请输入一个不为零的整数'))\n",
    "i=int(input('请输入0，1，2或其他数字'))\n",
    "total=m\n",
    "product=m\n",
    "if i==0 and m>n:\n",
    "    while m>n:\n",
    "        total=total+n\n",
    "        n=n+1\n",
    "    print(total)\n",
    "elif i==0 and m<=n:\n",
    "    while m<=n:\n",
    "        total=total+n\n",
    "        n=n-1\n",
    "    print(total)\n",
    "elif i==1 and m>n:\n",
    "    while m>n:\n",
    "        product=product*n\n",
    "        n=n+1\n",
    "    print(product)\n",
    "elif i==1 and m<=n:\n",
    "    while m<n:\n",
    "        product=product*n\n",
    "        n=n-1\n",
    "    print(product)\n",
    "elif i==2:\n",
    "    remainder=m/n\n",
    "    print(remainder)\n",
    "else:\n",
    "    result=int(m/n)\n",
    "    print(m/n)"
   ]
  },
  {
   "cell_type": "markdown",
   "metadata": {},
   "source": [
    "写程序，能够根据北京雾霾PM2.5数值给出对应的防护建议。如当PM2.5数值大于500，则应该打开空气净化器，戴防雾霾口罩等.\n"
   ]
  },
  {
   "cell_type": "code",
   "execution_count": 4,
   "metadata": {
    "collapsed": false
   },
   "outputs": [
    {
     "name": "stdout",
     "output_type": "stream",
     "text": [
      "请输入今日雾霾指数499\n",
      "空气状况良好\n"
     ]
    }
   ],
   "source": [
    "n=int(input('请输入今日雾霾指数'))\n",
    "if n>500:\n",
    "    print('请打开空气进化器')\n",
    "else:\n",
    "    print('空气状况良好')"
   ]
  },
  {
   "cell_type": "markdown",
   "metadata": {},
   "source": [
    "英文单词单数转复数，要求输入一个英文动词（单数形式），能够得到其复数形式，或给出单数转复数形式的建议（提示，some_string.endswith(some_letter)函数可以判断某字符串结尾字符，可尝试运行：'myname'.endswith('me')，'liupengyuan'.endswith('n')`）。"
   ]
  },
  {
   "cell_type": "code",
   "execution_count": 11,
   "metadata": {
    "collapsed": false
   },
   "outputs": [
    {
     "name": "stdout",
     "output_type": "stream",
     "text": [
      "请输入一个单词apple\n",
      "apples\n"
     ]
    }
   ],
   "source": [
    "word=str(input('请输入一个单词'))\n",
    "if word.endswith('s') or word.endswith('es'):\n",
    "    print(word,'es', sep = '')\n",
    "elif word.endswith('y'):\n",
    "    print('变y为i加es')\n",
    "else:\n",
    "    print(word,'s', sep ='')"
   ]
  },
  {
   "cell_type": "markdown",
   "metadata": {},
   "source": [
    "写程序，能够在屏幕上显示空行。"
   ]
  },
  {
   "cell_type": "code",
   "execution_count": 9,
   "metadata": {
    "collapsed": false
   },
   "outputs": [
    {
     "name": "stdout",
     "output_type": "stream",
     "text": [
      "    \n"
     ]
    }
   ],
   "source": [
    "print('    ')"
   ]
  },
  {
   "cell_type": "markdown",
   "metadata": {},
   "source": [
    "写程序，由用户输入一些整数，能够得到几个整数中的次大值(第二大的值)并输出。"
   ]
  },
  {
   "cell_type": "code",
   "execution_count": 16,
   "metadata": {
    "collapsed": false
   },
   "outputs": [
    {
     "name": "stdout",
     "output_type": "stream",
     "text": [
      "请输入要输入的整数个数，回车结束。4\n",
      "请输入一个整数，回车结束9\n",
      "请输入一个整数，以回车结束6\n",
      "请输入一个整数，回车结束7\n",
      "7\n",
      "请输入一个整数，回车结束8\n",
      "8\n"
     ]
    }
   ],
   "source": [
    "m = int(input('请输入要输入的整数个数，回车结束。'))\n",
    "max_number = int(input('请输入一个整数，回车结束'))\n",
    "min_number = max_number\n",
    "n=int(input('请输入一个整数，以回车结束'))\n",
    "if n>max_number:\n",
    "    max_number=n\n",
    "elif n<min_number:\n",
    "    min_number=n\n",
    "i = 2\n",
    "while i < m:\n",
    "    i += 1\n",
    "    n = int(input('请输入一个整数，回车结束'))\n",
    "    if n>max_number:\n",
    "        result=max_number\n",
    "        max_number=n\n",
    "    elif n<min_number:\n",
    "        result=min_number\n",
    "        min_number=n\n",
    "    elif min_number<n<max_number:\n",
    "        result=n\n",
    "        min_number=n\n",
    "    print(result)"
   ]
  }
 ],
 "metadata": {
  "kernelspec": {
   "display_name": "Python 3",
   "language": "python",
   "name": "python3"
  },
  "language_info": {
   "codemirror_mode": {
    "name": "ipython",
    "version": 3
   },
   "file_extension": ".py",
   "mimetype": "text/x-python",
   "name": "python",
   "nbconvert_exporter": "python",
   "pygments_lexer": "ipython3",
   "version": "3.6.0"
  }
 },
 "nbformat": 4,
 "nbformat_minor": 2
}
