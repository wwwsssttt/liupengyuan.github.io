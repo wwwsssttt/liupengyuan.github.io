{
 "cells": [
  {
   "cell_type": "code",
   "execution_count": null,
   "metadata": {
    "collapsed": false
   },
   "outputs": [],
   "source": [
    "#练习1\n",
    "name=input('请输入你的名字。')\n",
    "print('你好，',name)\n",
    "date=float(input('请输入你的出生日期。'))\n",
    "if 1.20<=date<=2.18:\n",
    "    print('水瓶座')\n",
    "if 2.19<=date<=3.20:\n",
    "    print('双鱼座')\n",
    "if 3.21<=date<=4.19:\n",
    "    print('白羊座')\n",
    "if 4.20<=date<=5.20:\n",
    "    print('金牛座')\n",
    "if 5.21<=date<=6.21:\n",
    "    print('双子座')\n",
    "if 6.22<=date<=7.22:\n",
    "    print('巨蟹座')\n",
    "if 7.23<=date<=8.22:\n",
    "    print('狮子座')\n",
    "if 8.23<=date<=9.22:\n",
    "    print('处女座')\n",
    "if 9.23<=date<=10.23:\n",
    "    print('天秤座')\n",
    "if 10.24<=date<=11.22:\n",
    "    print('天蝎座')\n",
    "if 11.23<=date<=12.21:\n",
    "    print('射手座')\n",
    "if 12.22<=date<=12.31 or 1.01<=date<=1.18:\n",
    "    print('摩羯座')"
   ]
  },
  {
   "cell_type": "code",
   "execution_count": null,
   "metadata": {
    "collapsed": false
   },
   "outputs": [],
   "source": [
    "#练习2\n",
    "m=int(input('请输入一个整数。'))\n",
    "n=int(input('请输入一个不为零的整数。'))\n",
    "c=int(input('求和，输入0；求积，输入1；求余数，输入2'))\n",
    "if c==0:\n",
    "    if m>n:\n",
    "        s=(m+n)*(m-n)/2\n",
    "        print(s)\n",
    "    if m<n:\n",
    "        s=(m+n)*(n-m)/2\n",
    "        print(s)\n",
    "    if m==n:\n",
    "        s=m+m\n",
    "        print(s)\n",
    "elif c==1:\n",
    "    i=0\n",
    "    if n>m:\n",
    "        while i<=n-m:\n",
    "            i=i+1\n",
    "            total=m*(m+1)\n",
    "            m=m+1\n",
    "        print(total)\n",
    "    elif n<m:\n",
    "        while i<=m-n:\n",
    "            i=i+1\n",
    "            total=m*(m-1)\n",
    "            m=m-1\n",
    "        print(total)\n",
    "    else:\n",
    "        total=m*2\n",
    "        print(total)\n",
    "elif c==2:\n",
    "    s=m%n\n",
    "    print(s)\n",
    "else:\n",
    "    s=m//n\n",
    "    print(s)"
   ]
  },
  {
   "cell_type": "code",
   "execution_count": 13,
   "metadata": {
    "collapsed": false
   },
   "outputs": [
    {
     "name": "stdout",
     "output_type": "stream",
     "text": [
      "输入当前PM2.5的值900\n",
      "打开空气净化器，带上防霾口罩。\n"
     ]
    }
   ],
   "source": [
    "#练习3\n",
    "m=int(input('输入当前PM2.5的值'))\n",
    "if m>500:\n",
    "    print('打开空气净化器，带上防霾口罩。')\n",
    "else:\n",
    "    print('多多留意空气质量。')"
   ]
  },
  {
   "cell_type": "code",
   "execution_count": null,
   "metadata": {
    "collapsed": true
   },
   "outputs": [],
   "source": [
    "#练习4\n",
    "word=str(input('请输入一个单词。'))\n",
    "if word.endswith('x')or word.endswith('sh') or word.endswith('ch') or word.endswith('s'):\n",
    "    print(word,'es',sep='')\n",
    "elif word.endswith('y'):\n",
    "    print('变y为i+es')\n",
    "else:\n",
    "    print(word,'s',sep='')"
   ]
  },
  {
   "cell_type": "code",
   "execution_count": 8,
   "metadata": {
    "collapsed": false
   },
   "outputs": [
    {
     "name": "stdout",
     "output_type": "stream",
     "text": [
      "能够在屏幕上显示空行\n",
      "\n",
      "以上是空行\n"
     ]
    }
   ],
   "source": [
    "#尝试性练习\n",
    "print('能够在屏幕上显示空行')\n",
    "print()\n",
    "print('以上是空行')"
   ]
  },
  {
   "cell_type": "code",
   "execution_count": 9,
   "metadata": {
    "collapsed": false
   },
   "outputs": [
    {
     "name": "stdout",
     "output_type": "stream",
     "text": [
      "请输入你想输入的整数个数4\n",
      "pls input6\n",
      "pls input5\n",
      "pls input8\n",
      "pls input7\n",
      "8\n"
     ]
    }
   ],
   "source": [
    "#挑战性练习\n",
    "m=int(input('请输入你想输入的整数个数'))\n",
    "\n",
    "p=int(input('pls input'))\n",
    "q=int(input('pls input'))\n",
    "\n",
    "if p<q:\n",
    "    max1=q\n",
    "    max2=p\n",
    "else:\n",
    "    max1=p\n",
    "    max2=q\n",
    "\n",
    "i=2\n",
    "while i<m:\n",
    "    n=int(input('pls input'))\n",
    "    if n>max1:\n",
    "        max2=max1\n",
    "        max1=n\n",
    "    if max2<=n<=max1:\n",
    "        max2=n\n",
    "    else:\n",
    "        max2=max2\n",
    "    i+=1\n",
    "print(max2)"
   ]
  },
  {
   "cell_type": "code",
   "execution_count": null,
   "metadata": {
    "collapsed": true
   },
   "outputs": [],
   "source": []
  }
 ],
 "metadata": {
  "kernelspec": {
   "display_name": "Python 3",
   "language": "python",
   "name": "python3"
  },
  "language_info": {
   "codemirror_mode": {
    "name": "ipython",
    "version": 3
   },
   "file_extension": ".py",
   "mimetype": "text/x-python",
   "name": "python",
   "nbconvert_exporter": "python",
   "pygments_lexer": "ipython3",
   "version": "3.6.0"
  }
 },
 "nbformat": 4,
 "nbformat_minor": 2
}
