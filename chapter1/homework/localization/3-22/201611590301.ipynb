{
 "cells": [
  {
   "cell_type": "markdown",
   "metadata": {},
   "source": [
    "#练习一：写程序，可由键盘读入用户姓名例如Mr. right，让用户输入出生的月份与日期，判断用户星座，假设用户是金牛座，则输出，Mr. right，你是非常有性格的金牛座！。"
   ]
  },
  {
   "cell_type": "code",
   "execution_count": 1,
   "metadata": {
    "collapsed": false
   },
   "outputs": [
    {
     "name": "stdout",
     "output_type": "stream",
     "text": [
      "请输入您的名字罗力铭\n",
      "您好，, name\n",
      "请输入您的生日，格式:月份.日期10.06\n",
      "罗力铭 你是非常有个性的天秤座\n"
     ]
    }
   ],
   "source": [
    "name = input('请输入您的名字')\n",
    "print(\"您好，, name\")\n",
    "      \n",
    "birthday = float(input('请输入您的生日，格式:月份.日期'))\n",
    "\n",
    "if birthday >= 1.20 and birthday <= 2.18:\n",
    "                  print(name, '你是非常有个性的水瓶座')\n",
    "elif birthday >= 2.19 and birthday <= 3.20:\n",
    "                  print(name, '你是非常有个性的双鱼座')\n",
    "elif birthday >= 3.21 and birthday <= 4.19:\n",
    "                  print(name, '你是非常有个性的白羊座')\n",
    "elif birthday >= 4.20 and birthday <= 5.20:\n",
    "                  print(name, '你是非常有个性的金牛座')\n",
    "elif birthday >= 5.21 and birthday <= 6.21:\n",
    "                  print(name, '你是非常有个性的双子座')\n",
    "elif birthday >= 6.22 and birthday <= 7.22:\n",
    "                  print(name, '你是非常有个性的巨蟹座')\n",
    "elif birthday >= 7.23 and birthday <= 8.22:\n",
    "                  print(name, '你是非常有个性的狮子座')\n",
    "elif birthday >= 8.23 and birthday <= 9.22:\n",
    "                  print(name, '你是非常有个性的处女座')\n",
    "elif birthday >= 9.23 and birthday <= 10.23:\n",
    "                  print(name, '你是非常有个性的天秤座')\n",
    "elif birthday >= 10.24 and birthday <= 11.22:\n",
    "                  print(name, '你是非常有个性的天蝎座')\n",
    "elif birthday >= 11.23 and birthday <= 12.21:\n",
    "                  print(name, '你是非常有个性的射手座')\n",
    "else:\n",
    "                  print(name, '你是非常有个性的摩羯座')\n",
    "  "
   ]
  },
  {
   "cell_type": "markdown",
   "metadata": {},
   "source": [
    "#练习二：写程序，可由键盘读入两个整数m与n(n不等于0)，询问用户意图，如果要求和则计算从m到n的和输出，如果要乘积则计算从m到n的积并输出，如果要求余数则计算m除以n的余数的值并输出，否则则计算m整除n的值并输出。"
   ]
  },
  {
   "cell_type": "code",
   "execution_count": 7,
   "metadata": {
    "collapsed": false
   },
   "outputs": [
    {
     "name": "stdout",
     "output_type": "stream",
     "text": [
      "请输入一个整数：5\n",
      "请输入一个整数：8\n",
      "请问您想做什么运算？加和运算请按‘+’，乘积运算请按‘*’，求余运算请按‘%’，其他运算请按‘//’，回车结束。+\n",
      "26.0\n"
     ]
    }
   ],
   "source": [
    "m = int(input(\"请输入一个整数，回车结束：\"))\n",
    "n = int(input(\"请输入一个整数，回车结束：\"))\n",
    "temp = ''\n",
    "total = 1\n",
    "a = input(\"请问您想做什么运算？加和运算请按‘+’，乘积运算请按‘*’，求余运算请按‘%’，其他运算请按‘//’，回车结束。\")\n",
    "if a == '+':\n",
    "    if m > n:\n",
    "        temp = m\n",
    "        m = n\n",
    "        n = temp\n",
    "    else:\n",
    "        print((m+n)*(n-m+1)/2)\n",
    "elif a == '*':\n",
    "    total = m*n\n",
    "    if m > n:\n",
    "        temp = m\n",
    "        m = n\n",
    "        n = temp\n",
    "    else:\n",
    "        while (m+1) <= (n-1):\n",
    "            total = total*(m+1)*(n-1)\n",
    "            m += 1\n",
    "            n -= 1\n",
    "    print(total)          \n",
    "elif a == '%':\n",
    "    print(m%n)\n",
    "else:\n",
    "    print(m//n)"
   ]
  },
  {
   "cell_type": "markdown",
   "metadata": {},
   "source": [
    "练习三：写程序，能够根据北京雾霾PM2.5数值给出对应的防护建议。如当PM2.5数值大于500，则应该打开空气净化器，戴防雾霾口罩等。"
   ]
  },
  {
   "cell_type": "code",
   "execution_count": 10,
   "metadata": {
    "collapsed": false
   },
   "outputs": [
    {
     "name": "stdout",
     "output_type": "stream",
     "text": [
      "请输入当前的PM2.5数值：599\n",
      "当前雾霾较大，建议在室内打开空气净化器，在室外戴好防雾霾口罩。\n"
     ]
    }
   ],
   "source": [
    "n = float(input('请输入当前的PM2.5数值：'))\n",
    "if n > 500:\n",
    "    print('当前雾霾较大，建议在室内打开空气净化器，在室外戴好防雾霾口罩。')\n",
    "else:\n",
    "    print('当前空气良好')"
   ]
  },
  {
   "cell_type": "markdown",
   "metadata": {},
   "source": [
    "练习四：英文单词单数转复数，要求输入一个英文动词（单数形式），能够得到其复数形式，或给出单数转复数形式的建议（提示，some_string.endswith(some_letter)函数可以判断某字符串结尾字符，可尝试运行：'myname'.endswith('me')，'liupengyuan'.endswith('n')）。"
   ]
  },
  {
   "cell_type": "code",
   "execution_count": 21,
   "metadata": {
    "collapsed": false
   },
   "outputs": [
    {
     "name": "stdout",
     "output_type": "stream",
     "text": [
      "请输入一个英文动词单词（单数形式）sd\n",
      "sdes\n"
     ]
    }
   ],
   "source": [
    "verb = input('请输入一个英文动词单词（单数形式）')\n",
    "if verb.endswith('s')or('x')or('sh')or('ch')or('o'):\n",
    "    print(verb+'es')\n",
    "elif verb.endswith('by')or verb.endswith ('cy') or verb.endswith('dy') or verb.endswith('fy') or verb.endswith('gy') or verb.endswith('hy') or verb.endswith('jy') or verb.endswith('ky') or verb.endswith('ly') or verb.endswith('my') or verb.endswith('ny') or verb.endswith('py') or verb.endswith('qy') or verb.endswith('ry') or verb.endswith('sy') or verb.endswith('ty') or verb.endswith('vy') or verb.endswith('wy') or verb.endswith('zy'):\n",
    "    print('请去点词尾的y并加ies)\n",
    "else:\n",
    "    print(verb+'s')\n"
   ]
  },
  {
   "cell_type": "markdown",
   "metadata": {},
   "source": [
    "尝试性练习：写程序，能够在屏幕上显示空行。"
   ]
  },
  {
   "cell_type": "code",
   "execution_count": 30,
   "metadata": {
    "collapsed": false
   },
   "outputs": [
    {
     "name": "stdout",
     "output_type": "stream",
     "text": [
      "请输入一行数字：34\n",
      "\n",
      "\n"
     ]
    }
   ],
   "source": [
    "x = input(\"请输入一行数字：\")\n",
    "if len(x) <= 100:\n",
    "    print(\"\\n\")\n",
    "else:\n",
    "    print(x)"
   ]
  },
  {
   "cell_type": "markdown",
   "metadata": {},
   "source": [
    "挑战性练习：写程序，由用户输入一些整数，能够得到几个整数中的次大值(第二大的值)并输出。"
   ]
  },
  {
   "cell_type": "code",
   "execution_count": 32,
   "metadata": {
    "collapsed": false
   },
   "outputs": [
    {
     "name": "stdout",
     "output_type": "stream",
     "text": [
      "请输入整数的个数（大于等于2个），回车结束：4\n",
      "请输入一个整数，回车结束：234\n",
      "请再输入一个整数，回车结束：124124\n",
      "请再输入一个整数，回车结束：123124\n",
      "请再输入一个整数，回车结束：343434343\n",
      "124124\n"
     ]
    }
   ],
   "source": [
    "num = int(input(\"请输入整数的个数（大于等于2个），回车结束：\"))\n",
    "\n",
    "m = int(input(\"请输入一个整数，回车结束：\"))\n",
    "n = int(input(\"请再输入一个整数，回车结束：\"))\n",
    "if m >= n:\n",
    "    max_number = m\n",
    "    mid_number = n\n",
    "else:\n",
    "    max_number = n\n",
    "    mid_number = m\n",
    "i = 2\n",
    "while i < num:\n",
    "    x = int(input(\"请再输入一个整数，回车结束：\"))\n",
    "    if mid_number < x < max_number:\n",
    "        mid_number = x\n",
    "    if x > max_number:\n",
    "        mid_number = max_number\n",
    "        max_number = x\n",
    "    i += 1\n",
    "print(mid_number)"
   ]
  }
 ],
 "metadata": {
  "kernelspec": {
   "display_name": "Python 3",
   "language": "python",
   "name": "python3"
  },
  "language_info": {
   "codemirror_mode": {
    "name": "ipython",
    "version": 3
   },
   "file_extension": ".py",
   "mimetype": "text/x-python",
   "name": "python",
   "nbconvert_exporter": "python",
   "pygments_lexer": "ipython3",
   "version": "3.6.0"
  }
 },
 "nbformat": 4,
 "nbformat_minor": 2
}
