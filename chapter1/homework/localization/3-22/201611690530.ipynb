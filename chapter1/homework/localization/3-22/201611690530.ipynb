{
 "cells": [
  {
   "cell_type": "code",
   "execution_count": 4,
   "metadata": {
    "collapsed": false
   },
   "outputs": [
    {
     "name": "stdout",
     "output_type": "stream",
     "text": [
      "请输入一个整数3\n",
      "32\n",
      "4\n",
      "5\n",
      "5\n"
     ]
    }
   ],
   "source": [
    "n=int(input(\"请输入一个整数\"))\n",
    "i=0\n",
    "max=0\n",
    "imax=0\n",
    "while i<n:\n",
    "    i+=1\n",
    "    m=int(input())\n",
    "    if m>max:\n",
    "        a=max\n",
    "        max=m\n",
    "        m=a;\n",
    "        if m>imax:\n",
    "            imax=m;\n",
    "    elif m>imax:\n",
    "        imax=m;\n",
    "print(imax)\n",
    "    \n",
    "    \n",
    "    "
   ]
  }
 ],
 "metadata": {
  "kernelspec": {
   "display_name": "Python 3",
   "language": "python",
   "name": "python3"
  },
  "language_info": {
   "codemirror_mode": {
    "name": "ipython",
    "version": 3
   },
   "file_extension": ".py",
   "mimetype": "text/x-python",
   "name": "python",
   "nbconvert_exporter": "python",
   "pygments_lexer": "ipython3",
   "version": "3.6.0"
  }
 },
 "nbformat": 4,
 "nbformat_minor": 2
}
