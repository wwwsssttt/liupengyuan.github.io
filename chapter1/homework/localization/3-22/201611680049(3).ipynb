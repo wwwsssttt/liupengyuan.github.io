{
 "cells": [
  {
   "cell_type": "markdown",
   "metadata": {
    "collapsed": false
   },
   "source": [
    "## 练习 1：写程序，可由键盘读入用户姓名例如Mr. right，让用户输入出生的月份与日期，判断用户星座，假设用户是金牛座，则输出，Mr. right，你是非常有性格的金牛座！。"
   ]
  },
  {
   "cell_type": "code",
   "execution_count": null,
   "metadata": {
    "collapsed": false
   },
   "outputs": [],
   "source": [
    "name = input('请输入你的姓名')\n",
    "print('你好',name)\n",
    "print('请输入出生的月份与日期')\n",
    "month = int(input('月份：'))\n",
    "date = int(input('日期：'))\n",
    "\n",
    "if month == 4:\n",
    "    if date < 20:\n",
    "        print(name, '你是白羊座')\n",
    "    else:\n",
    "        print(name,'你是非常有性格的金牛座')\n",
    "        \n",
    "if month == 5:\n",
    "    if date < 21:\n",
    "        print(name, '你是非常有性格的金牛座')\n",
    "    else:\n",
    "        print(name,'你是双子座')\n",
    "        \n",
    "if month == 6:\n",
    "    if date < 22:\n",
    "        print(name, '你是双子座')\n",
    "    else:\n",
    "        print(name,'你是巨蟹座')\n",
    "\n",
    "if month == 7:\n",
    "    if date < 23:\n",
    "        print(name, '你是巨蟹座')\n",
    "    else:\n",
    "        print(name,'你是狮子座')\n",
    "        \n",
    "if month == 8:\n",
    "    if date < 23:\n",
    "        print(name, '你是狮子座')\n",
    "    else:\n",
    "        print(name,'你是处女座')\n",
    "        \n",
    "if month == 9:\n",
    "    if date < 24:\n",
    "        print(name, '你是处女座')\n",
    "    else:\n",
    "        print(name,'你是天秤座')\n",
    "\n",
    "if month == 10:\n",
    "    if date < 24:\n",
    "        print(name, '你是天秤座')\n",
    "    else:\n",
    "        print(name,'你是天蝎座')\n",
    "        \n",
    "if month == 11:\n",
    "    if date < 23:\n",
    "        print(name, '你是天蝎座')\n",
    "    else:\n",
    "        print(name,'你是射手座')\n",
    "        \n",
    "if month == 12:\n",
    "    if date < 22:\n",
    "        print(name, '你是射手座')\n",
    "    else:\n",
    "        print(name,'你是摩羯座')\n",
    "        \n",
    "if month == 1:\n",
    "    if date < 20:\n",
    "        print(name, '你是摩羯座')\n",
    "    else:\n",
    "        print(name,'你是水瓶座')\n",
    "        \n",
    "if month == 2:\n",
    "    if date < 19:\n",
    "        print(name, '你是水瓶座')\n",
    "    else:\n",
    "        print(name,'你是双鱼座')\n",
    "        \n",
    "if month == 3:\n",
    "    if date < 22:\n",
    "        print(name, '你是双鱼座')\n",
    "    else:\n",
    "        print(name,'你是白羊座')"
   ]
  },
  {
   "cell_type": "markdown",
   "metadata": {},
   "source": [
    "## 练习 2：写程序，可由键盘读入两个整数m与n(n不等于0)，询问用户意图，如果要求和则计算从m到n的和输出，如果要乘积则计算从m到n的积并输出，如果要求余数则计算m除以n的余数的值并输出，否则则计算m整除n的值并输出。"
   ]
  },
  {
   "cell_type": "code",
   "execution_count": null,
   "metadata": {
    "collapsed": true
   },
   "outputs": [],
   "source": [
    "m = int(input('请输入一个整数，回车结束'))\n",
    "n = int(input('请输入一个整数，不为零'))\n",
    "intend = input('请输入计算意图，如 + * %')\n",
    "if m<n:\n",
    "    min_number = m\n",
    "else:\n",
    "    min_number = n\n",
    "total = min_number\n",
    "\n",
    "if intend == '+':\n",
    "    if m<n:\n",
    "        while m<n:\n",
    "            m = m + 1\n",
    "            total = total + m\n",
    "        print(total)\n",
    "    else:\n",
    "        while m > n:\n",
    "            n = n + 1\n",
    "            total = total + n\n",
    "        print(total)\n",
    "elif intend == '*':\n",
    "    if m<n:\n",
    "        while m<n:\n",
    "            m = m + 1\n",
    "            total = total * m\n",
    "        print(total)\n",
    "    else:\n",
    "        while m > n:\n",
    "            n = n + 1\n",
    "            total = total * n\n",
    "        print(total)\n",
    "elif intend == '%':\n",
    "    print(m % n)\n",
    "else:\n",
    "    print(m // n)"
   ]
  },
  {
   "cell_type": "markdown",
   "metadata": {},
   "source": [
    "## 练习 3：写程序，能够根据北京雾霾PM2.5数值给出对应的防护建议。如当PM2.5数值大于500，则应该打开空气净化器，戴防雾霾口罩等。"
   ]
  },
  {
   "cell_type": "code",
   "execution_count": null,
   "metadata": {
    "collapsed": true
   },
   "outputs": [],
   "source": [
    "number = int(input('现在北京的PM2.5指数是多少？请输入整数'))\n",
    "\n",
    "if number > 500:\n",
    "    print('应该打开空气净化器，戴防雾霾口罩')\n",
    "elif 300 < number < 500:\n",
    "    print('尽量呆在室内不出门，出门佩戴防雾霾口罩')\n",
    "elif 200 < number < 300:\n",
    "    print('尽量不要进行户外活动')\n",
    "elif 100 < number < 200:\n",
    "    print('轻度污染，可进行户外活动，可不佩戴口罩')\n",
    "else:\n",
    "    print('无须特别注意')"
   ]
  },
  {
   "cell_type": "markdown",
   "metadata": {},
   "source": [
    "## 尝试性练习：写程序，能够在屏幕上显示空行。"
   ]
  },
  {
   "cell_type": "code",
   "execution_count": null,
   "metadata": {
    "collapsed": true
   },
   "outputs": [],
   "source": [
    "print('空行是我')\n",
    "print('空行是我')\n",
    "print('空行是我')\n",
    "print( )\n",
    "print('我是空行')"
   ]
  },
  {
   "cell_type": "markdown",
   "metadata": {
    "collapsed": true
   },
   "source": [
    "## 练习 4：英文单词单数转复数，要求输入一个英文动词（单数形式），能够得到其复数形式，或给出单数转复数形式的建议"
   ]
  },
  {
   "cell_type": "code",
   "execution_count": null,
   "metadata": {
    "collapsed": false
   },
   "outputs": [],
   "source": [
    "word = input('请输入一个单词，回车结束')\n",
    "\n",
    "if word.endswith('s') or word.endswith('sh') or word.endswith('ch') or word.endswith('x'):\n",
    "    print(word,'es',sep = '')\n",
    "    \n",
    "elif word.endswith('y'):\n",
    "    if word.endswith('ay') or word.endswith('ey') or word.endswith('iy') or word.endswith('oy') or word.endswith('uy'):\n",
    "        print(word,'s',sep = '')\n",
    "    else:\n",
    "        word = word[:-1]\n",
    "        print(word,'ies',sep = '')\n",
    "        \n",
    "elif word.endswith('f'):\n",
    "    word = word[:-1]\n",
    "    print(word,'ves',sep = '')\n",
    "    \n",
    "elif word.endswith('fe'):\n",
    "    word = word[:-2]\n",
    "    print(word,'ves',sep = '')\n",
    "\n",
    "elif word.endswith('o'):\n",
    "    print('词尾加s或者es')\n",
    "    \n",
    "else:\n",
    "    print(word,'s',sep = '')"
   ]
  },
  {
   "cell_type": "code",
   "execution_count": null,
   "metadata": {
    "collapsed": true
   },
   "outputs": [],
   "source": []
  }
 ],
 "metadata": {
  "kernelspec": {
   "display_name": "Python 3",
   "language": "python",
   "name": "python3"
  },
  "language_info": {
   "codemirror_mode": {
    "name": "ipython",
    "version": 3
   },
   "file_extension": ".py",
   "mimetype": "text/x-python",
   "name": "python",
   "nbconvert_exporter": "python",
   "pygments_lexer": "ipython3",
   "version": "3.6.0"
  }
 },
 "nbformat": 4,
 "nbformat_minor": 2
}
