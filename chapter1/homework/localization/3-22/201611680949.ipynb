{
 "cells": [
  {
   "cell_type": "code",
   "execution_count": 1,
   "metadata": {
    "collapsed": false
   },
   "outputs": [
    {
     "name": "stdout",
     "output_type": "stream",
     "text": [
      "请输入姓名:A\n",
      "请输入出生日期，格式为：mm.dd：07.12\n",
      "A ,你是巨蟹座。\n"
     ]
    }
   ],
   "source": [
    "#练习1\n",
    "\n",
    "name=input('请输入姓名:')\n",
    "date=float(input('请输入出生日期，格式为：mm.dd：'))\n",
    "\n",
    "if 1.1<=date<=1.19:\n",
    "    print(name,'，你是摩羯座。')\n",
    "elif 1.20<=date<=2.18:\n",
    "    print(name,'，你是水瓶座。')\n",
    "elif 2.19<=date<=3.20:\n",
    "    print(name,'，你是双鱼座。')\n",
    "elif 3.21<=date<=4.19:\n",
    "    print(name,'，你是白羊座。')\n",
    "elif 4.20<=date<=5.20:\n",
    "    print(name,'，你是金牛座。')\n",
    "elif 5.21<=date<=6.21:\n",
    "    print(name,'，你是双子座。')\n",
    "elif 6.22<=date<=7.22:\n",
    "    print(name,',你是巨蟹座。')\n",
    "elif 7.23<=date<=8.22:\n",
    "    print(name,'，你是狮子座。')\n",
    "elif 8.23<=date<=9.22:\n",
    "    print(name,'，你是处女座。')\n",
    "elif 9.23<=date<=10.23:\n",
    "    print(name,'，你是天秤座。')\n",
    "elif 10.24<=date<=11.22:\n",
    "    print(name,'，你是天蝎座。')\n",
    "elif 11.23<=date<=12.21:\n",
    "    print(name,'，你是射手座。')\n",
    "elif 12.22<=date<=12.31:\n",
    "    print(name,'，你是摩羯座。')\n",
    "else:\n",
    "    print('error')"
   ]
  },
  {
   "cell_type": "code",
   "execution_count": 2,
   "metadata": {
    "collapsed": false
   },
   "outputs": [
    {
     "name": "stdout",
     "output_type": "stream",
     "text": [
      "请输入整数m:3\n",
      "请输入非零整数n:5\n",
      "要做什么？累加请输入1，累乘请输入2，求余数请输入3，输入任意整数求商:2\n",
      "结果为： 60\n"
     ]
    }
   ],
   "source": [
    "#练习2\n",
    "\n",
    "m=int(input('请输入整数m:'))\n",
    "n=int(input('请输入非零整数n:'))\n",
    "i=int(input('要做什么？累加请输入1，累乘请输入2，求余数请输入3，输入任意整数求商:'))\n",
    "a=m\n",
    "product=m\n",
    "total=m\n",
    "\n",
    "if i==1:\n",
    "    while a<n:\n",
    "        a=a+1\n",
    "        total=total+a\n",
    "    print('结果为：',total)\n",
    "elif i==2:\n",
    "    while a<n:\n",
    "        a=a+1\n",
    "        product=product*a\n",
    "    print ('结果为：',product)\n",
    "elif i==3:\n",
    "    print('结果为：',m//n)\n",
    "else:\n",
    "    print('结果为：',m/n)"
   ]
  },
  {
   "cell_type": "code",
   "execution_count": 3,
   "metadata": {
    "collapsed": false
   },
   "outputs": [
    {
     "name": "stdout",
     "output_type": "stream",
     "text": [
      "请输入PM2.5数值：275\n",
      "出行请戴上口罩。\n"
     ]
    }
   ],
   "source": [
    "#练习3\n",
    "\n",
    "pm_2_5=int(input('请输入PM2.5数值：'))\n",
    "\n",
    "if 700<=pm_2_5<=1000:\n",
    "    print('请不要出行。')\n",
    "elif 500<=pm_2_5<=700:\n",
    "    print('请尽量减少户外运动，室内使用空气净化器。')\n",
    "elif 250<=pm_2_5<=500:\n",
    "    print('出行请戴上口罩。')\n",
    "elif 0<=pm_2_5<250:\n",
    "    print('空气质量尚可。')\n",
    "else:\n",
    "    print('error')"
   ]
  },
  {
   "cell_type": "code",
   "execution_count": 4,
   "metadata": {
    "collapsed": false
   },
   "outputs": [
    {
     "name": "stdout",
     "output_type": "stream",
     "text": [
      "请输入英语单词：potato\n",
      "该单词的复数为：potatoes\n"
     ]
    }
   ],
   "source": [
    "#练习4\n",
    "\n",
    "string=input('请输入英语单词：')\n",
    "\n",
    "if string.endswith('o'):\n",
    "    print('该单词的复数为：',string,'es',sep='')\n",
    "elif string.endswith('s'):\n",
    "    print('该单词的复数为：',string,'es',sep='')\n",
    "else:\n",
    "    print('该单词的复数为：',string,'s',sep='')"
   ]
  },
  {
   "cell_type": "code",
   "execution_count": 5,
   "metadata": {
    "collapsed": false
   },
   "outputs": [
    {
     "name": "stdout",
     "output_type": "stream",
     "text": [
      "test\n",
      "\n",
      "test\n"
     ]
    }
   ],
   "source": [
    "#尝试性练习\n",
    "\n",
    "print('test','test',sep='\\n\\n')"
   ]
  }
 ],
 "metadata": {
  "kernelspec": {
   "display_name": "Python 3",
   "language": "python",
   "name": "python3"
  },
  "language_info": {
   "codemirror_mode": {
    "name": "ipython",
    "version": 3
   },
   "file_extension": ".py",
   "mimetype": "text/x-python",
   "name": "python",
   "nbconvert_exporter": "python",
   "pygments_lexer": "ipython3",
   "version": "3.6.0"
  }
 },
 "nbformat": 4,
 "nbformat_minor": 2
}
