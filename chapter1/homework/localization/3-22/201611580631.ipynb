{
 "cells": [
  {
   "cell_type": "code",
   "execution_count": null,
   "metadata": {
    "collapsed": true
   },
   "outputs": [],
   "source": [
    "m=int(input'pm2.5')\n",
    "if m>=500:\n",
    "    print('减少外出，室内打开空气净化器，出门戴口罩')\n",
    "elif 50<=m<= 499:\n",
    "    print('出门')\n"
   ]
  },
  {
   "cell_type": "code",
   "execution_count": null,
   "metadata": {
    "collapsed": true
   },
   "outputs": [],
   "source": [
    "print('                                  ')"
   ]
  },
  {
   "cell_type": "code",
   "execution_count": null,
   "metadata": {
    "collapsed": true
   },
   "outputs": [],
   "source": []
  },
  {
   "cell_type": "code",
   "execution_count": null,
   "metadata": {
    "collapsed": true
   },
   "outputs": [],
   "source": [
    "m=int(input'intger')\n",
    "n=int(input'intger, not 0')\n",
    "thought=int(input('sum1，times2，求余请输入3，整除请输入4。'))\n",
    "\n",
    "if thought = ('1')\n",
    "    a=m+n\n",
    "    print(a)\n",
    "elif thought=('2'):\n",
    "    a=m*n\n",
    "    print(a)\n",
    "elif thought=('3'):\n",
    "    a=m%n\n",
    "    print(a)\n",
    "elif thought=('4'):\n",
    "    a=m//n\n",
    "    print(a)\n"
   ]
  },
  {
   "cell_type": "code",
   "execution_count": null,
   "metadata": {
    "collapsed": true
   },
   "outputs": [],
   "source": [
    "\n",
    "name=input('请输入你的姓名')\n",
    "date=float(input('出生日期'))\n",
    "if 3.21<=date<=4.19:\n",
    "    print(name,'你是非常有性格的白羊座!')\n",
    "elif 4.20<=date<=5.20:\n",
    "    print(name,'你是非常有性格的金牛座!')\n",
    "elif 5.21<=date<=6.21:\n",
    "    print(name,'你是非常有性格的双子座!')\n",
    "elif 6.22<=date<=7.22:\n",
    "    print(name,'你是非常有性格的巨蟹座!')\n",
    "elif 7.23<=date<=8.22:\n",
    "    print(name,'你是非常有性格的狮子座!')\n",
    "elif 8.23<=date<=9.22:\n",
    "    print(name,'你是非常有性格的处女座!')\n",
    "elif 9.23<=date<=10.23:\n",
    "    print(name,'你是非常有性格的天秤座!')\n",
    "elif 10.24<=date<=11.22:\n",
    "    print(name,'你是非常有性格的天蝎座!')\n",
    "elif 11.23<=date<=12.21:\n",
    "    print(name,'你是非常有性格的射手座!')\n",
    "elif 12.22<=date<=12.31 or 1.1<=date<=1.19:\n",
    "    print(name,'你是非常有性格的摩羯座!')\n",
    "elif 1.20<=date<=2.18:\n",
    "    print(name,'你是非常有性格的水瓶座!')\n",
    "elif 2.19<=date<=3.20:\n",
    "    print(name,'你是非常有性格的双鱼座!')\n"
   ]
  }
 ],
 "metadata": {
  "kernelspec": {
   "display_name": "Python 3",
   "language": "python",
   "name": "python3"
  },
  "language_info": {
   "codemirror_mode": {
    "name": "ipython",
    "version": 3
   },
   "file_extension": ".py",
   "mimetype": "text/x-python",
   "name": "python",
   "nbconvert_exporter": "python",
   "pygments_lexer": "ipython3",
   "version": "3.6.0"
  }
 },
 "nbformat": 4,
 "nbformat_minor": 2
}
