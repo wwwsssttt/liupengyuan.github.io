{
 "cells": [
  {
   "cell_type": "code",
   "execution_count": 12,
   "metadata": {
    "collapsed": false,
    "deletable": true,
    "editable": true
   },
   "outputs": [
    {
     "name": "stdout",
     "output_type": "stream",
     "text": [
      "请输入一个数m5\n",
      "请输入一个数n3\n",
      "请输入指令求积\n",
      "30\n"
     ]
    }
   ],
   "source": [
    "m=int(input('请输入一个数m'))\n",
    "n=int(input('请输入一个数n'))\n",
    "flag=input('请输入指令')\n",
    "if m < n:\n",
    "    m,n=n,m\n",
    "if flag == '求和':\n",
    "    print((m-n+1)*(m+n)/2)\n",
    "elif flag == '求积':\n",
    "    while n <= m:\n",
    "        sum=n\n",
    "        n=n+1\n",
    "        sum*=n\n",
    "print(sum)\n",
    "if flag == '求余':\n",
    "    if(m%n==0):\n",
    "        print(m/n)\n",
    "    else:\n",
    "        print(m%n)\n",
    "    \n"
   ]
  }
 ],
 "metadata": {
  "kernelspec": {
   "display_name": "Python 3",
   "language": "python",
   "name": "python3"
  },
  "language_info": {
   "codemirror_mode": {
    "name": "ipython",
    "version": 3
   },
   "file_extension": ".py",
   "mimetype": "text/x-python",
   "name": "python",
   "nbconvert_exporter": "python",
   "pygments_lexer": "ipython3",
   "version": "3.6.0"
  }
 },
 "nbformat": 4,
 "nbformat_minor": 2
}
