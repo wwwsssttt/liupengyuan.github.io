{
 "cells": [
  {
   "cell_type": "code",
   "execution_count": 7,
   "metadata": {
    "collapsed": false
   },
   "outputs": [
    {
     "ename": "IndentationError",
     "evalue": "unexpected indent (<ipython-input-7-40303271b7cf>, line 2)",
     "output_type": "error",
     "traceback": [
      "\u001b[1;36m  File \u001b[1;32m\"<ipython-input-7-40303271b7cf>\"\u001b[1;36m, line \u001b[1;32m2\u001b[0m\n\u001b[1;33m    if word.endswith('ch'):\u001b[0m\n\u001b[1;37m    ^\u001b[0m\n\u001b[1;31mIndentationError\u001b[0m\u001b[1;31m:\u001b[0m unexpected indent\n"
     ]
    }
   ],
   "source": [
    "word=str(input('word'))    \n",
    "    if word.endswith('ch'):\n",
    "        print(word, 'es')\n",
    "    elif word.endswith('sh'):\n",
    "        print(word, 'es')\n",
    "    else:\n",
    "        print(word, 's')\n"
   ]
  },
  {
   "cell_type": "code",
   "execution_count": 8,
   "metadata": {
    "collapsed": false
   },
   "outputs": [
    {
     "name": "stdout",
     "output_type": "stream",
     "text": [
      "请输入你的名字hyl\n",
      "请输入你的生日2.22\n",
      "hyl 你是双鱼座\n"
     ]
    }
   ],
   "source": [
    "n=input('请输入你的名字')\n",
    "\n",
    "d=float(input('请输入你的生日'))\n",
    "if 1.19<d<2.19:\n",
    "    print(n,'你是水瓶座')\n",
    "elif 2.18<d<3.21:\n",
    "    print(n,'你是双鱼座')\n",
    "elif 3.20<d<4.20:\n",
    "    print(n,'你是白羊座')\n",
    "elif 4.19<d<5.21:\n",
    "    print(n,'你是金牛座')\n",
    "elif 5.20<d<6.22:\n",
    "    print(n,'你是双子座')\n",
    "elif 6.21<d<7.23:\n",
    "    print(n,'你是巨蟹座')\n",
    "elif 7.22<d<8.23:\n",
    "    print(n,'你是狮子座')\n",
    "elif 8.22<d<9.23:\n",
    "    print(n,'你是处女座')\n",
    "elif 9.22<d<10.23:\n",
    "    print(n,'你是天秤座')\n",
    "elif 10.22<d<11.23:\n",
    "    print(n,'你是天蝎座')\n",
    "elif 11.22<d<12.32 or 1.00<d<1.20:\n",
    "    print(n,'你是射手座')"
   ]
  },
  {
   "cell_type": "code",
   "execution_count": 9,
   "metadata": {
    "collapsed": false
   },
   "outputs": [
    {
     "name": "stdout",
     "output_type": "stream",
     "text": [
      "请输入一个整数2\n",
      "请输入一个非零整数4\n",
      "你想干嘛,回车输入；1为求和；2为求积；3为求商的余数\n",
      "输入1或2或33\n",
      "0\n"
     ]
    }
   ],
   "source": [
    "m=int(input('请输入一个整数'))\n",
    "n=int(input('请输入一个非零整数'))\n",
    "print('你想干嘛,回车输入；1为求和；2为求积；3为求商的余数')\n",
    "p=int(input('输入1或2或3'))\n",
    "total=m+n\n",
    "y=m*n\n",
    "s=n%m\n",
    "q=m%n\n",
    "\n",
    "if p==1:\n",
    "    if m<n:\n",
    "        while m<n:\n",
    "            m+=1\n",
    "            total+=m\n",
    "        else:\n",
    "            print(total-m)\n",
    "    if n<m:\n",
    "        while n<m:\n",
    "                n+=1\n",
    "                total+=n\n",
    "        else:\n",
    "            print(total-n)\n",
    "if p==2:\n",
    "    if m<n:\n",
    "        while m<n:\n",
    "            m=m+1\n",
    "            y=y*m\n",
    "        else:\n",
    "            print(y/m)\n",
    "    if n<m:\n",
    "        while n<m:\n",
    "            n=n+1\n",
    "            y=y*n\n",
    "        else:\n",
    "            print(y/n)\n",
    "\n",
    "if p==3:\n",
    "    if m<n:\n",
    "        print(s)\n",
    "    if n<m:\n",
    "        print(q)"
   ]
  },
  {
   "cell_type": "code",
   "execution_count": 12,
   "metadata": {
    "collapsed": false
   },
   "outputs": [
    {
     "name": "stdout",
     "output_type": "stream",
     "text": [
      "空气污染pm2.5指数555\n",
      "空气重度污染，请打开空气净化器，戴口罩\n"
     ]
    }
   ],
   "source": [
    "p=float(input('空气污染pm2.5指数'))\n",
    "if p>500:\n",
    "    print('空气重度污染，请打开空气净化器，戴口罩')\n",
    "elif 200<p<500:\n",
    "    print('当前污染指数较高')\n",
    "elif p<200:\n",
    "    print('当前空气污染较小放心出行')"
   ]
  },
  {
   "cell_type": "code",
   "execution_count": null,
   "metadata": {
    "collapsed": true
   },
   "outputs": [],
   "source": []
  }
 ],
 "metadata": {
  "kernelspec": {
   "display_name": "Python 3",
   "language": "python",
   "name": "python3"
  },
  "language_info": {
   "codemirror_mode": {
    "name": "ipython",
    "version": 3
   },
   "file_extension": ".py",
   "mimetype": "text/x-python",
   "name": "python",
   "nbconvert_exporter": "python",
   "pygments_lexer": "ipython3",
   "version": "3.6.0"
  }
 },
 "nbformat": 4,
 "nbformat_minor": 2
}
