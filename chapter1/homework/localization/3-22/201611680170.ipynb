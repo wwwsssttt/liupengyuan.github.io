{
 "cells": [
  {
   "cell_type": "code",
   "execution_count": null,
   "metadata": {
    "collapsed": true
   },
   "outputs": [],
   "source": [
    "练习 1：写程序，可由键盘读入用户姓名例如Mr. right，让用户输入出生的月份与日期，判断用户星座，假设用户是金牛座，则输出，Mr. right，你是非常有性格的金牛座！。"
   ]
  },
  {
   "cell_type": "code",
   "execution_count": 2,
   "metadata": {
    "collapsed": false
   },
   "outputs": [
    {
     "name": "stdout",
     "output_type": "stream",
     "text": [
      "请输入你的名字，以回车结束Charlotte\n",
      "请输入你的出生月份，以回车结束6\n",
      "请输入你的出生日期，以回车结束5\n",
      "Charlotte 你是非常不一样的双子座\n"
     ]
    }
   ],
   "source": [
    "name=input('请输入你的名字，以回车结束')\n",
    "m=int(input('请输入你的出生月份，以回车结束'))\n",
    "n=int(input('请输入你的出生日期，以回车结束'))\n",
    "if m==1:\n",
    "    if n<=19:\n",
    "        print(name,'你是非常有性格的摩羯座')\n",
    "    else:\n",
    "        print(name,'你是非常有性格的水瓶座')\n",
    "elif m==2:\n",
    "    if n<=18:\n",
    "        print(name,'你是非常有性格的水瓶座')\n",
    "    else:\n",
    "        print(name,'你是非常有性格的双鱼座')\n",
    "elif m==3:\n",
    "    if n>=21:\n",
    "        print(name,'你是非常有性格的白羊座')\n",
    "    else:\n",
    "        print(name,'你是非常有性格的双鱼座')\n",
    "elif m==4:\n",
    "    if n<=19:\n",
    "        print(name,'你是非常有性格的白羊座')\n",
    "    else:\n",
    "        print(name,'你是非常有性格的金牛座')\n",
    "elif m==5:\n",
    "    if n<=21:\n",
    "        print(name,'你是非常有性格的金牛座')\n",
    "    else:\n",
    "        print(name,'你是非常不一样的双子座')\n",
    "elif m==6:\n",
    "    if n<=21:\n",
    "        print(name,'你是非常不一样的双子座')\n",
    "    else:\n",
    "        print(name,'你是非常有性格的巨蟹座')\n",
    "elif m==7:\n",
    "    if n<=22:\n",
    "        print(name,'你是非常有性格的巨蟹座')\n",
    "    else:\n",
    "        print(name,'你是非常有性格的狮子座')\n",
    "elif m==8:\n",
    "    if n<=22:\n",
    "        print(name,'你是非常有性格的狮子座')\n",
    "    else:\n",
    "        print(name,'你是非常有性格的处女座')\n",
    "elif m==9:\n",
    "    if n<=22:\n",
    "        print(name,'你是非常有性格的处女座')\n",
    "    else:\n",
    "        print(name,'你是非常有性格的天秤座')\n",
    "elif m==10:\n",
    "    if n<=23:\n",
    "        print(name,'你是非常有性格的天秤座')\n",
    "    else:\n",
    "        print(name,'你是非常有性格的天蝎座')\n",
    "elif m==11:\n",
    "    if n<=22:\n",
    "        print(name,'你是非常有性格的天蝎座')\n",
    "    else:\n",
    "        print(name,'你是非常有性格的射手座')\n",
    "elif m==12:\n",
    "    if n<=21:\n",
    "        print(name,'你是非常有性格的射手座')\n",
    "    else:\n",
    "        print(name,'你是非常有性格的摩羯座')\n",
    "elif m==1:\n",
    "    if n<=19:\n",
    "        print(name,'你是非常有性格的摩羯座')\n",
    "    else:\n",
    "        print(name,'你是非常有性格的水瓶座')\n",
    "elif m==2:\n",
    "    if n<=18:\n",
    "        print(name,'你是非常有性格的水瓶座')\n",
    "    else:\n",
    "        print(name,'你是非常有性格的双鱼座')"
   ]
  },
  {
   "cell_type": "code",
   "execution_count": null,
   "metadata": {
    "collapsed": true
   },
   "outputs": [],
   "source": [
    "练习 2：写程序，可由键盘读入两个整数m与n(n不等于0)，询问用户意图，如果要求和则计算从m到n的和输出，如果要乘积则计算从m到n的积并输出，如果要求余数则计算m除以n的余数的值并输出，否则则计算m整除n的值并输出。"
   ]
  },
  {
   "cell_type": "code",
   "execution_count": 3,
   "metadata": {
    "collapsed": false
   },
   "outputs": [
    {
     "name": "stdout",
     "output_type": "stream",
     "text": [
      "请输入一个整数，以回车结束。4\n",
      "请输入一个不为0的整数，以回车结束。3\n",
      "请输入您的意图:和，积，余数积\n",
      "12\n"
     ]
    }
   ],
   "source": [
    "m=int(input('请输入一个整数，以回车结束。'))\n",
    "n=int(input('请输入一个不为0的整数，以回车结束。'))\n",
    "purpose=input('请输入您的意图:和，积，余数')\n",
    "total=0\n",
    "multiply=1\n",
    "\n",
    "if purpose=='和':\n",
    "    if m<=n:\n",
    "        while m<=n:\n",
    "            total=total+m\n",
    "            m+=1\n",
    "        print(total)\n",
    "    else:\n",
    "        while m>=n:\n",
    "            total=total+n\n",
    "            n+=1\n",
    "        print(total)\n",
    "        \n",
    "elif purpose=='积':\n",
    "    if m<=n:\n",
    "        while m<=n:\n",
    "            multiply=multiply*m\n",
    "            m+=1\n",
    "        print(multiply)\n",
    "    elif m>=n:\n",
    "        while m>=n:\n",
    "            multiply=multiply*n\n",
    "            n+=1\n",
    "        print(multiply)\n",
    "    else:\n",
    "        print(m*n)\n",
    "        \n",
    "elif purpose=='余数':\n",
    "    print(m%n)\n",
    "else:\n",
    "    print(m//n)"
   ]
  },
  {
   "cell_type": "code",
   "execution_count": null,
   "metadata": {
    "collapsed": true
   },
   "outputs": [],
   "source": [
    "练习 3：写程序，能够根据北京雾霾PM2.5数值给出对应的防护建议。如当PM2.5数值大于500，则应该打开空气净化器，戴防雾霾口罩等。"
   ]
  },
  {
   "cell_type": "code",
   "execution_count": 4,
   "metadata": {
    "collapsed": false
   },
   "outputs": [
    {
     "name": "stdout",
     "output_type": "stream",
     "text": [
      "请输入现在北京雾霾PM2.5数值，以回车结束105\n",
      "有心脏或肺部疾病的人群，尽量减少外出，戴口罩。\n"
     ]
    }
   ],
   "source": [
    "level=int(input('请输入现在北京雾霾PM2.5数值，以回车结束'))\n",
    "\n",
    "if 0<=level<=50:\n",
    "    print('没啥大事，出去玩吧！')\n",
    "elif 51<=level<=100:\n",
    "    print('特别敏感的人群要注意了，戴口罩，少出去。')\n",
    "elif 101<=level<=150:\n",
    "    print('有心脏或肺部疾病的人群，尽量减少外出，戴口罩。')\n",
    "elif 151<=level<=200:\n",
    "    print('减少外出，出门戴口罩，请打开空气净化器！')\n",
    "elif 201<=level<=300:\n",
    "    print('老人和小孩应避免一切户外活动，其他人外出戴口罩，在室内打开空气净化器！')\n",
    "elif level>=301:\n",
    "    print('避免任何户外活动！珍惜健康！')"
   ]
  },
  {
   "cell_type": "code",
   "execution_count": null,
   "metadata": {
    "collapsed": true
   },
   "outputs": [],
   "source": [
    "练习 4：英文单词单数转复数，要求输入一个英文动词（单数形式），能够得到其复数形式，或给出单数转复数形式的建议（提示，some_string.endswith(some_letter)函数可以判断某字符串结尾字符，可尝试运行：'myname'.endswith('me')，'liupengyuan'.endswith('n')`）。"
   ]
  },
  {
   "cell_type": "code",
   "execution_count": 5,
   "metadata": {
    "collapsed": false
   },
   "outputs": [
    {
     "name": "stdout",
     "output_type": "stream",
     "text": [
      "请输入一个英文单词的单数形式，以回车结束。name\n",
      "name\n",
      "您是否想要将单词变成复数形式:要，不要不要\n",
      "name\n"
     ]
    }
   ],
   "source": [
    "word=input('请输入一个英文单词的单数形式，以回车结束。')\n",
    "print(word)\n",
    "ask=input('您是否想要将单词变成复数形式:要，不要')\n",
    "\n",
    "if ask=='要':\n",
    "    print(word.endswith('s'))\n",
    "    \n",
    "elif ask=='不要':\n",
    "    print(word)\n",
    "    \n",
    "else:\n",
    "    print('无法执行此操作')"
   ]
  },
  {
   "cell_type": "code",
   "execution_count": null,
   "metadata": {
    "collapsed": true
   },
   "outputs": [],
   "source": [
    "尝试性练习：写程序，能够在屏幕上显示空行"
   ]
  },
  {
   "cell_type": "code",
   "execution_count": 7,
   "metadata": {
    "collapsed": false
   },
   "outputs": [
    {
     "name": "stdout",
     "output_type": "stream",
     "text": [
      "是否想空行:想，不想不想\n",
      "那就不空了\n"
     ]
    }
   ],
   "source": [
    "ask=input('是否想空行:想，不想')\n",
    "\n",
    "if ask=='想':\n",
    "    print('  ')\n",
    "    print('以上为空行。')\n",
    "elif ask=='不想':\n",
    "    print('那就不空了')\n",
    "else:\n",
    "    print('无法执行此操作')"
   ]
  },
  {
   "cell_type": "code",
   "execution_count": null,
   "metadata": {
    "collapsed": true
   },
   "outputs": [],
   "source": [
    "挑战性练习：写程序，由用户输入一些整数，能够得到几个整数中的次大值(第二大的值)并输出。"
   ]
  },
  {
   "cell_type": "code",
   "execution_count": 8,
   "metadata": {
    "collapsed": false
   },
   "outputs": [
    {
     "name": "stdout",
     "output_type": "stream",
     "text": [
      "请输入你想输入的整数个数，回车结束4\n",
      "请输入一个整数，回车结束2\n",
      "请输入一个整数，回车结束4\n",
      "请输入一个整数，回车结束5\n",
      "请输入一个整数，回车结束3\n",
      "4\n"
     ]
    }
   ],
   "source": [
    "m=int(input('请输入你想输入的整数个数，回车结束'))\n",
    "p=int(input('请输入一个整数，回车结束'))\n",
    "q=int(input('请输入一个整数，回车结束'))\n",
    "\n",
    "if p>q:\n",
    "    max1= p\n",
    "    max2=q\n",
    "else:\n",
    "    max1=q\n",
    "    max2=p\n",
    "    \n",
    "i=2\n",
    "while i<m:\n",
    "    i+=1\n",
    "    n=int(input('请输入一个整数，回车结束'))\n",
    "    if n>max1:\n",
    "        max2=max1\n",
    "        max1=n\n",
    "    elif max2<=n<=max1:\n",
    "        max2=n\n",
    "    else:\n",
    "        max2=max2\n",
    "print(max2)"
   ]
  }
 ],
 "metadata": {
  "kernelspec": {
   "display_name": "Python 3",
   "language": "python",
   "name": "python3"
  },
  "language_info": {
   "codemirror_mode": {
    "name": "ipython",
    "version": 3
   },
   "file_extension": ".py",
   "mimetype": "text/x-python",
   "name": "python",
   "nbconvert_exporter": "python",
   "pygments_lexer": "ipython3",
   "version": "3.6.0"
  }
 },
 "nbformat": 4,
 "nbformat_minor": 2
}
