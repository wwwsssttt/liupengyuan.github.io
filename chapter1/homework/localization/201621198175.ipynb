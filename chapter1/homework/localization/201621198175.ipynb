{
 "cells": [
  {
   "cell_type": "markdown",
   "metadata": {},
   "source": [
    "练习 1：仿照求 ∑mi=1i+∑ni=1i+∑ki=1i∑i=1mi+∑i=1ni+∑i=1ki 的完整代码，写程序，可求m!+n!+k!"
   ]
  },
  {
   "cell_type": "code",
   "execution_count": 1,
   "metadata": {
    "collapsed": false
   },
   "outputs": [
    {
     "name": "stdout",
     "output_type": "stream",
     "text": [
      "请输入第1个整数，以回车结束:3\n",
      "请输入第2个整数，以回车结束:4\n",
      "请输入第3个整数，以回车结束:5\n",
      "最终的和是： 150\n"
     ]
    }
   ],
   "source": [
    "def product_sum(end):\n",
    "    i = 1\n",
    "    total_n = 1\n",
    "    \n",
    "    while i < end:\n",
    "        i += 1\n",
    "        total_n *= i\n",
    "    return total_n\n",
    "\n",
    "m = int(input(\"请输入第1个整数，以回车结束:\"))\n",
    "n = int(input(\"请输入第2个整数，以回车结束:\"))\n",
    "k = int(input(\"请输入第3个整数，以回车结束:\"))\n",
    "\n",
    "print(\"最终的和是：\",product_sum(m)+product_sum(n)+product_sum(k))"
   ]
  },
  {
   "cell_type": "markdown",
   "metadata": {},
   "source": [
    "练习 2：写函数可返回1-1/3+1/5-1/7...的前n项的和。在主程序中，分别令n=1000及100000，打印4倍该函数的和。"
   ]
  },
  {
   "cell_type": "code",
   "execution_count": 1,
   "metadata": {
    "collapsed": false
   },
   "outputs": [
    {
     "name": "stdout",
     "output_type": "stream",
     "text": [
      "-2.00100050025016\n",
      "-2.0000100000531345\n"
     ]
    }
   ],
   "source": [
    "def sum(n):\n",
    "        i = 1\n",
    "        total_n = 0\n",
    "        while i <= n:\n",
    "            total_n += (-1)**(n-1)*(1.0/(2*n-1))\n",
    "            i += 1\n",
    "        return total_n\n",
    "\n",
    "print(4*sum(1000))\n",
    "print(4*sum(100000))\n"
   ]
  },
  {
   "cell_type": "markdown",
   "metadata": {},
   "source": [
    "练习 3：将task3中的练习1及练习4改写为函数，并进行调用。"
   ]
  },
  {
   "cell_type": "code",
   "execution_count": 1,
   "metadata": {
    "collapsed": false
   },
   "outputs": [
    {
     "name": "stdout",
     "output_type": "stream",
     "text": [
      "please enter your name:mg\n",
      "please enter your date of birth:10.25\n",
      "<class 'float'>\n",
      "mg ，你是非常有性格的天蝎座！\n"
     ]
    }
   ],
   "source": [
    "#练习1\n",
    "def star():\n",
    "    name = input(\"please enter your name:\")\n",
    "    date = input(\"please enter your date of birth:\")\n",
    "    date=float(date)\n",
    "    if 3.21 <= date <= 4.19:\n",
    "        print(name,\"，你是非常有性格的白羊座！\")\n",
    "    elif 4.20 <= date <= 5.20:\n",
    "        print(name,\"，你是非常有性格的金牛座！\")\n",
    "    elif 5.21 <= date <= 6.21:\n",
    "        print(name,\"，你是非常有性格的双子座！\")\n",
    "    elif 6.22 <= date <= 7.22:\n",
    "        print(name,\"，你是非常有性格的巨蟹座！\")\n",
    "    elif 7.23 <= date <= 8.22:\n",
    "        print(name,\"，你是非常有性格的狮子座！\")\n",
    "    elif 8.23 <= date <= 9.22:\n",
    "        print(name,\"，你是非常有性格的处女座！\")\n",
    "    elif 9.23 <= date <= 10.23:\n",
    "        print(name,\"，你是非常有性格的天秤座！\")\n",
    "    elif 10.24 <= date <= 11.22:\n",
    "        print(name,\"，你是非常有性格的天蝎座！\")\n",
    "    elif 11.23 <= date <= 12.21:\n",
    "        print(name,\"，你是非常有性格的射手座！\")\n",
    "    elif 1.20 <= date <= 2.18:\n",
    "        print(name,\"，你是非常有性格的水瓶座！\")\n",
    "    elif 2.19 <= date <= 3.20:\n",
    "        print(name,\"，你是非常有性格的双鱼座！\")\n",
    "    else:\n",
    "        print(name,\"，你是非常有性格的摩羯座！\")\n",
    "star()\n",
    "    \n"
   ]
  },
  {
   "cell_type": "code",
   "execution_count": 1,
   "metadata": {
    "collapsed": false
   },
   "outputs": [
    {
     "name": "stdout",
     "output_type": "stream",
     "text": [
      "please enter a word:put\n",
      "puts\n"
     ]
    }
   ],
   "source": [
    "#练习4\n",
    "def conversion():\n",
    "    word = input(\"please enter a word:\")\n",
    "    if word.endswith(\"x\"):\n",
    "        print(word,\"es\",sep = \"\")\n",
    "    elif word.endswith(\"sh\"):\n",
    "        print(word,\"es\",sep = \"\")\n",
    "    else:\n",
    "        print(word,\"s\",sep = \"\")\n",
    "    \n",
    "conversion()"
   ]
  },
  {
   "cell_type": "markdown",
   "metadata": {},
   "source": [
    "挑战性练习：写程序，可以求从整数m到整数n累加的和，间隔为k，求和部分需用函数实现，主程序中由用户输入m，n，k调用函数验证正确性。"
   ]
  },
  {
   "cell_type": "code",
   "execution_count": 1,
   "metadata": {
    "collapsed": false
   },
   "outputs": [
    {
     "name": "stdout",
     "output_type": "stream",
     "text": [
      "please enter an integer:2\n",
      "please enter a biger integer:11\n",
      "please enter interval between two numbers:3\n",
      "最终的和是： 26\n"
     ]
    }
   ],
   "source": [
    "def sum():\n",
    "    i = m\n",
    "    total = 0\n",
    "    while i <= n:\n",
    "        total += i\n",
    "        i += k\n",
    "        \n",
    "    return total\n",
    "    \n",
    "m = int(input(\"please enter an integer:\"))\n",
    "n = int(input(\"please enter a biger integer:\"))\n",
    "k = int(input(\"please enter interval between two numbers:\"))\n",
    "    \n",
    "print(\"最终的和是：\",sum())\n",
    "    "
   ]
  },
  {
   "cell_type": "code",
   "execution_count": null,
   "metadata": {
    "collapsed": true
   },
   "outputs": [],
   "source": []
  },
  {
   "cell_type": "code",
   "execution_count": null,
   "metadata": {
    "collapsed": true
   },
   "outputs": [],
   "source": []
  },
  {
   "cell_type": "code",
   "execution_count": null,
   "metadata": {
    "collapsed": true
   },
   "outputs": [],
   "source": []
  },
  {
   "cell_type": "code",
   "execution_count": null,
   "metadata": {
    "collapsed": true
   },
   "outputs": [],
   "source": []
  },
  {
   "cell_type": "code",
   "execution_count": null,
   "metadata": {
    "collapsed": true
   },
   "outputs": [],
   "source": []
  }
 ],
 "metadata": {
  "kernelspec": {
   "display_name": "Python 3",
   "language": "python",
   "name": "python3"
  },
  "language_info": {
   "codemirror_mode": {
    "name": "ipython",
    "version": 3
   },
   "file_extension": ".py",
   "mimetype": "text/x-python",
   "name": "python",
   "nbconvert_exporter": "python",
   "pygments_lexer": "ipython3",
   "version": "3.6.0"
  }
 },
 "nbformat": 4,
 "nbformat_minor": 2
}
