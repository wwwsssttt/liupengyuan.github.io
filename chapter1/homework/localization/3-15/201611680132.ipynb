{
 "cells": [
  {
   "cell_type": "code",
   "execution_count": 1,
   "metadata": {
    "collapsed": false,
    "deletable": true,
    "editable": true
   },
   "outputs": [
    {
     "name": "stdout",
     "output_type": "stream",
     "text": [
      "请输入一个整数，以回车结束5\n",
      "120\n"
     ]
    }
   ],
   "source": [
    "n = int(input('请输入一个整数，以回车结束'))\n",
    "\n",
    "i = 1\n",
    "total = 1\n",
    "\n",
    "while i < n:\n",
    "    i = i + 1\n",
    "    total = total * i\n",
    "\n",
    "print(total)\n"
   ]
  },
  {
   "cell_type": "code",
   "execution_count": 1,
   "metadata": {
    "collapsed": false,
    "deletable": true,
    "editable": true
   },
   "outputs": [
    {
     "name": "stdout",
     "output_type": "stream",
     "text": [
      "请输入你的名字，以回车结束Lorita\n",
      "你好 Lorita\n",
      "请输入你要输入的整数个数，以回车结束3\n",
      "请输入一个整数，以回车结束5\n",
      "请输入一个整数，以回车结束8\n",
      "请输入一个整数，以回车结束9\n",
      "你输入的所有整数和为 22\n",
      "再见！ Lorita\n"
     ]
    }
   ],
   "source": [
    "name = input('请输入你的名字，以回车结束')\n",
    "print('你好!', name)\n",
    "\n",
    "total = 0\n",
    "m = int(input('请输入你要输入的整数个数，以回车结束'))\n",
    "i = 0\n",
    "while m > i:\n",
    "    i += 1\n",
    "    n = int(input('请输入一个整数，以回车结束'))\n",
    "    total += n\n",
    "    \n",
    "print('你输入的所有整数和为', total)\n",
    "print('再见！', name)"
   ]
  },
  {
   "cell_type": "code",
   "execution_count": 1,
   "metadata": {
    "collapsed": false,
    "deletable": true,
    "editable": true
   },
   "outputs": [
    {
     "name": "stdout",
     "output_type": "stream",
     "text": [
      "请输入你的名字，以回车结束L\n",
      "你好！ L\n",
      "如果你想输入数字，请输入1,否则请输入2。1\n",
      "请输入你想输入的数字，以回车结束5\n",
      "如果你想输入数字，请输入1,否则请输入2。1\n",
      "请输入你想输入的数字，以回车结束16\n",
      "如果你想输入数字，请输入1,否则请输入2。2\n",
      "再见！ L\n"
     ]
    }
   ],
   "source": [
    "name = input('请输入你的名字，以回车结束')\n",
    "print('你好！', name)\n",
    "\n",
    "start = int(input('如果你想输入数字，请输入1,否则请输入2。'))\n",
    "m = 2\n",
    "while m > start:\n",
    "    n = int(input('请输入你想输入的数字，以回车结束'))\n",
    "    start = int(input('如果你想输入数字，请输入1,否则请输入2。'))\n",
    "    \n",
    "print('再见！', name)\n",
    "\n",
    "\n",
    "\n"
   ]
  },
  {
   "cell_type": "code",
   "execution_count": 4,
   "metadata": {
    "collapsed": false
   },
   "outputs": [
    {
     "name": "stdout",
     "output_type": "stream",
     "text": [
      "请输入你的名字，以回车结束L\n",
      "你好！ L\n",
      "如果你想输入数字，请输入1,否则请输入2,以回车结束1\n",
      "请输入你想输入的数字，以回车结束5\n",
      "请输入你想输入的数字，以回车结束2\n",
      "请输入你想输入的数字，以回车结束-6\n",
      "再见 L\n"
     ]
    }
   ],
   "source": [
    "name = input('请输入你的名字，以回车结束')\n",
    "print('你好！', name)\n",
    "\n",
    "total = 0\n",
    "m = 1\n",
    "\n",
    "start = int(input('如果你想输入数字，请输入1,否则请输入2,以回车结束'))\n",
    "m = 2\n",
    "while m > start:\n",
    "    n = int(input('请输入你想输入的数字，以回车结束'))\n",
    "    total += n\n",
    "    m *= n\n",
    "    while total < n and m < n**2:\n",
    "        print('end')\n",
    "        \n",
    "print('再见', name)\n",
    "    "
   ]
  }
 ],
 "metadata": {
  "kernelspec": {
   "display_name": "Python 3",
   "language": "python",
   "name": "python3"
  },
  "language_info": {
   "codemirror_mode": {
    "name": "ipython",
    "version": 3
   },
   "file_extension": ".py",
   "mimetype": "text/x-python",
   "name": "python",
   "nbconvert_exporter": "python",
   "pygments_lexer": "ipython3",
   "version": "3.6.0"
  }
 },
 "nbformat": 4,
 "nbformat_minor": 2
}
