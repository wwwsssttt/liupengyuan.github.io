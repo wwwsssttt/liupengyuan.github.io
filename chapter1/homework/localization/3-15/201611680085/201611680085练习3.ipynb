{
 "cells": [
  {
   "cell_type": "code",
   "execution_count": 5,
   "metadata": {
    "collapsed": false
   },
   "outputs": [
    {
     "name": "stdout",
     "output_type": "stream",
     "text": [
      "你是否想输入一个整数，是请输入1，否请输入2，按回车键以结束1\n",
      "请输入一个整数，按回车键以结束2\n",
      "你是否想输入一个整数，是请输入1，否请输入2，按回车键以结束1\n",
      "请输入一个整数，按回车键以结束2\n",
      "你是否想输入一个整数，是请输入1，否请输入2，按回车键以结束2\n",
      "2\n"
     ]
    }
   ],
   "source": [
    "m=int(input('你是否想输入一个整数，是请输入1，否请输入2，按回车键以结束'))\n",
    "while m==1:\n",
    "    n=int(input('请输入一个整数，按回车键以结束'))\n",
    "    m=int(input('你是否想输入一个整数，是请输入1，否请输入2，按回车键以结束'))\n",
    "print(n)"
   ]
  },
  {
   "cell_type": "code",
   "execution_count": null,
   "metadata": {
    "collapsed": true
   },
   "outputs": [],
   "source": []
  }
 ],
 "metadata": {
  "kernelspec": {
   "display_name": "Python 3",
   "language": "python",
   "name": "python3"
  },
  "language_info": {
   "codemirror_mode": {
    "name": "ipython",
    "version": 3
   },
   "file_extension": ".py",
   "mimetype": "text/x-python",
   "name": "python",
   "nbconvert_exporter": "python",
   "pygments_lexer": "ipython3",
   "version": "3.6.0"
  }
 },
 "nbformat": 4,
 "nbformat_minor": 2
}
