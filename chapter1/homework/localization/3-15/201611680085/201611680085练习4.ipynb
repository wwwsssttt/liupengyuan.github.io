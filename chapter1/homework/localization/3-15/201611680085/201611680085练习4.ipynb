{
 "cells": [
  {
   "cell_type": "code",
   "execution_count": 7,
   "metadata": {
    "collapsed": false
   },
   "outputs": [
    {
     "name": "stdout",
     "output_type": "stream",
     "text": [
      "请输入一个整数，以回车键结束2\n",
      "请输入一个整数，以回车键结束4\n",
      "2\n",
      "0\n",
      "no more numbers!\n"
     ]
    }
   ],
   "source": [
    "m=int(input('请输入一个整数，以回车键结束'))\n",
    "product=m\n",
    "total=m\n",
    "n2=0\n",
    "while total>n2 or product>n2**2:\n",
    "    total+=n2\n",
    "    product*=n2\n",
    "    n2=int(input('请输入一个整数，以回车键结束'))\n",
    "    \n",
    "print(total)\n",
    "print(product)\n",
    "print('no more numbers!')"
   ]
  },
  {
   "cell_type": "code",
   "execution_count": null,
   "metadata": {
    "collapsed": true
   },
   "outputs": [],
   "source": []
  }
 ],
 "metadata": {
  "kernelspec": {
   "display_name": "Python 3",
   "language": "python",
   "name": "python3"
  },
  "language_info": {
   "codemirror_mode": {
    "name": "ipython",
    "version": 3
   },
   "file_extension": ".py",
   "mimetype": "text/x-python",
   "name": "python",
   "nbconvert_exporter": "python",
   "pygments_lexer": "ipython3",
   "version": "3.6.0"
  }
 },
 "nbformat": 4,
 "nbformat_minor": 2
}
