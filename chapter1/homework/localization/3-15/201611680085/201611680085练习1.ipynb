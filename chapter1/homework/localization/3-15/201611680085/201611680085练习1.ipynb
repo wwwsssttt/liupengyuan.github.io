{
 "cells": [
  {
   "cell_type": "code",
   "execution_count": 3,
   "metadata": {
    "collapsed": false
   },
   "outputs": [
    {
     "name": "stdout",
     "output_type": "stream",
     "text": [
      "请输入数字，按回车键以结束80\n",
      "71569457046263802294811533723186532165584657342365752577109445058227039255480148842668944867280814080000000000000000000\n"
     ]
    }
   ],
   "source": [
    "n=int(input('请输入数字，按回车键以结束'))\n",
    "\n",
    "i=0\n",
    "total=1\n",
    "\n",
    "while n>i:\n",
    "    i=i+1\n",
    "    total=total*i\n",
    "print(total)"
   ]
  },
  {
   "cell_type": "code",
   "execution_count": 6,
   "metadata": {
    "collapsed": false
   },
   "outputs": [
    {
     "name": "stdout",
     "output_type": "stream",
     "text": [
      "请输入你的姓名，以回车结束。李响\n",
      "你好 李响\n"
     ]
    }
   ],
   "source": [
    "name=input('请输入你的姓名，以回车结束。')\n",
    "print('你好',name)"
   ]
  },
  {
   "cell_type": "code",
   "execution_count": 9,
   "metadata": {
    "collapsed": false
   },
   "outputs": [
    {
     "name": "stdout",
     "output_type": "stream",
     "text": [
      "请输入一个正整数，以回车键结束5\n",
      "请输入一个正整数，以回车键结束7\n",
      "两个数之和是 12\n"
     ]
    }
   ],
   "source": [
    "n=int(input('请输入一个正整数，以回车键结束'))\n",
    "m=int(input('请输入一个正整数，以回车键结束'))\n",
    "\n",
    "print('两个数之和是', m+n)"
   ]
  },
  {
   "cell_type": "code",
   "execution_count": 16,
   "metadata": {
    "collapsed": false
   },
   "outputs": [
    {
     "name": "stdout",
     "output_type": "stream",
     "text": [
      "请输入你的名字，以回车键结束李响\n",
      "再见 李响\n"
     ]
    }
   ],
   "source": [
    "name=input('请输入你的名字，以回车键结束')\n",
    "print('再见',name)"
   ]
  },
  {
   "cell_type": "code",
   "execution_count": null,
   "metadata": {
    "collapsed": true
   },
   "outputs": [],
   "source": []
  }
 ],
 "metadata": {
  "kernelspec": {
   "display_name": "Python 3",
   "language": "python",
   "name": "python3"
  },
  "language_info": {
   "codemirror_mode": {
    "name": "ipython",
    "version": 3
   },
   "file_extension": ".py",
   "mimetype": "text/x-python",
   "name": "python",
   "nbconvert_exporter": "python",
   "pygments_lexer": "ipython3",
   "version": "3.6.0"
  }
 },
 "nbformat": 4,
 "nbformat_minor": 2
}
