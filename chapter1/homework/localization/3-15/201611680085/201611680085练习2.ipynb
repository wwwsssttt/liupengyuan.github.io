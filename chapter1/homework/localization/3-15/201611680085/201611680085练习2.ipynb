{
 "cells": [
  {
   "cell_type": "code",
   "execution_count": 1,
   "metadata": {
    "collapsed": false
   },
   "outputs": [
    {
     "name": "stdout",
     "output_type": "stream",
     "text": [
      "请输入你想求和的正整数的个数，以回车键结束3\n",
      "请输入一个正整数，以回车键结束1\n",
      "请输入一个正整数，以回车键结束2\n",
      "请输入一个正整数，以回车键结束3\n",
      "6\n"
     ]
    }
   ],
   "source": [
    "n=int(input('请输入你想求和的正整数的个数，以回车键结束'))\n",
    "i=0\n",
    "total=0\n",
    "while i<n:\n",
    "    m=int(input('请输入一个正整数，以回车键结束'))\n",
    "    i=i+1\n",
    "    total=total+m\n",
    "print(total)"
   ]
  },
  {
   "cell_type": "code",
   "execution_count": null,
   "metadata": {
    "collapsed": true
   },
   "outputs": [],
   "source": []
  }
 ],
 "metadata": {
  "kernelspec": {
   "display_name": "Python 3",
   "language": "python",
   "name": "python3"
  },
  "language_info": {
   "codemirror_mode": {
    "name": "ipython",
    "version": 3
   },
   "file_extension": ".py",
   "mimetype": "text/x-python",
   "name": "python",
   "nbconvert_exporter": "python",
   "pygments_lexer": "ipython3",
   "version": "3.6.0"
  }
 },
 "nbformat": 4,
 "nbformat_minor": 2
}
