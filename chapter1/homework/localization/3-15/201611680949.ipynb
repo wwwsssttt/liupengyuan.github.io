{
 "cells": [
  {
   "cell_type": "code",
   "execution_count": 4,
   "metadata": {
    "collapsed": false,
    "deletable": true,
    "editable": true
   },
   "outputs": [
    {
     "name": "stdout",
     "output_type": "stream",
     "text": [
      "自定义整数个数：5\n",
      "请输入整数：3\n",
      "请输入整数：6\n",
      "请输入整数：4\n",
      "请输入整数：8\n",
      "请输入整数：9\n",
      "整数之和： 30\n"
     ]
    }
   ],
   "source": [
    "#练习2\n",
    "\n",
    "n=int(input('自定义整数个数：'))\n",
    "i=0\n",
    "total=0\n",
    "\n",
    "while i<n:\n",
    "    i=i+1\n",
    "    num=int(input('请输入整数：'))\n",
    "    total=total+num\n",
    "print('整数之和：',total)"
   ]
  },
  {
   "cell_type": "code",
   "execution_count": 1,
   "metadata": {
    "collapsed": false,
    "deletable": true,
    "editable": true
   },
   "outputs": [
    {
     "name": "stdout",
     "output_type": "stream",
     "text": [
      "请输入整数，输入00结束输入:12\n",
      "请输入整数,输入00结束输入：23\n",
      "请输入整数,输入00结束输入：34\n",
      "请输入整数,输入00结束输入：00\n"
     ]
    }
   ],
   "source": [
    "#练习3\n",
    "\n",
    "i=int(input('请输入整数，输入00结束输入:'))\n",
    "\n",
    "while i!=0:\n",
    "    i=int(input('请输入整数,输入00结束输入：'))"
   ]
  },
  {
   "cell_type": "code",
   "execution_count": 2,
   "metadata": {
    "collapsed": false,
    "deletable": true,
    "editable": true
   },
   "outputs": [
    {
     "name": "stdout",
     "output_type": "stream",
     "text": [
      "请输入整数：1\n",
      "请继续输入整数：23\n",
      "请继续输入整数：45\n",
      "请继续输入整数：90\n",
      "请继续输入整数：-23\n"
     ]
    }
   ],
   "source": [
    "#练习4\n",
    "\n",
    "i=int(input('请输入整数：'))\n",
    "total=0\n",
    "product=1\n",
    "total=total+i\n",
    "product=product*i\n",
    "n=i**2\n",
    "\n",
    "while (total>=i) and (product>=n):\n",
    "    i=int(input('请继续输入整数：'))\n",
    "    total=total+i\n",
    "    product=product*i"
   ]
  }
 ],
 "metadata": {
  "kernelspec": {
   "display_name": "Python 3",
   "language": "python",
   "name": "python3"
  },
  "language_info": {
   "codemirror_mode": {
    "name": "ipython",
    "version": 3
   },
   "file_extension": ".py",
   "mimetype": "text/x-python",
   "name": "python",
   "nbconvert_exporter": "python",
   "pygments_lexer": "ipython3",
   "version": "3.6.0"
  }
 },
 "nbformat": 4,
 "nbformat_minor": 2
}
