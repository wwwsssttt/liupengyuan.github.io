{
 "cells": [
  {
   "cell_type": "code",
   "execution_count": 1,
   "metadata": {
    "collapsed": false
   },
   "outputs": [
    {
     "name": "stdout",
     "output_type": "stream",
     "text": [
      "请输入一个整数：5\n",
      "输入一个整数：3\n",
      "输入一个整数：8\n",
      "输入一个整数：6\n",
      "输入一个整数：1\n",
      "输入一个整数：9\n",
      "和为： 27\n"
     ]
    }
   ],
   "source": [
    "n=int(input('请输入一个整数：'))\n",
    "sum=0\n",
    "i=0\n",
    "while i<n:\n",
    "    m=int(input('输入一个整数：'))\n",
    "    sum=sum+m\n",
    "    i=i+1\n",
    "print('和为：',sum)"
   ]
  },
  {
   "cell_type": "code",
   "execution_count": 2,
   "metadata": {
    "collapsed": false
   },
   "outputs": [
    {
     "name": "stdout",
     "output_type": "stream",
     "text": [
      "请输入一个整数：6\n",
      "请输入一个整数，如若不想再输入了则输入0：7\n",
      "请输入一个整数，如若不想再输入了则输入0：8\n",
      "请输入一个整数，如若不想再输入了则输入0：9\n",
      "请输入一个整数，如若不想再输入了则输入0：0\n",
      "和为： 30\n"
     ]
    }
   ],
   "source": [
    "m=int(input('请输入一个整数：'))\n",
    "sum=0\n",
    "while m:\n",
    "    sum=sum+m\n",
    "    m=int(input('请输入一个整数，如若不想再输入了则输入0：'))\n",
    "print('和为：',sum)"
   ]
  },
  {
   "cell_type": "code",
   "execution_count": 3,
   "metadata": {
    "collapsed": false
   },
   "outputs": [
    {
     "name": "stdout",
     "output_type": "stream",
     "text": [
      "输入一个整数:4\n",
      "输入一个整数6\n",
      "输入一个整数23\n",
      "和为： 14\n",
      "积为： 96\n"
     ]
    }
   ],
   "source": [
    "m=int(input('输入一个整数:'))\n",
    "total=m\n",
    "sum=m\n",
    "while (sum>=m or total>=m*m):\n",
    "    sum=sum+m\n",
    "    total=total*m\n",
    "    m=int(input('输入一个整数'))\n",
    "print('和为：',sum)\n",
    "print('积为：',total)"
   ]
  },
  {
   "cell_type": "code",
   "execution_count": null,
   "metadata": {
    "collapsed": true
   },
   "outputs": [],
   "source": []
  }
 ],
 "metadata": {
  "kernelspec": {
   "display_name": "Python 3",
   "language": "python",
   "name": "python3"
  },
  "language_info": {
   "codemirror_mode": {
    "name": "ipython",
    "version": 3
   },
   "file_extension": ".py",
   "mimetype": "text/x-python",
   "name": "python",
   "nbconvert_exporter": "python",
   "pygments_lexer": "ipython3",
   "version": "3.6.0"
  }
 },
 "nbformat": 4,
 "nbformat_minor": 2
}
