{
 "cells": [
  {
   "cell_type": "code",
   "execution_count": null,
   "metadata": {
    "collapsed": true
   },
   "outputs": [],
   "source": [
    "#仿照实践1，写出由用户指定整数个数，并由用户输入多个整数，并求和的代码。"
   ]
  },
  {
   "cell_type": "code",
   "execution_count": 1,
   "metadata": {
    "collapsed": false
   },
   "outputs": [
    {
     "name": "stdout",
     "output_type": "stream",
     "text": [
      "请输入你的姓名，以回车结束。罗力铭\n",
      "你好 罗力铭\n",
      "请输入想要求和的整数个数，以回车键结束。5\n",
      "请输入一个正整数，以回车结束。42\n",
      "请输入一个正整数，以回车结束。2\n",
      "请输入一个正整数，以回车结束。1\n",
      "请输入一个正整数，以回车结束。3\n",
      "请输入一个正整数，以回车结束。3\n",
      "这些数的和是： 51\n",
      "再见！ 罗力铭\n"
     ]
    }
   ],
   "source": [
    "name = input('请输入你的姓名，以回车结束。')\n",
    "print('你好', name)\n",
    "n = int(input('请输入想要求和的整数个数，以回车键结束。'))\n",
    "total = 0\n",
    "i = 0\n",
    "while i < n:\n",
    "    i=i+1\n",
    "    m = int(input('请输入一个正整数，以回车结束。'))\n",
    "    total = total + m\n",
    "print('这些数的和是：', total)\n",
    "print('再见！', name)"
   ]
  },
  {
   "cell_type": "code",
   "execution_count": null,
   "metadata": {
    "collapsed": true
   },
   "outputs": [],
   "source": []
  },
  {
   "cell_type": "code",
   "execution_count": null,
   "metadata": {
    "collapsed": true
   },
   "outputs": [],
   "source": [
    "#用户可以输入的任意多个数字，直到用户不想输入为止。"
   ]
  },
  {
   "cell_type": "code",
   "execution_count": 34,
   "metadata": {
    "collapsed": false
   },
   "outputs": [
    {
     "name": "stdout",
     "output_type": "stream",
     "text": [
      "请输入你的姓名，以回车结束。罗力铭\n",
      "你好 罗力铭\n",
      "请输入一个数字，以回车结束。5\n",
      "是否想继续输入数字？Y/NY\n",
      "请输入一个数字，以回车结束。4\n",
      "是否想继续输入数字？Y/NN\n",
      "再见！ 罗力铭\n"
     ]
    }
   ],
   "source": [
    "name = input('请输入你的姓名，以回车结束。')\n",
    "print('你好', name)\n",
    "m = int(input('请输入一个数字，以回车结束。'))\n",
    "n = input('是否想继续输入数字？Y/N')\n",
    "while n == 'Y':\n",
    "    m = input('请输入一个数字，以回车结束。')\n",
    "    n = input('是否想继续输入数字？Y/N')\n",
    "\n",
    "    break\n",
    "print('再见！', name)"
   ]
  },
  {
   "cell_type": "code",
   "execution_count": null,
   "metadata": {
    "collapsed": false
   },
   "outputs": [],
   "source": []
  },
  {
   "cell_type": "code",
   "execution_count": 21,
   "metadata": {
    "collapsed": true
   },
   "outputs": [],
   "source": [
    "#用户可以输入的任意多个数字，直到输入所有数字的和比当前输入数字小，且输入所有数字的积比当前输入数字的平方小。"
   ]
  },
  {
   "cell_type": "code",
   "execution_count": 35,
   "metadata": {
    "collapsed": false
   },
   "outputs": [
    {
     "name": "stdout",
     "output_type": "stream",
     "text": [
      "请输入你的姓名，以回车结束。罗力铭\n",
      "你好 罗力铭\n",
      "请输入一个整数，以回车结束。4\n",
      "请输入一个整数，以回车结束。-8\n",
      "请输入一个整数，以回车结束。6\n",
      "再见！ 罗力铭\n"
     ]
    }
   ],
   "source": [
    "name = input('请输入你的姓名，以回车结束。')\n",
    "print('你好', name)\n",
    "total = 0\n",
    "product = 1\n",
    "while True:  \n",
    "    m = int(input('请输入一个整数，以回车结束。'))\n",
    "    total = total + m\n",
    "    product = product*m\n",
    "   \n",
    "    if total<m and product < m*m:\n",
    "            break\n",
    "\n",
    "print('再见！', name)"
   ]
  },
  {
   "cell_type": "markdown",
   "metadata": {},
   "source": []
  }
 ],
 "metadata": {
  "kernelspec": {
   "display_name": "Python 3",
   "language": "python",
   "name": "python3"
  },
  "language_info": {
   "codemirror_mode": {
    "name": "ipython",
    "version": 3
   },
   "file_extension": ".py",
   "mimetype": "text/x-python",
   "name": "python",
   "nbconvert_exporter": "python",
   "pygments_lexer": "ipython3",
   "version": "3.6.0"
  }
 },
 "nbformat": 4,
 "nbformat_minor": 2
}
