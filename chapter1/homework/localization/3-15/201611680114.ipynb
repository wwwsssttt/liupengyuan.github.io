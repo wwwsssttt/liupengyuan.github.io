{
 "cells": [
  {
   "cell_type": "markdown",
   "metadata": {
    "deletable": true,
    "editable": true
   },
   "source": [
    "# 练习作业2"
   ]
  },
  {
   "cell_type": "markdown",
   "metadata": {
    "deletable": true,
    "editable": true
   },
   "source": [
    "### 练习1"
   ]
  },
  {
   "cell_type": "code",
   "execution_count": 4,
   "metadata": {
    "collapsed": false,
    "deletable": true,
    "editable": true
   },
   "outputs": [
    {
     "name": "stdout",
     "output_type": "stream",
     "text": [
      "100\n",
      "5050\n"
     ]
    }
   ],
   "source": [
    "n=int(input())\n",
    "i=0\n",
    "total=0\n",
    "while i<n:\n",
    "    i=i+1\n",
    "    total=total+i\n",
    "print(total)"
   ]
  },
  {
   "cell_type": "markdown",
   "metadata": {
    "deletable": true,
    "editable": true
   },
   "source": [
    "### 练习2"
   ]
  },
  {
   "cell_type": "code",
   "execution_count": 6,
   "metadata": {
    "collapsed": false,
    "deletable": true,
    "editable": true
   },
   "outputs": [
    {
     "name": "stdout",
     "output_type": "stream",
     "text": [
      "100\n",
      "hello 100\n",
      "2\n",
      "122\n",
      "122\n",
      "244\n"
     ]
    }
   ],
   "source": [
    "name=input()\n",
    "print(\"hello\", name\"what is your name?\")\n",
    "n=0\n",
    "total=0\n",
    "number=int(input(\"输入你想输的数字个数\"))\n",
    "while n<number:\n",
    "    i=int(input())\n",
    "    n=n+1\n",
    "    total=total+i\n",
    "print(total)\n",
    "    \n",
    "    "
   ]
  },
  {
   "cell_type": "markdown",
   "metadata": {
    "deletable": true,
    "editable": true
   },
   "source": [
    "### 练习3"
   ]
  },
  {
   "cell_type": "code",
   "execution_count": 5,
   "metadata": {
    "collapsed": false,
    "deletable": true,
    "editable": true
   },
   "outputs": [
    {
     "name": "stdout",
     "output_type": "stream",
     "text": [
      "input a number11\n",
      "are you going to continue? yes/no?no\n",
      "thank you\n"
     ]
    }
   ],
   "source": [
    "n=int(input(\"input a number\"))\n",
    "m=input(\"are you going to continue? yes/no?\")\n",
    "\n",
    "while m==\"yes\":\n",
    "    n=int(input(\"input a number\"))\n",
    "    m=input(\"are you going to continue? yes/no?\")\n",
    "print(\"thank you\")    \n",
    "\n",
    "\n",
    "\n",
    "\n",
    "    \n",
    "\n",
    "\n",
    "\n"
   ]
  },
  {
   "cell_type": "markdown",
   "metadata": {},
   "source": [
    "### 练习4"
   ]
  },
  {
   "cell_type": "code",
   "execution_count": 28,
   "metadata": {
    "collapsed": false,
    "deletable": true,
    "editable": true
   },
   "outputs": [
    {
     "name": "stdout",
     "output_type": "stream",
     "text": [
      "input a number1\n",
      "input a number2\n",
      "input an another number33333\n",
      "thank you\n"
     ]
    }
   ],
   "source": [
    "pro=1\n",
    "total=0\n",
    "\n",
    "n=int(input(\"input a number\"))\n",
    "total=n\n",
    "pro=pro*n\n",
    "\n",
    "m=int(input(\"input a number\"))\n",
    "total=n+m\n",
    "pro=n*m\n",
    "\n",
    "n=int(input(\"input an another number\"))\n",
    "while total>=n or pro>=n**2:\n",
    "    total=total+n\n",
    "    pro=pro*n\n",
    "    n=int(input(\"input an another number\"))\n",
    "print(\"thank you你输入所有数字的和比当前输入数字小，且输入所有数字的积比当前输入数字的平方小\")"
   ]
  }
 ],
 "metadata": {
  "kernelspec": {
   "display_name": "Python 3",
   "language": "python",
   "name": "python3"
  },
  "language_info": {
   "codemirror_mode": {
    "name": "ipython",
    "version": 3
   },
   "file_extension": ".py",
   "mimetype": "text/x-python",
   "name": "python",
   "nbconvert_exporter": "python",
   "pygments_lexer": "ipython3",
   "version": "3.6.0"
  }
 },
 "nbformat": 4,
 "nbformat_minor": 2
}
