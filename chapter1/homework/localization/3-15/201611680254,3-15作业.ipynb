{
 "cells": [
  {
   "cell_type": "markdown",
   "metadata": {},
   "source": [
    "用户可以指定输入的整数个数，并计算输入的数的和"
   ]
  },
  {
   "cell_type": "code",
   "execution_count": 1,
   "metadata": {
    "collapsed": false
   },
   "outputs": [
    {
     "ename": "SyntaxError",
     "evalue": "invalid syntax (<ipython-input-1-420a09e3fa36>, line 5)",
     "output_type": "error",
     "traceback": [
      "\u001b[1;36m  File \u001b[1;32m\"<ipython-input-1-420a09e3fa36>\"\u001b[1;36m, line \u001b[1;32m5\u001b[0m\n\u001b[1;33m    i=0\u001b[0m\n\u001b[1;37m    ^\u001b[0m\n\u001b[1;31mSyntaxError\u001b[0m\u001b[1;31m:\u001b[0m invalid syntax\n"
     ]
    }
   ],
   "source": [
    "name=int(input(\"请输入你的名字\"))\n",
    "print(\"hello,name\")\n",
    "n=int(input(\"请输入你想要输入的整数个数\")\n",
    "\n",
    "i=0\n",
    "s=0\n",
    "while i<n:\n",
    "      m=int(input(\"请你想输入的整数\"))\n",
    "      i=i+1\n",
    "      s=s+m\n",
    "else:\n",
    "      print(\"结束输入，谢谢\")"
   ]
  },
  {
   "cell_type": "markdown",
   "metadata": {},
   "source": [
    "不知道这个错误在哪里"
   ]
  },
  {
   "cell_type": "markdown",
   "metadata": {},
   "source": [
    "用户可以任意输入整数直到不想输入为止"
   ]
  },
  {
   "cell_type": "code",
   "execution_count": 3,
   "metadata": {
    "collapsed": false
   },
   "outputs": [
    {
     "name": "stdout",
     "output_type": "stream",
     "text": [
      "请输入一个数字1\n",
      "如果你想继续输入就输入1，否则就输入00\n",
      "结束输入\n",
      "再见！\n"
     ]
    }
   ],
   "source": [
    "n=int(input(\"请输入一个数字\"))\n",
    "m=int(input(\"如果你想继续输入就输入1，否则就输入0\"))\n",
    "while m==1:\n",
    "    print(n),\n",
    "    n=int(input(\"请再次输入一个数字\")),\n",
    "    m=int(input(\"如果你想继续输入就输入1，否则就输入0\"))\n",
    "else:\n",
    "    print(\"结束输入\")\n",
    "print(\"再见！\")"
   ]
  },
  {
   "cell_type": "code",
   "execution_count": 2,
   "metadata": {
    "collapsed": false
   },
   "outputs": [
    {
     "name": "stdout",
     "output_type": "stream",
     "text": [
      "请输入你想输入的数字1\n",
      "请再次输入你想输入的数字2\n",
      "请再次输入你想输入的数字3\n",
      "结束，谢谢输入\n"
     ]
    }
   ],
   "source": [
    "n=int(input('请输入你想输入的数字'))\n",
    "c=int(input('请再次输入你想输入的数字'))\n",
    "m=0\n",
    "s=n+m+c\n",
    "p=n*c\n",
    "\n",
    "while s>=m and p>=m**2:\n",
    "    s=s+m\n",
    "    p=p*m\n",
    "    m=int(input('请再次输入你想输入的数字'))\n",
    "else:\n",
    "    print('结束，谢谢输入')"
   ]
  },
  {
   "cell_type": "code",
   "execution_count": null,
   "metadata": {
    "collapsed": true
   },
   "outputs": [],
   "source": []
  }
 ],
 "metadata": {
  "kernelspec": {
   "display_name": "Python 3",
   "language": "python",
   "name": "python3"
  }
 },
 "nbformat": 4,
 "nbformat_minor": 2
}
