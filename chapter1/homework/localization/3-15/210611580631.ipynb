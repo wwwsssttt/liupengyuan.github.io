{
 "cells": [
  {
   "cell_type": "code",
   "execution_count": 2,
   "metadata": {
    "collapsed": false
   },
   "outputs": [
    {
     "name": "stdout",
     "output_type": "stream",
     "text": [
      "正整数33\n",
      "8683317618811886495518194401280000000\n"
     ]
    }
   ],
   "source": [
    "n=int(input('正整数'))\n",
    "i=0\n",
    "total=1\n",
    "while i<n:\n",
    "    i=i+1\n",
    "    total=total*i\n",
    "print(total)"
   ]
  },
  {
   "cell_type": "code",
   "execution_count": 1,
   "metadata": {
    "collapsed": false
   },
   "outputs": [
    {
     "name": "stdout",
     "output_type": "stream",
     "text": [
      "请输入你的姓名，以回车结束。\n",
      "你好 \n",
      "请输入一个正整数，以回车结束。2\n",
      "请输入一个正整数，以回车结束。3\n",
      "两个数的和是： 5\n",
      "再见！ \n"
     ]
    }
   ],
   "source": [
    "name=input('请输入你的姓名，以回车结束。')\n",
    "print('你好',name)\n",
    "\n",
    "n=int(input('请输入一个正整数，以回车结束。'))\n",
    "m=int(input('请输入一个正整数，以回车结束。'))\n",
    "\n",
    "print('两个数的和是：',m+n)\n",
    "print('再见！',name)"
   ]
  },
  {
   "cell_type": "code",
   "execution_count": 4,
   "metadata": {
    "collapsed": false
   },
   "outputs": [
    {
     "name": "stdout",
     "output_type": "stream",
     "text": [
      "namef\n",
      "求和个数4\n",
      "正整数1\n",
      "正整数1\n",
      "正整数1\n",
      "正整数1\n",
      "4\n"
     ]
    }
   ],
   "source": [
    "name=input('name')\n",
    "n=int(input('求和个数'))\n",
    "i=0\n",
    "sum=0\n",
    "while i<n:\n",
    "    i=i+1\n",
    "    m=int(input('正整数'))\n",
    "    sum=sum+m\n",
    "print(sum)"
   ]
  },
  {
   "cell_type": "code",
   "execution_count": null,
   "metadata": {
    "collapsed": true
   },
   "outputs": [],
   "source": []
  }
 ],
 "metadata": {
  "kernelspec": {
   "display_name": "Python 3",
   "language": "python",
   "name": "python3"
  },
  "language_info": {
   "codemirror_mode": {
    "name": "ipython",
    "version": 3
   },
   "file_extension": ".py",
   "mimetype": "text/x-python",
   "name": "python",
   "nbconvert_exporter": "python",
   "pygments_lexer": "ipython3",
   "version": "3.6.0"
  }
 },
 "nbformat": 4,
 "nbformat_minor": 2
}
