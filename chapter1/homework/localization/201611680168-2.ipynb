{
 "cells": [
  {
   "cell_type": "markdown",
   "metadata": {
    "deletable": true,
    "editable": true
   },
   "source": [
    "练习 1：写程序，可由键盘读入用户姓名例如Mr. right，让用户输入出生的月份与日期，判断用户星座，假设用户是金牛座，则输出，Mr. right，你是非常有性格的金牛座！。"
   ]
  },
  {
   "cell_type": "code",
   "execution_count": null,
   "metadata": {
    "collapsed": false,
    "deletable": true,
    "editable": true
   },
   "outputs": [
    {
     "name": "stdout",
     "output_type": "stream",
     "text": [
      "请输入你的姓名，回车结束：pxs\n",
      "pxs 你好！\n",
      "请输入你的出生月份，回车结束：2\n",
      "请输入你的出生日期，回车结束：28\n",
      "你的生日是： 2 月 28 日\n",
      "pxs ，你是双鱼座。\n"
     ]
    }
   ],
   "source": [
    "name=input('请输入你的姓名，回车结束：')\n",
    "print(name,'你好！')\n",
    "\n",
    "month=int(input('请输入你的出生月份，回车结束：'))\n",
    "date=int(input('请输入你的出生日期，回车结束：'))\n",
    "print('你的生日是：',month,'月',date,'日')\n",
    "\n",
    "if month == 3:\n",
    "    if date >= 21:\n",
    "        print(name,'，你是白羊座。')\n",
    "    else:\n",
    "        print(name,'，你是双鱼座。')\n",
    "\n",
    "if month == 4:\n",
    "    if date >= 20:\n",
    "        print(name,'，你是金牛座。')\n",
    "    else:\n",
    "        print(name,'，你是白羊座。')\n",
    "        \n",
    "if month == 5:\n",
    "    if date >= 21:\n",
    "        print(name,'，你是双子座。')\n",
    "    else:\n",
    "        print(name,'，你是金牛座。')\n",
    "        \n",
    "if month == 6:\n",
    "    if date >= 22:\n",
    "        print(name,'，你是巨蟹座。')\n",
    "    else:\n",
    "        print(name,'，你是双子座。')\n",
    "              \n",
    "if month == 7:\n",
    "    if date >= 23:\n",
    "        print(name,'，你是狮子座。')\n",
    "    else:\n",
    "        print(name,'，你是巨蟹座。')\n",
    "        \n",
    "if month == 8:\n",
    "    if date >= 23:\n",
    "        print(name,'，你是处女座。')\n",
    "    else:\n",
    "        print(name,'，你是狮子座。')\n",
    "        \n",
    "if month == 9:\n",
    "    if date >= 23:\n",
    "        print(name,'，你是天秤座。')\n",
    "    else:\n",
    "        print(name,'，你是处女座。')\n",
    "        \n",
    "if month == 10:\n",
    "    if date >= 24:\n",
    "        print(name,'，你是天蝎座。')\n",
    "    else:\n",
    "        print(name,'，你是天秤座。')\n",
    "        \n",
    "if month == 11:\n",
    "    if date >= 23:\n",
    "        print(name,'，你是射手座。')\n",
    "    else:\n",
    "        print(name,'，你是天蝎座。')\n",
    "        \n",
    "if month == 12:\n",
    "    if date >= 22:\n",
    "        print(name,'，你是摩羯座。')\n",
    "    else:\n",
    "        print(name,'，你是射手座。')\n",
    "        \n",
    "if month == 1:\n",
    "    if date >= 20:\n",
    "        print(name,'，你是水瓶座。')\n",
    "    else:\n",
    "        print(name,'，你是摩羯座。')\n",
    "        \n",
    "if month == 2:\n",
    "    if date >= 19:\n",
    "        print(name,'，你是双鱼座。')\n",
    "    else:\n",
    "        print(name,'，你是水瓶座。')"
   ]
  },
  {
   "cell_type": "markdown",
   "metadata": {
    "deletable": true,
    "editable": true
   },
   "source": [
    "练习 2：写程序，可由键盘读入两个整数m与n(n不等于0)，询问用户意图，如果要求和则计算从m到n的和输出，如果要乘积则计算从m到n的积并输出，如果要求余数则计算m除以n的余数的值并输出，否则则计算m整除n的值并输出。"
   ]
  },
  {
   "cell_type": "code",
   "execution_count": 1,
   "metadata": {
    "collapsed": false,
    "deletable": true,
    "editable": true
   },
   "outputs": [
    {
     "name": "stdout",
     "output_type": "stream",
     "text": [
      "请输入一个整数，回车结束：5\n",
      "请输入一个非0整数，回车结束：1\n",
      "你想求的结果是（e.g.和、积、余数）：和\n",
      "结果是： 15\n"
     ]
    }
   ],
   "source": [
    "m=int(input('请输入一个整数，回车结束：'))\n",
    "n=int(input('请输入一个非0整数，回车结束：'))\n",
    "\n",
    "ask=input('你想求的结果是（e.g.和、积、余数）：')\n",
    "if ask == '和':\n",
    "    if m<n:\n",
    "        total=m\n",
    "        while m<n:\n",
    "                m=m+1\n",
    "                total=total+m \n",
    "    if m>n:\n",
    "        total=n\n",
    "        while m>n:\n",
    "                n=n+1\n",
    "                total=total+n\n",
    "    print('结果是：', total)\n",
    "elif ask == '积':\n",
    "    if m<n:\n",
    "        multi=m\n",
    "        while m<n:\n",
    "                m=m+1\n",
    "                multi=multi*m\n",
    "    if m>n:\n",
    "        multi=n\n",
    "        while m>n:\n",
    "                n=n+1\n",
    "                multi=multi*n\n",
    "    print('结果是：', multi)\n",
    "elif ask== '余数':\n",
    "    print('结果是：', m%n)\n",
    "else:\n",
    "    print('结果是：', m//n)"
   ]
  },
  {
   "cell_type": "markdown",
   "metadata": {
    "deletable": true,
    "editable": true
   },
   "source": [
    "练习 3：写程序，能够根据北京雾霾PM2.5数值给出对应的防护建议。如当PM2.5数值大于500，则应该打开空气净化器，戴防雾霾口罩等。"
   ]
  },
  {
   "cell_type": "code",
   "execution_count": 2,
   "metadata": {
    "collapsed": false,
    "deletable": true,
    "editable": true
   },
   "outputs": [
    {
     "name": "stdout",
     "output_type": "stream",
     "text": [
      "现在北京的pm2.5指数是多少：183\n",
      "请减少室外活动\n"
     ]
    }
   ],
   "source": [
    "ask=int(input('现在北京的pm2.5指数是多少：'))\n",
    "\n",
    "if ask >= 500:\n",
    "    print('请不要外出并打开空气净化器')\n",
    "if ask >= 250:\n",
    "    print('外出请戴口罩；室内开启空气净化器')\n",
    "if ask >= 100:\n",
    "    print('请减少室外活动')\n",
    "else:\n",
    "    print('空气质量优良')"
   ]
  },
  {
   "cell_type": "markdown",
   "metadata": {
    "deletable": true,
    "editable": true
   },
   "source": [
    "练习 4：英文单词单数转复数，要求输入一个英文动词（单数形式），能够得到其复数形式，或给出单数转复数形式的建议（提示，some_string.endswith(some_letter)函数可以判断某字符串结尾字符）。"
   ]
  },
  {
   "cell_type": "code",
   "execution_count": 16,
   "metadata": {
    "collapsed": false,
    "deletable": true,
    "editable": true
   },
   "outputs": [
    {
     "name": "stdout",
     "output_type": "stream",
     "text": [
      "请输入一个英文单词，回车结束lie\n",
      "lie 变复数加s\n"
     ]
    }
   ],
   "source": [
    "s=input('请输入一个英文单词，回车结束')\n",
    "\n",
    "if s.endswith('o'):\n",
    "    print(s,'变复数加es')\n",
    "\n",
    "elif s.endswith('ch') or s.endswith('sh'):\n",
    "    print(s,'变复数加es')\n",
    "\n",
    "else:\n",
    "    print(s,'变复数加s')"
   ]
  },
  {
   "cell_type": "markdown",
   "metadata": {
    "deletable": true,
    "editable": true
   },
   "source": [
    "尝试性练习：写程序，能够在屏幕上显示空行。"
   ]
  },
  {
   "cell_type": "code",
   "execution_count": 3,
   "metadata": {
    "collapsed": false,
    "deletable": true,
    "editable": true
   },
   "outputs": [
    {
     "name": "stdout",
     "output_type": "stream",
     "text": [
      "我是空行\n",
      "我是空行\n",
      "我是空行\n",
      "\n",
      "我是空行\n",
      "我是空行\n",
      "我是空行\n",
      "我是空行\n"
     ]
    }
   ],
   "source": [
    "print('我是空行')\n",
    "print('我是空行')\n",
    "print('我是空行')\n",
    "print()\n",
    "print('我是空行')\n",
    "print('我是空行')\n",
    "print('我是空行')\n",
    "print('我是空行')"
   ]
  },
  {
   "cell_type": "markdown",
   "metadata": {
    "deletable": true,
    "editable": true
   },
   "source": [
    "挑战性练习：写程序，由用户输入一些整数，能够得到几个整数中的次大值(第二大的值)并输出。"
   ]
  },
  {
   "cell_type": "code",
   "execution_count": 4,
   "metadata": {
    "collapsed": false,
    "deletable": true,
    "editable": true
   },
   "outputs": [
    {
     "name": "stdout",
     "output_type": "stream",
     "text": [
      "请输入一个整数，回车结束1\n",
      "请输入一个整数，回车结束2\n",
      "请输入一个整数，回车结束5\n",
      "请输入一个整数，回车结束7\n",
      "请输入一个整数，回车结束9\n",
      "次大值是： 7\n"
     ]
    }
   ],
   "source": [
    "max_number = int(input('请输入一个整数，回车结束'))\n",
    "submax=0\n",
    "i = 0\n",
    "\n",
    "while i < 4:\n",
    "    i += 1\n",
    "    n = int(input('请输入一个整数，回车结束'))\n",
    "    if n > max_number:\n",
    "            submax = max_number\n",
    "            max_number = n\n",
    "    elif n < max_number and n > submax:\n",
    "            submax = n\n",
    "\n",
    "print('次大值是：', submax)"
   ]
  }
 ],
 "metadata": {
  "kernelspec": {
   "display_name": "Python 3",
   "language": "python",
   "name": "python3"
  },
  "language_info": {
   "codemirror_mode": {
    "name": "ipython",
    "version": 3
   },
   "file_extension": ".py",
   "mimetype": "text/x-python",
   "name": "python",
   "nbconvert_exporter": "python",
   "pygments_lexer": "ipython3",
   "version": "3.6.0"
  }
 },
 "nbformat": 4,
 "nbformat_minor": 2
}
