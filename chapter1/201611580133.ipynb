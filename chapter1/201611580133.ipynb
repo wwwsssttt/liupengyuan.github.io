{
 "cells": [
  {
   "cell_type": "code",
   "execution_count": null,
   "metadata": {
    "collapsed": true
   },
   "outputs": [],
   "source": [
    "练习4：\n",
    "voc = input('请输入单词:')\n",
    "lenth = len(voc)\n",
    "tail = voc[lenth-1]\n",
    "lont = voc[lenth-2] + tail\n",
    "if (tail == 'p') or (tail == 'g') or (tail == 'r'):\n",
    "    print(voc,'s',sep='')\n",
    "elif (tail == 's') or (lont == 'sh') or (lont == 'ch') or (tail == 'x'):\n",
    "    print(voc,'es',sep='')\n",
    "elif (lont == 'ce') or (lont == 'se') or (lont =='ze') or (lont == 'ge'):\n",
    "    print(voc,'s',sep='')\n",
    "elif (tail == 'y'):\n",
    "    for i in range(lenth-1):\n",
    "        print(voc[i],sep='',end='')\n",
    "    print('ies')\n",
    "    \n",
    "尝试性练习：\n",
    "ins = input('您要空行吗?\\n'\n",
    "            '输入要或不要:')\n",
    "if ins == '要':\n",
    "    print('来，您的空行\\n\\n'\n",
    "          '看到了吧')\n",
    "else:\n",
    "    print('不要就给你两个空行\\n\\n\\n'\n",
    "          '哈哈')\n",
    "\n",
    "挑战性练习：\n",
    "num = int(input('您要输入几个整数？'))\n",
    "print('开始输入这些整数')\n",
    "m1 = 0\n",
    "m2 = 0\n",
    "for i in range(num):\n",
    "    t = int(input())\n",
    "    if t > m1:\n",
    "        m2 = m1\n",
    "        m1 = t\n",
    "print(m2)"
   ]
  }
 ],
 "metadata": {
  "kernelspec": {
   "display_name": "Python 3",
   "language": "python",
   "name": "python3"
  },
  "language_info": {
   "codemirror_mode": {
    "name": "ipython",
    "version": 3
   },
   "file_extension": ".py",
   "mimetype": "text/x-python",
   "name": "python",
   "nbconvert_exporter": "python",
   "pygments_lexer": "ipython3",
   "version": "3.6.0"
  }
 },
 "nbformat": 4,
 "nbformat_minor": 2
}
