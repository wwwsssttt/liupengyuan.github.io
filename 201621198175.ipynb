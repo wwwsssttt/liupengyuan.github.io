{
 "cells": [
  {
   "cell_type": "markdown",
   "metadata": {},
   "source": [
    "练习 1：写程序，可由键盘读入用户姓名例如Mr. right，让用户输入出生的月份与日期，判断用户星座，假设用户是金牛座，则输出，Mr. right，你是非常有性格的金牛座！"
   ]
  },
  {
   "cell_type": "code",
   "execution_count": 1,
   "metadata": {
    "collapsed": false
   },
   "outputs": [
    {
     "name": "stdout",
     "output_type": "stream",
     "text": [
      "请输入您的姓名：晓明\n",
      "请输入您出生的月份.日期：4.25\n",
      "晓明 ，你是非常有性格的金牛座！\n"
     ]
    }
   ],
   "source": [
    "name = input(\"请输入您的姓名：\")\n",
    "date = float(input(\"请输入您出生的月份.日期：\"))\n",
    "\n",
    "if 3.21 <= date <= 4.19:\n",
    "    print(name,\"，你是非常有性格的白羊座！\")\n",
    "elif 4.20 <= date <= 5.20:\n",
    "    print(name,\"，你是非常有性格的金牛座！\")\n",
    "elif 5.21 <= date <= 6.21:\n",
    "    print(name,\"，你是非常有性格的双子座！\")\n",
    "elif 6.22 <= date <= 7.22:\n",
    "    print(name,\"，你是非常有性格的巨蟹座！\")\n",
    "elif 7.23 <= date <= 8.22:\n",
    "    print(name,\"，你是非常有性格的狮子座！\")\n",
    "elif 8.23 <= date <= 9.22:\n",
    "    print(name,\"，你是非常有性格的处女座！\")\n",
    "elif 9.23 <= date <= 10.23:\n",
    "    print(name,\"，你是非常有性格的天秤座！\")\n",
    "elif 10.24 <= date <= 11.22:\n",
    "    print(name,\"，你是非常有性格的天蝎座！\")\n",
    "elif 11.23 <= date <= 12.21:\n",
    "    print(name,\"，你是非常有性格的射手座！\")\n",
    "elif 1.20 <= date <= 2.18:\n",
    "    print(name,\"，你是非常有性格的水瓶座！\")\n",
    "elif 2.19 <= date <= 3.20:\n",
    "    print(name,\"，你是非常有性格的双鱼座！\")\n",
    "else:\n",
    "    print(name,\"，你是非常有性格的摩羯座！\")"
   ]
  },
  {
   "cell_type": "markdown",
   "metadata": {},
   "source": [
    "练习 2：写程序，可由键盘读入两个整数m与n(n不等于0)，询问用户意图，如果要求和则计算从m到n的和输出，如果要乘积则计算从m到n的积并输出，如果要求余数则计算m除以n的余数的值并输出，否则则计算m整除n的值并输出。"
   ]
  },
  {
   "cell_type": "code",
   "execution_count": 1,
   "metadata": {
    "collapsed": false
   },
   "outputs": [
    {
     "name": "stdout",
     "output_type": "stream",
     "text": [
      "请输入一个整数：2\n",
      "请输入一个整数：5\n",
      "请问您想做什么运算？加和运算请按‘+’，乘积运算请按‘*’，求余运算请按‘%’，其他运算请按‘//’，回车结束。*\n",
      "120\n"
     ]
    }
   ],
   "source": [
    "m = int(input(\"请输入一个整数：\"))\n",
    "n = int(input(\"请输入一个整数：\"))\n",
    "temp = ''\n",
    "total = 1\n",
    "x = input(\"请问您想做什么运算？加和运算请按‘+’，乘积运算请按‘*’，求余运算请按‘%’，其他运算请按‘//’，回车结束。\")\n",
    "if x == '+':\n",
    "    if m > n:\n",
    "        temp = m\n",
    "        m = n\n",
    "        n = temp\n",
    "    else:\n",
    "        print((m+n)*(n-m+1)/2)\n",
    "elif x == '*':\n",
    "    total = m*n\n",
    "    if m > n:\n",
    "        temp = m\n",
    "        m = n\n",
    "        n = temp\n",
    "    else:\n",
    "        while (m+1) <= (n-1):\n",
    "            total = total*(m+1)*(n-1)\n",
    "            m += 1\n",
    "            n -= 1\n",
    "    print(total)          \n",
    "elif x == '%':\n",
    "    print(m%n)\n",
    "else:\n",
    "    print(m//n)"
   ]
  },
  {
   "cell_type": "markdown",
   "metadata": {},
   "source": [
    "练习 3：写程序，能够根据北京雾霾PM2.5数值给出对应的防护建议。如当PM2.5数值大于500，则应该打开空气净化器，戴防雾霾口罩等"
   ]
  },
  {
   "cell_type": "code",
   "execution_count": 2,
   "metadata": {
    "collapsed": false
   },
   "outputs": [
    {
     "name": "stdout",
     "output_type": "stream",
     "text": [
      "请输入PM2.5的数值：680\n",
      "您应该打开空气净化器，带防雾霾口罩！\n"
     ]
    }
   ],
   "source": [
    "x = float(input(\"请输入PM2.5的数值：\"))\n",
    "if x > 500:\n",
    "    print(\"您应该打开空气净化器，带防雾霾口罩！\")\n",
    "else:\n",
    "    print(\"空气质量还不错，适宜出行！\")"
   ]
  },
  {
   "cell_type": "markdown",
   "metadata": {},
   "source": [
    "练习 4：英文单词单数转复数，要求输入一个英文动词（单数形式），能够得到其复数形式，或给出单数转复数形式的建议（提示，some_string.endswith(some_letter)函数可以判断某字符串结尾字符）。"
   ]
  },
  {
   "cell_type": "code",
   "execution_count": 1,
   "metadata": {
    "collapsed": false
   },
   "outputs": [
    {
     "name": "stdout",
     "output_type": "stream",
     "text": [
      "请输入一个英文动词的单数形式，回车结束：eat\n",
      "eats\n"
     ]
    }
   ],
   "source": [
    "sp = input(\"请输入一个英文动词的单数形式，回车结束：\")\n",
    "if sp.endswith(\"ch\"):\n",
    "    print(sp+\"es\")\n",
    "else:\n",
    "    print(sp+\"s\")"
   ]
  },
  {
   "cell_type": "markdown",
   "metadata": {},
   "source": [
    "尝试性练习：写程序，能够在屏幕上显示空行。"
   ]
  },
  {
   "cell_type": "code",
   "execution_count": 1,
   "metadata": {
    "collapsed": false
   },
   "outputs": [
    {
     "name": "stdout",
     "output_type": "stream",
     "text": [
      "请输入一行数字：12\n",
      "\n",
      "\n"
     ]
    }
   ],
   "source": [
    "x = input(\"请输入一行数字：\")\n",
    "if len(x) <= 100:\n",
    "    print(\"\\n\")\n",
    "else:\n",
    "    print(x)"
   ]
  },
  {
   "cell_type": "markdown",
   "metadata": {},
   "source": [
    "挑战性练习：写程序，由用户输入一些整数，能够得到几个整数中的次大值(第二大的值)并输出。"
   ]
  },
  {
   "cell_type": "code",
   "execution_count": 1,
   "metadata": {
    "collapsed": false
   },
   "outputs": [
    {
     "name": "stdout",
     "output_type": "stream",
     "text": [
      "请输入整数的个数，回车结束：5\n",
      "请输入一个整数，回车结束：23\n",
      "请再输入一个整数，回车结束：5\n",
      "请再输入一个整数，回车结束：78\n",
      "请再输入一个整数，回车结束：-90\n",
      "请再输入一个整数，回车结束：35\n",
      "35\n"
     ]
    }
   ],
   "source": [
    "num = int(input(\"请输入整数的个数，回车结束：\"))\n",
    "if num < 2:\n",
    "    print(\"输入个数不能少于2，请您重新输入：\")\n",
    "else:\n",
    "    m = int(input(\"请输入一个整数，回车结束：\"))\n",
    "    n = int(input(\"请再输入一个整数，回车结束：\"))\n",
    "    if m >= n:\n",
    "        max_number = m\n",
    "        mid_number = n\n",
    "    else:\n",
    "        max_number = n\n",
    "        mid_number = m\n",
    "    i = 2\n",
    "    while i < num:\n",
    "        x = int(input(\"请再输入一个整数，回车结束：\"))\n",
    "        if mid_number < x < max_number:\n",
    "            mid_number = x\n",
    "        if x > max_number:\n",
    "            mid_number = max_number\n",
    "            max_number = x\n",
    "        i += 1\n",
    "    print(mid_number)\n",
    "    "
   ]
  },
  {
   "cell_type": "code",
   "execution_count": null,
   "metadata": {
    "collapsed": true
   },
   "outputs": [],
   "source": []
  },
  {
   "cell_type": "code",
   "execution_count": null,
   "metadata": {
    "collapsed": true
   },
   "outputs": [],
   "source": []
  }
 ],
 "metadata": {
  "kernelspec": {
   "display_name": "Python 3",
   "language": "python",
   "name": "python3"
  },
  "language_info": {
   "codemirror_mode": {
    "name": "ipython",
    "version": 3
   },
   "file_extension": ".py",
   "mimetype": "text/x-python",
   "name": "python",
   "nbconvert_exporter": "python",
   "pygments_lexer": "ipython3",
   "version": "3.6.0"
  }
 },
 "nbformat": 4,
 "nbformat_minor": 2
}
