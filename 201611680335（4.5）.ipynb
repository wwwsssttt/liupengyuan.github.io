{
 "cells": [
  {
   "cell_type": "code",
   "execution_count": 2,
   "metadata": {
    "collapsed": false,
    "deletable": true,
    "editable": true
   },
   "outputs": [
    {
     "name": "stdout",
     "output_type": "stream",
     "text": [
      "请输入整数m，以回车结束：3\n",
      "请输入比m大的整数k，以回车结束：9\n",
      "请输入整数n，以回车结束：3\n",
      "2.23606797749979\n"
     ]
    }
   ],
   "source": [
    "import random,math\n",
    "\n",
    "m=int(input('请输入整数m，以回车结束：'))\n",
    "k=int(input('请输入比m大的整数k，以回车结束：'))\n",
    "n=int(input('请输入整数n，以回车结束：'))\n",
    "i=0\n",
    "sum=0\n",
    "while i<n:\n",
    "    i+=1\n",
    "    number=random.randint(m,k)\n",
    "    sum=sum+number\n",
    "x=sum/n\n",
    "ping=math.sqrt(x)\n",
    "print(ping)"
   ]
  },
  {
   "cell_type": "code",
   "execution_count": 4,
   "metadata": {
    "collapsed": false,
    "deletable": true,
    "editable": true
   },
   "outputs": [
    {
     "name": "stdout",
     "output_type": "stream",
     "text": [
      "请输入整数m，以回车结束：3\n",
      "请输入比m大的整数k，以回车结束：9\n",
      "请输入整数n，以回车结束：5\n",
      "9.441452092939569\n",
      "2.692586171765381\n"
     ]
    }
   ],
   "source": [
    "import random,math\n",
    "\n",
    "m=int(input('请输入整数m，以回车结束：'))\n",
    "k=int(input('请输入比m大的整数k，以回车结束：'))\n",
    "n=int(input('请输入整数n，以回车结束：'))\n",
    "i=0\n",
    "sum=0\n",
    "sum1=0\n",
    "while i<n:\n",
    "    number=random.randint(m,k)\n",
    "    if number<0:\n",
    "        continue;\n",
    "    else:\n",
    "        i+=1\n",
    "        x=math.log(number)\n",
    "        y=1/x\n",
    "        sum=sum+x\n",
    "        sum1=sum1+y\n",
    "print(sum)\n",
    "print(sum1)"
   ]
  },
  {
   "cell_type": "code",
   "execution_count": 4,
   "metadata": {
    "collapsed": false,
    "deletable": true,
    "editable": true
   },
   "outputs": [
    {
     "name": "stdout",
     "output_type": "stream",
     "text": [
      "请输入整数n,即有n个这样的数相加:3\n",
      "8\n",
      "984\n"
     ]
    }
   ],
   "source": [
    "#练习 3：写函数，求s=a+aa+aaa+aaaa+aa...a的值，其中a是[1,9]之间的随机整数。例如2+22+222+2222+22222(此时共有5个数相加)，几个数相加由键盘输入。\n",
    "import random\n",
    "\n",
    "s=0\n",
    "i=0\n",
    "\n",
    "n=int(input('请输入整数n,即有n个这样的数相加:'))\n",
    "a=random.randint(1,9)\n",
    "\n",
    "while i<n:\n",
    "    j=0\n",
    "    y=0\n",
    "    while j<=i:\n",
    "        x=a*(10**j)\n",
    "        y=x+y\n",
    "        j=j+1\n",
    "        #得到数如222\n",
    "\n",
    "    s=s+y\n",
    "    i=i+1\n",
    "print(a)\n",
    "print(s)"
   ]
  },
  {
   "cell_type": "code",
   "execution_count": 10,
   "metadata": {
    "collapsed": false,
    "deletable": true,
    "editable": true
   },
   "outputs": [
    {
     "name": "stdout",
     "output_type": "stream",
     "text": [
      "=====游戏菜单=====\n",
      "                1. 游戏说明\n",
      "                2. 开始游戏\n",
      "                3. 退出游戏\n",
      "                4. 制作团队\n",
      "             =====游戏菜单=====\n",
      "请输入你的选择2\n",
      "请输入一个大于0的整数，作为神秘整数的上界，回车结束：9\n",
      "请输入神秘数字：5\n",
      "8\n",
      "如果计算机猜对了，输入0，如果猜大了，输入1，如果猜小了，输入2：1\n",
      "一共可以猜 4 次\n",
      "计算机已经猜了 1 次\n",
      "3\n",
      "如果计算机猜对了，输入0，如果猜大了，输入1，如果猜小了，输入2：2\n",
      "一共可以猜 4 次\n",
      "计算机已经猜了 2 次\n",
      "5\n",
      "如果计算机猜对了，输入0，如果猜大了，输入1，如果猜小了，输入2：0\n",
      "计算机赢了\n",
      "神秘数字是： 5\n",
      "你比标准次数少 1 次\n",
      "=====游戏菜单=====\n",
      "                1. 游戏说明\n",
      "                2. 开始游戏\n",
      "                3. 退出游戏\n",
      "                4. 制作团队\n",
      "             =====游戏菜单=====\n",
      "请输入你的选择3\n",
      "游戏结束\n"
     ]
    }
   ],
   "source": [
    "import random, math\n",
    "\n",
    "\n",
    "def win():\n",
    "    print('计算机赢了')\n",
    "def lose():\n",
    "    print('计算机输了')\n",
    "def game_over():\n",
    "    print('游戏结束')\n",
    "def show_instruction():\n",
    "    print('猜字游戏')\n",
    "def show_team():\n",
    "    print('无')\n",
    "def menu():\n",
    "    print('''=====游戏菜单=====\n",
    "                1. 游戏说明\n",
    "                2. 开始游戏\n",
    "                3. 退出游戏\n",
    "                4. 制作团队\n",
    "             =====游戏菜单=====''')\n",
    "             \n",
    "def guess_game():\n",
    "    n = int(input('请输入一个大于0的整数，作为神秘整数的上界，回车结束：'))\n",
    "    number = int(input('请输入神秘数字：'))\n",
    "    max_times = math.ceil(math.log(n, 2))\n",
    "    guess_times = 0\n",
    "    m=0\n",
    "    \n",
    "    while guess_times < max_times:\n",
    "        guess = random.randint(m,n)\n",
    "        print(guess)\n",
    "        guess_times += 1\n",
    "        x = int(input('如果计算机猜对了，输入0，如果猜大了，输入1，如果猜小了，输入2：'))\n",
    "        \n",
    "        if x==0:\n",
    "            win()\n",
    "            print('神秘数字是：', guess)\n",
    "            print('你比标准次数少', max_times-guess_times, '次')\n",
    "            break\n",
    "        elif x==1:\n",
    "            n=guess\n",
    "        else:\n",
    "            m=guess\n",
    "        print('一共可以猜', max_times, '次')\n",
    "        print('计算机已经猜了', guess_times, '次')  \n",
    "        \n",
    "    else:\n",
    "        print('神秘数字是：', number)\n",
    "        lose()\n",
    "\n",
    "# 主函数\n",
    "def main():\n",
    "    while True:\n",
    "        menu()\n",
    "        choice = int(input('请输入你的选择'))\n",
    "        if choice == 1:\n",
    "            show_instruction()\n",
    "        elif choice == 2:\n",
    "            guess_game()\n",
    "        elif choice == 3:\n",
    "            game_over()\n",
    "            break\n",
    "        else:\n",
    "            show_team()\n",
    "\n",
    "\n",
    "if __name__ == '__main__':\n",
    "    main()"
   ]
  }
 ],
 "metadata": {
  "kernelspec": {
   "display_name": "Python 3",
   "language": "python",
   "name": "python3"
  },
  "language_info": {
   "codemirror_mode": {
    "name": "ipython",
    "version": 3
   },
   "file_extension": ".py",
   "mimetype": "text/x-python",
   "name": "python",
   "nbconvert_exporter": "python",
   "pygments_lexer": "ipython3",
   "version": "3.6.0"
  }
 },
 "nbformat": 4,
 "nbformat_minor": 2
}
