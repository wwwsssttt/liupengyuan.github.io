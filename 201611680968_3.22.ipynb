{
 "cells": [
  {
   "cell_type": "code",
   "execution_count": 2,
   "metadata": {
    "collapsed": false
   },
   "outputs": [
    {
     "name": "stdout",
     "output_type": "stream",
     "text": [
      "请输入你的名字刘尽颜\n",
      "请输入你的出生月份10\n",
      "请输入你的出生日期11\n",
      "刘尽颜 ,你是非常有性格的 天秤座\n"
     ]
    }
   ],
   "source": [
    "name=input('请输入你的名字')\n",
    "month=int(input('请输入你的出生月份'))\n",
    "day=int(input('请输入你的出生日期'))\n",
    "if((month==3 and day>20 and day<32) or (month==4 and day>0 and day<20)):\n",
    " xing='白羊座'\n",
    "elif((month==4 and day>19 and day<31) or (month==5 and day>0 and day<21)):\n",
    " xing='金牛座'\n",
    "elif((month==5 and day>20 and day<32) or (month==6 and day>0 and day<22)):\n",
    " xing='双子座'\n",
    "elif((month==6 and day>21 and day<31) or (month==7 and day>0 and day<23)):\n",
    " xing='巨蟹座'\n",
    "elif((month==7 and day>22 and day<32) or (month==8 and day>0 and day<23)):\n",
    " xing='狮子座'\n",
    "elif((month==8 and day>22 and day<31) or (month==9 and day>0 and day<23)):\n",
    " xing='处女座'\n",
    "elif((month==9 and day>22 and day<32) or (month==10 and day>0 and day<24)):\n",
    " xing='天秤座'\n",
    "elif((month==10 and day>23 and day<31) or (month==11 and day>0 and day<23)):\n",
    " xing='天蝎座'\n",
    "elif((month==11 and day>22 and day<32) or (month==12 and day>0 and day<22)):\n",
    " xing='射手座'\n",
    "elif((month==12 and day>21 and day<31) or (month==1 and day>0 and day<20)):\n",
    " xing='摩羯座'\n",
    "elif((month==1 and day>19 and day<32) or (month==2 and day>0 and day<19)):\n",
    " xing='水瓶座'\n",
    "elif((month==2 and day>18 and day<31) or (month==3 and day>0 and day<21)):\n",
    " xing='双鱼座'\n",
    "shuxing=print(name,',你是非常有性格的',xing)"
   ]
  },
  {
   "cell_type": "code",
   "execution_count": 3,
   "metadata": {
    "collapsed": false
   },
   "outputs": [
    {
     "name": "stdout",
     "output_type": "stream",
     "text": [
      "请输入一个整数。98\n",
      "请输入一个不为零的整数。21\n",
      "求和，输入0；求积，输入1；求余数，输入22\n",
      "14\n"
     ]
    }
   ],
   "source": [
    "m=int(input('请输入一个整数。'))\n",
    "n=int(input('请输入一个不为零的整数。'))\n",
    "c=int(input('求和，输入0；求积，输入1；求余数，输入2'))\n",
    "if c==0:\n",
    "    if m>n:\n",
    "        s=(m+n)*(m-n)/2\n",
    "        print(s)\n",
    "    if m<n:\n",
    "        s=(m+n)*(n-m)/2\n",
    "        print(s)\n",
    "    if m==n:\n",
    "        s=m+m\n",
    "        print(s)\n",
    "elif c==1:\n",
    "    i=0\n",
    "    if n>m:\n",
    "        while i<=n-m:\n",
    "            i=i+1\n",
    "            total=m*(m+1)\n",
    "            m=m+1\n",
    "        print(total)\n",
    "    elif n<m:\n",
    "        while i<=m-n:\n",
    "            i=i+1\n",
    "            total=m*(m-1)\n",
    "            m=m-1\n",
    "        print(total)\n",
    "    else:\n",
    "        total=m*2\n",
    "        print(total)\n",
    "elif c==2:\n",
    "    s=m%n\n",
    "    print(s)\n",
    "else:\n",
    "    s=m//n\n",
    "    print(s)"
   ]
  },
  {
   "cell_type": "code",
   "execution_count": 4,
   "metadata": {
    "collapsed": false
   },
   "outputs": [
    {
     "name": "stdout",
     "output_type": "stream",
     "text": [
      "告诉我当前PM2.5的值98\n",
      "开心吧？今天没有雾霾！\n"
     ]
    }
   ],
   "source": [
    "m=int(input('告诉我当前PM2.5的值'))\n",
    "if m>500:\n",
    "    print('在家打开空气净化器，外出带上防霾口罩。')\n",
    "else:\n",
    "    print('开心吧？今天没有雾霾！')"
   ]
  },
  {
   "cell_type": "code",
   "execution_count": 9,
   "metadata": {
    "collapsed": false
   },
   "outputs": [
    {
     "name": "stdout",
     "output_type": "stream",
     "text": [
      "\n",
      "这就是空行\n"
     ]
    }
   ],
   "source": [
    "print()\n",
    "print('这就是空行')"
   ]
  },
  {
   "cell_type": "code",
   "execution_count": 10,
   "metadata": {
    "collapsed": false
   },
   "outputs": [
    {
     "ename": "IndentationError",
     "evalue": "expected an indented block (<ipython-input-10-87a48c224a11>, line 6)",
     "output_type": "error",
     "traceback": [
      "\u001b[0;36m  File \u001b[0;32m\"<ipython-input-10-87a48c224a11>\"\u001b[0;36m, line \u001b[0;32m6\u001b[0m\n\u001b[0;31m    max_number=n\u001b[0m\n\u001b[0m             ^\u001b[0m\n\u001b[0;31mIndentationError\u001b[0m\u001b[0;31m:\u001b[0m expected an indented block\n"
     ]
    }
   ],
   "source": []
  },
  {
   "cell_type": "code",
   "execution_count": 15,
   "metadata": {
    "collapsed": false
   },
   "outputs": [
    {
     "name": "stdout",
     "output_type": "stream",
     "text": [
      "请输入要输入的整数个数3\n",
      "请输入一个整数1\n",
      "请输入一个整数2\n",
      "请输入一个整数4\n",
      "7\n"
     ]
    }
   ],
   "source": [
    "m=int(input('请输入要输入的整数个数'))\n",
    "max_number=int(input('请输入一个整数'))\n",
    "min_number=max_number\n",
    "i=1\n",
    "while i<m:\n",
    "    n=int(input('请输入一个整数'))\n",
    "    if n>max_number:\n",
    "        max_number=n\n",
    "    elif n<min_number:\n",
    "        min_number=n\n",
    "    i=i+1\n",
    "if n>max_number:\n",
    "    result=max_number\n",
    "    max_number=n\n",
    "elif n<min_number:\n",
    "    result=min_number\n",
    "    min_number=n\n",
    "elif min_number<n and n<max_number:\n",
    "    result=n\n",
    "    min_number=n\n",
    "print(result)\n",
    "\n"
   ]
  },
  {
   "cell_type": "code",
   "execution_count": null,
   "metadata": {
    "collapsed": true
   },
   "outputs": [],
   "source": []
  }
 ],
 "metadata": {
  "kernelspec": {
   "display_name": "Python 3",
   "language": "python",
   "name": "python3"
  },
  "language_info": {
   "codemirror_mode": {
    "name": "ipython",
    "version": 3
   },
   "file_extension": ".py",
   "mimetype": "text/x-python",
   "name": "python",
   "nbconvert_exporter": "python",
   "pygments_lexer": "ipython3",
   "version": "3.6.0"
  }
 },
 "nbformat": 4,
 "nbformat_minor": 2
}
