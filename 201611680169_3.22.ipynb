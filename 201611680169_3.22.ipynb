{
 "cells": [
  {
   "cell_type": "code",
   "execution_count": null,
   "metadata": {
    "collapsed": true,
    "deletable": true,
    "editable": true
   },
   "outputs": [],
   "source": [
    "练习1"
   ]
  },
  {
   "cell_type": "code",
   "execution_count": 17,
   "metadata": {
    "collapsed": false,
    "deletable": true,
    "editable": true
   },
   "outputs": [
    {
     "name": "stdout",
     "output_type": "stream",
     "text": [
      "please input your nameni\n",
      "your birth month2\n",
      "your birth date17\n",
      "你是非常有性格的双鱼座\n"
     ]
    }
   ],
   "source": [
    "name=input('please input your name')\n",
    "n=int(input('your birth month'))\n",
    "m=int(input('your birth date'))\n",
    "    if n==1:\n",
    "        print('你是非常有性格的摩羯座')\n",
    "    else:print('你是非常有性格的水瓶座')\n",
    "elif n==2:\n",
    "    if m<=18:\n",
    "        print('你是非常有性格的水瓶座')\n",
    "    else:\n",
    "        print('你是非常有性格的双鱼座')\n",
    "elif n==3：\n",
    "    if m<=20:\n",
    "        print('你是非常有性格的双鱼座')\n",
    "    else:\n",
    "        print('你是非常有性格的白羊座')\n",
    "elif n==4:\n",
    "    if m<=19:\n",
    "        print('你是非常有性格的白羊座')\n",
    "    else:\n",
    "        print('你是非常有性格的金牛座')\n",
    "elif n==5:\n",
    "    if m<=20：\n",
    "    print('你是非常有性格的金牛座')\n",
    "    else:\n",
    "        print('你是非常有性格的双子座')\n",
    "elif n==6:\n",
    "    if m<=21:\n",
    "        print('你是非常有性格的双子座')\n",
    "    else:\n",
    "        print('你是非常有性格的巨蟹座')\n",
    "elif n==7:\n",
    "    if m<=23:\n",
    "        print('你是非常有性格的巨蟹座')\n",
    "    else:\n",
    "        print('你是非常有性格的狮子座')\n",
    "elif n==8:\n",
    "    if m<=22:\n",
    "        print('你是非常有性格的狮子座')\n",
    "    else:\n",
    "        print('你是非常有性格的处女座')\n",
    "elif n==9:\n",
    "    if m<=23:\n",
    "        print('你是非常有性格的处女座')\n",
    "    else:\n",
    "        print('你是非常有性格的天秤座')\n",
    "elif n==10:\n",
    "    if m<=24:\n",
    "        print('你是非常有性格的天秤座')\n",
    "    else:\n",
    "        print('你是非常有性格的天蝎座')\n",
    "elif n==11:\n",
    "    if m<=23:\n",
    "        print('你是非常有性格的天蝎座')\n",
    "    else:\n",
    "        print('你是非常有性格的射手座')\n",
    "elif n==12:\n",
    "    if m<=22:\n",
    "        print('你是非常有性格的射手座')\n",
    "    else:\n",
    "        print('你是非常有性格的摩羯座')\n",
    "        \n",
    "        \n",
    "\n"
   ]
  },
  {
   "cell_type": "code",
   "execution_count": null,
   "metadata": {
    "collapsed": true,
    "deletable": true,
    "editable": true
   },
   "outputs": [],
   "source": [
    "练习2"
   ]
  },
  {
   "cell_type": "code",
   "execution_count": 7,
   "metadata": {
    "collapsed": false,
    "deletable": true,
    "editable": true
   },
   "outputs": [
    {
     "name": "stdout",
     "output_type": "stream",
     "text": [
      "请输入你的意图，如:求和,乘积,余数余数\n",
      "请输入一个整数6\n",
      "请输入一个非零整数5\n",
      "1\n"
     ]
    }
   ],
   "source": [
    "a=input('请输入你的意图，如:求和,乘积,余数')\n",
    "m=int(input('请输入一个整数'))\n",
    "n=int(input('请输入一个非零整数'))\n",
    "\n",
    "if a=='求和':\n",
    "    if m<=n:\n",
    "        total=0\n",
    "        while m<=n:\n",
    "            total=total+m\n",
    "            m+=1\n",
    "        print(total)\n",
    "    if m>=n:\n",
    "        total=0\n",
    "        while m>=n:\n",
    "            total=total+n\n",
    "            n+=1\n",
    "        print(total)\n",
    "if a=='乘积':\n",
    "    if m<=n:\n",
    "        multiply=1\n",
    "        while m<=n:\n",
    "            multiply=multiply*m\n",
    "            m+=1\n",
    "        print(multiply)\n",
    "    if m>=n:\n",
    "        multiply=1\n",
    "        while m>=n:\n",
    "            multiply=multiply*n\n",
    "            n+=1\n",
    "        print(multiply)\n",
    "if a=='余数':\n",
    "    remainder=(m%n)\n",
    "    print(remainder)\n",
    "else:\n",
    "    divide=(m//n)\n",
    "    print(divide)\n",
    "\n",
    "            \n",
    "    "
   ]
  },
  {
   "cell_type": "code",
   "execution_count": null,
   "metadata": {
    "collapsed": true,
    "deletable": true,
    "editable": true
   },
   "outputs": [],
   "source": [
    "练习3"
   ]
  },
  {
   "cell_type": "code",
   "execution_count": 19,
   "metadata": {
    "collapsed": false,
    "deletable": true,
    "editable": true
   },
   "outputs": [
    {
     "name": "stdout",
     "output_type": "stream",
     "text": [
      "请输入雾霾指数500\n",
      "严重，尽量不要留在室外\n"
     ]
    }
   ],
   "source": [
    "n=int(input('请输入雾霾指数'))\n",
    "\n",
    "if 0<=n<=50:\n",
    "    print('优，参加户外活动')\n",
    "elif 50<n<=100:\n",
    "    print('良，可以正常进行室外活动')\n",
    "elif 100<n<=150:\n",
    "    print('轻度，减少体力消耗大的户外活动')\n",
    "elif 150<n<=200:\n",
    "    print('中度，对敏感人群影响较大')\n",
    "elif 200<n<=300:\n",
    "    print('重度，所有人应适当减少室外活动')\n",
    "else:\n",
    "    print('严重，尽量不要留在室外')"
   ]
  },
  {
   "cell_type": "code",
   "execution_count": null,
   "metadata": {
    "collapsed": true,
    "deletable": true,
    "editable": true
   },
   "outputs": [],
   "source": [
    "练习4"
   ]
  },
  {
   "cell_type": "code",
   "execution_count": null,
   "metadata": {
    "collapsed": false,
    "deletable": true,
    "editable": true
   },
   "outputs": [],
   "source": [
    "m=input('请输入一个单数形式的英文单词')\n",
    "if 'm'.endswith('y'):\n",
    "    print "
   ]
  },
  {
   "cell_type": "code",
   "execution_count": null,
   "metadata": {
    "collapsed": true,
    "deletable": true,
    "editable": true
   },
   "outputs": [],
   "source": [
    "挑战性练习"
   ]
  },
  {
   "cell_type": "code",
   "execution_count": 10,
   "metadata": {
    "collapsed": false
   },
   "outputs": [
    {
     "name": "stdout",
     "output_type": "stream",
     "text": [
      "3\n",
      "2\n",
      "1\n",
      "0\n",
      "1\n"
     ]
    }
   ],
   "source": [
    "m=int(input(''))\n",
    "p=int(input(''))\n",
    "q=int(input(''))\n",
    "\n",
    "if p>q:\n",
    "    max1=p\n",
    "    max2=q\n",
    "    \n",
    "i=2\n",
    "while i<m:\n",
    "    i+=1\n",
    "    n=int(input(''))\n",
    "    if n>max1:\n",
    "        max2=max1\n",
    "        max1=n\n",
    "    elif max2<=n<=max1:\n",
    "        max2=n\n",
    "    else:\n",
    "        max2=max2\n",
    "print(max2)"
   ]
  }
 ],
 "metadata": {
  "kernelspec": {
   "display_name": "Python 3",
   "language": "python",
   "name": "python3"
  },
  "language_info": {
   "codemirror_mode": {
    "name": "ipython",
    "version": 3
   },
   "file_extension": ".py",
   "mimetype": "text/x-python",
   "name": "python",
   "nbconvert_exporter": "python",
   "pygments_lexer": "ipython3",
   "version": "3.6.0"
  }
 },
 "nbformat": 4,
 "nbformat_minor": 2
}
