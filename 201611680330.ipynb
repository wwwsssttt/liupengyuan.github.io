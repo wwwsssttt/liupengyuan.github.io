{
 "cells": [
  {
   "cell_type": "code",
   "execution_count": 1,
   "metadata": {
    "collapsed": false,
    "deletable": true,
    "editable": true
   },
   "outputs": [
    {
     "name": "stdout",
     "output_type": "stream",
     "text": [
      "please input an int\n",
      "3\n",
      "please input the min\n",
      "1\n",
      "please input the max\n",
      "5\n",
      "均值是 2.6666666666666665\n",
      "平方根 1.632993161855452\n"
     ]
    }
   ],
   "source": [
    "print('please input an int')\n",
    "n=int(input())\n",
    "print('please input the min')\n",
    "m=int(input())\n",
    "print('please input the max')\n",
    "k=int(input())\n",
    "i=1\n",
    "total=0\n",
    "while i<=n:\n",
    "    import random\n",
    "    number=random.randint(m,k)\n",
    "    total=total+number\n",
    "    i=i+1\n",
    "jun=total/n\n",
    "print('均值是',jun)\n",
    "import math\n",
    "print('平方根',math.sqrt(jun))\n",
    "    "
   ]
  },
  {
   "cell_type": "code",
   "execution_count": 1,
   "metadata": {
    "collapsed": false,
    "deletable": true,
    "editable": true
   },
   "outputs": [
    {
     "name": "stdout",
     "output_type": "stream",
     "text": [
      "the  number you need\n",
      "2\n",
      "the min\n",
      "8\n",
      "the max\n",
      "12\n",
      "6.339850002884624\n",
      "0.6309297535714575\n"
     ]
    }
   ],
   "source": [
    "#写函数，共n个随机整数，整数范围在m与k之间，求西格玛log(随机整数)及西格玛1/log(随机整数）\n",
    "print('the  number you need')\n",
    "n=int(input())\n",
    "print('the min')\n",
    "m=int(input())\n",
    "print('the max')\n",
    "k=int(input())\n",
    "i=1\n",
    "total1=0\n",
    "total2=0\n",
    "while i<=n:\n",
    "    import random\n",
    "    import math\n",
    "    c=random.randint(m,k)\n",
    "    c1=math.log2(c)\n",
    "    c2=1/c1\n",
    "    total1=total1+c1\n",
    "    total2=total2+c2\n",
    "    i+=1\n",
    "print(total1)\n",
    "print(total2)\n",
    "    \n",
    "    "
   ]
  },
  {
   "cell_type": "code",
   "execution_count": 11,
   "metadata": {
    "collapsed": false,
    "deletable": true,
    "editable": true
   },
   "outputs": [
    {
     "name": "stdout",
     "output_type": "stream",
     "text": [
      "the  number you need\n",
      "3\n",
      "1\n",
      "123\n"
     ]
    }
   ],
   "source": [
    "#写函数，求s=a+aa+aaa+aaaa+aa...a的值，其中a是[1,9]之间的随机整数。例如2+22+222+2222+22222(此时共有5个数相加)，几个数相加由键盘输入。\n",
    "print('the  number you need')\n",
    "n=int(input())\n",
    "import random\n",
    "a=random.randint(1,9)\n",
    "print(a)\n",
    "i=1\n",
    "total=0\n",
    "a1=a\n",
    "while i<n:\n",
    "    a1=a+a1*10\n",
    "    total=total+a1\n",
    "    i+=1\n",
    "print(total+a)\n",
    "    "
   ]
  },
  {
   "cell_type": "code",
   "execution_count": 14,
   "metadata": {
    "collapsed": false,
    "deletable": true,
    "editable": true
   },
   "outputs": [
    {
     "name": "stdout",
     "output_type": "stream",
     "text": [
      "现在让电脑在100~1000见选定一个数作为神秘整数的上界\n",
      "上界是 771\n",
      "请输入想让电脑猜的数字\n",
      "500\n",
      "电脑第 1 次猜的数是 701\n",
      "一共可以猜 9 次\n",
      "已经猜了 1 次\n",
      "抱歉，你猜大了\n",
      "电脑第 2 次猜的数是 26\n",
      "一共可以猜 9 次\n",
      "已经猜了 2 次\n",
      "抱歉，你猜小了\n",
      "电脑第 3 次猜的数是 256\n",
      "一共可以猜 9 次\n",
      "已经猜了 3 次\n",
      "抱歉，你猜小了\n",
      "电脑第 4 次猜的数是 340\n",
      "一共可以猜 9 次\n",
      "已经猜了 4 次\n",
      "抱歉，你猜小了\n",
      "电脑第 5 次猜的数是 511\n",
      "一共可以猜 9 次\n",
      "已经猜了 5 次\n",
      "抱歉，你猜大了\n",
      "电脑第 6 次猜的数是 584\n",
      "一共可以猜 9 次\n",
      "已经猜了 6 次\n",
      "抱歉，你猜大了\n",
      "电脑第 7 次猜的数是 690\n",
      "一共可以猜 9 次\n",
      "已经猜了 7 次\n",
      "抱歉，你猜大了\n",
      "电脑第 8 次猜的数是 44\n",
      "一共可以猜 9 次\n",
      "已经猜了 8 次\n",
      "抱歉，你猜小了\n",
      "电脑第 9 次猜的数是 325\n",
      "一共可以猜 9 次\n",
      "已经猜了 9 次\n",
      "抱歉，你猜小了\n",
      "哈哈哈，电脑你输了\n"
     ]
    }
   ],
   "source": [
    "#挑战性练习：将猜数游戏改成由用户随便选择一个整数，让计算机来猜测的猜数游戏。\n",
    "def guessgame():\n",
    "    import random,math\n",
    "    print('现在让电脑在100~1000见选定一个数作为神秘整数的上界')\n",
    "    n1 = random.randint(100,1000)\n",
    "    print('上界是',n1)\n",
    "    print('请输入想让电脑猜的数字')\n",
    "    n2 = int(input())\n",
    "    maxtimes = math.ceil(math.log(n2, 2))\n",
    "    guesstimes = 0\n",
    "    \n",
    "    while guesstimes < maxtimes:\n",
    "        guess = random.randint(0,n1)\n",
    "        print('电脑第',guesstimes+1,'次猜的数是',guess)\n",
    "        guesstimes += 1\n",
    "        print('一共可以猜', maxtimes, '次')\n",
    "        print('已经猜了', guesstimes, '次')\n",
    "        \n",
    "        if guess == n2:\n",
    "            win()\n",
    "            print('神秘数字是：', guess)\n",
    "            print('你比标准次数少', maxtimes-guesstimes, '次')\n",
    "            break  \n",
    "        elif guess>n2:\n",
    "            print('抱歉，你猜大了')\n",
    "        else:\n",
    "            print('抱歉，你猜小了')\n",
    "    print('哈哈哈，电脑你输了')\n",
    "guessgame()\n",
    "            "
   ]
  },
  {
   "cell_type": "code",
   "execution_count": null,
   "metadata": {
    "collapsed": true,
    "deletable": true,
    "editable": true
   },
   "outputs": [],
   "source": []
  }
 ],
 "metadata": {
  "kernelspec": {
   "display_name": "Python 3",
   "language": "python",
   "name": "python3"
  },
  "language_info": {
   "codemirror_mode": {
    "name": "ipython",
    "version": 3
   },
   "file_extension": ".py",
   "mimetype": "text/x-python",
   "name": "python",
   "nbconvert_exporter": "python",
   "pygments_lexer": "ipython3",
   "version": "3.6.0"
  }
 },
 "nbformat": 4,
 "nbformat_minor": 2
}
