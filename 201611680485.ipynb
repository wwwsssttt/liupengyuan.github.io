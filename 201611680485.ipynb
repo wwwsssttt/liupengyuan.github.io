{
 "cells": [
  {
   "cell_type": "code",
   "execution_count": 1,
   "metadata": {
    "collapsed": false
   },
   "outputs": [
    {
     "name": "stdout",
     "output_type": "stream",
     "text": [
      "请输入第一个整数，以回车结束。2\n",
      "请输入第二个整数，以回车结束。3\n",
      "请输入第三个整数，以回车结束。4\n",
      "最终的和是 32\n"
     ]
    }
   ],
   "source": [
    "def computer_square(end):\n",
    "    i = 1\n",
    "    total_end = 1\n",
    "    while i < end:\n",
    "        i = i + 1\n",
    "        total_end = total_end * i\n",
    "        \n",
    "    return total_end\n",
    "\n",
    "m = int(input('请输入第一个整数，以回车结束。'))\n",
    "n = int(input('请输入第二个整数，以回车结束。'))\n",
    "k = int(input('请输入第三个整数，以回车结束。'))\n",
    "\n",
    "print('最终的和是', computer_square(m) + computer_square(n) + computer_square(k))\n"
   ]
  },
  {
   "cell_type": "code",
   "execution_count": 1,
   "metadata": {
    "collapsed": false
   },
   "outputs": [
    {
     "name": "stdout",
     "output_type": "stream",
     "text": [
      "最终的和是 -404023.1492139774\n"
     ]
    }
   ],
   "source": [
    "def computer_total(end):\n",
    "    i = 1\n",
    "    total_end = 1\n",
    "    while i < end:\n",
    "        total_end = total_end + -1 ** i *(1/(2*i)+1)\n",
    "        i = i + 1\n",
    "        \n",
    "    return total_end\n",
    "\n",
    "print('最终的和是', (computer_total(1000) + computer_total(100000))*4)"
   ]
  },
  {
   "cell_type": "code",
   "execution_count": null,
   "metadata": {
    "collapsed": false
   },
   "outputs": [],
   "source": [
    "def computer_total(x, y, z):\n",
    "    total =  x\n",
    "    x = x + z\n",
    "    while x < y:\n",
    "        total = total + x \n",
    "        x = x + z\n",
    "    return total\n",
    "\n",
    "m = int(input('请输入起始数字'))\n",
    "n = int(input('请输入终止数字'))\n",
    "k = int(input('请输入间隔大小'))\n",
    "\n",
    "print('和为', computer_total(m, n, k))"
   ]
  },
  {
   "cell_type": "code",
   "execution_count": 4,
   "metadata": {
    "collapsed": false
   },
   "outputs": [
    {
     "name": "stdout",
     "output_type": "stream",
     "text": [
      "请输入您的姓名,以回车结束。vivien\n",
      "请输入您的出生日期，月份和日之间以“.”隔开，以回车结束。1.08\n",
      "vivien 你是非常有性格的摩羯座\n"
     ]
    }
   ],
   "source": [
    "def define(day):\n",
    "    \n",
    "    if 1.20<=date<=2.18:\n",
    "        print(name, '你是非常有性格的水瓶座')\n",
    "\n",
    "    if 2.19<=date<=3.20:\n",
    "        print(name, '你是非常有性格的双鱼座')\n",
    "    \n",
    "    if 3.21<=date<=4.19:\n",
    "        print(name, '你是非常有性格的白羊座')\n",
    "    \n",
    "    if 4.20<=date<=5.20:\n",
    "        print(name, '你是非常有性格的金牛座')\n",
    "    \n",
    "    if 5.21<=date<=6.21:\n",
    "        print(name, '你是非常有性格的双子座')\n",
    "      \n",
    "    if 6.22<=date<=7.22:\n",
    "        print(name, '你是非常有性格的巨蟹座')\n",
    "    \n",
    "    if 7.23<=date<=8.22:\n",
    "        print(name, '你是非常有性格的狮子座')\n",
    "     \n",
    "    if 2.19<=date<=3.20:\n",
    "        print(name, '你是非常有性格的双鱼座')\n",
    "    \n",
    "    if 3.21<=day<=4.19:\n",
    "        print(name,'你是非常有性格的白羊座')\n",
    "    \n",
    "    if 4.20<=day<=5.20:\n",
    "        print(name, '你是非常有性格的金牛座')\n",
    "    \n",
    "    if 5.21<=day<=6.21:\n",
    "        print(name, '你是非常有性格的双子座')\n",
    "    \n",
    "    if 6.22<=day<=7.22:\n",
    "        print(name, '你是非常有性格的巨蟹座')\n",
    "    \n",
    "    if 7.23<=day<=8.22:\n",
    "        print(name, '你是非常有性格的狮子座')\n",
    "     \n",
    "    if 8.23<=day<=9.22:\n",
    "        print(name,'你是非常有性格的处女座')\n",
    "    \n",
    "    if 9.23<=day<=10.23:\n",
    "        print(name,'你是非常有性格的天秤座')\n",
    "    \n",
    "    if 10.24<=day<=11.22:\n",
    "        print(name, '你是非常有性格的天蝎座')\n",
    "    \n",
    "    if 11.23<=day<=12.21:\n",
    "        print(name,'你是非常有性格的射手座')\n",
    "    \n",
    "    if 12.22<=day or day<=1.19:\n",
    "        print(name,'你是非常有性格的摩羯座')\n",
    "    \n",
    "name = input('请输入您的姓名,以回车结束。')\n",
    "date = float(input('请输入您的出生日期，月份和日之间以“.”隔开，以回车结束。'))\n",
    "\n",
    "define(date)"
   ]
  },
  {
   "cell_type": "code",
   "execution_count": 5,
   "metadata": {
    "collapsed": false
   },
   "outputs": [
    {
     "name": "stdout",
     "output_type": "stream",
     "text": [
      "请输入当前pm2.5浓度，以回车结束5000\n",
      "请打开空气净化器，出门请戴口罩。\n"
     ]
    }
   ],
   "source": [
    "def define(pm):\n",
    "    if pm >= 500.0:\n",
    "        print('请打开空气净化器，出门请戴口罩。')\n",
    "    else:\n",
    "        print('空气质量良好！')\n",
    "        \n",
    "data = float(input('请输入当前pm2.5浓度，以回车结束'))\n",
    "define(data)"
   ]
  },
  {
   "cell_type": "code",
   "execution_count": null,
   "metadata": {
    "collapsed": true
   },
   "outputs": [],
   "source": [
    "def computer_total(x, y, z):\n",
    "    total =  x\n",
    "    x = x + z\n",
    "    while x < y:\n",
    "        total = total + x \n",
    "        x = x + z\n",
    "    return total\n",
    "\n",
    "m = int(input('请输入起始数字'))\n",
    "n = int(input('请输入终止数字'))\n",
    "k = int(input('请输入间隔大小'))\n",
    "\n",
    "print('和为', computer_total(m, n, k)"
   ]
  }
 ],
 "metadata": {
  "kernelspec": {
   "display_name": "Python 3",
   "language": "python",
   "name": "python3"
  },
  "language_info": {
   "codemirror_mode": {
    "name": "ipython",
    "version": 3
   },
   "file_extension": ".py",
   "mimetype": "text/x-python",
   "name": "python",
   "nbconvert_exporter": "python",
   "pygments_lexer": "ipython3",
   "version": "3.6.0"
  }
 },
 "nbformat": 4,
 "nbformat_minor": 2
}
