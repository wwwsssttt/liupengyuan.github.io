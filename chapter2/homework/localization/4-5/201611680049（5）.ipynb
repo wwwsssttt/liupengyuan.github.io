{
 "cells": [
  {
   "cell_type": "markdown",
   "metadata": {},
   "source": [
    "## 练习 1：求n个随机整数均值的平方根，整数范围在m与k之间。"
   ]
  },
  {
   "cell_type": "code",
   "execution_count": null,
   "metadata": {
    "collapsed": false
   },
   "outputs": [],
   "source": [
    "n = int(input('请输入你想取的整数的个数'))\n",
    "m = int(input('请输入取整范围的下限'))\n",
    "k = int(input('请输入取整范围的上限'))\n",
    "\n",
    "import random,math\n",
    "\n",
    "def get_num():\n",
    "    number = random.randint(m,k)\n",
    "    \n",
    "    return number\n",
    "\n",
    "i = 0\n",
    "total = 0\n",
    "while i < n:\n",
    "    total = total + get_num()\n",
    "    i = i + 1\n",
    "    print(get_num())\n",
    "\n",
    "average = total/n\n",
    "math.sqrt(average)"
   ]
  },
  {
   "cell_type": "markdown",
   "metadata": {},
   "source": [
    "## 练习 2：共n个随机整数，整数范围在m与k之间，求西格玛log(随机整数)及西格玛1/log(随机整数)"
   ]
  },
  {
   "cell_type": "code",
   "execution_count": null,
   "metadata": {
    "collapsed": false
   },
   "outputs": [],
   "source": [
    "n = int(input('请输入随机整数个数'))\n",
    "m = int(input('请输入取整范围的下限,不为1'))\n",
    "k = int(input('请输入取整范围的上限'))\n",
    "\n",
    "import random,math\n",
    "\n",
    "def get_num():\n",
    "    number = random.randint(m,k)\n",
    "    \n",
    "    return number\n",
    "\n",
    "i = 0\n",
    "total = 0\n",
    "while i < n:\n",
    "    total = total + math.log(get_num())\n",
    "    i = i + 1\n",
    "\n",
    "j = 0\n",
    "total_n = 0    \n",
    "while j < n:\n",
    "    total_n = total_n + 1/math.log(get_num())\n",
    "    j = j + 1\n",
    "    \n",
    "print(total)\n",
    "print(total_n)"
   ]
  },
  {
   "cell_type": "markdown",
   "metadata": {},
   "source": [
    "## 练习 3：写函数，求s=a+aa+aaa+aaaa+aa...a的值，其中a是[1,9]之间的随机整数。例如2+22+222+2222+22222(此时共有5个数相加)，几个数相加由键盘输入。"
   ]
  },
  {
   "cell_type": "code",
   "execution_count": null,
   "metadata": {
    "collapsed": true
   },
   "outputs": [],
   "source": [
    "import math,random\n",
    "n = int(input('请输入相加数字的个数，回车结束'))\n",
    "\n",
    "i = 0\n",
    "total = 0\n",
    "b = random.randint(1,9) \n",
    "a = b\n",
    "c = b\n",
    "print('a=',a)\n",
    "\n",
    "while i < n:\n",
    "    total= total + a\n",
    "    i = i + 1\n",
    "    a = a + c*10**i\n",
    "\n",
    "print('a + aa + aaa + aaaa....+a...a的值是：',total)"
   ]
  },
  {
   "cell_type": "markdown",
   "metadata": {},
   "source": [
    "## 挑战性练习：仿照task5，将猜数游戏改成由用户随便选择一个整数，让计算机来猜测的猜数游戏，要求和task5中人猜测的方法类似，但是人机角色对换，由人来判断猜测是大、小还是相等，请写出完整的猜数游戏。"
   ]
  },
  {
   "cell_type": "code",
   "execution_count": null,
   "metadata": {
    "collapsed": true
   },
   "outputs": [],
   "source": [
    "import math,random\n",
    "\n",
    "def win():\n",
    "    print('Congratulations!! You win')\n",
    "    \n",
    "def lose():\n",
    "    print('I am sorry.~~ You lose. You can try again')\n",
    "    \n",
    "def over():\n",
    "    print('Game over!')\n",
    "    \n",
    "def show_team():\n",
    "    print('Cindy.Zhang')\n",
    "    \n",
    "def show_instruction():\n",
    "    print('请玩家任意输入一个数字，由计算机来猜测。每猜测一次，玩家来判断数字大或小或等于输入数字，直到猜测次数用尽(猜测次数不定）。')\n",
    "\n",
    "def menu():\n",
    "    print('''=====游戏菜单=====\n",
    "                1. 游戏说明\n",
    "                2. 开始游戏\n",
    "                3. 退出游戏\n",
    "                4. 制作团队\n",
    "             =====游戏菜单=====''')\n",
    "    \n",
    "def inner_game1():\n",
    "    while judge == '大了':\n",
    "        print('计算机继续猜测')\n",
    "        guess = random.randint(0,guess)\n",
    "    print(guess)         \n",
    "\n",
    "def inner_game2():\n",
    "    while judge == '小了':\n",
    "        print('计算机继续猜测')\n",
    "        guess = random.randint(guess,n)\n",
    "    print(guess)\n",
    "        \n",
    "def guess_game():\n",
    "    n = int(input('请输入一个大于零的整数作为神秘数字的上界，以回车结束。'))\n",
    "    number = int(input('请输入一个整数，位于零到上界内，作为神秘数字，回车结束。'))\n",
    "    max_times = math.ceil(math.log(n,2))\n",
    "    guess_times = 0\n",
    "    \n",
    "    while guess_times <= max_times:\n",
    "        guess = random.randint(0,n)\n",
    "        guess_times += 1\n",
    "        print('一共可以猜', max_times, '次')\n",
    "        print('计算机已经猜了', guess_times, '次')\n",
    "        print(guess)\n",
    "        judge = input('请玩家输入判断，如：大了、小了、正确')\n",
    "        \n",
    "        if judge == '大了':\n",
    "            guess = random.randint(0,guess)\n",
    "            print(guess)\n",
    "            judge = input('请玩家输入判断，如：大了、小了、正确')\n",
    "        \n",
    "        elif judge == '小了':\n",
    "            guess = random.randint(guess,n)\n",
    "            print(guess)\n",
    "            judge = input('请玩家输入判断，如：大了、小了、正确')\n",
    "        \n",
    "        if judge == '正确':\n",
    "            win()\n",
    "            print('神秘数字是：', guess)\n",
    "            print('你比标准次数少', max_times-guess_times, '次')\n",
    "            break\n",
    "      \n",
    "    else:\n",
    "        print('神秘数字是：', number)\n",
    "        lose()\n",
    "        \n",
    "def main():\n",
    "    while True:\n",
    "        menu()\n",
    "        choice = int(input('请输入你的选择'))\n",
    "        if choice == 1:\n",
    "            show_instruction()\n",
    "        elif choice == 2:\n",
    "            guess_game()\n",
    "        elif choice == 3:\n",
    "            game_over()\n",
    "            break\n",
    "        else:\n",
    "            show_team()\n",
    "            \n",
    "if __name__ == '__main__':\n",
    "    main()"
   ]
  }
 ],
 "metadata": {
  "kernelspec": {
   "display_name": "Python 3",
   "language": "python",
   "name": "python3"
  },
  "language_info": {
   "codemirror_mode": {
    "name": "ipython",
    "version": 3
   },
   "file_extension": ".py",
   "mimetype": "text/x-python",
   "name": "python",
   "nbconvert_exporter": "python",
   "pygments_lexer": "ipython3",
   "version": "3.6.0"
  }
 },
 "nbformat": 4,
 "nbformat_minor": 2
}
