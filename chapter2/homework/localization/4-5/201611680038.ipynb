{
 "cells": [
  {
   "cell_type": "code",
   "execution_count": 2,
   "metadata": {
    "collapsed": false
   },
   "outputs": [
    {
     "name": "stdout",
     "output_type": "stream",
     "text": [
      "请输入整数个数3\n",
      "请输入随机整数的下限1\n",
      "请输入随即整数的上限5\n",
      "4\n",
      "2\n",
      "4\n",
      "这些数的和为： 10\n",
      "1.8257418583505538\n"
     ]
    }
   ],
   "source": [
    "### 求n个随机整数均值的平方根，整数范围在m与k之间。\n",
    "n = int(input('请输入整数个数'))\n",
    "m = int(input('请输入随机整数的下限'))\n",
    "k = int(input('请输入随即整数的上限'))\n",
    "i=0\n",
    "total=0\n",
    "\n",
    "while i<n:\n",
    "    import random\n",
    "    number = random.randint(m,k)\n",
    "    print(number)\n",
    "    total=total+number\n",
    "    i += 1\n",
    "    \n",
    "print('这些数的和为：',total)\n",
    "output = (total/n)**0.5\n",
    "\n",
    "print(output)\n",
    "\n"
   ]
  },
  {
   "cell_type": "code",
   "execution_count": 19,
   "metadata": {
    "collapsed": false
   },
   "outputs": [
    {
     "name": "stdout",
     "output_type": "stream",
     "text": [
      "请输入整数个数3\n",
      "请输入随机整数的上限1\n",
      "请输入随即整数的下限5\n",
      "2\n",
      "5\n",
      "3\n",
      "西格玛log(随机整数): 3.401197381662155\n",
      "西格玛1/log(随机整数): 2.974269202075413\n"
     ]
    }
   ],
   "source": [
    "###写函数，共n个随机整数，整数范围在m与k之间，（n,m,k由用户输入）。\n",
    "###求1：西格玛log(随机整数)，2：西格玛1/log(随机整数)\n",
    "\n",
    "import random , math\n",
    "\n",
    "n= int(input('请输入整数个数'))\n",
    "m= int(input('请输入随机整数的上限'))\n",
    "k= int(input('请输入随即整数的下限'))\n",
    "i=0\n",
    "total=0\n",
    "total2=0\n",
    "\n",
    "while i<n:\n",
    "    number = random.randint(m,k)\n",
    "    print(number)\n",
    "    total = total + math.log(number)\n",
    "    total2 = total2 + 1/ math.log(number)\n",
    "    i += 1\n",
    "\n",
    "print('西格玛log(随机整数):',total)\n",
    "print('西格玛1/log(随机整数):',total2)\n",
    "    \n",
    "    "
   ]
  },
  {
   "cell_type": "code",
   "execution_count": 20,
   "metadata": {
    "collapsed": false
   },
   "outputs": [
    {
     "name": "stdout",
     "output_type": "stream",
     "text": [
      "随机数为： 7\n",
      "请输入最后一个整数的最高位数：3\n",
      "861\n"
     ]
    }
   ],
   "source": [
    "#练习 3：写函数，求s=a+aa+aaa+aaaa+aa...a的值，其中a是[1,9]之间的随机整数。\n",
    "#例如2+22+222+2222+22222(此时共有5个数相加)，几个数相加由键盘输入。\n",
    "\n",
    "import random\n",
    "a = random.randint(1,9)\n",
    "print('随机数为：',a)\n",
    "\n",
    "n = int(input('请输入最后一个整数的最高位数：'))\n",
    "total = 0\n",
    "i = 0\n",
    "m = 0\n",
    "\n",
    "while i<n: \n",
    "    m = a + m*10\n",
    "    total = total + m\n",
    "    i += 1\n",
    "    \n",
    "print(total)\n",
    " \n"
   ]
  },
  {
   "cell_type": "markdown",
   "metadata": {},
   "source": []
  },
  {
   "cell_type": "code",
   "execution_count": null,
   "metadata": {
    "collapsed": false
   },
   "outputs": [
    {
     "name": "stdout",
     "output_type": "stream",
     "text": [
      "\n",
      "             欢迎来到王者荣耀\n",
      "            You are the hero\n",
      "             \n",
      "            =====游戏菜单=====\n",
      "               1. 游戏说明\n",
      "               2. 开始游戏\n",
      "               3. 退出游戏\n",
      "               4. 制作团队\n",
      "            =====游戏菜单=====\n",
      "            \n",
      "请输入你的选择1\n",
      "\n",
      "             ======instruction=======\n",
      "             赢过电脑吧！！\n",
      "             输入你最喜欢的数字，电脑来猜，由你来告诉电脑大了还是小了！！\n",
      "             有信心吗？？？\n",
      "             ======instruction=======\n",
      "          \n",
      "\n",
      "             欢迎来到王者荣耀\n",
      "            You are the hero\n",
      "             \n",
      "            =====游戏菜单=====\n",
      "               1. 游戏说明\n",
      "               2. 开始游戏\n",
      "               3. 退出游戏\n",
      "               4. 制作团队\n",
      "            =====游戏菜单=====\n",
      "            \n",
      "请输入你的选择2\n",
      "请输入一个大于0的整数，作为电脑猜数的上限，回车结束。100\n",
      "现在你可以输入你最喜欢的数字啦～～，记得回车结束呀！7\n",
      "一共可以猜 7 次\n",
      "电脑哥哥已经猜了 1 次\n",
      "电脑哥哥掐指一算就猜： 67\n",
      "\n",
      "               如果电脑猜大了，请扣1\n",
      "               如果电脑猜小了，请扣2\n",
      "               如果电脑猜对了，请扣666\n",
      "               \n",
      "快扣数！！！1\n",
      "一共可以猜 7 次\n",
      "电脑哥哥已经猜了 1 次\n",
      "一共可以猜 7 次\n",
      "电脑哥哥已经猜了 2 次\n",
      "电脑哥哥掐指一算就猜： 59\n",
      "\n",
      "               如果电脑猜大了，请扣1\n",
      "               如果电脑猜小了，请扣2\n",
      "               如果电脑猜对了，请扣666\n",
      "               \n",
      "快扣数！！！1\n",
      "一共可以猜 7 次\n",
      "电脑哥哥已经猜了 2 次\n",
      "一共可以猜 7 次\n",
      "电脑哥哥已经猜了 3 次\n",
      "电脑哥哥掐指一算就猜： 69\n",
      "\n",
      "               如果电脑猜大了，请扣1\n",
      "               如果电脑猜小了，请扣2\n",
      "               如果电脑猜对了，请扣666\n",
      "               \n",
      "快扣数！！！1\n",
      "一共可以猜 7 次\n",
      "电脑哥哥已经猜了 3 次\n",
      "一共可以猜 7 次\n",
      "电脑哥哥已经猜了 4 次\n",
      "电脑哥哥掐指一算就猜： 55\n",
      "\n",
      "               如果电脑猜大了，请扣1\n",
      "               如果电脑猜小了，请扣2\n",
      "               如果电脑猜对了，请扣666\n",
      "               \n",
      "快扣数！！！1\n",
      "一共可以猜 7 次\n",
      "电脑哥哥已经猜了 4 次\n",
      "一共可以猜 7 次\n",
      "电脑哥哥已经猜了 5 次\n",
      "电脑哥哥掐指一算就猜： 62\n",
      "\n",
      "               如果电脑猜大了，请扣1\n",
      "               如果电脑猜小了，请扣2\n",
      "               如果电脑猜对了，请扣666\n",
      "               \n",
      "快扣数！！！1\n",
      "一共可以猜 7 次\n",
      "电脑哥哥已经猜了 5 次\n",
      "一共可以猜 7 次\n",
      "电脑哥哥已经猜了 6 次\n",
      "电脑哥哥掐指一算就猜： 80\n",
      "\n",
      "               如果电脑猜大了，请扣1\n",
      "               如果电脑猜小了，请扣2\n",
      "               如果电脑猜对了，请扣666\n",
      "               \n",
      "快扣数！！！1\n",
      "一共可以猜 7 次\n",
      "电脑哥哥已经猜了 6 次\n",
      "一共可以猜 7 次\n",
      "电脑哥哥已经猜了 7 次\n",
      "电脑哥哥掐指一算就猜： 98\n",
      "\n",
      "               如果电脑猜大了，请扣1\n",
      "               如果电脑猜小了，请扣2\n",
      "               如果电脑猜对了，请扣666\n",
      "               \n",
      "快扣数！！！1\n",
      "一共可以猜 7 次\n",
      "电脑哥哥已经猜了 7 次\n",
      "一共可以猜 7 次\n",
      "电脑哥哥已经猜了 8 次\n",
      "电脑哥哥掐指一算就猜： 22\n",
      "\n",
      "               如果电脑猜大了，请扣1\n",
      "               如果电脑猜小了，请扣2\n",
      "               如果电脑猜对了，请扣666\n",
      "               \n",
      "快扣数！！！1\n",
      "一共可以猜 7 次\n",
      "电脑哥哥已经猜了 8 次\n",
      "垃圾电脑毁我青春\n",
      "\n",
      "           ======恭喜你，你赢了=======\n",
      "           \n",
      "                   \n",
      "    ◤　　　　　　　　◥◣　　◢◤　　　　　　 █...  \n",
      "▎　　　◢█◣　　　◥◣◢◤　　 ◢█　　　█  \n",
      "◣　　◢◤　　◥◣　　　　　　 ◢◣◥◣　◢◤.  \n",
      "◥██◤　　◢◤　　　　　　　　　◥◣  \n",
      "　　　　　　█　●　　　　　　　●　█  \n",
      "　　　　　　█　〃　　　▄　　　〃　█  \n",
      "　　　　　　◥◣　　　╚╩╝　　　◢◤  \n",
      "　　　　　　　◥█▅▃▃　▃▃▅█◤  \n",
      "　　　　　　　　　◢◤　　　◥◣　  \n",
      "　　　　　　　　　█　　　　　█　  \n",
      "　　　　　　　　◢◤▕　　　▎◥◣  \n",
      "　　　　　　　▕▃◣◢▅▅▅◣◢▃\n",
      "          ======恭喜你，你赢了=======\n",
      "        \n",
      "\n",
      "             欢迎来到王者荣耀\n",
      "            You are the hero\n",
      "             \n",
      "            =====游戏菜单=====\n",
      "               1. 游戏说明\n",
      "               2. 开始游戏\n",
      "               3. 退出游戏\n",
      "               4. 制作团队\n",
      "            =====游戏菜单=====\n",
      "            \n"
     ]
    }
   ],
   "source": [
    "#挑战性练习：仿照task5，将猜数游戏改成由用户随便选择一个整数，让计算机来猜测的猜数游戏，要求和task5中人猜测的方法类似，\n",
    "#但是人机角色对换，由人来判断猜测是大、小还是相等，请写出完整的猜数游戏。\n",
    "\n",
    "import random,math\n",
    "\n",
    "def lose():\n",
    "    print(\n",
    "        '''\n",
    "           ======YOU LOSE=======\n",
    "           \n",
    "            へ　　　　　／|\n",
    "　　/＼7　　∠＿/\n",
    "　 /　│　　 ／　／\n",
    "　│　Z ＿,＜　／　　 /`ヽ\n",
    "　│　　　　　ヽ　　 /　　〉\n",
    "　 Y　　　　　`　 /　　/\n",
    "　ｲ●　､　●　　⊂⊃〈　　/\n",
    "　()　 へ　　　　|　＼〈\n",
    "　　>ｰ ､_　 ィ　 │ ／／\n",
    "　 / へ　　 /　ﾉ＜| ＼＼\n",
    "　 ヽ_ﾉ　　(_／　 │／／\n",
    "　　7　　　　　　　|／\n",
    "　　＞―r￣￣`ｰ―＿\n",
    "            ======YOU LOSE=======\n",
    "        '''\n",
    "    )\n",
    "   \n",
    "  \n",
    "\n",
    "def win():\n",
    "    print(\n",
    "        '''\n",
    "           ======恭喜你，你赢了=======\n",
    "           \n",
    "                   \n",
    "    ◤　　　　　　　　◥◣　　◢◤　　　　　　 █...  \n",
    "▎　　　◢█◣　　　◥◣◢◤　　 ◢█　　　█  \n",
    "◣　　◢◤　　◥◣　　　　　　 ◢◣◥◣　◢◤.  \n",
    "◥██◤　　◢◤　　　　　　　　　◥◣  \n",
    "　　　　　　█　●　　　　　　　●　█  \n",
    "　　　　　　█　〃　　　▄　　　〃　█  \n",
    "　　　　　　◥◣　　　╚╩╝　　　◢◤  \n",
    "　　　　　　　◥█▅▃▃　▃▃▅█◤  \n",
    "　　　　　　　　　◢◤　　　◥◣　  \n",
    "　　　　　　　　　█　　　　　█　  \n",
    "　　　　　　　　◢◤▕　　　▎◥◣  \n",
    "　　　　　　　▕▃◣◢▅▅▅◣◢▃\n",
    "          ======恭喜你，你赢了=======\n",
    "        '''\n",
    "     )\n",
    "\n",
    "def welcome():\n",
    "    print(\n",
    "        '''\n",
    "           ======欢迎来到猜数游戏=======\n",
    "        \n",
    "                     /  \\     ,    ,\n",
    "           _._     _ |oo| _  / \\__/ \\\n",
    "    \n",
    "          _||||   ((/ () \\))   /   \\\n",
    "    \n",
    "          |||||/|  ( ==== )    |oo|    \n",
    "           \\____/  _`\\  /'_    /   \\\n",
    "    \n",
    "           /   /.-' /\\<>/\\ `\\.( () )_._      \n",
    "           |    `  /  \\/  \\  /`'--'////)\n",
    "            \\__,-'`|  |.  |\\/ |/\\/\\|\"\\\"` \n",
    "                   |  |.  | \\___/\\___/  \n",
    "                   |  |.  |   |    |\n",
    "          \n",
    "          ======欢迎来到猜数游戏=======\n",
    "        '''\n",
    "     )\n",
    "\n",
    "def game_over():\n",
    "    print(\n",
    "        '''\n",
    "           ======GAME OVER=======\n",
    "        \n",
    "             _________ \n",
    "            / ======= \\ \n",
    "           / __________\\ \n",
    "          | ___________ | \n",
    "          | | -       | | \n",
    "          | |         | | \n",
    "          | |_________| |________________ \n",
    "          \\=____________/                ) \n",
    "          / \"\"\"\"\"\"\"\"\"\"\" \\               / \n",
    "         / ::::::::::::: \\          =D-' \n",
    "        (_________________) \n",
    "\n",
    "       \n",
    "          ======GAME OVER=======\n",
    "        '''\n",
    "    )\n",
    "    \n",
    "def show_team():\n",
    "    print('''\n",
    "            ======I GOT 7=======\n",
    "            MY NAME IS PEPPER\n",
    "            I AM THE MOST LOVELY IN THE WORLD\n",
    "            kkkkkkkk\n",
    "            ======I GOT 7=======\n",
    "            '''\n",
    "         )\n",
    "def show_instruction():\n",
    "    print('''\n",
    "             ======instruction=======\n",
    "             赢过电脑吧！！\n",
    "             输入你最喜欢的数字，电脑来猜，由你来告诉电脑大了还是小了！！\n",
    "             有信心吗？？？\n",
    "             ======instruction=======\n",
    "          '''\n",
    "         )\n",
    "    \n",
    "def menu():\n",
    "    print('''\n",
    "             欢迎来到王者荣耀\n",
    "            You are the hero\n",
    "             \n",
    "            =====游戏菜单=====\n",
    "               1. 游戏说明\n",
    "               2. 开始游戏\n",
    "               3. 退出游戏\n",
    "               4. 制作团队\n",
    "            =====游戏菜单=====\n",
    "            '''\n",
    "         )\n",
    "    \n",
    "    \n",
    "def guess_game():\n",
    "    n = int(input('请输入一个大于0的整数，作为电脑猜数的上限，回车结束。'))\n",
    "    m = int(input('现在你可以输入你最喜欢的数字啦～～，记得回车结束呀！'))\n",
    "    max_times = math.ceil(math.log(n,2))\n",
    "    guess_times = 0\n",
    "    \n",
    "    while guess_times <= max_times:\n",
    "        number = random.randint(1,n)\n",
    "        guess_times += 1\n",
    "        print('一共可以猜',max_times,'次')\n",
    "        print('电脑哥哥已经猜了',guess_times,'次')\n",
    "        \n",
    "        print('电脑哥哥掐指一算就猜：',number)\n",
    "        \n",
    "        print('''\n",
    "               如果电脑猜大了，请扣1\n",
    "               如果电脑猜小了，请扣2\n",
    "               如果电脑猜对了，请扣666\n",
    "               '''\n",
    "             )\n",
    "        a = int(input('快扣数！！！'))\n",
    "        \n",
    "        if a==666:\n",
    "            win()\n",
    "            print('你快和电脑结婚吧！！！')\n",
    "            lose()\n",
    "            break\n",
    "        elif a==1:\n",
    "            print('一共可以猜',max_times,'次')\n",
    "            print('电脑哥哥已经猜了',guess_times,'次')\n",
    "        else:\n",
    "            print('一共可以猜',max_times,'次')\n",
    "            print('电脑哥哥已经猜了',guess_times,'次')\n",
    "\n",
    "    else:\n",
    "        print('垃圾电脑毁我青春')\n",
    "        win()\n",
    "\n",
    "def main():\n",
    "    while True:\n",
    "        menu()\n",
    "        choice = int(input('请输入你的选择'))\n",
    "        if choice == 1:\n",
    "            show_instruction()\n",
    "        elif choice == 2:\n",
    "            guess_game()\n",
    "        elif choice == 3:\n",
    "            game_over()\n",
    "            break\n",
    "        else:\n",
    "            show_team()\n",
    "\n",
    "if __name__ == '__main__':\n",
    "    main()\n",
    "    "
   ]
  },
  {
   "cell_type": "code",
   "execution_count": null,
   "metadata": {
    "collapsed": true
   },
   "outputs": [],
   "source": []
  },
  {
   "cell_type": "code",
   "execution_count": null,
   "metadata": {
    "collapsed": true
   },
   "outputs": [],
   "source": []
  },
  {
   "cell_type": "code",
   "execution_count": null,
   "metadata": {
    "collapsed": true
   },
   "outputs": [],
   "source": []
  },
  {
   "cell_type": "code",
   "execution_count": null,
   "metadata": {
    "collapsed": true
   },
   "outputs": [],
   "source": []
  },
  {
   "cell_type": "code",
   "execution_count": null,
   "metadata": {
    "collapsed": true
   },
   "outputs": [],
   "source": []
  },
  {
   "cell_type": "code",
   "execution_count": null,
   "metadata": {
    "collapsed": true
   },
   "outputs": [],
   "source": []
  },
  {
   "cell_type": "code",
   "execution_count": null,
   "metadata": {
    "collapsed": true
   },
   "outputs": [],
   "source": []
  },
  {
   "cell_type": "code",
   "execution_count": null,
   "metadata": {
    "collapsed": true
   },
   "outputs": [],
   "source": []
  },
  {
   "cell_type": "code",
   "execution_count": null,
   "metadata": {
    "collapsed": true
   },
   "outputs": [],
   "source": []
  },
  {
   "cell_type": "code",
   "execution_count": null,
   "metadata": {
    "collapsed": true
   },
   "outputs": [],
   "source": []
  },
  {
   "cell_type": "code",
   "execution_count": null,
   "metadata": {
    "collapsed": true
   },
   "outputs": [],
   "source": []
  },
  {
   "cell_type": "code",
   "execution_count": null,
   "metadata": {
    "collapsed": false
   },
   "outputs": [],
   "source": [
    "\n",
    "    \n"
   ]
  },
  {
   "cell_type": "code",
   "execution_count": null,
   "metadata": {
    "collapsed": true
   },
   "outputs": [],
   "source": []
  },
  {
   "cell_type": "code",
   "execution_count": null,
   "metadata": {
    "collapsed": true
   },
   "outputs": [],
   "source": []
  },
  {
   "cell_type": "code",
   "execution_count": null,
   "metadata": {
    "collapsed": true
   },
   "outputs": [],
   "source": []
  },
  {
   "cell_type": "code",
   "execution_count": null,
   "metadata": {
    "collapsed": true
   },
   "outputs": [],
   "source": []
  },
  {
   "cell_type": "code",
   "execution_count": null,
   "metadata": {
    "collapsed": true
   },
   "outputs": [],
   "source": []
  },
  {
   "cell_type": "code",
   "execution_count": null,
   "metadata": {
    "collapsed": true
   },
   "outputs": [],
   "source": []
  },
  {
   "cell_type": "code",
   "execution_count": null,
   "metadata": {
    "collapsed": true
   },
   "outputs": [],
   "source": []
  },
  {
   "cell_type": "code",
   "execution_count": null,
   "metadata": {
    "collapsed": true
   },
   "outputs": [],
   "source": []
  },
  {
   "cell_type": "code",
   "execution_count": null,
   "metadata": {
    "collapsed": true
   },
   "outputs": [],
   "source": []
  },
  {
   "cell_type": "code",
   "execution_count": null,
   "metadata": {
    "collapsed": true
   },
   "outputs": [],
   "source": []
  },
  {
   "cell_type": "code",
   "execution_count": null,
   "metadata": {
    "collapsed": true
   },
   "outputs": [],
   "source": []
  },
  {
   "cell_type": "code",
   "execution_count": null,
   "metadata": {
    "collapsed": true
   },
   "outputs": [],
   "source": []
  },
  {
   "cell_type": "code",
   "execution_count": null,
   "metadata": {
    "collapsed": true
   },
   "outputs": [],
   "source": []
  },
  {
   "cell_type": "code",
   "execution_count": null,
   "metadata": {
    "collapsed": false
   },
   "outputs": [],
   "source": []
  },
  {
   "cell_type": "code",
   "execution_count": null,
   "metadata": {
    "collapsed": true
   },
   "outputs": [],
   "source": []
  },
  {
   "cell_type": "code",
   "execution_count": null,
   "metadata": {
    "collapsed": true
   },
   "outputs": [],
   "source": []
  },
  {
   "cell_type": "code",
   "execution_count": null,
   "metadata": {
    "collapsed": true
   },
   "outputs": [],
   "source": []
  },
  {
   "cell_type": "code",
   "execution_count": null,
   "metadata": {
    "collapsed": true
   },
   "outputs": [],
   "source": []
  },
  {
   "cell_type": "code",
   "execution_count": null,
   "metadata": {
    "collapsed": true
   },
   "outputs": [],
   "source": []
  },
  {
   "cell_type": "code",
   "execution_count": null,
   "metadata": {
    "collapsed": true
   },
   "outputs": [],
   "source": []
  },
  {
   "cell_type": "code",
   "execution_count": null,
   "metadata": {
    "collapsed": true
   },
   "outputs": [],
   "source": []
  },
  {
   "cell_type": "code",
   "execution_count": null,
   "metadata": {
    "collapsed": true
   },
   "outputs": [],
   "source": []
  },
  {
   "cell_type": "code",
   "execution_count": null,
   "metadata": {
    "collapsed": true
   },
   "outputs": [],
   "source": []
  },
  {
   "cell_type": "code",
   "execution_count": null,
   "metadata": {
    "collapsed": true
   },
   "outputs": [],
   "source": []
  },
  {
   "cell_type": "code",
   "execution_count": null,
   "metadata": {
    "collapsed": true
   },
   "outputs": [],
   "source": []
  },
  {
   "cell_type": "code",
   "execution_count": null,
   "metadata": {
    "collapsed": true
   },
   "outputs": [],
   "source": []
  },
  {
   "cell_type": "code",
   "execution_count": null,
   "metadata": {
    "collapsed": true
   },
   "outputs": [],
   "source": []
  },
  {
   "cell_type": "code",
   "execution_count": null,
   "metadata": {
    "collapsed": true
   },
   "outputs": [],
   "source": []
  },
  {
   "cell_type": "code",
   "execution_count": null,
   "metadata": {
    "collapsed": true
   },
   "outputs": [],
   "source": []
  },
  {
   "cell_type": "code",
   "execution_count": null,
   "metadata": {
    "collapsed": true
   },
   "outputs": [],
   "source": []
  },
  {
   "cell_type": "code",
   "execution_count": null,
   "metadata": {
    "collapsed": true
   },
   "outputs": [],
   "source": []
  },
  {
   "cell_type": "code",
   "execution_count": null,
   "metadata": {
    "collapsed": true
   },
   "outputs": [],
   "source": []
  },
  {
   "cell_type": "code",
   "execution_count": null,
   "metadata": {
    "collapsed": true
   },
   "outputs": [],
   "source": []
  }
 ],
 "metadata": {
  "kernelspec": {
   "display_name": "Python 3",
   "language": "python",
   "name": "python3"
  },
  "language_info": {
   "codemirror_mode": {
    "name": "ipython",
    "version": 3
   },
   "file_extension": ".py",
   "mimetype": "text/x-python",
   "name": "python",
   "nbconvert_exporter": "python",
   "pygments_lexer": "ipython3",
   "version": "3.6.0"
  }
 },
 "nbformat": 4,
 "nbformat_minor": 2
}
