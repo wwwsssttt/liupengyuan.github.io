{
 "cells": [
  {
   "cell_type": "code",
   "execution_count": 1,
   "metadata": {
    "collapsed": false
   },
   "outputs": [
    {
     "name": "stdout",
     "output_type": "stream",
     "text": [
      "请输入要输入的整数的个数，回车结束：3\n",
      "请输入起始的整数，回车结束：1\n",
      "请输入末尾的整数，回车结束：100\n",
      "6.733003292241386\n"
     ]
    }
   ],
   "source": [
    "#练习1\n",
    "import random\n",
    "import math\n",
    "def my_sum():\n",
    "    n = int(input(\"请输入要输入的整数的个数，回车结束：\"))\n",
    "    m = int(input(\"请输入起始的整数，回车结束：\"))\n",
    "    k = int(input(\"请输入末尾的整数，回车结束：\"))\n",
    "    i = 0\n",
    "    total = 0\n",
    "    while i < n:\n",
    "        num = random.randint(m,k)\n",
    "        total += num\n",
    "        i += 1\n",
    "    return (math.sqrt(total/n*1.0)) \n",
    "\n",
    "\n",
    "a=my_sum()\n",
    "print(a)\n"
   ]
  },
  {
   "cell_type": "code",
   "execution_count": 1,
   "metadata": {
    "collapsed": false
   },
   "outputs": [
    {
     "name": "stdout",
     "output_type": "stream",
     "text": [
      "请输入要输入的整数的个数，回车结束：4\n",
      "请输入起始的整数，回车结束：1\n",
      "请输入末尾的整数，回车结束：100\n",
      "(13.86530022246679, -13.86530022246679)\n"
     ]
    }
   ],
   "source": [
    "#练习2\n",
    "import random\n",
    "import math\n",
    "def my_sum():\n",
    "    n = int(input(\"请输入要输入的整数的个数，回车结束：\"))\n",
    "    m = int(input(\"请输入起始的整数，回车结束：\"))\n",
    "    k = int(input(\"请输入末尾的整数，回车结束：\"))\n",
    "    i = 0\n",
    "    total_a = 0\n",
    "    total_b = 0\n",
    "    while i < n:\n",
    "        num = random.randint(m,k)\n",
    "        a = math.log(num)\n",
    "        b = -a\n",
    "        total_a += a\n",
    "        total_b += b\n",
    "        i += 1\n",
    "    return(total_a,total_b)\n",
    "    \n",
    "x = my_sum()\n",
    "print(x)\n"
   ]
  },
  {
   "cell_type": "code",
   "execution_count": 1,
   "metadata": {
    "collapsed": false
   },
   "outputs": [
    {
     "name": "stdout",
     "output_type": "stream",
     "text": [
      "请输入任意一个整数作为神秘数，回车结束：8\n",
      "请输入猜测的次数，回车结束：3\n",
      "sorry，大了，大了！\n",
      "sorry，大了，大了！\n",
      "sorry，大了，大了！\n"
     ]
    }
   ],
   "source": [
    "#挑战性练习\n",
    "import random\n",
    "\n",
    "num = int(input(\"请输入任意一个整数作为神秘数，回车结束：\"))\n",
    "n = int(input(\"请输入猜测的次数，回车结束：\"))\n",
    "\n",
    "def guess_game():\n",
    "    i = 0\n",
    "    while i < n:\n",
    "        number = random.randint(1,1000000)\n",
    "        if number == num:\n",
    "            print(\"猜对了，你真棒！\")\n",
    "        elif number > num:\n",
    "            print(\"sorry，大了，大了！\")\n",
    "        else:\n",
    "            print(\"sorry,小了，小了！\")\n",
    "        i += 1\n",
    "        \n",
    "guess_game()  \n"
   ]
  },
  {
   "cell_type": "code",
   "execution_count": 1,
   "metadata": {
    "collapsed": true
   },
   "outputs": [],
   "source": [
    "#练习 3：写函数，求s=a+aa+aaa+aaaa+aa...a的值，其中a是[1,9]之间的随机整数。例如2+22+222+2222+22222(此时共有5个数相加)，几个数相加由键盘输入。"
   ]
  },
  {
   "cell_type": "code",
   "execution_count": 1,
   "metadata": {
    "collapsed": false
   },
   "outputs": [
    {
     "name": "stdout",
     "output_type": "stream",
     "text": [
      "请您输入要求和的数字的个数，以回车结束：4\n",
      "请随意输入一个数，以回车结束：2\n",
      "2468\n"
     ]
    }
   ],
   "source": [
    "import random\n",
    "def sum():\n",
    "    s = 0\n",
    "    i = 0\n",
    "    total = 0\n",
    "    n = int(input(\"请您输入要求和的数字的个数，以回车结束：\"))\n",
    "    a = int(input(\"请随意输入一个数，以回车结束：\"))\n",
    "    while i < n:\n",
    "        s += a*(10**i)\n",
    "        i += 1\n",
    "        total += s\n",
    "    return total\n",
    "\n",
    "x = sum()\n",
    "print(x)"
   ]
  },
  {
   "cell_type": "code",
   "execution_count": null,
   "metadata": {
    "collapsed": true
   },
   "outputs": [],
   "source": []
  },
  {
   "cell_type": "code",
   "execution_count": null,
   "metadata": {
    "collapsed": true
   },
   "outputs": [],
   "source": []
  }
 ],
 "metadata": {
  "kernelspec": {
   "display_name": "Python 3",
   "language": "python",
   "name": "python3"
  },
  "language_info": {
   "codemirror_mode": {
    "name": "ipython",
    "version": 3
   },
   "file_extension": ".py",
   "mimetype": "text/x-python",
   "name": "python",
   "nbconvert_exporter": "python",
   "pygments_lexer": "ipython3",
   "version": "3.6.0"
  }
 },
 "nbformat": 4,
 "nbformat_minor": 2
}
