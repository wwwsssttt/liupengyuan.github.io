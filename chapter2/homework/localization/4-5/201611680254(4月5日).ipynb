{
 "cells": [
  {
   "cell_type": "markdown",
   "metadata": {
    "deletable": true,
    "editable": true
   },
   "source": [
    "练习 1：求n个随机整数均值的平方根，整数范围在m与k之间。"
   ]
  },
  {
   "cell_type": "code",
   "execution_count": 2,
   "metadata": {
    "collapsed": false,
    "deletable": true,
    "editable": true
   },
   "outputs": [
    {
     "name": "stdout",
     "output_type": "stream",
     "text": [
      "请输入一个整数1\n",
      "请输入一个整数6\n",
      "请输入你想要输入的整数个数3\n",
      "2\n",
      "5\n",
      "3\n",
      "1.8257418583505538\n"
     ]
    }
   ],
   "source": [
    "m=int(input('请输入一个整数'))\n",
    "k=int(input('请再输入一个整数'))\n",
    "\n",
    "import random,math\n",
    "\n",
    "i=0\n",
    "total=0\n",
    "n=int(input('请输入你想要输入的整数个数'))\n",
    "\n",
    "while i<n:\n",
    "    i+=1\n",
    "    number=random.randint(m,k)\n",
    "    print(number)\n",
    "    total+=number\n",
    "else:\n",
    "    print(math.sqrt(total/n))"
   ]
  },
  {
   "cell_type": "markdown",
   "metadata": {
    "deletable": true,
    "editable": true
   },
   "source": [
    "练习 2：共n个随机整数，整数范围在m与k之间，求西格玛log(随机整数)及西格玛1/log(随机整数)"
   ]
  },
  {
   "cell_type": "code",
   "execution_count": 27,
   "metadata": {
    "collapsed": false,
    "deletable": true,
    "editable": true
   },
   "outputs": [
    {
     "name": "stdout",
     "output_type": "stream",
     "text": [
      "请输入一个整数4\n",
      "请再输入一个整数9\n",
      "请输入你想要输入的整数个数3\n",
      "7\n",
      "12.299208018387278\n",
      "4.767625691440893\n",
      "7\n",
      "12.299208018387278\n",
      "4.767625691440893\n",
      "5\n",
      "6.906890595608518\n",
      "3.695616722519895\n"
     ]
    }
   ],
   "source": [
    "import random,math\n",
    "m=int(input('请输入一个整数'))\n",
    "k=int(input('请再输入一个整数'))\n",
    "n=int(input('请输入你想要输入的整数个数'))\n",
    "\n",
    "i=0\n",
    "\n",
    "while i<n:\n",
    "    number=random.randint(m,k)\n",
    "    print(number)\n",
    "    i+=1  \n",
    "    log_number=math.log2(number)\n",
    "    p=0\n",
    "    total_log2=0\n",
    "    sum=0  \n",
    "    while p<number:\n",
    "        p+=1\n",
    "        total_log2+=math.log2(p)\n",
    "        if math.log2(p)!=0:\n",
    "            sum+=1/math.log(p)\n",
    " \n",
    "    print(total_log2)\n",
    "    print(sum)\n",
    "\n",
    "\n",
    "        \n",
    "    \n"
   ]
  },
  {
   "cell_type": "markdown",
   "metadata": {
    "deletable": true,
    "editable": true
   },
   "source": [
    "挑战性练习：将猜数游戏改成由用户随便选择一个整数，让计算机来猜测的猜数游戏。"
   ]
  },
  {
   "cell_type": "code",
   "execution_count": null,
   "metadata": {
    "collapsed": true
   },
   "outputs": [],
   "source": []
  },
  {
   "cell_type": "code",
   "execution_count": 2,
   "metadata": {
    "collapsed": false
   },
   "outputs": [
    {
     "name": "stdout",
     "output_type": "stream",
     "text": [
      "=====游戏菜单=====\n",
      "                1. 游戏说明\n",
      "                2. 开始游戏\n",
      "                3. 退出游戏\n",
      "                4. 制作团队\n",
      "             =====游戏菜单=====\n",
      "请输入你的选择1\n",
      "由用户自己输入整数\n",
      "             让计算机随机来猜测数字\n",
      "=====游戏菜单=====\n",
      "                1. 游戏说明\n",
      "                2. 开始游戏\n",
      "                3. 退出游戏\n",
      "                4. 制作团队\n",
      "             =====游戏菜单=====\n",
      "请输入你的选择2\n",
      "请输入一个整数,范围为0~100之间45\n",
      "请输入可猜测的次数10\n",
      "计算机一共可以猜 10 次\n",
      "它已经猜了 1 次\n",
      "计算机猜大了，它猜成了 93\n",
      "计算机一共可以猜 10 次\n",
      "它已经猜了 2 次\n",
      "计算机猜小了，它猜成了 24\n",
      "计算机一共可以猜 10 次\n",
      "它已经猜了 3 次\n",
      "计算机猜小了，它猜成了 37\n",
      "计算机一共可以猜 10 次\n",
      "它已经猜了 4 次\n",
      "计算机猜小了，它猜成了 31\n",
      "计算机一共可以猜 10 次\n",
      "它已经猜了 5 次\n",
      "计算机猜大了，它猜成了 99\n",
      "计算机一共可以猜 10 次\n",
      "它已经猜了 6 次\n",
      "计算机猜大了，它猜成了 60\n",
      "计算机一共可以猜 10 次\n",
      "它已经猜了 7 次\n",
      "计算机猜小了，它猜成了 43\n",
      "计算机一共可以猜 10 次\n",
      "它已经猜了 8 次\n",
      "计算机猜小了，它猜成了 29\n",
      "计算机一共可以猜 10 次\n",
      "它已经猜了 9 次\n",
      "计算机猜大了，它猜成了 93\n",
      "计算机一共可以猜 10 次\n",
      "它已经猜了 10 次\n",
      "计算机猜大了，它猜成了 54\n",
      "计算机一共可以猜 10 次\n",
      "它已经猜了 11 次\n",
      "计算机猜大了，它猜成了 94\n",
      "神秘数字是： 45\n",
      "你赢了！果然人定胜机\n",
      "=====游戏菜单=====\n",
      "                1. 游戏说明\n",
      "                2. 开始游戏\n",
      "                3. 退出游戏\n",
      "                4. 制作团队\n",
      "             =====游戏菜单=====\n",
      "请输入你的选择4\n",
      "【producer:YYJ_IVY_BDH】\n",
      "=====游戏菜单=====\n",
      "                1. 游戏说明\n",
      "                2. 开始游戏\n",
      "                3. 退出游戏\n",
      "                4. 制作团队\n",
      "             =====游戏菜单=====\n",
      "请输入你的选择3\n",
      "欢迎下次再玩，大家一起来逗逗计算机\n"
     ]
    }
   ],
   "source": [
    "import random\n",
    "def menu():\n",
    "    print('''=====游戏菜单=====\n",
    "                1. 游戏说明\n",
    "                2. 开始游戏\n",
    "                3. 退出游戏\n",
    "                4. 制作团队\n",
    "             =====游戏菜单=====''')\n",
    "def show_instruction():\n",
    "    print('''由用户自己输入整数\n",
    "             让计算机随机来猜测数字''')\n",
    "def game_over():\n",
    "    print('欢迎下次再玩，大家一起来逗逗计算机')\n",
    "def lose():\n",
    "    print('你都可以被计算机看穿，哈哈哈哈')\n",
    "    \n",
    "def show_team():\n",
    "    print('【producer:YYJ_IVY_BDH】')\n",
    "def guess_game():\n",
    "    \n",
    "    n=int(input('请输入一个整数,范围为0~100之间'))\n",
    "    i=int(input('请输入可猜测的次数'))\n",
    "    times=0    \n",
    "\n",
    "    while times <= i:\n",
    "        number=random.randint(0,100)\n",
    "        times += 1\n",
    "        print('计算机一共可以猜',i, '次')\n",
    "        print('它已经猜了',times, '次')\n",
    "        if number==n:\n",
    "            lose()\n",
    "            print('神秘数字是：',n)\n",
    "            \n",
    "        elif number<n:\n",
    "            print('计算机猜小了，它猜成了',number)\n",
    "            number=random.randint(number,100)\n",
    "        elif number>n:\n",
    "            print('计算机猜大了，它猜成了',number)\n",
    "            number=random.randint(number,100)\n",
    "    else:\n",
    "        print('神秘数字是：',n)\n",
    "        print('你赢了！果然人定胜机')\n",
    "        \n",
    "\n",
    "\n",
    "\n",
    " #主函数 主体流程\n",
    "def main():\n",
    "    while True:\n",
    "        menu()\n",
    "        choice = int(input('请输入你的选择'))\n",
    "        if choice == 1:\n",
    "            show_instruction()\n",
    "        elif choice == 2:\n",
    "            guess_game()\n",
    "        elif choice == 3:\n",
    "            game_over()\n",
    "            break\n",
    "        else:\n",
    "            show_team()\n",
    "#主程序\n",
    "main()"
   ]
  },
  {
   "cell_type": "code",
   "execution_count": null,
   "metadata": {
    "collapsed": true
   },
   "outputs": [],
   "source": []
  }
 ],
 "metadata": {
  "kernelspec": {
   "display_name": "Python 3",
   "language": "python",
   "name": "python3"
  },
  "language_info": {
   "codemirror_mode": {
    "name": "ipython",
    "version": 3
   },
   "file_extension": ".py",
   "mimetype": "text/x-python",
   "name": "python",
   "nbconvert_exporter": "python",
   "pygments_lexer": "ipython3",
   "version": "3.6.0"
  }
 },
 "nbformat": 4,
 "nbformat_minor": 2
}
