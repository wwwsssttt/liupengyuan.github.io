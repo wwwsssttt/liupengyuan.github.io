{
 "cells": [
  {
   "cell_type": "code",
   "execution_count": 1,
   "metadata": {
    "collapsed": false
   },
   "outputs": [
    {
     "name": "stdout",
     "output_type": "stream",
     "text": [
      "请输入整数的个数3\n",
      "请输入整数的下限1\n",
      "请输入整数的上限20\n",
      "4\n",
      "5\n",
      "2\n",
      "1.9148542155126762\n"
     ]
    }
   ],
   "source": [
    "#1\n",
    "import random,math\n",
    "def total():\n",
    "    n=int(input('请输入整数的个数'))\n",
    "    m=int(input('请输入整数的下限'))\n",
    "    k=int(input('请输入整数的上限'))\n",
    "    i=0\n",
    "    total=0\n",
    "    while i<n:\n",
    "        number = random.randint(m,k)\n",
    "        print(number)\n",
    "        i=i+1\n",
    "        total=total+number\n",
    "        \n",
    "    return math.sqrt(total/n)\n",
    "    \n",
    "print(total())"
   ]
  },
  {
   "cell_type": "code",
   "execution_count": 2,
   "metadata": {
    "collapsed": false
   },
   "outputs": [
    {
     "name": "stdout",
     "output_type": "stream",
     "text": [
      "请输入整数的个数3\n",
      "请输入整数的下限1\n",
      "请输入整数的上限20\n",
      "5\n",
      "1\n",
      "11\n",
      "4.087462841250339\n"
     ]
    }
   ],
   "source": [
    "#2  1）\n",
    "import random,math\n",
    "def total():\n",
    "    n=int(input('请输入整数的个数'))\n",
    "    m=int(input('请输入整数的下限'))\n",
    "    k=int(input('请输入整数的上限'))\n",
    "    i=0\n",
    "    total=0\n",
    "    while i<n:\n",
    "        number = random.randint(m,k)\n",
    "        print(number)\n",
    "        i=i+1\n",
    "        total=total+number\n",
    "    \n",
    "    return math.log2(total)\n",
    "print(total())"
   ]
  },
  {
   "cell_type": "code",
   "execution_count": 3,
   "metadata": {
    "collapsed": false
   },
   "outputs": [
    {
     "name": "stdout",
     "output_type": "stream",
     "text": [
      "请输入整数的个数3\n",
      "请输入整数的下限1\n",
      "请输入整数的上限20\n",
      "17\n",
      "2\n",
      "9\n",
      "0.20801459767650948\n"
     ]
    }
   ],
   "source": [
    "#2   2）\n",
    "import random,math\n",
    "def total():\n",
    "    n=int(input('请输入整数的个数'))\n",
    "    m=int(input('请输入整数的下限'))\n",
    "    k=int(input('请输入整数的上限'))\n",
    "    i=0\n",
    "    total=0\n",
    "    while i<n:\n",
    "        number = random.randint(m,k)\n",
    "        print(number)\n",
    "        i=i+1\n",
    "        total=total+number\n",
    "    \n",
    "    return math.log2(total)\n",
    "print(1/total())"
   ]
  },
  {
   "cell_type": "code",
   "execution_count": null,
   "metadata": {
    "collapsed": true
   },
   "outputs": [],
   "source": [
    "#3\n",
    "import random\n",
    "def s():\n",
    "    n=int((input('请输入一个整数，作为加数的个数'))\n",
    "    a = random.randint(1,9)\n",
    "    k=a\n",
    "    i=0\n",
    "    s=0\n",
    "    while i<n:\n",
    "        s=s+a\n",
    "        a=a*10+k\n",
    "        i=i+1\n",
    "    return s()\n",
    "print(s())"
   ]
  },
  {
   "cell_type": "code",
   "execution_count": null,
   "metadata": {
    "collapsed": true
   },
   "outputs": [],
   "source": [
    "###\n",
    "import random\n",
    "def s():\n",
    "    n=int(input('请输入一个数字'))\n",
    "    s = random.randint(1,1000)\n",
    "    min=1\n",
    "    max=1000\n",
    "    print(s)\n",
    "    i=int(input('请输入，若s>n请输0，s<n请输1，相等输2'))\n",
    "    while True:\n",
    "        if i==0:\n",
    "            max=s\n",
    "        elif i==1:\n",
    "            min=s\n",
    "            print(s)\n",
    "        elif i==2:\n",
    "            print(s())\n",
    "        s=random.randint(min,max)\n",
    "        print(s)\n",
    "        i=int(input('请输入'))\n",
    "    return s()\n",
    "print(s())"
   ]
  }
 ],
 "metadata": {
  "kernelspec": {
   "display_name": "Python 3",
   "language": "python",
   "name": "python3"
  },
  "language_info": {
   "codemirror_mode": {
    "name": "ipython",
    "version": 3
   },
   "file_extension": ".py",
   "mimetype": "text/x-python",
   "name": "python",
   "nbconvert_exporter": "python",
   "pygments_lexer": "ipython3",
   "version": "3.6.0"
  }
 },
 "nbformat": 4,
 "nbformat_minor": 2
}
