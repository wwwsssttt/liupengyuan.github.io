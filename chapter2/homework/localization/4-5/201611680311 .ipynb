{
 "cells": [
  {
   "cell_type": "code",
   "execution_count": 3,
   "metadata": {
    "collapsed": false
   },
   "outputs": [
    {
     "name": "stdout",
     "output_type": "stream",
     "text": [
      "请输入一个整数作为随机整数的个数。3\n",
      "下界1\n",
      "上界9\n",
      "5\n",
      "9\n",
      "1\n",
      "15\n"
     ]
    },
    {
     "data": {
      "text/plain": [
       "5.0"
      ]
     },
     "execution_count": 3,
     "metadata": {},
     "output_type": "execute_result"
    }
   ],
   "source": [
    "#练习1\n",
    "import random , math\n",
    "\n",
    "n=int(input('请输入随机整数的个数'))\n",
    "m=int(input('请输入随机整数的下界'))\n",
    "k=int(input('请输入随机整数的上界'))\n",
    "\n",
    "i=0\n",
    "total=0\n",
    "while i<n:\n",
    "    num=random.randint(m,k)\n",
    "    print(num)\n",
    "    i+=1\n",
    "    total+=num\n",
    "print(total)\n",
    "\n",
    "def average(total,n):\n",
    "    result=total/n\n",
    "    return result\n",
    "\n",
    "average(total,n)\n",
    "\n",
    "\n",
    "    "
   ]
  },
  {
   "cell_type": "code",
   "execution_count": 8,
   "metadata": {
    "collapsed": false
   },
   "outputs": [
    {
     "name": "stdout",
     "output_type": "stream",
     "text": [
      "请输入随机整数的个数3\n",
      "请输入随机整数的下界1\n",
      "请输入随机整数的上界9\n",
      "4\n",
      "5\n",
      "5\n",
      "1.6094379124341003\n",
      "0.6213349345596119\n"
     ]
    }
   ],
   "source": [
    "#练习2\n",
    "import random , math\n",
    "\n",
    "n=int(input('请输入随机整数的个数'))\n",
    "m=int(input('请输入随机整数的下界'))\n",
    "k=int(input('请输入随机整数的上界'))\n",
    "\n",
    "i=0\n",
    "total=0\n",
    "\n",
    "while i<n:\n",
    "    num=random.randint(m,k)\n",
    "    print(num)\n",
    "    i+=1\n",
    "    total_1=0\n",
    "    total_2=0\n",
    "    total_1+=math.log(num)\n",
    "    total_2+=1/math.log(num)\n",
    "\n",
    "print(total_1)\n",
    "print(total_2)\n",
    "    "
   ]
  },
  {
   "cell_type": "code",
   "execution_count": 15,
   "metadata": {
    "collapsed": false
   },
   "outputs": [
    {
     "name": "stdout",
     "output_type": "stream",
     "text": [
      "请输入一个大于0的整数作为上界。99\n",
      "请输入一个整数作为结果87\n",
      "26\n",
      "一共可以猜 7 次\n",
      "计算机已经猜了 1 次\n",
      "猜小了\n",
      "91\n",
      "一共可以猜 7 次\n",
      "计算机已经猜了 2 次\n",
      "猜大了\n",
      "43\n",
      "一共可以猜 7 次\n",
      "计算机已经猜了 3 次\n",
      "猜小了\n",
      "62\n",
      "一共可以猜 7 次\n",
      "计算机已经猜了 4 次\n",
      "猜小了\n",
      "57\n",
      "一共可以猜 7 次\n",
      "计算机已经猜了 5 次\n",
      "猜小了\n",
      "91\n",
      "一共可以猜 7 次\n",
      "计算机已经猜了 6 次\n",
      "猜大了\n",
      "99\n",
      "一共可以猜 7 次\n",
      "计算机已经猜了 7 次\n",
      "猜大了\n",
      "数字是： 87\n"
     ]
    }
   ],
   "source": [
    "#挑战性练习\n",
    "\n",
    "import random , math\n",
    "\n",
    "def guess_game():\n",
    "    n = int(input('请输入一个大于0的整数作为上界。'))\n",
    "    number=int(input('请输入一个整数作为结果'))\n",
    "    max_times = math.ceil(math.log2(n))\n",
    "    guess_times = 0\n",
    "    while guess_times < max_times:\n",
    "        guess = random.randint(1,n)\n",
    "        print(guess)\n",
    "        guess_times += 1\n",
    "        print('一共可以猜', max_times, '次')\n",
    "        print('计算机已经猜了', guess_times, '次')\n",
    "\n",
    "        if guess == number:\n",
    "            print('神秘数字是：', guess)\n",
    "            print('计算机比标准次数少', max_times-guess_times, '次')\n",
    "            break\n",
    "        elif guess > number:\n",
    "            print('猜大了')\n",
    "        else:\n",
    "            print('猜小了')\n",
    "    else:\n",
    "        print('数字是：', number)\n",
    "        \n",
    "guess_game()"
   ]
  },
  {
   "cell_type": "code",
   "execution_count": null,
   "metadata": {
    "collapsed": true
   },
   "outputs": [],
   "source": []
  },
  {
   "cell_type": "code",
   "execution_count": null,
   "metadata": {
    "collapsed": true
   },
   "outputs": [],
   "source": []
  }
 ],
 "metadata": {
  "kernelspec": {
   "display_name": "Python 3",
   "language": "python",
   "name": "python3"
  },
  "language_info": {
   "codemirror_mode": {
    "name": "ipython",
    "version": 3
   },
   "file_extension": ".py",
   "mimetype": "text/x-python",
   "name": "python",
   "nbconvert_exporter": "python",
   "pygments_lexer": "ipython3",
   "version": "3.6.0"
  }
 },
 "nbformat": 4,
 "nbformat_minor": 2
}
