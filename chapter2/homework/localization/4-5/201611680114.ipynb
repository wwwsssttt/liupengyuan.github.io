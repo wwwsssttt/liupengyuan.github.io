{
 "cells": [
  {
   "cell_type": "code",
   "execution_count": 31,
   "metadata": {
    "collapsed": false,
    "deletable": true,
    "editable": true
   },
   "outputs": [
    {
     "ename": "SyntaxError",
     "evalue": "EOL while scanning string literal (<ipython-input-31-b5f4f9c9c8cf>, line 3)",
     "output_type": "error",
     "traceback": [
      "\u001b[0;36m  File \u001b[0;32m\"<ipython-input-31-b5f4f9c9c8cf>\"\u001b[0;36m, line \u001b[0;32m3\u001b[0m\n\u001b[0;31m    \"游戏菜单,\u001b[0m\n\u001b[0m          ^\u001b[0m\n\u001b[0;31mSyntaxError\u001b[0m\u001b[0;31m:\u001b[0m EOL while scanning string literal\n"
     ]
    }
   ],
   "source": [
    "\n",
    "print('''\n",
    "           ==游戏菜单==\n",
    "           1.游戏说明\n",
    "           2.开始游戏 \n",
    "           3.退出游戏\n",
    "           4.制作团队\n",
    "           ==游戏菜单==\n",
    "           ''')\n",
    "\n",
    "\n",
    "\n"
   ]
  },
  {
   "cell_type": "code",
   "execution_count": 60,
   "metadata": {
    "collapsed": false,
    "deletable": true,
    "editable": true
   },
   "outputs": [],
   "source": [
    "import random\n",
    "def test1():\n",
    "    numb =random.randint(1,1000)\n",
    "    print(number)\n",
    "def test2():\n",
    "    numb =random.randint(10,100)\n",
    "    print(numb)\n",
    "test1()\n",
    "test2()"
   ]
  },
  {
   "cell_type": "code",
   "execution_count": 114,
   "metadata": {
    "collapsed": false,
    "deletable": true,
    "editable": true
   },
   "outputs": [
    {
     "name": "stdout",
     "output_type": "stream",
     "text": [
      "本段程序将为您提供自定义个数整数均值的平方根\n",
      "请输入一个数为整数范围下界1\n",
      "请再输入一个整数为整数范围上界19\n",
      "请输入您想要进行运算的整数个数2\n",
      "随机数为: 10\n",
      "随机数为: 16\n",
      "3.605551275463989\n"
     ]
    }
   ],
   "source": [
    "print(\"本段程序将为您提供自定义个数整数均值的平方根\")\n",
    "import random,math\n",
    "def hello():\n",
    "    m=int(input(\"请输入一个数为整数范围下界\"))\n",
    "    k=int(input(\"请再输入一个整数为整数范围上界\"))\n",
    "    n=int(input(\"请输入您想要进行运算的整数个数\"))\n",
    "    num=0\n",
    "    total=0\n",
    "    \n",
    "    while num<n:\n",
    "        num+=1\n",
    "        number=random.randint(m,k)\n",
    "        print(\"随机数为:\",number)\n",
    "        total+=number \n",
    "    a=total/num\n",
    "    print(math.sqrt(a))\n",
    "\n",
    "hello()    "
   ]
  },
  {
   "cell_type": "code",
   "execution_count": 11,
   "metadata": {
    "collapsed": false,
    "deletable": true,
    "editable": true
   },
   "outputs": [
    {
     "name": "stdout",
     "output_type": "stream",
     "text": [
      "本段程序将为您提供自定义个数整数运算\n",
      "请输入一个数为整数范围下界1\n",
      "请再输入一个整数为整数范围上界3\n",
      "请输入您想要进行运算的整数个数1\n",
      "1.进行西格玛log（）运算，2.西格玛1/log(随机整数)运算。 请选择你要进行的运算。2\n",
      "随机数为: 3\n",
      "0.9102392266268373\n"
     ]
    }
   ],
   "source": [
    "\n",
    "print(\"本段程序将为您提供自定义个数整数运算\")\n",
    "import random,math\n",
    "def hello():\n",
    "    m=int(input(\"请输入一个数为整数范围下界\"))\n",
    "    k=int(input(\"请再输入一个整数为整数范围上界\"))\n",
    "    n=int(input(\"请输入您想要进行运算的整数个数\"))\n",
    "    w=int(input(\"1.进行西格玛log（）运算，2.西格玛1/log(随机整数)运算。 请选择你要进行的运算。\"))\n",
    "    num=0\n",
    "    total=0\n",
    "    \n",
    "    while num<n:\n",
    "        num+=1\n",
    "        number=random.randint(m,k)\n",
    "        print(\"随机数为:\",number)\n",
    "        if w==1:\n",
    "            p=math.log(number)\n",
    "            total=total+p\n",
    "        elif w==2:\n",
    "            s=1/math.log(number)\n",
    "            total=total+s\n",
    "        else:\n",
    "            print(\"谢谢\")\n",
    "    print(total)\n",
    "\n",
    "hello()\n",
    "            \n",
    "      \n",
    "        \n"
   ]
  },
  {
   "cell_type": "code",
   "execution_count": 16,
   "metadata": {
    "collapsed": false
   },
   "outputs": [
    {
     "name": "stdout",
     "output_type": "stream",
     "text": [
      "求s=a+aa+aaa+aaaa+aa...a的值，其中a是[1,9]之间的随机整数。例如2+22+222+2222+22222(此时共有5个数相加)，几个数相加由您决定。\n",
      "7\n",
      "请输入您想要几个数相加2\n",
      "84\n"
     ]
    }
   ],
   "source": [
    "print(\"求s=a+aa+aaa+aaaa+aa...a的值，其中a是[1,9]之间的随机整数。例如2+22+222+2222+22222(此时共有5个数相加)，几个数相加由您决定。\")\n",
    "import random\n",
    "def hello():\n",
    "    a=random.randint(1,9)\n",
    "    print(a)\n",
    "    n=int(input(\"请输入您想要几个数相加\"))\n",
    "    num=0\n",
    "    total=0\n",
    "    while num<n:\n",
    "        m=(11**num)*a\n",
    "        num+=1\n",
    "        total=total+m\n",
    "    print(total)\n",
    "hello()\n",
    "        \n",
    "        \n",
    "    "
   ]
  },
  {
   "cell_type": "code",
   "execution_count": null,
   "metadata": {
    "collapsed": true
   },
   "outputs": [],
   "source": []
  }
 ],
 "metadata": {
  "kernelspec": {
   "display_name": "Python 3",
   "language": "python",
   "name": "python3"
  },
  "language_info": {
   "codemirror_mode": {
    "name": "ipython",
    "version": 3
   },
   "file_extension": ".py",
   "mimetype": "text/x-python",
   "name": "python",
   "nbconvert_exporter": "python",
   "pygments_lexer": "ipython3",
   "version": "3.6.0"
  }
 },
 "nbformat": 4,
 "nbformat_minor": 2
}
