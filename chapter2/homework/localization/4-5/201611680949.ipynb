{
 "cells": [
  {
   "cell_type": "code",
   "execution_count": 1,
   "metadata": {
    "collapsed": false,
    "deletable": true,
    "editable": true
   },
   "outputs": [
    {
     "name": "stdout",
     "output_type": "stream",
     "text": [
      "请输入整数数量：3\n",
      "请输入整数值的下界：1\n",
      "请输入整数值的上界：3\n",
      "整数均值的平方根： 1.8257418583505538\n"
     ]
    }
   ],
   "source": [
    "#练习1\n",
    "\n",
    "import random,math\n",
    "n=int(input('请输入整数数量：'))\n",
    "m=int(input('请输入整数值的下界：'))\n",
    "k=int(input('请输入整数值的上界：'))\n",
    "i=0\n",
    "total=0\n",
    "\n",
    "while i<=n:\n",
    "    number=random.randint(m,k)\n",
    "    total+=number\n",
    "    i+=1\n",
    "    \n",
    "print('整数均值的平方根：',math.sqrt(total/n))"
   ]
  },
  {
   "cell_type": "code",
   "execution_count": 1,
   "metadata": {
    "collapsed": false,
    "deletable": true,
    "editable": true
   },
   "outputs": [
    {
     "name": "stdout",
     "output_type": "stream",
     "text": [
      "请输入整数数量：3\n",
      "请输入整数值的下界：50\n",
      "请输入整数值的上界：100\n",
      "西格玛log(随机整数)为： 12.81835678203268\n",
      "西格玛1/log(随机整数)为： 0.6982819846027477\n"
     ]
    }
   ],
   "source": [
    "#练习2\n",
    "import random,math\n",
    "n=int(input('请输入整数数量：'))\n",
    "m=int(input('请输入整数值的下界：'))\n",
    "k=int(input('请输入整数值的上界：'))\n",
    "i=0\n",
    "total1=0\n",
    "total2=0\n",
    "\n",
    "while i<n:\n",
    "    total1+=math.log(random.randint(m,k))\n",
    "    total2+=(1/math.log(random.randint(m,k)))\n",
    "    i+=1\n",
    "    \n",
    "print('西格玛log(随机整数)为：',total1) \n",
    "print('西格玛1/log(随机整数)为：',total2)"
   ]
  },
  {
   "cell_type": "code",
   "execution_count": 3,
   "metadata": {
    "collapsed": false,
    "deletable": true,
    "editable": true
   },
   "outputs": [
    {
     "name": "stdout",
     "output_type": "stream",
     "text": [
      "请输入相加整数的个数：2\n",
      "77\n"
     ]
    }
   ],
   "source": [
    "#练习3\n",
    "\n",
    "import random\n",
    "n=int(input('请输入相加整数的个数：'))\n",
    "a=random.randint(1,9)\n",
    "i=0\n",
    "total=0\n",
    "\n",
    "while i<n:\n",
    "    total+=(10**i)*a\n",
    "    i+=1\n",
    "    \n",
    "print(total)\n",
    "\n"
   ]
  }
 ],
 "metadata": {
  "kernelspec": {
   "display_name": "Python 3",
   "language": "python",
   "name": "python3"
  },
  "language_info": {
   "codemirror_mode": {
    "name": "ipython",
    "version": 3
   },
   "file_extension": ".py",
   "mimetype": "text/x-python",
   "name": "python",
   "nbconvert_exporter": "python",
   "pygments_lexer": "ipython3",
   "version": "3.6.0"
  }
 },
 "nbformat": 4,
 "nbformat_minor": 2
}
