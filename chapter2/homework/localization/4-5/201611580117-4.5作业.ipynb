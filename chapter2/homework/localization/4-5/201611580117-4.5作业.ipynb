{
 "cells": [
  {
   "cell_type": "code",
   "execution_count": 2,
   "metadata": {
    "collapsed": false
   },
   "outputs": [
    {
     "name": "stdout",
     "output_type": "stream",
     "text": [
      "请输入随机整数的下界，以回车结束。2\n",
      "请输入随机整数的上界，以回车结束。10\n",
      "请输入随机整数的个数，以回车结束。2\n",
      "结果是 2.449489742783178\n"
     ]
    }
   ],
   "source": [
    "#练习1#\n",
    "import random,math\n",
    "def average(m,n):\n",
    "    result = m/n\n",
    "    return result\n",
    "m = int(input('请输入随机整数的下界，以回车结束。'))\n",
    "k = int(input('请输入随机整数的上界，以回车结束。'))\n",
    "n = int(input('请输入随机整数的个数，以回车结束。'))\n",
    "\n",
    "i = 0\n",
    "total = 0\n",
    "while i < n:\n",
    "    i += 1\n",
    "    total += random.randint(m,k)\n",
    "else:\n",
    "    print('结果是',math.sqrt(average(total,n)))"
   ]
  },
  {
   "cell_type": "code",
   "execution_count": 4,
   "metadata": {
    "collapsed": false
   },
   "outputs": [
    {
     "name": "stdout",
     "output_type": "stream",
     "text": [
      "请输入随机整数的下界，以回车结束。2\n",
      "请输入随机整数的上界，以回车结束。10\n",
      "请输入随机整数的个数，以回车结束。2\n",
      "西格玛log(随机整数)是： 0.6931471805599453\n",
      "西格玛1/log(随机整数)是： 0.6213349345596119\n",
      "西格玛log(随机整数)是： 1.3862943611198906\n",
      "西格玛1/log(随机整数)是： 0.48089834696298783\n"
     ]
    }
   ],
   "source": [
    "#练习2#\n",
    "import random,math\n",
    "m = int(input('请输入随机整数的下界，以回车结束。'))\n",
    "k = int(input('请输入随机整数的上界，以回车结束。'))\n",
    "n = int(input('请输入随机整数的个数，以回车结束。'))\n",
    "i = 0\n",
    "while i < n:\n",
    "    i += 1\n",
    "    print('西格玛log(随机整数)是：',math.log(random.randint(m,k)))\n",
    "    print('西格玛1/log(随机整数)是：',1/(math.log(random.randint(m,k))))\n"
   ]
  },
  {
   "cell_type": "code",
   "execution_count": null,
   "metadata": {
    "collapsed": false
   },
   "outputs": [
    {
     "name": "stdout",
     "output_type": "stream",
     "text": [
      "=====游戏菜单=====\n",
      "1. 游戏说明\n",
      "2. 开始游戏\n",
      "3. 退出游戏\n",
      "4. 制作团队\n",
      "=====游戏菜单=====\n",
      "请输入你的选择2\n",
      "请输入一个大于0的整数，作为神秘整数的上界，以回车结束。2000\n",
      "请在1-1000的范围内输入一个整数，以回车结束。250\n",
      "一共可以猜11次\n",
      "计算机已经猜了1次\n",
      "计算机本次猜的结果是： 922\n",
      "一共可以猜11次\n",
      "计算机已经猜了2次\n",
      "计算机本次猜的结果是： 30\n",
      "一共可以猜11次\n",
      "计算机已经猜了3次\n",
      "计算机本次猜的结果是： 872\n",
      "一共可以猜11次\n",
      "计算机已经猜了4次\n",
      "计算机本次猜的结果是： 148\n",
      "一共可以猜11次\n",
      "计算机已经猜了5次\n",
      "计算机本次猜的结果是： 258\n",
      "一共可以猜11次\n",
      "计算机已经猜了6次\n",
      "计算机本次猜的结果是： 179\n",
      "一共可以猜11次\n",
      "计算机已经猜了7次\n",
      "计算机本次猜的结果是： 228\n",
      "一共可以猜11次\n",
      "计算机已经猜了8次\n",
      "计算机本次猜的结果是： 245\n",
      "一共可以猜11次\n",
      "计算机已经猜了9次\n",
      "计算机本次猜的结果是： 247\n",
      "一共可以猜11次\n",
      "计算机已经猜了10次\n",
      "计算机本次猜的结果是： 256\n",
      "一共可以猜11次\n",
      "计算机已经猜了11次\n",
      "计算机本次猜的结果是： 247\n",
      "计算机没有在规定次数内猜对答案，恭喜你你赢了！\n",
      "\n",
      "           ======恭喜你，你赢了=======\n",
      "        \n",
      "    \n",
      "                .\"\".    .\"\",\n",
      "                |  |   /  /\n",
      "                |  |  /  /\n",
      "                |  | /  /\n",
      "                |  |/  ;-._ \n",
      "                }  ` _/  / ;\n",
      "                |  /` ) /  /\n",
      "                | /  /_/\\_/                |/  /      |\n",
      "                (  ' \\ '-  |\n",
      "                 \\    `.  /\n",
      "                  |      |\n",
      "                  |      |\n",
      "          \n",
      "          ======恭喜你，你赢了======= \n",
      "=====游戏菜单=====\n",
      "1. 游戏说明\n",
      "2. 开始游戏\n",
      "3. 退出游戏\n",
      "4. 制作团队\n",
      "=====游戏菜单=====\n"
     ]
    }
   ],
   "source": [
    "import random, math\n",
    "def main():\n",
    "    while True:\n",
    "        menu()\n",
    "        choice = int(input('请输入你的选择'))\n",
    "        if choice == 1:\n",
    "            show_instruction()\n",
    "        elif choice == 2:\n",
    "            guess_game()\n",
    "        elif choice == 3:\n",
    "            game_over()\n",
    "            break\n",
    "        else:\n",
    "            show_team()\n",
    "def menu():\n",
    "    print('''=====游戏菜单=====\n",
    "1. 游戏说明\n",
    "2. 开始游戏\n",
    "3. 退出游戏\n",
    "4. 制作团队\n",
    "=====游戏菜单=====''')\n",
    "def win():\n",
    "    print( '''\n",
    "           ======恭喜你，你赢了=======\n",
    "        \n",
    "    \n",
    "                .\"\".    .\"\",\n",
    "                |  |   /  /\n",
    "                |  |  /  /\n",
    "                |  | /  /\n",
    "                |  |/  ;-._ \n",
    "                }  ` _/  / ;\n",
    "                |  /` ) /  /\n",
    "                | /  /_/\\_/\\\n",
    "                |/  /      |\n",
    "                (  ' \\ '-  |\n",
    "                 \\    `.  /\n",
    "                  |      |\n",
    "                  |      |\n",
    "          \n",
    "          ======恭喜你，你赢了======= ''')\n",
    "def lose():\n",
    "    print( '''\n",
    "           ======YOU LOSE=======\n",
    "        \n",
    "    \n",
    "                \n",
    "\n",
    "                   .-\"      \"-.\n",
    "                  /            \\\n",
    "                 |              |\n",
    "                 |,  .-.  .-.  ,|\n",
    "                 | )(__/  \\__)( |\n",
    "                 |/     /\\     \\|\n",
    "       (@_       (_     ^^     _)\n",
    "  _     ) \\_______\\__|IIIIII|__/__________________________\n",
    " (_)@8@8{}<________|-\\IIIIII/-|___________________________>\n",
    "        )_/        \\          /\n",
    "       (@           `--------`\n",
    "       \n",
    "       \n",
    "       \n",
    "          ======YOU LOSE=======''')\n",
    "def game_over():\n",
    "    print('''\n",
    "           ======GAME OVER=======\n",
    "        \n",
    "             _________ \n",
    "            / ======= \\ \n",
    "           / __________\\ \n",
    "          | ___________ | \n",
    "          | | -       | | \n",
    "          | |         | | \n",
    "          | |_________| |________________ \n",
    "          \\=____________/                ) \n",
    "          / \"\"\"\"\"\"\"\"\"\"\" \\               / \n",
    "         / ::::::::::::: \\          =D-' \n",
    "        (_________________) \n",
    "\n",
    "       \n",
    "          ======GAME OVER=======''')\n",
    "def show_instruction():\n",
    "    print('请随便选择一个整数，由计算机来猜测，如果计算机在规定次数内猜中，则玩家输，反之，玩家赢')\n",
    "def show_team():\n",
    "    print('北语16翻译本地化')\n",
    "def guess_game():\n",
    "    m = 1\n",
    "    k = int(input('请输入一个大于0的整数，作为神秘整数的上界，以回车结束。'))\n",
    "    answer = int(input('请在1-1000的范围内输入一个整数，以回车结束。'))\n",
    "    guess_times = 0\n",
    "    max_times = math.ceil(math.log2(k))\n",
    "    while guess_times < max_times:\n",
    "        guess_times += 1\n",
    "        print('一共可以猜', max_times, '次', sep = '')\n",
    "        print('计算机已经猜了', guess_times, '次', sep = '')\n",
    "        now = random.randint(m,k)\n",
    "        print('计算机本次猜的结果是：',now)\n",
    "        if now == answer:\n",
    "            lose()\n",
    "        elif now > answer:\n",
    "            k = now\n",
    "        else:\n",
    "            m = now\n",
    "    else:\n",
    "        print('计算机没有在规定次数内猜对答案，恭喜你你赢了！')\n",
    "        win()\n",
    "\n",
    "        \n",
    "main()"
   ]
  },
  {
   "cell_type": "code",
   "execution_count": null,
   "metadata": {
    "collapsed": true
   },
   "outputs": [],
   "source": []
  },
  {
   "cell_type": "code",
   "execution_count": null,
   "metadata": {
    "collapsed": true
   },
   "outputs": [],
   "source": []
  },
  {
   "cell_type": "code",
   "execution_count": null,
   "metadata": {
    "collapsed": true
   },
   "outputs": [],
   "source": []
  },
  {
   "cell_type": "code",
   "execution_count": null,
   "metadata": {
    "collapsed": true
   },
   "outputs": [],
   "source": []
  },
  {
   "cell_type": "code",
   "execution_count": null,
   "metadata": {
    "collapsed": true
   },
   "outputs": [],
   "source": []
  },
  {
   "cell_type": "code",
   "execution_count": null,
   "metadata": {
    "collapsed": true
   },
   "outputs": [],
   "source": []
  },
  {
   "cell_type": "code",
   "execution_count": null,
   "metadata": {
    "collapsed": true
   },
   "outputs": [],
   "source": []
  },
  {
   "cell_type": "code",
   "execution_count": null,
   "metadata": {
    "collapsed": true
   },
   "outputs": [],
   "source": []
  },
  {
   "cell_type": "code",
   "execution_count": null,
   "metadata": {
    "collapsed": true
   },
   "outputs": [],
   "source": []
  },
  {
   "cell_type": "code",
   "execution_count": null,
   "metadata": {
    "collapsed": true
   },
   "outputs": [],
   "source": []
  },
  {
   "cell_type": "code",
   "execution_count": null,
   "metadata": {
    "collapsed": true
   },
   "outputs": [],
   "source": []
  },
  {
   "cell_type": "code",
   "execution_count": 20,
   "metadata": {
    "collapsed": false
   },
   "outputs": [],
   "source": []
  },
  {
   "cell_type": "code",
   "execution_count": null,
   "metadata": {
    "collapsed": true
   },
   "outputs": [],
   "source": []
  },
  {
   "cell_type": "code",
   "execution_count": null,
   "metadata": {
    "collapsed": true
   },
   "outputs": [],
   "source": []
  },
  {
   "cell_type": "code",
   "execution_count": null,
   "metadata": {
    "collapsed": true
   },
   "outputs": [],
   "source": []
  },
  {
   "cell_type": "code",
   "execution_count": null,
   "metadata": {
    "collapsed": true
   },
   "outputs": [],
   "source": []
  },
  {
   "cell_type": "code",
   "execution_count": null,
   "metadata": {
    "collapsed": true
   },
   "outputs": [],
   "source": []
  },
  {
   "cell_type": "code",
   "execution_count": null,
   "metadata": {
    "collapsed": true
   },
   "outputs": [],
   "source": []
  },
  {
   "cell_type": "code",
   "execution_count": null,
   "metadata": {
    "collapsed": true
   },
   "outputs": [],
   "source": []
  },
  {
   "cell_type": "code",
   "execution_count": null,
   "metadata": {
    "collapsed": true
   },
   "outputs": [],
   "source": []
  },
  {
   "cell_type": "code",
   "execution_count": null,
   "metadata": {
    "collapsed": true
   },
   "outputs": [],
   "source": []
  },
  {
   "cell_type": "code",
   "execution_count": null,
   "metadata": {
    "collapsed": true
   },
   "outputs": [],
   "source": []
  },
  {
   "cell_type": "code",
   "execution_count": null,
   "metadata": {
    "collapsed": true
   },
   "outputs": [],
   "source": []
  },
  {
   "cell_type": "code",
   "execution_count": null,
   "metadata": {
    "collapsed": true
   },
   "outputs": [],
   "source": []
  },
  {
   "cell_type": "code",
   "execution_count": null,
   "metadata": {
    "collapsed": true
   },
   "outputs": [],
   "source": []
  },
  {
   "cell_type": "code",
   "execution_count": null,
   "metadata": {
    "collapsed": true
   },
   "outputs": [],
   "source": []
  },
  {
   "cell_type": "code",
   "execution_count": null,
   "metadata": {
    "collapsed": true
   },
   "outputs": [],
   "source": []
  }
 ],
 "metadata": {
  "kernelspec": {
   "display_name": "Python 3",
   "language": "python",
   "name": "python3"
  },
  "language_info": {
   "codemirror_mode": {
    "name": "ipython",
    "version": 3
   },
   "file_extension": ".py",
   "mimetype": "text/x-python",
   "name": "python",
   "nbconvert_exporter": "python",
   "pygments_lexer": "ipython3",
   "version": "3.6.0"
  }
 },
 "nbformat": 4,
 "nbformat_minor": 2
}
