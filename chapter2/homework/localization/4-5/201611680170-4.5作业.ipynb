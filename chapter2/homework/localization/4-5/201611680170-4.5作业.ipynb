{
 "cells": [
  {
   "cell_type": "code",
   "execution_count": null,
   "metadata": {
    "collapsed": true,
    "deletable": true,
    "editable": true
   },
   "outputs": [],
   "source": [
    "练习 1：写函数，求n个随机整数均值的平方根，整数范围在m与k之间（n,m,k由用户输入）。"
   ]
  },
  {
   "cell_type": "code",
   "execution_count": 5,
   "metadata": {
    "collapsed": false,
    "deletable": true,
    "editable": true
   },
   "outputs": [
    {
     "name": "stdout",
     "output_type": "stream",
     "text": [
      "请输入大于0的整数，作为随机整数的个数，回车结束。4\n",
      "请输入一个整数，作为整数范围的起点，回车结束。1\n",
      "请输入一个整数，作为整数范围的终点，回车结束。3\n",
      "1.5\n"
     ]
    }
   ],
   "source": [
    "import random,math\n",
    "\n",
    "def square_root(n,m,k):\n",
    "    total=0\n",
    "    i=0\n",
    "    while i<=n:\n",
    "        num=random.randint(m,k)\n",
    "        i+=1\n",
    "        total=total+num\n",
    "        average=total/n\n",
    "        square_root=math.sqrt(average)\n",
    "        \n",
    "    return square_root\n",
    "    \n",
    "n=int(input('请输入大于0的整数，作为随机整数的个数，回车结束。'))\n",
    "m=int(input('请输入一个整数，作为整数范围的起点，回车结束。'))\n",
    "k=int(input('请输入一个整数，作为整数范围的终点，回车结束。'))\n",
    "print(square_root(n,m,k))"
   ]
  },
  {
   "cell_type": "code",
   "execution_count": null,
   "metadata": {
    "collapsed": true,
    "deletable": true,
    "editable": true
   },
   "outputs": [],
   "source": [
    "练习 2：写函数，共n个随机整数，整数范围在m与k之间，（n,m,k由用户输入）。求1：西格玛log(随机整数)，2：西格玛1/log(随机整数)"
   ]
  },
  {
   "cell_type": "code",
   "execution_count": 2,
   "metadata": {
    "collapsed": false,
    "deletable": true,
    "editable": true
   },
   "outputs": [
    {
     "name": "stdout",
     "output_type": "stream",
     "text": [
      "请输入随机整数的个数，回车结束。3\n",
      "请输入随机整数的下界，回车结束。2\n",
      "请输入随机整数的上界，回车结束。6\n",
      "西格玛log(随机整数)是: 1.791759469228055\n",
      "西格玛1/log(随机整数)是： 0.6213349345596119\n",
      "西格玛log(随机整数)是: 1.0986122886681098\n",
      "西格玛1/log(随机整数)是： 0.7213475204444817\n",
      "西格玛log(随机整数)是: 1.0986122886681098\n",
      "西格玛1/log(随机整数)是： 1.4426950408889634\n"
     ]
    }
   ],
   "source": [
    "import random,math\n",
    "\n",
    "n=int(input('请输入随机整数的个数，回车结束。'))\n",
    "m=int(input('请输入随机整数的下界，回车结束。'))\n",
    "k=int(input('请输入随机整数的上界，回车结束。'))\n",
    "\n",
    "i=0\n",
    "while i<n:\n",
    "    i+=1\n",
    "    print('西格玛log(随机整数)是:',math.log(random.randint(m,k)))\n",
    "    print('西格玛1/log(随机整数)是：',1/(math.log(random.randint(m,k))))"
   ]
  },
  {
   "cell_type": "code",
   "execution_count": null,
   "metadata": {
    "collapsed": true
   },
   "outputs": [],
   "source": [
    "挑战性练习：仿照task5，将猜数游戏改成由用户随便选择一个整数，让计算机来猜测的猜数游戏，要求和task5中人猜测的方法类似，但是人机角色对换，由人来判断猜测是大、小还是相等，请写出完整的猜数游戏。"
   ]
  },
  {
   "cell_type": "code",
   "execution_count": 2,
   "metadata": {
    "collapsed": false
   },
   "outputs": [
    {
     "name": "stdout",
     "output_type": "stream",
     "text": [
      "=====游戏菜单=====\n",
      "                1. 游戏说明\n",
      "                2. 开始游戏\n",
      "                3. 退出游戏\n",
      "                4. 制作团队\n",
      "             =====游戏菜单=====\n",
      "请输入你的选择，回车结束。3\n",
      "\n",
      "           ======GAME OVER=======\n",
      "        \n",
      "             _________ \n",
      "            / ======= \\ \n",
      "           / __________\\ \n",
      "          | ___________ | \n",
      "          | | -       | | \n",
      "          | |         | | \n",
      "          | |_________| |________________ \n",
      "          \\=____________/                ) \n",
      "          / \"\"\"\"\"\"\"\"\"\"\" \\               / \n",
      "         / ::::::::::::: \\          =D-' \n",
      "        (_________________) \n",
      "\n",
      "       \n",
      "          ======GAME OVER=======\n",
      "        \n"
     ]
    }
   ],
   "source": [
    "import random,math\n",
    "\n",
    "def menu():\n",
    "    print('''=====游戏菜单=====\n",
    "                1. 游戏说明\n",
    "                2. 开始游戏\n",
    "                3. 退出游戏\n",
    "                4. 制作团队\n",
    "             =====游戏菜单=====''')\n",
    "def win():\n",
    "    print(\n",
    "        '''\n",
    "           ======恭喜你，你赢了=======\n",
    "        \n",
    "    \n",
    "                .\"\".    .\"\",\n",
    "                |  |   /  /\n",
    "                |  |  /  /\n",
    "                |  | /  /\n",
    "                |  |/  ;-._ \n",
    "                }  ` _/  / ;\n",
    "                |  /` ) /  /\n",
    "                | /  /_/\\_/\\\n",
    "                |/  /      |\n",
    "                (  ' \\ '-  |\n",
    "                 \\    `.  /\n",
    "                  |      |\n",
    "                  |      |\n",
    "          \n",
    "          ======恭喜你，你赢了=======\n",
    "        '''\n",
    "    )\n",
    "def lose():\n",
    "    print(\n",
    "        '''\n",
    "           ======YOU LOSE=======\n",
    "        \n",
    "    \n",
    "                \n",
    "\n",
    "                   .-\"      \"-.\n",
    "                  /            \\\n",
    "                 |              |\n",
    "                 |,  .-.  .-.  ,|\n",
    "                 | )(__/  \\__)( |\n",
    "                 |/     /\\     \\|\n",
    "       (@_       (_     ^^     _)\n",
    "  _     ) \\_______\\__|IIIIII|__/__________________________\n",
    " (_)@8@8{}<________|-\\IIIIII/-|___________________________>\n",
    "        )_/        \\          /\n",
    "       (@           `--------`\n",
    "       \n",
    "       \n",
    "       \n",
    "          ======YOU LOSE=======\n",
    "        '''\n",
    "    )\n",
    "def show_instruction():\n",
    "    print('请玩家随便选择一个整数，由计算机来猜测，如果计算机在规定次数内猜中，则玩家输，反之，玩家赢。')\n",
    "def guess_game():\n",
    "    n = int(input('请输入一个大于0的整数，作为神秘整数的上界，回车结束。'))\n",
    "    number =int(input('请在1-1000内输入一个整数，作为计算机要猜测的整数，回车结束。'))\n",
    "    max_times = math.ceil(math.log2(n))\n",
    "    guess_times = 0\n",
    "    while guess_times <= max_times:\n",
    "        guess_times += 1\n",
    "        print('一共可以猜', max_times, '次')\n",
    "        print('计算机已经猜了', guess_times, '次')\n",
    "        computer_guess=random.randint(1,n)\n",
    "        if computer_guess==number:\n",
    "            lose()\n",
    "        elif computer_guess>number:\n",
    "            print('你猜大了！')\n",
    "        else:\n",
    "            print('你猜小了！')\n",
    "    else:\n",
    "        win()\n",
    "        print('计算机没能在规定次数内猜出来，恭喜玩家，你赢了！')\n",
    "def game_over():\n",
    "    print(\n",
    "        '''\n",
    "           ======GAME OVER=======\n",
    "        \n",
    "             _________ \n",
    "            / ======= \\ \n",
    "           / __________\\ \n",
    "          | ___________ | \n",
    "          | | -       | | \n",
    "          | |         | | \n",
    "          | |_________| |________________ \n",
    "          \\=____________/                ) \n",
    "          / \"\"\"\"\"\"\"\"\"\"\" \\               / \n",
    "         / ::::::::::::: \\          =D-' \n",
    "        (_________________) \n",
    "\n",
    "       \n",
    "          ======GAME OVER=======\n",
    "        '''\n",
    "    )\n",
    "def show_team():\n",
    "    print('北京语言大学16本地化')\n",
    "def main():\n",
    "    while True:\n",
    "        menu()\n",
    "        choice = int(input('请输入你的选择，回车结束。'))\n",
    "        if choice == 1:\n",
    "            show_instruction()\n",
    "        elif choice == 2:\n",
    "            guess_game()\n",
    "        elif choice == 3:\n",
    "            game_over()\n",
    "            break\n",
    "        else:\n",
    "            show_team()\n",
    "    \n",
    "main()"
   ]
  }
 ],
 "metadata": {
  "kernelspec": {
   "display_name": "Python 3",
   "language": "python",
   "name": "python3"
  },
  "language_info": {
   "codemirror_mode": {
    "name": "ipython",
    "version": 3
   },
   "file_extension": ".py",
   "mimetype": "text/x-python",
   "name": "python",
   "nbconvert_exporter": "python",
   "pygments_lexer": "ipython3",
   "version": "3.6.0"
  }
 },
 "nbformat": 4,
 "nbformat_minor": 2
}
