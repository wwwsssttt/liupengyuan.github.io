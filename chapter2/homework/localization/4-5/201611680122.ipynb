{
 "cells": [
  {
   "cell_type": "markdown",
   "metadata": {
    "deletable": true,
    "editable": true
   },
   "source": [
    "### 练习1：求n个随机整数均值的平方根，整数范围在m与k之间。"
   ]
  },
  {
   "cell_type": "code",
   "execution_count": 5,
   "metadata": {
    "collapsed": false,
    "deletable": true,
    "editable": true
   },
   "outputs": [
    {
     "name": "stdout",
     "output_type": "stream",
     "text": [
      "请输入你想求值的整数个数，回车键结束：3\n",
      "请输入随机整数范围的下界，回车键结束：3\n",
      "请输入随机整数范围的上界，回车键结束：36\n",
      "随机整数为: 8\n",
      "随机整数为: 11\n",
      "随机整数为: 13\n",
      "\n",
      "随机整数之和为: 32\n",
      "随机整数均值为: 10.666666666666666\n",
      "随机整数均值的平方根为: 3.265986323710904\n"
     ]
    }
   ],
   "source": [
    "# 此程序意在求n个随机整数均值的平方根，整数范围由用户确定\n",
    "# m为整数范围下界，k为整数范围上界\n",
    "\n",
    "import random,math\n",
    "\n",
    "def average():\n",
    "    n = int(input('请输入你想求值的整数个数，回车键结束：'))\n",
    "    m = int(input('请输入随机整数范围的下界，回车键结束：'))\n",
    "    k = int(input('请输入随机整数范围的上界，回车键结束：'))\n",
    "    i = 0\n",
    "    total = 0\n",
    "    \n",
    "    while i < n:\n",
    "        number = random.randint(m,k)\n",
    "        i += 1\n",
    "        total += number\n",
    "        print('随机整数为:',number)\n",
    "    \n",
    "    print()\n",
    "    print('随机整数之和为:',total)\n",
    "    \n",
    "    aver = total/n\n",
    "    print('随机整数均值为:',aver)\n",
    "    \n",
    "    square = math.sqrt(aver)\n",
    "    print('随机整数均值的平方根为:',square)\n",
    "    \n",
    "average()\n",
    "        "
   ]
  },
  {
   "cell_type": "markdown",
   "metadata": {
    "deletable": true,
    "editable": true
   },
   "source": [
    "### 练习2：求n个随机整数，整数范围在m与k之间，求西格玛log（随机整数）及西格玛1/log（随机整数）"
   ]
  },
  {
   "cell_type": "code",
   "execution_count": 4,
   "metadata": {
    "collapsed": false,
    "deletable": true,
    "editable": true
   },
   "outputs": [
    {
     "name": "stdout",
     "output_type": "stream",
     "text": [
      "请输入你想求值的整数个数，回车键结束：4\n",
      "请输入随机整数范围的下界，回车键结束：45\n",
      "请输入随机整数范围的上界，回车键结束：1318\n",
      "随即整数为： 1199\n",
      "随机整数的对数为： 7.089243155027514\n",
      "随机整数的对数的倒数为： 0.1410587813299682\n",
      "\n",
      "随即整数为： 1230\n",
      "随机整数的对数为： 7.114769448366463\n",
      "随机整数的对数的倒数为： 0.14055269215077631\n",
      "\n",
      "随即整数为： 831\n",
      "随机整数的对数为： 6.7226297948554485\n",
      "随机整数的对数的倒数为： 0.14875131169133526\n",
      "\n",
      "随即整数为： 1072\n",
      "随机整数的对数为： 6.977281341630747\n",
      "随机整数的对数的倒数为： 0.14332229861986295\n",
      "\n",
      "随机整数的对数之和为： 27.903923739880174\n",
      "随机整数的对数的倒数之和为 0.5736850837919427\n"
     ]
    }
   ],
   "source": [
    "# 此程序旨在求由用户指定个数及整数范围的随机整数的对数之和，以及对数的倒数之和\n",
    "# 此程序中的n为整数个数，m为整数范围下界，k为整数范围上界\n",
    "\n",
    "\n",
    "import random,math\n",
    "\n",
    "def my_sum():\n",
    "    n = int(input('请输入你想求值的整数个数，回车键结束：'))\n",
    "    m = int(input('请输入随机整数范围的下界，回车键结束：'))\n",
    "    k = int(input('请输入随机整数范围的上界，回车键结束：'))\n",
    "    i = 0\n",
    "    log = 0\n",
    "    anti_log = 0\n",
    "    total = 0\n",
    "    anti_total = 0 \n",
    "    \n",
    "    while i < n:\n",
    "        number = random.randint(m,k)\n",
    "        i += 1\n",
    "        log = math.log(number)\n",
    "        anti_log = 1/math.log(number)\n",
    "        total += log\n",
    "        anti_total += anti_log\n",
    "        \n",
    "        print('随即整数为：',number)\n",
    "        print('随机整数的对数为：',log)\n",
    "        print('随机整数的对数的倒数为：',anti_log)\n",
    "        print()\n",
    "        \n",
    "    print('随机整数的对数之和为：',total)\n",
    "    print('随机整数的对数的倒数之和为',anti_total)\n",
    "\n",
    "my_sum()\n",
    "\n",
    "        "
   ]
  },
  {
   "cell_type": "markdown",
   "metadata": {
    "deletable": true,
    "editable": true
   },
   "source": [
    "### 挑战性练习：将猜数游戏改成由用户随便选择一个整数，让计算机来猜测的猜数游戏"
   ]
  },
  {
   "cell_type": "code",
   "execution_count": 7,
   "metadata": {
    "collapsed": false,
    "deletable": true,
    "editable": true
   },
   "outputs": [
    {
     "name": "stdout",
     "output_type": "stream",
     "text": [
      "n=690\n",
      "请输入一个大于0小于n的整数，作为你选定的整数，回车键结束：205\n",
      "307\n",
      "一共可以猜10次\n",
      "计算机已经猜了1次\n",
      "计算机猜大了\n",
      "396\n",
      "一共可以猜10次\n",
      "计算机已经猜了2次\n",
      "计算机猜大了\n",
      "415\n",
      "一共可以猜10次\n",
      "计算机已经猜了3次\n",
      "计算机猜大了\n",
      "379\n",
      "一共可以猜10次\n",
      "计算机已经猜了4次\n",
      "计算机猜大了\n",
      "233\n",
      "一共可以猜10次\n",
      "计算机已经猜了5次\n",
      "计算机猜大了\n",
      "237\n",
      "一共可以猜10次\n",
      "计算机已经猜了6次\n",
      "计算机猜大了\n",
      "592\n",
      "一共可以猜10次\n",
      "计算机已经猜了7次\n",
      "计算机猜大了\n",
      "579\n",
      "一共可以猜10次\n",
      "计算机已经猜了8次\n",
      "计算机猜大了\n",
      "190\n",
      "一共可以猜10次\n",
      "计算机已经猜了9次\n",
      "计算机猜小了\n",
      "25\n",
      "一共可以猜10次\n",
      "计算机已经猜了10次\n",
      "计算机猜小了\n",
      "379\n",
      "一共可以猜10次\n",
      "计算机已经猜了11次\n",
      "计算机猜大了\n",
      "选定数字是： 205\n"
     ]
    }
   ],
   "source": [
    "import random , math\n",
    "\n",
    "def computer_guess():\n",
    "    n = random.randint(1, 999)    #n作为计算机限定的所猜测的神秘整数的上界\n",
    "    print('n=',n,sep='')\n",
    "    number = int(input('请输入一个大于0小于n的整数，作为你选定的整数，回车键结束：'))\n",
    "    max_times = math.ceil(math.log2(n))\n",
    "    guess_times = 0\n",
    "    \n",
    "    while guess_times <= max_times:\n",
    "        guess = random.randint(1,n)\n",
    "        print(guess)\n",
    "        guess_times += 1\n",
    "        print('一共可以猜', max_times, '次',sep='')\n",
    "        print('计算机已经猜了', guess_times, '次',sep='')\n",
    "        \n",
    "        if guess == number:\n",
    "            print('你选定的数字是：', guess)\n",
    "            print('计算机比标准次数少', max_times-guess_times, '次')\n",
    "            break\n",
    "        elif guess > number:\n",
    "            print('计算机猜大了')\n",
    "        else:\n",
    "            print('计算机猜小了')\n",
    "            \n",
    "    else:\n",
    "        print('选定数字是：',number)\n",
    "        \n",
    "computer_guess()"
   ]
  }
 ],
 "metadata": {
  "kernelspec": {
   "display_name": "Python 3",
   "language": "python",
   "name": "python3"
  },
  "language_info": {
   "codemirror_mode": {
    "name": "ipython",
    "version": 3
   },
   "file_extension": ".py",
   "mimetype": "text/x-python",
   "name": "python",
   "nbconvert_exporter": "python",
   "pygments_lexer": "ipython3",
   "version": "3.6.0"
  }
 },
 "nbformat": 4,
 "nbformat_minor": 2
}
