{
 "cells": [
  {
   "cell_type": "markdown",
   "metadata": {},
   "source": [
    "    练习 1：写函数，求n个随机整数均值的平方根，整数范围在m与k之间（n,m,k由用户输入）。"
   ]
  },
  {
   "cell_type": "code",
   "execution_count": 4,
   "metadata": {
    "collapsed": false
   },
   "outputs": [
    {
     "name": "stdout",
     "output_type": "stream",
     "text": [
      "请输入数字下界，按回车键结束6\n",
      "请输入数字上界，按回车键结束9\n",
      "请输入数字个数3\n",
      "9\n",
      "6\n",
      "8\n",
      "2.8284271247461903\n"
     ]
    }
   ],
   "source": [
    "m=int(input('请输入数字下界，按回车键结束'))\n",
    "k=int(input('请输入数字上界，按回车键结束'))\n",
    "n=int(input('请输入数字个数'))\n",
    "i=0\n",
    "import random\n",
    "while i<n:\n",
    "    number=random.randint(m,k)\n",
    "    i+=1\n",
    "    print(number)\n",
    "total=number+number+number\n",
    "print((total/n)**(1/2))"
   ]
  },
  {
   "cell_type": "markdown",
   "metadata": {},
   "source": [
    "写函数，共n个随机整数，整数范围在m与k之间，（n,m,k由用户输入）。求1：西格玛log(随机整数)，2：西格玛1/log(随机整数)"
   ]
  },
  {
   "cell_type": "code",
   "execution_count": 57,
   "metadata": {
    "collapsed": false
   },
   "outputs": [
    {
     "name": "stdout",
     "output_type": "stream",
     "text": [
      "请输入数字下界，按回车键结束1\n",
      "请输入数字上界，按回车键结束5\n",
      "请输入数字个数3\n",
      "3\n",
      "2\n",
      "3\n",
      "1.0986122886681098 0.9102392266268373\n"
     ]
    }
   ],
   "source": [
    "m=int(input('请输入数字下界，按回车键结束'))\n",
    "k=int(input('请输入数字上界，按回车键结束'))\n",
    "n=int(input('请输入数字个数'))\n",
    "i=0\n",
    "import random\n",
    "import math\n",
    "while i<n:\n",
    "    number=random.randint(m,k)\n",
    "    i+=1\n",
    "    print(number)\n",
    "    result_1=math.log(number)\n",
    "    \n",
    "print(result_1, 1/(result_1))"
   ]
  },
  {
   "cell_type": "markdown",
   "metadata": {},
   "source": [
    "写函数，求s=a+aa+aaa+aaaa+aa...a的值，其中a是[1,9]之间的随机整数。例如2+22+222+2222+22222(此时共有5个数相加)，几个数相加由键盘输入。"
   ]
  },
  {
   "cell_type": "code",
   "execution_count": 33,
   "metadata": {
    "collapsed": false
   },
   "outputs": [
    {
     "name": "stdout",
     "output_type": "stream",
     "text": [
      "请输入你想求和的数字个数3\n",
      "1107\n"
     ]
    }
   ],
   "source": [
    "m=int(input('请输入你想求和的数字个数'))\n",
    "def compute_sum(end):\n",
    "    import random\n",
    "    i=0\n",
    "    total_1=0\n",
    "    total_2=0\n",
    "    while i<m:\n",
    "        i+=1\n",
    "        total_1=total_1+total_2+a*10**(i-1)\n",
    "        total_2=total_1-total_2\n",
    "    print(total_1)\n",
    "\n",
    "a=random.randint(1,9)\n",
    "compute_sum(a)"
   ]
  },
  {
   "cell_type": "code",
   "execution_count": 59,
   "metadata": {
    "collapsed": true
   },
   "outputs": [],
   "source": [
    "def win():\n",
    "    print('Win!')\n",
    "    \n",
    "def lose():\n",
    "    print('Lose!')\n",
    "def game_over():\n",
    "    print('Game Over!')\n",
    "def menu():\n",
    "    print('''=====游戏菜单=====\n",
    "                1. 游戏说明\n",
    "                2. 开始游戏\n",
    "                3. 退出游戏\n",
    "                4. 制作团队\n",
    "             =====游戏菜单=====''')\n",
    "def guess_game():\n",
    "    n = int(input('请输入一个大于0的整数作为数字的上限，按回车结束。'))\n",
    "    import random\n",
    "    number=random.randint(1,n)\n",
    "    print('标准数字为' , number)\n",
    "    m=random.randint(1,n)\n",
    "    print('计算机猜测数字为' , m)\n",
    "    k=int(input('请判断猜测数字的大小，若等于请输入0，若大于标准数字请输入1，若小于标准数字请输入2'))\n",
    "    if k==0:\n",
    "        win()\n",
    "    elif k==1:\n",
    "        m_1=random.randint(1,m)\n",
    "    else:\n",
    "        m_1=random.randint(m,n)"
   ]
  },
  {
   "cell_type": "code",
   "execution_count": null,
   "metadata": {
    "collapsed": false
   },
   "outputs": [
    {
     "name": "stdout",
     "output_type": "stream",
     "text": [
      "=====游戏菜单=====\n",
      "                1. 游戏说明\n",
      "                2. 开始游戏\n",
      "                3. 退出游戏\n",
      "                4. 制作团队\n",
      "             =====游戏菜单=====\n",
      "请输入你的选择2\n",
      "请输入一个大于0的整数作为数字的上限，按回车结束。5\n",
      "标准数字为 4\n",
      "计算机猜测数字为 5\n",
      "请判断猜测数字的大小，若等于请输入0，若大于标准数字请输入1，若小于标准数字请输入20\n",
      "Win!\n",
      "=====游戏菜单=====\n",
      "                1. 游戏说明\n",
      "                2. 开始游戏\n",
      "                3. 退出游戏\n",
      "                4. 制作团队\n",
      "             =====游戏菜单=====\n"
     ]
    }
   ],
   "source": [
    "def win():\n",
    "    print('Win!')\n",
    "    \n",
    "def lose():\n",
    "    print('Lose!')\n",
    "def game_over():\n",
    "    print('Game Over!')\n",
    "def show_team():\n",
    "    print('wow')\n",
    "\n",
    "def show_instruction():\n",
    "    print('ok')\n",
    "\n",
    "def menu():\n",
    "    print('''=====游戏菜单=====\n",
    "                1. 游戏说明\n",
    "                2. 开始游戏\n",
    "                3. 退出游戏\n",
    "                4. 制作团队\n",
    "             =====游戏菜单=====''')\n",
    "def guess_game():\n",
    "    n = int(input('请输入一个大于0的整数作为数字的上限，按回车结束。'))\n",
    "    import random\n",
    "    number=random.randint(1,n)\n",
    "    print('标准数字为' , number)\n",
    "    m=random.randint(1,n)\n",
    "    print('计算机猜测数字为' , m)\n",
    "    k=int(input('请判断猜测数字的大小，若等于请输入0，若大于标准数字请输入1，若小于标准数字请输入2'))\n",
    "    if k==0:\n",
    "        win()\n",
    "    elif k==1:\n",
    "        m_1=random.randint(1,m)\n",
    "    else:\n",
    "        m_1=random.randint(m,n)\n",
    "def main():\n",
    "    while True:\n",
    "        menu()\n",
    "        choice = int(input('请输入你的选择'))\n",
    "        if choice == 1:\n",
    "            show_instruction()\n",
    "        elif choice == 2:\n",
    "            guess_game()\n",
    "        elif choice == 3:\n",
    "            game_over()\n",
    "            break\n",
    "        else:\n",
    "            show_team()\n",
    "if __name__ == '__main__':\n",
    "    main()"
   ]
  },
  {
   "cell_type": "code",
   "execution_count": null,
   "metadata": {
    "collapsed": true
   },
   "outputs": [],
   "source": []
  }
 ],
 "metadata": {
  "kernelspec": {
   "display_name": "Python 3",
   "language": "python",
   "name": "python3"
  },
  "language_info": {
   "codemirror_mode": {
    "name": "ipython",
    "version": 3
   },
   "file_extension": ".py",
   "mimetype": "text/x-python",
   "name": "python",
   "nbconvert_exporter": "python",
   "pygments_lexer": "ipython3",
   "version": "3.6.0"
  }
 },
 "nbformat": 4,
 "nbformat_minor": 2
}
