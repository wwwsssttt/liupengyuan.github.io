{
 "cells": [
  {
   "cell_type": "markdown",
   "metadata": {},
   "source": [
    "## 练习1"
   ]
  },
  {
   "cell_type": "code",
   "execution_count": 3,
   "metadata": {
    "collapsed": false
   },
   "outputs": [
    {
     "name": "stdout",
     "output_type": "stream",
     "text": [
      "请您输入将要计算的随机整数的个数4\n",
      "请输入随机数范围的下届2\n",
      "请输入随机数范围的上届789\n",
      "计算结果为 20.89258241577618\n"
     ]
    }
   ],
   "source": [
    "import random, math\n",
    "\n",
    "def compute_average():\n",
    "    n=int(input('请您输入将要计算的随机整数的个数'))\n",
    "    m=int(input('请输入随机数范围的下届'))\n",
    "    k=int(input('请输入随机数范围的上届'))\n",
    "    \n",
    "    num=0\n",
    "    total=0\n",
    "    while num<n:\n",
    "        number=random.randint(m, k)\n",
    "        total=total+number\n",
    "        num+=1\n",
    "    \n",
    "    a=total/n\n",
    "    result=math.sqrt(a)\n",
    "    print('计算结果为',result)\n",
    "        \n",
    "compute_average()"
   ]
  },
  {
   "cell_type": "markdown",
   "metadata": {},
   "source": [
    "## 练习2"
   ]
  },
  {
   "cell_type": "code",
   "execution_count": 9,
   "metadata": {
    "collapsed": false
   },
   "outputs": [
    {
     "name": "stdout",
     "output_type": "stream",
     "text": [
      "请您输入将要计算的随机整数的个数4\n",
      "请输入随机数范围的下届1\n",
      "请输入随机数范围的上届8\n",
      "log(随机整数)的和为 4.394449154672439\n",
      "1/log(随机整数)的和为 3.6409569065073493\n"
     ]
    }
   ],
   "source": [
    "import random, math\n",
    "\n",
    "def compute_total():\n",
    "    n=int(input('请您输入将要计算的随机整数的个数'))\n",
    "    m=int(input('请输入随机数范围的下届'))\n",
    "    k=int(input('请输入随机数范围的上届'))\n",
    "    \n",
    "    num=0\n",
    "    total1=0\n",
    "    total2=0\n",
    "    while num<n:\n",
    "        number=random.randint(m, k) \n",
    "        l=math.log(number)\n",
    "        num+=1\n",
    "        total1=total1+l\n",
    "        total2=total2+1/l\n",
    "        \n",
    "    print('log(随机整数)的和为',total1)\n",
    "    print('1/log(随机整数)的和为',total2)\n",
    "    \n",
    "compute_total()"
   ]
  },
  {
   "cell_type": "markdown",
   "metadata": {},
   "source": [
    "## 练习3"
   ]
  },
  {
   "cell_type": "code",
   "execution_count": 31,
   "metadata": {
    "collapsed": false
   },
   "outputs": [
    {
     "name": "stdout",
     "output_type": "stream",
     "text": [
      "请您输入将要计算的整数个数3\n",
      "您的随机数为 4\n",
      "您的随机数叠加之和为 492\n"
     ]
    }
   ],
   "source": [
    "import math, random\n",
    "\n",
    "def compute_s():\n",
    "    n=int(input('请您输入将要计算的整数个数'))\n",
    "    a=random.randint(1,9)\n",
    "    print('您的随机数为',a)\n",
    "    \n",
    "    i=0\n",
    "    j=0\n",
    "    total=0\n",
    "    while i<n:\n",
    "        j=10*j+a\n",
    "        i+=1\n",
    "        total+=j\n",
    "        \n",
    "    print('您的随机数叠加之和为',total)\n",
    "    \n",
    "compute_s()\n",
    "    "
   ]
  },
  {
   "cell_type": "markdown",
   "metadata": {},
   "source": [
    " # 挑战性练习"
   ]
  },
  {
   "cell_type": "code",
   "execution_count": null,
   "metadata": {
    "collapsed": false
   },
   "outputs": [
    {
     "name": "stdout",
     "output_type": "stream",
     "text": [
      "===欢迎来到猜数挑战===\n",
      "               计算机能猜到你的心\n",
      "                不相信就来挑战吧！\n",
      "=====游戏菜单=====\n",
      "                1. 游戏说明\n",
      "                2. 开始游戏\n",
      "                3. 退出游戏\n",
      "                4. 制作团队\n",
      "             =====游戏菜单=====\n"
     ]
    }
   ],
   "source": [
    "import math,random\n",
    "\n",
    "def welcome():\n",
    "    print('''===欢迎来到猜数挑战===\n",
    "               计算机能猜到你的心\n",
    "                不相信就来挑战吧！''')\n",
    "def menu():\n",
    "    print('''=====游戏菜单=====\n",
    "                1. 游戏说明\n",
    "                2. 开始游戏\n",
    "                3. 退出游戏\n",
    "                4. 制作团队\n",
    "             =====游戏菜单=====''')\n",
    "    \n",
    "def show_instruction():\n",
    "    print('''=======游戏说明=======\n",
    "             你将输入一个你喜欢的正整数\n",
    "                  范围在0～1000\n",
    "            由计算机来猜测你输入的数是什么\n",
    "        你将通过告诉计算机猜大了还是小了来提示它\n",
    "             如果在标准次数内没有猜出来\n",
    "                    则你获胜\n",
    "              如果在标准次数内猜到了\n",
    "                  则计算机获胜\n",
    "             有没有勇气来挑战计算机呢''')\n",
    "    \n",
    "def win():\n",
    "    print('''======计算机都猜不出来！你赢啦！======\n",
    "    ──────▄▄▄▄▄███████████████████▄▄▄▄▄──────\n",
    "　　────▄██████████▀▀▀▀▀▀▀▀▀▀██████▀████▄────\n",
    "　　──▄██▀████████▄─────────────▀▀████─▀██▄──\n",
    "　　─▀██▄▄██████████████████▄▄▄─────────▄██▀─\n",
    "　　───▀█████████████████████████▄────▄██▀───\n",
    "　　─────▀████▀▀▀▀▀▀▀▀▀▀▀▀█████████▄▄██▀─────\n",
    "　　───────▀███▄──────────────▀██████▀───────\n",
    "　　─────────▀██████▄─────────▄████▀─────────\n",
    "　　────────────▀█████▄▄▄▄▄▄▄███▀────────────\n",
    "　　──────────────▀████▀▀▀████▀──────────────\n",
    "　　────────────────▀███▄███▀────────────────\n",
    "　　───────────────────▀█▀───────────────────''')\n",
    "    \n",
    "def lose():\n",
    "    print('''你给的数太简单啦\n",
    "              计算机赢过你了\n",
    "           下次换个更难的试试吧\n",
    "  --^----------,--------,-----,-------^--,\n",
    "| ||||||||| `--------' | O |--|\n",
    "`+---------------------------^----------|--|\n",
    "`\\_,-------, _________________________|\n",
    "/ XXXXXX /`| /\n",
    "/ XXXXXX / `\\ /\n",
    "/ XXXXXX /\\______( \n",
    "/ XXXXXX /\n",
    "/ XXXXXX /\n",
    "(________(\n",
    "`------''')\n",
    "    \n",
    "def game_over():\n",
    "    print('''======游戏结束======\n",
    "                 谢谢你的参与\n",
    "                 欢迎你下次再战\n",
    "                   如果喜欢\n",
    "           请在app store给我们好评吧''')\n",
    "    \n",
    "def show_team():\n",
    "    print('''======制作团队======\n",
    "               程序设计：刘小贱\n",
    "               美术设计：刘小贱\n",
    "               程序推广：刘小贱\n",
    "            赞助商家：阿里爸爸，网姨''')\n",
    "\n",
    "def guess_game():\n",
    "    n=int(input('请输入一个你喜欢的正整数范围在1～1000'))\n",
    "    print('500')\n",
    "    m=500\n",
    "    max_times = math.ceil(math.log(1000, 2))\n",
    "    guess_times = 0\n",
    "    \n",
    "    while guess_times<=max_times:\n",
    "          choice=int(input('''计算机猜大了还是猜小了？\n",
    "                                  1.猜大了\n",
    "                                  2.猜小了\n",
    "                                  3.猜对了\n",
    "                                （请输入数字）'''))\n",
    "          \n",
    "        \n",
    "          if choice==1:\n",
    "              guess=random.randint(1,m)\n",
    "              m=guess\n",
    "              print(guess)\n",
    "          \n",
    "          elif choice==2:\n",
    "              guess=random.randint(m,1000)\n",
    "              m=guess\n",
    "              print(guess)\n",
    "          \n",
    "          else:\n",
    "              lose()\n",
    "          \n",
    "          guess_times += 1\n",
    "          print('一共可以猜', max_times, '次')\n",
    "          print('计算机已经猜了', guess_times, '次')\n",
    "            \n",
    "    else:\n",
    "        win()\n",
    "              \n",
    "          \n",
    "def main():\n",
    "    while True:\n",
    "        welcome()\n",
    "        menu()\n",
    "        ch=int(input('请输入你的选择'))\n",
    "        \n",
    "        if ch==1:\n",
    "            show_instruction()\n",
    "        elif ch==2:\n",
    "            guess_game()\n",
    "        elif ch==3:\n",
    "            game_over()\n",
    "            break\n",
    "        else:\n",
    "            show_team\n",
    "          \n",
    "if __name__ == '__main__':\n",
    "    main()"
   ]
  },
  {
   "cell_type": "code",
   "execution_count": null,
   "metadata": {
    "collapsed": true
   },
   "outputs": [],
   "source": []
  }
 ],
 "metadata": {
  "kernelspec": {
   "display_name": "Python 3",
   "language": "python",
   "name": "python3"
  },
  "language_info": {
   "codemirror_mode": {
    "name": "ipython",
    "version": 3
   },
   "file_extension": ".py",
   "mimetype": "text/x-python",
   "name": "python",
   "nbconvert_exporter": "python",
   "pygments_lexer": "ipython3",
   "version": "3.6.0"
  }
 },
 "nbformat": 4,
 "nbformat_minor": 2
}
