{
 "cells": [
  {
   "cell_type": "code",
   "execution_count": 4,
   "metadata": {
    "collapsed": false
   },
   "outputs": [
    {
     "name": "stdout",
     "output_type": "stream",
     "text": [
      "你想输入几个数字3\n",
      "1请输入一个整数5\n",
      "请再输入一个整数9\n",
      "9\n",
      "8\n",
      "5\n",
      "2.70801280154532\n"
     ]
    }
   ],
   "source": [
    "n=int(input('你想输入几个数字'))\n",
    "m=int(input('请输入一个整数'))\n",
    "k=int(input('请再输入一个整数'))\n",
    "\n",
    "import random,math\n",
    "\n",
    "i=0\n",
    "total=0\n",
    "while i<n:\n",
    "    i=i+1\n",
    "    number=random.randint(m,k)\n",
    "    print(number)\n",
    "    total+=number\n",
    "        \n",
    "else:\n",
    "    print(math.sqrt(total/n))"
   ]
  },
  {
   "cell_type": "code",
   "execution_count": 5,
   "metadata": {
    "collapsed": false
   },
   "outputs": [
    {
     "name": "stdout",
     "output_type": "stream",
     "text": [
      "你想输入几个数字2\n",
      "请输入一个整数1\n",
      "请再输入一个整数5\n",
      "4\n",
      "2\n",
      "1.0\n"
     ]
    }
   ],
   "source": [
    "n=int(input('你想输入几个数字'))\n",
    "m=int(input('请输入一个整数'))\n",
    "k=int(input('请再输入一个整数'))\n",
    "\n",
    "import random,math\n",
    "\n",
    "i=0\n",
    "while i<n:\n",
    "    number=random.randint(m,k)\n",
    "    print(number)\n",
    "    i=i+1\n",
    "    log_number=math.log2(number)\n",
    "print(log_number)"
   ]
  },
  {
   "cell_type": "code",
   "execution_count": null,
   "metadata": {
    "collapsed": true
   },
   "outputs": [],
   "source": [
    "n=int(input('请输入相加的数字个数'))\n",
    "import random\n",
    "   a=random.randint(1,9)\n",
    "    \n",
    "    \n",
    "        "
   ]
  },
  {
   "cell_type": "code",
   "execution_count": 1,
   "metadata": {
    "collapsed": false
   },
   "outputs": [],
   "source": [
    "import random\n",
    "def menu():\n",
    "    print('''======游戏菜单======\n",
    "                   1.游戏开始\n",
    "                   2.游戏说明\n",
    "                   3.退出游戏\n",
    "                   4.制作团队\n",
    "             ======游戏菜单======''')\n",
    "def show_instruction():\n",
    "    print('请输入一个数字，让计算机猜')\n",
    "    \n",
    "def win():\n",
    "    print('你赢了，计算机没有猜中')\n",
    "    \n",
    "def lose():\n",
    "    print('计算机猜中了')\n",
    "    \n",
    "def game_over():\n",
    "    print('游戏结束')\n",
    "    \n",
    "def guess_game():\n",
    "    n = int(input('请输入一个大于0小于50的整数，回车结束。'))\n",
    "    t=int(input('可猜次数'))\n",
    "    i=0\n",
    "    \n",
    "    while i<=t:\n",
    "        number=random.randint(1,50)\n",
    "        t=t+1\n",
    "        print('计算机一共可以猜',t,'次')\n",
    "        print('已经踩了',i,'次')\n",
    "    \n",
    "    if  number==n:\n",
    "        lose()\n",
    "        print('神秘数字是：',n)\n",
    "    elif number<n:\n",
    "        print('计算机猜小了，它猜的：',number)\n",
    "    elif number>n:\n",
    "        print('计算机猜大了，它猜的：',number)\n",
    "    \n",
    "    else:\n",
    "        print('神秘数字是：',n)\n",
    "        print('win!')\n",
    "    \n",
    "    def main():\n",
    "        while True:\n",
    "            menu()\n",
    "            choice=int(input('请输入你的选择'))\n",
    "            if choice == 1:\n",
    "                guess_game()\n",
    "            elif choice == 2:\n",
    "                show_instruction()\n",
    "            elif choice == 3:\n",
    "                game_over()\n",
    "                break\n",
    "            else: \n",
    "                show_team()\n",
    "\n"
   ]
  },
  {
   "cell_type": "code",
   "execution_count": null,
   "metadata": {
    "collapsed": true
   },
   "outputs": [],
   "source": []
  },
  {
   "cell_type": "code",
   "execution_count": null,
   "metadata": {
    "collapsed": true
   },
   "outputs": [],
   "source": []
  }
 ],
 "metadata": {
  "kernelspec": {
   "display_name": "Python 3",
   "language": "python",
   "name": "python3"
  },
  "language_info": {
   "codemirror_mode": {
    "name": "ipython",
    "version": 3
   },
   "file_extension": ".py",
   "mimetype": "text/x-python",
   "name": "python",
   "nbconvert_exporter": "python",
   "pygments_lexer": "ipython3",
   "version": "3.6.0"
  }
 },
 "nbformat": 4,
 "nbformat_minor": 2
}
