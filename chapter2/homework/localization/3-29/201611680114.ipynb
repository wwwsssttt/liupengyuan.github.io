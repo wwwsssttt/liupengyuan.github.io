{
 "cells": [
  {
   "cell_type": "markdown",
   "metadata": {
    "deletable": true,
    "editable": true
   },
   "source": [
    "### 练习1"
   ]
  },
  {
   "cell_type": "code",
   "execution_count": 3,
   "metadata": {
    "collapsed": false,
    "deletable": true,
    "editable": true
   },
   "outputs": [
    {
     "name": "stdout",
     "output_type": "stream",
     "text": [
      "请输入一个数字m2\n",
      "请输入另一个数字n3\n",
      "请输入最后一个数字k4\n",
      "m!+n!+k!= 32\n"
     ]
    }
   ],
   "source": [
    "def pro_sum(end):\n",
    "    i=1\n",
    "    pro_x=1\n",
    "    \n",
    "    while i<end:\n",
    "        i=i+1\n",
    "        pro_x=pro_x*i\n",
    "    \n",
    "    return pro_x\n",
    "    \n",
    "\n",
    "\n",
    "m=int(input(\"请输入一个数字m\"))\n",
    "n=int(input(\"请输入另一个数字n\"))\n",
    "k=int(input(\"请输入最后一个数字k\"))\n",
    "\n",
    "print(\"m!+n!+k!=\",pro_sum(m)+pro_sum(n)+pro_sum(k))\n",
    "\n",
    "\n"
   ]
  },
  {
   "cell_type": "markdown",
   "metadata": {
    "deletable": true,
    "editable": true
   },
   "source": [
    "### 练习2"
   ]
  },
  {
   "cell_type": "code",
   "execution_count": 7,
   "metadata": {
    "collapsed": false,
    "deletable": true,
    "editable": true
   },
   "outputs": [
    {
     "name": "stdout",
     "output_type": "stream",
     "text": [
      "请输入项数n1000\n",
      "1-1/3+1/5-1/7...的前n项的四倍函数和是 3.1405946498462796\n"
     ]
    }
   ],
   "source": [
    "\n",
    "def hello(end):\n",
    "    i=3\n",
    "    total=2/3\n",
    "    \n",
    "    while i<2*end:\n",
    "        i=i+4\n",
    "        total=total+2/(i*(i-2))\n",
    "        easy=4*total\n",
    "    return easy\n",
    "\n",
    "n=int(input(\"请输入项数n\"))\n",
    "\n",
    "print(\"1-1/3+1/5-1/7...的前n项的四倍函数和是\",hello(n))\n",
    "\n",
    "        \n",
    "\n",
    "        \n",
    "        "
   ]
  },
  {
   "cell_type": "code",
   "execution_count": 16,
   "metadata": {
    "collapsed": false,
    "deletable": true,
    "editable": true
   },
   "outputs": [
    {
     "name": "stdout",
     "output_type": "stream",
     "text": [
      "请输入一个较小数1\n",
      "请输入一个较大数3\n",
      "请输入你希望相邻相加数之间的间隔是多少1\n",
      "最终的和为 6\n"
     ]
    }
   ],
   "source": [
    "m=int(input('请输入一个较小数'))\n",
    "n=int(input(\"请输入一个较大数\"))\n",
    "k=int(input(\"请输入你希望相邻相加数之间的间隔是多少\"))\n",
    "\n",
    "def pro_sum(end):\n",
    "    i=1\n",
    "    total=1\n",
    "    while i<end:\n",
    "        i=i+k\n",
    "        total=total+i\n",
    "    return total\n",
    "print(\"最终的和为\",pro_sum(n)-pro_sum(m)+m)"
   ]
  },
  {
   "cell_type": "code",
   "execution_count": null,
   "metadata": {
    "collapsed": true,
    "deletable": true,
    "editable": true
   },
   "outputs": [],
   "source": []
  }
 ],
 "metadata": {
  "kernelspec": {
   "display_name": "Python 3",
   "language": "python",
   "name": "python3"
  },
  "language_info": {
   "codemirror_mode": {
    "name": "ipython",
    "version": 3
   },
   "file_extension": ".py",
   "mimetype": "text/x-python",
   "name": "python",
   "nbconvert_exporter": "python",
   "pygments_lexer": "ipython3",
   "version": "3.6.0"
  }
 },
 "nbformat": 4,
 "nbformat_minor": 2
}
