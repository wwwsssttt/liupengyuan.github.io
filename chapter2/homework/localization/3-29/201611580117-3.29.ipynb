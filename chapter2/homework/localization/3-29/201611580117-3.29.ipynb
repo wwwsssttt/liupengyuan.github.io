{
 "cells": [
  {
   "cell_type": "code",
   "execution_count": 1,
   "metadata": {
    "collapsed": false
   },
   "outputs": [
    {
     "name": "stdout",
     "output_type": "stream",
     "text": [
      "请输入第一个整数，以回车结束2\n",
      "请输入第二个整数，以回车结束5\n",
      "请输入第三个整数，以回车结束4\n",
      "最终的结果是：146\n"
     ]
    }
   ],
   "source": [
    "#练习1#\n",
    "def compute_multi(end):\n",
    "    i = 0\n",
    "    total = 1\n",
    "    \n",
    "    while i < end:\n",
    "        i = i+1\n",
    "        total = total*i\n",
    "    return total\n",
    "\n",
    "m = int(input('请输入第一个整数，以回车结束'))\n",
    "n = int(input('请输入第二个整数，以回车结束'))\n",
    "k = int(input('请输入第三个整数，以回车结束'))\n",
    "\n",
    "print('最终的结果是：', compute_multi(m)+compute_multi(n)+compute_multi(k), sep = '')"
   ]
  },
  {
   "cell_type": "code",
   "execution_count": 2,
   "metadata": {
    "collapsed": false
   },
   "outputs": [
    {
     "name": "stdout",
     "output_type": "stream",
     "text": [
      "3.140592653839794\n",
      "3.1415826535897198\n"
     ]
    }
   ],
   "source": [
    "#练习2#\n",
    "def compute_1(n):\n",
    "    i = 0\n",
    "    total = 0\n",
    "    \n",
    "    while i < n:\n",
    "        i = i+1\n",
    "        m= 1/(2*i-1)*((-1)**(i+1))\n",
    "        total = total+m\n",
    "    return total\n",
    "\n",
    "print(compute_1(1000)*4)\n",
    "print(compute_1(100000)*4)"
   ]
  },
  {
   "cell_type": "code",
   "execution_count": 3,
   "metadata": {
    "collapsed": false
   },
   "outputs": [
    {
     "name": "stdout",
     "output_type": "stream",
     "text": [
      "请输入您的姓名，以回车结束lowkey\n",
      "请输入您的出生日期，以回车结束。如1月1日写为 1.14.3\n",
      "lowkey,您是非常有个性的金牛座！\n"
     ]
    }
   ],
   "source": [
    "#练习3-1#\n",
    "def compute_1(n,m):\n",
    "    if 4.2 <= n <= 5.2:\n",
    "        k = m+',您是非常有个性的金牛座！'\n",
    "        return k\n",
    "\n",
    "name = input('请输入您的姓名，以回车结束')\n",
    "date = float(input('请输入您的出生日期，以回车结束。如1月1日写为 1.1'))\n",
    "\n",
    "print(compute_1(date,name))"
   ]
  },
  {
   "cell_type": "code",
   "execution_count": 4,
   "metadata": {
    "collapsed": false
   },
   "outputs": [
    {
     "name": "stdout",
     "output_type": "stream",
     "text": [
      "请输入一个英文名词，以回车结束。fox\n",
      "foxes\n"
     ]
    }
   ],
   "source": [
    "#练习3-2#\n",
    "def compute_1(n):\n",
    "    if n.endswith('x' or 'ch' or 'sh'):\n",
    "        k = n+'es'  \n",
    "    elif n == 'tomato' or 'potato' or 'hero' or 'negro':\n",
    "        k = n+'es'\n",
    "    elif n.endswith('y') and (not some_string.endswith('ay' or 'ey' or 'iy' or 'oy' or 'uy')):\n",
    "        k = n[0:-1]+'ies'\n",
    "    else :\n",
    "        k = n+'s'\n",
    "    return k\n",
    "\n",
    "n = input('请输入一个英文名词，以回车结束。')\n",
    "print(compute_1(n))"
   ]
  },
  {
   "cell_type": "code",
   "execution_count": 5,
   "metadata": {
    "collapsed": false
   },
   "outputs": [
    {
     "name": "stdout",
     "output_type": "stream",
     "text": [
      "请输入开始的整数，以回车结束2\n",
      "请输入结束的整数，以回车结束20\n",
      "请输入间距（整数），以回车结束2\n",
      "110.0\n"
     ]
    }
   ],
   "source": [
    "#挑战练习#\n",
    "def compute_1(m,n,k):\n",
    "    number = (n-m)/k+1\n",
    "    total = (m+n)*number/2\n",
    "    return total\n",
    "m = int(input('请输入开始的整数，以回车结束'))\n",
    "n = int(input('请输入结束的整数，以回车结束'))\n",
    "k = int(input('请输入间距（整数），以回车结束'))\n",
    "print(compute_1(m,n,k))"
   ]
  },
  {
   "cell_type": "code",
   "execution_count": null,
   "metadata": {
    "collapsed": true
   },
   "outputs": [],
   "source": []
  }
 ],
 "metadata": {
  "kernelspec": {
   "display_name": "Python 3",
   "language": "python",
   "name": "python3"
  },
  "language_info": {
   "codemirror_mode": {
    "name": "ipython",
    "version": 3
   },
   "file_extension": ".py",
   "mimetype": "text/x-python",
   "name": "python",
   "nbconvert_exporter": "python",
   "pygments_lexer": "ipython3",
   "version": "3.6.1rc1"
  }
 },
 "nbformat": 4,
 "nbformat_minor": 2
}
