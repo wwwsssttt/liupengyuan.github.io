{
 "cells": [
  {
   "cell_type": "code",
   "execution_count": 2,
   "metadata": {
    "collapsed": false,
    "deletable": true,
    "editable": true
   },
   "outputs": [
    {
     "name": "stdout",
     "output_type": "stream",
     "text": [
      "请输入第一个整数，以回车结束2\n",
      "请输入第二个整数，以回车结束3\n",
      "请输入第三个整数，以回车结束2\n",
      "10\n"
     ]
    }
   ],
   "source": [
    "#求 m!+n!+k!\n",
    "\n",
    "\n",
    "def compute_product(end):\n",
    "    i = 0\n",
    "    total_n = 1\n",
    "    \n",
    "    while i < end:\n",
    "        i = i + 1\n",
    "        total_n = total_n * i\n",
    "    \n",
    "    return total_n\n",
    "\n",
    "n = int(input('请输入第一个整数，以回车结束'))\n",
    "m = int(input('请输入第二个整数，以回车结束'))\n",
    "k = int(input('请输入第三个整数，以回车结束'))\n",
    "\n",
    "print(compute_product(n) + compute_product(m) + compute_product(k))"
   ]
  },
  {
   "cell_type": "code",
   "execution_count": 2,
   "metadata": {
    "collapsed": false,
    "deletable": true,
    "editable": true
   },
   "outputs": [
    {
     "name": "stdout",
     "output_type": "stream",
     "text": [
      "3.140592653839794 3.1414926535900345 3.1415916535897743\n"
     ]
    }
   ],
   "source": [
    "def compute_sum(end):\n",
    "    i = 0\n",
    "    total_n = 0\n",
    "    \n",
    "    while i < end:\n",
    "        i = i + 1\n",
    "        total_n = total_n + (-1)**(i-1) / (2*i-1)\n",
    "        \n",
    "    return total_n\n",
    "\n",
    "#主程序\n",
    "\n",
    "n = 1000\n",
    "m = 10000\n",
    "k = 1000000\n",
    "print(4*compute_sum(n), 4*compute_sum(m), 4*compute_sum(k))"
   ]
  },
  {
   "cell_type": "code",
   "execution_count": 2,
   "metadata": {
    "collapsed": false
   },
   "outputs": [
    {
     "name": "stdout",
     "output_type": "stream",
     "text": [
      "请输入你的出生日期，如0105。以回车结束0105\n",
      "你是踏实固执的摩羯座\n",
      "None\n"
     ]
    }
   ],
   "source": [
    "def star(n):\n",
    "    \n",
    "    if 321 < n < 419:\n",
    "        print('你是容易冲动的白羊座')\n",
    "    if 420 < n < 520:\n",
    "        print('你是真诚随和的金牛座')\n",
    "    if 521 < n < 621:\n",
    "        print('你是聪明活泼的双子座')\n",
    "    if 622 < n < 722:\n",
    "        print('你是感性善变的巨蟹座')\n",
    "    if 723 < n < 822:\n",
    "        print('你是高傲自大的狮子座')\n",
    "    if 823 < n < 922:\n",
    "        print('你是追求完美的处女座')\n",
    "    if 923 < n < 1023:\n",
    "        print('你是圆滑保守的天秤座')\n",
    "    if 1024 < n < 1122:\n",
    "        print('你是神秘莫测的天蝎座')\n",
    "    if 1123 < n < 1221:\n",
    "        print('你是乐观积极的射手座')\n",
    "    if 1222 < n < 1231:\n",
    "        print('你是踏实固执的摩羯座')\n",
    "    if 101 < n < 120:\n",
    "        print('你是踏实固执的摩羯座')\n",
    "    if 120 < n < 219:\n",
    "        print('你是求知欲强的水瓶座')\n",
    "    if 220 < n < 320:\n",
    "        print('你是的善良浪漫双鱼座')\n",
    "        \n",
    "#主程序\n",
    "n = int(input('请输入你的出生日期，如0105。以回车结束'))\n",
    "print(star(n))\n"
   ]
  },
  {
   "cell_type": "code",
   "execution_count": 3,
   "metadata": {
    "collapsed": false
   },
   "outputs": [
    {
     "name": "stdout",
     "output_type": "stream",
     "text": [
      "请输入一个名词单数tree\n",
      "trees\n",
      "None\n"
     ]
    }
   ],
   "source": [
    "def add(word):\n",
    "    \n",
    "    if word. endswith('e'):\n",
    "        print(word,'s',sep='')\n",
    "    \n",
    "    if word. endswith('s'):\n",
    "        print(wold,'es',sep='')\n",
    "    \n",
    "    if word. endswith('sh'):\n",
    "        print(world,'es',sep='')\n",
    "        \n",
    "#主程序\n",
    "word = input('请输入一个名词单数')\n",
    "print(add(word))"
   ]
  }
 ],
 "metadata": {
  "kernelspec": {
   "display_name": "Python 3",
   "language": "python",
   "name": "python3"
  },
  "language_info": {
   "codemirror_mode": {
    "name": "ipython",
    "version": 3
   },
   "file_extension": ".py",
   "mimetype": "text/x-python",
   "name": "python",
   "nbconvert_exporter": "python",
   "pygments_lexer": "ipython3",
   "version": "3.6.0"
  }
 },
 "nbformat": 4,
 "nbformat_minor": 2
}
