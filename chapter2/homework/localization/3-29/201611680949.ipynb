{
 "cells": [
  {
   "cell_type": "code",
   "execution_count": 1,
   "metadata": {
    "collapsed": false,
    "deletable": true,
    "editable": true
   },
   "outputs": [
    {
     "name": "stdout",
     "output_type": "stream",
     "text": [
      "请输入数字1：2\n",
      "请输入数字2：3\n",
      "请输入数字3：4\n",
      "累乘结果为： 32\n"
     ]
    }
   ],
   "source": [
    "#练习1\n",
    "\n",
    "def compute_product(end):\n",
    "    i=0\n",
    "    product=1\n",
    "    \n",
    "    while i<end:\n",
    "        i=i+1\n",
    "        product=product*i\n",
    "        \n",
    "    return product\n",
    "\n",
    "m=int(input('请输入数字1：'))\n",
    "n=int(input('请输入数字2：'))\n",
    "k=int(input('请输入数字3：'))\n",
    "print('累乘结果为：',compute_product(m)+compute_product(n)+compute_product(k))"
   ]
  },
  {
   "cell_type": "code",
   "execution_count": 13,
   "metadata": {
    "collapsed": false
   },
   "outputs": [
    {
     "name": "stdout",
     "output_type": "stream",
     "text": [
      "3.143588659585789\n",
      "3.141612653189785\n"
     ]
    }
   ],
   "source": [
    "#练习2\n",
    "\n",
    "def k_n(end):\n",
    "    a=0\n",
    "    i=1\n",
    "    n=(1/i)\n",
    "    total=n\n",
    "    while i<end:\n",
    "        a=a+1\n",
    "        i=i+2\n",
    "        n=(-1)**(a)*(1/i)\n",
    "        total=total+n\n",
    "    return total\n",
    "\n",
    "print(k_n(1000)*4)\n",
    "print(k_n(100000)*4)"
   ]
  },
  {
   "cell_type": "code",
   "execution_count": 3,
   "metadata": {
    "collapsed": false
   },
   "outputs": [
    {
     "name": "stdout",
     "output_type": "stream",
     "text": [
      "请输入姓名：A\n",
      "请输入出生日期，格式为mm.dd：07.12\n",
      "A ,你是巨蟹座。\n"
     ]
    }
   ],
   "source": [
    "#练习3-task3练习1\n",
    "\n",
    "def sign(date):\n",
    "    if 1.1<=date<=1.19:\n",
    "        return ('，你是摩羯座。')\n",
    "    elif 1.20<=date<=2.18:\n",
    "        return ('，你是水瓶座。')\n",
    "    elif 2.19<=date<=3.20:\n",
    "        return ('，你是双鱼座。')\n",
    "    elif 3.21<=date<=4.19:\n",
    "        return ('，你是白羊座。')\n",
    "    elif 4.20<=date<=5.20:\n",
    "        return ('，你是金牛座。')\n",
    "    elif 5.21<=date<=6.21:\n",
    "        return ('，你是双子座。')\n",
    "    elif 6.22<=date<=7.22:\n",
    "        return (',你是巨蟹座。')\n",
    "    elif 7.23<=date<=8.22:\n",
    "        return ('，你是狮子座。')\n",
    "    elif 8.23<=date<=9.22: \n",
    "        return ('，你是处女座。')\n",
    "    elif 9.23<=date<=10.23:\n",
    "        return ('，你是天秤座。')\n",
    "    elif 10.24<=date<=11.22:\n",
    "        return ('，你是天蝎座。')\n",
    "    elif 11.23<=date<=12.21:\n",
    "        return ('，你是射手座。')\n",
    "    elif 12.22<=date<=12.31:\n",
    "        return ('，你是摩羯座。')\n",
    "    else:\n",
    "        return ('error')\n",
    "\n",
    "name=input('请输入姓名：')    \n",
    "date=float(input('请输入出生日期，格式为mm.dd：'))\n",
    "print(name,sign(date))"
   ]
  },
  {
   "cell_type": "code",
   "execution_count": 12,
   "metadata": {
    "collapsed": false
   },
   "outputs": [
    {
     "name": "stdout",
     "output_type": "stream",
     "text": [
      "请输入要变成复数形式的单词：potato\n",
      "请在词尾加es\n"
     ]
    }
   ],
   "source": [
    "#练习3-task3练习4\n",
    "\n",
    "def plural(word):\n",
    "    if word.endswith('o'):\n",
    "        return ('请在词尾加es')\n",
    "    elif string.endswith('s'):\n",
    "        return (word,'请在词尾加es')\n",
    "    else:\n",
    "        return (word,'请在词尾加s')\n",
    "    \n",
    "word=input('请输入要变成复数形式的单词：')\n",
    "print(plural(word))"
   ]
  },
  {
   "cell_type": "code",
   "execution_count": 14,
   "metadata": {
    "collapsed": false
   },
   "outputs": [
    {
     "name": "stdout",
     "output_type": "stream",
     "text": [
      "请输入整数m：3\n",
      "请输入整数n：21\n",
      "请输入整数k：4\n",
      "78\n"
     ]
    }
   ],
   "source": [
    "#挑战性练习\n",
    "\n",
    "def sum_(m,n,k):\n",
    "    total=m\n",
    "    while m<n:\n",
    "        m=m+k\n",
    "        total=total+m\n",
    "        \n",
    "    return total\n",
    "\n",
    "m=int(input('请输入整数m：'))\n",
    "n=int(input('请输入整数n：'))\n",
    "k=int(input('请输入整数k：'))\n",
    "\n",
    "print(sum_(m,n,k))"
   ]
  }
 ],
 "metadata": {
  "kernelspec": {
   "display_name": "Python 3",
   "language": "python",
   "name": "python3"
  },
  "language_info": {
   "codemirror_mode": {
    "name": "ipython",
    "version": 3
   },
   "file_extension": ".py",
   "mimetype": "text/x-python",
   "name": "python",
   "nbconvert_exporter": "python",
   "pygments_lexer": "ipython3",
   "version": "3.6.0"
  }
 },
 "nbformat": 4,
 "nbformat_minor": 2
}
