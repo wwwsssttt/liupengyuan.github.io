{
 "cells": [
  {
   "cell_type": "code",
   "execution_count": 1,
   "metadata": {
    "collapsed": false
   },
   "outputs": [
    {
     "name": "stdout",
     "output_type": "stream",
     "text": [
      "5\n",
      "8\n",
      "6\n",
      "m!+n!+k!= 41160\n"
     ]
    }
   ],
   "source": [
    "def total(end):\n",
    "    i=0\n",
    "    jc=1\n",
    "    while i<end:\n",
    "        i=i+1\n",
    "        jc=jc*i\n",
    "    return jc\n",
    "\n",
    "\n",
    "m=int(input())\n",
    "n=int(input())\n",
    "k=int(input())\n",
    "print(\"m!+n!+k!=\",total(m)+total(n)+total(k))"
   ]
  },
  {
   "cell_type": "code",
   "execution_count": 2,
   "metadata": {
    "collapsed": false
   },
   "outputs": [
    {
     "name": "stdout",
     "output_type": "stream",
     "text": [
      "1000\n",
      "3.139592655589785\n"
     ]
    }
   ],
   "source": [
    "def sum(end):\n",
    "    i=1\n",
    "    j=0\n",
    "    total=0\n",
    "\n",
    "    while i<=end:\n",
    "        j=j+1\n",
    "        if j%2==0:\n",
    "            m=-1/i\n",
    "        else:\n",
    "            m=1/i\n",
    "        total=total+m\n",
    "        i=i+2\n",
    "\n",
    "    return total\n",
    "\n",
    "n=int(input())\n",
    "sum(n)\n",
    "print(4*sum(n))"
   ]
  },
  {
   "cell_type": "code",
   "execution_count": 3,
   "metadata": {
    "collapsed": false
   },
   "outputs": [
    {
     "name": "stdout",
     "output_type": "stream",
     "text": [
      "6\n",
      "56\n",
      "9\n",
      "171\n"
     ]
    }
   ],
   "source": [
    "def sum(m,n,k):\n",
    "    total=0\n",
    "    while(m<=n):\n",
    "        total=total+m\n",
    "        m=m+k\n",
    "    return total\n",
    "\n",
    "m=int(input())\n",
    "n=int(input())\n",
    "k=int(input())\n",
    "sum(m,n,k)\n",
    "print(sum(m,n,k))"
   ]
  },
  {
   "cell_type": "code",
   "execution_count": 7,
   "metadata": {
    "collapsed": false
   },
   "outputs": [
    {
     "name": "stdout",
     "output_type": "stream",
     "text": [
      "7.26\n",
      "你是狮子座！\n"
     ]
    }
   ],
   "source": [
    "def xingzuo(date):\n",
    "    if(3.20<date<4.20):\n",
    "        print(\"你是白羊座！\")\n",
    "    elif(4.20<date<5.21):\n",
    "        print(\"你是金牛座！\")\n",
    "    elif(5.21<date<6.21):\n",
    "        print(\"你是双子座！\")\n",
    "    elif(6.21<date<7.22):\n",
    "        print(\"你是巨蟹座！\")\n",
    "    elif(7.22<date<8.23):\n",
    "        print(\"你是狮子座！\")\n",
    "    elif(8.23<date<9.23):\n",
    "        print(\"你是处女座！\")\n",
    "    elif(9.23<date<10.23):\n",
    "        print(\"你是天秤座！\")\n",
    "    elif(10.23<date<11.22):\n",
    "        print(\"你是天蝎座！\")\n",
    "    elif(11.22<date<12.21):\n",
    "        print(\"你是射手座！\")\n",
    "    elif(1.20<date<2.19):\n",
    "        print(\"你是水瓶座！\")\n",
    "    elif(2.19<date<3.20):\n",
    "        print(\"你是双鱼座！\")\n",
    "    else:\n",
    "        print(\"你是摩羯座！\")\n",
    "\n",
    "date=float(input())\n",
    "xingzuo(date)"
   ]
  },
  {
   "cell_type": "code",
   "execution_count": 8,
   "metadata": {
    "collapsed": false
   },
   "outputs": [
    {
     "name": "stdout",
     "output_type": "stream",
     "text": [
      "boss\n",
      "bosses\n"
     ]
    }
   ],
   "source": [
    "def change(word):\n",
    "    if word.endswith('s') or word.endswith('x') or word.endswith('o') or word.endswith('sh') or word.endswith('ch'):\n",
    "        word=word+'es'\n",
    "    else:\n",
    "        word=word+'s'\n",
    "    return word\n",
    "word=input()\n",
    "word=change(word)\n",
    "print(word)"
   ]
  },
  {
   "cell_type": "code",
   "execution_count": null,
   "metadata": {
    "collapsed": true
   },
   "outputs": [],
   "source": []
  }
 ],
 "metadata": {
  "kernelspec": {
   "display_name": "Python 3",
   "language": "python",
   "name": "python3"
  },
  "language_info": {
   "codemirror_mode": {
    "name": "ipython",
    "version": 3
   },
   "file_extension": ".py",
   "mimetype": "text/x-python",
   "name": "python",
   "nbconvert_exporter": "python",
   "pygments_lexer": "ipython3",
   "version": "3.6.0"
  }
 },
 "nbformat": 4,
 "nbformat_minor": 2
}
