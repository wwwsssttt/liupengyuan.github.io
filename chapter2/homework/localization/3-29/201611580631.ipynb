{
 "cells": [
  {
   "cell_type": "code",
   "execution_count": 4,
   "metadata": {
    "collapsed": false
   },
   "outputs": [
    {
     "name": "stdout",
     "output_type": "stream",
     "text": [
      "first3\n",
      "second33\n",
      "third3\n",
      "sum: 8683317618811886495518194401280000012\n"
     ]
    }
   ],
   "source": [
    "def product(end):\n",
    "    i=1\n",
    "    total=1\n",
    "    while i<end:\n",
    "        i=i+1\n",
    "        total=total*i\n",
    "    return total\n",
    "m=int(input('first'))\n",
    "n=int(input('second'))\n",
    "k=int(input('third'))\n",
    "print('sum:', product(m)+product(n)+product(k))"
   ]
  },
  {
   "cell_type": "code",
   "execution_count": 6,
   "metadata": {
    "collapsed": false
   },
   "outputs": [
    {
     "name": "stdout",
     "output_type": "stream",
     "text": [
      "100000\n",
      "3.1415826535897198\n"
     ]
    }
   ],
   "source": [
    "def product(n):\n",
    "    i = 0\n",
    "    k = 1\n",
    "    total = 0\n",
    "    while (k <= n):\n",
    "        i = (k*2)-1\n",
    "        if (k % 2) == 0:\n",
    "            total -= (1/i)\n",
    "        else:\n",
    "            total += (1/i)\n",
    "        k += 1\n",
    "    return total\n",
    "n = int(input())\n",
    "print(product(n)*4)"
   ]
  },
  {
   "cell_type": "code",
   "execution_count": null,
   "metadata": {
    "collapsed": true
   },
   "outputs": [],
   "source": []
  }
 ],
 "metadata": {
  "kernelspec": {
   "display_name": "Python 3",
   "language": "python",
   "name": "python3"
  },
  "language_info": {
   "codemirror_mode": {
    "name": "ipython",
    "version": 3
   },
   "file_extension": ".py",
   "mimetype": "text/x-python",
   "name": "python",
   "nbconvert_exporter": "python",
   "pygments_lexer": "ipython3",
   "version": "3.6.0"
  }
 },
 "nbformat": 4,
 "nbformat_minor": 2
}
