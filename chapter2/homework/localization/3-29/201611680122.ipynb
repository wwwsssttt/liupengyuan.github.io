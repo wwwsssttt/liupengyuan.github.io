{
 "cells": [
  {
   "cell_type": "markdown",
   "metadata": {
    "deletable": true,
    "editable": true
   },
   "source": [
    "### 练习1：仿照求$ \\sum_{i=1}^mi + \\sum_{i=1}^ni + \\sum_{i=1}^ki$的完整代码，写程序，可求m!+n!+k!"
   ]
  },
  {
   "cell_type": "code",
   "execution_count": 1,
   "metadata": {
    "collapsed": false,
    "deletable": true,
    "editable": true
   },
   "outputs": [
    {
     "name": "stdout",
     "output_type": "stream",
     "text": [
      "请输入第一个整数，以回车结束:3\n",
      "请输入第二个整数，以回车结束:4\n",
      "请输入第三个整数，以回车结束:5\n",
      "最终的和是: 150\n"
     ]
    }
   ],
   "source": [
    "def compute_product(end):\n",
    "    i = 0\n",
    "    product_n = 1\n",
    "    \n",
    "    while i < end:\n",
    "        i = i + 1\n",
    "        product_n = product_n * i\n",
    "        \n",
    "    return product_n\n",
    "\n",
    "m = int(input('请输入第一个整数，以回车结束:'))\n",
    "n = int(input('请输入第二个整数，以回车结束:'))\n",
    "k = int(input('请输入第三个整数，以回车结束:'))\n",
    "\n",
    "print('最终的和是:',compute_product(m) + compute_product(n) + compute_product(k)) "
   ]
  },
  {
   "cell_type": "markdown",
   "metadata": {
    "deletable": true,
    "editable": true
   },
   "source": [
    "### 练习 2：写函数可返回1 - 1/3 + 1/5 - 1/7...的前n项的和。在主程序中，分别令n=1000及100000，打印4倍该函数的和。"
   ]
  },
  {
   "cell_type": "code",
   "execution_count": 2,
   "metadata": {
    "collapsed": false,
    "deletable": true,
    "editable": true
   },
   "outputs": [
    {
     "name": "stdout",
     "output_type": "stream",
     "text": [
      "3.140592653839794\n",
      "3.1415826535897198\n",
      "请输入一个整数，回车结束：1000000\n",
      "3.1415916535897743\n"
     ]
    }
   ],
   "source": [
    "def compute_total(n):\n",
    "    i = 1\n",
    "    total = 0\n",
    "    \n",
    "    if n == 1:\n",
    "        total = 1\n",
    "        \n",
    "    elif n > 1:\n",
    "        while i <= n:\n",
    "            total = total+((-1)**(i+1))*1/(2*i-1)\n",
    "            i = i + 1\n",
    "        \n",
    "    return total\n",
    "\n",
    "print(compute_total(1000)*4)\n",
    "print(compute_total(100000)*4)\n",
    "\n",
    "n = int(input('请输入一个整数，回车结束：'))\n",
    "print(compute_total(n)*4)\n",
    "\n",
    "\n",
    "\n",
    "    "
   ]
  },
  {
   "cell_type": "markdown",
   "metadata": {
    "deletable": true,
    "editable": true
   },
   "source": [
    "### 练习 3：将task3中的练习1及练习4改写为函数，并进行调用。"
   ]
  },
  {
   "cell_type": "markdown",
   "metadata": {
    "deletable": true,
    "editable": true
   },
   "source": [
    "#### Part I Task3 练习1"
   ]
  },
  {
   "cell_type": "code",
   "execution_count": 3,
   "metadata": {
    "collapsed": false,
    "deletable": true,
    "editable": true
   },
   "outputs": [
    {
     "name": "stdout",
     "output_type": "stream",
     "text": [
      "请输入你的出生日期，如5.20，回车结束：1.25\n",
      "你是智慧又叛逆的水瓶座喔！\n"
     ]
    }
   ],
   "source": [
    "def num(birthday):\n",
    "    if 3.21<= birthday <=3.31 or 4.1<= birthday <=4.19:\n",
    "        return('你是热情自信的白羊座喔！')\n",
    "    \n",
    "    elif 4.20<= birthday <= 4.30 or 5.1<= birthday <=5.20:\n",
    "        return('你是固执又有韧性的金牛座喔！')\n",
    "    \n",
    "    elif 5.21<= birthday <=5.31 or 6.1<= birthday <=6.21:\n",
    "        return('你是充满好奇心又多变的双子座喔！')\n",
    "    \n",
    "    elif 6.22<= birthday <=6.30 or 7.1<= birthday <=7.22:\n",
    "        return('你是敏锐又体贴的巨蟹座喔！')\n",
    "    \n",
    "    elif 7.23<= birthday <=7.31 or 8.1<= birthday <=8.22:\n",
    "        return('你是霸道又慷慨的狮子座喔！')\n",
    "    \n",
    "    elif 8.23<= birthday <=8.31 or 9.1<= birthday <=9.22:\n",
    "        return('你是具有完美主义的处女座喔！')\n",
    "    \n",
    "    elif 9.23<= birthday <=9.30 or 10.1<= birthday <=10.23:\n",
    "        return('你是优雅又追求和平的天秤座喔！')\n",
    "    \n",
    "    elif 10.24<= birthday <=10.31 or 11.1<= birthday <=11.22:\n",
    "        return('你是冷酷又神秘的天蝎座喔！')\n",
    "    \n",
    "    elif 11.23<= birthday <=11.30 or 12.1<= birthday <=12.21:\n",
    "        return('你是热爱自由又粗心的射手座喔！')\n",
    "    \n",
    "    elif 12.22<= birthday <=12.31 or 1.1<= birthday <=1.19:\n",
    "        return('你是稳重严肃的摩羯座喔！')\n",
    "    \n",
    "    elif 1.20<= birthday <=1.31 or 2.1<= birthday <=2.18:\n",
    "        return('你是智慧又叛逆的水瓶座喔！')\n",
    "    \n",
    "    elif 2.19<= birthday <=2.29 or 3.1<= birthday <=3.20:\n",
    "        return('你是喜欢幻想又多情的双鱼座喔！')\n",
    "\n",
    "birthday = float(input('请输入你的出生日期，如5.20，回车结束：'))\n",
    "print(num(birthday))"
   ]
  },
  {
   "cell_type": "markdown",
   "metadata": {
    "deletable": true,
    "editable": true
   },
   "source": [
    "#### Part II Task3 练习4"
   ]
  },
  {
   "cell_type": "code",
   "execution_count": 5,
   "metadata": {
    "collapsed": false,
    "deletable": true,
    "editable": true
   },
   "outputs": [
    {
     "name": "stdout",
     "output_type": "stream",
     "text": [
      "Please type in an English word(singular form):apple\n",
      "直接加s\n"
     ]
    }
   ],
   "source": [
    "def plural(word):\n",
    "    if word.endswith('s') or word.endswith('sh') or word.endswith('ch') or word.endswith('x'):\n",
    "        return('直接加es')\n",
    "    elif word.endswith('y'):\n",
    "        return('若该单词为 辅音字母加y结尾，去掉y加ies；否则直接加s')\n",
    "    elif word == 'hero'or word == 'negro' or word =='potato' or word =='tamato':\n",
    "        return('加es')\n",
    "    elif word=='half'or word =='knife' or word =='leaf' or word == 'wolf' or word == 'wife'or word =='life' or word=='thief':\n",
    "        return('去掉f或fe加ves')\n",
    "    else:\n",
    "        return('直接加s')\n",
    "    \n",
    "word = str(input('Please type in an English word(singular form):'))\n",
    "print(plural(word))"
   ]
  },
  {
   "cell_type": "markdown",
   "metadata": {
    "deletable": true,
    "editable": true
   },
   "source": [
    "### 挑战性练习：写程序，可以求从整数m到整数n累加的和，间隔为k，求和部分需用函数实现，主程序中由用户输入m，n，k调用函数验证正确性。"
   ]
  },
  {
   "cell_type": "code",
   "execution_count": 15,
   "metadata": {
    "collapsed": false,
    "deletable": true,
    "editable": true
   },
   "outputs": [
    {
     "name": "stdout",
     "output_type": "stream",
     "text": [
      "请输入起始整数，回车键结束：3\n",
      "请输入结束整数，回车键结束：15\n",
      "请输入起始与结束整数之间的公差，回车键结束：3\n",
      "45\n"
     ]
    }
   ],
   "source": [
    "def calculate_sum(m,n,k):\n",
    "    total = m\n",
    "    \n",
    "    while m < n:\n",
    "        m = m + k\n",
    "        total = total + m\n",
    "    return total\n",
    "\n",
    "\n",
    "m=int(input('请输入起始整数，回车键结束：'))\n",
    "n=int(input('请输入结束整数，回车键结束：'))\n",
    "k=int(input('请输入起始与结束整数之间的公差，回车键结束：'))\n",
    "print(calculate_sum(m,n,k))"
   ]
  }
 ],
 "metadata": {
  "kernelspec": {
   "display_name": "Python 3",
   "language": "python",
   "name": "python3"
  },
  "language_info": {
   "codemirror_mode": {
    "name": "ipython",
    "version": 3
   },
   "file_extension": ".py",
   "mimetype": "text/x-python",
   "name": "python",
   "nbconvert_exporter": "python",
   "pygments_lexer": "ipython3",
   "version": "3.6.0"
  }
 },
 "nbformat": 4,
 "nbformat_minor": 2
}
