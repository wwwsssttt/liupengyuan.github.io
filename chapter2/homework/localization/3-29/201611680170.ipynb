{
 "cells": [
  {
   "cell_type": "code",
   "execution_count": null,
   "metadata": {
    "collapsed": true
   },
   "outputs": [],
   "source": [
    "练习 1：仿照求的完整代码，写程序，可求m!+n!+k!"
   ]
  },
  {
   "cell_type": "code",
   "execution_count": 11,
   "metadata": {
    "collapsed": false
   },
   "outputs": [
    {
     "name": "stdout",
     "output_type": "stream",
     "text": [
      "请输入第1个整数，回车结束。2\n",
      "请输入第2个整数，回车结束。3\n",
      "请输入第3个整数，回车结束。1\n",
      "最终的和是： 9\n"
     ]
    }
   ],
   "source": [
    "def compute_factorial(end):\n",
    "    i=1\n",
    "    multiply=1\n",
    "    \n",
    "    while i<=end:\n",
    "        multiply=multiply*i\n",
    "        i=i+1\n",
    "        \n",
    "    return multiply\n",
    "\n",
    "m=int(input('请输入第1个整数，回车结束。'))\n",
    "n=int(input('请输入第2个整数，回车结束。'))\n",
    "k=int(input('请输入第3个整数，回车结束。'))\n",
    "\n",
    "print('最终的和是：',compute_factorial(m)+compute_factorial(n)+compute_factorial(k))"
   ]
  },
  {
   "cell_type": "code",
   "execution_count": null,
   "metadata": {
    "collapsed": true
   },
   "outputs": [],
   "source": [
    "练习 2：写函数可返回1 - 1/3 + 1/5 - 1/7...的前n项的和。在主程序中，分别令n=1000及100000，打印4倍该函数的和。"
   ]
  },
  {
   "cell_type": "code",
   "execution_count": 8,
   "metadata": {
    "collapsed": false
   },
   "outputs": [
    {
     "name": "stdout",
     "output_type": "stream",
     "text": [
      "请输入你想输入的项数，回车结束。10000\n",
      "结果是: 3.1416926635905345\n"
     ]
    }
   ],
   "source": [
    "def compute_sum(end):\n",
    "    m=1\n",
    "    i=0\n",
    "    total_n=0\n",
    "    \n",
    "    while m<end:\n",
    "        if m%2 !=0:\n",
    "            i=1/(2*m-1)\n",
    "        else:\n",
    "            i=(-1)/(2*m-1)\n",
    "           \n",
    "        m+=1\n",
    "        total_n=total_n+i\n",
    "            \n",
    "    return total_n\n",
    "            \n",
    "n=int(input('请输入你想输入的项数，回车结束。'))\n",
    "print('结果是:',4*compute_sum(n))"
   ]
  },
  {
   "cell_type": "code",
   "execution_count": null,
   "metadata": {
    "collapsed": true
   },
   "outputs": [],
   "source": [
    "#task3 练习一 改写#"
   ]
  },
  {
   "cell_type": "code",
   "execution_count": 7,
   "metadata": {
    "collapsed": false
   },
   "outputs": [
    {
     "name": "stdout",
     "output_type": "stream",
     "text": [
      "请输入你的名字，回车结束。e\n",
      "请输入你的出生月份，回车结束。6\n",
      "请输入你的出生日期，回车结束。5\n",
      "你是非常不一样的双子座\n"
     ]
    }
   ],
   "source": [
    "def constellation(m,n):\n",
    "    if m==1:\n",
    "        if n<=19:\n",
    "            print('你是非常有性格的摩羯座')\n",
    "        else:\n",
    "            print('你是非常有性格的水瓶座')\n",
    "    elif m==2:\n",
    "        if n<=18:\n",
    "            print('你是非常有性格的水瓶座')\n",
    "        else:\n",
    "            print('你是非常有性格的双鱼座')\n",
    "    elif m==3:\n",
    "        if n>=21:\n",
    "            print('你是非常有性格的白羊座')\n",
    "        else:\n",
    "            print('你是非常有性格的双鱼座')\n",
    "    elif m==4:\n",
    "        if n<=19:\n",
    "            print('你是非常有性格的白羊座')\n",
    "        else:\n",
    "            print('你是非常有性格的金牛座')\n",
    "    elif m==5:\n",
    "        if n<=21:\n",
    "            print('你是非常有性格的金牛座')\n",
    "        else:\n",
    "            print('你是非常不一样的双子座')\n",
    "    elif m==6:\n",
    "        if n<=21:\n",
    "            print('你是非常不一样的双子座')\n",
    "        else:\n",
    "            print('你是非常有性格的巨蟹座')\n",
    "    elif m==7:\n",
    "        if n<=22:\n",
    "            print('你是非常有性格的巨蟹座')\n",
    "        else:\n",
    "            print('你是非常有性格的狮子座')\n",
    "    elif m==8:\n",
    "        if n<=22:\n",
    "            print('你是非常有性格的狮子座')\n",
    "        else:\n",
    "            print('你是非常有性格的处女座')\n",
    "    elif m==9:\n",
    "        if n<=22:\n",
    "            print('你是非常有性格的处女座')\n",
    "        else:\n",
    "            print('你是非常有性格的天秤座')\n",
    "    elif m==10:\n",
    "        if n<=23:\n",
    "            print('你是非常有性格的天秤座')\n",
    "        else:\n",
    "            print('你是非常有性格的天蝎座')\n",
    "    elif m==11:\n",
    "        if n<=22:\n",
    "            print('你是非常有性格的天蝎座')\n",
    "        else:\n",
    "            print('你是非常有性格的射手座')\n",
    "    elif m==12:\n",
    "        if n<=21:\n",
    "            print('你是非常有性格的射手座')\n",
    "        else:\n",
    "            print('你是非常有性格的摩羯座')\n",
    "    elif m==1:\n",
    "        if n<=19:\n",
    "            print('你是非常有性格的摩羯座')\n",
    "        else:\n",
    "            print('你是非常有性格的水瓶座')\n",
    "    elif m==2:\n",
    "        if n<=18:\n",
    "            print('你是非常有性格的水瓶座')\n",
    "        else:\n",
    "            print('你是非常有性格的双鱼座')\n",
    "                        \n",
    "a=int(input('请输入你的出生月份，回车结束。'))\n",
    "b=int(input('请输入你的出生日期，回车结束。'))\n",
    "constellation(a,b)"
   ]
  },
  {
   "cell_type": "code",
   "execution_count": null,
   "metadata": {
    "collapsed": true
   },
   "outputs": [],
   "source": [
    "#task3 练习四 改写#"
   ]
  },
  {
   "cell_type": "code",
   "execution_count": 16,
   "metadata": {
    "collapsed": false
   },
   "outputs": [
    {
     "name": "stdout",
     "output_type": "stream",
     "text": [
      "请输入一个单词，回车结束。dish\n",
      "dishes\n"
     ]
    }
   ],
   "source": [
    "def change(word):\n",
    "    if word.endswith ('x'):\n",
    "        print(word,'es',sep='')\n",
    "    elif word.endswith ('sh'):\n",
    "        print(word,'es',sep='')\n",
    "    else:\n",
    "        print(word,'s',sep='')\n",
    "\n",
    "m=input('请输入一个单词，回车结束。')\n",
    "change(m)"
   ]
  },
  {
   "cell_type": "code",
   "execution_count": null,
   "metadata": {
    "collapsed": true
   },
   "outputs": [],
   "source": [
    "挑战性练习：写程序，可以求从整数m到整数n累加的和，间隔为k，求和部分需用函数实现，主程序中由用户输入m，n，k调用函数验证正确性。"
   ]
  },
  {
   "cell_type": "code",
   "execution_count": 21,
   "metadata": {
    "collapsed": false
   },
   "outputs": [
    {
     "name": "stdout",
     "output_type": "stream",
     "text": [
      "请输入一个整数，回车结束。3\n",
      "请输入一个整数作为间隔，回车结束。4\n"
     ]
    },
    {
     "data": {
      "text/plain": [
       "25"
      ]
     },
     "execution_count": 21,
     "metadata": {},
     "output_type": "execute_result"
    }
   ],
   "source": [
    "def my_sum(a,b):\n",
    "    if a<=b:\n",
    "        total=0\n",
    "        while a<=b:\n",
    "            total=total+a\n",
    "            a+=1\n",
    "    else:\n",
    "        total=0\n",
    "        while a>=b:\n",
    "            total=total+b\n",
    "            b+=1\n",
    "    return total\n",
    "\n",
    "m=int(input('请输入一个整数，回车结束。'))\n",
    "k=int(input('请输入一个整数作为间隔，回车结束。'))\n",
    "n=(m+k)\n",
    "my_sum(m,n)"
   ]
  }
 ],
 "metadata": {
  "kernelspec": {
   "display_name": "Python 3",
   "language": "python",
   "name": "python3"
  },
  "language_info": {
   "codemirror_mode": {
    "name": "ipython",
    "version": 3
   },
   "file_extension": ".py",
   "mimetype": "text/x-python",
   "name": "python",
   "nbconvert_exporter": "python",
   "pygments_lexer": "ipython3",
   "version": "3.6.0"
  }
 },
 "nbformat": 4,
 "nbformat_minor": 2
}
