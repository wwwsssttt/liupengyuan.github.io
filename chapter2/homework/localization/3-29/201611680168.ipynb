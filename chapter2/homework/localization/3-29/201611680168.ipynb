{
 "cells": [
  {
   "cell_type": "markdown",
   "metadata": {},
   "source": [
    "练习 1：仿照求$ \\sum_{i=1}^mi + \\sum_{i=1}^ni  + \\sum_{i=1}^ki$的完整代码，写程序，可求m!+n!+k!"
   ]
  },
  {
   "cell_type": "code",
   "execution_count": 2,
   "metadata": {
    "collapsed": false
   },
   "outputs": [
    {
     "name": "stdout",
     "output_type": "stream",
     "text": [
      "请输入第1个整数，以回车结束。1\n",
      "请输入第2个整数，以回车结束。2\n",
      "请输入第3个整数，以回车结束。3\n",
      "最终的和是： 9\n"
     ]
    }
   ],
   "source": [
    "def compute_multi(end):\n",
    "    i = 0\n",
    "    multi = 1\n",
    "\n",
    "    while i < end:\n",
    "        i = i + 1\n",
    "        multi = multi * i\n",
    "\n",
    "    return multi\n",
    "\n",
    "n = int(input('请输入第1个整数，以回车结束。'))\n",
    "m = int(input('请输入第2个整数，以回车结束。'))\n",
    "k = int(input('请输入第3个整数，以回车结束。'))\n",
    "\n",
    "print('最终的和是：', compute_multi(m) + compute_multi(n) + compute_multi(k))"
   ]
  },
  {
   "cell_type": "markdown",
   "metadata": {},
   "source": [
    "练习 2：写函数可返回1 - 1/3 + 1/5 - 1/7...的前n项的和。在主程序中，分别令n=1000及100000，打印4倍该函数的和。"
   ]
  },
  {
   "cell_type": "code",
   "execution_count": 3,
   "metadata": {
    "collapsed": false
   },
   "outputs": [
    {
     "name": "stdout",
     "output_type": "stream",
     "text": [
      "你想输入的数是1000还是100000：100000\n",
      "1-1/3+1/5-1/7...的4倍是： 3.1416026536897204\n"
     ]
    }
   ],
   "source": [
    "def compute_sum(end):\n",
    "    a = 1\n",
    "    total = 0\n",
    "    x = 0\n",
    "    \n",
    "    while a < n:\n",
    "        if a % 2 == 0:\n",
    "            x = - 1 / (2*a-1)\n",
    "        else:\n",
    "            x = 1 / (2*a-1)\n",
    "        a = a + 1\n",
    "        total = total + x\n",
    "    \n",
    "    return total\n",
    "\n",
    "n=int(input('你想输入的数是1000还是100000：'))\n",
    "print('1-1/3+1/5-1/7...的4倍是：',4*compute_sum(n))"
   ]
  },
  {
   "cell_type": "markdown",
   "metadata": {},
   "source": [
    "练习 3：将task3中的练习1及练习4改写为函数，并进行调用。"
   ]
  },
  {
   "cell_type": "markdown",
   "metadata": {},
   "source": [
    "改写第三周练习 1：写程序，可由键盘读入用户姓名例如Mr. right，让用户输入出生的月份与日期，判断用户星座，假设用户是金牛座，则输出，Mr. right，你是非常有性格的金牛座！。"
   ]
  },
  {
   "cell_type": "code",
   "execution_count": 4,
   "metadata": {
    "collapsed": false
   },
   "outputs": [
    {
     "name": "stdout",
     "output_type": "stream",
     "text": [
      "请输入你的姓名，回车结束：pxs\n",
      "pxs 你好！\n",
      "请输入你的出生月份，回车结束：2\n",
      "请输入你的出生日期，回车结束：28\n",
      "pxs ，你是双鱼座。\n"
     ]
    },
    {
     "data": {
      "text/plain": [
       "<function __main__.xingzuo>"
      ]
     },
     "execution_count": 4,
     "metadata": {},
     "output_type": "execute_result"
    }
   ],
   "source": [
    "def xingzuo(month,date):\n",
    "    if month == 3:\n",
    "        if date >=21:\n",
    "            print(name,'，你是白羊座。')\n",
    "        else:\n",
    "            print(name,'，你是双鱼座。')\n",
    "\n",
    "    elif month == 4:\n",
    "        if date >= 20:\n",
    "            print(name,'，你是金牛座。')\n",
    "        else:\n",
    "            print(name,'，你是白羊座。')\n",
    "        \n",
    "    elif month == 5:\n",
    "        if date >= 21:\n",
    "            print(name,'，你是双子座。')\n",
    "        else:\n",
    "            print(name,'，你是金牛座。')\n",
    "        \n",
    "    elif month == 6:\n",
    "        if date >= 22:\n",
    "            print(name,'，你是巨蟹座。')\n",
    "        else:\n",
    "            print(name,'，你是双子座。')\n",
    "              \n",
    "    elif month == 7:\n",
    "        if date >= 23:\n",
    "            print(name,'，你是狮子座。')\n",
    "        else:\n",
    "            print(name,'，你是巨蟹座。')\n",
    "        \n",
    "    elif month == 8:\n",
    "        if date >= 23:\n",
    "            print(name,'，你是处女座。')\n",
    "        else:\n",
    "            print(name,'，你是狮子座。')\n",
    "        \n",
    "    elif month == 9:\n",
    "        if date >= 23:\n",
    "            print(name,'，你是天秤座。')\n",
    "        else:\n",
    "            print(name,'，你是处女座。')\n",
    "        \n",
    "    elif month == 10:\n",
    "        if date >= 24:\n",
    "            print(name,'，你是天蝎座。')\n",
    "        else:\n",
    "            print(name,'，你是天秤座。')\n",
    "        \n",
    "    elif month == 11:\n",
    "        if date >= 23:\n",
    "            print(name,'，你是射手座。')\n",
    "        else:\n",
    "            print(name,'，你是天蝎座。')\n",
    "        \n",
    "    elif month == 12:\n",
    "        if date >= 22:\n",
    "            print(name,'，你是摩羯座。')\n",
    "        else:\n",
    "            print(name,'，你是射手座。')\n",
    "        \n",
    "    elif month == 1:\n",
    "        if date >= 20:\n",
    "            print(name,'，你是水瓶座。')\n",
    "        else:\n",
    "            print(name,'，你是摩羯座。')\n",
    "        \n",
    "    elif month == 2:\n",
    "        if date >= 19:\n",
    "            print(name,'，你是双鱼座。')\n",
    "        else:\n",
    "            print(name,'，你是水瓶座。')\n",
    "    return xingzuo\n",
    "        \n",
    "#主程序\n",
    "name=input('请输入你的姓名，回车结束：')\n",
    "print(name,'你好！')\n",
    "\n",
    "a=int(input('请输入你的出生月份，回车结束：'))\n",
    "b=int(input('请输入你的出生日期，回车结束：'))\n",
    "xingzuo(a,b)"
   ]
  },
  {
   "cell_type": "markdown",
   "metadata": {},
   "source": [
    "改写第三周练习 4：英文单词单数转复数，要求输入一个英文动词（单数形式），能够得到其复数形式，或给出单数转复数形式的建议（提示，some_string.endswith(some_letter)函数可以判断某字符串结尾字符）。"
   ]
  },
  {
   "cell_type": "code",
   "execution_count": 2,
   "metadata": {
    "collapsed": false
   },
   "outputs": [
    {
     "name": "stdout",
     "output_type": "stream",
     "text": [
      "请输入一个英文单词，回车结束go\n",
      "go 加es\n"
     ]
    }
   ],
   "source": [
    "def ciwei(a):\n",
    "\n",
    "    if a.endswith('o'):\n",
    "        print(s,'加es')\n",
    "\n",
    "    elif a.endswith('ch') or s.endswith('sh'):\n",
    "        print(s,'加es')\n",
    "\n",
    "    else:\n",
    "        print(s,'加s')\n",
    "    \n",
    "#主程序\n",
    "s=input('请输入一个英文单词，回车结束')\n",
    "ciwei(s)"
   ]
  },
  {
   "cell_type": "markdown",
   "metadata": {},
   "source": [
    "挑战性练习：写程序，可以求从整数m到整数n累加的和，间隔为k，求和部分需用函数实现，主程序中由用户输入m，n，k调用函数验证正确性。"
   ]
  },
  {
   "cell_type": "code",
   "execution_count": null,
   "metadata": {
    "collapsed": false
   },
   "outputs": [
    {
     "name": "stdout",
     "output_type": "stream",
     "text": [
      "请输入一个较小的整数3\n",
      "请输入一个较大的整数12\n",
      "求和间隔是3\n"
     ]
    }
   ],
   "source": [
    "def compute_sum(end):\n",
    "    total = 0\n",
    "    i = 0\n",
    "    \n",
    "    while i < end:\n",
    "        i =+ k\n",
    "        total =+ i\n",
    "    \n",
    "    return total\n",
    "\n",
    "#主程序\n",
    "m = int(input('请输入一个较小的整数'))\n",
    "n = int(input('请输入一个较大的整数'))\n",
    "k = int(input('求和间隔是'))\n",
    "\n",
    "print(compute_sum(n)-compute_sum(m))"
   ]
  },
  {
   "cell_type": "code",
   "execution_count": null,
   "metadata": {
    "collapsed": false
   },
   "outputs": [],
   "source": []
  },
  {
   "cell_type": "code",
   "execution_count": null,
   "metadata": {
    "collapsed": true
   },
   "outputs": [],
   "source": []
  }
 ],
 "metadata": {
  "kernelspec": {
   "display_name": "Python 3",
   "language": "python",
   "name": "python3"
  },
  "language_info": {
   "codemirror_mode": {
    "name": "ipython",
    "version": 3
   },
   "file_extension": ".py",
   "mimetype": "text/x-python",
   "name": "python",
   "nbconvert_exporter": "python",
   "pygments_lexer": "ipython3",
   "version": "3.6.0"
  }
 },
 "nbformat": 4,
 "nbformat_minor": 2
}
