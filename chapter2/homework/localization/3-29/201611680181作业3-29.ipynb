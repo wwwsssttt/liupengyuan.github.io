{
 "cells": [
  {
   "cell_type": "markdown",
   "metadata": {},
   "source": [
    "练习1"
   ]
  },
  {
   "cell_type": "code",
   "execution_count": 1,
   "metadata": {
    "collapsed": false
   },
   "outputs": [
    {
     "name": "stdout",
     "output_type": "stream",
     "text": [
      "请输入一个整数，以回车结束5\n",
      "请输入一个整数，以回车结束4\n",
      "请输入一个整数，以回车结束5\n",
      "最终的和是 264\n"
     ]
    }
   ],
   "source": [
    "def compute_pro(end):\n",
    "    i=1\n",
    "    pro_n = 1\n",
    "    \n",
    "    while i<end:\n",
    "        i=i+1\n",
    "        pro_n = pro_n * i\n",
    "    return pro_n\n",
    "\n",
    "m=int(input('请输入一个整数，以回车结束'))\n",
    "n=int(input('请输入一个整数，以回车结束'))\n",
    "k=int(input('请输入一个整数，以回车结束'))\n",
    "\n",
    "print('最终的和是',compute_pro(m)+compute_pro(n)+compute_pro(k))"
   ]
  },
  {
   "cell_type": "markdown",
   "metadata": {},
   "source": [
    "练习2"
   ]
  },
  {
   "cell_type": "code",
   "execution_count": 2,
   "metadata": {
    "collapsed": false
   },
   "outputs": [
    {
     "name": "stdout",
     "output_type": "stream",
     "text": [
      "plz1000\n",
      "最终的和是 3.140592653839794\n"
     ]
    }
   ],
   "source": [
    "def compute_sum(end):\n",
    "    i=1\n",
    "    total_k=0\n",
    "    n=0\n",
    "    m=0\n",
    "    \n",
    "    while i<end:\n",
    "        n= 1/(2*i-1)\n",
    "        m= 1/(2*i+1)\n",
    "        total_k=total_k+n-m\n",
    "        i=i+2\n",
    "    return total_k\n",
    "k=int(input('plz'))\n",
    "print('最终的和是',4*compute_sum(k))"
   ]
  },
  {
   "cell_type": "code",
   "execution_count": 3,
   "metadata": {
    "collapsed": false
   },
   "outputs": [
    {
     "name": "stdout",
     "output_type": "stream",
     "text": [
      "plz10000\n",
      "最终的和是 3.1414926535900345\n"
     ]
    }
   ],
   "source": [
    "def compute_sum(end):\n",
    "    i=1\n",
    "    total_k=0\n",
    "    n=0\n",
    "    m=0\n",
    "    \n",
    "    while i<end:\n",
    "        n= 1/(2*i-1)\n",
    "        m= 1/(2*i+1)\n",
    "        total_k=total_k+n-m\n",
    "        i=i+2\n",
    "    return total_k\n",
    "k=int(input('plz'))\n",
    "print('最终的和是',4*compute_sum(k))"
   ]
  },
  {
   "cell_type": "markdown",
   "metadata": {},
   "source": [
    "练习3 （1"
   ]
  },
  {
   "cell_type": "code",
   "execution_count": 4,
   "metadata": {
    "collapsed": false
   },
   "outputs": [
    {
     "name": "stdout",
     "output_type": "stream",
     "text": [
      "请输入你的生日8.1\n",
      "你是狮子座\n"
     ]
    }
   ],
   "source": [
    "def n(date):\n",
    "    if 1.19<date<2.19:\n",
    "        return('你是水瓶座')\n",
    "    if 2.18<date<3.21:\n",
    "        return('你是双鱼座')\n",
    "    if 3.20<date<4.20:\n",
    "        return('你是白羊座')\n",
    "    if 4.19<date<5.21:\n",
    "        return('你是金牛座')\n",
    "    if 5.20<date<6.22:\n",
    "        return('你是双子座')\n",
    "    if 6.21<date<7.23:\n",
    "        return('你是巨蟹座')\n",
    "    if 7.22<date<8.23:\n",
    "        return('你是狮子座')\n",
    "    if 3.22<date<9.23:\n",
    "        return('你是处女座')\n",
    "    if 9.22<date<10.24:\n",
    "        return('你是天枰座')\n",
    "    if 10.23<date<11.23:\n",
    "        return('你是天蝎座')\n",
    "    if 11.22<date<12.22:\n",
    "        return('你是射手座')\n",
    "    if date>12.21 or date<1.20:\n",
    "        return('你是摩羯座')\n",
    "date=float(input('请输入你的生日'))\n",
    "print(n(date))"
   ]
  },
  {
   "cell_type": "markdown",
   "metadata": {},
   "source": [
    "练习3  （4"
   ]
  },
  {
   "cell_type": "code",
   "execution_count": 5,
   "metadata": {
    "collapsed": false
   },
   "outputs": [
    {
     "name": "stdout",
     "output_type": "stream",
     "text": [
      "请输入fox\n",
      "加es\n"
     ]
    }
   ],
   "source": [
    "def n(word):\n",
    "    if word.endswith('s'):\n",
    "        return('加es')\n",
    "    if word.endswith('x'):\n",
    "        return('加es')\n",
    "    else:\n",
    "        return('加s')\n",
    "word=str(input('请输入'))\n",
    "print(n(word))"
   ]
  },
  {
   "cell_type": "markdown",
   "metadata": {},
   "source": [
    "挑战性练习"
   ]
  },
  {
   "cell_type": "code",
   "execution_count": 6,
   "metadata": {
    "collapsed": false
   },
   "outputs": [
    {
     "name": "stdout",
     "output_type": "stream",
     "text": [
      "请输入9\n",
      "请输入,m与n不等1\n",
      "请输入2\n",
      "25\n"
     ]
    }
   ],
   "source": [
    "def compute_sum(end):\n",
    "    i=m\n",
    "    total=i\n",
    "    end=n\n",
    "    if i<end:\n",
    "        while i<end:\n",
    "            i=i+k\n",
    "            total=total+i\n",
    "        return total\n",
    "\n",
    "    elif i>=end:\n",
    "        while i> end:\n",
    "            i=i-k\n",
    "            total=total+i\n",
    "        return total\n",
    "m=int(input('请输入'))\n",
    "n=int(input('请输入,m与n不等'))\n",
    "k=int(input('请输入'))\n",
    "\n",
    "print(compute_sum(n))"
   ]
  }
 ],
 "metadata": {
  "kernelspec": {
   "display_name": "Python 3",
   "language": "python",
   "name": "python3"
  },
  "language_info": {
   "codemirror_mode": {
    "name": "ipython",
    "version": 3
   },
   "file_extension": ".py",
   "mimetype": "text/x-python",
   "name": "python",
   "nbconvert_exporter": "python",
   "pygments_lexer": "ipython3",
   "version": "3.6.0"
  }
 },
 "nbformat": 4,
 "nbformat_minor": 2
}
