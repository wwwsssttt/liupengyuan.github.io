{
 "cells": [
  {
   "cell_type": "markdown",
   "metadata": {},
   "source": [
    "## 练习1"
   ]
  },
  {
   "cell_type": "code",
   "execution_count": 1,
   "metadata": {
    "collapsed": false
   },
   "outputs": [
    {
     "name": "stdout",
     "output_type": "stream",
     "text": [
      "请输入第1个整数，以回车结束。3\n",
      "请输入第2个整数，以回车结束。4\n",
      "请输入第3个整数，以回车结束。5\n",
      "您输入的三个数的阶乘的和为 150\n"
     ]
    }
   ],
   "source": [
    "def compute_sum(end):\n",
    "    i=0\n",
    "    product=1\n",
    "    \n",
    "    while i<end:\n",
    "        i=i+1\n",
    "        product=product*i\n",
    "        \n",
    "    return product\n",
    "\n",
    "n = int(input('请输入第1个整数，以回车结束。'))\n",
    "m = int(input('请输入第2个整数，以回车结束。'))\n",
    "k = int(input('请输入第3个整数，以回车结束。'))\n",
    "\n",
    "print('您输入的三个数的阶乘的和为',compute_sum(m) + compute_sum(n) + compute_sum(k))"
   ]
  },
  {
   "cell_type": "markdown",
   "metadata": {},
   "source": [
    "## 练习2"
   ]
  },
  {
   "cell_type": "code",
   "execution_count": 3,
   "metadata": {
    "collapsed": false
   },
   "outputs": [
    {
     "name": "stdout",
     "output_type": "stream",
     "text": [
      "n=1000时 3.1425916543395442\n",
      "m=100000时 3.1416026534897203\n"
     ]
    }
   ],
   "source": [
    "def compute_sum(end):\n",
    "    i=0\n",
    "    total=0\n",
    "    \n",
    "    while i<=end:\n",
    "        i=i+1\n",
    "        total=total+(1/(2*i-1))*((-1)**(i+1))\n",
    "        \n",
    "    return total\n",
    "\n",
    "n=1000\n",
    "m=100000\n",
    "\n",
    "print('n=1000时',4*compute_sum(n))\n",
    "print('m=100000时',4*compute_sum(m))"
   ]
  },
  {
   "cell_type": "markdown",
   "metadata": {},
   "source": []
  },
  {
   "cell_type": "code",
   "execution_count": null,
   "metadata": {
    "collapsed": true
   },
   "outputs": [],
   "source": []
  }
 ],
 "metadata": {
  "kernelspec": {
   "display_name": "Python 3",
   "language": "python",
   "name": "python3"
  },
  "language_info": {
   "codemirror_mode": {
    "name": "ipython",
    "version": 3
   },
   "file_extension": ".py",
   "mimetype": "text/x-python",
   "name": "python",
   "nbconvert_exporter": "python",
   "pygments_lexer": "ipython3",
   "version": "3.6.0"
  }
 },
 "nbformat": 4,
 "nbformat_minor": 2
}
