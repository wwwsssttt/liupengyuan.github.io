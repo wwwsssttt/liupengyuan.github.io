{
 "cells": [
  {
   "cell_type": "code",
   "execution_count": null,
   "metadata": {
    "collapsed": true
   },
   "outputs": [],
   "source": [
    "#练习 1：仿照求$ \\sum_{i=1}^mi + \\sum_{i=1}^ni  + \\sum_{i=1}^ki$的完整代码，写程序，可求m!+n!+k!"
   ]
  },
  {
   "cell_type": "code",
   "execution_count": null,
   "metadata": {
    "collapsed": true
   },
   "outputs": [],
   "source": [
    "def compute_product(end):\n",
    "    i = 1\n",
    "    product = 1\n",
    "    while i < end:\n",
    "        i = i + 1\n",
    "        product = product * i\n",
    "        \n",
    "    return product\n",
    "\n",
    "n = int(input('请输入第一个整数，回车结束。'))\n",
    "m = int(input('请输入第二个整数，回车结束。'))\n",
    "k = int(input('请输入第三个整数，回车结束。'))\n",
    "\n",
    "print('最终的和是：', compute_product(n) + compute_product(m) + compute_product(k))"
   ]
  },
  {
   "cell_type": "code",
   "execution_count": null,
   "metadata": {
    "collapsed": true
   },
   "outputs": [],
   "source": [
    "#练习 2：写函数可返回1 - 1/3 + 1/5 - 1/7...的前n项的和。在主程序中，分别令n=1000及100000，打印4倍该函数的和。"
   ]
  },
  {
   "cell_type": "code",
   "execution_count": 1,
   "metadata": {
    "collapsed": false
   },
   "outputs": [
    {
     "name": "stdout",
     "output_type": "stream",
     "text": [
      "最终的和是: 3.143588659585789\n",
      "最终的和是: 3.141612653189785\n"
     ]
    }
   ],
   "source": [
    "def compute_sum(end):\n",
    "    i = 1\n",
    "    n = 0\n",
    "    total = 1\n",
    "    while i <= end:\n",
    "        i = i + 2\n",
    "        n = n + 1\n",
    "        total=total + (-1)**n*(1/i)\n",
    "        \n",
    "    return total\n",
    "\n",
    "print('最终的和是:', 4*compute_sum(1000))\n",
    "print('最终的和是:', 4*compute_sum(100000))"
   ]
  },
  {
   "cell_type": "code",
   "execution_count": null,
   "metadata": {
    "collapsed": true
   },
   "outputs": [],
   "source": [
    "#练习 3：将task3中的练习1及练习4改写为函数，并进行调用。"
   ]
  },
  {
   "cell_type": "code",
   "execution_count": null,
   "metadata": {
    "collapsed": true
   },
   "outputs": [],
   "source": [
    "def constellation(date):\n",
    "    if 3.21<=date<=4.19:\n",
    "        print(name,',你是非常有个性的白羊座')\n",
    "    elif 4.20<=date<=5.20:\n",
    "        print(name,',你是非常有个性的金牛座')\n",
    "    elif 5.21<=date<=6.21:\n",
    "        print(name,',你是非常有个性的双子座')\n",
    "    elif 6.22<=date<=7.22:\n",
    "        print(name,',你是非常有个性的巨蟹座')\n",
    "    elif 7.23<=date<=8.22:\n",
    "        print(name,',你是非常有个性的狮子座')\n",
    "    elif 8.23<=date<=9.22:\n",
    "        print(name,',你是非常有个性的处女座')\n",
    "    elif 9.23<=date<=10.23:\n",
    "        print(name,',你是非常有个性的天秤座')\n",
    "    elif 10.24<=date<=11.22:\n",
    "        print(name,',你是非常有个性的天蝎座')\n",
    "    elif 11.23<=date<=12.21:\n",
    "        print(name,',你是非常有个性的射手座')\n",
    "    elif 12.22<=date<=1.19:\n",
    "        print(name,',你是非常有个性的魔蝎座')\n",
    "    elif 1.20<=date<=2.18:\n",
    "        print(name,',你是非常有个性的水瓶座')\n",
    "    else:\n",
    "        print(name,',你是非常有个性的双鱼座')\n",
    "name = input('请输入你的名字')\n",
    "date = float(input('请输入你的出生月份和日期，以xx.xx形式，如3.09：'))\n",
    "             \n",
    "    return constellation(data)"
   ]
  },
  {
   "cell_type": "code",
   "execution_count": 5,
   "metadata": {
    "collapsed": false
   },
   "outputs": [
    {
     "name": "stdout",
     "output_type": "stream",
     "text": [
      "请输入一个可数英文名动词的单数形式study\n",
      "studies\n"
     ]
    }
   ],
   "source": [
    "def verb_change(a):\n",
    "    if a.endswith('o') or a.endswith('s') or a.endswith('x')or a.endswith('ch') or a.endswith('sh'):\n",
    "        print (a,'es',sep='')\n",
    "    elif a.endswith('y'):\n",
    "        if a[:-1].endswith('a')or a[:-1].endswith('e') or a[:-1].endswith('i') or a[:-1].endswith('o') or a[:-1].endswith('u') :\n",
    "            print(a,'s',sep='')\n",
    "        else:\n",
    "            print (a[:-1],'ies',sep='')\n",
    "    else:\n",
    "        print(a,'s',sep='')\n",
    "              \n",
    "a=input(\"请输入一个可数英文名动词的单数形式\")\n",
    "verb_change(a)"
   ]
  },
  {
   "cell_type": "code",
   "execution_count": null,
   "metadata": {
    "collapsed": true
   },
   "outputs": [],
   "source": [
    "#挑战性练习：写程序，可以求从整数m到整数n累加的和，间隔为k，求和部分需用函数实现，主程序中由用户输入m，n，k调用函数验证正确性。"
   ]
  },
  {
   "cell_type": "code",
   "execution_count": null,
   "metadata": {
    "collapsed": true
   },
   "outputs": [],
   "source": [
    "def sum_total( m, n, k):\n",
    "    i = m\n",
    "    sum = 0\n",
    "    while i <= n:\n",
    "        sum = sum + i\n",
    "        i = i + k\n",
    "    return sum\n",
    "\n",
    "m = int(input('请输入整数m的值：'))\n",
    "n = int(input('请输入整数n的值：'))\n",
    "k = int(input('请输入整数k的值：'))\n",
    "print(sum_total(m,n,k))"
   ]
  }
 ],
 "metadata": {
  "kernelspec": {
   "display_name": "Python 3",
   "language": "python",
   "name": "python3"
  },
  "language_info": {
   "codemirror_mode": {
    "name": "ipython",
    "version": 3
   },
   "file_extension": ".py",
   "mimetype": "text/x-python",
   "name": "python",
   "nbconvert_exporter": "python",
   "pygments_lexer": "ipython3",
   "version": "3.6.0"
  }
 },
 "nbformat": 4,
 "nbformat_minor": 2
}
