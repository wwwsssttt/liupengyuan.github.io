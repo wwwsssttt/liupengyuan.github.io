{
 "cells": [
  {
   "cell_type": "markdown",
   "metadata": {},
   "source": [
    "## 写程序，可求m!+n!+k!"
   ]
  },
  {
   "cell_type": "code",
   "execution_count": null,
   "metadata": {
    "collapsed": false
   },
   "outputs": [],
   "source": [
    "def compute_sum(end):\n",
    "    i = 1\n",
    "    total_m = 1\n",
    "    \n",
    "    while end > i:\n",
    "        i = i+1\n",
    "        total_m = total_m * i\n",
    "        \n",
    "    return total_m\n",
    "\n",
    "m = int(input('请输入第1个整数'))\n",
    "n = int(input('请输入第2个整数'))\n",
    "k = int(input('请输入第3个整数'))\n",
    "\n",
    "print('最终的和是：', compute_sum(m) + compute_sum(n) + compute_sum(k))"
   ]
  },
  {
   "cell_type": "markdown",
   "metadata": {},
   "source": [
    "## 写函数可返回1-1/3+1/5-1/7....的前n项和。在主程序中，分别令n=1000及100000，打印4倍该函数的和。"
   ]
  },
  {
   "cell_type": "code",
   "execution_count": 1,
   "metadata": {
    "collapsed": false
   },
   "outputs": [
    {
     "name": "stdout",
     "output_type": "stream",
     "text": [
      "4倍前1000项的和为： 3.1425916543395442\n",
      "4倍前100000项的和为： 3.1416026534897203\n"
     ]
    }
   ],
   "source": [
    "def compute_sum(end):\n",
    "    t = 0\n",
    "    i = 1\n",
    "    total_n = 1\n",
    "    \n",
    "    while t < end:\n",
    "        i = i + 2\n",
    "        t = t + 1\n",
    "        total_n = total_n + (-1)**t * 1/i\n",
    "        \n",
    "    return total_n\n",
    "\n",
    "n = 1000\n",
    "print('4倍前1000项的和为：', 4*compute_sum(n))\n",
    "n = 100000\n",
    "print('4倍前100000项的和为：', 4*compute_sum(n))"
   ]
  },
  {
   "cell_type": "markdown",
   "metadata": {},
   "source": [
    "## 将task3中的练习1改写为函数，并进行调用"
   ]
  },
  {
   "cell_type": "code",
   "execution_count": null,
   "metadata": {
    "collapsed": false
   },
   "outputs": [],
   "source": [
    "name = input('请输入你的姓名，以回车结束')\n",
    "print('你好', name)\n",
    "\n",
    "def compute_star(d):\n",
    "    if m == 4:\n",
    "        if d < 20:\n",
    "            j = '你是白羊座'\n",
    "        else:\n",
    "            j = '你是非常有性格的金牛座'\n",
    "    \n",
    "    return j\n",
    "\n",
    "m = int(input('请输入你的出生月份'))\n",
    "d = int(input('请输入你的出生日期'))\n",
    "\n",
    "print(computer_star(d))"
   ]
  },
  {
   "cell_type": "markdown",
   "metadata": {},
   "source": [
    "## 将task3中的练习4改写为函数，并进行调用"
   ]
  },
  {
   "cell_type": "code",
   "execution_count": null,
   "metadata": {
    "collapsed": true
   },
   "outputs": [],
   "source": []
  }
 ],
 "metadata": {
  "kernelspec": {
   "display_name": "Python 3",
   "language": "python",
   "name": "python3"
  },
  "language_info": {
   "codemirror_mode": {
    "name": "ipython",
    "version": 3
   },
   "file_extension": ".py",
   "mimetype": "text/x-python",
   "name": "python",
   "nbconvert_exporter": "python",
   "pygments_lexer": "ipython3",
   "version": "3.6.0"
  }
 },
 "nbformat": 4,
 "nbformat_minor": 2
}
