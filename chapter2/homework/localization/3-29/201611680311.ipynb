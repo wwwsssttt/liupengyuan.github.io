{
 "cells": [
  {
   "cell_type": "code",
   "execution_count": 1,
   "metadata": {
    "collapsed": false
   },
   "outputs": [
    {
     "name": "stdout",
     "output_type": "stream",
     "text": [
      "plz2\n",
      "plz3\n",
      "plz1\n",
      "5\n"
     ]
    }
   ],
   "source": [
    "#练习1\n",
    "def compute_sum(end):\n",
    "    i=0\n",
    "    total_n=1\n",
    "    \n",
    "    while i<end:\n",
    "        i=i+1\n",
    "        total_n=total_n*i\n",
    "        \n",
    "    return total_n\n",
    "\n",
    "n=int(input('输入一个整数'))\n",
    "m=int(input('输入一个整数'))\n",
    "k=int(input('输入一个整数'))\n",
    "\n",
    "print('total', compute_sum(m)+compute_sum(n)+compute_sum(k))\n"
   ]
  },
  {
   "cell_type": "code",
   "execution_count": null,
   "metadata": {
    "collapsed": true
   },
   "outputs": [],
   "source": [
    "#练习2\n",
    "def compute_sum(n):\n",
    "    i=1\n",
    "    total=0\n",
    "    while i<=n:\n",
    "        total=1/(2*i-1)-1/(2*i+1)+total\n",
    "        i=i+2\n",
    "    return total\n",
    "        \n",
    "n=int(input('请输入一个整数'))\n",
    "print(compute_sum(n)*4)\n"
   ]
  },
  {
   "cell_type": "code",
   "execution_count": null,
   "metadata": {
    "collapsed": true
   },
   "outputs": [],
   "source": [
    "#练习3 \n",
    "#task 3 练习1\n",
    "def n(date):\n",
    "    if 1.20<=date<=2.18:\n",
    "        return('水瓶座')\n",
    "    if 2.19<=date<=3.20:\n",
    "        return('双鱼座')\n",
    "    if 3.21<=date<=4.19:\n",
    "        return('白羊座')\n",
    "    if 4.20<=date<=5.20:\n",
    "        return('金牛座')\n",
    "    if 5.21<=date<=6.21:\n",
    "        return('双子座')\n",
    "    if 6.22<=date<=7.22:\n",
    "        return('巨蟹座')\n",
    "    if 7.23<=date<=8.22:\n",
    "        return('狮子座')\n",
    "    if 8.23<=date<=9.22:\n",
    "        return('处女座')\n",
    "    if 9.23<=date<=10.23:\n",
    "        return('天秤座')\n",
    "    if 10.24<=date<=11.22:\n",
    "        return('天蝎座')\n",
    "    if 11.23<=date<=12.21:\n",
    "        return('射手座')\n",
    "    if 12.22<=date<=12.31 or 1.01<=date<=1.18:\n",
    "        return('摩羯座')\n",
    "\n",
    "date=float(input('请输入你的出生日期'))\n",
    "print(n(date))\n"
   ]
  },
  {
   "cell_type": "code",
   "execution_count": null,
   "metadata": {
    "collapsed": true
   },
   "outputs": [],
   "source": [
    "#练习3\n",
    "#task3 练习4\n",
    "def plural(word):\n",
    "    if word.endswith('x') or word.endswith('s') or word.endswith('sh') or word.endswith('ch'):\n",
    "        return('es')\n",
    "    else:\n",
    "        return('s')\n",
    "\n",
    "word=str(input('plz'))\n",
    "print(plural(word))\n"
   ]
  },
  {
   "cell_type": "code",
   "execution_count": null,
   "metadata": {
    "collapsed": true
   },
   "outputs": [],
   "source": [
    "#挑战性练习\n",
    "def compute_sum(m,n,k):\n",
    "    total=m\n",
    "    while m<n:\n",
    "        m=m+k\n",
    "        total=total+m\n",
    "    return total\n",
    "\n",
    "\n",
    "m=int(input('plz input'))\n",
    "n=int(input('plz input'))\n",
    "k=int(input('plz input'))\n",
    "print(compute_sum(m,n,k))"
   ]
  }
 ],
 "metadata": {
  "kernelspec": {
   "display_name": "Python 3",
   "language": "python",
   "name": "python3"
  },
  "language_info": {
   "codemirror_mode": {
    "name": "ipython",
    "version": 3
   },
   "file_extension": ".py",
   "mimetype": "text/x-python",
   "name": "python",
   "nbconvert_exporter": "python",
   "pygments_lexer": "ipython3",
   "version": "3.6.0"
  }
 },
 "nbformat": 4,
 "nbformat_minor": 2
}
