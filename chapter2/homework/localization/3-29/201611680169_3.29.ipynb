{
 "cells": [
  {
   "cell_type": "code",
   "execution_count": null,
   "metadata": {
    "collapsed": true
   },
   "outputs": [],
   "source": [
    "练习1"
   ]
  },
  {
   "cell_type": "code",
   "execution_count": null,
   "metadata": {
    "collapsed": false,
    "deletable": true,
    "editable": true
   },
   "outputs": [],
   "source": [
    "def factorial(number):\n",
    "    i=0\n",
    "    \n",
    "    while i !=1:\n",
    "        i=number-1\n",
    "        multiply=number*i\n",
    "    \n",
    "    return multiply\n",
    "\n",
    "m=input('请输入一个数，回车结束')\n",
    "print('结果是：',factorial(m))"
   ]
  },
  {
   "cell_type": "code",
   "execution_count": null,
   "metadata": {
    "collapsed": true,
    "deletable": true,
    "editable": true
   },
   "outputs": [],
   "source": [
    "练习2"
   ]
  },
  {
   "cell_type": "code",
   "execution_count": 3,
   "metadata": {
    "collapsed": false,
    "deletable": true,
    "editable": true
   },
   "outputs": [
    {
     "name": "stdout",
     "output_type": "stream",
     "text": [
      "结果是： 3.140592653839794 3.1414926535900345\n"
     ]
    }
   ],
   "source": [
    "def total_n(end):\n",
    "    i=0\n",
    "    total_n=0\n",
    "    \n",
    "    while i<end:\n",
    "        i=i+1\n",
    "        total_n=total_n+(-1)**(i-1)/(2*i-1)\n",
    "        \n",
    "    return total_n\n",
    "n=1000\n",
    "m=10000\n",
    "print('结果是：',4*total_n(n),4*total_n(m))\n",
    "        "
   ]
  },
  {
   "cell_type": "code",
   "execution_count": null,
   "metadata": {
    "collapsed": true
   },
   "outputs": [],
   "source": [
    "Task 3 练习一"
   ]
  },
  {
   "cell_type": "code",
   "execution_count": 35,
   "metadata": {
    "collapsed": false,
    "deletable": true,
    "editable": true
   },
   "outputs": [
    {
     "name": "stdout",
     "output_type": "stream",
     "text": [
      "10\n",
      "5\n",
      "你是非常有性格的金牛座\n",
      "None\n"
     ]
    }
   ],
   "source": [
    "def constellation(m,n):\n",
    "    n!=0\n",
    "    m!=0\n",
    "    \n",
    "    if n==1:\n",
    "        if m<=18:\n",
    "            print('你是非常有性格的摩羯座')\n",
    "        else:\n",
    "            print('你是非常有性格的水瓶座')\n",
    "    elif n==2:\n",
    "        if m<=18:\n",
    "            print('你是非常有性格的水瓶座')\n",
    "        else:\n",
    "            print('你是非常有性格的双鱼座')\n",
    "    elif n==3:\n",
    "        if m<=20:\n",
    "            print('你是非常有性格的双鱼座')\n",
    "        else:\n",
    "            print('你是非常有性格的白羊座')\n",
    "    elif n==4:\n",
    "        if m<=19:\n",
    "            print('你是非常有性格的白羊座')\n",
    "        else:\n",
    "            print('你是非常有性格的金牛座')\n",
    "    elif n==5:\n",
    "        if m<=20:\n",
    "            print('你是非常有性格的金牛座')\n",
    "        else:\n",
    "            print('你是非常有性格的双子座')\n",
    "    elif n==6:\n",
    "        if m<=21:\n",
    "            print('你是非常有性格的双子座')\n",
    "        else:\n",
    "            print('你是非常有性格的巨蟹座')\n",
    "    elif n==7:\n",
    "        if m<=23:\n",
    "            print('你是非常有性格的巨蟹座')\n",
    "        else:\n",
    "            print('你是非常有性格的狮子座')\n",
    "    elif n==8:\n",
    "        if m<=22:\n",
    "            print('你是非常有性格的狮子座')\n",
    "        else:\n",
    "            print('你是非常有性格的处女座')\n",
    "    elif n==9:\n",
    "        if m<=23:\n",
    "            print('你是非常有性格的处女座')\n",
    "        else:\n",
    "            print('你是非常有性格的天秤座')\n",
    "    elif n==10:\n",
    "        if m<=24:\n",
    "            print('你是非常有性格的天秤座')\n",
    "        else:\n",
    "            print('你是非常有性格的天蝎座')\n",
    "    elif n==11:\n",
    "        if m<=23:\n",
    "            print('你是非常有性格的天蝎座')\n",
    "        else:\n",
    "            print('你是非常有性格的射手座')\n",
    "    elif n==12:\n",
    "        if m<=22:\n",
    "            print('你是非常有性格的射手座')\n",
    "        else:\n",
    "            print('你是非常有性格的摩羯座')\n",
    "        return constellation(m,n)\n",
    "\n",
    "m=int(input(''))\n",
    "n=int(input(''))\n",
    "print(constellation(m,n))\n",
    "        \n"
   ]
  },
  {
   "cell_type": "code",
   "execution_count": null,
   "metadata": {
    "collapsed": true
   },
   "outputs": [],
   "source": [
    "Task 3 练习四"
   ]
  },
  {
   "cell_type": "code",
   "execution_count": 3,
   "metadata": {
    "collapsed": false,
    "deletable": true,
    "editable": true
   },
   "outputs": [
    {
     "name": "stdout",
     "output_type": "stream",
     "text": [
      "请输入一个单词，回车结束fox\n",
      "foxes\n"
     ]
    }
   ],
   "source": [
    "def plural(word):\n",
    "    if word.endswith ('x'):\n",
    "        print(word,'es',sep='')\n",
    "    elif word.endswith ('sh'):\n",
    "        print(word,'es',sep='')\n",
    "    else:\n",
    "        print(word,'s',sep='')\n",
    "        \n",
    "m=input('请输入一个单词，回车结束')\n",
    "plural(m)"
   ]
  },
  {
   "cell_type": "code",
   "execution_count": null,
   "metadata": {
    "collapsed": true,
    "deletable": true,
    "editable": true
   },
   "outputs": [],
   "source": [
    "挑战性练习"
   ]
  },
  {
   "cell_type": "code",
   "execution_count": 1,
   "metadata": {
    "collapsed": false,
    "deletable": true,
    "editable": true
   },
   "outputs": [
    {
     "name": "stdout",
     "output_type": "stream",
     "text": [
      "请输入一个整数3\n",
      "请输入另一个整数4\n"
     ]
    },
    {
     "data": {
      "text/plain": [
       "25"
      ]
     },
     "execution_count": 1,
     "metadata": {},
     "output_type": "execute_result"
    }
   ],
   "source": [
    "def sum(a,b):\n",
    "    if a<=b:\n",
    "        total=0\n",
    "        while a<=b:\n",
    "            total=total+a\n",
    "            a+=1\n",
    "    else:\n",
    "        total=0\n",
    "        while a>=b:\n",
    "            total=total+b\n",
    "            b+=1\n",
    "    return total\n",
    "\n",
    "m=int(input('请输入一个整数，回车结束'))\n",
    "k=int(input('请输入另一个整数，为间隔数，回车结束'))\n",
    "n=(m+k)\n",
    "sum(m,n)"
   ]
  }
 ],
 "metadata": {
  "kernelspec": {
   "display_name": "Python 3",
   "language": "python",
   "name": "python3"
  },
  "language_info": {
   "codemirror_mode": {
    "name": "ipython",
    "version": 3
   },
   "file_extension": ".py",
   "mimetype": "text/x-python",
   "name": "python",
   "nbconvert_exporter": "python",
   "pygments_lexer": "ipython3",
   "version": "3.6.0"
  }
 },
 "nbformat": 4,
 "nbformat_minor": 2
}
