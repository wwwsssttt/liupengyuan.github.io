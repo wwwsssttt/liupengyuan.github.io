{
 "cells": [
  {
   "cell_type": "code",
   "execution_count": 1,
   "metadata": {
    "collapsed": false
   },
   "outputs": [
    {
     "name": "stdout",
     "output_type": "stream",
     "text": [
      "int number:1\n",
      "int number:1000\n",
      "int number:10\n",
      "377.0\n",
      "19.4164878389476\n"
     ]
    }
   ],
   "source": [
    "m=int(input('int number:'))\n",
    "k=int(input('int number:'))\n",
    "import random,math\n",
    "\n",
    "def test1():\n",
    "    i=0\n",
    "    tatol=0\n",
    "    n=int(input('int number:'))\n",
    "    while i<n:\n",
    "        i=i+1\n",
    "        number = random.randint(m, k)\n",
    "        tatol=tatol+number\n",
    "    print(tatol/n)\n",
    "    aver = math.sqrt((tatol/n))\n",
    "    print(aver)\n",
    "\n",
    "test1()\n"
   ]
  },
  {
   "cell_type": "code",
   "execution_count": 2,
   "metadata": {
    "collapsed": false
   },
   "outputs": [
    {
     "name": "stdout",
     "output_type": "stream",
     "text": [
      "int number:1\n",
      "int number:1000\n",
      "459\n",
      "6.129050210060545\n",
      "0.16315741684715643\n"
     ]
    }
   ],
   "source": [
    "m=int(input('int number:'))\n",
    "k=int(input('int number:'))\n",
    "import random,math\n",
    "\n",
    "def test1():\n",
    "    number = random.randint(m, k)\n",
    "    print(number)\n",
    "    a = math.log(number)\n",
    "    print(a)\n",
    "    b = 1/math.log(number)\n",
    "    print(b)\n",
    "\n",
    "test1()\n"
   ]
  },
  {
   "cell_type": "code",
   "execution_count": 1,
   "metadata": {
    "collapsed": false
   },
   "outputs": [
    {
     "name": "stdout",
     "output_type": "stream",
     "text": [
      "int number:3\n",
      "1107\n"
     ]
    }
   ],
   "source": [
    "import random,math\n",
    "\n",
    "def test1():\n",
    "    n = random.randint(1, 9)\n",
    "    i=0\n",
    "    tatol1=0\n",
    "    tatol2=0\n",
    "    m=int(input('int number:'))\n",
    "    while i<m:\n",
    "        i=i+1\n",
    "        tatol1=tatol1*10+n\n",
    "        tatol2=tatol2+tatol1\n",
    "    print(tatol2)\n",
    "    \n",
    "\n",
    "test1()\n"
   ]
  }
 ],
 "metadata": {
  "kernelspec": {
   "display_name": "Python 3",
   "language": "python",
   "name": "python3"
  },
  "language_info": {
   "codemirror_mode": {
    "name": "ipython",
    "version": 3
   },
   "file_extension": ".py",
   "mimetype": "text/x-python",
   "name": "python",
   "nbconvert_exporter": "python",
   "pygments_lexer": "ipython3",
   "version": "3.6.0"
  }
 },
 "nbformat": 4,
 "nbformat_minor": 2
}
