{
 "cells": [
  {
   "cell_type": "code",
   "execution_count": null,
   "metadata": {
    "collapsed": false
   },
   "outputs": [],
   "source": [
    "name = input('please enter your name,end with a tab: ')\n",
    "print(name)\n",
    "\n",
    "date = float(input('please enter your birthday,end with a tab: '))\n",
    "if date >= 3.21 and date <= 4.19:\n",
    "    print(name,'你是白羊座!')\n",
    "elif date >= 4.20 and date <= 5.20:\n",
    "    print(name,'你是金牛座!')\n",
    "elif date >= 5.21 and date <= 6.21:\n",
    "    print(name,'你是双子座!')\n",
    "elif date >= 6.22 and date <= 7.21:\n",
    "    print(name,'你是巨蟹座')\n",
    "elif date >= 7.22 and date <= 8.21:\n",
    "    print(name,'你是狮子座')\n",
    "elif date >= 8.22 and date <= 9.22:\n",
    "    print(name,'你是处女座')\n",
    "elif date >= 9.23 and date <= 10.21:\n",
    "    print(name,'你是天平座')\n",
    "elif date >= 10.22 and date <= 11.21:\n",
    "    print(name,'你是天蝎座')\n",
    "elif date >= 11.22 and date <= 12.22:\n",
    "    print(name,'你是射手座')\n",
    "elif date >= 12.23 and date <= 1.20:\n",
    "    print(name,'你是魔羯座')\n",
    "elif date >= 1.21 and date <= 2.22:\n",
    "    print(name,'你是水瓶座')\n",
    "else :\n",
    "    print(name,'你是双鱼座')\n",
    "\n",
    "\n"
   ]
  },
  {
   "cell_type": "code",
   "execution_count": null,
   "metadata": {
    "collapsed": true
   },
   "outputs": [],
   "source": [
    "n = int(input('please enter an integer,end with a tab: '))\n",
    "m = int(input('please enter an integer,end with a tab: '))\n",
    "i=0\n",
    "sum=0\n",
    "multiple=1\n",
    "remainder=0\n",
    "print('please enter 1 for addition')\n",
    "print('please enter -1 for multiple')\n",
    "print('please enter 0 for remainder')\n",
    "\n",
    "order = int(input('please enter an order,end with a tab: '))\n",
    "if order == 1:\n",
    "    if m > n:\n",
    "        while i <= (m-n):\n",
    "            sum=sum+n\n",
    "            n+=1\n",
    "            i+=1\n",
    "    elif m < n:\n",
    "        while i <= (n-m):\n",
    "            sum=sum+m\n",
    "            m+=1\n",
    "            i+=1\n",
    "    else :\n",
    "        sum=m+n\n",
    "    print(sum)\n",
    "elif order == -1:\n",
    "    if m>n :\n",
    "        while n <= m :\n",
    "            multiple = multiple * n\n",
    "            n+=1\n",
    "    elif m < n:\n",
    "        while m <= n:\n",
    "            multiple = multiple * m\n",
    "            m+=1\n",
    "    else :\n",
    "        multiple = m * n\n",
    "elif order == 0:\n",
    "                                                                              \n",
    "        \n",
    "        \n"
   ]
  }
 ],
 "metadata": {
  "kernelspec": {
   "display_name": "Python 3",
   "language": "python",
   "name": "python3"
  },
  "language_info": {
   "codemirror_mode": {
    "name": "ipython",
    "version": 3
   },
   "file_extension": ".py",
   "mimetype": "text/x-python",
   "name": "python",
   "nbconvert_exporter": "python",
   "pygments_lexer": "ipython3",
   "version": "3.6.0"
  }
 },
 "nbformat": 4,
 "nbformat_minor": 2
}
