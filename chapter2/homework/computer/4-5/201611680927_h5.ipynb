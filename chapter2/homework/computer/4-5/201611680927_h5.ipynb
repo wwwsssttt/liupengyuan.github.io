{
 "cells": [
  {
   "cell_type": "code",
   "execution_count": 6,
   "metadata": {
    "collapsed": false,
    "deletable": true,
    "editable": true
   },
   "outputs": [
    {
     "name": "stdout",
     "output_type": "stream",
     "text": [
      "请输入想要计算的整数个数：2\n",
      "请输入一个大于0的整数，作为随机数的下界，回车结束。1\n",
      "请输入一个大于0的整数，作为随机数的上界，回车结束。9\n",
      "均值的平方根为: 2.1213203435596424\n"
     ]
    }
   ],
   "source": [
    "import random,math\n",
    "n = int(input('请输入想要计算的整数个数：'))\n",
    "m = int(input('请输入一个大于0的整数，作为随机数的下界，回车结束。'))\n",
    "k = int(input('请输入一个大于0的整数，作为随机数的上界，回车结束。'))\n",
    "i=0\n",
    "sum=0\n",
    "while i<n:\n",
    "    number=random.randint(m,k)\n",
    "    sum=sum+number\n",
    "    i=i+1\n",
    "average=sum/n\n",
    "print('均值的平方根为:',math.sqrt(average))"
   ]
  },
  {
   "cell_type": "code",
   "execution_count": 2,
   "metadata": {
    "collapsed": false,
    "deletable": true,
    "editable": true
   },
   "outputs": [
    {
     "name": "stdout",
     "output_type": "stream",
     "text": [
      "请输入想要计算的整数个数：2\n",
      "请输入一个大于0的整数，作为随机数的下界，回车结束。1\n",
      "请输入一个大于0的整数，作为随机数的上界，回车结束。9\n",
      "3.688879454113936 , 1.1022332815225997\n"
     ]
    }
   ],
   "source": [
    "import random,math\n",
    "n = int(input('请输入想要计算的整数个数：'))\n",
    "m = int(input('请输入一个大于0的整数，作为随机数的下界，回车结束。'))\n",
    "k = int(input('请输入一个大于0的整数，作为随机数的上界，回车结束。'))\n",
    "i=0\n",
    "sum1=0\n",
    "sum2=0\n",
    "while i<n:\n",
    "    number=random.randint(m,k)\n",
    "    sum1=sum1+math.log(number)\n",
    "    sum2=sum2+1/math.log(number)\n",
    "    i=i+1\n",
    "print(sum1,',',sum2)"
   ]
  },
  {
   "cell_type": "code",
   "execution_count": 12,
   "metadata": {
    "collapsed": false,
    "deletable": true,
    "editable": true
   },
   "outputs": [
    {
     "name": "stdout",
     "output_type": "stream",
     "text": [
      "将要计算的整数为： 2\n",
      "请输入想要计算的整数个数：5\n",
      "24992\n"
     ]
    }
   ],
   "source": [
    "def compute():\n",
    "    import random\n",
    "    a=random.randint(1,9)\n",
    "    print('将要计算的整数为：',a)\n",
    "    n=int(input('请输入想要计算的整数个数：'))\n",
    "    i=0\n",
    "    s=0\n",
    "    while i<n:\n",
    "        s=s+s+a*(10**i)\n",
    "        i=i+1\n",
    "    print(s)\n",
    "compute()"
   ]
  },
  {
   "cell_type": "code",
   "execution_count": 2,
   "metadata": {
    "collapsed": false,
    "deletable": true,
    "editable": true
   },
   "outputs": [
    {
     "name": "stdout",
     "output_type": "stream",
     "text": [
      "请在脑海中生成一个神秘数\n",
      "请输入一个大于0的整数，作为神秘整数的上界，回车结束。5\n",
      "请输入一个大于0的整数，作为电脑猜数次数的上限，回车结束。5\n",
      "电脑猜出的数字是： 3\n",
      "如果比你的数字大请输入1，比你的数字小请输入2，和你的数字相等请输入0：1\n",
      "电脑猜出的数字是： 2\n",
      "如果比你的数字大请输入1，比你的数字小请输入2，和你的数字相等请输入0：1\n",
      "电脑猜出的数字是： 2\n",
      "如果比你的数字大请输入1，比你的数字小请输入2，和你的数字相等请输入0：1\n",
      "电脑猜出的数字是： 1\n",
      "如果比你的数字大请输入1，比你的数字小请输入2，和你的数字相等请输入0：0\n",
      "电脑猜中了。\n",
      "电脑比规定的次数少了 1 次\n"
     ]
    }
   ],
   "source": [
    "import random\n",
    "print('请在脑海中生成一个神秘数')\n",
    "n = int(input('请输入一个大于0的整数，作为神秘整数的上界，回车结束。'))\n",
    "m = int(input('请输入一个大于0的整数，作为电脑猜数次数的上限，回车结束。'))\n",
    "a = random.randint(1, n)\n",
    "print('电脑猜出的数字是：', a)\n",
    "i=0\n",
    "j = int(input('如果比你的数字大请输入1，比你的数字小请输入2，和你的数字相等请输入0：'))\n",
    "while i<m:\n",
    "    if j==1:\n",
    "        if i==m-1:\n",
    "            print('电脑输了')\n",
    "            break\n",
    "        else:\n",
    "            a = random.randint(1,a)\n",
    "            print('电脑猜出的数字是：',a)\n",
    "            j = int(input('如果比你的数字大请输入1，比你的数字小请输入2，和你的数字相等请输入0：'))\n",
    "    elif j==2:\n",
    "        if i==m-1:\n",
    "            print('电脑输了')\n",
    "            break\n",
    "        else:\n",
    "            a = random.randint(a,n)\n",
    "            print('电脑猜出的数字是：',a)\n",
    "            j = int(input('如果比你的数字大请输入1，比你的数字小请输入2，和你的数字相等请输入0：'))\n",
    "    elif j==0:\n",
    "        print('电脑猜中了。')\n",
    "        break\n",
    "    i=i+1\n",
    "print('电脑比规定的次数少了',m-i-1,'次')"
   ]
  }
 ],
 "metadata": {
  "kernelspec": {
   "display_name": "Python 3",
   "language": "python",
   "name": "python3"
  },
  "language_info": {
   "codemirror_mode": {
    "name": "ipython",
    "version": 3
   },
   "file_extension": ".py",
   "mimetype": "text/x-python",
   "name": "python",
   "nbconvert_exporter": "python",
   "pygments_lexer": "ipython3",
   "version": "3.6.0"
  }
 },
 "nbformat": 4,
 "nbformat_minor": 2
}
