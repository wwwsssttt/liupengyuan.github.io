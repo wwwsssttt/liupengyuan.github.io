{
 "cells": [
  {
   "cell_type": "code",
   "execution_count": 6,
   "metadata": {
    "collapsed": false
   },
   "outputs": [
    {
     "name": "stdout",
     "output_type": "stream",
     "text": [
      "请输入整数范围的下限3\n",
      "请输入整数范围的上限4\n",
      "请输入你要输入的整数个数1\n",
      "第 1 个数是 4\n",
      "随机整数的均值和均值的平方根分别为 (4.0, 2.0)\n"
     ]
    }
   ],
   "source": [
    "#写函数，求n个随机整数均值的平方根，整数范围在m与k之间。\n",
    "import math,random\n",
    "def sqrt_number(a,b):\n",
    "    i=1\n",
    "    sum=0\n",
    "    while i<=n:\n",
    "        x=random.randint(a,b)\n",
    "        i=i+1\n",
    "        sum=sum+x\n",
    "        print('第',i-1,'个数是',x)\n",
    "    aver=sum/n\n",
    "    geng=math.sqrt(aver)\n",
    "    return aver,geng\n",
    "m=int(input('请输入整数范围的下限'))\n",
    "k=int(input('请输入整数范围的上限'))\n",
    "n=int(input('请输入你要输入的整数个数'))\n",
    "print('随机整数的均值和均值的平方根分别为',sqrt_number(m,k))\n",
    "        "
   ]
  },
  {
   "cell_type": "code",
   "execution_count": 7,
   "metadata": {
    "collapsed": false
   },
   "outputs": [
    {
     "name": "stdout",
     "output_type": "stream",
     "text": [
      "请输入整数范围的下限3\n",
      "请输入整数范围的上限6\n",
      "请输入你要输入的整数个数3\n",
      "西格玛log(随机整数)及西格玛1/log(随机整数)的值为 (6.906890595608518, 1.3175293653079347)\n"
     ]
    }
   ],
   "source": [
    "#写函数，共n个随机整数，整数范围在m与k之间，求西格玛log(随机整数)及西格玛1/log(随机整数)\n",
    "import math,random\n",
    "def sqrt_number(a,b):\n",
    "    i=1\n",
    "    sum1=0\n",
    "    sum2=0\n",
    "    while i<=n:\n",
    "        x=random.randint(a,b)\n",
    "        i=i+1\n",
    "        sum1=sum1+math.log2(x)\n",
    "        sum2=sum2+1/math.log2(x)\n",
    "    return sum1,sum2\n",
    "m=int(input('请输入整数范围的下限'))\n",
    "k=int(input('请输入整数范围的上限'))\n",
    "n=int(input('请输入你要输入的整数个数'))\n",
    "print('西格玛log(随机整数)及西格玛1/log(随机整数)的值为',sqrt_number(m,k))"
   ]
  },
  {
   "cell_type": "code",
   "execution_count": 8,
   "metadata": {
    "collapsed": false
   },
   "outputs": [
    {
     "name": "stdout",
     "output_type": "stream",
     "text": [
      "输入要求几个数相加3\n",
      "随机选择的数为 8 +\n",
      "88 +\n",
      "888 +\n",
      "所求和为 984\n"
     ]
    }
   ],
   "source": [
    "#练习 3：写函数，求s=a+aa+aaa+aaaa+aa...a的值，其中a是[1,9]之间的随机整数。例如2+22+222+2222+22222(此时共有5个数相加)，几个数相加由键盘输入。\n",
    "import random\n",
    "def sum_numbers(x):\n",
    "    a=random.randint(1,9)\n",
    "    b=a\n",
    "    i=0\n",
    "    sum=a\n",
    "    print('随机选择的数为',a,'+')\n",
    "    while i<x-1:\n",
    "        i=i+1\n",
    "        a=a*10+b\n",
    "        sum=sum+a\n",
    "        print(a,'+')\n",
    "    return sum\n",
    "n=int(input('输入要求几个数相加'))\n",
    "print('所求和为',sum_numbers(n))"
   ]
  },
  {
   "cell_type": "code",
   "execution_count": 5,
   "metadata": {
    "collapsed": false
   },
   "outputs": [
    {
     "name": "stdout",
     "output_type": "stream",
     "text": [
      "             =====游戏菜单=====\n",
      "                1. 游戏说明\n",
      "                2. 开始游戏\n",
      "                3. 退出游戏\n",
      "                4. 制作团队\n",
      "             =====游戏菜单=====\n",
      "请输入你的选择2\n",
      "            =====欢迎来到猜字游戏==== \n",
      "            │＼＿＿╭╭╭╭╭＿＿／│ \n",
      "            │　　　　　　　　　    │ \n",
      "            │　  ＞　　　 　●　   │\n",
      "            │ ≡　 ╰┬┬┬╯　≡　│ \n",
      "            │　　　　╰—╯　　　  │ \n",
      "            ╰——┬Ｏ———Ｏ┬——╯\n",
      "请输入一个0~100内的整数，让计算机来猜    22\n",
      "请输入你想让计算机猜的次数    1\n",
      "一共可以猜 1 次\n",
      "--------------------------\n",
      "计算机猜的数字是 84\n",
      "计算机已经猜了 1 次\n",
      "请判断计算机是否猜测正确，输入偏大 偏小 或相等 :  偏小\n",
      "计算机猜小了,它还有 0 次机会\n",
      "剩下的猜测范围为 85 ~ 100\n",
      "计算机没有猜对神秘数字是： 22\n",
      "          ====计算机没有猜出来===\n",
      "                         (｀・ω・´)\n",
      "                  ====恭喜====\n",
      "             =====游戏菜单=====\n",
      "                1. 游戏说明\n",
      "                2. 开始游戏\n",
      "                3. 退出游戏\n",
      "                4. 制作团队\n",
      "             =====游戏菜单=====\n",
      "请输入你的选择3\n",
      "                 ====游戏结束===\n",
      "                   ヾ(￣▽￣)Bye~Bye~\n",
      "                   ====欢迎再玩===\n"
     ]
    }
   ],
   "source": [
    "#挑战性练习：将猜数游戏改成由用户随便选择一个整数，让计算机来猜测的猜数游戏。\n",
    "def win():\n",
    "    print('''          ====计算机没有猜出来===\n",
    "                 (｀・ω・´)\n",
    "                  ====恭喜===='''\n",
    "         )\n",
    "    \n",
    "def lose():\n",
    "    print('''          ====计算机成功的猜了出来===\n",
    "                   o(╥﹏╥)o\n",
    "                   ====失败===='''\n",
    "         )\n",
    "def game_over():\n",
    "    print('''                 ====游戏结束===\n",
    "                   ヾ(￣▽￣)Bye~Bye~\n",
    "                   ====欢迎再玩==='''\n",
    "         )\n",
    "\n",
    "def show_team():\n",
    "    print('游戏策划&&游戏设计：牙牙婧\\n谢谢你们支持这个游戏')\n",
    "\n",
    "def show_instruction():\n",
    "    print('用户随便选择一个1~100的整数，让计算机来猜测这个数,玩家可以决定计算机猜测的次数')\n",
    "def menu():\n",
    "    print('''             =====游戏菜单=====\n",
    "                1. 游戏说明\n",
    "                2. 开始游戏\n",
    "                3. 退出游戏\n",
    "                4. 制作团队\n",
    "             =====游戏菜单=====''')\n",
    "def guess_game():\n",
    "    print( '''            =====欢迎来到猜字游戏==== \n",
    "            │＼＿＿╭╭╭╭╭＿＿／│ \n",
    "            │　　　　　　　　　    │ \n",
    "            │　  ＞　　　 　●　   │\n",
    "            │ ≡　 ╰┬┬┬╯　≡　│ \n",
    "            │　　　　╰—╯　　　  │ \n",
    "            ╰——┬Ｏ———Ｏ┬——╯'''\n",
    "         )\n",
    "    import random\n",
    "    number = int(input('请输入一个0~100内的整数，让计算机来猜    '))\n",
    "    max_times =int(input('请输入你想让计算机猜的次数    '))\n",
    "    guess_times = 0\n",
    "    print('一共可以猜', max_times, '次')\n",
    "    x=0\n",
    "    y=100\n",
    "    while guess_times <max_times:\n",
    "        guess_times += 1\n",
    "        print('--------------------------')\n",
    "        guess = random.randint(x, y)\n",
    "        print('计算机猜的数字是',guess)\n",
    "        print('计算机已经猜了', guess_times, '次')\n",
    "        judge=input('请判断计算机是否猜测正确，输入偏大 偏小 或相等 :  ')\n",
    "        if judge=='相等':\n",
    "            lose()\n",
    "            print('神秘数字是：', number)\n",
    "            print('计算机比标准次数少', max_times-guess_times, '次')\n",
    "            break\n",
    "        if judge=='偏大':\n",
    "            y=guess-1\n",
    "            print('计算机猜大了，它还有',max_times-guess_times,'次机会')\n",
    "            print('剩下的猜测范围为',x,'~',y)\n",
    "        if judge=='偏小':\n",
    "            x=guess+1\n",
    "            print('计算机猜小了,它还有',max_times-guess_times,'次机会')\n",
    "            print('剩下的猜测范围为',x,'~',y)\n",
    "    else:\n",
    "        print('计算机没有猜对神秘数字是：', number)\n",
    "        win()\n",
    "def main():\n",
    "    while True:\n",
    "        menu()\n",
    "        choice = int(input('请输入你的选择'))\n",
    "        if choice == 1:\n",
    "            show_instruction()\n",
    "        elif choice == 2:\n",
    "            guess_game()\n",
    "        elif choice == 3:\n",
    "            game_over()\n",
    "            break\n",
    "        else:\n",
    "            show_team()\n",
    "if __name__ == '__main__':\n",
    "    main()"
   ]
  }
 ],
 "metadata": {
  "kernelspec": {
   "display_name": "Python 3",
   "language": "python",
   "name": "python3"
  },
  "language_info": {
   "codemirror_mode": {
    "name": "ipython",
    "version": 3
   },
   "file_extension": ".py",
   "mimetype": "text/x-python",
   "name": "python",
   "nbconvert_exporter": "python",
   "pygments_lexer": "ipython3",
   "version": "3.6.0"
  }
 },
 "nbformat": 4,
 "nbformat_minor": 2
}
