{
 "cells": [
  {
   "cell_type": "code",
   "execution_count": null,
   "metadata": {
    "collapsed": false,
    "deletable": true,
    "editable": true
   },
   "outputs": [],
   "source": [
    "import random,math\n",
    "\n",
    "def numa(m,k):\n",
    "     n = int(input('请输入您想求的数的个数'))\n",
    "     i=0\n",
    "     total=0\n",
    "     if i<=n:\n",
    "        total=total+random.randint(m,k)\n",
    "        i+=1\n",
    "     return total/n\n",
    "\n",
    "m=int(input('请输入一个整数'))\n",
    "k=int(input('请输入另一个整数'))\n",
    "print('n个随机整数均值的平方根是',math.sqrt(numa(m,k)))\n"
   ]
  },
  {
   "cell_type": "code",
   "execution_count": 1,
   "metadata": {
    "collapsed": false,
    "deletable": true,
    "editable": true
   },
   "outputs": [
    {
     "name": "stdout",
     "output_type": "stream",
     "text": [
      "请输入一个整数5\n",
      "请输入另一个整数8\n",
      "请输入您想求的数的个数2\n",
      "西格玛log(随机整数)，西格玛1/log(随机整数)分别是 (2.584962500721156, 0.43067655807339306)\n"
     ]
    }
   ],
   "source": [
    "import random,math\n",
    "\n",
    "def xigema(m,k):\n",
    "     n = int(input('请输入您想求的数的个数'))\n",
    "     total1=0\n",
    "     total2=0\n",
    "     i=0\n",
    "     if i<=n:\n",
    "            total1=total1+math.log2(random.randint(m,k))\n",
    "            total2=total2+1/math.log2(random.randint(m,k))\n",
    "            i+=1\n",
    "     return total1,total2\n",
    "\n",
    "m=int(input('请输入一个整数'))\n",
    "k=int(input('请输入另一个整数'))\n",
    "print('西格玛log(随机整数)，西格玛1/log(随机整数)分别是',xigema(m,k))\n"
   ]
  },
  {
   "cell_type": "code",
   "execution_count": 4,
   "metadata": {
    "collapsed": false,
    "deletable": true,
    "editable": true
   },
   "outputs": [
    {
     "name": "stdout",
     "output_type": "stream",
     "text": [
      "请输入数相加的个数5\n",
      "s=a+aa+aaa+aaaa+aa...a= 1417248\n"
     ]
    }
   ],
   "source": [
    "import random,math\n",
    "\n",
    "def main():\n",
    "    n=int(input('请输入数相加的个数'))\n",
    "    a=math.ceil(random.randint(1,9))\n",
    "    i=0\n",
    "    sum=0\n",
    "    while i<=n:\n",
    "        sum=sum+a\n",
    "        a=a*10+a\n",
    "        i=i+1\n",
    "    print('s=a+aa+aaa+aaaa+aa...a=',sum)\n",
    "    \n",
    "main()\n"
   ]
  },
  {
   "cell_type": "code",
   "execution_count": null,
   "metadata": {
    "collapsed": true,
    "deletable": true,
    "editable": true
   },
   "outputs": [],
   "source": [
    "import random, math\n",
    "\n",
    "\n",
    "def win():\n",
    "    print('Win!')\n",
    "    \n",
    "def lose():\n",
    "    print('Lose!')\n",
    "    \n",
    "def guess_game():\n",
    "    n = int(input('请输入一个大于0的整数，作为神秘整数的上界，回车结束。'))\n",
    "    number = int(input('请输入一个随机的整数。'))\n",
    "    max_times = math.ceil(math.log2(n))\n",
    "    guess_times = 0\n",
    "    while guess_times <= max_times:\n",
    "        guess = random.randint(1, n)\n",
    "        guess_times += 1\n",
    "        print('一共可以猜', max_times, '次')\n",
    "        print('你已经猜了', guess_times, '次')\n",
    "        \n",
    "        if guess == number:\n",
    "            win()\n",
    "            print('神秘数字是：', guess)\n",
    "            print('你比标准次数少', max_times-guess_times, '次')\n",
    "            break\n",
    "        elif guess > number:\n",
    "            print('抱歉，你猜大了')\n",
    "        else:\n",
    "            print('抱歉，你猜小了')\n",
    "    else:\n",
    "        print('神秘数字是：', number)\n",
    "        lose()\n",
    "\n",
    "\n",
    "guess_game()\n"
   ]
  }
 ],
 "metadata": {
  "kernelspec": {
   "display_name": "Python 3",
   "language": "python",
   "name": "python3"
  },
  "language_info": {
   "codemirror_mode": {
    "name": "ipython",
    "version": 3
   },
   "file_extension": ".py",
   "mimetype": "text/x-python",
   "name": "python",
   "nbconvert_exporter": "python",
   "pygments_lexer": "ipython3",
   "version": "3.6.0"
  }
 },
 "nbformat": 4,
 "nbformat_minor": 2
}
