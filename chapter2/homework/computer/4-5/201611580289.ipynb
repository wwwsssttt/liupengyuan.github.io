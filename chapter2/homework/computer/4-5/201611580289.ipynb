{
 "cells": [
  {
   "cell_type": "code",
   "execution_count": 1,
   "metadata": {
    "collapsed": false
   },
   "outputs": [
    {
     "name": "stdout",
     "output_type": "stream",
     "text": [
      "请输入一个整数，以回车键结束9\n",
      "请输入一个整数，以回车键结束1\n",
      "请输入一个整数，以回车键结束8\n",
      "2.185812841434\n"
     ]
    }
   ],
   "source": [
    "import math,random\n",
    "def c_sqrt():\n",
    "    n=int(input('请输入一个整数，以回车键结束'))\n",
    "    m=int(input('请输入一个整数，以回车键结束'))\n",
    "    k=int(input('请输入一个整数，以回车键结束'))\n",
    "    i=0\n",
    "    total=0\n",
    "    num=0\n",
    "    while i<n:\n",
    "        num=random.randint(m,k)\n",
    "        total=total+num\n",
    "        i=i+1\n",
    "    total=math.sqrt(total/n)\n",
    "    print(total)\n",
    "\n",
    "c_sqrt()\n",
    "        "
   ]
  },
  {
   "cell_type": "code",
   "execution_count": 3,
   "metadata": {
    "collapsed": false
   },
   "outputs": [
    {
     "name": "stdout",
     "output_type": "stream",
     "text": [
      "请输入一个整数，以回车键结束9\n",
      "请输入一个整数，以回车键结束1\n",
      "请输入一个整数，以回车键结束6\n",
      "4.890756251918218\n"
     ]
    }
   ],
   "source": [
    "import math,random\n",
    "def c_log():\n",
    "    n=int(input('请输入一个整数，以回车键结束'))\n",
    "    m=int(input('请输入一个整数，以回车键结束'))\n",
    "    k=int(input('请输入一个整数，以回车键结束'))\n",
    "    i=0\n",
    "    total=0\n",
    "    num=0\n",
    "    while i<n:\n",
    "        num=random.randint(m,k)\n",
    "        num=math.log10(num)\n",
    "        total=total+num\n",
    "        i=i+1\n",
    "    print(total)\n",
    "\n",
    "c_log()"
   ]
  },
  {
   "cell_type": "code",
   "execution_count": 1,
   "metadata": {
    "collapsed": false
   },
   "outputs": [
    {
     "name": "stdout",
     "output_type": "stream",
     "text": [
      "请输入一个整数，以回车键结束6\n",
      "请输入一个整数，以回车键结束1\n",
      "请输入一个整数，以回车键结束4\n",
      "198\n"
     ]
    }
   ],
   "source": [
    "import math,random\n",
    "def c_fac():\n",
    "    n=int(input('请输入一个整数，以回车键结束'))\n",
    "    m=int(input('请输入一个整数，以回车键结束'))\n",
    "    k=int(input('请输入一个整数，以回车键结束'))\n",
    "    i=0\n",
    "    num=0\n",
    "    total=0\n",
    "    temp=0\n",
    "    j=0\n",
    "    num=random.randint(m,k)\n",
    "    while i<n:\n",
    "        temp=num\n",
    "        i=i+1\n",
    "        while j<i:\n",
    "            temp=temp*10\n",
    "            temp=temp+num\n",
    "            total=total+temp\n",
    "            j=j+1\n",
    "    print(total)\n",
    "    \n",
    "c_fac()\n",
    "    "
   ]
  },
  {
   "cell_type": "code",
   "execution_count": null,
   "metadata": {
    "collapsed": true
   },
   "outputs": [],
   "source": [
    "import random\n",
    "def welcome():\n",
    "    print(\n",
    "        '''\n",
    "           ======欢迎来到猜数游戏=======\n",
    "        \n",
    "                     /  \\     ,    ,\n",
    "           _._     _ |oo| _  / \\__/ \\\n",
    "    \n",
    "          _||||   ((/ () \\))   /   \\\n",
    "    \n",
    "          |||||/|  ( ==== )    |oo|    \n",
    "           \\____/  _`\\  /'_    /   \\\n",
    "    \n",
    "           /   /.-' /\\<>/\\ `\\.( () )_._      \n",
    "           |    `  /  \\/  \\  /`'--'////)\n",
    "            \\__,-'`|  |.  |\\/ |/\\/\\|\"\\\"` \n",
    "                   |  |.  | \\___/\\___/  \n",
    "                   |  |.  |   |    |\n",
    "          \n",
    "          ======欢迎来到猜数游戏=======\n",
    "        '''\n",
    "    )\n",
    "    \n",
    "def win():\n",
    "    print(\n",
    "        '''\n",
    "           ======恭喜你，你赢了=======\n",
    "        \n",
    "    \n",
    "                .\"\".    .\"\",\n",
    "                |  |   /  /\n",
    "                |  |  /  /\n",
    "                |  | /  /\n",
    "                |  |/  ;-._ \n",
    "                }  ` _/  / ;\n",
    "                |  /` ) /  /\n",
    "                | /  /_/\\_/\\\n",
    "                |/  /      |\n",
    "                (  ' \\ '-  |\n",
    "                 \\    `.  /\n",
    "                  |      |\n",
    "                  |      |\n",
    "          \n",
    "          ======恭喜你，你赢了=======\n",
    "        '''\n",
    "    )\n",
    "    \n",
    "def lose():\n",
    "    print(\n",
    "        '''\n",
    "           ======YOU LOSE=======\n",
    "        \n",
    "    \n",
    "                \n",
    "\n",
    "                   .-\"      \"-.\n",
    "                  /            \\\n",
    "                 |              |\n",
    "                 |,  .-.  .-.  ,|\n",
    "                 | )(__/  \\__)( |\n",
    "                 |/     /\\     \\|\n",
    "       (@_       (_     ^^     _)\n",
    "  _     ) \\_______\\__|IIIIII|__/__________________________\n",
    " (_)@8@8{}<________|-\\IIIIII/-|___________________________>\n",
    "        )_/        \\          /\n",
    "       (@           `--------`\n",
    "       \n",
    "       \n",
    "       \n",
    "          ======YOU LOSE=======\n",
    "        '''\n",
    "    )\n",
    "    \n",
    "def game_over():\n",
    "    print(\n",
    "        '''\n",
    "           ======GAME OVER=======\n",
    "        \n",
    "             _________ \n",
    "            / ======= \\ \n",
    "           / __________\\ \n",
    "          | ___________ | \n",
    "          | | -       | | \n",
    "          | |         | | \n",
    "          | |_________| |________________ \n",
    "          \\=____________/                ) \n",
    "          / \"\"\"\"\"\"\"\"\"\"\" \\               / \n",
    "         / ::::::::::::: \\          =D-' \n",
    "        (_________________) \n",
    "\n",
    "       \n",
    "          ======GAME OVER=======\n",
    "        '''\n",
    "    )\n",
    "def game():\n",
    "    num=int(input('请输入一个整数，作为被猜数，以回车键结束'))\n",
    "    n=int(input('请输入一个整数，作为猜的次数，以回车键结束'))\n",
    "    i=0\n",
    "    c_num=0\n",
    "    while i<n:\n",
    "        c_num=random.randint(1,1000)\n",
    "        if(c_num==num):\n",
    "            print(win())\n",
    "        elif(c_num<num):\n",
    "            c_num=random.randint(c_num,1000)\n",
    "            i=i+1\n",
    "        else:\n",
    "            c_num=random.randint(1,c_num)\n",
    "            i=i+1\n",
    "    if(c_num==num):\n",
    "        print(win())\n",
    "    else:\n",
    "        print(lose())\n",
    "        print(game_over())\n",
    "\n",
    "welcome()\n",
    "game()"
   ]
  },
  {
   "cell_type": "code",
   "execution_count": null,
   "metadata": {
    "collapsed": true
   },
   "outputs": [],
   "source": []
  }
 ],
 "metadata": {
  "kernelspec": {
   "display_name": "Python 3",
   "language": "python",
   "name": "python3"
  },
  "language_info": {
   "codemirror_mode": {
    "name": "ipython",
    "version": 3
   },
   "file_extension": ".py",
   "mimetype": "text/x-python",
   "name": "python",
   "nbconvert_exporter": "python",
   "pygments_lexer": "ipython3",
   "version": "3.6.0"
  }
 },
 "nbformat": 4,
 "nbformat_minor": 2
}
