{
 "cells": [
  {
   "cell_type": "code",
   "execution_count": 1,
   "metadata": {
    "collapsed": false
   },
   "outputs": [
    {
     "name": "stdout",
     "output_type": "stream",
     "text": [
      "请输入个数:5\n",
      "左:1\n",
      "右:2\n",
      "sqrt： 2.6457513110645907\n"
     ]
    }
   ],
   "source": [
    "import random,math\n",
    "n=int(input('请输入个数:'))\n",
    "j=int(input('左:'))\n",
    "k=int(input('右:'))\n",
    "i=1\n",
    "sum=0\n",
    "while(i<=n):\n",
    "    sum=sum+random.randint(j,k)\n",
    "    i=i+1\n",
    "print('sqrt：',math.sqrt(sum))"
   ]
  },
  {
   "cell_type": "code",
   "execution_count": 4,
   "metadata": {
    "collapsed": false
   },
   "outputs": [
    {
     "name": "stdout",
     "output_type": "stream",
     "text": [
      "请输入个数:5\n",
      "左:2\n",
      "右:3\n",
      "5.0875963352323845 , 5.616107761658439\n"
     ]
    }
   ],
   "source": [
    "import random,math\n",
    "n=int(input('请输入个数:'))\n",
    "j=int(input('左:'))\n",
    "k=int(input('右:'))\n",
    "i=1\n",
    "sum1=0\n",
    "sum2=0\n",
    "while(i<=n):\n",
    "    sum1=sum1+math.log(random.randint(j,k))\n",
    "    sum2=sum2+1/math.log(random.randint(j,k))\n",
    "    i=i+1\n",
    "print(sum1,',',sum2)"
   ]
  },
  {
   "cell_type": "code",
   "execution_count": 1,
   "metadata": {
    "collapsed": false
   },
   "outputs": [
    {
     "name": "stdout",
     "output_type": "stream",
     "text": [
      "你想几个数相加:5\n",
      "1\n",
      "11\n",
      "111\n",
      "1111\n",
      "11111\n",
      "86415\n"
     ]
    }
   ],
   "source": [
    "import math,random\n",
    "n=int(input('你想几个数相加:'))\n",
    "rand=random.randint(1,9)\n",
    "sum=0\n",
    "i=1\n",
    "q=0\n",
    "while(i<=n):\n",
    "    q=q+10**(i-1)\n",
    "    print(q)\n",
    "    sum=sum+rand*q\n",
    "    i=i+1\n",
    "print(sum)\n",
    "    "
   ]
  },
  {
   "cell_type": "code",
   "execution_count": 1,
   "metadata": {
    "collapsed": false
   },
   "outputs": [
    {
     "name": "stdout",
     "output_type": "stream",
     "text": [
      "请输入你想让计算机猜的数字:一到100\n",
      "99\n",
      "你想让计算机猜几次:99\n",
      "计算机猜的是： 66\n",
      "计算机猜的是： 22\n",
      "计算机猜的是： 74\n",
      "计算机猜的是： 63\n",
      "计算机猜的是： 44\n",
      "计算机猜的是： 62\n",
      "计算机猜的是： 80\n",
      "计算机猜的是： 39\n",
      "计算机猜的是： 15\n",
      "计算机猜的是： 82\n",
      "计算机猜的是： 59\n",
      "计算机猜的是： 93\n",
      "计算机猜的是： 56\n",
      "计算机猜的是： 45\n",
      "计算机猜的是： 77\n",
      "计算机猜的是： 95\n",
      "计算机猜的是： 57\n",
      "计算机猜的是： 78\n",
      "计算机猜的是： 26\n",
      "计算机猜的是： 74\n",
      "计算机猜的是： 62\n",
      "计算机猜的是： 67\n",
      "计算机猜的是： 65\n",
      "计算机猜的是： 22\n",
      "计算机猜的是： 16\n",
      "计算机猜的是： 6\n",
      "计算机猜的是： 52\n",
      "计算机猜的是： 16\n",
      "计算机猜的是： 60\n",
      "计算机猜的是： 64\n",
      "计算机猜的是： 86\n",
      "计算机猜的是： 87\n",
      "计算机猜的是： 59\n",
      "计算机猜的是： 37\n",
      "计算机猜的是： 46\n",
      "计算机猜的是： 98\n",
      "计算机猜的是： 31\n",
      "计算机猜的是： 4\n",
      "计算机猜的是： 64\n",
      "计算机猜的是： 100\n",
      "计算机猜的是： 77\n",
      "计算机猜的是： 67\n",
      "计算机猜的是： 44\n",
      "计算机猜的是： 61\n",
      "计算机猜的是： 76\n",
      "计算机猜的是： 21\n",
      "计算机猜的是： 98\n",
      "计算机猜的是： 48\n",
      "计算机猜的是： 47\n",
      "计算机猜的是： 77\n",
      "计算机猜的是： 25\n",
      "计算机猜的是： 78\n",
      "计算机猜的是： 93\n",
      "计算机猜的是： 9\n",
      "计算机猜的是： 39\n",
      "计算机猜的是： 69\n",
      "计算机猜的是： 79\n",
      "计算机猜的是： 2\n",
      "计算机猜的是： 51\n",
      "计算机猜的是： 93\n",
      "计算机猜的是： 98\n",
      "计算机猜的是： 47\n",
      "计算机猜的是： 80\n",
      "计算机猜的是： 62\n",
      "计算机猜的是： 61\n",
      "计算机猜的是： 82\n",
      "计算机猜的是： 65\n",
      "计算机猜的是： 45\n",
      "计算机猜的是： 64\n",
      "计算机猜的是： 40\n",
      "计算机猜的是： 1\n",
      "计算机猜的是： 93\n",
      "计算机猜的是： 52\n",
      "计算机猜的是： 39\n",
      "计算机猜的是： 58\n",
      "计算机猜的是： 36\n",
      "计算机猜的是： 18\n",
      "计算机猜的是： 46\n",
      "计算机猜的是： 33\n",
      "计算机猜的是： 23\n",
      "计算机猜的是： 21\n",
      "计算机猜的是： 73\n",
      "计算机猜的是： 60\n",
      "计算机猜的是： 89\n",
      "计算机猜的是： 57\n",
      "计算机猜的是： 60\n",
      "计算机猜的是： 15\n",
      "计算机猜的是： 3\n",
      "计算机猜的是： 100\n",
      "计算机猜的是： 38\n",
      "计算机猜的是： 45\n",
      "计算机猜的是： 98\n",
      "计算机猜的是： 64\n",
      "计算机猜的是： 1\n",
      "计算机猜的是： 22\n",
      "计算机猜的是： 99\n",
      "duil\n"
     ]
    }
   ],
   "source": [
    "import random,math\n",
    "n=int(input('请输入你想让计算机猜的数字:一到100\\n'))\n",
    "n2=int(input('你想让计算机猜几次:'))\n",
    "i=1\n",
    "flag=1\n",
    "while(i<=n2):\n",
    "    n3=random.randint(1,100)\n",
    "    print('计算机猜的是：',n3)\n",
    "    if n3==n:\n",
    "        print('duil')\n",
    "        flag=0\n",
    "        break\n",
    "    i=i+1\n",
    "if flag:\n",
    "    print('cuol')"
   ]
  },
  {
   "cell_type": "code",
   "execution_count": null,
   "metadata": {
    "collapsed": true
   },
   "outputs": [],
   "source": []
  }
 ],
 "metadata": {
  "kernelspec": {
   "display_name": "Python 3",
   "language": "python",
   "name": "python3"
  },
  "language_info": {
   "codemirror_mode": {
    "name": "ipython",
    "version": 3
   },
   "file_extension": ".py",
   "mimetype": "text/x-python",
   "name": "python",
   "nbconvert_exporter": "python",
   "pygments_lexer": "ipython3",
   "version": "3.6.0"
  }
 },
 "nbformat": 4,
 "nbformat_minor": 2
}
