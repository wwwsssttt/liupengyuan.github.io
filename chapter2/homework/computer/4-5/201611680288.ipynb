{
 "cells": [
  {
   "cell_type": "code",
   "execution_count": 9,
   "metadata": {
    "collapsed": false
   },
   "outputs": [
    {
     "name": "stdout",
     "output_type": "stream",
     "text": [
      "请输入一个大于0的整数,以回车结束。1\n",
      "请输入一个大于m的整数,以回车结束。7\n",
      "均值是： 4.0\n",
      "math.sqrt(k): 2.0\n"
     ]
    }
   ],
   "source": [
    "#写函数，求n个随机整数均值的平方根，整数范围在m与k之间（n,m,k由用户输入）。\n",
    "\n",
    "m=int(input('请输入一个大于0的整数,以回车结束。'))\n",
    "k=int(input('请输入一个大于m的整数,以回车结束。'))\n",
    "\n",
    "i=m\n",
    "sum=m\n",
    "import math\n",
    "while i<k:\n",
    "    i=i+1\n",
    "    sum=sum+i\n",
    "    a=sum/i\n",
    "print('均值是：',a)\n",
    "print('math.sqrt(k):',math.sqrt(a))"
   ]
  },
  {
   "cell_type": "markdown",
   "metadata": {},
   "source": []
  },
  {
   "cell_type": "code",
   "execution_count": 19,
   "metadata": {
    "collapsed": false
   },
   "outputs": [
    {
     "name": "stdout",
     "output_type": "stream",
     "text": [
      "请输入一个大于0的整数,以回车结束。1\n",
      "请输入一个大于m的整数,以回车结束。2\n",
      "西格玛log(随机整数): 0.6931471805599453\n",
      "请输入一个大于1的整数,以回车结束。2\n",
      "请输入一个大于m的整数,以回车结束。3\n",
      "西格玛1/log(随机整数): 2.352934267515801\n"
     ]
    }
   ],
   "source": [
    "# 写函数，共n个随机整数，整数范围在m与k之间，（n,m,k由用户输入）。求1：西格玛log(随机整数)，2：西格玛1/log(随机整数)\n",
    "\n",
    "m=int(input('请输入一个大于0的整数,以回车结束。'))\n",
    "k=int(input('请输入一个大于m的整数,以回车结束。'))\n",
    "\n",
    "import math\n",
    "i=m\n",
    "sumf=math.log(m)\n",
    "while i<k:\n",
    "    i=i+1\n",
    "    sumf=sumf+math.log(i)\n",
    "print('西格玛log(随机整数):',sumf)\n",
    "\n",
    "m=int(input('请输入一个大于1的整数,以回车结束。'))\n",
    "k=int(input('请输入一个大于m的整数,以回车结束。'))\n",
    "\n",
    "import math\n",
    "a=m\n",
    "sums=1/(math.log(m))\n",
    "while a<k:\n",
    "    a=a+1\n",
    "    sums=sums+1/(math.log(a))\n",
    "print('西格玛1/log(随机整数):',sums)"
   ]
  },
  {
   "cell_type": "code",
   "execution_count": null,
   "metadata": {
    "collapsed": false
   },
   "outputs": [],
   "source": [
    "#写函数，求s=a+aa+aaa+aaaa+aa...a的值，其中a是[1,9]之间的随机整数。\n",
    "#例如2+22+222+2222+22222(此时共有5个数相加)，几个数相加由键盘输入\n",
    "a=int(input('请输入一个介于1~9之间的整数,以回车结束。'))\n",
    "n=int(input('请输入一个大于0的整数,作为位数的最大值，以回车结束。'))\n",
    "\n",
    "import math\n",
    "i=0\n",
    "sum=0\n",
    "while i<n:\n",
    "    i=i+1\n",
    "    sum=2*sum+a*10**i\n",
    "print('a+aa+aaa+aaaa+aa...a=',sum)"
   ]
  },
  {
   "cell_type": "code",
   "execution_count": null,
   "metadata": {
    "collapsed": true
   },
   "outputs": [],
   "source": [
    "import random, math\n",
    "\n",
    "\n",
    "def win():\n",
    "    print('Win!')\n",
    "    \n",
    "def lose():\n",
    "    print('Lose!')\n",
    "\n",
    "\n",
    "\n",
    "def menu():\n",
    "    print('''=====游戏菜单=====\n",
    "                1. 游戏说明\n",
    "                2. 开始游戏\n",
    "                3. 退出游戏\n",
    "                4. 制作团队\n",
    "             =====游戏菜单=====''')\n",
    "             \n",
    "def guess_game():\n",
    "    n = int(input('请输入一个大于0的整数，作为神秘整数的上界，回车结束。'))\n",
    "    guess = int(input('请输入你猜测的整数，回车结束。'))\n",
    "    max_times = math.ceil(math.log(n, 2))\n",
    "    guess_times = 0\n",
    "    \n",
    "    while guess_times <= max_times:\n",
    "        number = random.randint(1, n)\n",
    "        guess_times += 1\n",
    "        print('一共可以猜', max_times, '次')\n",
    "        print('你已经猜了', guess_times, '次')\n",
    "        \n",
    "        if guess == number:\n",
    "            win()\n",
    "            print('神秘数字是：', guess)\n",
    "            print('你比标准次数少', max_times-guess_times, '次')\n",
    "            break\n",
    "        elif guess > number:\n",
    "            print('抱歉，你猜大了')\n",
    "        else:\n",
    "            print('抱歉，你猜小了')\n",
    "            \n",
    "    else:\n",
    "        print('神秘数字是：', number)\n",
    "        lose()\n",
    "\n",
    "# 主函数\n",
    "def main():\n",
    "    while True:\n",
    "        menu()\n",
    "        choice = int(input('请输入你的选择'))\n",
    "        if choice == 1:\n",
    "            show_instruction()\n",
    "        elif choice == 2:\n",
    "            guess_game()\n",
    "        elif choice == 3:\n",
    "            game_over()\n",
    "            break\n",
    "        else:\n",
    "            show_team()\n",
    "\n",
    "\n",
    "#主程序\n",
    "if __name__ == '__main__':\n",
    "    main()"
   ]
  }
 ],
 "metadata": {
  "kernelspec": {
   "display_name": "Python 3",
   "language": "python",
   "name": "python3"
  },
  "language_info": {
   "codemirror_mode": {
    "name": "ipython",
    "version": 3
   },
   "file_extension": ".py",
   "mimetype": "text/x-python",
   "name": "python",
   "nbconvert_exporter": "python",
   "pygments_lexer": "ipython3",
   "version": "3.6.0"
  }
 },
 "nbformat": 4,
 "nbformat_minor": 2
}
