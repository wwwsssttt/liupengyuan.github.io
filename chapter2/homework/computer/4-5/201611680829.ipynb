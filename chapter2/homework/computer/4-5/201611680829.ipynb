{
 "cells": [
  {
   "cell_type": "code",
   "execution_count": 8,
   "metadata": {
    "collapsed": false,
    "deletable": true,
    "editable": true
   },
   "outputs": [
    {
     "name": "stdout",
     "output_type": "stream",
     "text": [
      "请输入整数m：1\n",
      "请输入整数k：4\n",
      "请输入一个整数：（m<n<k）3\n",
      "请输入一个整数：2\n",
      "请输入一个整数：3\n",
      "请输入一个整数：4\n",
      "1.7320508075688772\n"
     ]
    }
   ],
   "source": [
    "import math\n",
    "\n",
    "def my_sqrt(m,k):\n",
    "    n=int(input('请输入一个整数：（m<n<k）'))\n",
    "    i=0\n",
    "    total=0\n",
    "    while i<n:\n",
    "        a=int(input('请输入一个整数：'))\n",
    "        i=i+1\n",
    "        total=total+a\n",
    "    avar=total/n\n",
    "    x=math.sqrt(avar)\n",
    "    return x\n",
    "\n",
    "m=int(input('请输入整数m：'))\n",
    "k=int(input('请输入整数k：'))\n",
    "x=my_sqrt(m,k)\n",
    "print(x)"
   ]
  },
  {
   "cell_type": "code",
   "execution_count": 7,
   "metadata": {
    "collapsed": false,
    "deletable": true,
    "editable": true
   },
   "outputs": [
    {
     "name": "stdout",
     "output_type": "stream",
     "text": [
      "请输入整数m：1\n",
      "请输入整数k：4\n",
      "请输入一个整数：（m<n<k）3\n",
      "请输入一个整数：5\n",
      "请输入一个整数：3\n",
      "请输入一个整数：4\n",
      "西格玛log和西格玛1/log分别为： (5.906890595608519, 1.5616063116448504)\n"
     ]
    }
   ],
   "source": [
    "import math\n",
    "\n",
    "def log_sum(m,k):\n",
    "    n=int(input('请输入一个整数：（m<n<k）'))\n",
    "    i=0\n",
    "    total1=total2=0\n",
    "    while i<n:\n",
    "        a=int(input('请输入一个整数：'))\n",
    "        b=math.log(a,2)\n",
    "        i=i+1\n",
    "        total1=total1+b\n",
    "        c=1/b\n",
    "        total2=total2+c\n",
    "    return total1,total2\n",
    "\n",
    "m=int(input('请输入整数m：'))\n",
    "k=int(input('请输入整数k：'))\n",
    "a=log_sum(m,k)\n",
    "print('西格玛log和西格玛1/log分别为：',a)"
   ]
  },
  {
   "cell_type": "code",
   "execution_count": 13,
   "metadata": {
    "collapsed": false,
    "deletable": true,
    "editable": true
   },
   "outputs": [
    {
     "name": "stdout",
     "output_type": "stream",
     "text": [
      "s=a+aa+aaa+aaaa+aaaaa= 11111\n"
     ]
    }
   ],
   "source": [
    "import random\n",
    "\n",
    "def total(x):\n",
    "    s=0\n",
    "    s=x*10000+x*1000+x*100+x*10+x\n",
    "    return s\n",
    "\n",
    "x=random.randint(1,9)\n",
    "s=total(x)\n",
    "print('s=a+aa+aaa+aaaa+aaaaa=',s)"
   ]
  },
  {
   "cell_type": "code",
   "execution_count": 1,
   "metadata": {
    "collapsed": false,
    "deletable": true,
    "editable": true
   },
   "outputs": [
    {
     "name": "stdout",
     "output_type": "stream",
     "text": [
      "游戏开始\n",
      "请输入你的神秘数字：36\n",
      "27\n",
      "你猜小了\n",
      "35\n",
      "你猜小了\n",
      "61\n",
      "你猜大了\n",
      "3\n",
      "你猜小了\n",
      "21\n",
      "你猜小了\n",
      "47\n",
      "你输了\n",
      "游戏结束\n"
     ]
    }
   ],
   "source": [
    "import random,math\n",
    "\n",
    "def game(x):\n",
    "    n=random.randint(0,2*x)\n",
    "    print(n)\n",
    "    max_time = 5\n",
    "    guess_time=0\n",
    "    \n",
    "    while guess_time < max_time:\n",
    "        \n",
    "        if n == x:\n",
    "            p=input()\n",
    "            print(p)\n",
    "            break\n",
    "        \n",
    "        elif n > x:\n",
    "            p=input()\n",
    "            n=random.randint(0,n)\n",
    "            \n",
    "        else:\n",
    "            p=input() \n",
    "            n=random.randint(n,2*x)\n",
    "            \n",
    "        guess_time+=1\n",
    "        print(n)\n",
    "    else:\n",
    "        print('你输了')\n",
    "    return p\n",
    "\n",
    "print('游戏开始')\n",
    "x=int(input('请输入你的神秘数字：'))\n",
    "game(x)\n",
    "print('游戏结束')"
   ]
  }
 ],
 "metadata": {
  "kernelspec": {
   "display_name": "Python 3",
   "language": "python",
   "name": "python3"
  },
  "language_info": {
   "codemirror_mode": {
    "name": "ipython",
    "version": 3
   },
   "file_extension": ".py",
   "mimetype": "text/x-python",
   "name": "python",
   "nbconvert_exporter": "python",
   "pygments_lexer": "ipython3",
   "version": "3.6.0"
  }
 },
 "nbformat": 4,
 "nbformat_minor": 2
}
