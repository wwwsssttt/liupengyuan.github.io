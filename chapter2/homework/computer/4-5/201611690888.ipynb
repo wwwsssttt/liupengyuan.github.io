{
 "cells": [
  {
   "cell_type": "code",
   "execution_count": 7,
   "metadata": {
    "collapsed": false,
    "scrolled": true
   },
   "outputs": [
    {
     "name": "stdout",
     "output_type": "stream",
     "text": [
      "=====游戏菜单=====\n",
      "                1. 游戏说明\n",
      "                2. 开始游戏\n",
      "                3. 退出游戏\n",
      "             =====游戏菜单=====\n",
      "请输入你的选择2\n",
      "请输入一个大于0的整数，作为神秘整数的上界，回车结束。100\n",
      "请输入一个大于0的整数，作为神秘整数，回车结束。84\n",
      "62\n",
      "一共可以猜 98 次\n",
      "计算机已经猜了 1 次\n",
      "如果正确，请输入T；如果猜大了，请输入B；如果猜小了，请输入S。S\n",
      "抱歉，你猜小了\n",
      "85\n",
      "一共可以猜 98 次\n",
      "计算机已经猜了 2 次\n",
      "如果正确，请输入T；如果猜大了，请输入B；如果猜小了，请输入S。B\n",
      "抱歉，你猜大了\n",
      "82\n",
      "一共可以猜 98 次\n",
      "计算机已经猜了 3 次\n",
      "如果正确，请输入T；如果猜大了，请输入B；如果猜小了，请输入S。S\n",
      "抱歉，你猜小了\n",
      "83\n",
      "一共可以猜 98 次\n",
      "计算机已经猜了 4 次\n",
      "如果正确，请输入T；如果猜大了，请输入B；如果猜小了，请输入S。S\n",
      "抱歉，你猜小了\n",
      "84\n",
      "一共可以猜 98 次\n",
      "计算机已经猜了 5 次\n",
      "如果正确，请输入T；如果猜大了，请输入B；如果猜小了，请输入S。T\n",
      "\n",
      "           ======计算机赢了！=======\n",
      "\n",
      "        \n",
      "神秘数字是： 84\n"
     ]
    }
   ],
   "source": [
    "import random, math\n",
    "\n",
    "\n",
    "def welcome():\n",
    "    print(\n",
    "        '''\n",
    "           ======欢迎来到猜数游戏=======\n",
    "\n",
    "        '''\n",
    "    )\n",
    "    \n",
    "def win():\n",
    "    print(\n",
    "        '''\n",
    "           ======计算机赢了！=======\n",
    "\n",
    "        '''\n",
    "    )\n",
    "    \n",
    "def lose():\n",
    "    print(\n",
    "        '''\n",
    "           ======计算机输了！=======\n",
    "\n",
    "        '''\n",
    "    )\n",
    "    \n",
    "def game_over():\n",
    "    print(\n",
    "        '''\n",
    "           ======游戏结束=======\n",
    "\n",
    "        '''\n",
    "    )\n",
    "\n",
    "\n",
    "def show_instruction():\n",
    "     print(\n",
    "        '''\n",
    "           ======游戏说明=======\n",
    "           用户随便选择一个整数，让计算机来猜测，由人来判断猜测是大、小还是相等\n",
    "\n",
    "        '''\n",
    "    )\n",
    "        \n",
    "\n",
    "def menu():\n",
    "    print('''=====游戏菜单=====\n",
    "                1. 游戏说明\n",
    "                2. 开始游戏\n",
    "                3. 退出游戏\n",
    "             =====游戏菜单=====''')\n",
    "             \n",
    "def guess_game():\n",
    "    n = int(input('请输入一个大于0的整数，作为神秘整数的上界，回车结束。'))\n",
    "    i = 1\n",
    "    m = int(input('请输入一个大于0的整数，作为神秘整数，回车结束。'))\n",
    "    max_times = n - 2\n",
    "    guess_times = 0\n",
    "    \n",
    "    while guess_times <= max_times:\n",
    "        number=random.randint(i, n)\n",
    "        x = number\n",
    "        guess_times += 1\n",
    "        print(x)\n",
    "        print('一共可以猜', max_times, '次')\n",
    "        print('计算机已经猜了', guess_times, '次')\n",
    "        guess =  str(input('如果正确，请输入T；如果猜大了，请输入B；如果猜小了，请输入S。'))\n",
    "        if guess == 'T':\n",
    "            win()\n",
    "            print('神秘数字是：', number)\n",
    "            break\n",
    "        elif guess == 'B':\n",
    "            n = x - 1\n",
    "            print('抱歉，你猜大了')\n",
    "        else:\n",
    "            i = x + 1\n",
    "            print('抱歉，你猜小了')\n",
    "            \n",
    "    else:\n",
    "        print('神秘数字是：', m)\n",
    "        lose()\n",
    "\n",
    "# 主函数\n",
    "def main():\n",
    "    \n",
    "        menu()\n",
    "        choice = int(input('请输入你的选择'))\n",
    "        if choice == 1:\n",
    "            show_instruction()\n",
    "        elif choice == 2:\n",
    "            guess_game()\n",
    "        elif choice == 3:\n",
    "            game_over()\n",
    "            \n",
    "\n",
    "\n",
    "main()"
   ]
  },
  {
   "cell_type": "code",
   "execution_count": 8,
   "metadata": {
    "collapsed": false
   },
   "outputs": [
    {
     "name": "stdout",
     "output_type": "stream",
     "text": [
      "请输入一个整数,以回车结束.5\n",
      "请输入另一个整数,以回车结束.8\n",
      "请输入整数个数,以回车结束.2\n",
      "42.25\n"
     ]
    }
   ],
   "source": [
    "import random\n",
    "\n",
    "def squareroot(m,k,n) :\n",
    "    temp = 0\n",
    "    total = 0\n",
    "    i = 0\n",
    "    aver = 0\n",
    "    \n",
    "    if  m > k :\n",
    "        temp = m\n",
    "        m = k\n",
    "        k = temp\n",
    "    while i < n :\n",
    "        num = random.randint(m,k)\n",
    "        total = total + num\n",
    "        i = i + 1\n",
    "    aver = total / i\n",
    "    print(aver*aver)\n",
    "    \n",
    "m=int(input('请输入一个整数,以回车结束.'))\n",
    "k=int(input('请输入另一个整数,以回车结束.'))\n",
    "n=int(input('请输入整数个数,以回车结束.'))\n",
    "\n",
    "squareroot(m,k,n)"
   ]
  },
  {
   "cell_type": "code",
   "execution_count": 9,
   "metadata": {
    "collapsed": false
   },
   "outputs": [
    {
     "name": "stdout",
     "output_type": "stream",
     "text": [
      "请输入一个整数,以回车结束.5\n",
      "请输入另一个整数,以回车结束.8\n",
      "请输入整数个数,以回车结束.2\n",
      "西格玛log(随机整数)为: 3.5553480614894135\n",
      "西格玛1/log(随机整数)为: 1.1352332769293625\n"
     ]
    }
   ],
   "source": [
    "import random\n",
    "import math\n",
    "\n",
    "def sigma(m,k,n) :\n",
    "    temp = 0\n",
    "    total_1 = 0\n",
    "    total_2 = 0\n",
    "    i = 0\n",
    "    \n",
    "    if  m > k :\n",
    "        temp = m\n",
    "        m = k\n",
    "        k = temp\n",
    "    while i < n :\n",
    "        num = random.randint(m,k)\n",
    "        total_1 = total_1 + math.log(num)\n",
    "        total_2 = total_2 + 1/math.log(num)\n",
    "        i = i + 1\n",
    "    print('西格玛log(随机整数)为:',total_1)\n",
    "    print('西格玛1/log(随机整数)为:',total_2)\n",
    "    \n",
    "m=int(input('请输入一个整数,以回车结束.'))\n",
    "k=int(input('请输入另一个整数,以回车结束.'))\n",
    "n=int(input('请输入整数个数,以回车结束.'))\n",
    "\n",
    "sigma(m,k,n)"
   ]
  },
  {
   "cell_type": "code",
   "execution_count": 10,
   "metadata": {
    "collapsed": false
   },
   "outputs": [
    {
     "name": "stdout",
     "output_type": "stream",
     "text": [
      "请输入整数个数,以回车结束.3\n",
      "861\n"
     ]
    }
   ],
   "source": [
    "import random\n",
    "\n",
    "def add(n) :\n",
    "    i = 0\n",
    "    s = 0\n",
    "    k = 0\n",
    "    m = 0\n",
    "    num = random.randint(1,9)\n",
    "    \n",
    "   \n",
    "    while i < n :\n",
    "        m = num + m * 10\n",
    "        s = s + m\n",
    "        i = i + 1  \n",
    "    print(s)\n",
    "    \n",
    "n=int(input('请输入整数个数,以回车结束.'))\n",
    "\n",
    "add(n)"
   ]
  }
 ],
 "metadata": {
  "kernelspec": {
   "display_name": "Python 3",
   "language": "python",
   "name": "python3"
  },
  "language_info": {
   "codemirror_mode": {
    "name": "ipython",
    "version": 3
   },
   "file_extension": ".py",
   "mimetype": "text/x-python",
   "name": "python",
   "nbconvert_exporter": "python",
   "pygments_lexer": "ipython3",
   "version": "3.6.0"
  }
 },
 "nbformat": 4,
 "nbformat_minor": 2
}
