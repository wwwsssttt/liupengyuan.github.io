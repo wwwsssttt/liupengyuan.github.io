{
 "cells": [
  {
   "cell_type": "code",
   "execution_count": 8,
   "metadata": {
    "collapsed": false
   },
   "outputs": [
    {
     "name": "stdout",
     "output_type": "stream",
     "text": [
      "=====game menu=====\n",
      "              1.show instructions\n",
      "              2.start the game\n",
      "              3.exit\n",
      "             =====game menu=====\n",
      "please enter an integer: 3\n",
      "start: \n",
      "please enter the limited times: 3\n",
      "84\n",
      "please enter the number: 1\n",
      "You win!\n"
     ]
    }
   ],
   "source": [
    "def win():\n",
    "    print(\"You win!\")\n",
    "    \n",
    "def lose():\n",
    "    print(\"You lose.\")\n",
    "    \n",
    "def menu():\n",
    "    print('''=====game menu=====\n",
    "              1.show instructions\n",
    "              2.start the game\n",
    "              3.exit\n",
    "             =====game menu=====''')\n",
    "    \n",
    "def instructions():\n",
    "    print(\"please guess an integer.\")\n",
    "\n",
    "menu()\n",
    "choice = int(input(\"please enter an integer: \"))\n",
    "if choice == 1:\n",
    "    instructions()\n",
    "print(\"start: \")\n",
    "k = int(input(\"please enter the limited times: \"))\n",
    "i = 0\n",
    "result = 0\n",
    "while i <= k:\n",
    "    m = random.randint(1,1000)\n",
    "    print(m)\n",
    "    result = int(input(\"please enter the number: \"))\n",
    "    if result == 1:\n",
    "        win()\n",
    "        break\n",
    "    else :\n",
    "        lose()\n",
    "        i += 1\n",
    "        \n",
    "if i == k:\n",
    "    print(\"You've run out the times,sorry.\")\n",
    "    \n",
    "        "
   ]
  }
 ],
 "metadata": {
  "kernelspec": {
   "display_name": "Python 3",
   "language": "python",
   "name": "python3"
  },
  "language_info": {
   "codemirror_mode": {
    "name": "ipython",
    "version": 3
   },
   "file_extension": ".py",
   "mimetype": "text/x-python",
   "name": "python",
   "nbconvert_exporter": "python",
   "pygments_lexer": "ipython3",
   "version": "3.6.0"
  }
 },
 "nbformat": 4,
 "nbformat_minor": 2
}
