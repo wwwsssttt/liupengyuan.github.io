{
 "cells": [
  {
   "cell_type": "code",
   "execution_count": 1,
   "metadata": {
    "collapsed": false
   },
   "outputs": [
    {
     "name": "stdout",
     "output_type": "stream",
     "text": [
      "请输入所需随机数的个数n：2\n",
      "请输入整数所在的范围的左端点值m：1\n",
      "请输入整数所在的范围的右端点值k：9\n",
      "2.8284271247461903\n"
     ]
    }
   ],
   "source": [
    "#练习 1：写函数，求n个随机整数均值的平方根，整数范围在m与k之间。\n",
    "import random\n",
    "import math\n",
    "i=0\n",
    "sum=0\n",
    "n=int(input('请输入所需随机数的个数n：'))\n",
    "m=int(input('请输入整数所在的范围的左端点值m：'))\n",
    "k=int(input('请输入整数所在的范围的右端点值k：'))\n",
    "while i < n:\n",
    "    a = random.randint(m,k)\n",
    "    sum = sum + a\n",
    "    i += 1\n",
    "        \n",
    "print(math.sqrt(sum/n))"
   ]
  },
  {
   "cell_type": "code",
   "execution_count": 2,
   "metadata": {
    "collapsed": false
   },
   "outputs": [
    {
     "name": "stdout",
     "output_type": "stream",
     "text": [
      "请输入所需随机数的个数n：2\n",
      "请输入正整数所在的范围的左端点值m：5\n",
      "请输入正整数所在的范围的右端点值k：9\n",
      "3.2188758248682006\n",
      "1.2426698691192237\n"
     ]
    }
   ],
   "source": [
    "#练习 2：写函数，共n个随机整数，整数范围在m与k之间，求西格玛log(随机整数)及西格玛1/log(随机整数),log（x）以e为底x的对数\n",
    "import math\n",
    "i = 0\n",
    "sum1 = 0\n",
    "sum2 = 0\n",
    "n = int(input('请输入所需随机数的个数n：'))\n",
    "m = int(input('请输入正整数所在的范围的左端点值m：'))\n",
    "k = int(input('请输入正整数所在的范围的右端点值k：'))\n",
    "while i < n:\n",
    "    a = random.randint(m,k)\n",
    "    sum1 = sum1 + math.log(a)\n",
    "    sum2 = sum2 + 1 / math.log(a)\n",
    "    i += 1\n",
    "print(sum1,'\\n',sum2,sep='')"
   ]
  },
  {
   "cell_type": "code",
   "execution_count": 9,
   "metadata": {
    "collapsed": false
   },
   "outputs": [
    {
     "name": "stdout",
     "output_type": "stream",
     "text": [
      "请输入需要相加的数字的个数:2\n",
      "随机数字是： 5\n",
      "和为s： 60\n"
     ]
    }
   ],
   "source": [
    "#练习 3：写函数，求s=a+aa+aaa+aaaa+aa...a的值，其中a是[1,9]之间的随机整数。例如2+22+222+2222+22222(此时共有5个数相加)，几个数相加由键盘输入。\n",
    "\n",
    "def compute_sum(n,a):\n",
    "    s = a\n",
    "    i = 1\n",
    "    while i < n:\n",
    "        s = (a + s*10) + s\n",
    "        i += 1\n",
    "    return s\n",
    "\n",
    "n = int(input('请输入需要相加的数字的个数:'))\n",
    "\n",
    "import random\n",
    "a = random.randint(1,9)\n",
    "\n",
    "\n",
    "print('随机数字是：',a)        \n",
    "print('和为s：',compute_sum(n,a))"
   ]
  },
  {
   "cell_type": "code",
   "execution_count": 1,
   "metadata": {
    "collapsed": false
   },
   "outputs": [
    {
     "name": "stdout",
     "output_type": "stream",
     "text": [
      "=====游戏菜单=====\n",
      "1. 游戏说明\n",
      "2. 开始游戏\n",
      "3. 退出游戏\n",
      "4. 制作团队\n",
      "=====游戏菜单=====\n",
      "=====游戏菜单=====\n",
      "1. 游戏说明\n",
      "2. 开始游戏\n",
      "3. 退出游戏\n",
      "4. 制作团队\n",
      "=====游戏菜单=====\n",
      "请输入你的选择2\n",
      "请输入一个大于0的整数，作为这次游戏的神秘整数，回车结束。20\n",
      "10\n",
      "一共可以猜 5 次\n",
      "你已经猜了 1 次\n",
      "请输入计算机猜大了还是猜小了：猜小了\n",
      "猜小了\n",
      "21\n",
      "一共可以猜 5 次\n",
      "你已经猜了 2 次\n",
      "请输入计算机猜大了还是猜小了：猜大了\n",
      "猜大了\n",
      "14\n",
      "一共可以猜 5 次\n",
      "你已经猜了 3 次\n",
      "请输入计算机猜大了还是猜小了：猜小了\n",
      "猜小了\n",
      "19\n",
      "一共可以猜 5 次\n",
      "你已经猜了 4 次\n",
      "请输入计算机猜大了还是猜小了：猜小了\n",
      "猜小了\n",
      "22\n",
      "一共可以猜 5 次\n",
      "你已经猜了 5 次\n",
      "请输入计算机猜大了还是猜小了：猜大了\n",
      "猜大了\n",
      "神秘数字是： 20\n",
      "Lose!\n",
      "=====游戏菜单=====\n",
      "1. 游戏说明\n",
      "2. 开始游戏\n",
      "3. 退出游戏\n",
      "4. 制作团队\n",
      "=====游戏菜单=====\n",
      "请输入你的选择3\n",
      "Game over!\n"
     ]
    }
   ],
   "source": [
    "'''\n",
    "挑战性练习：仿照task5，将猜数游戏改成由用户随便选择一个整数，让计算机来猜测的猜数游戏，\n",
    "要求和task5中人猜测的方法类似，但是人机角色对换，由人来判断猜测是大、小还是相等，请写出完整的猜数游戏。\n",
    "'''\n",
    "\n",
    "import random, math\n",
    "\n",
    "\n",
    "def win():\n",
    "    print('Win!')\n",
    "    \n",
    "def lose():\n",
    "    print('Lose!')\n",
    "\n",
    "def game_over():\n",
    "    print('Game over!')\n",
    "\n",
    "def show_team():\n",
    "    print('Show team!')\n",
    "\n",
    "def show_instruction():\n",
    "    print('Show instruction!')\n",
    "\n",
    "def menu():\n",
    "    print('=====游戏菜单=====')\n",
    "    print('1. 游戏说明')\n",
    "    print('2. 开始游戏')\n",
    "    print('3. 退出游戏')\n",
    "    print('4. 制作团队')\n",
    "    print('=====游戏菜单=====')\n",
    "\n",
    "#主程序，为测试函数结果\n",
    "menu()\n",
    "def guess_game():\n",
    "    n = int(input('请输入一个大于0的整数，作为这次游戏的神秘整数，回车结束。'))\n",
    "    \n",
    "    max_times = math.ceil(math.log(n, 2))\n",
    "    guess_times = 0\n",
    "    \n",
    "    guess_number = random.randint(n - 10, n + 10)\n",
    "    while guess_times < max_times:\n",
    "        print(guess_number)\n",
    "        guess_times += 1\n",
    "        print('一共可以猜', max_times, '次')\n",
    "        print('你已经猜了', guess_times, '次')\n",
    "        \n",
    "        if guess_number == n:\n",
    "            win()\n",
    "            print('神秘数字是：', n)\n",
    "            print('你比标准次数少', max_times-guess_times, '次')\n",
    "            break\n",
    "        else:\n",
    "            print(input('请输入计算机猜大了还是猜小了：'))\n",
    "            if guess_number > n:\n",
    "                guess_number = random.randint(n-10, guess_number)\n",
    "            else:\n",
    "                guess_number = random.randint(guess_number, n + 10)\n",
    "                \n",
    "    else:\n",
    "        print('神秘数字是：', n)\n",
    "        lose()\n",
    "\n",
    "# 主函数\n",
    "def main():\n",
    "    while True:\n",
    "        menu()\n",
    "        choice = int(input('请输入你的选择'))\n",
    "        if choice == 1:\n",
    "            show_instruction()\n",
    "        elif choice == 2:\n",
    "            guess_game()\n",
    "        elif choice == 3:\n",
    "            game_over()\n",
    "            break\n",
    "        else:\n",
    "            show_team()\n",
    "\n",
    "\n",
    "#主程序\n",
    "if __name__ == '__main__':\n",
    "    main()"
   ]
  }
 ],
 "metadata": {
  "kernelspec": {
   "display_name": "Python 3",
   "language": "python",
   "name": "python3"
  },
  "language_info": {
   "codemirror_mode": {
    "name": "ipython",
    "version": 3
   },
   "file_extension": ".py",
   "mimetype": "text/x-python",
   "name": "python",
   "nbconvert_exporter": "python",
   "pygments_lexer": "ipython3",
   "version": "3.6.0"
  }
 },
 "nbformat": 4,
 "nbformat_minor": 2
}
