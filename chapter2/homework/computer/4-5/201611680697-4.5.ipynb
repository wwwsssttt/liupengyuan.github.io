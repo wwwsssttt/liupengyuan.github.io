{
 "cells": [
  {
   "cell_type": "code",
   "execution_count": 1,
   "metadata": {
    "collapsed": false,
    "deletable": true,
    "editable": true
   },
   "outputs": [
    {
     "name": "stdout",
     "output_type": "stream",
     "text": [
      "请输入随机整数的最小值3\n",
      "请输入随机整数的最大值10\n",
      "请输入随机整数的个数3\n",
      "3\n",
      "5\n",
      "9\n",
      "5.666666666666667\n",
      "2.3804761428476167\n"
     ]
    }
   ],
   "source": [
    "import math,random\n",
    "\n",
    "def fuc(i,a,b):\n",
    "    j=0\n",
    "    total=0\n",
    "    areverage=0\n",
    "    while j<i:\n",
    "        j=j+1\n",
    "        number=random.randint(a,b)\n",
    "        print(number)\n",
    "        total=total+number\n",
    "    average=total/i\n",
    "    print(average)\n",
    "    print(math.sqrt(average))\n",
    "    \n",
    "m=int(input('请输入随机整数的最小值'))\n",
    "k=int(input('请输入随机整数的最大值'))\n",
    "n=int(input('请输入随机整数的个数'))\n",
    "fuc(n,m,k)"
   ]
  },
  {
   "cell_type": "markdown",
   "metadata": {
    "deletable": true,
    "editable": true
   },
   "source": [
    "练习 2：共n个随机整数，整数范围在m与k之间，求西格玛log(随机整数)及西格玛1/log(随机整数)"
   ]
  },
  {
   "cell_type": "code",
   "execution_count": 13,
   "metadata": {
    "collapsed": false,
    "deletable": true,
    "editable": true
   },
   "outputs": [
    {
     "name": "stdout",
     "output_type": "stream",
     "text": [
      "请输入随机整数的最小值3\n",
      "请输入随机整数的最大值12\n",
      "请输入随机整数的个数4\n",
      "5\n",
      "8\n",
      "5\n",
      "6\n",
      "西格玛log(随机整数为)： 12\n",
      "西格玛1/log(随机整数)为: 1.3333333333333333\n"
     ]
    }
   ],
   "source": [
    "import random,math\n",
    "def fuc(i,a,b):\n",
    "    j=0\n",
    "    total_1=0\n",
    "    total_2=0\n",
    "    while j<i:\n",
    "        j=j+1\n",
    "        number=random.randint(a,b)\n",
    "        print(number)\n",
    "        total_1=total_1+math.ceil(math.log(number, 2))\n",
    "        total_2=total_2+1/math.ceil(math.log(number, 2))\n",
    "    print('西格玛log(随机整数为)：',total_1)\n",
    "    print('西格玛1/log(随机整数)为:',total_2)\n",
    "    \n",
    "m=int(input('请输入随机整数的最小值'))\n",
    "k=int(input('请输入随机整数的最大值'))\n",
    "n=int(input('请输入随机整数的个数'))\n",
    "fuc(n,m,k)"
   ]
  },
  {
   "cell_type": "markdown",
   "metadata": {},
   "source": [
    "练习 3：写函数，求s=a+aa+aaa+aaaa+aa...a的值，其中a是[1,9]之间的随机整数。例如2+22+222+2222+22222(此时共有5个数相加)，几个数相加由键盘输入。\n"
   ]
  },
  {
   "cell_type": "code",
   "execution_count": 15,
   "metadata": {
    "collapsed": false
   },
   "outputs": [
    {
     "name": "stdout",
     "output_type": "stream",
     "text": [
      "3\n",
      "1\n",
      "最终值为： 123\n"
     ]
    }
   ],
   "source": [
    "import math,random\n",
    "\n",
    "def fuc(m):\n",
    "    a=random.randint(1,9)\n",
    "    print(a)\n",
    "    i=1\n",
    "    total=a\n",
    "    temp=a\n",
    "    while i<m:\n",
    "        temp=temp+a*(10**i)\n",
    "        total=total+temp\n",
    "        i=i+1\n",
    "    print('最终值为：',total)\n",
    "\n",
    "n=int(input())\n",
    "\n",
    "fuc(n)"
   ]
  },
  {
   "cell_type": "markdown",
   "metadata": {
    "deletable": true,
    "editable": true
   },
   "source": [
    "挑战性练习：将猜数游戏改成由用户随便选择一个整数，让计算机来猜测的猜数游戏。"
   ]
  },
  {
   "cell_type": "code",
   "execution_count": 1,
   "metadata": {
    "collapsed": false
   },
   "outputs": [
    {
     "name": "stdout",
     "output_type": "stream",
     "text": [
      "\n",
      "             =====游戏菜单=====\n",
      "                1. 游戏说明\n",
      "                2. 开始游戏\n",
      "                3. 退出游戏\n",
      "                4. 制作团队\n",
      "             =====游戏菜单=====\n",
      "         \n",
      "请输入你的选择2\n",
      "请输入一个数：12\n",
      "请输入一个大于0的整数，作为神秘整数的上界，回车结束。24\n",
      "计算机已经猜了 1 次\n",
      "计算机给出的数是： 7\n",
      "计算机猜小了\n",
      "计算机已经猜了 2 次\n",
      "计算机给出的数是： 2\n",
      "计算机猜小了\n",
      "计算机已经猜了 3 次\n",
      "计算机给出的数是： 9\n",
      "计算机猜小了\n",
      "计算机已经猜了 4 次\n",
      "计算机给出的数是： 23\n",
      "计算机猜大了\n",
      "你输入的数是： 12\n",
      "yeah! you won!\n",
      "\n",
      "             =====游戏菜单=====\n",
      "                1. 游戏说明\n",
      "                2. 开始游戏\n",
      "                3. 退出游戏\n",
      "                4. 制作团队\n",
      "             =====游戏菜单=====\n",
      "         \n",
      "请输入你的选择3\n",
      "bye bye\n"
     ]
    }
   ],
   "source": [
    "import random, math\n",
    "\n",
    "\n",
    "def win():\n",
    "    print('yeah! you won!')\n",
    "    \n",
    "def lost():\n",
    "    print('sorry! you lost! try again')\n",
    "\n",
    "def game_over():\n",
    "    print('bye bye')\n",
    "\n",
    "def show_team():\n",
    "    print('liupengyuan and his students!')\n",
    "\n",
    "def show_instruction():\n",
    "    print('随便输入一个整数，让计算机在有限的次数内猜测你所输入的这个数')\n",
    "\n",
    "def menu():\n",
    "    print('''\n",
    "             =====游戏菜单=====\n",
    "                1. 游戏说明\n",
    "                2. 开始游戏\n",
    "                3. 退出游戏\n",
    "                4. 制作团队\n",
    "             =====游戏菜单=====\n",
    "         ''')\n",
    "             \n",
    "def guess_game():\n",
    "    m=int(input('请输入一个数：'))\n",
    "    n = int(input('请输入一个大于0的整数，作为神秘整数的上界，回车结束。'))\n",
    "    max_times = math.ceil(math.log(m, 2))#这句话的意思是为了让用户可以尝试的次数等于输入数的以2为底对数\n",
    "    guess_times = 0\n",
    "    \n",
    "    while guess_times < max_times:\n",
    "        number = random.randint(1, n)\n",
    "        guess_times += 1\n",
    "        print('计算机已经猜了', guess_times, '次')\n",
    "        \n",
    "        if number == m:\n",
    "            lost()\n",
    "            print('计算机给出的数是：', number)\n",
    "            print('计算机比标准次数少', max_times-guess_times, '次')\n",
    "            break\n",
    "        elif number > m:\n",
    "            print('计算机给出的数是：', number)\n",
    "            print('计算机猜大了')\n",
    "        else:\n",
    "            print('计算机给出的数是：', number)\n",
    "            print('计算机猜小了')\n",
    "            \n",
    "    else:\n",
    "        print('你输入的数是：', m)\n",
    "        win()\n",
    "\n",
    "def main():\n",
    "    while True:#while后面加ture，是为了让计算机一直执行main程序，一直到用户想要结束为止\n",
    "        menu()\n",
    "        choice = int(input('请输入你的选择'))\n",
    "        if choice == 1:\n",
    "            show_instruction()\n",
    "        elif (choice == 2):\n",
    "            guess_game()\n",
    "        elif (choice == 3):\n",
    "            game_over()\n",
    "            break\n",
    "        else:\n",
    "            show_team()\n",
    "\n",
    "\n",
    "\n",
    "if __name__ == '__main__':#这句话也可以不要\n",
    "    main()"
   ]
  }
 ],
 "metadata": {
  "kernelspec": {
   "display_name": "Python 3",
   "language": "python",
   "name": "python3"
  },
  "language_info": {
   "codemirror_mode": {
    "name": "ipython",
    "version": 3
   },
   "file_extension": ".py",
   "mimetype": "text/x-python",
   "name": "python",
   "nbconvert_exporter": "python",
   "pygments_lexer": "ipython3",
   "version": "3.6.0"
  }
 },
 "nbformat": 4,
 "nbformat_minor": 2
}
