{
 "cells": [
  {
   "cell_type": "markdown",
   "metadata": {},
   "source": [
    "练习1"
   ]
  },
  {
   "cell_type": "code",
   "execution_count": 1,
   "metadata": {
    "collapsed": false
   },
   "outputs": [
    {
     "name": "stdout",
     "output_type": "stream",
     "text": [
      "请输入随机数的个数：3\n",
      "请输入随机数下界：1\n",
      "请输入随机数上界：3\n",
      "1.2909944487358056\n"
     ]
    }
   ],
   "source": [
    "import math,random\n",
    "\n",
    "n=int(input('请输入随机数的个数：'))\n",
    "m=int(input('请输入随机数下界：'))\n",
    "k=int(input('请输入随机数上界：'))\n",
    "\n",
    "sum=0\n",
    "i=0\n",
    "\n",
    "while i<n:\n",
    "    i+=1\n",
    "    num=random.randint(m,k)\n",
    "    sum+=num\n",
    "\n",
    "print(math.sqrt(sum/n))"
   ]
  },
  {
   "cell_type": "markdown",
   "metadata": {},
   "source": [
    "练习2"
   ]
  },
  {
   "cell_type": "code",
   "execution_count": 2,
   "metadata": {
    "collapsed": false
   },
   "outputs": [
    {
     "name": "stdout",
     "output_type": "stream",
     "text": [
      "请输入随机数的个数：4\n",
      "请输入随机数下界：2\n",
      "请输入随机数上界：5\n",
      "西格玛log(随机整数): 4.0943445622221\n",
      "西格玛1/log(随机整数): 4.416964242964376\n"
     ]
    }
   ],
   "source": [
    "import math,random\n",
    "\n",
    "n=int(input('请输入随机数的个数：'))\n",
    "m=int(input('请输入随机数下界：'))\n",
    "k=int(input('请输入随机数上界：'))\n",
    "\n",
    "sum_1=0\n",
    "sum_2=0\n",
    "i=0\n",
    "\n",
    "while i<n:\n",
    "    i+=1\n",
    "    num=random.randint(m,k)\n",
    "    sum_1+=math.log(num)\n",
    "    sum_2+=1/math.log(num)\n",
    "\n",
    "print('西格玛log(随机整数):',sum_1)\n",
    "print('西格玛1/log(随机整数):',sum_2)"
   ]
  },
  {
   "cell_type": "markdown",
   "metadata": {},
   "source": [
    "练习3"
   ]
  },
  {
   "cell_type": "code",
   "execution_count": 3,
   "metadata": {
    "collapsed": false
   },
   "outputs": [
    {
     "name": "stdout",
     "output_type": "stream",
     "text": [
      "请输入相加数的个数：5\n",
      "选取的随机数是： 6\n",
      "s=a+aa+aaa+aaaa+aa...a: 74070\n"
     ]
    }
   ],
   "source": [
    "import random\n",
    "\n",
    "sum=0\n",
    "i=0\n",
    "\n",
    "n=int(input('请输入相加数的个数：'))\n",
    "a=random.randint(1,9)\n",
    "print('选取的随机数是：',a)\n",
    "b=a\n",
    "\n",
    "while i<n:\n",
    "    i+=1\n",
    "    sum+=b\n",
    "    b+=a*10**i\n",
    "\n",
    "print('s=a+aa+aaa+aaaa+aa...a:',sum)"
   ]
  },
  {
   "cell_type": "markdown",
   "metadata": {},
   "source": [
    "挑战性练习"
   ]
  },
  {
   "cell_type": "code",
   "execution_count": 4,
   "metadata": {
    "collapsed": false
   },
   "outputs": [
    {
     "name": "stdout",
     "output_type": "stream",
     "text": [
      "\n",
      "=====游戏菜单=====\n",
      "  1. 游戏说明\n",
      "  2. 开始游戏\n",
      "  3. 退出游戏\n",
      "  4. 制作团队\n",
      "=====游戏菜单=====\n",
      "请输入你的选择1\n",
      "用户随便选择一个整数，计算机猜测\n",
      "\n",
      "=====游戏菜单=====\n",
      "  1. 游戏说明\n",
      "  2. 开始游戏\n",
      "  3. 退出游戏\n",
      "  4. 制作团队\n",
      "=====游戏菜单=====\n",
      "请输入你的选择4\n",
      "201611680433----Peggy Yang\n",
      "\n",
      "=====游戏菜单=====\n",
      "  1. 游戏说明\n",
      "  2. 开始游戏\n",
      "  3. 退出游戏\n",
      "  4. 制作团队\n",
      "=====游戏菜单=====\n",
      "请输入你的选择1\n",
      "用户随便选择一个整数，计算机猜测\n",
      "\n",
      "=====游戏菜单=====\n",
      "  1. 游戏说明\n",
      "  2. 开始游戏\n",
      "  3. 退出游戏\n",
      "  4. 制作团队\n",
      "=====游戏菜单=====\n",
      "请输入你的选择2\n",
      "请输入一个大于0的整数，作为神秘整数的上界，回车结束。30\n",
      "一共可以猜 5 次\n",
      "已经猜了 1 次\n",
      "是数字 2 吗？\n",
      "是，请输入0；偏大，请输入1；偏小，请输入-1：-1\n",
      "一共可以猜 5 次\n",
      "已经猜了 2 次\n",
      "是数字 26 吗？\n",
      "是，请输入0；偏大，请输入1；偏小，请输入-1：1\n",
      "一共可以猜 5 次\n",
      "已经猜了 3 次\n",
      "是数字 25 吗？\n",
      "是，请输入0；偏大，请输入1；偏小，请输入-1：1\n",
      "一共可以猜 5 次\n",
      "已经猜了 4 次\n",
      "是数字 20 吗？\n",
      "是，请输入0；偏大，请输入1；偏小，请输入-1：0\n",
      "I Win!\n",
      "神秘数字是： 20\n",
      "比标准次数少 1 次\n",
      "\n",
      "=====游戏菜单=====\n",
      "  1. 游戏说明\n",
      "  2. 开始游戏\n",
      "  3. 退出游戏\n",
      "  4. 制作团队\n",
      "=====游戏菜单=====\n",
      "请输入你的选择3\n",
      "Game over! Bye~\n"
     ]
    }
   ],
   "source": [
    "import random, math\n",
    "\n",
    "def win():\n",
    "    print('I Win!')\n",
    "    \n",
    "def lose():\n",
    "    print('Sorry,I Lose...')\n",
    "\n",
    "def game_over():\n",
    "    print('Game over! Bye~')\n",
    "\n",
    "def show_team():\n",
    "    print('201611680433----Peggy Yang')\n",
    "\n",
    "def show_instruction():\n",
    "    print('用户随便选择一个整数，计算机猜测')\n",
    "\n",
    "def menu():\n",
    "    print('''\n",
    "=====游戏菜单=====\n",
    "  1. 游戏说明\n",
    "  2. 开始游戏\n",
    "  3. 退出游戏\n",
    "  4. 制作团队\n",
    "=====游戏菜单=====''')\n",
    "             \n",
    "def guess_game():\n",
    "    n=int(input('请输入一个大于0的整数，作为神秘整数的上界，回车结束。'))\n",
    "    min=1\n",
    "    max=n\n",
    "    \n",
    "    max_times=math.ceil(math.log(n, 2))\n",
    "    guess_times=0\n",
    "    \n",
    "    guess=random.randint(1,n)\n",
    "    \n",
    "    while guess_times<max_times:\n",
    "        guess_times+=1\n",
    "        print('一共可以猜',max_times,'次')\n",
    "        print('已经猜了',guess_times,'次')\n",
    "        print('是数字',guess,'吗？')\n",
    "        judge=int(input('是，请输入0；偏大，请输入1；偏小，请输入-1：'))\n",
    "        \n",
    "        if judge==1:\n",
    "            max=guess\n",
    "            guess=random.randint(min,max)\n",
    "            continue\n",
    "                \n",
    "        elif judge==-1:\n",
    "            min=guess\n",
    "            guess=random.randint(min,max)\n",
    "            continue\n",
    "        else:\n",
    "            win()\n",
    "            print('神秘数字是：', guess)\n",
    "            print('比标准次数少', max_times-guess_times, '次')\n",
    "            break\n",
    "    else:\n",
    "        num=int(input('神秘数字是：'))\n",
    "        lose()\n",
    "\n",
    "def main():\n",
    "    while True:\n",
    "        menu()\n",
    "        choice = int(input('请输入你的选择'))\n",
    "        if choice == 1:\n",
    "            show_instruction()\n",
    "        elif choice == 2:\n",
    "            guess_game()\n",
    "        elif choice == 3:\n",
    "            game_over()\n",
    "            break\n",
    "        else:\n",
    "            show_team()\n",
    "\n",
    "if __name__ == '__main__':\n",
    "    main()"
   ]
  },
  {
   "cell_type": "code",
   "execution_count": null,
   "metadata": {
    "collapsed": true
   },
   "outputs": [],
   "source": []
  }
 ],
 "metadata": {
  "kernelspec": {
   "display_name": "Python 3",
   "language": "python",
   "name": "python3"
  },
  "language_info": {
   "codemirror_mode": {
    "name": "ipython",
    "version": 3
   },
   "file_extension": ".py",
   "mimetype": "text/x-python",
   "name": "python",
   "nbconvert_exporter": "python",
   "pygments_lexer": "ipython3",
   "version": "3.6.0"
  }
 },
 "nbformat": 4,
 "nbformat_minor": 2
}
