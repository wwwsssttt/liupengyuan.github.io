{
 "cells": [
  {
   "cell_type": "code",
   "execution_count": null,
   "metadata": {
    "collapsed": true
   },
   "outputs": [],
   "source": [
    "import random, math\n",
    "\n",
    "def log2(n,m,k):\n",
    "    total=0\n",
    "    i=0\n",
    "    while i<n:\n",
    "        i+=1\n",
    "        x=random.randint(m,k)\n",
    "        total+=math.log2(x)\n",
    "    return total\n",
    "def log2_(n,m,k):\n",
    "    total=0\n",
    "    i=0\n",
    "    while i<n:\n",
    "        i+=1\n",
    "        x=random.randint(m,k)\n",
    "        total+=1/math.log2(x)\n",
    "    return total\n",
    "def main():\n",
    "    n=int(input('请输入随机整数的个数'))\n",
    "    m=int(input('请输入整数的下限'))\n",
    "    k=int(input('请输入整数的上限'))\n",
    "    print('西格玛log(随机整数)=',log2(n,m,k))\n",
    "    print('西格玛1/log(随机整数)=',log2_(n,m,k))\n",
    "if __name__ == '__main__':\n",
    "    main()\n",
    "    "
   ]
  }
 ],
 "metadata": {
  "kernelspec": {
   "display_name": "Python 3",
   "language": "python",
   "name": "python3"
  },
  "language_info": {
   "codemirror_mode": {
    "name": "ipython",
    "version": 3
   },
   "file_extension": ".py",
   "mimetype": "text/x-python",
   "name": "python",
   "nbconvert_exporter": "python",
   "pygments_lexer": "ipython3",
   "version": "3.6.0"
  }
 },
 "nbformat": 4,
 "nbformat_minor": 2
}
