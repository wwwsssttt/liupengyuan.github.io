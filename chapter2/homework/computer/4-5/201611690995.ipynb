{
 "cells": [
  {
   "cell_type": "code",
   "execution_count": 1,
   "metadata": {
    "collapsed": false
   },
   "outputs": [
    {
     "name": "stdout",
     "output_type": "stream",
     "text": [
      "请输入m=1\n",
      "请输入k=10\n",
      "请输入n=3\n",
      "2.581988897471611\n"
     ]
    }
   ],
   "source": [
    "m=int(input('请输入m='))\n",
    "k=int(input('请输入k='))\n",
    "n=int(input('请输入n='))\n",
    "i=0\n",
    "num=0\n",
    "import random\n",
    "import math\n",
    "while i<n:\n",
    "    t=random.randint(m,k)\n",
    "    i=i+1\n",
    "    num=num+t\n",
    "    aver=num/i\n",
    "    result=math.sqrt(aver)\n",
    "print(result)"
   ]
  },
  {
   "cell_type": "code",
   "execution_count": 6,
   "metadata": {
    "collapsed": false
   },
   "outputs": [
    {
     "name": "stdout",
     "output_type": "stream",
     "text": [
      "m=1\n",
      "k=10\n",
      "n=3\n",
      "sigmalog= 2.1583624920952498\n",
      "sigma1/log= 5.477189096994509\n"
     ]
    }
   ],
   "source": [
    "m=int(input('m='))\n",
    "k=int(input('k='))\n",
    "n=int(input('n='))\n",
    "i=0\n",
    "sigma1=0\n",
    "sigma2=0\n",
    "import random\n",
    "import math\n",
    "while i<n:\n",
    "    t=random.randint(m,k)\n",
    "    duishu=math.log10(t)\n",
    "    sigma1=sigma1+duishu\n",
    "    sigma2=sigma2+1/duishu\n",
    "    i=i+1\n",
    "print('sigmalog=',sigma1)\n",
    "print('sigma1/log=',sigma2)"
   ]
  },
  {
   "cell_type": "code",
   "execution_count": 8,
   "metadata": {
    "collapsed": false
   },
   "outputs": [
    {
     "name": "stdout",
     "output_type": "stream",
     "text": [
      "n=3\n",
      "246\n"
     ]
    }
   ],
   "source": [
    "n=int(input('n='))\n",
    "import random\n",
    "a=random.randint(1,9)\n",
    "b=a\n",
    "i=1\n",
    "s=0\n",
    "if n==1:\n",
    "    s=a\n",
    "elif n>1:\n",
    "    while i<=n:\n",
    "        s=s+b\n",
    "        b=b*10+a\n",
    "        i=i+1;\n",
    "print(s)"
   ]
  },
  {
   "cell_type": "code",
   "execution_count": null,
   "metadata": {
    "collapsed": false
   },
   "outputs": [
    {
     "name": "stdout",
     "output_type": "stream",
     "text": [
      "=====游戏菜单=====\n",
      "1.游戏说明\n",
      "2.开始游戏\n",
      "3.退出游戏\n",
      "4.制作团队\n",
      "=====游戏菜单=====\n",
      "请输入选项2\n",
      "最多可以猜 10 次\n",
      "请输入m=4567\n",
      "随机生成了 7405 猜大了\n",
      "随机生成了 1154 猜小了\n",
      "随机生成了 3719 猜小了\n",
      "随机生成了 3911 猜小了\n",
      "随机生成了 4610 猜大了\n",
      "随机生成了 1310 猜小了\n",
      "随机生成了 6042 猜大了\n",
      "随机生成了 4850 猜大了\n",
      "随机生成了 9828 猜大了\n",
      "随机生成了 1481 猜小了\n",
      "随机生成了 7544 猜大了\n",
      "lose\n",
      "正确的数是 4567\n",
      "=====游戏菜单=====\n",
      "1.游戏说明\n",
      "2.开始游戏\n",
      "3.退出游戏\n",
      "4.制作团队\n",
      "=====游戏菜单=====\n",
      "请输入选项3\n",
      "game over\n",
      "=====游戏菜单=====\n",
      "1.游戏说明\n",
      "2.开始游戏\n",
      "3.退出游戏\n",
      "4.制作团队\n",
      "=====游戏菜单=====\n"
     ]
    }
   ],
   "source": [
    "import random,math\n",
    "def win():\n",
    "    print('win')\n",
    "def lose():\n",
    "    print('lose')\n",
    "def game_over():\n",
    "    print('game over')\n",
    "def show_team():\n",
    "    print('team')\n",
    "def show_introduction():\n",
    "    print('introduction')\n",
    "def menu():\n",
    "    print('=====游戏菜单=====')\n",
    "    print('1.游戏说明')\n",
    "    print('2.开始游戏')\n",
    "    print('3.退出游戏')\n",
    "    print('4.制作团队')\n",
    "    print('=====游戏菜单=====')\n",
    "def game():\n",
    "    max_times=10\n",
    "    print('最多可以猜',max_times,'次')\n",
    "    m=int(input('请输入m='))\n",
    "    guess_times=0\n",
    "    while guess_times<=max_times:\n",
    "        n=random.randint(1,10000)\n",
    "        if n==m:\n",
    "            win()\n",
    "            number=m\n",
    "            print('正确的数是:',number)\n",
    "            break\n",
    "        if n<m:\n",
    "            print('随机生成了',n,'猜小了')\n",
    "            guess_times=guess_times+1\n",
    "        if n>m:\n",
    "            print('随机生成了',n,'猜大了')\n",
    "            guess_times=guess_times+1\n",
    "        if guess_times>max_times:\n",
    "            lose()\n",
    "            print('正确的数是',m)\n",
    "            break\n",
    "def main():\n",
    "    while True:\n",
    "        menu()\n",
    "        choice=int(input('请输入选项'))\n",
    "        if choice==1:\n",
    "            show_introduction()\n",
    "        elif choice==2:\n",
    "            game()\n",
    "        elif choice==3:\n",
    "            game_over()\n",
    "        elif choice==4:\n",
    "            show_team()\n",
    "\n",
    "main()"
   ]
  },
  {
   "cell_type": "code",
   "execution_count": null,
   "metadata": {
    "collapsed": true
   },
   "outputs": [],
   "source": []
  },
  {
   "cell_type": "code",
   "execution_count": null,
   "metadata": {
    "collapsed": true
   },
   "outputs": [],
   "source": []
  },
  {
   "cell_type": "code",
   "execution_count": null,
   "metadata": {
    "collapsed": true
   },
   "outputs": [],
   "source": []
  },
  {
   "cell_type": "code",
   "execution_count": null,
   "metadata": {
    "collapsed": true
   },
   "outputs": [],
   "source": []
  },
  {
   "cell_type": "code",
   "execution_count": null,
   "metadata": {
    "collapsed": true
   },
   "outputs": [],
   "source": []
  },
  {
   "cell_type": "code",
   "execution_count": null,
   "metadata": {
    "collapsed": true
   },
   "outputs": [],
   "source": []
  }
 ],
 "metadata": {
  "kernelspec": {
   "display_name": "Python 3",
   "language": "python",
   "name": "python3"
  },
  "language_info": {
   "codemirror_mode": {
    "name": "ipython",
    "version": 3
   },
   "file_extension": ".py",
   "mimetype": "text/x-python",
   "name": "python",
   "nbconvert_exporter": "python",
   "pygments_lexer": "ipython3",
   "version": "3.6.0"
  }
 },
 "nbformat": 4,
 "nbformat_minor": 2
}
