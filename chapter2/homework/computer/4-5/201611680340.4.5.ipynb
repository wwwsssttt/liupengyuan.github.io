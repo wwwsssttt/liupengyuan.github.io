{
 "cells": [
  {
   "cell_type": "code",
   "execution_count": null,
   "metadata": {
    "collapsed": true
   },
   "outputs": [],
   "source": [
    "#写函数，求n个随机整数均值的平方根，整数范围在m与k之间\n",
    "import random,math\n",
    "\n",
    "def pingfanggeng():\n",
    "    m = int(input('请输入一个大于0的整数，作为随机整数的下界，回车结束。'))\n",
    "    k = int(input('请输入一个大于0的整数，作为随机整数的上界，回车结束。'))\n",
    "    n = int(input('请输入随机整数的个数，回车结束。'))\n",
    "    i=0\n",
    "    total=0\n",
    "    while i<n:\n",
    "        total=total+random.randint(m,k)\n",
    "        i=i+1\n",
    "    average=total/n\n",
    "    number=math.sqrt(average)\n",
    "    print(number)\n",
    "def main():\n",
    "    pingfanggeng()\n",
    "if __name__ == '__main__':\n",
    "    main()      "
   ]
  },
  {
   "cell_type": "code",
   "execution_count": 2,
   "metadata": {
    "collapsed": false
   },
   "outputs": [
    {
     "name": "stdout",
     "output_type": "stream",
     "text": [
      "请输入一个大于0的整数，作为随机整数的下界，回车结束。2\n",
      "请输入一个大于0的整数，作为随机整数的上界，回车结束。999\n",
      "请输入随机整数的个数，回车结束。4\n",
      "25.173304010367737\n",
      "0.6847556258672631\n"
     ]
    }
   ],
   "source": [
    "#写函数，共n个随机整数，整数范围在m与k之间，求西格玛log(随机整数)及西格玛1/log(随机整数)\n",
    "import random,math\n",
    "\n",
    "def xigema():\n",
    "    m = int(input('请输入一个大于0的整数，作为随机整数的下界，回车结束。'))\n",
    "    k = int(input('请输入一个大于0的整数，作为随机整数的上界，回车结束。'))\n",
    "    n = int(input('请输入随机整数的个数，回车结束。'))\n",
    "    i=0\n",
    "    total1=0\n",
    "    total2=0\n",
    "    while i<n:\n",
    "        total1=total1+math.log(random.randint(m,k))\n",
    "        total2=total2+1/(math.log(random.randint(m,k)))\n",
    "        i=i+1\n",
    "    print(total1)\n",
    "    print(total2)    \n",
    "def main():\n",
    "    xigema()\n",
    "if __name__ == '__main__':\n",
    "    main()  "
   ]
  },
  {
   "cell_type": "code",
   "execution_count": 4,
   "metadata": {
    "collapsed": false
   },
   "outputs": [
    {
     "name": "stdout",
     "output_type": "stream",
     "text": [
      "请输入整数的个数，回车结束。4\n",
      "9872.0\n"
     ]
    }
   ],
   "source": [
    "#写函数，求s=a+aa+aaa+aaaa+aa...a的值，其中a是[1,9]之间的随机整数。例如2+22+222+2222+22222(此时共有5个数相加)，几个数相加由键盘输入\n",
    "import random\n",
    "def sa():\n",
    "    n = int(input('请输入整数的个数，回车结束。'))\n",
    "    a=random.randint(1,9)\n",
    "    i=0\n",
    "    s=0\n",
    "    f=0\n",
    "    while i<n:\n",
    "        f=math.pow(10,i)*a+f\n",
    "        s=s+f\n",
    "        i=i+1\n",
    "    print(s)\n",
    "def main():\n",
    "     sa()\n",
    "if __name__ == '__main__':\n",
    "    main()  "
   ]
  },
  {
   "cell_type": "code",
   "execution_count": null,
   "metadata": {
    "collapsed": true
   },
   "outputs": [],
   "source": [
    "import random, math\n",
    "\n",
    "\n",
    "def win():\n",
    "    print('Win!')\n",
    "def lose():\n",
    "    print('Lose!')\n",
    "\n",
    "def menu():\n",
    "    print('''=====游戏菜单=====\n",
    "                1. 游戏说明\n",
    "                2. 开始游戏\n",
    "                3. 退出游戏\n",
    "                4. 制作团队\n",
    "             =====游戏菜单=====''')\n",
    "             \n",
    "def guess_game():\n",
    "    n = int(input('请输入一个大于0的整数，作为神秘整数的上界，回车结束。'))\n",
    "    number = int(input('请输入神秘整数，回车结束。'))\n",
    "    max_times = math.ceil(math.log(n, 2))\n",
    "    guess_times = 0\n",
    "    \n",
    "    while guess_times <= max_times:\n",
    "        guess = random.randint(1, n)\n",
    "        guess_times += 1\n",
    "        print('一共可以猜', max_times, '次')\n",
    "        print('你已经猜了', guess_times, '次')\n",
    "        \n",
    "        if guess == number:\n",
    "            win()\n",
    "            print('神秘数字是：', guess)\n",
    "            print('你比标准次数少', max_times-guess_times, '次')\n",
    "            break\n",
    "        elif guess > number:\n",
    "            print('抱歉，你猜大了')\n",
    "        else:\n",
    "            print('抱歉，你猜小了')\n",
    "            \n",
    "    else:\n",
    "        print('神秘数字是：', number)\n",
    "        lose()\n",
    "\n",
    "# 主函数\n",
    "def main():\n",
    "    while True:\n",
    "        menu()\n",
    "        choice = int(input('请输入你的选择'))\n",
    "        if choice == 1:\n",
    "            show_instruction()\n",
    "        elif choice == 2:\n",
    "            guess_game()\n",
    "        elif choice == 3:\n",
    "            game_over()\n",
    "            break\n",
    "        else:\n",
    "            show_team()\n",
    "\n",
    "\n",
    "#主程序\n",
    "if __name__ == '__main__':\n",
    "    main()"
   ]
  }
 ],
 "metadata": {
  "kernelspec": {
   "display_name": "Python 3",
   "language": "python",
   "name": "python3"
  },
  "language_info": {
   "codemirror_mode": {
    "name": "ipython",
    "version": 3
   },
   "file_extension": ".py",
   "mimetype": "text/x-python",
   "name": "python",
   "nbconvert_exporter": "python",
   "pygments_lexer": "ipython3",
   "version": "3.6.0"
  }
 },
 "nbformat": 4,
 "nbformat_minor": 2
}
