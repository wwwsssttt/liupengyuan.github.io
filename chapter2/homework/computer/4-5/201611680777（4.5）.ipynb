{
 "cells": [
  {
   "cell_type": "code",
   "execution_count": null,
   "metadata": {
    "collapsed": true
   },
   "outputs": [],
   "source": [
    "import random,math\n",
    "m=int(input('请输入最小值'))\n",
    "k=int(input('请输入最大值'))\n",
    "n=int(input('请输入整数个数'))\n",
    "i=0\n",
    "total=0\n",
    "while i<n:\n",
    "    x=random.randint(m,k)\n",
    "    total=total+x\n",
    "    i+=1\n",
    "aver=total/n\n",
    "number=math.sqrt(aver)\n",
    "print(number)\n",
    "    "
   ]
  },
  {
   "cell_type": "code",
   "execution_count": null,
   "metadata": {
    "collapsed": true
   },
   "outputs": [],
   "source": [
    "import random,math\n",
    "m=int(input('请输入最小值'))\n",
    "k=int(input('请输入最大值'))\n",
    "n=int(input('请输入整数个数'))\n",
    "i=0\n",
    "total=1\n",
    "b=0\n",
    "while i<n:\n",
    "    x=random.randint(m,k)\n",
    "    total=total*x\n",
    "    y=math.log2(x)\n",
    "    b=b+1/y\n",
    "    i+=1\n",
    "a=math.log2(total)\n",
    "print(a)\n",
    "print(b)"
   ]
  },
  {
   "cell_type": "code",
   "execution_count": null,
   "metadata": {
    "collapsed": true
   },
   "outputs": [],
   "source": [
    "def f(x,n):\n",
    "    i=0\n",
    "    s=0\n",
    "    while i<=n:\n",
    "        s=s+x*(10**i)\n",
    "        i+=1\n",
    "    return s\n",
    "\n",
    "import random\n",
    "x=random.randint(1,9)\n",
    "print(x)\n",
    "n=int(input('请输入相加个数'))\n",
    "j=1\n",
    "result=0\n",
    "while j<=n:\n",
    "    a=f(x,j)\n",
    "    if j<n:\n",
    "        p=2*a\n",
    "    else:\n",
    "        p=a\n",
    "    result=result+p\n",
    "    j+=1\n",
    "print(result)\n"
   ]
  },
  {
   "cell_type": "code",
   "execution_count": null,
   "metadata": {
    "collapsed": true
   },
   "outputs": [],
   "source": [
    "import random\n",
    "n=int(input('请输入1到1000任意一个整数'))\n",
    "print('机器有3次猜测机会')\n",
    "i=1\n",
    "m=1\n",
    "k=1000\n",
    "while i<=3:\n",
    "    x=random.randint(m,k)\n",
    "    print(x)\n",
    "    if x==n:\n",
    "        print('猜测正确')\n",
    "        break\n",
    "    elif x<n:\n",
    "        print('猜测过小')\n",
    "        m=x\n",
    "    elif x>n:\n",
    "        print('猜测过大')\n",
    "        k=x\n",
    "    i+=1\n",
    "    if i==4:\n",
    "        print('3次猜测结束，机器未猜中')\n",
    "        \n"
   ]
  }
 ],
 "metadata": {
  "kernelspec": {
   "display_name": "Python 3",
   "language": "python",
   "name": "python3"
  },
  "language_info": {
   "codemirror_mode": {
    "name": "ipython",
    "version": 3
   },
   "file_extension": ".py",
   "mimetype": "text/x-python",
   "name": "python",
   "nbconvert_exporter": "python",
   "pygments_lexer": "ipython3",
   "version": "3.6.0"
  }
 },
 "nbformat": 4,
 "nbformat_minor": 2
}
