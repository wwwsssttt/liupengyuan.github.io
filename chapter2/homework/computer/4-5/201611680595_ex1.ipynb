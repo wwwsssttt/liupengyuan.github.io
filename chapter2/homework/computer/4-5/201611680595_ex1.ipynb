{
 "cells": [
  {
   "cell_type": "code",
   "execution_count": 10,
   "metadata": {
    "collapsed": false
   },
   "outputs": [
    {
     "name": "stdout",
     "output_type": "stream",
     "text": [
      "please enter an integer,end with a tab: 5\n",
      "please enter an integer,end with a tab: 10\n",
      "the number of the integer,end with a tab: 2\n",
      "4.795831523312719\n"
     ]
    }
   ],
   "source": [
    "#练习 1：写函数，求n个随机整数均值的平方根，整数范围在m与k之间。\n",
    "#math.sqrt(x)\n",
    "#Return the square root of x.\n",
    "\n",
    "import random ,math\n",
    "\n",
    "\n",
    "m = int(input('please enter an integer,end with a tab: '))\n",
    "k = int(input('please enter an integer,end with a tab: '))\n",
    "\n",
    "if m>=k:\n",
    "    temp = m\n",
    "    m = k\n",
    "    k = temp\n",
    "\n",
    "i = 0\n",
    "a = 0\n",
    "n = int(input('the number of the integer,end with a tab: '))\n",
    "while i <= n:\n",
    "    i+=1\n",
    "    a = random.randint(m,k) + a\n",
    "\n",
    "            \n",
    "r = math.sqrt(a)\n",
    "print(r)\n",
    "\n",
    "\n"
   ]
  }
 ],
 "metadata": {
  "kernelspec": {
   "display_name": "Python 3",
   "language": "python",
   "name": "python3"
  },
  "language_info": {
   "codemirror_mode": {
    "name": "ipython",
    "version": 3
   },
   "file_extension": ".py",
   "mimetype": "text/x-python",
   "name": "python",
   "nbconvert_exporter": "python",
   "pygments_lexer": "ipython3",
   "version": "3.6.0"
  }
 },
 "nbformat": 4,
 "nbformat_minor": 2
}
