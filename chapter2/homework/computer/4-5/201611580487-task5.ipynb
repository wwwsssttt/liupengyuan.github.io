{
 "cells": [
  {
   "cell_type": "code",
   "execution_count": 31,
   "metadata": {
    "collapsed": false
   },
   "outputs": [
    {
     "name": "stdout",
     "output_type": "stream",
     "text": [
      "请输入一个整数作为上界\n",
      "36\n",
      "请输入一个整数作为下界\n",
      "25\n",
      "请输入你要随机生成的整数的个数\n",
      "2\n",
      "第 1 次随机生成的数为: 33\n",
      "第 2 次随机生成的数为: 30\n",
      "2 个平均数的平方根为 5.612486080160912\n"
     ]
    }
   ],
   "source": [
    "import math,random\n",
    "m=int(input(\"请输入一个整数作为上界\\n\"))\n",
    "k=int(input(\"请输入一个整数作为下界\\n\"))\n",
    "n=int(input(\"请输入你要随机生成的整数的个数\\n\"))\n",
    "def fun ():\n",
    "    i=0\n",
    "    total=0\n",
    "    while i<n:\n",
    "        num=random.randint(k,m)\n",
    "        print(\"第\",i+1,\"次随机生成的数为:\",num)\n",
    "        total=total+num\n",
    "        i+=1\n",
    "    aver=total/n\n",
    "    root=math.sqrt(aver)\n",
    "    print(n,\"个平均数的平方根为\",root)\n",
    "fun()"
   ]
  },
  {
   "cell_type": "code",
   "execution_count": 21,
   "metadata": {
    "collapsed": false
   },
   "outputs": [
    {
     "name": "stdout",
     "output_type": "stream",
     "text": [
      "请输入你要随机生成的整数的个数\n",
      "1\n",
      "请输入一个整数作为上界\n",
      "25\n",
      "请输入一个整数作为下界\n",
      "12\n",
      "第 1 次随机生成的数为 20\n",
      "∑log(random,2)= 1.3010299956639813 ∑1/log(random,2)= 0.7686217868402407\n"
     ]
    }
   ],
   "source": [
    "import math,random\n",
    "n=int(input(\"请输入你要随机生成的整数的个数\\n\"))\n",
    "max=int(input(\"请输入一个整数作为上界\\n\"))\n",
    "min=int(input(\"请输入一个整数作为下界\\n\"))\n",
    "i=0\n",
    "sum1=0\n",
    "sum2=0\n",
    "while i<n:\n",
    "    num=random.randint(min,max)\n",
    "    print(\"第\",i+1,\"次随机生成的数为\",num)\n",
    "    a=math.log10(num)\n",
    "    sum1=sum1+a\n",
    "    sum2=sum2+1/a\n",
    "    i+=1\n",
    "print(\"∑log(random,2)=\",sum1,\"∑1/log(random,2)=\",sum2)"
   ]
  },
  {
   "cell_type": "code",
   "execution_count": 28,
   "metadata": {
    "collapsed": false
   },
   "outputs": [
    {
     "name": "stdout",
     "output_type": "stream",
     "text": [
      "请输入你要相加的数字的个数\n",
      "2\n",
      "本次随机生成的数为: 9\n",
      "9.0\n",
      "99.0\n",
      "2 个数相加的和为 108.0\n"
     ]
    }
   ],
   "source": [
    "import math,random\n",
    "n=int(input(\"请输入你要相加的数字的个数\\n\"))\n",
    "a=random.randint(1,9)\n",
    "print(\"本次随机生成的数为:\",a)\n",
    "b=math.pow(10,0)*a\n",
    "print(b)\n",
    "i=0\n",
    "sum=b\n",
    "while i+1<n:\n",
    "    b=math.pow(10,i+1)*a+b\n",
    "    sum=sum+b\n",
    "    print(b)\n",
    "    i+=1\n",
    "print(n,\"个数相加的和为\",sum)"
   ]
  },
  {
   "cell_type": "code",
   "execution_count": 29,
   "metadata": {
    "collapsed": false
   },
   "outputs": [
    {
     "name": "stdout",
     "output_type": "stream",
     "text": [
      "\n",
      "    \n",
      "    \n",
      "欢迎来到python游戏世界 :)\n",
      "\n",
      "======☚游戏菜单☛======\n",
      "    1.游戏介绍\n",
      "    2.进入游戏\n",
      "    3.创作团队\n",
      "    4.退出游戏\n",
      "    【如果您为第一次进入游戏，建议您输入1来查看规则。】\n",
      "           \n",
      "请根据提示输入相应的数字\n",
      "1\n",
      "======☜游戏介绍☞======\n",
      "*该游戏是由 用户 在 一任意区间内 猜想数字，由 电脑 进行随机猜测。\n",
      "*当 电脑 猜出数字后, 用户 需要根据<提示>进行输入以确定电脑猜测是否正确。\n",
      "*电脑猜测的次数根据用户输入的 区间大小 决定。\n",
      "【区间上下界由用户随意决定】\n",
      "~~~~~~~~~~~~~~~~~~~~~~~~~~\n",
      "======☚游戏菜单☛======\n",
      "    1.游戏介绍\n",
      "    2.进入游戏\n",
      "    3.创作团队\n",
      "    4.退出游戏\n",
      "    【如果您为第一次进入游戏，建议您输入1来查看规则。】\n",
      "           \n",
      "请根据提示输入相应的数字\n",
      "3\n",
      "@@该游戏由201611580487号选手亲自开发创作。若有雷同，处属巧合。如有合作项目请联系邮箱915874439@qq.com。谢谢！@@\n",
      "~~~~~~~~~~~~~~~~~~~~~~~~~~~~~~~~~~~~~~\n",
      "======☚游戏菜单☛======\n",
      "    1.游戏介绍\n",
      "    2.进入游戏\n",
      "    3.创作团队\n",
      "    4.退出游戏\n",
      "    【如果您为第一次进入游戏，建议您输入1来查看规则。】\n",
      "           \n",
      "请根据提示输入相应的数字\n",
      "4\n",
      "Goodbye.Thanks.\n"
     ]
    }
   ],
   "source": [
    "import math,random\n",
    "def welcome():\n",
    "    print('''\n",
    "    \n",
    "    \n",
    "欢迎来到python游戏世界 :)\\n''')\n",
    "def menu():\n",
    "    print('''======☚游戏菜单☛======\n",
    "    1.游戏介绍\n",
    "    2.进入游戏\n",
    "    3.创作团队\n",
    "    4.退出游戏\n",
    "    【如果您为第一次进入游戏，建议您输入1来查看规则。】\n",
    "           ''')\n",
    "    a=int(input(\"请根据提示输入相应的数字\\n\"))\n",
    "    if(a==1):\n",
    "        intro()\n",
    "    elif(a==2):\n",
    "        game()\n",
    "    elif(a==3):\n",
    "        team()\n",
    "    else:print(\"Goodbye.Thanks.\")\n",
    "def intro():\n",
    "    print(\"======☜游戏介绍☞======\")\n",
    "    print('''*该游戏是由 用户 在 一任意区间内 猜想数字，由 电脑 进行随机猜测。\n",
    "*当 电脑 猜出数字后, 用户 需要根据<提示>进行输入以确定电脑猜测是否正确。\n",
    "*电脑猜测的次数根据用户输入的 区间大小 决定。\n",
    "【区间上下界由用户随意决定】\n",
    "~~~~~~~~~~~~~~~~~~~~~~~~~~''')\n",
    "    menu()\n",
    "def game ():\n",
    "    max=int(input(\"请输入您猜想的数所在区间的上界\\n\"))\n",
    "    min=int(input(\"请输入您猜想的数所在区间的下界\\n\"))\n",
    "    n=int(input(\"请输入您猜想的数字\\n\"))\n",
    "    time=math.log2(max-min+1)\n",
    "    print(\"电脑能猜的次数为\",int(time))\n",
    "    i=1\n",
    "    while i<=time:\n",
    "        m=random.randint(min,max)\n",
    "        print(\"第\",i,\"次电脑猜的数字为\",m)\n",
    "        print('''====================\n",
    "&若电脑猜对了，请输入1\n",
    "&若电脑猜大了，请输入2\n",
    "&若电脑猜小了，请输入3\n",
    "====================''')\n",
    "        b=int(input(\"请根据提示输入相应的数字\\n\"))\n",
    "        if(b==1):\n",
    "            print('''人工智能成功猜到了你的想法！可怕！(ﾟДﾟ≡ﾟДﾟ)\n",
    "\n",
    "                   .-\"      \"-.\n",
    "                  /            \\\n",
    "                 |              |\n",
    "                 |,  .-.  .-.  ,|\n",
    "                 | )(__/  \\__)( |\n",
    "                 |/     /\\     \\|\n",
    "       (@_       (_     ^^     _)\n",
    "  _     ) \\_______\\__|IIIIII|__/__________________________\n",
    " (_)@8@8{}<________|-\\IIIIII/-|___________________________>\n",
    "        )_/        \\          /\n",
    "       (@           `--------`\n",
    "       \n",
    "\n",
    "~`~`~`~`~`~`~`~`~`~`游戏结束~`~`~`~`~`~`~`~`~`''')\n",
    "            break\n",
    "        elif(b==2):\n",
    "            print(\"！！！！看来人工智能还是猜不出人类的想法的！☺\")\n",
    "            max=m\n",
    "        elif(b==3):\n",
    "            print(\"！！！！看来人工智能还是猜不出人类的想法的！☺\")\n",
    "            min=m\n",
    "        i+=1\n",
    "    else:\n",
    "        print('''♚♚人工智能没有猜出你的想法！人类获胜！♚♚\n",
    "        .\"\".    .\"\",\n",
    "        |  |   /  /\n",
    "        |  |  /  /\n",
    "        |  | /  /\n",
    "        |  |/  ;-._ \n",
    "        }  ` _/  / ;\n",
    "        |  /` ) /  /\n",
    "        | /  /_/\\_/\\\n",
    "        |/  /      |\n",
    "        (  ' \\ '-  |\n",
    "         \\    `.  /\n",
    "         |      |\n",
    "         |      |\n",
    "\n",
    "~`~`~`~`~`~`~`~`~`~`游戏结束~`~`~`~`~`~`~`~`~`''')\n",
    "    menu()\n",
    "def team():\n",
    "    print('''@@该游戏由201611580487号选手亲自开发创作。若有雷同，处属巧合。如有合作项目请联系邮箱915874439@qq.com。谢谢！@@\n",
    "~~~~~~~~~~~~~~~~~~~~~~~~~~~~~~~~~~~~~~''')\n",
    "    menu()\n",
    "def main():\n",
    "    welcome()\n",
    "    menu()\n",
    "if __name__ == '__main__':\n",
    "    main()"
   ]
  },
  {
   "cell_type": "code",
   "execution_count": null,
   "metadata": {
    "collapsed": true
   },
   "outputs": [],
   "source": []
  }
 ],
 "metadata": {
  "kernelspec": {
   "display_name": "Python 3",
   "language": "python",
   "name": "python3"
  },
  "language_info": {
   "codemirror_mode": {
    "name": "ipython",
    "version": 3
   },
   "file_extension": ".py",
   "mimetype": "text/x-python",
   "name": "python",
   "nbconvert_exporter": "python",
   "pygments_lexer": "ipython3",
   "version": "3.6.0"
  }
 },
 "nbformat": 4,
 "nbformat_minor": 2
}
