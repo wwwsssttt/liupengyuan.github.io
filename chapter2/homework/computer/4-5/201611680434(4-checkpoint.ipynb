{
 "cells": [
  {
   "cell_type": "code",
   "execution_count": null,
   "metadata": {
    "collapsed": false
   },
   "outputs": [],
   "source": [
    "import random,math\n",
    "def guess():\n",
    "    n=int(input('请输入一个1到10内的整数 : '))\n",
    "    r=random.randint(1,10)\n",
    "    print(r)\n",
    "    an=int(input('''\n",
    "    1,bigger\n",
    "    2,smaller\n",
    "    3,u win\n",
    "    '''\n",
    "    ))\n",
    "    if(an==3):\n",
    "        print('u win!')    \n",
    "    else:\n",
    "        while an!=3:\n",
    "            if(an==1):\n",
    "                print(r)\n",
    "                an=int(input('''\n",
    "                1,bigger\n",
    "                2,smaller\n",
    "                3,u win\n",
    "                '''\n",
    "                ))\n",
    "                r=random.randint(1,r)\n",
    "            elif(am==2):\n",
    "                print(r)\n",
    "                an=int(input('''\n",
    "                1,bigger\n",
    "                2,smaller\n",
    "                3,u win\n",
    "                '''\n",
    "                ))\n",
    "                r=random.randint(r,10)\n",
    "guess()\n"
   ]
  }
 ],
 "metadata": {
  "kernelspec": {
   "display_name": "Python 3",
   "language": "python",
   "name": "python3"
  },
  "language_info": {
   "codemirror_mode": {
    "name": "ipython",
    "version": 3
   },
   "file_extension": ".py",
   "mimetype": "text/x-python",
   "name": "python",
   "nbconvert_exporter": "python",
   "pygments_lexer": "ipython3",
   "version": "3.6.0"
  }
 },
 "nbformat": 4,
 "nbformat_minor": 2
}
