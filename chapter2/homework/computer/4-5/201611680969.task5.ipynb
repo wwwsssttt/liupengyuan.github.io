{
 "cells": [
  {
   "cell_type": "code",
   "execution_count": 3,
   "metadata": {
    "collapsed": false
   },
   "outputs": [
    {
     "name": "stdout",
     "output_type": "stream",
     "text": [
      "请输入一个整数，以回车结束0\n",
      "请输入一个整数，以回车结束100\n",
      "请输入一个整数，以回车结束3\n",
      "12\n",
      "70\n",
      "55\n",
      "11.704699910719626\n"
     ]
    }
   ],
   "source": [
    "import random,math\n",
    "m=int(input('请输入一个整数，以回车结束'))\n",
    "k=int(input('请输入一个整数，以回车结束'))\n",
    "n=int(input('请输入一个整数，以回车结束'))\n",
    "i=0\n",
    "total=0\n",
    "while i<n:\n",
    "    i=i+1\n",
    "    number = random.randint(m,k)\n",
    "    print(number)\n",
    "    total=total+number\n",
    "print(math.sqrt(total))\n"
   ]
  },
  {
   "cell_type": "code",
   "execution_count": 14,
   "metadata": {
    "collapsed": false
   },
   "outputs": [
    {
     "name": "stdout",
     "output_type": "stream",
     "text": [
      "请输入一个整数，以回车结束0\n",
      "请输入一个整数，以回车结束100\n",
      "请输入一个整数，以回车结束3\n",
      "99\n",
      "24\n",
      "56\n",
      "17.021674042858372\n",
      "0.5411439264025237\n"
     ]
    }
   ],
   "source": [
    "import random,math\n",
    "m=int(input('请输入一个整数，以回车结束'))\n",
    "k=int(input('请输入一个整数，以回车结束'))\n",
    "n=int(input('请输入一个整数，以回车结束'))\n",
    "i=0\n",
    "total=0\n",
    "sum=0\n",
    "while i<n:\n",
    "    i=i+1\n",
    "    num = random.randint(m,k)\n",
    "    print(num)\n",
    "    x=(math.log2(num))\n",
    "    total=total+x\n",
    "    sum=sum+1/x\n",
    "print(total)\n",
    "print(sum)"
   ]
  },
  {
   "cell_type": "code",
   "execution_count": 18,
   "metadata": {
    "collapsed": false
   },
   "outputs": [
    {
     "name": "stdout",
     "output_type": "stream",
     "text": [
      "请输入一个整数，以回车结束3\n",
      "5\n",
      "615\n"
     ]
    }
   ],
   "source": [
    "import random\n",
    "n=int(input('请输入一个整数，以回车结束'))\n",
    "a=random.randint(1,9)\n",
    "print(a)\n",
    "i=0\n",
    "total=0\n",
    "while i<n+2:\n",
    "    s=a*n\n",
    "    i=i+1\n",
    "    a=a*10\n",
    "    n=n-1\n",
    "    total=total+s\n",
    "print(total)    "
   ]
  },
  {
   "cell_type": "code",
   "execution_count": 29,
   "metadata": {
    "collapsed": false
   },
   "outputs": [
    {
     "name": "stdout",
     "output_type": "stream",
     "text": [
      "请输入一个整数，以回车结束29\n",
      "请输入一个整数，以回车结束1000\n",
      "请输入要猜整数，以回车结束479\n",
      "376\n",
      "一共可以猜 9 次\n",
      "你已经猜了 1 次\n",
      "你猜小了\n",
      "692\n",
      "一共可以猜 9 次\n",
      "你已经猜了 2 次\n",
      "你猜大了\n",
      "426\n",
      "一共可以猜 9 次\n",
      "你已经猜了 3 次\n",
      "你猜小了\n",
      "688\n",
      "一共可以猜 9 次\n",
      "你已经猜了 4 次\n",
      "你猜大了\n",
      "524\n",
      "一共可以猜 9 次\n",
      "你已经猜了 5 次\n",
      "你猜大了\n",
      "522\n",
      "一共可以猜 9 次\n",
      "你已经猜了 6 次\n",
      "你猜大了\n",
      "441\n",
      "一共可以猜 9 次\n",
      "你已经猜了 7 次\n",
      "你猜小了\n",
      "462\n",
      "一共可以猜 9 次\n",
      "你已经猜了 8 次\n",
      "你猜小了\n",
      "494\n",
      "一共可以猜 9 次\n",
      "你已经猜了 9 次\n",
      "你猜大了\n",
      "487\n",
      "一共可以猜 9 次\n",
      "你已经猜了 10 次\n",
      "你猜大了\n",
      "484\n",
      "You Lose!\n"
     ]
    }
   ],
   "source": [
    "import random,math\n",
    "m=int(input('请输入一个整数，以回车结束'))\n",
    "k=int(input('请输入一个整数，以回车结束'))\n",
    "n=int(input('请输入要猜整数，以回车结束'))\n",
    "max_times = math.ceil(math.log(n, 2))\n",
    "guess=random.randint(m,k)\n",
    "print(guess)\n",
    "guess_times=0\n",
    "while guess_times<=max_times:\n",
    "    guess_times+=1\n",
    "    print('一共可以猜', max_times, '次')\n",
    "    print('你已经猜了', guess_times, '次')\n",
    "    if(guess==n):\n",
    "        print('You Win!')\n",
    "    elif(guess>n):\n",
    "        print('你猜大了')\n",
    "        k=guess\n",
    "        guess=random.randint(m,k)\n",
    "    else:\n",
    "        print('你猜小了')\n",
    "        m=guess\n",
    "        guess=random.randint(m,k)\n",
    "    print(guess)\n",
    "if(guess_times>max_times):\n",
    "    print('You Lose!')\n",
    "\n",
    "    \n",
    "    \n",
    "\n"
   ]
  },
  {
   "cell_type": "code",
   "execution_count": null,
   "metadata": {
    "collapsed": true
   },
   "outputs": [],
   "source": []
  }
 ],
 "metadata": {
  "kernelspec": {
   "display_name": "Python 3",
   "language": "python",
   "name": "python3"
  },
  "language_info": {
   "codemirror_mode": {
    "name": "ipython",
    "version": 3
   },
   "file_extension": ".py",
   "mimetype": "text/x-python",
   "name": "python",
   "nbconvert_exporter": "python",
   "pygments_lexer": "ipython3",
   "version": "3.6.0"
  }
 },
 "nbformat": 4,
 "nbformat_minor": 2
}
