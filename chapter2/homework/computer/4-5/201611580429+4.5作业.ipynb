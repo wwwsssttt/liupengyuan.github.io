{
 "cells": [
  {
   "cell_type": "code",
   "execution_count": 6,
   "metadata": {
    "collapsed": false
   },
   "outputs": [
    {
     "name": "stdout",
     "output_type": "stream",
     "text": [
      "Enter the number of the integers: 4\n",
      "Enter the least num of the range: 1\n",
      "Enter the largest num of the range: 4\n",
      "2\n",
      "2\n",
      "3\n",
      "2\n",
      "1.5\n"
     ]
    }
   ],
   "source": [
    "#练习 1：写函数，求n个随机整数均值的平方根，整数范围在m与k之间。\n",
    "import random,math\n",
    "def operation(n,m,k):\n",
    "    i=0\n",
    "    sum=0\n",
    "    while i < n:\n",
    "        t = random.randint(m,k)\n",
    "        sum=sum+t\n",
    "        print(t)\n",
    "        i += 1\n",
    "    print (math.sqrt(sum/n))\n",
    "n=int(input('Enter the number of the integers: '))\n",
    "m=int(input('Enter the least num of the range: '))\n",
    "k=int(input('Enter the largest num of the range: '))\n",
    "operation(n,m,k)\n"
   ]
  },
  {
   "cell_type": "code",
   "execution_count": null,
   "metadata": {
    "collapsed": true
   },
   "outputs": [],
   "source": []
  },
  {
   "cell_type": "code",
   "execution_count": null,
   "metadata": {
    "collapsed": true
   },
   "outputs": [],
   "source": []
  },
  {
   "cell_type": "code",
   "execution_count": null,
   "metadata": {
    "collapsed": true
   },
   "outputs": [],
   "source": []
  },
  {
   "cell_type": "code",
   "execution_count": 7,
   "metadata": {
    "collapsed": false
   },
   "outputs": [
    {
     "name": "stdout",
     "output_type": "stream",
     "text": [
      "Enter the number of the integers: 4\n",
      "Enter the least num of the range: 1\n",
      "Enter the largest num of the range: 4\n",
      "0.6931471805599453 1.4426950408889634\n",
      "1.3862943611198906 0.7213475204444817\n",
      "0.6931471805599453 1.4426950408889634\n",
      "1.0986122886681098 0.9102392266268373\n",
      "3.8712010109078907 4.516976828849246\n"
     ]
    }
   ],
   "source": [
    "#练习 2：写函数，共n个随机整数，整数范围在m与k之间，求西格玛log(随机整数)及西格玛1/log(随机整数)\n",
    "import random,math\n",
    "def operation(m,n,k):\n",
    "    i=0\n",
    "    sum1=0\n",
    "    sum2=0\n",
    "    while i < n:\n",
    "        t = random.randint(m,k)\n",
    "        print(math.log(t),1/math.log(t))\n",
    "        sum1=sum1+math.log(t)\n",
    "        sum2=sum2+1/math.log(t)\n",
    "        i += 1\n",
    "    print (sum1,sum2)\n",
    "n=int(input('Enter the number of the integers: '))\n",
    "m=int(input('Enter the least num of the range: '))\n",
    "k=int(input('Enter the largest num of the range: '))\n",
    "operation(m,n,k)"
   ]
  },
  {
   "cell_type": "code",
   "execution_count": null,
   "metadata": {
    "collapsed": true
   },
   "outputs": [],
   "source": []
  },
  {
   "cell_type": "code",
   "execution_count": 8,
   "metadata": {
    "collapsed": false
   },
   "outputs": [
    {
     "name": "stdout",
     "output_type": "stream",
     "text": [
      "Enter the number of the integers: 4\n",
      "6\n",
      "7404\n"
     ]
    }
   ],
   "source": [
    "#练习 3：写函数，求s=a+aa+aaa+aaaa+aa...a的值，其中a是[1,9]之间的随机整数。例如2+22+222+2222+22222(此时共有5个数相加)，几个数相加由键盘输入。\n",
    "import random,math\n",
    "def operation(n):\n",
    "    i=0\n",
    "    sum=0\n",
    "    an=0\n",
    "    a=random.randint(1,9)\n",
    "    print(a)\n",
    "    while i<n:\n",
    "        an=an+a  \n",
    "        sum=sum+an \n",
    "        a=a*10  \n",
    "        i=i+1\n",
    "    print(sum)\n",
    "n=int(input('Enter the number of the integers: '))\n",
    "operation(n)"
   ]
  },
  {
   "cell_type": "code",
   "execution_count": null,
   "metadata": {
    "collapsed": true
   },
   "outputs": [],
   "source": []
  },
  {
   "cell_type": "code",
   "execution_count": 9,
   "metadata": {
    "collapsed": false
   },
   "outputs": [
    {
     "name": "stdout",
     "output_type": "stream",
     "text": [
      "请输入一个大于0的整数，作为神秘整数的上界，回车结束。200\n",
      "请输入一个大于0的整数，作为神秘整数的下界，回车结束。1\n",
      "电脑猜测值为 104\n",
      "比较电脑猜测值与正确答案大小： smaller\n",
      "中间值为： 100\n",
      "比较中间值和正确答案的大小: smaller\n",
      "电脑猜测值为 181\n",
      "比较电脑猜测值与正确答案的大小: larger\n",
      "中间值为： 150\n",
      "比较中间值和正确答案的大小: larger\n",
      "电脑猜测值为 143\n",
      "比较电脑猜测值与正确答案的大小: larger\n",
      "中间值为： 125\n",
      "比较中间值和正确答案的大小: larger\n",
      "电脑猜测值为 104\n",
      "比较电脑猜测值与正确答案的大小: smaller\n",
      "中间值为： 112\n",
      "比较中间值和正确答案的大小: larger\n",
      "电脑猜测值为 107\n",
      "比较电脑猜测值与正确答案的大小: smaller\n",
      "中间值为： 106\n",
      "比较中间值和正确答案的大小: smaller\n",
      "电脑猜测值为 106\n",
      "比较电脑猜测值与正确答案的大小: smaller\n",
      "中间值为： 109\n",
      "比较中间值和正确答案的大小: qual\n",
      "电脑猜测值为 110\n",
      "比较电脑猜测值与正确答案的大小: larger\n",
      "中间值为： 109\n",
      "比较中间值和正确答案的大小: equal\n",
      "This is the answer\n"
     ]
    }
   ],
   "source": [
    "#挑战性练习：仿照task5，将猜数游戏改成由用户随便选择一个整数，让计算机来猜测的猜数游戏，要求和task5中人猜测的方法类似，但是人机角色对换，由人来判断猜测是大、小还是相等，请写出完整的猜数游戏。\n",
    "import random\n",
    "n = int(input('请输入一个大于0的整数，作为神秘整数的上界，回车结束。'))\n",
    "m = int(input('请输入一个大于0的整数，作为神秘整数的下界，回车结束。'))\n",
    "a=random.randint(m,n)\n",
    "print ('电脑猜测值为',a)\n",
    "answer='Yes'\n",
    "judge=input('比较电脑猜测值与正确答案大小： ')\n",
    "while judge!=answer:\n",
    "    if judge=='larger':\n",
    "        mid=int((m+n)/2)\n",
    "        print('中间值为：',mid)\n",
    "        compare=input('比较中间值和正确答案的大小: ')\n",
    "        if compare=='larger':\n",
    "            n=mid\n",
    "        elif compare=='smaller':\n",
    "            m=mid\n",
    "        elif compare=='equal':\n",
    "            print('This is the answer')\n",
    "            break\n",
    "        a=random.randint(m,n)\n",
    "        print ('电脑猜测值为',a)\n",
    "    elif judge=='smaller':\n",
    "        mid=int((m+n)/2)\n",
    "        print('中间值为：',mid)\n",
    "        compare=input('比较中间值和正确答案的大小: ')\n",
    "        if compare=='larger':\n",
    "            n=mid\n",
    "        elif compare=='smaller':\n",
    "            m=mid\n",
    "        elif compare=='equal':\n",
    "            print('This is the answer')\n",
    "            break\n",
    "        a=random.randint(m,n)\n",
    "        print ('电脑猜测值为',a)\n",
    "    judge=input('比较电脑猜测值与正确答案的大小: ')"
   ]
  },
  {
   "cell_type": "code",
   "execution_count": null,
   "metadata": {
    "collapsed": true
   },
   "outputs": [],
   "source": []
  }
 ],
 "metadata": {
  "anaconda-cloud": {},
  "kernelspec": {
   "display_name": "Python [default]",
   "language": "python",
   "name": "python3"
  },
  "language_info": {
   "codemirror_mode": {
    "name": "ipython",
    "version": 3
   },
   "file_extension": ".py",
   "mimetype": "text/x-python",
   "name": "python",
   "nbconvert_exporter": "python",
   "pygments_lexer": "ipython3",
   "version": "3.5.2"
  }
 },
 "nbformat": 4,
 "nbformat_minor": 1
}
