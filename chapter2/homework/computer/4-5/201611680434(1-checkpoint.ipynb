{
 "cells": [
  {
   "cell_type": "code",
   "execution_count": null,
   "metadata": {
    "collapsed": false
   },
   "outputs": [],
   "source": [
    "import random, math\n",
    "n = int(input('请输入一个大于0的整数，回车结束。'))\n",
    "m = int(input('请输入一个大于0的整数，回车结束。'))\n",
    "k = int(input('请输入一个大于m的整数，回车结束。'))\n",
    "i = 0\n",
    "sum = 0\n",
    "while i < n:\n",
    "    i = i + 1\n",
    "    number = random.randint(m, k)\n",
    "    sum = sum + number\n",
    "a = sum/n\n",
    "x = math.sqrt(a)\n",
    "print('随机整数均值的平方根是: ',x)\n",
    "    \n"
   ]
  }
 ],
 "metadata": {
  "kernelspec": {
   "display_name": "Python 3",
   "language": "python",
   "name": "python3"
  },
  "language_info": {
   "codemirror_mode": {
    "name": "ipython",
    "version": 3
   },
   "file_extension": ".py",
   "mimetype": "text/x-python",
   "name": "python",
   "nbconvert_exporter": "python",
   "pygments_lexer": "ipython3",
   "version": "3.6.0"
  }
 },
 "nbformat": 4,
 "nbformat_minor": 2
}
