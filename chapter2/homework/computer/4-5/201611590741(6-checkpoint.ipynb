{
 "cells": [
  {
   "cell_type": "code",
   "execution_count": 1,
   "metadata": {
    "collapsed": false
   },
   "outputs": [
    {
     "name": "stdout",
     "output_type": "stream",
     "text": [
      "请输入一个整数，按回车键结束4\n",
      "1\n",
      "1234.0\n"
     ]
    }
   ],
   "source": [
    "import random\n",
    "total = 0\n",
    "i = 1\n",
    "n = int(input('请输入一个整数，按回车键结束'))\n",
    "m = random.randint(1, 9)\n",
    "print(m)\n",
    "while i <= n:\n",
    "    total = total + ((10**i - 1) / 9) * m\n",
    "    i = i + 1\n",
    "print(total) \n"
   ]
  }
 ],
 "metadata": {
  "kernelspec": {
   "display_name": "Python 3",
   "language": "python",
   "name": "python3"
  },
  "language_info": {
   "codemirror_mode": {
    "name": "ipython",
    "version": 3
   },
   "file_extension": ".py",
   "mimetype": "text/x-python",
   "name": "python",
   "nbconvert_exporter": "python",
   "pygments_lexer": "ipython3",
   "version": "3.6.0"
  }
 },
 "nbformat": 4,
 "nbformat_minor": 2
}
