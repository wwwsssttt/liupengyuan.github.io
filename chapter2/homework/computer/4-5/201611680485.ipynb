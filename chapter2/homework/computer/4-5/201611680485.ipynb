{
 "cells": [
  {
   "cell_type": "code",
   "execution_count": 10,
   "metadata": {
    "collapsed": false
   },
   "outputs": [
    {
     "name": "stdout",
     "output_type": "stream",
     "text": [
      "请输入随机数个数n 3\n",
      "请输入整数下限m 1\n",
      "请输入整数上限k 10\n",
      "1.8257418583505538\n"
     ]
    }
   ],
   "source": [
    "def computer(x, y, t):\n",
    "    total = 0\n",
    "    i = 0\n",
    "    while i < t:\n",
    "        import random\n",
    "        number = random.randint(x, y)\n",
    "        total = total + number\n",
    "        i = i + 1\n",
    "    aver = total/t\n",
    "    import math\n",
    "    squareroot = math.sqrt(aver)\n",
    "    print(squareroot)\n",
    "    \n",
    "n = int(input('请输入随机数个数n '))\n",
    "m = int(input('请输入整数下限m '))\n",
    "k = int(input('请输入整数上限k '))\n",
    "computer(m, k, n)"
   ]
  },
  {
   "cell_type": "code",
   "execution_count": null,
   "metadata": {
    "collapsed": true
   },
   "outputs": [],
   "source": []
  },
  {
   "cell_type": "code",
   "execution_count": 16,
   "metadata": {
    "collapsed": false
   },
   "outputs": [
    {
     "name": "stdout",
     "output_type": "stream",
     "text": [
      "请输入随机数个数n 3\n",
      "请输入整数下限m 1\n",
      "请输入整数上限k 10\n",
      "5.950642552587727\n"
     ]
    }
   ],
   "source": [
    "def computer(x, y, t):\n",
    "    total = 0\n",
    "    i = 0\n",
    "    while i < t:\n",
    "        import random\n",
    "        number = random.randint(x, y)\n",
    "        import math\n",
    "        log = math.log(number)\n",
    "        total = total + log\n",
    "        i = i + 1\n",
    "    print(total)\n",
    "        \n",
    "    \n",
    "n = int(input('请输入随机数个数n '))\n",
    "m = int(input('请输入整数下限m '))\n",
    "k = int(input('请输入整数上限k '))\n",
    "computer(m, k, n)"
   ]
  },
  {
   "cell_type": "code",
   "execution_count": 18,
   "metadata": {
    "collapsed": false
   },
   "outputs": [
    {
     "name": "stdout",
     "output_type": "stream",
     "text": [
      "请输入随机数个数n 3\n",
      "请输入整数下限m 1\n",
      "请输入整数上限k 10\n",
      "1.872035920552813\n"
     ]
    }
   ],
   "source": [
    "def computer(x, y, t):\n",
    "    total = 0\n",
    "    i = 0\n",
    "    while i < t:\n",
    "        import random\n",
    "        number = random.randint(x, y)\n",
    "        import math\n",
    "        log = math.log(number)\n",
    "        total = total + 1/log\n",
    "        i = i + 1\n",
    "    print(total)\n",
    "        \n",
    "    \n",
    "n = int(input('请输入随机数个数n '))\n",
    "m = int(input('请输入整数下限m '))\n",
    "k = int(input('请输入整数上限k '))\n",
    "computer(m, k, n)"
   ]
  },
  {
   "cell_type": "code",
   "execution_count": 15,
   "metadata": {
    "collapsed": false
   },
   "outputs": [
    {
     "name": "stdout",
     "output_type": "stream",
     "text": [
      "请输入共有几个数相加3\n",
      "s的值是 861\n"
     ]
    }
   ],
   "source": [
    "def computer(t):\n",
    "    import random\n",
    "    x = random.randint(1,9)\n",
    "    i = 0\n",
    "    total = 0\n",
    "    while i < t:\n",
    "        y = x * 10**i\n",
    "        total = total + y*(t-i)\n",
    "        i = i + 1\n",
    "    print('s的值是',total)\n",
    "    \n",
    "\n",
    "n = int(input('请输入共有几个数相加'))\n",
    "computer(n)"
   ]
  },
  {
   "cell_type": "code",
   "execution_count": null,
   "metadata": {
    "collapsed": false
   },
   "outputs": [],
   "source": [
    "def win():\n",
    "    print('你赢了哈哈哈哈哈哈')\n",
    "\n",
    "def lose():\n",
    "    print('你输了盒盒盒盒盒盒')\n",
    "    \n",
    "def game_over():\n",
    "    print('游戏结束')\n",
    "    \n",
    "def show_team():\n",
    "    print('没有team')\n",
    "\n",
    "def show_instruction():\n",
    "    print('''请玩家心里想一个1——1000的数字，并按照提示输入电脑可猜测次数，等待电脑提示开始游戏。\n",
    "             游戏开始后，请按照提示输入，知道游戏结束。''')\n",
    "def menu():\n",
    "    print('''             =====游戏菜单=====\n",
    "             1.游戏说明\n",
    "             2.开始游戏\n",
    "             3.退出游戏\n",
    "             4.制作团队\n",
    "             =====游戏菜单=====''')\n",
    "\n",
    "def guess_game():\n",
    "    max_times = int(input('请输入一共可以猜测的次数'))\n",
    "    import random\n",
    "    x = random.randint(1,1000)\n",
    "    guess_times = 0\n",
    "    \n",
    "    while guess_times < max_times:\n",
    "        print('电脑猜测的数字是： ', x)\n",
    "        print('''                 1.抱歉，你猜大了\n",
    "                 2.抱歉，你猜小了\n",
    "                 3.恭喜你！你猜对了！！！''')\n",
    "        choice = int(input('请输入你的选择'))\n",
    "        guess_times += 1\n",
    "        print('电脑还有',max_times-guess_times,'次机会')\n",
    "        if choice == 1:\n",
    "            import random\n",
    "            x = random.randint(1,x)\n",
    "        elif choice == 2:\n",
    "            import random\n",
    "            x = random.randint(x,1000)\n",
    "        elif choice == 3:\n",
    "            win()\n",
    "            break\n",
    "    else:\n",
    "        lose()\n",
    "\n",
    "def main():\n",
    "    while True:\n",
    "        menu()\n",
    "        choice = int(input('请输入你的选择'))\n",
    "        if choice == 1:\n",
    "            show_instruction()\n",
    "        elif choice == 2:\n",
    "            guess_game()\n",
    "        elif choice == 3:\n",
    "            game_over()\n",
    "            break\n",
    "        else:\n",
    "            show_team()\n",
    "            \n",
    "if __name__ =='__main__':\n",
    "    main() "
   ]
  }
 ],
 "metadata": {
  "kernelspec": {
   "display_name": "Python 3",
   "language": "python",
   "name": "python3"
  },
  "language_info": {
   "codemirror_mode": {
    "name": "ipython",
    "version": 3
   },
   "file_extension": ".py",
   "mimetype": "text/x-python",
   "name": "python",
   "nbconvert_exporter": "python",
   "pygments_lexer": "ipython3",
   "version": "3.6.0"
  }
 },
 "nbformat": 4,
 "nbformat_minor": 2
}
