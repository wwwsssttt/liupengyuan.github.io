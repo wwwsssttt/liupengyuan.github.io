{
 "cells": [
  {
   "cell_type": "code",
   "execution_count": 3,
   "metadata": {
    "collapsed": false,
    "deletable": true,
    "editable": true
   },
   "outputs": [
    {
     "name": "stdout",
     "output_type": "stream",
     "text": [
      "请输入一个大于零的整数作为随机整数的下界：2\n",
      "请输入一个大于零的整数作为随机整数的上界：5\n",
      "位于m、k之间的n个随机整数的均值的平方根为： 0.885225531005819\n"
     ]
    }
   ],
   "source": [
    "import random, math\n",
    "def squaroot(n):\n",
    "    m=math.sqrt(n)\n",
    "    return m\n",
    "def aver(n):\n",
    "    i=0\n",
    "    total=0\n",
    "    while i<n:\n",
    "        j=random.random()\n",
    "        i+=1\n",
    "        total=total+j\n",
    "    return total/n\n",
    "def main():\n",
    "    m=int(input('请输入一个大于零的整数作为随机整数的下界：'))\n",
    "    k=int(input('请输入一个大于零的整数作为随机整数的上界：'))\n",
    "    n=random.randint(m,k)\n",
    "    a=aver(n)\n",
    "    s=squaroot(a)\n",
    "    print('位于m、k之间的n个随机整数的均值的平方根为：',s)\n",
    "if __name__=='__main__':\n",
    "    main()"
   ]
  }
 ],
 "metadata": {
  "kernelspec": {
   "display_name": "Python 3",
   "language": "python",
   "name": "python3"
  },
  "language_info": {
   "codemirror_mode": {
    "name": "ipython",
    "version": 3
   },
   "file_extension": ".py",
   "mimetype": "text/x-python",
   "name": "python",
   "nbconvert_exporter": "python",
   "pygments_lexer": "ipython3",
   "version": "3.6.0"
  }
 },
 "nbformat": 4,
 "nbformat_minor": 2
}
