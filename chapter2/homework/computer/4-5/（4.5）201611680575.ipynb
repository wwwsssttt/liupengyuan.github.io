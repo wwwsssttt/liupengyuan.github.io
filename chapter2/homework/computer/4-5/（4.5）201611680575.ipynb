{
 "cells": [
  {
   "cell_type": "code",
   "execution_count": 5,
   "metadata": {
    "collapsed": false
   },
   "outputs": [
    {
     "name": "stdout",
     "output_type": "stream",
     "text": [
      "681\n"
     ]
    }
   ],
   "source": [
    "import random\n",
    "number=random.randint(1,1000)\n",
    "print(number)"
   ]
  },
  {
   "cell_type": "code",
   "execution_count": 12,
   "metadata": {
    "collapsed": false
   },
   "outputs": [
    {
     "name": "stdout",
     "output_type": "stream",
     "text": [
      "9.800899899920305\n",
      "10\n",
      "9\n"
     ]
    }
   ],
   "source": [
    "import random,math\n",
    "number=random.randint(1,1000)\n",
    "print(math.log2(number))\n",
    "print(math.ceil(math.log2(number)))\n",
    "max_times=int(math.log2(number))\n",
    "print(max_times)"
   ]
  },
  {
   "cell_type": "code",
   "execution_count": 14,
   "metadata": {
    "collapsed": false
   },
   "outputs": [
    {
     "name": "stdout",
     "output_type": "stream",
     "text": [
      "i= 0\n",
      "===========\n",
      "the i in if == 100\n",
      "==========\n",
      "i= 0\n",
      "j= 0\n",
      "j= 1\n",
      "j= 2\n",
      "break\n",
      "i= 1\n",
      "j= 2\n",
      "break\n",
      "i= 2\n",
      "j= 2\n",
      "break\n",
      "i= 3\n",
      "j= 2\n",
      "break\n",
      "i= 4\n",
      "j= 2\n",
      "break\n"
     ]
    }
   ],
   "source": [
    "i=0\n",
    "while i<1000:\n",
    "    print(\"i=\",i)\n",
    "    break\n",
    "print(\"===========\")\n",
    "i=0\n",
    "while i<1000:\n",
    "    i+=1\n",
    "    if i==100:\n",
    "        print(\"the i in if ==\",i)\n",
    "        break\n",
    "print(\"==========\")\n",
    "i=0\n",
    "j=0\n",
    "while i<5:\n",
    "    print('i=',i)\n",
    "    while j<100:\n",
    "        print(\"j=\",j)\n",
    "        if j==2:\n",
    "            print(\"break\")\n",
    "            break\n",
    "        j+=1\n",
    "    i+=1"
   ]
  },
  {
   "cell_type": "code",
   "execution_count": 21,
   "metadata": {
    "collapsed": false
   },
   "outputs": [
    {
     "name": "stdout",
     "output_type": "stream",
     "text": [
      "please enter m :1\n",
      "please enter k :9\n",
      "please enter n5\n",
      "2.32379000772445\n"
     ]
    }
   ],
   "source": [
    "import random,math\n",
    "\n",
    "m=int(input('please enter m :'))\n",
    "k=int(input('please enter k :'))\n",
    "n=int(input('please enter n'))\n",
    "total=0\n",
    "i=0\n",
    "\n",
    "while i<n:\n",
    "    i+=1\n",
    "    total+=random.randint(m,k)\n",
    "print(math.sqrt(total/n))"
   ]
  },
  {
   "cell_type": "code",
   "execution_count": 1,
   "metadata": {
    "collapsed": false
   },
   "outputs": [
    {
     "name": "stdout",
     "output_type": "stream",
     "text": [
      "plz enter n: 9\n",
      "plz enter m: 1\n",
      "plz enter k: 9\n",
      "12.737288958943898    1.816068701548853\n"
     ]
    }
   ],
   "source": [
    "import random,math\n",
    "\n",
    "n=int(input('plz enter n: '))\n",
    "m=int(input('plz enter m: '))\n",
    "k=int(input('plz enter k: '))\n",
    "\n",
    "total1=0\n",
    "total2=0\n",
    "i=0\n",
    "while i<n:\n",
    "    temp=random.randint(m,k)\n",
    "    total1+=math.log(temp)\n",
    "    total2+=1/total1\n",
    "    i+=1\n",
    "print(total1,total2,sep='    ')"
   ]
  },
  {
   "cell_type": "code",
   "execution_count": 11,
   "metadata": {
    "collapsed": false
   },
   "outputs": [
    {
     "name": "stdout",
     "output_type": "stream",
     "text": [
      "plz enter n :5\n",
      "tempt 7\n",
      "total 7\n",
      "tempt 77\n",
      "total 84\n",
      "tempt 777\n",
      "total 861\n",
      "tempt 7777\n",
      "total 8638\n",
      "tempt 77777\n",
      "total 86415\n",
      "the toal number is :  86415\n"
     ]
    }
   ],
   "source": [
    "import math,random\n",
    "\n",
    "i=0\n",
    "single=random.randint(1,9)\n",
    "total=0\n",
    "temp=0\n",
    "n=int(input('plz enter n :'))\n",
    "\n",
    "while i<n:\n",
    "    temp=(10*temp+single)\n",
    "    i+=1\n",
    "    print(\"tempt\",temp)\n",
    "    total+=temp\n",
    "    print('total',total)\n",
    "print('the toal number is : ',total)"
   ]
  },
  {
   "cell_type": "code",
   "execution_count": 1,
   "metadata": {
    "collapsed": false
   },
   "outputs": [
    {
     "name": "stdout",
     "output_type": "stream",
     "text": [
      "=====MENU=====\n",
      "                1. how to play\n",
      "                2. start game\n",
      "                3. quit\n",
      "                4. info\n",
      "             =====MENU=====\n",
      "Please enter your choice: 1\n",
      "First enter the biggest number you may hold in your mind\n",
      "    Then I will guess a number and tell you what it is\n",
      "    If the number is smaller than the one you are thinking about, please tell me bigger\n",
      "    If the number is bigger than that, please tell me smaller\n",
      "    Otherwise please tell me bingo\n",
      "    Have a good time!\n",
      "=====MENU=====\n",
      "                1. how to play\n",
      "                2. start game\n",
      "                3. quit\n",
      "                4. info\n",
      "             =====MENU=====\n",
      "Please enter your choice: 4\n",
      "programmed,designed and sponsored by: Wanqiong Xie\n",
      "    Thanks for my teacher though I don't know who he is(X)\n",
      "    Sending you times of kisses~(Actually I won't do that, I promiss)\n",
      "=====MENU=====\n",
      "                1. how to play\n",
      "                2. start game\n",
      "                3. quit\n",
      "                4. info\n",
      "             =====MENU=====\n",
      "Please enter your choice: 2\n",
      "Please enter the biggest number you may guess50\n",
      "25 , right?\n",
      "bigger\n",
      "37 , right?\n",
      "bigger\n",
      "43 , right?\n",
      "smaller\n",
      "40 , right?\n",
      "smaller\n",
      "38 , right?\n",
      "bingo\n",
      "Haha, quite so easy! \n",
      "=====MENU=====\n",
      "                1. how to play\n",
      "                2. start game\n",
      "                3. quit\n",
      "                4. info\n",
      "             =====MENU=====\n",
      "Please enter your choice: 3\n",
      "See you~\n"
     ]
    }
   ],
   "source": [
    "import random, math\n",
    "\n",
    "\n",
    "def win():\n",
    "    print(\"Haha, quite so easy! \")\n",
    "    \n",
    "def lose():\n",
    "    print(\"Hum...I bet I'll win the next time!\")\n",
    "\n",
    "def game_over():\n",
    "    print(\"See you~\")\n",
    "\n",
    "def show_team():\n",
    "    print('''programmed,designed and sponsored by: Wanqiong Xie\n",
    "    Thanks for my teacher though I don't know who he is(X)\n",
    "    Sending you times of kisses~(Actually I won't do that, I promiss)''')\n",
    "\n",
    "def show_instruction():\n",
    "    print('''First enter the biggest number you may hold in your mind\n",
    "    Then I will guess a number and tell you what it is\n",
    "    If the number is smaller than the one you are thinking about, please tell me bigger\n",
    "    If the number is bigger than that, please tell me smaller\n",
    "    Otherwise please tell me bingo\n",
    "    Have a good time!''')\n",
    "\n",
    "def menu():\n",
    "    print('''=====MENU=====\n",
    "                1. how to play\n",
    "                2. start game\n",
    "                3. quit\n",
    "                4. info\n",
    "             =====MENU=====''')\n",
    "             \n",
    "def guess_game():\n",
    "    n = int(input('Please enter the biggest number you may guess'))\n",
    "    max_times = math.ceil(math.log(n, 2))\n",
    "    chances = 0\n",
    "    a=1\n",
    "    b=n\n",
    "    \n",
    "    while chances<=max_times:\n",
    "        guess=int((a+b)/2)\n",
    "        print(guess,\", right?\")\n",
    "        judge=input()\n",
    "        if judge==\"smaller\":\n",
    "            b=guess\n",
    "        elif judge==\"bigger\":\n",
    "            a=guess\n",
    "        else :\n",
    "            win()\n",
    "            break\n",
    "        chances+=1\n",
    "    if chances>max_times :\n",
    "        lose()\n",
    "        \n",
    "        \n",
    "\n",
    "# 主函数\n",
    "def main():\n",
    "    while True:\n",
    "        menu()\n",
    "        choice = int(input('Please enter your choice: '))\n",
    "        if choice == 1:\n",
    "            show_instruction()\n",
    "        elif choice == 2:\n",
    "            guess_game()\n",
    "        elif choice == 3:\n",
    "            game_over()\n",
    "            break\n",
    "        else:\n",
    "            show_team()\n",
    "\n",
    "\n",
    "#主程序\n",
    "if __name__ == '__main__':\n",
    "    main()"
   ]
  },
  {
   "cell_type": "code",
   "execution_count": null,
   "metadata": {
    "collapsed": true
   },
   "outputs": [],
   "source": []
  }
 ],
 "metadata": {
  "kernelspec": {
   "display_name": "Python 3",
   "language": "python",
   "name": "python3"
  },
  "language_info": {
   "codemirror_mode": {
    "name": "ipython",
    "version": 3
   },
   "file_extension": ".py",
   "mimetype": "text/x-python",
   "name": "python",
   "nbconvert_exporter": "python",
   "pygments_lexer": "ipython3",
   "version": "3.6.0"
  }
 },
 "nbformat": 4,
 "nbformat_minor": 2
}
