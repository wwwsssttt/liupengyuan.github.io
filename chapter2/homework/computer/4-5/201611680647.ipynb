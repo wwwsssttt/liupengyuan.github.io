{
 "cells": [
  {
   "cell_type": "code",
   "execution_count": 5,
   "metadata": {
    "collapsed": false
   },
   "outputs": [
    {
     "name": "stdout",
     "output_type": "stream",
     "text": [
      "请输入随机整数个数:5\n",
      "请输入整数下限:2\n",
      "请输入整数上限:15\n",
      "所有随机整数均值的平方根是： 3.3466401061363023\n"
     ]
    }
   ],
   "source": [
    "import random,math\n",
    "def question1():\n",
    "    n=int(input('请输入随机整数个数:'))\n",
    "    m=int(input('请输入整数下限:'))\n",
    "    k=int(input('请输入整数上限:'))\n",
    "    i=0\n",
    "    sum=0\n",
    "    while i<n:\n",
    "        i=i+1\n",
    "        number=random.randint(m,k)\n",
    "        sum=sum+number\n",
    "    average=sum/n\n",
    "    result=math.sqrt(average)\n",
    "    print('所有随机整数均值的平方根是：',result)\n",
    "question1()"
   ]
  },
  {
   "cell_type": "code",
   "execution_count": 7,
   "metadata": {
    "collapsed": false
   },
   "outputs": [
    {
     "name": "stdout",
     "output_type": "stream",
     "text": [
      "请输入随机整数个数:5\n",
      "请输入整数下限:2\n",
      "请输入整数上限:20\n",
      "随机整数的对数的和为: 14.971633360358773\n",
      "随机整数的对数的倒数的和为: 1.8482823552474157\n"
     ]
    }
   ],
   "source": [
    "import random,math\n",
    "def question2():\n",
    "    n=int(input('请输入随机整数个数:'))\n",
    "    m=int(input('请输入整数下限:'))\n",
    "    k=int(input('请输入整数上限:'))\n",
    "    i=0\n",
    "    sum1=0\n",
    "    sum2=0\n",
    "    while i<n:\n",
    "        i=i+1\n",
    "        number=random.randint(m,k)\n",
    "        sum1=sum1+math.log2(number)\n",
    "        sum2=sum2+1/math.log2(number)\n",
    "    print('随机整数的对数的和为:',sum1)\n",
    "    print('随机整数的对数的倒数的和为:',sum2)\n",
    "question2()"
   ]
  },
  {
   "cell_type": "code",
   "execution_count": 16,
   "metadata": {
    "collapsed": false
   },
   "outputs": [
    {
     "name": "stdout",
     "output_type": "stream",
     "text": [
      "请输入相加的数的个数：5\n",
      "s的值为： 900045000900009000045\n"
     ]
    }
   ],
   "source": [
    "import random,math\n",
    "def question3():\n",
    "    a=random.randint(1,9)\n",
    "    n=int(input('请输入相加的数的个数：'))\n",
    "    i=0\n",
    "    s=a\n",
    "    while i<n-1:\n",
    "        i=i+1\n",
    "        a=a+a*pow(10,j)\n",
    "        s=s+a\n",
    "    print('s的值为：',s)\n",
    "question3()"
   ]
  }
 ],
 "metadata": {
  "kernelspec": {
   "display_name": "Python 3",
   "language": "python",
   "name": "python3"
  },
  "language_info": {
   "codemirror_mode": {
    "name": "ipython",
    "version": 3
   },
   "file_extension": ".py",
   "mimetype": "text/x-python",
   "name": "python",
   "nbconvert_exporter": "python",
   "pygments_lexer": "ipython3",
   "version": "3.6.0"
  }
 },
 "nbformat": 4,
 "nbformat_minor": 2
}
