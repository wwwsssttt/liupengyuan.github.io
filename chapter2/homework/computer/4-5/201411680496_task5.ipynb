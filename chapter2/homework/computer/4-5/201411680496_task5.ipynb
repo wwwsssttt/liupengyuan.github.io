{
 "cells": [
  {
   "cell_type": "markdown",
   "metadata": {},
   "source": [
    "练习 1：写函数，求n个随机整数均值的平方根，整数范围在m与k之间。"
   ]
  },
  {
   "cell_type": "code",
   "execution_count": 13,
   "metadata": {
    "collapsed": false
   },
   "outputs": [
    {
     "name": "stdout",
     "output_type": "stream",
     "text": [
      "plz input the min5\n",
      "plz input the max10\n",
      "plz input n :3\n",
      "2.6457513110645907\n"
     ]
    }
   ],
   "source": [
    "import random,math\n",
    "def Square():\n",
    "    m=int(input('plz input the min '))\n",
    "    k=int(input('plz input the max '))\n",
    "    n=int(input('plz input n : '))\n",
    "    i=0\n",
    "    total=0\n",
    "    while i<n:\n",
    "        i+=1\n",
    "        temp=random.randint(m,k)\n",
    "        total+=temp\n",
    "    print (math.sqrt(total/n))\n",
    "    \n",
    "Square()"
   ]
  },
  {
   "cell_type": "markdown",
   "metadata": {},
   "source": [
    "练习 2：写函数，共n个随机整数，整数范围在m与k之间，求西格玛log(随机整数)及西格玛1/log(随机整数)"
   ]
  },
  {
   "cell_type": "code",
   "execution_count": 14,
   "metadata": {
    "collapsed": false
   },
   "outputs": [
    {
     "name": "stdout",
     "output_type": "stream",
     "text": [
      "plz input the min4\n",
      "plz input the max6\n",
      "plz input n :5\n",
      "3.362482474751175 7.55308656020798\n"
     ]
    }
   ],
   "source": [
    "import random,math\n",
    "def total():\n",
    "    m=int(input('plz input the min '))\n",
    "    k=int(input('plz input the max '))\n",
    "    n=int(input('plz input n :'))\n",
    "    i=0\n",
    "    Sum1=0\n",
    "    Sum2=0\n",
    "    while i<n:\n",
    "        i+=1        \n",
    "        temp=random.randint(m,k)\n",
    "        Sum1+=math.log10(temp)\n",
    "        Sum2+=1/(math.log10(temp))\n",
    "    print(Sum1,Sum2)\n",
    "total()"
   ]
  },
  {
   "cell_type": "markdown",
   "metadata": {},
   "source": [
    "练习 3：写函数，求s=a+aa+aaa+aaaa+aa...a的值，其中a是[1,9]之间的随机整数。例如2+22+222+2222+22222(此时共有5个数相加)，几个数相加由键盘输入。"
   ]
  },
  {
   "cell_type": "code",
   "execution_count": 1,
   "metadata": {
    "collapsed": false
   },
   "outputs": [
    {
     "name": "stdout",
     "output_type": "stream",
     "text": [
      "plz input n: 3\n",
      "3\n",
      "369\n"
     ]
    }
   ],
   "source": [
    "import random,math\n",
    "def Sum():\n",
    "    a=random.randint(1,9)\n",
    "    n=int(input('plz input n: ' ))\n",
    "    i=0\n",
    "    Sum=0\n",
    "    total=0\n",
    "    while i<n:  \n",
    "        i+=1\n",
    "        temp=10**(i-1)         \n",
    "        Sum=Sum+temp*a\n",
    "        total+=Sum\n",
    "    print(a)\n",
    "    print(total)\n",
    "Sum()        "
   ]
  },
  {
   "cell_type": "markdown",
   "metadata": {},
   "source": [
    "挑战性练习：将猜数游戏改成由用户随便选择一个整数，让计算机来猜测的猜数游戏。"
   ]
  },
  {
   "cell_type": "code",
   "execution_count": 3,
   "metadata": {
    "collapsed": false
   },
   "outputs": [
    {
     "name": "stdout",
     "output_type": "stream",
     "text": [
      "plz input n (n:1-10) : 3\n",
      "3\n",
      "\n",
      "    1,bigger\n",
      "    2,smaller\n",
      "    3,u win\n",
      "    3\n",
      "u win!\n"
     ]
    }
   ],
   "source": [
    "import random,math\n",
    "def guess():\n",
    "    n=int(input('plz input n (n:1-10) : '))\n",
    "    r=random.randint(1,10)\n",
    "    print(r)\n",
    "    an=int(input('''\n",
    "    1,bigger\n",
    "    2,smaller\n",
    "    3,u win\n",
    "    '''\n",
    "    ))\n",
    "    if(an==3):\n",
    "        print('u win!')    \n",
    "    else:\n",
    "        while an!=3:\n",
    "            if(an==1):\n",
    "                print(r)\n",
    "                an=int(input('''\n",
    "                1,bigger\n",
    "                2,smaller\n",
    "                3,u win\n",
    "                '''\n",
    "                ))\n",
    "                r=random.randint(1,r)\n",
    "            elif(am==2):\n",
    "                print(r)\n",
    "                an=int(input('''\n",
    "                1,bigger\n",
    "                2,smaller\n",
    "                3,u win\n",
    "                '''\n",
    "                ))\n",
    "                r=random.randint(r,10)\n",
    "guess()"
   ]
  }
 ],
 "metadata": {
  "kernelspec": {
   "display_name": "Python 3",
   "language": "python",
   "name": "python3"
  },
  "language_info": {
   "codemirror_mode": {
    "name": "ipython",
    "version": 3
   },
   "file_extension": ".py",
   "mimetype": "text/x-python",
   "name": "python",
   "nbconvert_exporter": "python",
   "pygments_lexer": "ipython3",
   "version": "3.6.0"
  }
 },
 "nbformat": 4,
 "nbformat_minor": 2
}
