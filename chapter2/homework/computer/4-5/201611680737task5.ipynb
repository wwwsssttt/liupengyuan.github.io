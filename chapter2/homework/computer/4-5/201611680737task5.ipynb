{
 "cells": [
  {
   "cell_type": "code",
   "execution_count": 1,
   "metadata": {
    "collapsed": false
   },
   "outputs": [
    {
     "name": "stdout",
     "output_type": "stream",
     "text": [
      "请输入个数:5\n",
      "最小数:10\n",
      "最大数:15\n",
      "随机整数均值的平方根为： 7.937253933193772\n"
     ]
    }
   ],
   "source": [
    "import random,math\n",
    "n=int(input('请输入个数:'))\n",
    "m=int(input('最小数:'))\n",
    "k=int(input('最大数:'))\n",
    "i=1\n",
    "sum=0\n",
    "while(i<=n):\n",
    "    sum=sum+random.randint(m,k)\n",
    "    i=i+1\n",
    "print('随机整数均值的平方根为：',math.sqrt(sum))"
   ]
  },
  {
   "cell_type": "code",
   "execution_count": 2,
   "metadata": {
    "collapsed": false
   },
   "outputs": [
    {
     "name": "stdout",
     "output_type": "stream",
     "text": [
      "请输入个数:5\n",
      "最小数:10\n",
      "最大数:15\n",
      "12.919941148903373 , 2.0019490324681493\n"
     ]
    }
   ],
   "source": [
    "import random,math\n",
    "n=int(input('请输入个数:'))\n",
    "m=int(input('最小数:'))\n",
    "k=int(input('最大数:'))\n",
    "i=1\n",
    "sum1=0\n",
    "sum2=0\n",
    "while(i<=n):\n",
    "    sum1=sum1+math.log(random.randint(m,k))\n",
    "    sum2=sum2+1/math.log(random.randint(m,k))\n",
    "    i=i+1\n",
    "print(sum1,',',sum2)"
   ]
  },
  {
   "cell_type": "code",
   "execution_count": 3,
   "metadata": {
    "collapsed": false
   },
   "outputs": [
    {
     "name": "stdout",
     "output_type": "stream",
     "text": [
      "相加数的个数:5\n",
      "9\n",
      "99\n",
      "999\n",
      "9999\n",
      "99999\n",
      "111105\n"
     ]
    }
   ],
   "source": [
    "import math,random\n",
    "n=int(input('相加数的个数:'))\n",
    "rand=random.randint(1,9)\n",
    "sum=0\n",
    "i=1\n",
    "q=0\n",
    "while(i<=n):\n",
    "    q=q+10**(i-1)\n",
    "    print(rand*q)\n",
    "    sum=sum+rand*q\n",
    "    i=i+1\n",
    "print(sum)"
   ]
  },
  {
   "cell_type": "code",
   "execution_count": 6,
   "metadata": {
    "collapsed": false
   },
   "outputs": [
    {
     "name": "stdout",
     "output_type": "stream",
     "text": [
      "请输入你想让计算机猜的数字，一到100：56\n",
      "你想让计算机猜几次:4\n",
      "计算机猜的是： 61\n",
      "猜大了\n",
      "计算机猜的是： 30\n",
      "猜小了\n",
      "计算机猜的是： 44\n",
      "猜小了\n",
      "计算机猜的是： 98\n",
      "猜大了\n",
      "猜错了\n"
     ]
    }
   ],
   "source": [
    "import random,math\n",
    "n=int(input('请输入你想让计算机猜的数字，一到100：'))\n",
    "m=int(input('你想让计算机猜几次:'))\n",
    "i=1\n",
    "flag=1\n",
    "while(i<=m):\n",
    "    x=random.randint(1,100)\n",
    "    print('计算机猜的是：',x)\n",
    "    if x==n:\n",
    "        print('猜对了')\n",
    "        flag=0\n",
    "        break\n",
    "    elif x<n:\n",
    "        print('猜小了')\n",
    "    elif x>n:\n",
    "        print('猜大了')\n",
    "    i=i+1\n",
    "if flag:\n",
    "    print('猜错了')"
   ]
  }
 ],
 "metadata": {
  "kernelspec": {
   "display_name": "Python 3",
   "language": "python",
   "name": "python3"
  },
  "language_info": {
   "codemirror_mode": {
    "name": "ipython",
    "version": 3
   },
   "file_extension": ".py",
   "mimetype": "text/x-python",
   "name": "python",
   "nbconvert_exporter": "python",
   "pygments_lexer": "ipython3",
   "version": "3.6.0"
  }
 },
 "nbformat": 4,
 "nbformat_minor": 2
}
