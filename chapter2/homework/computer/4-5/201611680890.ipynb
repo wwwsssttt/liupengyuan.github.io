{
 "cells": [
  {
   "cell_type": "code",
   "execution_count": 6,
   "metadata": {
    "collapsed": false
   },
   "outputs": [
    {
     "name": "stdout",
     "output_type": "stream",
     "text": [
      "请输入整数个数，回车结束。3\n",
      "请输入整数作为计算下界，回车结束。1\n",
      "请输入整数作为计算上界，回车结束。10\n",
      "第1个随机整数为4\n",
      "第2个随机整数为7\n",
      "第3个随机整数为3\n",
      "这3个随机整数的和为14\n",
      "这3个随机整数的均值为4.666666666666667\n",
      "这3个随机整数均值的平方根为2.160246899469287\n"
     ]
    }
   ],
   "source": [
    "import random, math\n",
    "n = int(input('请输入整数个数，回车结束。'))\n",
    "m = int(input('请输入整数作为计算下界，回车结束。'))\n",
    "k = int(input('请输入整数作为计算上界，回车结束。'))\n",
    "i = 0\n",
    "total = 0\n",
    "while i < n:\n",
    "    i += 1\n",
    "    number = random.randint(m, k)\n",
    "    print('第', i, '个随机整数为', number, sep = '')\n",
    "    total += number\n",
    "print('这', n, '个随机整数的和为', total, sep = '')\n",
    "aver = total / n\n",
    "print('这', n, '个随机整数的均值为', aver, sep = '')\n",
    "print('这', n, '个随机整数均值的平方根为',math.sqrt(aver), sep = '')"
   ]
  },
  {
   "cell_type": "code",
   "execution_count": 7,
   "metadata": {
    "collapsed": false
   },
   "outputs": [
    {
     "name": "stdout",
     "output_type": "stream",
     "text": [
      "请输入整数个数，回车结束。2\n",
      "请输入整数作为计算下界，回车结束。1\n",
      "请输入整数作为计算上界，回车结束。10\n",
      "第1个随机整数为3\n",
      "这个随机整数的log为1.0986122886681098\n",
      "这个随机整数的1/log为0.9102392266268373\n",
      "第2个随机整数为9\n",
      "这个随机整数的log为2.1972245773362196\n",
      "这个随机整数的1/log为0.45511961331341866\n"
     ]
    }
   ],
   "source": [
    "import random, math\n",
    "n = int(input('请输入整数个数，回车结束。'))\n",
    "m = int(input('请输入整数作为计算下界，回车结束。'))\n",
    "k = int(input('请输入整数作为计算上界，回车结束。'))\n",
    "i = 0\n",
    "while i < n:\n",
    "    i += 1\n",
    "    number = random.randint(m, k)\n",
    "    print('第', i, '个随机整数为', number, sep = '')\n",
    "    print('这个随机整数的log为', math.log(number),sep = '')\n",
    "    print('这个随机整数的1/log为', 1/(math.log(number)),sep = '')"
   ]
  },
  {
   "cell_type": "code",
   "execution_count": 8,
   "metadata": {
    "collapsed": false
   },
   "outputs": [
    {
     "name": "stdout",
     "output_type": "stream",
     "text": [
      "请输入相加个数，回车结束。3\n",
      "这个随机整数为5\n",
      "5\n",
      "55\n",
      "555\n",
      "s=a+aa+aaa+aaaa+aa...a的值为 615\n"
     ]
    }
   ],
   "source": [
    "import random, math\n",
    "n = int(input('请输入相加个数，回车结束。'))\n",
    "number = random.randint(1,9)\n",
    "print('这个随机整数为', number, sep = '')\n",
    "s = 0\n",
    "m = 0\n",
    "i = 0\n",
    "while i < n:\n",
    "    m += number * pow(10,i)\n",
    "    print(m)\n",
    "    s += m\n",
    "    i += 1\n",
    "print('s=a+aa+aaa+aaaa+aa...a的值为', s)"
   ]
  },
  {
   "cell_type": "code",
   "execution_count": 3,
   "metadata": {
    "collapsed": false
   },
   "outputs": [
    {
     "name": "stdout",
     "output_type": "stream",
     "text": [
      "             =====游戏菜单=====\n",
      "                1. 游戏说明\n",
      "                2. 开始游戏\n",
      "                3. 退出游戏\n",
      "                4. 制作团队\n",
      "             =====游戏菜单=====\n",
      "请输入你的选择2\n",
      "请输入一个大于0的整数，作为神秘整数的上界，回车结束。10\n",
      "请输入一个大于0的整数，作为神秘整数，回车结束。5\n",
      "一共可以猜 4 次\n",
      "我猜答案是 8\n",
      "我还能猜 3 次\n",
      "啊呀，我猜大了\n",
      "我猜答案是 4\n",
      "我还能猜 2 次\n",
      "啊呀，我猜小了\n",
      "我猜答案是 5\n",
      "我还能猜 1 次\n",
      "我是聪明的电脑！\n",
      "神秘数字是： 5\n",
      "我比标准次数少 1 次\n",
      "             =====游戏菜单=====\n",
      "                1. 游戏说明\n",
      "                2. 开始游戏\n",
      "                3. 退出游戏\n",
      "                4. 制作团队\n",
      "             =====游戏菜单=====\n",
      "请输入你的选择3\n",
      "拜拜喽您嘞\n"
     ]
    }
   ],
   "source": [
    "import random, math\n",
    "\n",
    "def win():\n",
    "    print('我是聪明的电脑！')\n",
    "    \n",
    "def lose():\n",
    "    print('是在下输了！')\n",
    "\n",
    "def game_over():\n",
    "    print('拜拜喽您嘞')\n",
    "\n",
    "def show_team():\n",
    "    print('BLCU, Information, Melody Zhang')\n",
    "\n",
    "def show_instruction():\n",
    "    print('风水轮流转，计算机猜数字，用户输入上界，“大”或“小”，让他猜去吧')\n",
    "\n",
    "def menu():\n",
    "    print('''             =====游戏菜单=====\n",
    "                1. 游戏说明\n",
    "                2. 开始游戏\n",
    "                3. 退出游戏\n",
    "                4. 制作团队\n",
    "             =====游戏菜单=====''')\n",
    "             \n",
    "def guess_game():\n",
    "    n = int(input('请输入一个大于0的整数，作为神秘整数的上界，回车结束。'))\n",
    "    m = 0\n",
    "    number = int(input('请输入一个大于0的整数，作为神秘整数，回车结束。'))\n",
    "    max_times = math.ceil(math.log(n, 2))\n",
    "    print('一共可以猜', max_times, '次')\n",
    "    guess_times = 0\n",
    "    \n",
    "    while guess_times <= max_times:\n",
    "        guess = random.randint(m, n)\n",
    "        print('我猜答案是',guess)\n",
    "        guess_times += 1\n",
    "        print('我还能猜', max_times - guess_times, '次')\n",
    "        \n",
    "        if guess == number:\n",
    "            win()\n",
    "            print('神秘数字是：', guess)\n",
    "            print('我比标准次数少', max_times-guess_times, '次')\n",
    "            break\n",
    "        elif guess > number:\n",
    "            print('啊呀，我猜大了')\n",
    "            n = guess - 1\n",
    "        else:\n",
    "            print('啊呀，我猜小了')\n",
    "            m = guess + 1\n",
    "            \n",
    "    else:\n",
    "        print('神秘数字是：', number)\n",
    "        lose()\n",
    "\n",
    "# 主函数\n",
    "def main():\n",
    "    while True:\n",
    "        menu()\n",
    "        choice = int(input('请输入你的选择'))\n",
    "        if choice == 1:\n",
    "            show_instruction()\n",
    "        elif choice == 2:\n",
    "            guess_game()\n",
    "        elif choice == 3:\n",
    "            game_over()\n",
    "            break\n",
    "        else:\n",
    "            show_team()\n",
    "            \n",
    "#主程序\n",
    "if __name__ == '__main__':\n",
    "    main()"
   ]
  }
 ],
 "metadata": {
  "kernelspec": {
   "display_name": "Python 3",
   "language": "python",
   "name": "python3"
  },
  "language_info": {
   "codemirror_mode": {
    "name": "ipython",
    "version": 3
   },
   "file_extension": ".py",
   "mimetype": "text/x-python",
   "name": "python",
   "nbconvert_exporter": "python",
   "pygments_lexer": "ipython3",
   "version": "3.6.0"
  }
 },
 "nbformat": 4,
 "nbformat_minor": 2
}
