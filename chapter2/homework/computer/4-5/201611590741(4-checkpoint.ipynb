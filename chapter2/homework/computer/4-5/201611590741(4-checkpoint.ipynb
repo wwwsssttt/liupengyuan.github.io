{
 "cells": [
  {
   "cell_type": "code",
   "execution_count": 1,
   "metadata": {
    "collapsed": false
   },
   "outputs": [
    {
     "name": "stdout",
     "output_type": "stream",
     "text": [
      "请输入一个整数，按回车键结束1\n",
      "请输入一个上界，按回车键结束4\n",
      "请输入一个下界，按回车键结束7\n",
      "3.605551275463989\n"
     ]
    }
   ],
   "source": [
    "import random, math\n",
    "total = 0\n",
    "i = 0\n",
    "n = int(input('请输入一个整数，按回车键结束'))\n",
    "m = int(input('请输入一个上界，按回车键结束'))\n",
    "k = int(input('请输入一个下界，按回车键结束'))\n",
    "while i <= n:\n",
    "    number = random.randint(m, k)\n",
    "    total = total + number\n",
    "    i += i+1\n",
    "print(math.sqrt(total / n))\n"
   ]
  }
 ],
 "metadata": {
  "kernelspec": {
   "display_name": "Python 3",
   "language": "python",
   "name": "python3"
  },
  "language_info": {
   "codemirror_mode": {
    "name": "ipython",
    "version": 3
   },
   "file_extension": ".py",
   "mimetype": "text/x-python",
   "name": "python",
   "nbconvert_exporter": "python",
   "pygments_lexer": "ipython3",
   "version": "3.6.0"
  }
 },
 "nbformat": 4,
 "nbformat_minor": 2
}
