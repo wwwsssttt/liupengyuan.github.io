{
 "cells": [
  {
   "cell_type": "code",
   "execution_count": 1,
   "metadata": {
    "collapsed": false
   },
   "outputs": [
    {
     "name": "stdout",
     "output_type": "stream",
     "text": [
      "please enter the number of the integers: 2\n",
      "992\n"
     ]
    }
   ],
   "source": [
    "import random,math\n",
    "\n",
    "def sum():\n",
    "    n = int(input(\"please enter the number of the integers: \"))\n",
    "    a = random.randint(1,9)\n",
    "    i = 0\n",
    "    s = 0\n",
    "    total = 0\n",
    "    while i <= n:\n",
    "        total = s\n",
    "        total = total + a*(10**i)\n",
    "        s = s + total\n",
    "        i += 1\n",
    "    return s\n",
    "\n",
    "print(sum())\n"
   ]
  }
 ],
 "metadata": {
  "kernelspec": {
   "display_name": "Python 3",
   "language": "python",
   "name": "python3"
  },
  "language_info": {
   "codemirror_mode": {
    "name": "ipython",
    "version": 3
   },
   "file_extension": ".py",
   "mimetype": "text/x-python",
   "name": "python",
   "nbconvert_exporter": "python",
   "pygments_lexer": "ipython3",
   "version": "3.6.0"
  }
 },
 "nbformat": 4,
 "nbformat_minor": 2
}
