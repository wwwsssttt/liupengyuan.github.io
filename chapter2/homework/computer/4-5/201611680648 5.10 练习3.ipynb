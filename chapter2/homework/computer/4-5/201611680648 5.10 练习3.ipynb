{
 "cells": [
  {
   "cell_type": "code",
   "execution_count": 2,
   "metadata": {
    "collapsed": false,
    "deletable": true,
    "editable": true
   },
   "outputs": [
    {
     "name": "stdout",
     "output_type": "stream",
     "text": [
      "请输入相加的次数4\n",
      "随机整数为m= 6 相加次数n= 4\n",
      "6\n",
      "66\n",
      "666\n",
      "6666\n",
      "s= 7404\n"
     ]
    }
   ],
   "source": [
    "import random\n",
    "def jia(m,n):\n",
    "    total=0\n",
    "    total2=0\n",
    "    i=0\n",
    "    print('随机整数为m=',m,'相加次数n=',n)\n",
    "    while i<n:\n",
    "        x=10**i\n",
    "        t=x*m\n",
    "        total+=t\n",
    "        i+=1\n",
    "        total2+=total\n",
    "        print(total)\n",
    "    return total2\n",
    "def main():\n",
    "    m=random.randint(1,9)\n",
    "    n=int(input('请输入相加的次数'))\n",
    "    print('s=',jia(m,n))\n",
    "if __name__ == '__main__':\n",
    "    main()\n",
    "    "
   ]
  }
 ],
 "metadata": {
  "kernelspec": {
   "display_name": "Python 3",
   "language": "python",
   "name": "python3"
  },
  "language_info": {
   "codemirror_mode": {
    "name": "ipython",
    "version": 3
   },
   "file_extension": ".py",
   "mimetype": "text/x-python",
   "name": "python",
   "nbconvert_exporter": "python",
   "pygments_lexer": "ipython3",
   "version": "3.6.0"
  }
 },
 "nbformat": 4,
 "nbformat_minor": 2
}
