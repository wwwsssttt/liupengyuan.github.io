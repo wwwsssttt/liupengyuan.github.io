{
 "cells": [
  {
   "cell_type": "code",
   "execution_count": null,
   "metadata": {
    "collapsed": false
   },
   "outputs": [],
   "source": [
    "def pingfang(m,k,n):\n",
    "    import math,random\n",
    "    i=0\n",
    "    sum=0\n",
    "    while i<n:\n",
    "        i+=1\n",
    "        x=random.randint(m,k)\n",
    "        sum+=x\n",
    "    aver=sum/n\n",
    "    end=math.sqrt(aver)\n",
    "    print(aver)\n",
    "\n",
    "m=int(input('请输入下界整数:'))\n",
    "k=int(input('请输入上界整数:'))\n",
    "n=int(input('请输入整数个数:'))\n",
    "pingfang(m,k,n)"
   ]
  },
  {
   "cell_type": "code",
   "execution_count": null,
   "metadata": {
    "collapsed": true
   },
   "outputs": [],
   "source": [
    "def xigema(m,k,n):\n",
    "    import math,random\n",
    "    i=0\n",
    "    sum_1=0\n",
    "    sum_2=0\n",
    "    while i<0:\n",
    "        i+=1\n",
    "        x=random.randint(m,k)\n",
    "        y=math.log(x)\n",
    "        z=1/(math.log(x))\n",
    "        sum_1+=y\n",
    "        sum_2+=z\n",
    "    print(\"西格玛log(随机整数)\",sum_1)\n",
    "    print(\"西格玛1/log(随机整数)\",sum_2)\n",
    "\n",
    "m=int(input('请输入下界整数:'))\n",
    "k=int(input('请输入上界整数:'))\n",
    "n=int(input('请输入整数个数:'))\n",
    "xigema(m,k,n)"
   ]
  },
  {
   "cell_type": "code",
   "execution_count": null,
   "metadata": {
    "collapsed": true
   },
   "outputs": [],
   "source": [
    "def qiuhe(n):\n",
    "    import random\n",
    "    a=random.randint(1,9)\n",
    "    i=0\n",
    "    sum=0\n",
    "    while i<n:\n",
    "        i+=1\n",
    "        x=a+10**i*a\n",
    "        sum+=x\n",
    "    print(sum)\n",
    "\n",
    "n=int(input('请输入求和的个数:'))\n",
    "qiuhe(n)"
   ]
  },
  {
   "cell_type": "code",
   "execution_count": null,
   "metadata": {
    "collapsed": true
   },
   "outputs": [],
   "source": [
    "import random,math\n",
    "def suiji(x,y):\n",
    "    t=random.randint(x,y)\n",
    "    return t\n",
    "\n",
    "k = int(input('请输入一个大于0的整数，作为神秘整数的上界，回车结束。'))\n",
    "m = int(input('请输入一个大于0的整数，作为神秘整数的下界，回车结束。'))\n",
    "n=random.randint(m,k)\n",
    "flag=0\n",
    "while flag==0:\n",
    "    print('n=',n)\n",
    "    p=int(input('是否正确，正确输入0，偏大输入1，偏小输入-1，回车结束。'))\n",
    "    if p==0:\n",
    "        print('right!')\n",
    "        break\n",
    "    elif p==1:\n",
    "        n=suiji(m,n-1)\n",
    "        k=n-1\n",
    "    else :\n",
    "        n=suiji(n+1,k)\n",
    "        m=n+1"
   ]
  }
 ],
 "metadata": {
  "kernelspec": {
   "display_name": "Python 3",
   "language": "python",
   "name": "python3"
  },
  "language_info": {
   "codemirror_mode": {
    "name": "ipython",
    "version": 3
   },
   "file_extension": ".py",
   "mimetype": "text/x-python",
   "name": "python",
   "nbconvert_exporter": "python",
   "pygments_lexer": "ipython3",
   "version": "3.6.0"
  }
 },
 "nbformat": 4,
 "nbformat_minor": 2
}
