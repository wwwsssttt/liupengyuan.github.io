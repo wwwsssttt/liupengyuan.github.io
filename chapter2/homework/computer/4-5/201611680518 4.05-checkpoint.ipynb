{
 "cells": [
  {
   "cell_type": "code",
   "execution_count": 1,
   "metadata": {
    "collapsed": false
   },
   "outputs": [
    {
     "name": "stdout",
     "output_type": "stream",
     "text": [
      "请输入一个大于0的整数，回车结束。6\n",
      "请输入一个大于0的整数，回车结束。4\n",
      "请输入一个大于m的整数，回车结束。9\n",
      "随机整数均值的平方根是:  2.7386127875258306\n"
     ]
    }
   ],
   "source": [
    "#•练习 1：写函数，求n个随机整数均值的平方根，整数范围在m与k之间。\n",
    "import random, math\n",
    "n = int(input('请输入一个大于0的整数，回车结束。'))\n",
    "m = int(input('请输入一个大于0的整数，回车结束。'))\n",
    "k = int(input('请输入一个大于m的整数，回车结束。'))\n",
    "i = 0\n",
    "sum = 0\n",
    "while i < n:\n",
    "    i = i + 1\n",
    "    number = random.randint(m, k)\n",
    "    sum = sum + number\n",
    "a = sum/n\n",
    "x = math.sqrt(a)\n",
    "print('随机整数均值的平方根是: ',x)\n",
    "    "
   ]
  },
  {
   "cell_type": "code",
   "execution_count": 2,
   "metadata": {
    "collapsed": false
   },
   "outputs": [
    {
     "name": "stdout",
     "output_type": "stream",
     "text": [
      "请输入一个大于0的整数，回车结束。5\n",
      "请输入一个大于0的整数，回车结束。2\n",
      "请输入一个大于m的整数，回车结束。8\n",
      "8.014335737299422\n",
      "3.2617063425435644\n"
     ]
    }
   ],
   "source": [
    "# •练习 2：写函数，共n个随机整数，整数范围在m与k之间，求西格玛log(随机整数)及西格玛1/log(随机整数)\n",
    "import random, math\n",
    "\n",
    "n = int(input('请输入一个大于0的整数，回车结束。'))\n",
    "m = int(input('请输入一个大于0的整数，回车结束。'))\n",
    "k = int(input('请输入一个大于m的整数，回车结束。'))\n",
    "\n",
    "i = 0\n",
    "sum = 0\n",
    "total = 0\n",
    "\n",
    "while i < n:\n",
    "    i += 1\n",
    "    number = random.randint(m, k)\n",
    "    a = math.log(number)\n",
    "    b = 1/a\n",
    "    sum += a\n",
    "    total += b\n",
    "print(sum)\n",
    "print(total)\n",
    "    "
   ]
  },
  {
   "cell_type": "code",
   "execution_count": 3,
   "metadata": {
    "collapsed": false
   },
   "outputs": [
    {
     "name": "stdout",
     "output_type": "stream",
     "text": [
      "请输入一个大于0的整数，回车结束。3\n",
      "615.0\n"
     ]
    }
   ],
   "source": [
    "#•练习 3：写函数，求s=a+aa+aaa+aaaa+aa...a的值，其中a是[1,9]之间的随机整数。例如2+22+222+2222+22222(此时共有5个数相加)，几个数相加由键盘输入。\n",
    "import random\n",
    "n = int(input('请输入一个大于0的整数，回车结束。'))\n",
    "a = random.randint(1, 9)\n",
    "i = 0\n",
    "s = 0\n",
    "while i < n:\n",
    "    i += 1\n",
    "    b = ((10**i - 1)/9) * a\n",
    "    s += b\n",
    "    \n",
    "print(s)\n",
    "    "
   ]
  },
  {
   "cell_type": "code",
   "execution_count": 4,
   "metadata": {
    "collapsed": false
   },
   "outputs": [
    {
     "name": "stdout",
     "output_type": "stream",
     "text": [
      "请输入一个1到10内的整数 : 6\n",
      "10\n",
      "\n",
      "    1,bigger\n",
      "    2,smaller\n",
      "    3,u win\n",
      "    win\n"
     ]
    },
    {
     "ename": "ValueError",
     "evalue": "invalid literal for int() with base 10: 'win'",
     "output_type": "error",
     "traceback": [
      "\u001b[1;31m---------------------------------------------------------------------------\u001b[0m",
      "\u001b[1;31mValueError\u001b[0m                                Traceback (most recent call last)",
      "\u001b[1;32m<ipython-input-4-51d4f8494cdf>\u001b[0m in \u001b[0;36m<module>\u001b[1;34m()\u001b[0m\n\u001b[0;32m     32\u001b[0m                 ))\n\u001b[0;32m     33\u001b[0m                 \u001b[0mr\u001b[0m\u001b[1;33m=\u001b[0m\u001b[0mrandom\u001b[0m\u001b[1;33m.\u001b[0m\u001b[0mrandint\u001b[0m\u001b[1;33m(\u001b[0m\u001b[0mr\u001b[0m\u001b[1;33m,\u001b[0m\u001b[1;36m10\u001b[0m\u001b[1;33m)\u001b[0m\u001b[1;33m\u001b[0m\u001b[0m\n\u001b[1;32m---> 34\u001b[1;33m \u001b[0mguess\u001b[0m\u001b[1;33m(\u001b[0m\u001b[1;33m)\u001b[0m\u001b[1;33m\u001b[0m\u001b[0m\n\u001b[0m",
      "\u001b[1;32m<ipython-input-4-51d4f8494cdf>\u001b[0m in \u001b[0;36mguess\u001b[1;34m()\u001b[0m\n\u001b[0;32m      8\u001b[0m     \u001b[1;36m2\u001b[0m\u001b[1;33m,\u001b[0m\u001b[0msmaller\u001b[0m\u001b[1;33m\u001b[0m\u001b[0m\n\u001b[0;32m      9\u001b[0m     \u001b[1;36m3\u001b[0m\u001b[1;33m,\u001b[0m\u001b[0mu\u001b[0m \u001b[0mwin\u001b[0m\u001b[1;33m\u001b[0m\u001b[0m\n\u001b[1;32m---> 10\u001b[1;33m     '''\n\u001b[0m\u001b[0;32m     11\u001b[0m     ))\n\u001b[0;32m     12\u001b[0m     \u001b[1;32mif\u001b[0m\u001b[1;33m(\u001b[0m\u001b[0man\u001b[0m\u001b[1;33m==\u001b[0m\u001b[1;36m3\u001b[0m\u001b[1;33m)\u001b[0m\u001b[1;33m:\u001b[0m\u001b[1;33m\u001b[0m\u001b[0m\n",
      "\u001b[1;31mValueError\u001b[0m: invalid literal for int() with base 10: 'win'"
     ]
    }
   ],
   "source": [
    "import random,math\n",
    "def guess():\n",
    "    n=int(input('请输入一个1到10内的整数 : '))\n",
    "    r=random.randint(1,10)\n",
    "    print(r)\n",
    "    an=int(input('''\n",
    "    1,bigger\n",
    "    2,smaller\n",
    "    3,u win\n",
    "    '''\n",
    "    ))\n",
    "    if(an==3):\n",
    "        print('u win!')    \n",
    "    else:\n",
    "        while an!=3:\n",
    "            if(an==1):\n",
    "                print(r)\n",
    "                an=int(input('''\n",
    "                1,bigger\n",
    "                2,smaller\n",
    "                3,u win\n",
    "                '''\n",
    "                ))\n",
    "                r=random.randint(1,r)\n",
    "            elif(am==2):\n",
    "                print(r)\n",
    "                an=int(input('''\n",
    "                1,bigger\n",
    "                2,smaller\n",
    "                3,u win\n",
    "                '''\n",
    "                ))\n",
    "                r=random.randint(r,10)\n",
    "guess()\n"
   ]
  },
  {
   "cell_type": "code",
   "execution_count": null,
   "metadata": {
    "collapsed": true
   },
   "outputs": [],
   "source": []
  }
 ],
 "metadata": {
  "kernelspec": {
   "display_name": "Python 3",
   "language": "python",
   "name": "python3"
  },
  "language_info": {
   "codemirror_mode": {
    "name": "ipython",
    "version": 3
   },
   "file_extension": ".py",
   "mimetype": "text/x-python",
   "name": "python",
   "nbconvert_exporter": "python",
   "pygments_lexer": "ipython3",
   "version": "3.6.0"
  }
 },
 "nbformat": 4,
 "nbformat_minor": 2
}
