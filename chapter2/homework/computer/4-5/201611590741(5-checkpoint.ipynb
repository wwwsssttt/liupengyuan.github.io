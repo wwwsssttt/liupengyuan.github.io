{
 "cells": [
  {
   "cell_type": "code",
   "execution_count": null,
   "metadata": {
    "collapsed": false
   },
   "outputs": [],
   "source": [
    "import random, math\n",
    "total1 = 0\n",
    "total2 = 0\n",
    "i = 0\n",
    "n = int(input('请输入一个整数，按回车键结束'))\n",
    "m = int(input('请输入一个上界，按回车键结束'))\n",
    "k = int(input('请输入一个下界，按回车键结束'))\n",
    "while i <= n:\n",
    "    number1 = math.log10(random.randint(m, k)) \n",
    "    number2 = 1 / math.log10(random.randint(m, k)) \n",
    "    total1 = total1 + number1\n",
    "    total2 = total2 + number2\n",
    "    i += i+1\n",
    "print(total1)\n",
    "print(total2)\n"
   ]
  }
 ],
 "metadata": {
  "kernelspec": {
   "display_name": "Python 3",
   "language": "python",
   "name": "python3"
  },
  "language_info": {
   "codemirror_mode": {
    "name": "ipython",
    "version": 3
   },
   "file_extension": ".py",
   "mimetype": "text/x-python",
   "name": "python",
   "nbconvert_exporter": "python",
   "pygments_lexer": "ipython3",
   "version": "3.6.0"
  }
 },
 "nbformat": 4,
 "nbformat_minor": 2
}
