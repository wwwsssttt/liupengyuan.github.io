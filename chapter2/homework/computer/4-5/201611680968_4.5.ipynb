{
 "cells": [
  {
   "cell_type": "code",
   "execution_count": null,
   "metadata": {
    "collapsed": false
   },
   "outputs": [
    {
     "name": "stdout",
     "output_type": "stream",
     "text": [
      "=====游戏菜单=====\n",
      "                1.游戏说明\n",
      "                2.开始游戏\n",
      "                3.退出游戏\n",
      "                4.制作团队\n",
      "             =====游戏菜单=====\n"
     ]
    }
   ],
   "source": [
    "#挑战性练习\n",
    "import random,math\n",
    "def menu():\n",
    "    print('''=====游戏菜单=====\n",
    "                1.游戏说明\n",
    "                2.开始游戏\n",
    "                3.退出游戏\n",
    "                4.制作团队\n",
    "             =====游戏菜单=====''')\n",
    "def welcome():\n",
    "    print('''=====欢迎聪明的你来到天下第一好玩的猜数游戏=====\n",
    "                           （＾Ｏ＾）\n",
    "             =====欢迎聪明的你来到天下第一好玩的猜数游戏=====''')\n",
    "def win():\n",
    "    print('''=====恭喜你！你赢了！=====\n",
    "    ((`'-\"` `\"\"-'`))\n",
    "　　 )　-　　-　 (\n",
    "　　/　 (o _ o) 　\\\n",
    "　　\\　　( 0 )　　/\n",
    "　_'-.._　'='　_..-'_\n",
    "/`;#'#'#.　-.　#'#'#;`\\\n",
    "\\_))　　　'#'　　　((_/\n",
    "#.　　☆　☆　☆　　.#\n",
    "'#.　　送你一只小熊熊　　.#'\n",
    "　/'#.　　　　　.#'\\\n",
    "　_\\\\'#.　　　.#'//_\n",
    "　　(((___)'#'(___\n",
    "            =====恭喜你！你赢了！=====''')\n",
    "def lose():\n",
    "    print('''=====输了吧？哈哈哈哈哈哈哈哈=====\n",
    "                    │＼＿＿╭╭╭╭╭＿＿／│  \n",
    "│　　　　　　　　　　　│  \n",
    "│　　　　　　　　　　　│  \n",
    "│　＞　　　　　　　●　│  \n",
    "│≡　　╰┬┬┬╯　　≡│  \n",
    "│　　　　╰—╯　　　　│  \n",
    "╰——┬ｏ———ｏ┬——╯  \n",
    "　　　│就知道你猜不出来│  \n",
    "　　　╰┬———┬╯ \n",
    "             =====输了吧？哈哈哈哈哈哈哈哈=====''')\n",
    "def game_over():\n",
    "    print('''=====GG=====\n",
    "              ,------.\n",
    "   `-____-'        ,-----------.\n",
    "    ,i--i.         |           |\n",
    "   / @  @ \\       /  haha!     |\n",
    "  | -.__.- | ___-'             J\n",
    "   \\.    ,/ \"\"\"\"\"\"\"\"\"\"\"\"\"\"\"\"\"\"'\n",
    "   ,\\\"\"\"\"/.\n",
    " ,'  `--'  `.\n",
    "(_,i'    `i._)\n",
    "   |      |\n",
    "   |  ,.  |\n",
    "   | |  | |\n",
    "   `-'  `-'\n",
    "             =====GG=====''')\n",
    "def team():\n",
    "    print('''=====此游戏由python小分队倾力奉献=====\n",
    "                　 ∧_∧　　 　∧_∧　　　∧_∧　　  　∧_∧　　\n",
    "　（^ .^）　　（^ 、^）　 （^ 0^）　  （^ Д^）  \n",
    "----∪-∪-------∪-∪-------∪-∪-------∪-∪---\n",
    "             =====此游戏由python小分队倾力奉献=====''')\n",
    "def guess_game():\n",
    "    number=int(input('输入请计算机猜的整数'))\n",
    "    n=int(input('请输入这个整数的上界'))\n",
    "     \n",
    "    max_times=math.ceil(math.log(n,2))\n",
    "    guess_times=1\n",
    "    while guess_times<=max_times:\n",
    "        guess_times+=1\n",
    "        guess=int(input('请输入你猜测的整数'))\n",
    "         \n",
    "        print('一共可以猜',max_times,'次')\n",
    "        print('计算机已经猜了',guess_times,'次')\n",
    "        if guess==number:\n",
    "            win()\n",
    "            print('神秘整数是:',guess)\n",
    "            print('计算机比标准次数少',max_times-guess_times,'次')\n",
    "            break\n",
    "        elif guess>number:\n",
    "            print('计算机，你猜大了') \n",
    "        else:\n",
    "            print('计算机，你猜小了') \n",
    "    else: \n",
    "        lose()\n",
    "        print('神秘整数是：',number)\n",
    "        \n",
    "def main():\n",
    "    while True:\n",
    "        menu()\n",
    "        choice=int(input('请输入你的选择'))\n",
    "        if choice==1:\n",
    "            welcome()\n",
    "        elif choice==2:\n",
    "            guess_game()\n",
    "        elif choice==3:\n",
    "            game_over()\n",
    "            break\n",
    "        else:\n",
    "            team()\n",
    "if __name__=='__main__':\n",
    "    main()\n"
   ]
  },
  {
   "cell_type": "code",
   "execution_count": 14,
   "metadata": {
    "collapsed": false
   },
   "outputs": [
    {
     "name": "stdout",
     "output_type": "stream",
     "text": [
      "输入你想要相加的个数:5\n",
      "7\n",
      "77777\n"
     ]
    }
   ],
   "source": [
    "#练习3\n",
    "def Sum():\n",
    "    a=random.randint(1,9)\n",
    "    n=int(input('输入你想要相加的个数:'))\n",
    "    i=0\n",
    "    total=0\n",
    "    while i<n:\n",
    "        temp=10**i\n",
    "        total=total+temp*a\n",
    "        i=i+1\n",
    "    print(a)\n",
    "    print(total)\n",
    "Sum()\n",
    "        "
   ]
  },
  {
   "cell_type": "code",
   "execution_count": 13,
   "metadata": {
    "collapsed": false
   },
   "outputs": [
    {
     "name": "stdout",
     "output_type": "stream",
     "text": [
      "请输入数m1\n",
      "请输入数k10\n",
      "请输入数n4\n",
      "2.6866362692622934 7.513734643466131\n"
     ]
    }
   ],
   "source": [
    "#练习2\n",
    "def total():\n",
    "    m=int(input('请输入数m'))\n",
    "    k=int(input('请输入数k'))\n",
    "    n=int(input('请输入数n'))\n",
    "    i=0\n",
    "    a1=0\n",
    "    a2=0\n",
    "    while i<n:\n",
    "        temp=random.randint(m,k)\n",
    "        a1=a1+math.log10(temp)\n",
    "        a2=a2+1/(math.log10(temp))\n",
    "        i=i+1\n",
    "    print(a1,a2)\n",
    "total()"
   ]
  },
  {
   "cell_type": "code",
   "execution_count": 12,
   "metadata": {
    "collapsed": false
   },
   "outputs": [
    {
     "name": "stdout",
     "output_type": "stream",
     "text": [
      "请输入下界m:1\n",
      "请输入上界k:10\n",
      "请输入数n:4\n",
      "2.0\n"
     ]
    }
   ],
   "source": [
    "#练习1\n",
    "def pingfuang():\n",
    "    m=int(input('请输入下界m:'))\n",
    "    k=int(input('请输入上界k:'))\n",
    "    n=int(input('请输入数n:'))\n",
    "    i=0\n",
    "    sum1=0\n",
    "    while i<n:\n",
    "        temp=random.randint(m,k)\n",
    "        sum1=sum1+temp\n",
    "        i=i+1\n",
    "    print(math.sqrt(sum1/n))\n",
    "pingfuang()"
   ]
  },
  {
   "cell_type": "code",
   "execution_count": null,
   "metadata": {
    "collapsed": true
   },
   "outputs": [],
   "source": []
  }
 ],
 "metadata": {
  "kernelspec": {
   "display_name": "Python 3",
   "language": "python",
   "name": "python3"
  },
  "language_info": {
   "codemirror_mode": {
    "name": "ipython",
    "version": 3
   },
   "file_extension": ".py",
   "mimetype": "text/x-python",
   "name": "python",
   "nbconvert_exporter": "python",
   "pygments_lexer": "ipython3",
   "version": "3.6.0"
  }
 },
 "nbformat": 4,
 "nbformat_minor": 2
}
