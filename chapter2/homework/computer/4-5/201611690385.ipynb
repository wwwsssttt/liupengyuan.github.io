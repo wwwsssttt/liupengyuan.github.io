{
 "cells": [
  {
   "cell_type": "code",
   "execution_count": 5,
   "metadata": {
    "collapsed": false
   },
   "outputs": [
    {
     "name": "stdout",
     "output_type": "stream",
     "text": [
      "请输入随机数字的个数，以回车键结束4\n",
      "请输入一个大于0的整数，作为神秘整数的下界，回车结束。0\n",
      "请输入一个大于0的整数，作为神秘整数的上界，回车结束。10\n",
      "4.358898943540674\n"
     ]
    }
   ],
   "source": [
    "import random,math\n",
    "n=int(input('请输入随机数字的个数，以回车键结束'))\n",
    "m=int(input('请输入一个大于0的整数，作为神秘整数的下界，回车结束。'))\n",
    "k=int(input('请输入一个大于0的整数，作为神秘整数的上界，回车结束。'))\n",
    "h=0\n",
    "total=0\n",
    "while h<n:\n",
    "    total+=random.randint(m,k)\n",
    "    h+=1\n",
    "print(math.sqrt(total))"
   ]
  },
  {
   "cell_type": "code",
   "execution_count": 7,
   "metadata": {
    "collapsed": false
   },
   "outputs": [
    {
     "name": "stdout",
     "output_type": "stream",
     "text": [
      "请输入随机数字的个数，以回车键结束4\n",
      "请输入一个大于0的整数，作为神秘整数的下界，回车结束。0\n",
      "请输入一个大于0的整数，作为神秘整数的上界，回车结束。12\n",
      "3.079181246047624\n",
      "5.376737814455543\n"
     ]
    }
   ],
   "source": [
    "import random,math\n",
    "n=int(input('请输入随机数字的个数，以回车键结束'))\n",
    "m=int(input('请输入一个大于0的整数，作为神秘整数的下界，回车结束。'))\n",
    "k=int(input('请输入一个大于0的整数，作为神秘整数的上界，回车结束。'))\n",
    "h=0\n",
    "total=0\n",
    "total1=0\n",
    "while h<n:\n",
    "    b=random.randint(m,k)\n",
    "    total+=math.log(b,10)\n",
    "    s=math.log(b,10)\n",
    "    total1+=1/s\n",
    "    h+=1\n",
    "print(total)\n",
    "print(total1)"
   ]
  },
  {
   "cell_type": "code",
   "execution_count": 10,
   "metadata": {
    "collapsed": false
   },
   "outputs": [
    {
     "name": "stdout",
     "output_type": "stream",
     "text": [
      "请输入随机数字相加的个数，以回车键结束5\n",
      "49380\n"
     ]
    }
   ],
   "source": [
    "n=int(input('请输入随机数字相加的个数，以回车键结束'))\n",
    "a=random.randint(1,9)\n",
    "h=0\n",
    "s=0\n",
    "p=1\n",
    "while h<n:\n",
    "    total=p*a\n",
    "    s+=total\n",
    "    p=p*10+1\n",
    "    h=h+1\n",
    "print(s)"
   ]
  },
  {
   "cell_type": "code",
   "execution_count": null,
   "metadata": {
    "collapsed": true
   },
   "outputs": [],
   "source": []
  }
 ],
 "metadata": {
  "kernelspec": {
   "display_name": "Python 3",
   "language": "python",
   "name": "python3"
  },
  "language_info": {
   "codemirror_mode": {
    "name": "ipython",
    "version": 3
   },
   "file_extension": ".py",
   "mimetype": "text/x-python",
   "name": "python",
   "nbconvert_exporter": "python",
   "pygments_lexer": "ipython3",
   "version": "3.6.0"
  }
 },
 "nbformat": 4,
 "nbformat_minor": 2
}
