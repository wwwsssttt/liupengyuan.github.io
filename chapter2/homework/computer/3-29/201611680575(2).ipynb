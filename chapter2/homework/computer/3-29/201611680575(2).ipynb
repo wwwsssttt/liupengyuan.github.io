{
 "cells": [
  {
   "cell_type": "code",
   "execution_count": null,
   "metadata": {
    "collapsed": false
   },
   "outputs": [
    {
     "name": "stdout",
     "output_type": "stream",
     "text": [
      "please enter a numbers3\n",
      "please enter a numbers3\n",
      "please enter a numbers3\n",
      "the result is:  18\n"
     ]
    }
   ],
   "source": [
    "#practice 1\n",
    "def multiple(end):\n",
    "    i=1\n",
    "    mul=1\n",
    "    while i<=end :\n",
    "        mul*=i\n",
    "        i+=1\n",
    "    return mul\n",
    "n1=int(input(\"please enter a numbers\"))\n",
    "n2=int(input(\"please enter a numbers\"))\n",
    "n3=int(input(\"please enter a numbers\"))\n",
    "print('the result is: ',multiple(n1)+multiple(n2)+multiple(n3))"
   ]
  },
  {
   "cell_type": "code",
   "execution_count": 2,
   "metadata": {
    "collapsed": false
   },
   "outputs": [
    {
     "name": "stdout",
     "output_type": "stream",
     "text": [
      "17.742530693340424    26.952870981991452\n"
     ]
    }
   ],
   "source": [
    "#practice 2\n",
    "def add(end):\n",
    "    temp=1\n",
    "    bla=0\n",
    "    while temp<=2*end-1 :\n",
    "        bla+=1/temp\n",
    "        temp+=2\n",
    "    return bla\n",
    "print(4*add(1000),4*add(100000),sep='    ')"
   ]
  },
  {
   "cell_type": "code",
   "execution_count": 3,
   "metadata": {
    "collapsed": false
   },
   "outputs": [
    {
     "name": "stdout",
     "output_type": "stream",
     "text": [
      "please enter your name: xie\n",
      "please enter the month of your birth9\n",
      "please enter the day of your birth28\n",
      "xie , you are 天秤座!\n",
      "有生之年居然碰到信星座的猿……\n",
      "None\n",
      "please enter the a verb: go\n",
      "goes\n"
     ]
    }
   ],
   "source": [
    "## practice 3\n",
    "def con (month,day):\n",
    "    if (month==1 and day>=20) or(month==2 and day<=18)  :\n",
    "        print(name,\", you are 水瓶座!\")\n",
    "    if (month==2 and day>=19) or(month==3 and day<=20)  :\n",
    "        print(name,\", you are 双鱼座!\")\n",
    "    if (month==3 and day>=21) or(month==4 and day<=19)  :\n",
    "        print(name,\", you are 白羊座!\")\n",
    "    if (month==4 and day>=20) or(month==5 and day<=20)  :\n",
    "        print(name,\", you are 金牛座!\")\n",
    "    if (month==5 and day>=21) or(month==6 and day<=21)  :\n",
    "        print(name,\", you are 双子座!\")\n",
    "    if (month==6 and day>=22) or(month==7 and day<=22)  :\n",
    "        print(name,\", you are 巨蟹座!\")\n",
    "    if (month==7 and day>=23) or(month==8 and day<=22)  :\n",
    "        print(name,\", you are 狮子座!\")\n",
    "    if (month==8 and day>=23) or(month==9 and day<=22)  :\n",
    "        print(name,\", you are 处女座!\")\n",
    "    if (month==9 and day>=23) or(month==10 and day<=23)  :\n",
    "        print(name,\", you are 天秤座!\")\n",
    "    if (month==10 and day>=24) or(month==11 and day<=22)  :\n",
    "        print(name,\", you are 天蝎座!\")\n",
    "    if (month==11 and day>=23) or(month==12 and day<=21)  :\n",
    "        print(name,\", you are 射手座!\")\n",
    "    if (month==12 and day>=22) or(month==1 and day<=19)  :\n",
    "        print(name,\", you are 摩羯座!\")\n",
    "    print(\"有生之年居然碰到信星座的猿……\")\n",
    "    \n",
    "def convert(word) :\n",
    "    if word==\"have\" :\n",
    "        print(\"has\")\n",
    "    elif word==\"is\" or word==\"am\" or word==\"are\" :\n",
    "        print(\"is\")\n",
    "    elif word.endswith('o') :\n",
    "        print(word,\"es\",sep='')\n",
    "    elif word.endswith('s') or word.endswith('x') or word.endswith('sh') or word.endswith('ch') or word.endswith('e') :\n",
    "        print(word,'es',sep='')\n",
    "    elif ((word.endswith('ay') or word.endswith('ey') or word.endswith('iy') or word.endswith('oy') or word.endswith('uy'))!=1) and word.endswith('y') :\n",
    "        print(word[:-1],'ies',sep='')\n",
    "    else :\n",
    "        print(word,\"s\",sep='')\n",
    "    \n",
    "name=input('please enter your name: ')\n",
    "month=int(input(\"please enter the month of your birth\"))\n",
    "day=int(input(\"please enter the day of your birth\"))\n",
    "print(con(month,day))\n",
    "word=input('please enter the a verb: ')\n",
    "convert(word)"
   ]
  },
  {
   "cell_type": "code",
   "execution_count": null,
   "metadata": {
    "collapsed": true
   },
   "outputs": [],
   "source": [
    "## challenge\n",
    "def add(begin,end,gap) :\n",
    "    i=begin\n",
    "    total=0\n",
    "    while i<=end :\n",
    "        total+=i\n",
    "        i+=gap\n",
    "    return total\n",
    "m=int(input('please enter m :'))\n",
    "n=int(input('please enter n :'))\n",
    "k=int(input('please enter k :'))\n",
    "print('the total is : ',add(m,n,k))"
   ]
  },
  {
   "cell_type": "code",
   "execution_count": null,
   "metadata": {
    "collapsed": true
   },
   "outputs": [],
   "source": []
  }
 ],
 "metadata": {
  "kernelspec": {
   "display_name": "Python 3",
   "language": "python",
   "name": "python3"
  },
  "language_info": {
   "codemirror_mode": {
    "name": "ipython",
    "version": 3
   },
   "file_extension": ".py",
   "mimetype": "text/x-python",
   "name": "python",
   "nbconvert_exporter": "python",
   "pygments_lexer": "ipython3",
   "version": "3.6.0"
  }
 },
 "nbformat": 4,
 "nbformat_minor": 2
}
