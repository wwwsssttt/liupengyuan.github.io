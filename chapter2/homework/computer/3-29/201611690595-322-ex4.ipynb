{
 "cells": [
  {
   "cell_type": "code",
   "execution_count": 4,
   "metadata": {
    "collapsed": false
   },
   "outputs": [
    {
     "name": "stdout",
     "output_type": "stream",
     "text": [
      "请输入要输入的整数个数，以回车结束：3\n",
      "请输入一个整数，以回车结束：2\n",
      "请输入一个整数，以回车结束：4\n",
      "请输入一个整数，以回车结束：3\n",
      "3\n"
     ]
    }
   ],
   "source": [
    "m = int(input('请输入要输入的整数个数，以回车结束：'))\n",
    "i = 0\n",
    "max1 = 0\n",
    "max2 = 0\n",
    "k = int(input('请输入一个整数，以回车结束：'))\n",
    "n = int(input('请输入一个整数，以回车结束：'))\n",
    "if(k > n):\n",
    "    max1 = k\n",
    "    max2 = n\n",
    "else:\n",
    "    max1 = n\n",
    "    max2 = k\n",
    "\n",
    "while i < (m-2):\n",
    "    w = int(input('请输入一个整数，以回车结束：'))\n",
    "    if((w >= max2) and (w < max1)):\n",
    "        max2 = w\n",
    "    elif(w >= max1):\n",
    "        max1 = w\n",
    "    i = i+1\n",
    "    \n",
    "print(max2)\n",
    "    \n"
   ]
  }
 ],
 "metadata": {
  "kernelspec": {
   "display_name": "Python 3",
   "language": "python",
   "name": "python3"
  },
  "language_info": {
   "codemirror_mode": {
    "name": "ipython",
    "version": 3
   },
   "file_extension": ".py",
   "mimetype": "text/x-python",
   "name": "python",
   "nbconvert_exporter": "python",
   "pygments_lexer": "ipython3",
   "version": "3.6.0"
  }
 },
 "nbformat": 4,
 "nbformat_minor": 2
}
