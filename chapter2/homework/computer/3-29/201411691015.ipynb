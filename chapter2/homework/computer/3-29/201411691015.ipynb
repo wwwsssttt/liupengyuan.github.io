{
 "cells": [
  {
   "cell_type": "code",
   "execution_count": 1,
   "metadata": {
    "collapsed": false
   },
   "outputs": [
    {
     "name": "stdout",
     "output_type": "stream",
     "text": [
      "请输入第一个整数，回车结束3\n",
      "请输入第二个整数，回车结束4\n",
      "请输入第三个整数，回车结束5\n",
      "tatol = 150\n"
     ]
    }
   ],
   "source": [
    "#练习 1：仿照求$ \\sum_{i=1}^mi + \\sum_{i=1}^ni  + \\sum_{i=1}^ki$的完整代码，写程序，可求m!+n!+k!\n",
    "def computer_sum(num):\n",
    "    i = 1\n",
    "    total = 1\n",
    "    while i <= num:\n",
    "        total *= i\n",
    "        i += 1\n",
    "    return total\n",
    "\n",
    "m = int(input('请输入第一个整数，回车结束'))\n",
    "n = int(input('请输入第二个整数，回车结束'))\n",
    "k = int(input('请输入第三个整数，回车结束'))\n",
    "print ('tatol =',computer_sum(m)+computer_sum(n)+computer_sum(k))"
   ]
  },
  {
   "cell_type": "code",
   "execution_count": 2,
   "metadata": {
    "collapsed": false
   },
   "outputs": [
    {
     "name": "stdout",
     "output_type": "stream",
     "text": [
      "请输入第一个整数，回车结束  1000\n",
      "4倍的和：tatol1 = 3.140592653839794\n",
      "请输入第二个整数，回车结束  10000\n",
      "4倍的和：tatol2 = 3.1414926535900345\n"
     ]
    }
   ],
   "source": [
    "#练习 2：写函数可返回1 - 1/3 + 1/5 - 1/7...的前n项的和。在主程序中，分别令n=1000及100000，打印4倍该函数的和。\n",
    "def computer_add(num):\n",
    "    i = 0\n",
    "    total = 0\n",
    "    while i < num:\n",
    "        j = 2*i + 1\n",
    "        i +=1\n",
    "        if i%2 != 0:\n",
    "            total += 1/j\n",
    "        else:\n",
    "            total -= 1/j\n",
    "    return total\n",
    "\n",
    "m = int(input('请输入第一个整数，回车结束  '))\n",
    "print ('4倍的和：tatol1 =',4*computer_add(m))\n",
    "n = int(input('请输入第二个整数，回车结束  '))\n",
    "print ('4倍的和：tatol2 =',4*computer_add(n))"
   ]
  },
  {
   "cell_type": "code",
   "execution_count": 3,
   "metadata": {
    "collapsed": false
   },
   "outputs": [
    {
     "name": "stdout",
     "output_type": "stream",
     "text": [
      "请输入你的姓名，回车结束  lll\n",
      "请输入你生日的月份，回车结束  4\n",
      "请输入你生日的日号，回车结束  5\n",
      "lll,你是非常有性格的白羊座！\n"
     ]
    }
   ],
   "source": [
    "#练习 3：将task3中的练习1及练习4改写为函数，并进行调用。\n",
    "#练习 1：写程序，可由键盘读入用户姓名例如Mr. right，让用户输入出生的月份与日期，判断用户星座，\n",
    "#假设用户是金牛座，则输出，Mr. right，你是非常有性格的金牛座！。\n",
    "def constellation(name,birthday_month,birthday_day):\n",
    "    if birthday_month > 12 or birthday_month < 1 or birthday_day < 1 or birthday_day > 31:\n",
    "        print ('你输入的数字非法！')\n",
    "    if (birthday_month == 3 and 21<=birthday_day<=31) or (birthday_month == 4 and 1<=birthday_day<=19):\n",
    "        print (name,'你是非常有性格的白羊座！',sep = ',')\n",
    "    elif (birthday_month == 4 and 20<=birthday_day<=30) or (birthday_month == 5 and 1<=birthday_day<=20):\n",
    "        print (name,'你是非常有性格的金牛座！',sep = ',')\n",
    "    elif (birthday_month == 5 and 21<=birthday_day<=31) or (birthday_month == 6 and 1<=birthday_day<=21):\n",
    "        print (name,'你是非常有性格的双子座！',sep = ',')\n",
    "    elif (birthday_month == 6 and 22<=birthday_day<=30) or (birthday_month == 7 and 1<=birthday_day<=22):\n",
    "        print (name,'你是非常有性格的巨蟹座！',sep = ',')\n",
    "    elif (birthday_month == 7 and 23<=birthday_day<=31) or (birthday_month == 8 and 1<=birthday_day<=22):\n",
    "        print (name,'你是非常有性格的狮子座！',sep = ',')\n",
    "    elif (birthday_month == 8 and 23<=birthday_day<=31) or (birthday_month == 9 and 1<=birthday_day<=22):\n",
    "        print (name,'你是非常有性格的处女座！',sep = ',')\n",
    "    elif (birthday_month == 9 and 23<=birthday_day<=30) or (birthday_month == 10 and 1<=birthday_day<=23):\n",
    "        print (name,'你是非常有性格的天秤座！',sep = ',')\n",
    "    elif (birthday_month == 10 and 24<=birthday_day<=31) or (birthday_month == 11 and 1<=birthday_day<=22):\n",
    "        print (name,'你是非常有性格的天蝎座！',sep = ',')\n",
    "    elif (birthday_month == 11 and 23<=birthday_day<=30) or (birthday_month == 12 and 1<=birthday_day<=21):\n",
    "        print (name,'你是非常有性格的射手座！',sep = ',')\n",
    "    elif (birthday_month == 12 and 22<=birthday_day<=31) or (birthday_month == 1 and 1<=birthday_day<=19):\n",
    "        print (name,'你是非常有性格的魔蝎座！',sep = ',')\n",
    "    elif (birthday_month == 1 and 20<=birthday_day<=31) or (birthday_month == 2 and 1<=birthday_day<=18):\n",
    "        print (name,'你是非常有性格的水瓶座！',sep = ',')\n",
    "    elif (birthday_month == 2 and 19<=birthday_day<=28) or (birthday_month == 3 and 1<=birthday_day<=20):\n",
    "        print (name,'你是非常有性格的双鱼座！',sep = ',')\n",
    "        \n",
    "name = input('请输入你的姓名，回车结束  ')\n",
    "birthday_month = int(input('请输入你生日的月份，回车结束  '))\n",
    "birthday_day = int(input('请输入你生日的日号，回车结束  '))\n",
    "constellation(name,birthday_month,birthday_day)"
   ]
  },
  {
   "cell_type": "code",
   "execution_count": 4,
   "metadata": {
    "collapsed": false
   },
   "outputs": [
    {
     "name": "stdout",
     "output_type": "stream",
     "text": [
      "请输入一个要转换的英语单词，回车结束,输入‘q’结束  book\n",
      "books\n",
      "请输入一个要转换的英语单词，回车结束,输入‘q’结束  live\n",
      "lives\n",
      "请输入一个要转换的英语单词，回车结束,输入‘q’结束  fish\n",
      "fishes\n",
      "请输入一个要转换的英语单词，回车结束,输入‘q’结束  q\n"
     ]
    }
   ],
   "source": [
    "#练习 3：将task3中的练习1及练习4改写为函数，并进行调用。\n",
    "#练习 4：英文单词单数转复数，要求输入一个英文动词（单数形式），能够得到其复数形式，或给出单数转复数形式的建议\n",
    "#（提示，some_string.endswith(some_letter)函数可以判断某字符串结尾字符）。\n",
    "\n",
    "#写成英语名词了，就不写动词了\n",
    "\n",
    "def sin_to_plu(Eng_word):\n",
    "    if Eng_word.endswith('s') or Eng_word.endswith('x') or Eng_word.endswith('sh') or Eng_word.endswith('ch'):\n",
    "        print (Eng_word+'es')\n",
    "    elif Eng_word.endswith('y'):\n",
    "        print (Eng_word[0:len(Eng_word)-1]+'ies')\n",
    "    elif Eng_word.endswith('f') or Eng_word.endswith('fe'):\n",
    "        if Eng_word == 'safe' or Eng_word == 'roof': #这特殊情况能列举完吗？？？\n",
    "            print (Eng_word+'s')\n",
    "        elif(Eng_word.endswith('f')):\n",
    "            print (Eng_word[0:len(Eng_word)-1]+'ves')\n",
    "        else :\n",
    "            print (Eng_word[0:len(Eng_word)-2]+'ves')\n",
    "    elif Eng_word.endswith('o'):\n",
    "        if Eng_word == 'tomato' or Eng_word == 'tomato' or Eng_word == 'hero' or Eng_word == 'negro':  #这特殊情况能列举完吗？？？\n",
    "            print (Eng_word+'es')\n",
    "        else :\n",
    "            print (Eng_word+'s')\n",
    "    #elif #不规则的单词 就不写了\n",
    "    else :\n",
    "        print (Eng_word+'s')\n",
    "        \n",
    "while True :\n",
    "    Eng_word = input('请输入一个要转换的英语单词，回车结束,输入‘q’结束  ')\n",
    "    if Eng_word == 'q':\n",
    "        break\n",
    "    sin_to_plu(Eng_word)"
   ]
  },
  {
   "cell_type": "code",
   "execution_count": 5,
   "metadata": {
    "collapsed": false
   },
   "outputs": [
    {
     "name": "stdout",
     "output_type": "stream",
     "text": [
      "请输入第一个整数即m，回车结束  2\n",
      "请输入第二个整数即n，回车结束  12\n",
      "请输入第三个整数即k，回车结束  3\n",
      "tatol = 14\n"
     ]
    }
   ],
   "source": [
    "#挑战性练习：写程序，可以求从整数m到整数n累加的和，间隔为k，求和部分需用函数实现，主程序中由用户输入m，n，k调用函数验证正确性。\n",
    "def computer_sum(m,n,k):\n",
    "    while m <= n:\n",
    "        m += k\n",
    "    return m\n",
    "\n",
    "m = int(input('请输入第一个整数即m，回车结束  '))\n",
    "n = int(input('请输入第二个整数即n，回车结束  '))\n",
    "k = int(input('请输入第三个整数即k，回车结束  '))\n",
    "print ('tatol =',computer_sum(m,n,k))"
   ]
  }
 ],
 "metadata": {
  "kernelspec": {
   "display_name": "Python 3",
   "language": "python",
   "name": "python3"
  },
  "language_info": {
   "codemirror_mode": {
    "name": "ipython",
    "version": 3
   },
   "file_extension": ".py",
   "mimetype": "text/x-python",
   "name": "python",
   "nbconvert_exporter": "python",
   "pygments_lexer": "ipython3",
   "version": "3.6.0"
  }
 },
 "nbformat": 4,
 "nbformat_minor": 2
}
