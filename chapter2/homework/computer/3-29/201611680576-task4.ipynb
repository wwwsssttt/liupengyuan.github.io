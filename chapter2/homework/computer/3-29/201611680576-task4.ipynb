{
 "cells": [
  {
   "cell_type": "code",
   "execution_count": 3,
   "metadata": {
    "collapsed": false
   },
   "outputs": [
    {
     "name": "stdout",
     "output_type": "stream",
     "text": [
      "请输入第1个整数，以回车结束。3\n",
      "请输入第2个整数，以回车结束。4\n",
      "请输入第3个整数，以回车结束。5\n",
      "最终的和是： 150\n"
     ]
    }
   ],
   "source": [
    "#练习 1：仿照求 ∑mi=1i+∑ni=1i+∑ki=1i∑i=1mi+∑i=1ni+∑i=1ki 的完整代码，写程序，可求m!+n!+k!\n",
    "n = int(input('请输入第1个整数，以回车结束。'))\n",
    "i = 0\n",
    "total_n = 1\n",
    "while i < n:\n",
    "    i = i + 1\n",
    "    total_n = total_n*i\n",
    "\n",
    "m = int(input('请输入第2个整数，以回车结束。'))\n",
    "i = 0\n",
    "total_m = 1\n",
    "while i < m:\n",
    "    i = i + 1\n",
    "    total_m = total_m*i\n",
    "\n",
    "k = int(input('请输入第3个整数，以回车结束。'))\n",
    "i = 0\n",
    "total_k = 1\n",
    "while i < k:\n",
    "    i = i + 1\n",
    "    total_k = total_k*i\n",
    "\n",
    "print('最终的和是：', total_n + total_m + total_k)"
   ]
  },
  {
   "cell_type": "code",
   "execution_count": 6,
   "metadata": {
    "collapsed": false
   },
   "outputs": [
    {
     "name": "stdout",
     "output_type": "stream",
     "text": [
      "387.09921934852457\n",
      "974.2971391280846\n"
     ]
    }
   ],
   "source": [
    "#练习 2：写函数可返回1-1/3+1/5-1/7...的前n项的和。在主程序中，分别令n=1000及100000，打印4倍该函数的和。\n",
    "import math\n",
    "def qiuhe(n):\n",
    "    sum=0\n",
    "    i=0\n",
    "    y=0\n",
    "    while i<n:\n",
    "        i=i+1\n",
    "        sum=sum+pow(-1,y)*(1/(y+1))\n",
    "        y=y+2\n",
    "    return sum\n",
    "print(pow(qiuhe(1000),4))\n",
    "print(pow(qiuhe(10000),4))\n",
    "        \n",
    "        "
   ]
  },
  {
   "cell_type": "code",
   "execution_count": 26,
   "metadata": {
    "collapsed": false
   },
   "outputs": [
    {
     "name": "stdout",
     "output_type": "stream",
     "text": [
      "请输入你的名字yyy\n",
      "请输入你的出生月份8\n",
      "请输入你的出生日子22\n",
      "yyy\n",
      "你是有王者气质的狮子座\n"
     ]
    }
   ],
   "source": [
    "#练习 3：将task3中的练习1改写为函数，并进行调用\n",
    "def star(m,n):\n",
    "    if (m==3 and n>=21)or(m==4 and n<=19):\n",
    "        print('你是率真坦白的白羊座')\n",
    "    if (m==4 and n>=20)or(m==5 and n<=20):\n",
    "        print('你是你是非常有性格的金牛座')\n",
    "    if (m==5 and n>=21)or(m==6 and n<=21):\n",
    "        print('你是精灵鬼怪的双子座')\n",
    "    if (m==6 and n>=22)or(m==7 and n<=22):\n",
    "        print('你是温柔有爱心的巨蟹座')\n",
    "    if (m==7 and n>=23)or(m==8 and n<=22):\n",
    "        print('你是有王者气质的狮子座')\n",
    "    if(m==8 and n>=23)or(m==9 and n<=22):\n",
    "        print('你是追求完美的处女座')\n",
    "    if (m==9 and n>=23)or(m==10 and n<=23):\n",
    "        print('你是爱好和平的天秤座')\n",
    "    if (m==10 and n>=24)or(m==11 and n<=22):\n",
    "        print('你是心思缜密的天蝎座')\n",
    "    if (m==11 and n>=23)or(m==12 and n<=21):\n",
    "        print('你是热爱自由的射手座')\n",
    "    if (m==12 and n>=22)or(m==1 and n<=19):\n",
    "        print('你是脚踏实地的摩羯座')\n",
    "    if (m==1 and n>=20)or(m==2 and n<=18):\n",
    "        print('你是理性独立的水瓶座')\n",
    "    if (m==2 and n>=19)or(m==3 and n<=20):\n",
    "        print('你是浪漫温柔的双鱼座')\n",
    "\n",
    "x=input('请输入你的名字')\n",
    "a=int(input('请输入你的出生月份'))\n",
    "b=int(input('请输入你的出生日子'))\n",
    "print(x)\n",
    "star(a,b)\n",
    "\n",
    "    \n",
    "        "
   ]
  },
  {
   "cell_type": "code",
   "execution_count": 31,
   "metadata": {
    "collapsed": false
   },
   "outputs": [
    {
     "name": "stdout",
     "output_type": "stream",
     "text": [
      "输入单词shich\n",
      "shiches\n"
     ]
    }
   ],
   "source": [
    "#练习 3：将task3中的练习4改写为函数，并进行调用\n",
    "def change(word):  \n",
    "    if word.endswith('y'):  \n",
    "        return word[:-1] + 'ies'  \n",
    "    elif word[-1] in ('s'or'x') or word[-2:] in ['sh', 'ch']:  \n",
    "        return word + 'es'  \n",
    "    elif word.endswith('f') or word[-2:] in ['fe']:  \n",
    "        return word[:-2] + 'ves'  \n",
    "    else:  \n",
    "        return word + 's'\n",
    "x=input('输入单词')\n",
    "print(change(x))"
   ]
  },
  {
   "cell_type": "code",
   "execution_count": 35,
   "metadata": {
    "collapsed": false
   },
   "outputs": [
    {
     "name": "stdout",
     "output_type": "stream",
     "text": [
      "请输入一个整数10\n",
      "请输入另一个整数100\n",
      "请输入他们之间的间隔10\n",
      "550\n"
     ]
    }
   ],
   "source": [
    "#写程序，可以求从整数m到整数n累加的和，间隔为k，求和部分需用函数实现，主程序中由用户输入m，n，k调用函数验证正确性。\n",
    "def qiuhe(m,n,k):\n",
    "    sum=0\n",
    "    while m<=n:\n",
    "        sum=m+sum\n",
    "        m=m+k\n",
    "    return sum\n",
    "a=int(input('请输入一个整数'))\n",
    "b=int(input('请输入另一个整数'))\n",
    "c=int(input('请输入他们之间的间隔'))\n",
    "print(qiuhe(a,b,c))\n",
    "        "
   ]
  }
 ],
 "metadata": {
  "kernelspec": {
   "display_name": "Python 3",
   "language": "python",
   "name": "python3"
  },
  "language_info": {
   "codemirror_mode": {
    "name": "ipython",
    "version": 3
   },
   "file_extension": ".py",
   "mimetype": "text/x-python",
   "name": "python",
   "nbconvert_exporter": "python",
   "pygments_lexer": "ipython3",
   "version": "3.6.0"
  }
 },
 "nbformat": 4,
 "nbformat_minor": 2
}
