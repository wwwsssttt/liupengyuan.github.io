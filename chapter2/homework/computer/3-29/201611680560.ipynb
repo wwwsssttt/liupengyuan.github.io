{
 "cells": [
  {
   "cell_type": "code",
   "execution_count": 1,
   "metadata": {
    "collapsed": false
   },
   "outputs": [
    {
     "name": "stdout",
     "output_type": "stream",
     "text": [
      "请输入一个整数:3\n",
      "请输入一个整数:3\n",
      "请输入一个整数:3\n",
      "18\n"
     ]
    }
   ],
   "source": [
    "def jiecheng(end):\n",
    "    i=0\n",
    "    total=1\n",
    "    while i<end:\n",
    "        i+=1\n",
    "        total*=i\n",
    "    return total\n",
    "\n",
    "m=int(input(\"请输入一个整数:\"))\n",
    "n=int(input(\"请输入一个整数:\"))\n",
    "k=int(input(\"请输入一个整数:\"))\n",
    "print(jiecheng(m)+jiecheng(n)+jiecheng(k))"
   ]
  },
  {
   "cell_type": "code",
   "execution_count": 26,
   "metadata": {
    "collapsed": false
   },
   "outputs": [
    {
     "name": "stdout",
     "output_type": "stream",
     "text": [
      "3.140592653839794\n",
      "3.1415826535897198\n"
     ]
    }
   ],
   "source": [
    "def qiuhe(end):\n",
    "    i = 0\n",
    "    sum = 0\n",
    "    flag = -1\n",
    "    while i < end:\n",
    "        i+=1\n",
    "        sum += 1.0/(flag**(i+1)*(2*i-1))\n",
    "    return sum\n",
    "\n",
    "n=1000\n",
    "print(4*qiuhe(n))\n",
    "m=100000\n",
    "print(4*qiuhe(m))"
   ]
  },
  {
   "cell_type": "code",
   "execution_count": 28,
   "metadata": {
    "collapsed": false
   },
   "outputs": [
    {
     "name": "stdout",
     "output_type": "stream",
     "text": [
      "请输入姓名,以回车结束:lhf\n",
      "请输入出生日期:6.15\n",
      "lhf 你是可爱的双子座!\n"
     ]
    }
   ],
   "source": [
    "def xingzuo(name,date):\n",
    "    if  1.20 <= date <= 2.18:\n",
    "        print(name,\"你是可爱的水瓶座!\")\n",
    "    elif 2.19 <= date <= 3.20:\n",
    "        print(name,\"你是可爱的双鱼座!\")\n",
    "    elif 3.21 <= date <= 4.19:\n",
    "        print(name,\"你是可爱的白羊座!\")\n",
    "    elif 4.20 <= date <= 5.20:\n",
    "        print(name,\"你是可爱的金牛座!\")\n",
    "    elif 5.21 <= date <= 6.21:\n",
    "        print(name,\"你是可爱的双子座!\")\n",
    "    elif 6.22 <= date <= 7.22:\n",
    "        print(name,\"你是可爱的巨蟹座!\")\n",
    "    elif 7.23 <= date <= 8.22:\n",
    "        print(name,\"你是可爱的狮子座!\")\n",
    "    elif 8.23 <= date <= 9.22:\n",
    "        print(name,\"你是可爱的处女座!\")\n",
    "    elif 9.23 <= date <= 10.23:\n",
    "        print(name,\"你是可爱的天平座!\")\n",
    "    elif 10.24 <= date <= 11.22:\n",
    "        print(name,\"你是可爱的天蝎座!\")\n",
    "    elif 11.23 <= date <= 12.21:\n",
    "        print(name,\"你是可爱的射手座!\")\n",
    "    else :\n",
    "        print(name,\"你是可爱的摩羯座!\")\n",
    "\n",
    "name=input(\"请输入姓名,以回车结束:\")\n",
    "date=float(input(\"请输入出生日期:\"))\n",
    "xingzuo(name,date)"
   ]
  },
  {
   "cell_type": "code",
   "execution_count": 30,
   "metadata": {
    "collapsed": false
   },
   "outputs": [
    {
     "name": "stdout",
     "output_type": "stream",
     "text": [
      "请输入一个英文单词：photo\n",
      "photoes\n"
     ]
    }
   ],
   "source": [
    "def danci(word):\n",
    "    if word.endswith('x') or word.endswith('o'):\n",
    "        print(word,\"es\",sep=\"\")\n",
    "    elif word.endswith('ch') or word.endswith('sh'):\n",
    "        print(word,\"es\",sep=\"\")\n",
    "    else :\n",
    "        print(word,\"s\",sep=\"\")\n",
    "        \n",
    "word=input(\"请输入一个英文单词：\")\n",
    "danci(word)"
   ]
  },
  {
   "cell_type": "code",
   "execution_count": 34,
   "metadata": {
    "collapsed": false
   },
   "outputs": [
    {
     "name": "stdout",
     "output_type": "stream",
     "text": [
      "请输入一个整数：1\n",
      "请输入一个整数：8\n",
      "请输入求和间隔：2\n",
      "16\n"
     ]
    }
   ],
   "source": [
    "def leijia(m,n,k):\n",
    "    if m>n:\n",
    "        temp=m\n",
    "        m=n\n",
    "        n=temp\n",
    "    sum=0\n",
    "    while m < n:\n",
    "        sum += m\n",
    "        m += k\n",
    "    return sum\n",
    "    \n",
    "m=int(input(\"请输入一个整数：\"))\n",
    "n=int(input(\"请输入一个整数：\"))\n",
    "k=int(input(\"请输入求和间隔：\"))\n",
    "print(leijia(m,n,k))"
   ]
  }
 ],
 "metadata": {
  "kernelspec": {
   "display_name": "Python 3",
   "language": "python",
   "name": "python3"
  },
  "language_info": {
   "codemirror_mode": {
    "name": "ipython",
    "version": 3
   },
   "file_extension": ".py",
   "mimetype": "text/x-python",
   "name": "python",
   "nbconvert_exporter": "python",
   "pygments_lexer": "ipython3",
   "version": "3.6.0"
  }
 },
 "nbformat": 4,
 "nbformat_minor": 2
}
