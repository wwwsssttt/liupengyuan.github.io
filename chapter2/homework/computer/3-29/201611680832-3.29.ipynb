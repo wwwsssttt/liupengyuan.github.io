{
 "cells": [
  {
   "cell_type": "code",
   "execution_count": 2,
   "metadata": {
    "collapsed": false
   },
   "outputs": [
    {
     "name": "stdout",
     "output_type": "stream",
     "text": [
      "请输入第1个整数，以回车结束。3\n",
      "请输入第2个整数，以回车结束。2\n",
      "请输入第3个整数，以回车结束。4\n",
      "最终的和是： 32\n"
     ]
    }
   ],
   "source": [
    "def compute_sum(end):\n",
    "    i = 0\n",
    "    total_n = 1\n",
    "\n",
    "    while i < end:\n",
    "        i = i + 1\n",
    "        total_n = total_n * i\n",
    "\n",
    "    return total_n\n",
    "\n",
    "n = int(input('请输入第1个整数，以回车结束。'))\n",
    "m = int(input('请输入第2个整数，以回车结束。'))\n",
    "k = int(input('请输入第3个整数，以回车结束。'))\n",
    "\n",
    "print('最终的和是：', compute_sum(m) + compute_sum(n) + compute_sum(k))"
   ]
  },
  {
   "cell_type": "code",
   "execution_count": 6,
   "metadata": {
    "collapsed": false
   },
   "outputs": [
    {
     "name": "stdout",
     "output_type": "stream",
     "text": [
      "请输入1个整数，以回车结束。3\n",
      "最终的和是： 0.8666666666666667\n"
     ]
    }
   ],
   "source": [
    "\n",
    "def compute_sum(end):\n",
    "    i = 0\n",
    "    total_n = 0\n",
    "\n",
    "    while i < end:\n",
    "        \n",
    "        i = i + 1\n",
    "        if i%2==0:\n",
    "            total_n = total_n - 1/(i*2-1)\n",
    "        else: \n",
    "            total_n = total_n + 1/(i*2-1)\n",
    "    return total_n\n",
    "\n",
    "m = int(input('请输入1个整数，以回车结束。'))\n",
    "\n",
    "print('最终的和是：', compute_sum(m))"
   ]
  }
 ],
 "metadata": {
  "kernelspec": {
   "display_name": "Python 3",
   "language": "python",
   "name": "python3"
  },
  "language_info": {
   "codemirror_mode": {
    "name": "ipython",
    "version": 3
   },
   "file_extension": ".py",
   "mimetype": "text/x-python",
   "name": "python",
   "nbconvert_exporter": "python",
   "pygments_lexer": "ipython3",
   "version": "3.6.0"
  }
 },
 "nbformat": 4,
 "nbformat_minor": 2
}
