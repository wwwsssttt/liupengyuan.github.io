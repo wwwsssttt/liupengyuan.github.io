{
 "cells": [
  {
   "cell_type": "code",
   "execution_count": 9,
   "metadata": {
    "collapsed": false
   },
   "outputs": [
    {
     "name": "stdout",
     "output_type": "stream",
     "text": [
      "please enter the forst integer,end with a tab: 2\n",
      "please enter the second integer,end with a tab: 10\n",
      "please enter the third integer,end with a tab: 1\n",
      "54\n"
     ]
    }
   ],
   "source": [
    "def sumup(m,n,k):\n",
    "    total = 0\n",
    "    \n",
    "    if m >= n:\n",
    "        temp = m\n",
    "        m = n\n",
    "        n = temp\n",
    "    \n",
    "    total = m\n",
    "    while m < n:\n",
    "        m = m + k\n",
    "        total = total + m\n",
    "    return total\n",
    "\n",
    "m = int(input('please enter the forst integer,end with a tab: '))\n",
    "n = int(input('please enter the second integer,end with a tab: '))\n",
    "k = int(input('please enter the third integer,end with a tab: '))\n",
    "print(sumup(m,n,k))\n",
    "        \n",
    "        \n",
    "    \n",
    "    "
   ]
  }
 ],
 "metadata": {
  "kernelspec": {
   "display_name": "Python 3",
   "language": "python",
   "name": "python3"
  },
  "language_info": {
   "codemirror_mode": {
    "name": "ipython",
    "version": 3
   },
   "file_extension": ".py",
   "mimetype": "text/x-python",
   "name": "python",
   "nbconvert_exporter": "python",
   "pygments_lexer": "ipython3",
   "version": "3.6.0"
  }
 },
 "nbformat": 4,
 "nbformat_minor": 2
}
