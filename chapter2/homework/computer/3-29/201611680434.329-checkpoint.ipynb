{
 "cells": [
  {
   "cell_type": "code",
   "execution_count": 1,
   "metadata": {
    "collapsed": false
   },
   "outputs": [
    {
     "name": "stdout",
     "output_type": "stream",
     "text": [
      "请输入第1个整数，以回车结束。3\n",
      "请输入第2个整数，以回车结束。4\n",
      "请输入第3个整数，以回车结束。5\n",
      "最终的和是： 150\n"
     ]
    }
   ],
   "source": [
    "def compute_sum(end):\n",
    "    i = 1\n",
    "    total_n = 1\n",
    "\n",
    "    while i < end:\n",
    "        i = i + 1\n",
    "        total_n = total_n * i\n",
    "\n",
    "    return total_n\n",
    "\n",
    "n = int(input('请输入第1个整数，以回车结束。'))\n",
    "m = int(input('请输入第2个整数，以回车结束。'))\n",
    "k = int(input('请输入第3个整数，以回车结束。'))\n",
    "\n",
    "print('最终的和是：', compute_sum(m) + compute_sum(n) + compute_sum(k))\n"
   ]
  },
  {
   "cell_type": "code",
   "execution_count": 3,
   "metadata": {
    "collapsed": false
   },
   "outputs": [
    {
     "name": "stdout",
     "output_type": "stream",
     "text": [
      "请输入第一个整数，回车结束  1000\n",
      "4倍的和：tatol1 = 3.140592653839794\n",
      "请输入第二个整数，回车结束  10000\n",
      "4倍的和：tatol2 = 3.1414926535900345\n"
     ]
    }
   ],
   "source": [
    "def compute_add(num):\n",
    "    i = 0\n",
    "    total = 0\n",
    "    while i < num:\n",
    "        j = 2 * i + 1\n",
    "        i = i + 1\n",
    "        if i%2 != 0:\n",
    "            total = total + 1/j\n",
    "        else:\n",
    "            total = total - 1/j\n",
    "    return total\n",
    "\n",
    "m = int(input('请输入第一个整数，回车结束  '))\n",
    "print ('4倍的和：tatol1 =',4*compute_add(m))\n",
    "n = int(input('请输入第二个整数，回车结束  '))\n",
    "print ('4倍的和：tatol2 =',4*compute_add(n))\n"
   ]
  },
  {
   "cell_type": "code",
   "execution_count": 4,
   "metadata": {
    "collapsed": false
   },
   "outputs": [
    {
     "name": "stdout",
     "output_type": "stream",
     "text": [
      "请输入你的姓名，回车结束  zxt\n",
      "请输入你生日的月份，回车结束  12\n",
      "请输入你生日的日号，回车结束  6\n",
      "zxt,你是非常有性格的射手座！\n"
     ]
    }
   ],
   "source": [
    "def constellation(name,month,day):\n",
    "    if month > 12 or month < 1 or day < 1 or day > 31:\n",
    "        print ('你输入的数字非法！')\n",
    "    if (month == 3 and 21<=day<=31) or (month == 4 and 1<=day<=19):\n",
    "        print (name,'你是非常有性格的白羊座！',sep = ',')\n",
    "    elif (month == 4 and 20<=day<=30) or (month == 5 and 1<=day<=20):\n",
    "        print (name,'你是非常有性格的金牛座！',sep = ',')\n",
    "    elif (month == 5 and 21<=day<=31) or (month == 6 and 1<=day<=21):\n",
    "        print (name,'你是非常有性格的双子座！',sep = ',')\n",
    "    elif (month == 6 and 22<=day<=30) or (month == 7 and 1<=day<=22):\n",
    "        print (name,'你是非常有性格的巨蟹座！',sep = ',')\n",
    "    elif (month == 7 and 23<=day<=31) or (month == 8 and 1<=day<=22):\n",
    "        print (name,'你是非常有性格的狮子座！',sep = ',')\n",
    "    elif (month == 8 and 23<=day<=31) or (month == 9 and 1<=day<=22):\n",
    "        print (name,'你是非常有性格的处女座！',sep = ',')\n",
    "    elif (month == 9 and 23<=day<=30) or (month == 10 and 1<=day<=23):\n",
    "        print (name,'你是非常有性格的天秤座！',sep = ',')\n",
    "    elif (month == 10 and 24<=day<=31) or (month == 11 and 1<=day<=22):\n",
    "        print (name,'你是非常有性格的天蝎座！',sep = ',')\n",
    "    elif (month == 11 and 23<=day<=30) or (month == 12 and 1<=day<=21):\n",
    "        print (name,'你是非常有性格的射手座！',sep = ',')\n",
    "    elif (month == 12 and 22<=day<=31) or (month == 1 and 1<=day<=19):\n",
    "        print (name,'你是非常有性格的魔蝎座！',sep = ',')\n",
    "    elif (month == 1 and 20<=day<=31) or (month == 2 and 1<=day<=18):\n",
    "        print (name,'你是非常有性格的水瓶座！',sep = ',')\n",
    "    elif (month == 2 and 19<=day<=28) or (month == 3 and 1<=day<=20):\n",
    "        print (name,'你是非常有性格的双鱼座！',sep = ',')\n",
    "        \n",
    "name = input('请输入你的姓名，回车结束  ')\n",
    "month = int(input('请输入你生日的月份，回车结束  '))\n",
    "day = int(input('请输入你生日的日号，回车结束  '))\n",
    "constellation(name,month,day)\n"
   ]
  },
  {
   "cell_type": "code",
   "execution_count": 7,
   "metadata": {
    "collapsed": false
   },
   "outputs": [
    {
     "name": "stdout",
     "output_type": "stream",
     "text": [
      "请输入一个要转换的英语单词，回车结束,输入‘回车’结束  book\n",
      "books\n",
      "请输入一个要转换的英语单词，回车结束,输入‘回车’结束  school\n",
      "schools\n",
      "请输入一个要转换的英语单词，回车结束,输入‘回车’结束  回车\n"
     ]
    }
   ],
   "source": [
    "def change(word):\n",
    "    if word.endswith('s') or word.endswith('x') or word.endswith('sh') or word.endswith('ch'):\n",
    "        print (word+'es')\n",
    "    elif word.endswith('y'):\n",
    "        print (word[0:len(word)-1]+'ies')\n",
    "    else :\n",
    "        print (word+'s')\n",
    "        \n",
    "while True :\n",
    "    word = input('请输入一个要转换的英语单词，回车结束,输入‘回车’结束  ')\n",
    "    if word == '回车':\n",
    "        break\n",
    "    change(word)\n",
    "    "
   ]
  },
  {
   "cell_type": "code",
   "execution_count": 8,
   "metadata": {
    "collapsed": false
   },
   "outputs": [
    {
     "name": "stdout",
     "output_type": "stream",
     "text": [
      "请输入第一个整数，回车结束  3\n",
      "请输入第二个整数，回车结束  6\n",
      "请输入第三个整数，回车结束  2\n",
      "tatol = 7\n"
     ]
    }
   ],
   "source": [
    "def computer_sum(m,n,k):\n",
    "    while m <= n:\n",
    "        m += k\n",
    "    return m\n",
    "\n",
    "m = int(input('请输入第一个整数，回车结束  '))\n",
    "n = int(input('请输入第二个整数，回车结束  '))\n",
    "k = int(input('请输入第三个整数，回车结束  '))\n",
    "print ('tatol =',computer_sum(m,n,k))"
   ]
  },
  {
   "cell_type": "code",
   "execution_count": null,
   "metadata": {
    "collapsed": true
   },
   "outputs": [],
   "source": []
  },
  {
   "cell_type": "code",
   "execution_count": null,
   "metadata": {
    "collapsed": true
   },
   "outputs": [],
   "source": []
  },
  {
   "cell_type": "code",
   "execution_count": null,
   "metadata": {
    "collapsed": true
   },
   "outputs": [],
   "source": []
  },
  {
   "cell_type": "code",
   "execution_count": null,
   "metadata": {
    "collapsed": true
   },
   "outputs": [],
   "source": []
  }
 ],
 "metadata": {
  "kernelspec": {
   "display_name": "Python 3",
   "language": "python",
   "name": "python3"
  },
  "language_info": {
   "codemirror_mode": {
    "name": "ipython",
    "version": 3
   },
   "file_extension": ".py",
   "mimetype": "text/x-python",
   "name": "python",
   "nbconvert_exporter": "python",
   "pygments_lexer": "ipython3",
   "version": "3.6.0"
  }
 },
 "nbformat": 4,
 "nbformat_minor": 2
}
