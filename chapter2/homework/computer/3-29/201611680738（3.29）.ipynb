{
 "cells": [
  {
   "cell_type": "code",
   "execution_count": 1,
   "metadata": {
    "collapsed": false
   },
   "outputs": [
    {
     "name": "stdout",
     "output_type": "stream",
     "text": [
      "请输入第一个整数,并以回车键结束2\n",
      "请输入第一个整数,并以回车键结束3\n",
      "请输入第一个整数,并以回车键结束4\n",
      "最终结果是： 32\n"
     ]
    }
   ],
   "source": [
    "def mul(end):\n",
    "    i = 1\n",
    "    j = 1\n",
    "    while i < end:\n",
    "        i = i + 1\n",
    "        j = j * i\n",
    "    return j\n",
    "n = int(input(\"请输入第一个整数,并以回车键结束\"))\n",
    "m = int(input(\"请输入第一个整数,并以回车键结束\"))\n",
    "k = int(input(\"请输入第一个整数,并以回车键结束\"))\n",
    "\n",
    "print ('最终结果是：',mul(m) + mul(n) + mul(k))"
   ]
  },
  {
   "cell_type": "code",
   "execution_count": 2,
   "metadata": {
    "collapsed": false
   },
   "outputs": [
    {
     "name": "stdout",
     "output_type": "stream",
     "text": [
      "3.140592653839794\n",
      "3.1415826535897198\n"
     ]
    }
   ],
   "source": [
    "def sum1(end):\n",
    "    i = 1\n",
    "    j = 1\n",
    "    while i < end:\n",
    "        i = i + 1\n",
    "        j = j + 1/(2*i-1)*((-1)**(i+1))\n",
    "    return j\n",
    "n = 1000\n",
    "print (4*sum1(n))\n",
    "n = 100000\n",
    "print (4*sum1(n))"
   ]
  },
  {
   "cell_type": "code",
   "execution_count": 3,
   "metadata": {
    "collapsed": false
   },
   "outputs": [
    {
     "name": "stdout",
     "output_type": "stream",
     "text": [
      "请输入你的名字,以回车键结束 wuyutong\n",
      "请输入你的出生月份 2\n",
      "请输入你的出生日期 9\n",
      "wuyutong 你是非常有性格的水瓶座。\n"
     ]
    }
   ],
   "source": [
    "def xingzuo(name,m,n):\n",
    "    if m==1 and n>=20 or (m==2 and n<=18):\n",
    "        print (name,\"你是非常有性格的水瓶座。\")\n",
    "    elif m==2 and n>=19 or (m==3 and n<=20):\n",
    "        print (name,\"你是非常有性格的双鱼座。\")\n",
    "    elif m==3 and n>=21 or (m==4 and n<=19):\n",
    "        print (name,\"你是非常有性格的白羊座。\")\n",
    "    elif m==4 and n>=20 or (m==5 and n<=20):\n",
    "        print (name,\"你是非常有性格的金牛座。\")\n",
    "    elif m==5 and n>=21 or (m==6 and n<=21):\n",
    "        print (name,\"你是非常有性格的双子座。\")\n",
    "    elif m==6 and n>=22 or (m==7 and n<=22):\n",
    "        print (name,\"你是非常有性格的巨蟹座。\")\n",
    "    elif m==7 and n>=23 or (m==8 and n<=22):\n",
    "        print (name,\"你是非常有性格的狮子座。\")\n",
    "    elif m==8 and n>=23 or (m==9 and n<=22):\n",
    "        print (name,\"你是非常有性格的处女座。\")\n",
    "    elif m==9 and n>=23 or (m==10 and n<=23):\n",
    "        print (name,\"你是非常有性格的天秤座。\")\n",
    "    elif m==10 and n>=24 or (m==11 and n<=22):\n",
    "        print (name,\"你是非常有性格的天蝎座。\")\n",
    "    elif m==11 and n>=23 or (m==12 and n<=21):\n",
    "        print (name,\"你是非常有性格的射手座。\")\n",
    "    elif m==12 and n>=22 or (m==1 and n<=19):\n",
    "        print (name,\"你是非常有性格的摩羯座。\")\n",
    "name = input(\"请输入你的名字,以回车键结束 \")\n",
    "m = int(input(\"请输入你的出生月份 \"))\n",
    "n = int(input(\"请输入你的出生日期 \"))\n",
    "xingzuo(name,m,n)"
   ]
  },
  {
   "cell_type": "code",
   "execution_count": 4,
   "metadata": {
    "collapsed": false
   },
   "outputs": [
    {
     "name": "stdout",
     "output_type": "stream",
     "text": [
      "请输入一个单词的单数形式 box\n",
      "boxes\n"
     ]
    }
   ],
   "source": [
    "def pl(word):\n",
    "    if word.endswith('s') or word.endswith('x') or word.endswith('ch') or word.endswith('sh'):\n",
    "        print (word,\"es\",sep='')\n",
    "    elif word.endswith('y'):\n",
    "        print (变y为i加es)\n",
    "    else:\n",
    "        print (word,\"s\",sep='')\n",
    "word = input(\"请输入一个单词的单数形式 \")\n",
    "pl(word)"
   ]
  },
  {
   "cell_type": "code",
   "execution_count": 7,
   "metadata": {
    "collapsed": false
   },
   "outputs": [
    {
     "name": "stdout",
     "output_type": "stream",
     "text": [
      "请输入一个整数，并以回车键结束5\n",
      "请输入一个整数，并以回车键结束9\n",
      "请输入间隔数，并以回车键结束3\n",
      "13\n"
     ]
    }
   ],
   "source": [
    "def sum_1(m,n,k):\n",
    "    sum0 = m\n",
    "    while (m + k) <= n:\n",
    "        m = m + k\n",
    "        sum0 = sum0 + m\n",
    "    return (sum0)\n",
    "m = int(input('请输入一个整数，并以回车键结束'))\n",
    "n = int(input('请输入一个整数，并以回车键结束'))\n",
    "k = int(input('请输入间隔数，并以回车键结束'))\n",
    "print (sum_1(m,n,k))"
   ]
  }
 ],
 "metadata": {
  "kernelspec": {
   "display_name": "Python 3",
   "language": "python",
   "name": "python3"
  },
  "language_info": {
   "codemirror_mode": {
    "name": "ipython",
    "version": 3
   },
   "file_extension": ".py",
   "mimetype": "text/x-python",
   "name": "python",
   "nbconvert_exporter": "python",
   "pygments_lexer": "ipython3",
   "version": "3.6.0"
  }
 },
 "nbformat": 4,
 "nbformat_minor": 2
}
