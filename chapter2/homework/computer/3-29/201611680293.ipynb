{
 "cells": [
  {
   "cell_type": "code",
   "execution_count": 1,
   "metadata": {
    "collapsed": false
   },
   "outputs": [
    {
     "name": "stdout",
     "output_type": "stream",
     "text": [
      "请输入第1个整数，回车结束。3\n",
      "请输入第2个整数，回车结束。4\n",
      "请输入第3个整数，回车结束。5\n",
      "m!+n!+k!= 150\n"
     ]
    }
   ],
   "source": [
    "\n",
    "def sum(end):\n",
    "    i=1\n",
    "    multi=1\n",
    "    \n",
    "    while i<=end:\n",
    "        multi=multi*i\n",
    "        i=i+1\n",
    "        \n",
    "    return multi\n",
    "\n",
    "m=int(input('请输入第1个整数，回车结束。'))\n",
    "n=int(input('请输入第2个整数，回车结束。'))\n",
    "k=int(input('请输入第3个整数，回车结束。'))\n",
    "\n",
    "print('m!+n!+k!=',sum(m)+sum(n)+sum(k))"
   ]
  },
  {
   "cell_type": "code",
   "execution_count": 2,
   "metadata": {
    "collapsed": false
   },
   "outputs": [
    {
     "name": "stdout",
     "output_type": "stream",
     "text": [
      "请输入你想输入的项数，回车结束。1000\n",
      "结果是: 3.140592653839794\n",
      "请输入你想输入的项数，回车结束。10000\n",
      "结果是: 3.1414926535900345\n"
     ]
    }
   ],
   "source": [
    "def sum(end):\n",
    "    i = 0\n",
    "    m = 0\n",
    "    while i < end :\n",
    "        i = i + 1\n",
    "        m = m + (-1)**(i+1)* 1/(2*i-1)\n",
    "    return m\n",
    "        \n",
    "            \n",
    "n=int(input('请输入你想输入的项数，回车结束。'))\n",
    "print('结果是:',4*sum(n))\n",
    "n=int(input('请输入你想输入的项数，回车结束。'))\n",
    "print('结果是:',4*sum(n))"
   ]
  },
  {
   "cell_type": "code",
   "execution_count": 1,
   "metadata": {
    "collapsed": false
   },
   "outputs": [
    {
     "name": "stdout",
     "output_type": "stream",
     "text": [
      "请输入你的名字:Diana\n",
      "请输入你的出生月份和日期，以xx.xx形式，如3.09：5.14\n",
      "Diana ,你是金牛座\n"
     ]
    }
   ],
   "source": [
    "def xingzuo(data):\n",
    "    if 3.21<=data<=4.19:\n",
    "        print(name,',你是白羊座')\n",
    "    elif 4.20<=data<=5.20:\n",
    "        print(name,',你是金牛座')\n",
    "    elif 5.21<=data<=6.21:\n",
    "        print(name,',你是双子座')\n",
    "    elif 6.22<=data<=7.22:\n",
    "        print(name,',你是巨蟹座')\n",
    "    elif 7.23<=data<=8.22:\n",
    "        print(name,',你是狮子座')\n",
    "    elif 8.23<=data<=9.22:\n",
    "        print(name,',你是处女座')\n",
    "    elif 9.23<=data<=10.23:\n",
    "        print(name,',你是天秤座')\n",
    "    elif 10.24<=data<=11.22:\n",
    "        print(name,',你是天蝎座')\n",
    "    elif 11.23<=data<=12.21:\n",
    "        print(name,',你是射手座')\n",
    "    elif 12.22<=data<=1.19:\n",
    "        print(name,',你是魔蝎座')\n",
    "    elif 1.20<=data<=2.18:\n",
    "        print(name,',你是水瓶座')\n",
    "    else:\n",
    "        print(name,',你是双鱼座')\n",
    "             \n",
    "name=input('请输入你的名字:')\n",
    "data=float(input('请输入你的出生月份和日期，以xx.xx形式，如3.09：'))\n",
    "xingzuo(data)"
   ]
  },
  {
   "cell_type": "code",
   "execution_count": 5,
   "metadata": {
    "collapsed": false
   },
   "outputs": [
    {
     "name": "stdout",
     "output_type": "stream",
     "text": [
      "请输入一个可数英文单词的单数形式fly\n",
      "flies\n"
     ]
    }
   ],
   "source": [
    "def change(a):\n",
    "    if a.endswith('o') or a.endswith('s') or a.endswith('x')or a.endswith('ch') or a.endswith('sh'):\n",
    "        print (a,'es',sep='')\n",
    "    elif a.endswith('y'):\n",
    "        if a[:-1].endswith('a')or a[:-1].endswith('e') or a[:-1].endswith('i') or a[:-1].endswith('o') or a[:-1].endswith('u') :\n",
    "            print(a,'s',sep='')\n",
    "        else:\n",
    "            print (a[:-1],'ies',sep='')\n",
    "    else:\n",
    "        print(a,'s',sep='')\n",
    "              \n",
    "a=input(\"请输入一个可数英文单词的单数形式\")\n",
    "change(a)"
   ]
  },
  {
   "cell_type": "code",
   "execution_count": 7,
   "metadata": {
    "collapsed": false
   },
   "outputs": [
    {
     "name": "stdout",
     "output_type": "stream",
     "text": [
      "请输入整数m的值：1\n",
      "请输入整数n的值：9\n",
      "请输入整数k的值：2\n",
      "25\n"
     ]
    }
   ],
   "source": [
    "def sum( m, n, k):\n",
    "    i = m\n",
    "    s = 0\n",
    "    \n",
    "    while i <= n:\n",
    "        s = s + i\n",
    "        i = i + k\n",
    "    return s\n",
    "\n",
    "m = int(input('请输入整数m的值：'))\n",
    "n = int(input('请输入整数n的值：'))\n",
    "k = int(input('请输入整数k的值：'))\n",
    "print(sum(m,n,k))"
   ]
  }
 ],
 "metadata": {
  "kernelspec": {
   "display_name": "Python 3",
   "language": "python",
   "name": "python3"
  },
  "language_info": {
   "codemirror_mode": {
    "name": "ipython",
    "version": 3
   },
   "file_extension": ".py",
   "mimetype": "text/x-python",
   "name": "python",
   "nbconvert_exporter": "python",
   "pygments_lexer": "ipython3",
   "version": "3.6.0"
  }
 },
 "nbformat": 4,
 "nbformat_minor": 2
}
