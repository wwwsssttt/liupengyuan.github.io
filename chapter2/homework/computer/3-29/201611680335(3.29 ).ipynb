{
 "cells": [
  {
   "cell_type": "code",
   "execution_count": 15,
   "metadata": {
    "collapsed": false,
    "deletable": true,
    "editable": true
   },
   "outputs": [
    {
     "name": "stdout",
     "output_type": "stream",
     "text": [
      "请输入第1个整数，以回车结束:9\n",
      "请输入第2个整数，以回车结束:8\n",
      "请输入第3个整数，以回车结束:7\n",
      "最终的和是： 109\n"
     ]
    }
   ],
   "source": [
    "def compute_multi(end):\n",
    "    i=0\n",
    "    tatal_n=0\n",
    "    \n",
    "    while i<end:\n",
    "        i+=1\n",
    "        total_n=total_n*i\n",
    "    return total_n\n",
    "n = int(input('请输入第1个整数，以回车结束:'))\n",
    "m = int(input('请输入第2个整数，以回车结束:'))\n",
    "k = int(input('请输入第3个整数，以回车结束:'))\n",
    "\n",
    "print('最终的和是：', compute_sum(m) + compute_sum(n) + compute_sum(k))"
   ]
  },
  {
   "cell_type": "code",
   "execution_count": 3,
   "metadata": {
    "collapsed": false,
    "deletable": true,
    "editable": true
   },
   "outputs": [
    {
     "name": "stdout",
     "output_type": "stream",
     "text": [
      "当n=1000时，4倍该函数的和为： 0.8574083456604576\n",
      "当n=100000时，4倍该函数的和为： 0.858397346510219\n"
     ]
    }
   ],
   "source": [
    "#练习 2：写函数可返回1 - 1/3 + 1/5 - 1/7...的前n项的和。\n",
    "#在主程序中，分别令n=1000及100000，打印4倍该函数的和。\n",
    "def compute_sum(end):\n",
    "    i=0\n",
    "    total_n=0\n",
    "    while i<end:\n",
    "        i+=1\n",
    "        total_m=((-1)**(i+1))/(2*i+1)\n",
    "        total_n=total_n+total_m\n",
    "    return total_n\n",
    "a=4*compute_sum(1000)\n",
    "b=4*compute_sum(100000)\n",
    "print('当n=1000时，4倍该函数的和为：',a)\n",
    "print('当n=100000时，4倍该函数的和为：',b)"
   ]
  },
  {
   "cell_type": "code",
   "execution_count": 4,
   "metadata": {
    "collapsed": false,
    "deletable": true,
    "editable": true
   },
   "outputs": [
    {
     "name": "stdout",
     "output_type": "stream",
     "text": [
      "请输入一个英文单词help\n",
      "helps\n"
     ]
    }
   ],
   "source": [
    "#练习 3：将task3中的练习4改写为函数，并进行调用。\n",
    "#练习4：#英文单词单数转复数，要求输入一个英文单词（单数形式），能够得到其复数形式，或给出单数转复数形式的建议\n",
    "#（提示，some_string.endswith(some_letter)函数可以判断某字符串结尾字符）。\n",
    "\n",
    "def string_end(word):\n",
    "    if word.endswith('x') or word.endswith('ch') or word.endswith('s') or word.endswith('o'):\n",
    "        print(word,'es',sep='')\n",
    "    elif word.endswith('y'):\n",
    "        print('变y为i再加es')\n",
    "    elif word.endswith('y'):\n",
    "        print(word[:-1],'ies',sep='')\n",
    "    else:\n",
    "        print(word,'s',sep='')\n",
    "word=input('请输入一个英文单词')\n",
    "string_end(word)"
   ]
  },
  {
   "cell_type": "code",
   "execution_count": 5,
   "metadata": {
    "collapsed": false,
    "deletable": true,
    "editable": true
   },
   "outputs": [
    {
     "name": "stdout",
     "output_type": "stream",
     "text": [
      "请输入你的名字licia\n",
      "请输入你的出生月份和日期，以xx.xx的形式，以回车结束11.11\n",
      "licia ,你是有个性的天蝎座\n"
     ]
    }
   ],
   "source": [
    "#将task3中的练习1改写为函数，并进行调用。\n",
    "\n",
    "def xingzuo_time(end):\n",
    "    if 3.21<=date<=4.19:\n",
    "        print(name,',你是有个性的白羊座')\n",
    "    elif 4.20<=date<=5.20:\n",
    "        print(name,',你是有个性的金牛座')\n",
    "    elif 5.21<=date<=6.21:\n",
    "        print(name,',你是有个性的双子座')\n",
    "    elif 6.22<=date<=7.22:\n",
    "        print(name,',你是有个性的巨蟹座')\n",
    "    elif 7.23<=date<=8.22:\n",
    "        print(name,',你是有个性的狮子座')\n",
    "    elif 8.23<=date<=9.21:\n",
    "        print(name,',你是有个性的处女座')\n",
    "    elif 9.22<=date<=10.23:\n",
    "        print(name,',你是有个性的天秤座')\n",
    "    elif 10.24<=date<=11.22:\n",
    "        print(name,',你是有个性的天蝎座')\n",
    "    elif 11.23<=date<=12.21:\n",
    "        print(name,',你是有个性的射手座')\n",
    "    elif 12.22<=date<=12.31 and 0<date<=1.19:\n",
    "        print(name,',你是有个性的摩羯座')\n",
    "    elif 1.20<=date<=2.18:\n",
    "        print(name,',你是有个性的水瓶座')\n",
    "    elif 2.19<=date<=3.10:\n",
    "        print(name,',你是有个性的双鱼座')\n",
    "\n",
    "name=input('请输入你的名字')\n",
    "date=float(input('请输入你的出生月份和日期，以xx.xx的形式，以回车结束'))\n",
    "xingzuo_time(date)"
   ]
  },
  {
   "cell_type": "code",
   "execution_count": 7,
   "metadata": {
    "collapsed": false,
    "deletable": true,
    "editable": true
   },
   "outputs": [
    {
     "name": "stdout",
     "output_type": "stream",
     "text": [
      "请输入第1个整数，以回车结束:2\n",
      "请输入第1个比m大的整数，以回车结束:6\n",
      "请输入第1个整数，以回车结束:2\n",
      "12\n"
     ]
    }
   ],
   "source": [
    "#挑战性练习：写程序，可以求从整数m到整数n累加的和，间隔为k，求和部分需用函数实现，主程序中由用户输入m，n，k调用函数验证正确性。\n",
    "\n",
    "def compute_sum(sum):\n",
    "    sum=0\n",
    "    i=m\n",
    "    while n>=i:\n",
    "        sum=sum+i\n",
    "        i=i+k\n",
    "    print(sum)\n",
    "m = int(input('请输入第1个整数，以回车结束:'))\n",
    "n = int(input('请输入第1个比m大的整数，以回车结束:'))\n",
    "k = int(input('请输入第1个整数，以回车结束:'))\n",
    "compute_sum(sum)"
   ]
  }
 ],
 "metadata": {
  "kernelspec": {
   "display_name": "Python 3",
   "language": "python",
   "name": "python3"
  },
  "language_info": {
   "codemirror_mode": {
    "name": "ipython",
    "version": 3
   },
   "file_extension": ".py",
   "mimetype": "text/x-python",
   "name": "python",
   "nbconvert_exporter": "python",
   "pygments_lexer": "ipython3",
   "version": "3.6.0"
  }
 },
 "nbformat": 4,
 "nbformat_minor": 2
}
