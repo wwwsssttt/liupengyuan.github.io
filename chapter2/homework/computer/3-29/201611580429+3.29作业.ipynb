{
 "cells": [
  {
   "cell_type": "code",
   "execution_count": 1,
   "metadata": {
    "collapsed": false
   },
   "outputs": [
    {
     "name": "stdout",
     "output_type": "stream",
     "text": [
      "请输入第1个整数，以回车结束。3\n",
      "请输入第2个整数，以回车结束。2\n",
      "请输入第3个整数，以回车结束。1\n",
      "最终的和是： 9\n"
     ]
    }
   ],
   "source": [
    "#练习1\n",
    "def compute_pro(end):\n",
    "    i = 1\n",
    "    factor_n = 1\n",
    "\n",
    "    while i < end:\n",
    "        i = i + 1\n",
    "        factor_n = factor_n*i\n",
    "\n",
    "    return factor_n\n",
    "\n",
    "n = int(input('请输入第1个整数，以回车结束。'))\n",
    "m = int(input('请输入第2个整数，以回车结束。'))\n",
    "k = int(input('请输入第3个整数，以回车结束。'))\n",
    "\n",
    "print('最终的和是：', compute_pro(m) + compute_pro(n) + compute_pro(k))"
   ]
  },
  {
   "cell_type": "code",
   "execution_count": 3,
   "metadata": {
    "collapsed": false
   },
   "outputs": [
    {
     "name": "stdout",
     "output_type": "stream",
     "text": [
      "  0.7851481634599485\n",
      "  0.7853956633974299\n"
     ]
    }
   ],
   "source": [
    "#练习2\n",
    "def compute_sum(end):\n",
    "    import math\n",
    "    n=0\n",
    "    i = 1\n",
    "    total_n = 0\n",
    "    while n < end:\n",
    "        total_n = total_n + 1/i*math.pow(-1,n)\n",
    "        i = i + 2\n",
    "        n=n+1\n",
    "    return total_n\n",
    "print(' ', compute_sum(1000))\n",
    "print(' ', compute_sum(100000))"
   ]
  },
  {
   "cell_type": "code",
   "execution_count": 4,
   "metadata": {
    "collapsed": false
   },
   "outputs": [
    {
     "name": "stdout",
     "output_type": "stream",
     "text": [
      "Enter the date of your birthday520\n",
      "Mr. right，你是非常有性格的金牛座！\n"
     ]
    }
   ],
   "source": [
    "#练习3 1\n",
    "def birthday():\n",
    "    x=int(input('Enter the date of your birthday'))\n",
    "    return x\n",
    "if 520>=birthday()>=420  :\n",
    "    print('Mr. right，你是非常有性格的金牛座！')\n",
    "else:\n",
    "    print('Mr. right，你不是金牛座。')"
   ]
  },
  {
   "cell_type": "code",
   "execution_count": 5,
   "metadata": {
    "collapsed": false
   },
   "outputs": [
    {
     "name": "stdout",
     "output_type": "stream",
     "text": [
      "Enter an integer:5\n",
      "Enter another integer,and it is not zero6\n",
      "What do you want to do with the two numbers?plus\n",
      "  11\n"
     ]
    }
   ],
   "source": [
    "#练习3 2\n",
    "def operation(m,n):\n",
    "    operation=input('What do you want to do with the two numbers?')\n",
    "    if operation.endswith('plus'):\n",
    "        sum=m+n\n",
    "        return sum\n",
    "    else:\n",
    "        div=n/m\n",
    "        return div\n",
    "m = int(input('Enter an integer:'))\n",
    "n = int(input('Enter another integer,and it is not zero'))\n",
    "print(' ',operation(m,n))"
   ]
  },
  {
   "cell_type": "code",
   "execution_count": 6,
   "metadata": {
    "collapsed": false
   },
   "outputs": [
    {
     "name": "stdout",
     "output_type": "stream",
     "text": [
      "Enter the PM2.5 value: 500\n",
      "It is no problem\n"
     ]
    }
   ],
   "source": [
    "#练习3 3\n",
    "def action(num):\n",
    "    if num>500:\n",
    "        print('应该打开空气净化器，戴防雾霾口罩')\n",
    "    else :\n",
    "        print('It is no problem')\n",
    "num = int(input('Enter the PM2.5 value: '))\n",
    "action(num)\n",
    "    "
   ]
  },
  {
   "cell_type": "code",
   "execution_count": 7,
   "metadata": {
    "collapsed": false
   },
   "outputs": [
    {
     "name": "stdout",
     "output_type": "stream",
     "text": [
      "Enter a noun: plus\n",
      "加es\n"
     ]
    }
   ],
   "source": [
    "#练习3 4\n",
    "def pro(word):\n",
    "    if word.endswith('y'):  \n",
    "        print('变y为i加es') \n",
    "    elif word[-1] in 'sx' or word[-2:] in ['sh','ch']:  \n",
    "        print('加es')  \n",
    "    else:  \n",
    "        print('加s')\n",
    "word=input('Enter a noun: ')\n",
    "pro(word)\n"
   ]
  },
  {
   "cell_type": "code",
   "execution_count": 8,
   "metadata": {
    "collapsed": false
   },
   "outputs": [
    {
     "name": "stdout",
     "output_type": "stream",
     "text": [
      "请输入第1个整数，以回车结束。2\n",
      "请输入第2个整数，以回车结束。8\n",
      "请输入第3个整数，以回车结束。2\n"
     ]
    },
    {
     "data": {
      "text/plain": [
       "20"
      ]
     },
     "execution_count": 8,
     "metadata": {},
     "output_type": "execute_result"
    }
   ],
   "source": [
    "#挑战\n",
    "def total(m,n,k):\n",
    "    total=0\n",
    "    i=0\n",
    "    t=(n-m)/k+1\n",
    "    while i<t:\n",
    "        total=total+m\n",
    "        m=m+k\n",
    "        i=i+1\n",
    "    return total\n",
    "m = int(input('请输入第1个整数，以回车结束。'))\n",
    "n = int(input('请输入第2个整数，以回车结束。'))\n",
    "k = int(input('请输入第3个整数，以回车结束。'))\n",
    "total(m,n,k)"
   ]
  },
  {
   "cell_type": "code",
   "execution_count": null,
   "metadata": {
    "collapsed": true
   },
   "outputs": [],
   "source": []
  },
  {
   "cell_type": "code",
   "execution_count": null,
   "metadata": {
    "collapsed": true
   },
   "outputs": [],
   "source": []
  }
 ],
 "metadata": {
  "kernelspec": {
   "display_name": "Python [default]",
   "language": "python",
   "name": "python3"
  },
  "language_info": {
   "codemirror_mode": {
    "name": "ipython",
    "version": 3
   },
   "file_extension": ".py",
   "mimetype": "text/x-python",
   "name": "python",
   "nbconvert_exporter": "python",
   "pygments_lexer": "ipython3",
   "version": "3.5.2"
  }
 },
 "nbformat": 4,
 "nbformat_minor": 1
}
