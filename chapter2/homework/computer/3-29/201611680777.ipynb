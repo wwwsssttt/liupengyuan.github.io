{
 "cells": [
  {
   "cell_type": "code",
   "execution_count": null,
   "metadata": {
    "collapsed": false
   },
   "outputs": [],
   "source": [
    "def s(x):\n",
    "    i=1\n",
    "    total=1\n",
    "    while i<=x:\n",
    "        total=total*i\n",
    "        i=i+1\n",
    "    return total\n",
    "\n",
    "m=int(input())\n",
    "n=int(input())\n",
    "k=int(input())\n",
    "\n",
    "print(s(m)+s(n)+s(k))"
   ]
  },
  {
   "cell_type": "code",
   "execution_count": null,
   "metadata": {
    "collapsed": true
   },
   "outputs": [],
   "source": [
    "def f(n):\n",
    "    i=0\n",
    "    total=0\n",
    "    while i<n:\n",
    "        total=total+{(-1)^[(n-1)/2]}/n\n",
    "        i=i+1\n",
    "    return total\n",
    "m=1000\n",
    "a=4*f(m)\n",
    "k=100000\n",
    "b=4*f(k)\n",
    "print(a)\n",
    "print(b)"
   ]
  },
  {
   "cell_type": "code",
   "execution_count": null,
   "metadata": {
    "collapsed": true
   },
   "outputs": [],
   "source": [
    "def f(month,day)\n",
    "if (month==1 and day>=20)or(month==2 and day<=18):\n",
    "    t=11\n",
    "elif (month==2 and day>=19)or(month==3 and day<=20):\n",
    "    t=12\n",
    "elif (month==3 and day>=21)or(month==4 and day<=19):\n",
    "    t=1\n",
    "elif (month==4 and day>=20)or(month==5 and day<=20):\n",
    "    t=2\n",
    "elif (month==5 and day>=21)or(month==6 and day<=21):\n",
    "    t=3\n",
    "elif (month==6 and day>=22)or(month==7 and day<=22):\n",
    "    t=4\n",
    "elif (month==7 and day>=23)or(month==8 and day<=22):\n",
    "    t=5\n",
    "elif (month==8 and day>=23)or(month==9 and day<=22):\n",
    "    t=6\n",
    "elif (month==9 and day>=23)or(month==10 and day<=23):\n",
    "    t=7\n",
    "elif (month==10 and day>=24)or(month==11 and day<=22):\n",
    "    t=8\n",
    "elif (month==11 and day>=23)or(month==12 and day<=21):\n",
    "    t=9\n",
    "elif (month==12 and day>=22)or(month==1 and day<=19):\n",
    "    t=10\n",
    "return t  \n",
    "name=input('输入你的名字')\n",
    "x=int(input('月份'))\n",
    "y=int(input('日期'))\n",
    "print(name)\n",
    "t=f(x,y)\n",
    "if t==1:\n",
    "    print('白羊座')\n",
    "if t==2:\n",
    "    print('金牛座')\n",
    "if t==3:\n",
    "    print('双子座')\n",
    "if t==4:\n",
    "    print('巨蟹座')\n",
    "if t==5:\n",
    "    print('狮子座')\n",
    "if t==6:\n",
    "    print('处女座')\n",
    "if t==7:\n",
    "    print('天秤座')\n",
    "if t==8:\n",
    "    print('天蝎座')\n",
    "if t==10:\n",
    "    print('射手座')\n",
    "if t==11:\n",
    "    print('摩羯座')\n",
    "if t==12:\n",
    "    print('水瓶座')"
   ]
  },
  {
   "cell_type": "code",
   "execution_count": null,
   "metadata": {
    "collapsed": true
   },
   "outputs": [],
   "source": [
    "def f(x):\n",
    "    if x.endswith('s') or x.endswith('x') or x.endswith('sh') or x.endswith('ch'):\n",
    "        x=x+'es'\n",
    "    else:\n",
    "        x=x+'s'\n",
    "    return x\n",
    "x=str(input())\n",
    "print(f(x))"
   ]
  }
 ],
 "metadata": {
  "kernelspec": {
   "display_name": "Python 3",
   "language": "python",
   "name": "python3"
  },
  "language_info": {
   "codemirror_mode": {
    "name": "ipython",
    "version": 3
   },
   "file_extension": ".py",
   "mimetype": "text/x-python",
   "name": "python",
   "nbconvert_exporter": "python",
   "pygments_lexer": "ipython3",
   "version": "3.6.0"
  }
 },
 "nbformat": 4,
 "nbformat_minor": 2
}
