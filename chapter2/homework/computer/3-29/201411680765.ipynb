{
 "cells": [
  {
   "cell_type": "code",
   "execution_count": 3,
   "metadata": {
    "collapsed": false
   },
   "outputs": [
    {
     "name": "stdout",
     "output_type": "stream",
     "text": [
      "请输入第1个整数，以回车结束:2\n",
      "请输入第2个整数，以回车结束:3\n",
      "请输入第3个整数，以回车结束:4\n",
      "最终的和是： 32\n"
     ]
    }
   ],
   "source": [
    "def compute_sum(end):\n",
    "    i = 0\n",
    "    total_n = 1\n",
    "\n",
    "    while i < end:\n",
    "        i = i + 1\n",
    "        total_n = total_n * i\n",
    "\n",
    "    return total_n\n",
    "\n",
    "n = int(input('请输入第1个整数，以回车结束:'))\n",
    "m = int(input('请输入第2个整数，以回车结束:'))\n",
    "k = int(input('请输入第3个整数，以回车结束:'))\n",
    "\n",
    "print('最终的和是：', compute_sum(m) + compute_sum(n) + compute_sum(k))"
   ]
  },
  {
   "cell_type": "code",
   "execution_count": 9,
   "metadata": {
    "collapsed": false
   },
   "outputs": [
    {
     "name": "stdout",
     "output_type": "stream",
     "text": [
      "最终的和是： 3.140592653839794\n",
      "最终的和是： 3.1415826535897198\n"
     ]
    }
   ],
   "source": [
    "def compute_sum (end):\n",
    "    i = 0\n",
    "    total_n = 0\n",
    "    \n",
    "    while i < end :\n",
    "        i = i + 1\n",
    "        if i % 2 == 0 :\n",
    "            total_n = total_n - 1/(2*i-1)\n",
    "        else:\n",
    "            total_n = total_n + 1/(2*i-1)\n",
    "    return total_n\n",
    "\n",
    "n=1000\n",
    "\n",
    "print ('最终的和是：',compute_sum(n)*4)\n",
    "\n",
    "n=100000\n",
    "\n",
    "print ('最终的和是：',compute_sum(n)*4)\n",
    "    "
   ]
  },
  {
   "cell_type": "code",
   "execution_count": 13,
   "metadata": {
    "collapsed": false
   },
   "outputs": [
    {
     "name": "stdout",
     "output_type": "stream",
     "text": [
      "请输入您的姓名：liu\n",
      "请输入您的出生月份：9\n",
      "请输入您的出生日期：30\n",
      "liu 您是非常有性格的天秤座！\n"
     ]
    }
   ],
   "source": [
    "def xingzuo (name,month,day):\n",
    "    if month == 1:\n",
    "        if 1 <= day and day <= 19:\n",
    "            print (name,'您是非常有性格的摩羯座！')\n",
    "        \n",
    "        elif 20 <= day and day <= 31:\n",
    "            print (name,'您是非常有性格的水瓶座！')\n",
    "        else:\n",
    "            print ('输入的出生日期错误！')\n",
    "    \n",
    "    if month == 2:\n",
    "        if 1 <= day and day <= 18:\n",
    "                print (name,'您是非常有性格的水瓶座！')\n",
    "        elif 19 <= day and day<= 29:\n",
    "            print (name,'您是非常有性格的双鱼座！')\n",
    "        else:\n",
    "            print ('输入的出生日期错误！')\n",
    "    if month == 3:\n",
    "        if 1 <= day and day <= 20:\n",
    "            print (name,'您是非常有性格的双鱼座！')\n",
    "        elif 21 <= day and day <= 31:\n",
    "            print (name,'您是非常有性格的白羊座！')\n",
    "        else:\n",
    "            print ('输入的出生日期错误！')\n",
    "    if month == 4:\n",
    "        if 1 <= day and day <= 19:\n",
    "            print (name,'您是非常有性格的白羊座！')\n",
    "        elif 20 <= day and day <= 30:\n",
    "            print (name,'您是非常有性格的金牛座！')\n",
    "        else:\n",
    "            print ('输入的出生日期错误！')\n",
    "    if month == 5:\n",
    "        if 1 <= day and day <= 20:\n",
    "            print (name,'您是非常有性格的金牛座！')\n",
    "        elif 21 <= day and day <= 31:\n",
    "            print (name,'您是非常有性格的双子座！')\n",
    "        else:\n",
    "            print ('输入的出生日期错误！')\n",
    "    if month == 6:\n",
    "        if 1 <= day and day <= 21:\n",
    "            print (name,'您是非常有性格的双子座！')\n",
    "        elif 22 <= day and day <= 30:\n",
    "            print (name,'您是非常有性格的巨蟹座！')\n",
    "        else:\n",
    "            print ('输入的出生日期错误！')\n",
    "    if month == 7:\n",
    "        if 1 <= day and day <= 22:\n",
    "            print (name,'您是非常有性格的巨蟹座！')\n",
    "        elif 23 <= day and day <= 31:\n",
    "            print (name,'您是非常有性格的狮子座！')\n",
    "        else:\n",
    "            print ('输入的出生日期错误！')\n",
    "    if month == 8:\n",
    "        if 1 <= day and day <= 22:\n",
    "            print (name,'您是非常有性格的狮子座！')\n",
    "        elif 23 <= day and day<= 31:\n",
    "            print (name,'您是非常有性格的处女座！')\n",
    "        else:\n",
    "            print ('输入的出生日期错误！')\n",
    "    if month == 9:\n",
    "        if 1 <= day and day <= 22:\n",
    "            print (name,'您是非常有性格的处女座！')\n",
    "        elif 23 <= day and day<= 30:\n",
    "            print (name,'您是非常有性格的天秤座！')\n",
    "        else:\n",
    "            print ('输入的出生日期错误！')\n",
    "    if month == 10:\n",
    "        if 1 <= day and day <= 23:\n",
    "            print (name,'您是非常有性格的天秤座！')\n",
    "        elif 24 <= day and day<= 31:\n",
    "            print (name,'您是非常有性格的天蝎座！')\n",
    "        else:\n",
    "            print ('输入的出生日期错误！')\n",
    "    if month == 11:\n",
    "        if 1 <= day and day <= 22:\n",
    "            print (name,'您是非常有性格的天蝎座！')\n",
    "        elif 23 <= day and day<= 30:\n",
    "            print (name,'您是非常有性格的射手座！')\n",
    "        else:\n",
    "            print ('输入的出生日期错误！')\n",
    "    if month == 12:\n",
    "        if 1 <= day and day <= 21:\n",
    "            print (name,'您是非常有性格的射手座！')\n",
    "        elif 22 <= day and day<= 31:\n",
    "            print (name,'您是非常有性格的摩羯座！')\n",
    "        else:\n",
    "            print ('输入的出生日期错误！')\n",
    "    if month>12:\n",
    "        print ('输入的出生月份错误！')\n",
    "\n",
    "name=input('请输入您的姓名：')\n",
    "month=int(input('请输入您的出生月份：'))\n",
    "day=int(input('请输入您的出生日期：'))\n",
    "xingzuo(name,month,day)\n",
    "\n"
   ]
  },
  {
   "cell_type": "code",
   "execution_count": 18,
   "metadata": {
    "collapsed": false
   },
   "outputs": [
    {
     "name": "stdout",
     "output_type": "stream",
     "text": [
      "请输入一个英文动词的第三人称单数形式：does\n",
      "该动词的复数形式为： do\n"
     ]
    }
   ],
   "source": [
    "def sgv_to_plv (sgword):\n",
    "    if sgword.endswith('ies'):\n",
    "        plword=sgword[:-3]+'y'\n",
    "        print ('该动词的复数形式为：',plword)\n",
    "    elif sgword.endswith('es'):\n",
    "        plword = sgword[:-2]\n",
    "        print ('该动词的复数形式为：',plword)\n",
    "    elif sgword.endswith('s'):\n",
    "        plword = sgword[:-1]\n",
    "        print ('该动词的复数形式为：',plword)\n",
    "    \n",
    "sgword=input('请输入一个英文动词的第三人称单数形式：')\n",
    "sgv_to_plv(sgword)"
   ]
  },
  {
   "cell_type": "code",
   "execution_count": 23,
   "metadata": {
    "collapsed": false
   },
   "outputs": [
    {
     "name": "stdout",
     "output_type": "stream",
     "text": [
      "请输入求和的起点数m,终点数n,以及间隔k并以回车结束：\n",
      "2\n",
      "7\n",
      "2\n",
      "总和为： 12\n"
     ]
    }
   ],
   "source": [
    "def compute_sum (m,n,k):\n",
    "    \n",
    "    total_n = 0\n",
    "    \n",
    "    while m <= n :\n",
    "        total_n = total_n +m\n",
    "        m += k\n",
    "    return total_n\n",
    "\n",
    "print ('请输入求和的起点数m,终点数n,以及间隔k并以回车结束：')\n",
    "m=int(input())\n",
    "n=int(input())\n",
    "k=int(input())\n",
    "total = compute_sum(m,n,k)\n",
    "print ('总和为：',total)"
   ]
  }
 ],
 "metadata": {
  "kernelspec": {
   "display_name": "Python 3",
   "language": "python",
   "name": "python3"
  },
  "language_info": {
   "codemirror_mode": {
    "name": "ipython",
    "version": 3
   },
   "file_extension": ".py",
   "mimetype": "text/x-python",
   "name": "python",
   "nbconvert_exporter": "python",
   "pygments_lexer": "ipython3",
   "version": "3.6.0"
  }
 },
 "nbformat": 4,
 "nbformat_minor": 2
}
