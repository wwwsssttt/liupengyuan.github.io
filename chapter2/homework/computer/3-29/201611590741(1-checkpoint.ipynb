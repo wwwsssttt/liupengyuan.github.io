{
 "cells": [
  {
   "cell_type": "code",
   "execution_count": 1,
   "metadata": {
    "collapsed": false
   },
   "outputs": [
    {
     "name": "stdout",
     "output_type": "stream",
     "text": [
      "请输入一个整数m,按回车键结束3\n",
      "请输入一个整数m,按回车键结束4\n",
      "请输入一个整数m,按回车键结束5\n",
      "m! + n! + k!= 150\n"
     ]
    }
   ],
   "source": [
    "m = int(input('请输入一个整数m,按回车键结束'))\n",
    "i = 1\n",
    "total_m = 1\n",
    "while i < m:\n",
    "    i = i + 1\n",
    "    total_m = total_m * i\n",
    "n = int(input('请输入一个整数m,按回车键结束'))\n",
    "i = 1\n",
    "total_n = 1\n",
    "while i < n:\n",
    "    i = i + 1\n",
    "    total_n = total_n * i\n",
    "k = int(input('请输入一个整数m,按回车键结束'))\n",
    "i = 1\n",
    "total_k = 1\n",
    "while i < k:\n",
    "    i = i + 1\n",
    "    total_k = total_k * i\n",
    "print('m! + n! + k!=', total_n + total_m + total_k)\n",
    " "
   ]
  }
 ],
 "metadata": {
  "kernelspec": {
   "display_name": "Python 3",
   "language": "python",
   "name": "python3"
  },
  "language_info": {
   "codemirror_mode": {
    "name": "ipython",
    "version": 3
   },
   "file_extension": ".py",
   "mimetype": "text/x-python",
   "name": "python",
   "nbconvert_exporter": "python",
   "pygments_lexer": "ipython3",
   "version": "3.6.0"
  }
 },
 "nbformat": 4,
 "nbformat_minor": 2
}
