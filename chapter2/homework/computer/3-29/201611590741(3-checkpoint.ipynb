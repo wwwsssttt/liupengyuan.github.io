{
 "cells": [
  {
   "cell_type": "code",
   "execution_count": null,
   "metadata": {
    "collapsed": false,
    "deletable": true,
    "editable": true
   },
   "outputs": [],
   "source": [
    "def sum(x,y,z):\n",
    "    i = 1\n",
    "    total = 0\n",
    "    while i < z:\n",
    "        total = total + x\n",
    "        x = x + 1\n",
    "    return total\n",
    "m = int(input('请输入一个整数m,按回车键结束'))\n",
    "n = int(input('请输入一个整数n,按回车键结束'))\n",
    "k = int(input('请输入一个整数k,按回车键结束'))\n",
    "print('最终的和是:',sum(m,n,k)"
   ]
  }
 ],
 "metadata": {
  "kernelspec": {
   "display_name": "Python 3",
   "language": "python",
   "name": "python3"
  },
  "language_info": {
   "codemirror_mode": {
    "name": "ipython",
    "version": 3
   },
   "file_extension": ".py",
   "mimetype": "text/x-python",
   "name": "python",
   "nbconvert_exporter": "python",
   "pygments_lexer": "ipython3",
   "version": "3.6.0"
  }
 },
 "nbformat": 4,
 "nbformat_minor": 2
}
