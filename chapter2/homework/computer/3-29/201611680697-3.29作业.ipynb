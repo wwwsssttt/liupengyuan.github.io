{
 "cells": [
  {
   "cell_type": "markdown",
   "metadata": {
    "deletable": true,
    "editable": true
   },
   "source": [
    "仿照求$ \\sum_{i=1}^mi + \\sum_{i=1}^ni  + \\sum_{i=1}^ki$的完整代码，写程序，可求m!+n!+k!"
   ]
  },
  {
   "cell_type": "code",
   "execution_count": 1,
   "metadata": {
    "collapsed": false,
    "deletable": true,
    "editable": true
   },
   "outputs": [
    {
     "name": "stdout",
     "output_type": "stream",
     "text": [
      "请输入第1个整数，以回车结束。2\n",
      "请输入第2个整数，以回车结束。3\n",
      "请输入第3个整数，以回车结束。4\n",
      "最终的和是： 32\n"
     ]
    }
   ],
   "source": [
    "def factorial_sum(end):\n",
    "    i = 0\n",
    "    factorial_n = 1\n",
    "\n",
    "    while i < end:\n",
    "        i = i + 1\n",
    "        factorial_n = factorial_n *i\n",
    "\n",
    "    return factorial_n\n",
    "\n",
    "m= int(input('请输入第1个整数，以回车结束。'))\n",
    "n= int(input('请输入第2个整数，以回车结束。'))\n",
    "k = int(input('请输入第3个整数，以回车结束。'))\n",
    "\n",
    "print('最终的和是：', factorial_sum(m) + factorial_sum(n) + factorial_sum(k))"
   ]
  },
  {
   "cell_type": "markdown",
   "metadata": {
    "deletable": true,
    "editable": true
   },
   "source": [
    "写函数可返回1 - 1/3 + 1/5 - 1/7...的前n项的和。在主程序中，分别令n=1000及100000，打印4倍该函数的和。"
   ]
  },
  {
   "cell_type": "code",
   "execution_count": 14,
   "metadata": {
    "collapsed": false,
    "deletable": true,
    "editable": true
   },
   "outputs": [
    {
     "name": "stdout",
     "output_type": "stream",
     "text": [
      "当n=1000时，最终值为： 3.140592653839794\n",
      "当n=100000时，最终值为： 3.1415826535897198\n"
     ]
    }
   ],
   "source": [
    "def number_sum(end):\n",
    "    i=0\n",
    "    total=0\n",
    "    while i < end:\n",
    "        i=i+1\n",
    "        if i%2!=0:\n",
    "            total=total+(1/(2*i-1))\n",
    "        else:\n",
    "            total=total-(1/(2*i-1))\n",
    "    return total\n",
    "\n",
    "n=1000\n",
    "m=100000\n",
    "print('当n=1000时，最终值为：',4*number_sum(n))\n",
    "print('当n=100000时，最终值为：',4*number_sum(m))"
   ]
  },
  {
   "cell_type": "markdown",
   "metadata": {
    "deletable": true,
    "editable": true
   },
   "source": [
    "将task3中的练习1及练习4改写为函数，并进行调用"
   ]
  },
  {
   "cell_type": "markdown",
   "metadata": {},
   "source": [
    "写程序，可由键盘读入用户姓名例如Mr. right，让用户输入出生的月份与日期，判断用户星座，假设用户是金牛座，则输出，Mr. right，你是非常有性格的金牛座！。"
   ]
  },
  {
   "cell_type": "markdown",
   "metadata": {},
   "source": [
    "英文单词单数转复数，要求输入一个英文动词（单数形式），能够得到其复数形式，或给出单数转复数形式的建议（提示，some_string.endswith(some_letter)函数可以判断某字符串结尾字符，可尝试运行：'myname'.endswith('me')，liupengyuan'.endswith('n')）。"
   ]
  },
  {
   "cell_type": "code",
   "execution_count": 17,
   "metadata": {
    "collapsed": false
   },
   "outputs": [
    {
     "name": "stdout",
     "output_type": "stream",
     "text": [
      "your name:ymm\n",
      "your birth month:2\n",
      "your birth day24\n",
      "ymm 你是双鱼座！\n"
     ]
    }
   ],
   "source": [
    "def constellation(name,month,day):\n",
    "    if month==1 and day<21:\n",
    "        print(name,'你是摩羯座！')\n",
    "    if month==12 and day>21:\n",
    "        print(name,'你是摩羯座！')\n",
    "    if month==2 and day<19:\n",
    "        print(name,'你是水瓶座！')\n",
    "    if month==1 and day>20:\n",
    "        print(name,'你是水瓶座！')\n",
    "    if month==3 and day<21:\n",
    "        print(name,'你是双鱼座！')\n",
    "    if month==2 and day>18:\n",
    "        print(name,'你是双鱼座！')\n",
    "    if month==4 and day<21:\n",
    "        print(name,'你是白羊座！')\n",
    "    if month==3 and day>20:\n",
    "        print(name,'你是白羊座！')\n",
    "    if month==5 and day<22:\n",
    "        print(name,'你是金牛座！')\n",
    "    if month==4 and day>20:\n",
    "        print(name,'你是金牛座！')\n",
    "    if month==6 and day<23:\n",
    "        print(name,'你是摩羯座！')\n",
    "    if month==5 and day>21:\n",
    "        print(name,'你是摩羯座！')\n",
    "    if month==7 and day<24:\n",
    "        print(name,'你是双子座！')\n",
    "    if month==6 and day>22:\n",
    "        print(name,'你是双子座！')\n",
    "    if month==8 and day<24:\n",
    "        print(name,'你是巨蟹座！')\n",
    "    if month==7 and day>23:\n",
    "        print(name,'你是巨蟹座！')\n",
    "    if month==9 and day<24:\n",
    "        print(name,'你是狮子座！')\n",
    "    if month==8 and day>23:\n",
    "        print(name,'你是狮子座！')\n",
    "    if month==10 and day<24:\n",
    "        print(name,'你是处女座！')\n",
    "    if month==9 and day>23:\n",
    "        print(name,'你是处女座！')\n",
    "    if month==11 and day<23:\n",
    "        print(name,'你是天秤座！')\n",
    "    if month==10 and day>23:\n",
    "        print(name,'你是天秤座！')\n",
    "    if month==12 and day<23:\n",
    "        print(name,'你是射手座！')\n",
    "    if month==11 and day>22:\n",
    "        print(name,'你是射手座！')\n",
    "a=str(input('your name:'))\n",
    "b=int(input('your birth month:'))\n",
    "c=int(input('your birth day'))\n",
    "constellation(a,b,c)"
   ]
  },
  {
   "cell_type": "code",
   "execution_count": 18,
   "metadata": {
    "collapsed": false
   },
   "outputs": [
    {
     "name": "stdout",
     "output_type": "stream",
     "text": [
      "wash\n",
      "washes\n"
     ]
    }
   ],
   "source": [
    "def change(word):\n",
    "    if word.endswith(('s','sh','ch','x','o')):\n",
    "        print(word+'es')\n",
    "    elif word.endswith(('by','cy','dy','fy','gy','hy','jy','ky','ly','my','ny','py','qy','ry','sy','ty','vy','wy','xy','zy')):\n",
    "        print('把y改i再加es')\n",
    "    else:\n",
    "        print(word+'s')\n",
    "    \n",
    "a=str(input())\n",
    "change(a)"
   ]
  },
  {
   "cell_type": "markdown",
   "metadata": {
    "deletable": true,
    "editable": true
   },
   "source": [
    "写程序，可以求从整数m到整数n累加的和，间隔为k，求和部分需用函数实现，主程序中由用户输入m，n，k调用函数验证正确性。"
   ]
  },
  {
   "cell_type": "code",
   "execution_count": 13,
   "metadata": {
    "collapsed": false,
    "deletable": true,
    "editable": true
   },
   "outputs": [
    {
     "name": "stdout",
     "output_type": "stream",
     "text": [
      "请输入m的值，以回车结束。3\n",
      "请输入n的值，以回车结束。10\n",
      "请输入k的值，以回车结束。6\n",
      "从整数m到整数n累加和为： 52\n"
     ]
    }
   ],
   "source": [
    "def number_sum(a,c):\n",
    "    i=0\n",
    "    total=a\n",
    "    while i<c+1:\n",
    "        i=i+1\n",
    "        a=a+1\n",
    "        total=total+a\n",
    "    return total\n",
    "        \n",
    "m=int(input('请输入m的值，以回车结束。'))\n",
    "n=int(input('请输入n的值，以回车结束。'))\n",
    "k=int(input('请输入k的值，以回车结束。'))\n",
    "\n",
    "print('从整数m到整数n累加和为：',number_sum(m,k))"
   ]
  }
 ],
 "metadata": {
  "kernelspec": {
   "display_name": "Python 3",
   "language": "python",
   "name": "python3"
  },
  "language_info": {
   "codemirror_mode": {
    "name": "ipython",
    "version": 3
   },
   "file_extension": ".py",
   "mimetype": "text/x-python",
   "name": "python",
   "nbconvert_exporter": "python",
   "pygments_lexer": "ipython3",
   "version": "3.6.0"
  }
 },
 "nbformat": 4,
 "nbformat_minor": 2
}
