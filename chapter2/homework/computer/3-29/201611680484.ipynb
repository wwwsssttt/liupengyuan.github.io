{
 "cells": [
  {
   "cell_type": "code",
   "execution_count": 3,
   "metadata": {
    "collapsed": false
   },
   "outputs": [
    {
     "name": "stdout",
     "output_type": "stream",
     "text": [
      "输入一个整数:3\n",
      "输入一个整数:3\n",
      "输入一个整数:3\n",
      "18\n"
     ]
    }
   ],
   "source": [
    "def comput_sum(t):\n",
    "    i=0\n",
    "    total=0\n",
    "    while i<t:\n",
    "        i=i+1\n",
    "        total=total+i\n",
    "    return total\n",
    "\n",
    "m=int(input('输入一个整数:'))\n",
    "n=int(input('输入一个整数:'))\n",
    "k=int(input('输入一个整数:'))\n",
    "print(comput_sum(m)+comput_sum(n)+comput_sum(k))"
   ]
  },
  {
   "cell_type": "code",
   "execution_count": 4,
   "metadata": {
    "collapsed": false
   },
   "outputs": [
    {
     "name": "stdout",
     "output_type": "stream",
     "text": [
      "44.69540167533188\n"
     ]
    }
   ],
   "source": [
    "def comput_sum(r):\n",
    "    i=0\n",
    "    total=0\n",
    "    while i<r:\n",
    "        i=i+1\n",
    "        total=total+1/(2*i-1)\n",
    "    return total\n",
    "\n",
    "m=1000\n",
    "n=100000\n",
    "j=comput_sum(m)+comput_sum(n)\n",
    "print(4*j)"
   ]
  },
  {
   "cell_type": "code",
   "execution_count": 1,
   "metadata": {
    "collapsed": false
   },
   "outputs": [
    {
     "name": "stdout",
     "output_type": "stream",
     "text": [
      "输入日期如3月20日则输入3.20:2.16\n",
      "输入姓名:clare\n",
      "clare 你是水瓶座\n",
      "None\n"
     ]
    }
   ],
   "source": [
    "def judge(birth):\n",
    "    name=input('输入姓名:')\n",
    "    if birth<1.20:\n",
    "        print(name,'你是摩羯座')\n",
    "    elif birth>=1.20 and birth<=2.18 :\n",
    "        print(name,'你是水瓶座')\n",
    "    elif birth>=2.19 and birth<=3.20:\n",
    "        print(name,'你是双鱼座')\n",
    "    elif birth>=3.21 and birth<=4.19:\n",
    "        print(name,'你是白羊座')\n",
    "    elif birth>=4.20 and birth<=5.20:\n",
    "        print(name,'你是金牛座')\n",
    "    elif birth>=5.21 and birth<=6.21:\n",
    "        print(name,'你是双子座')\n",
    "    elif birth>=6.22 and birth<=7.22:\n",
    "        print(name,'你是巨蟹座')\n",
    "    elif birth>=7.23 and birth<=8.22:\n",
    "        print(name,'你是狮子座')\n",
    "    elif birth>=8.23 and birth<=9.22:\n",
    "        print(name,'你是处女座')\n",
    "    elif birth>=9.23 and birth<=10.23:\n",
    "        print(name,'你是天秤座')\n",
    "    elif birth>=10.24 and birth<=11.22:\n",
    "        print(name,'你是天蝎座')\n",
    "    elif birth>11.23 and birth<=12.21:\n",
    "        print(name,'你是射手座')\n",
    "    else:\n",
    "        print(name,'你是摩羯座')\n",
    "        \n",
    "birth=float(input('输入日期如3月20日则输入3.20:'))\n",
    "print(judge(birth))"
   ]
  },
  {
   "cell_type": "code",
   "execution_count": 1,
   "metadata": {
    "collapsed": false
   },
   "outputs": [
    {
     "name": "stdout",
     "output_type": "stream",
     "text": [
      "输入一个整数2\n",
      "输入一个整数4\n",
      "输入一个整数7\n",
      "输入一个整数5\n",
      "输入一个整数8\n",
      "输入一个整数-9999\n",
      "第二大的数是 7\n",
      "None\n"
     ]
    }
   ],
   "source": [
    "def judge(max_number):\n",
    "    second_number=int(input('输入一个整数'))\n",
    "    if second_number > max_number:\n",
    "        second_number,max_number=max_number,second_number\n",
    "    number=None\n",
    "    while number!=-9999:\n",
    "        number=int(input('输入一个整数'))\n",
    "        if number>=max_number:\n",
    "            second_number=max_number\n",
    "            max_number=number\n",
    "        elif number>second_number:\n",
    "            second_number=number\n",
    "        else:\n",
    "            pass\n",
    "    print('第二大的数是',second_number)\n",
    "    \n",
    "m=int(input('输入一个整数'))\n",
    "print(judge(m))"
   ]
  },
  {
   "cell_type": "code",
   "execution_count": 2,
   "metadata": {
    "collapsed": false
   },
   "outputs": [
    {
     "name": "stdout",
     "output_type": "stream",
     "text": [
      "输入一个整数5\n",
      "输入一个整数9\n",
      "输入一个整数2\n",
      "21\n"
     ]
    }
   ],
   "source": [
    "def comput_sum(m,n,k):\n",
    "    total=m\n",
    "    i=m\n",
    "    while i<n:\n",
    "        i=i+k\n",
    "        total=total+i\n",
    "    return total\n",
    "\n",
    "m=int(input('输入一个整数'))\n",
    "n=int(input('输入一个整数'))\n",
    "k=int(input('输入一个整数'))\n",
    "print(comput_sum(m,n,k))"
   ]
  },
  {
   "cell_type": "code",
   "execution_count": null,
   "metadata": {
    "collapsed": true
   },
   "outputs": [],
   "source": []
  }
 ],
 "metadata": {
  "kernelspec": {
   "display_name": "Python 3",
   "language": "python",
   "name": "python3"
  },
  "language_info": {
   "codemirror_mode": {
    "name": "ipython",
    "version": 3
   },
   "file_extension": ".py",
   "mimetype": "text/x-python",
   "name": "python",
   "nbconvert_exporter": "python",
   "pygments_lexer": "ipython3",
   "version": "3.6.0"
  }
 },
 "nbformat": 4,
 "nbformat_minor": 2
}
