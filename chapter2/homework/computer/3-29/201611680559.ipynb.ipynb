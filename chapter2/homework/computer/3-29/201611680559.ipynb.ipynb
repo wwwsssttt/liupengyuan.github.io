{
 "cells": [
  {
   "cell_type": "code",
   "execution_count": 1,
   "metadata": {
    "collapsed": false
   },
   "outputs": [
    {
     "name": "stdout",
     "output_type": "stream",
     "text": [
      "请输入第1个整数，以回车结束。2\n",
      "请输入第2个整数，以回车结束。3\n",
      "请输入第3个整数，以回车结束。4\n",
      "最终的积是： 32\n"
     ]
    }
   ],
   "source": [
    "def compute_sum(end):\n",
    "    i = 0\n",
    "    total_n = 1\n",
    "\n",
    "    while i < end:\n",
    "        i = i + 1\n",
    "        total_n = total_n * i\n",
    "\n",
    "    return total_n\n",
    "\n",
    "n = int(input('请输入第1个整数，以回车结束。'))\n",
    "m = int(input('请输入第2个整数，以回车结束。'))\n",
    "k = int(input('请输入第3个整数，以回车结束。'))\n",
    "\n",
    "print('最终的积是：', compute_sum(m) + compute_sum(n) + compute_sum(k))"
   ]
  },
  {
   "cell_type": "code",
   "execution_count": 2,
   "metadata": {
    "collapsed": false
   },
   "outputs": [
    {
     "name": "stdout",
     "output_type": "stream",
     "text": [
      "n=1000时的和:  3.140592653839794\n",
      "n=100000时的和:  3.1415826535897198\n"
     ]
    }
   ],
   "source": [
    "def compute_sum(end):\n",
    "    i = 1\n",
    "    k = 1\n",
    "    total_n = 0\n",
    "\n",
    "    while k <(end+1):\n",
    "        i = (1/(2*k-1))*pow(-1,k+1)\n",
    "        total_n = total_n + i\n",
    "        k = k + 1\n",
    "    return total_n\n",
    "\n",
    "print('n=1000时的和: ', 4*compute_sum(1000))\n",
    "print('n=100000时的和: ', 4*compute_sum(100000))"
   ]
  },
  {
   "cell_type": "code",
   "execution_count": 4,
   "metadata": {
    "collapsed": false
   },
   "outputs": [
    {
     "name": "stdout",
     "output_type": "stream",
     "text": [
      "输入您的姓名ftt\n",
      "输入您的生日\n",
      "1002\n",
      "ftt 你是非常有性格的天秤座\n"
     ]
    }
   ],
   "source": [
    "def birthday():\n",
    "    name = input('输入您的姓名')\n",
    "    date= int(input('输入您的生日\\n'))\n",
    "    if 101<=date<=119 or 1222<=date<=1231:\n",
    "        print(name,'你是非常有性格的摩羯座')\n",
    "    elif date>119 and date<219:\n",
    "        print(name,'你是非常有性格的水瓶座')\n",
    "    elif date>218 and date<321:\n",
    "        print(name,'你是非常有性格的双鱼座')\n",
    "    elif date>320 and date<420:\n",
    "        print(name,'你是非常有性格的白羊座')\n",
    "    elif date>419 and date<521:\n",
    "        print(name,'你是非常有性格的金牛座')\n",
    "    elif date>520 and date<621:\n",
    "        print(name,'你是非常有性格的双子座')\n",
    "    elif date>620 and date<722:\n",
    "        print(name,'你是非常有性格的巨蟹座')\n",
    "    elif date>721 and date<823:\n",
    "        print(name,'你是非常有性格的狮子座')\n",
    "    elif date>822 and date<923:\n",
    "        print(name,'你是非常有性格的处女座')\n",
    "    elif date>922 and date<1023:\n",
    "        print(name,'你是非常有性格的天秤座')\n",
    "    elif date>1022 and date<1122:\n",
    "        print(name,'你是非常有性格的天蝎座')\n",
    "    elif date>1121 and date<1222:\n",
    "        print(name,'你是非常有性格的射手座')\n",
    "birthday()"
   ]
  },
  {
   "cell_type": "code",
   "execution_count": 6,
   "metadata": {
    "collapsed": false
   },
   "outputs": [
    {
     "name": "stdout",
     "output_type": "stream",
     "text": [
      "请输入一个英文动词单词f\n",
      "去f改ives\n"
     ]
    }
   ],
   "source": [
    "def letter():\n",
    "    some_string =input('请输入一个英文动词单词')\n",
    "    if some_string.endswith('y'):\n",
    "        print('去y改ies')\n",
    "    elif some_string.endswith('f'):\n",
    "        print('去f改ives')\n",
    "    elif some_string.endswith('s') or some_string.endswith('h'):\n",
    "        print('加es')\n",
    "    else :\n",
    "        print('直接加s')\n",
    "letter()"
   ]
  },
  {
   "cell_type": "code",
   "execution_count": 8,
   "metadata": {
    "collapsed": false
   },
   "outputs": [
    {
     "name": "stdout",
     "output_type": "stream",
     "text": [
      "请输入第1个整数，以回车结束。1\n",
      "请输入第2个整数，以回车结束。5\n",
      "请输入间隔数，以回车结束。2\n",
      "和为  9\n"
     ]
    }
   ],
   "source": [
    "def compute_sum(m,n,k):\n",
    "    i = m\n",
    "    total_n = 0\n",
    "\n",
    "    while i < (n+1):\n",
    "        total_n = total_n + i\n",
    "        i = i + k\n",
    "    return total_n\n",
    "m = int(input('请输入第1个整数，以回车结束。'))\n",
    "n = int(input('请输入第2个整数，以回车结束。'))\n",
    "k = int(input('请输入间隔数，以回车结束。'))\n",
    "print('和为 ',compute_sum(m,n,k))"
   ]
  }
 ],
 "metadata": {
  "kernelspec": {
   "display_name": "Python 3",
   "language": "python",
   "name": "python3"
  },
  "language_info": {
   "codemirror_mode": {
    "name": "ipython",
    "version": 3
   },
   "file_extension": ".py",
   "mimetype": "text/x-python",
   "name": "python",
   "nbconvert_exporter": "python",
   "pygments_lexer": "ipython3",
   "version": "3.6.0"
  }
 },
 "nbformat": 4,
 "nbformat_minor": 2
}
