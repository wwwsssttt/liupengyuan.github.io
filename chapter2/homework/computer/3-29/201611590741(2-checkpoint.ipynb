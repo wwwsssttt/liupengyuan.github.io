{
 "cells": [
  {
   "cell_type": "code",
   "execution_count": 6,
   "metadata": {
    "collapsed": false
   },
   "outputs": [
    {
     "name": "stdout",
     "output_type": "stream",
     "text": [
      "3.139592655589785\n",
      "3.1415726535897814\n"
     ]
    }
   ],
   "source": [
    "def sum(n):\n",
    "    pi = 0\n",
    "    t = 1\n",
    "    i = 1\n",
    "    s = 1\n",
    "    while i < n:\n",
    "        pi = pi + t\n",
    "        i = i + 2\n",
    "        s = -s\n",
    "        t = s / i\n",
    "    return pi\n",
    "n1 = 1000\n",
    "print (4 * sum(n1))\n",
    "n2 = 100000\n",
    "print(4 * sum(n2))\n",
    "\n",
    "    \n",
    "    \n",
    "    "
   ]
  },
  {
   "cell_type": "code",
   "execution_count": null,
   "metadata": {
    "collapsed": true
   },
   "outputs": [],
   "source": []
  }
 ],
 "metadata": {
  "kernelspec": {
   "display_name": "Python 3",
   "language": "python",
   "name": "python3"
  },
  "language_info": {
   "codemirror_mode": {
    "name": "ipython",
    "version": 3
   },
   "file_extension": ".py",
   "mimetype": "text/x-python",
   "name": "python",
   "nbconvert_exporter": "python",
   "pygments_lexer": "ipython3",
   "version": "3.6.0"
  }
 },
 "nbformat": 4,
 "nbformat_minor": 2
}
