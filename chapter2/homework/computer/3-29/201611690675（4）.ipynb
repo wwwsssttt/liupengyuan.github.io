{
 "cells": [
  {
   "cell_type": "code",
   "execution_count": 2,
   "metadata": {
    "collapsed": false,
    "deletable": true,
    "editable": true
   },
   "outputs": [
    {
     "name": "stdout",
     "output_type": "stream",
     "text": [
      "请输入第1个整数，以回车结束。2\n",
      "请输入第2个整数，以回车结束。3\n",
      "请输入第3个整数，以回车结束。4\n",
      "最终的和是： 32\n"
     ]
    }
   ],
   "source": [
    "def compute_sum(end):\n",
    "    i = 1\n",
    "    total_n = 1\n",
    "\n",
    "    while i < end:\n",
    "        i = i + 1\n",
    "        total_n = total_n * i\n",
    "\n",
    "    return total_n\n",
    "n = int(input('请输入第1个整数，以回车结束。'))\n",
    "m = int(input('请输入第2个整数，以回车结束。'))\n",
    "k = int(input('请输入第3个整数，以回车结束。'))\n",
    "\n",
    "print('最终的和是：', compute_sum(m) + compute_sum(n) + compute_sum(k))"
   ]
  },
  {
   "cell_type": "code",
   "execution_count": 10,
   "metadata": {
    "collapsed": false,
    "deletable": true,
    "editable": true
   },
   "outputs": [
    {
     "name": "stdout",
     "output_type": "stream",
     "text": [
      "最终的和是： 4.767045658807902\n",
      "最终的和是： 4.768018168215095\n"
     ]
    }
   ],
   "source": [
    "def compute_sum(end):\n",
    "    i = 1\n",
    "    total_n = 1\n",
    "\n",
    "    while i < end:\n",
    "        i = ((-1)**i)*(2 * i + 1)\n",
    "        total_n = total_n - 1/i\n",
    "\n",
    "    return total_n\n",
    "m = 1000\n",
    "print('最终的和是：', compute_sum(m)*4)\n",
    "n = 100000\n",
    "print('最终的和是：', compute_sum(n)*4)\n"
   ]
  },
  {
   "cell_type": "code",
   "execution_count": 16,
   "metadata": {
    "collapsed": false,
    "deletable": true,
    "editable": true
   },
   "outputs": [
    {
     "ename": "SyntaxError",
     "evalue": "invalid syntax (<ipython-input-16-a9c90f8aae6f>, line 28)",
     "output_type": "error",
     "traceback": [
      "\u001b[1;36m  File \u001b[1;32m\"<ipython-input-16-a9c90f8aae6f>\"\u001b[1;36m, line \u001b[1;32m28\u001b[0m\n\u001b[1;33m    elif 12.22<=day and day<=12.30 or 1.01<=day and day <=1.19\u001b[0m\n\u001b[1;37m                                                              ^\u001b[0m\n\u001b[1;31mSyntaxError\u001b[0m\u001b[1;31m:\u001b[0m invalid syntax\n"
     ]
    }
   ],
   "source": [
    "name = input('请输入你的姓名，以回车结束。')\n",
    "print('你好', name)\n",
    "\n",
    "\n",
    "def cons_day(day):\n",
    "    if 3.21<= day and day<= 4.19:\n",
    "        print('你是白羊座')\n",
    "    elif 4.20<=day and day<=5.20:\n",
    "        print ('你是金牛座')\n",
    "    elif 5.21<=day and day<=6.21:\n",
    "        print ('你是双子座')\n",
    "    elif 6.22<=day and day<=7.22:\n",
    "        print ('你是巨蟹座')\n",
    "    elif 7.23<=day and day<=8.22:\n",
    "        print ('你是狮子座')\n",
    "    elif 8.23<=day and day<=9.22:\n",
    "        print ('你是处女座')\n",
    "    elif 9.23<=day and day<=10.23:\n",
    "        print ('你是天秤座')\n",
    "    elif 10.24<=day and day<=11.22:\n",
    "        print ('你是天蝎座')\n",
    "    elif 11.23<=day and day<=12.21:\n",
    "        print ('你是射手座')\n",
    "    elif 1.20<=day and day<=2.18:\n",
    "        print ('你是水瓶座')\n",
    "    elif 2.19<=day and day<=3.20:\n",
    "        print ('你是双鱼座')\n",
    "    elif 12.22<=day and day<=12.30 or 1.01<=day and day <=1.19\n",
    "        print ('你是摩羯座')\n",
    "\n",
    "day = input('请输入你的生日x.x，以回车结束')\n",
    "cons_day(day)"
   ]
  },
  {
   "cell_type": "code",
   "execution_count": 1,
   "metadata": {
    "collapsed": false,
    "deletable": true,
    "editable": true
   },
   "outputs": [
    {
     "name": "stdout",
     "output_type": "stream",
     "text": [
      "请输入第1个整数，以回车结束。6\n",
      "请输入第2个整数，以回车结束。1\n",
      "请输入第3个整数，以回车结束。2\n",
      "最终的和是： 15\n"
     ]
    }
   ],
   "source": [
    "def compute_sum(end):\n",
    "    i = m\n",
    "    total_n = 0\n",
    "\n",
    "    while i < n:\n",
    "        i = i + k\n",
    "        total_n = total_n + i\n",
    "\n",
    "    return total_n\n",
    "n = int(input('请输入第1个整数，以回车结束。'))\n",
    "m = int(input('请输入第2个整数，以回车结束。'))\n",
    "k = int(input('请输入第3个整数，以回车结束。'))\n",
    "\n",
    "print('最终的和是：', compute_sum(n))"
   ]
  },
  {
   "cell_type": "code",
   "execution_count": 2,
   "metadata": {
    "collapsed": false,
    "deletable": true,
    "editable": true
   },
   "outputs": [
    {
     "name": "stdout",
     "output_type": "stream",
     "text": [
      "请输入一个单数单词eye\n",
      "在词尾加s\n"
     ]
    }
   ],
   "source": [
    "def compute(some_string):\n",
    "    if some_string=='photo'or some_string=='piano':\n",
    "        print('在词尾加s')\n",
    "    elif some_string.endswith('s')or some_string.endswith('x')or some_string.endswith('o')or some_string.endswith('sh')or some_string.endswith('ch'):\n",
    "        print('在词尾加es')\n",
    "    elif some_string.endswith('y'):\n",
    "        print('变y为i加es')\n",
    "    elif some_string.endswith('f')or some_string.endswith('fe'):\n",
    "        print('变f或fe为v,再加es')\n",
    "    else:\n",
    "        print('在词尾加s')\n",
    "\n",
    "\n",
    "some_string=input('请输入一个单数单词')\n",
    "compute(some_string)\n"
   ]
  },
  {
   "cell_type": "code",
   "execution_count": 18,
   "metadata": {
    "collapsed": false
   },
   "outputs": [
    {
     "name": "stdout",
     "output_type": "stream",
     "text": [
      "请输入您的姓名，以回车结束L\n",
      "Hello L\n",
      "请输入您的出生月份，以回车结束12\n",
      "请输入您的出生日期，以回车结束8\n",
      "你是射手座\n"
     ]
    }
   ],
   "source": [
    "def birth(birth_month,birth_day):\n",
    "    if birth_month==12:\n",
    "        if birth_day>21:\n",
    "            print('您是摩羯座')\n",
    "        else:\n",
    "            print('你是射手座')\n",
    "    if birth_month==11:\n",
    "        if bitrh_day>22:\n",
    "            print('你是射手座')\n",
    "        else:\n",
    "            print('你是天蝎座')\n",
    "    if birth_month==10:\n",
    "        if birth_day>23:\n",
    "            print('您是天蝎座')\n",
    "        else:\n",
    "            print('您是天秤座')\n",
    "    if birth_month==9:\n",
    "        if birth_day>22:\n",
    "            print('您是天秤座')\n",
    "        else:\n",
    "            print('您是处女座')\n",
    "    if birth_month==8:\n",
    "        if bitrh_day>22:\n",
    "            print('您是处女座')\n",
    "        else:\n",
    "            print('您是狮子座')\n",
    "    if birth_month==7:\n",
    "        if birth_day>22:\n",
    "            print('您是狮子座')\n",
    "        else:\n",
    "            print('您是巨蟹座')\n",
    "    if birth_month==6:\n",
    "        if birth_day>22:\n",
    "            print('你是巨蟹座')\n",
    "        else:\n",
    "            print('您是双子座')\n",
    "    if birth_month==5:\n",
    "        if birth_day>20:\n",
    "            print('您是双子座')\n",
    "        else:\n",
    "            print('您是金牛座')\n",
    "    if birth_month==4:\n",
    "        if birth_day>19:\n",
    "            print('您是金牛座')\n",
    "        else:\n",
    "            print('您是白羊座')\n",
    "    if birth_month==3:\n",
    "        if birth_day>20:\n",
    "            print('您是白羊座')\n",
    "        else:\n",
    "            print('您是双鱼座')\n",
    "    if birth_month==2:\n",
    "        if birth_day>18:\n",
    "            print('您是双鱼座')\n",
    "        else:\n",
    "            print('您是水瓶座')\n",
    "    if birth_month==1:\n",
    "        if birth_day>19:\n",
    "            print('您是水瓶座')\n",
    "        else:\n",
    "            print('您是摩羯座')\n",
    "   \n",
    "name=input('请输入您的姓名，以回车结束')\n",
    "print('Hello',name)\n",
    "birth_month=int(input('请输入您的出生月份，以回车结束'))\n",
    "birth_day=int(input('请输入您的出生日期，以回车结束'))\n",
    "birth(birth_month,birth_day)"
   ]
  },
  {
   "cell_type": "code",
   "execution_count": null,
   "metadata": {
    "collapsed": true
   },
   "outputs": [],
   "source": []
  },
  {
   "cell_type": "code",
   "execution_count": null,
   "metadata": {
    "collapsed": true
   },
   "outputs": [],
   "source": []
  }
 ],
 "metadata": {
  "kernelspec": {
   "display_name": "Python 3",
   "language": "python",
   "name": "python3"
  },
  "language_info": {
   "codemirror_mode": {
    "name": "ipython",
    "version": 3
   },
   "file_extension": ".py",
   "mimetype": "text/x-python",
   "name": "python",
   "nbconvert_exporter": "python",
   "pygments_lexer": "ipython3",
   "version": "3.6.0"
  }
 },
 "nbformat": 4,
 "nbformat_minor": 2
}
