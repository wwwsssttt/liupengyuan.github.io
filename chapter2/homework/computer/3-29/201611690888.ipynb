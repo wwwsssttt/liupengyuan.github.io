{
 "cells": [
  {
   "cell_type": "code",
   "execution_count": 1,
   "metadata": {
    "collapsed": false
   },
   "outputs": [
    {
     "name": "stdout",
     "output_type": "stream",
     "text": [
      "请输入第1个整数，以回车结束。5\n",
      "请输入第2个整数，以回车结束。3\n",
      "请输入第3个整数，以回车结束。2\n",
      "最终的积为： 128\n"
     ]
    }
   ],
   "source": [
    "def compute_pro(end):\n",
    "    i = 0\n",
    "    n = 1\n",
    "\n",
    "    while i < end:\n",
    "        i = i + 1 \n",
    "        n = n * i\n",
    "    return n\n",
    "\n",
    "\n",
    "n = int(input('请输入第1个整数，以回车结束。'))\n",
    "m = int(input('请输入第2个整数，以回车结束。'))\n",
    "k = int(input('请输入第3个整数，以回车结束。'))\n",
    "\n",
    "print('最终的积为：',compute_pro(n)+compute_pro(m)+compute_pro(k))"
   ]
  },
  {
   "cell_type": "code",
   "execution_count": 2,
   "metadata": {
    "collapsed": false
   },
   "outputs": [
    {
     "name": "stdout",
     "output_type": "stream",
     "text": [
      "n=1000时，结果为： 0.8574083456604576\n",
      "m=100000时，结果为： 0.858307356409462\n"
     ]
    }
   ],
   "source": [
    "def compute_sum(end):\n",
    "    i = 0\n",
    "    m = 1\n",
    "    total_n = 0\n",
    "\n",
    "    while i < end:\n",
    "        i = i + 1\n",
    "        m = m + 2\n",
    "        if i % 2 != 0 :\n",
    "            total_n = total_n + 1/m\n",
    "        else :\n",
    "            total_n = total_n - 1/m\n",
    "\n",
    "    return total_n\n",
    "\n",
    "m = 1000\n",
    "n = 10000 \n",
    "\n",
    "print('n=1000时，结果为：', compute_sum(m) * 4)\n",
    "print('m=100000时，结果为：', compute_sum(n) * 4)"
   ]
  },
  {
   "cell_type": "code",
   "execution_count": 4,
   "metadata": {
    "collapsed": false
   },
   "outputs": [
    {
     "name": "stdout",
     "output_type": "stream",
     "text": [
      "请输入一个单词：box\n",
      "boxes\n"
     ]
    }
   ],
   "source": [
    "def wordends(word) :\n",
    "    if word.endswith('x') or word.endswith('ch'):\n",
    "        print(word,'es',sep='')\n",
    "    else:\n",
    "        print(word,'s',sep='')\n",
    "        \n",
    "        \n",
    "word = input('请输入一个单词：')\n",
    "wordends(word)"
   ]
  },
  {
   "cell_type": "code",
   "execution_count": 9,
   "metadata": {
    "collapsed": false
   },
   "outputs": [
    {
     "name": "stdout",
     "output_type": "stream",
     "text": [
      "请输入用户姓名，以回车结束：william\n",
      "请输入生日（如8.04），以回车结束：11.21\n",
      "william ,你是非常有性格的 天蝎座 !\n"
     ]
    }
   ],
   "source": [
    "def constellation(birthday) :\n",
    "    if(birthday>=3.21 and birthday<=4.19) :\n",
    "        con= '白羊座'\n",
    "    elif(birthday>=4.20 and birthday<=5.20) :\n",
    "        con= '金牛座'\n",
    "    elif(birthday>=5.21 and birthday<=6.21) :\n",
    "        con= '双子座'\n",
    "    elif(birthday>=6.22 and birthday<=7.22) :\n",
    "        con= '巨蟹座'\n",
    "    elif(birthday>=7.23 and birthday<=8.22) :\n",
    "        con= '狮子座'\n",
    "    elif(birthday>=8.23 and birthday<=9.22) :\n",
    "        con= '处女座';\n",
    "    elif(birthday>=9.23 and birthday<=10.23) :\n",
    "        con= '天秤座';\n",
    "    elif(birthday>=10.24 and birthday<=11.22) :\n",
    "        con= '天蝎座';\n",
    "    elif(birthday>=11.23 and birthday<=12.21) :\n",
    "        con= '射手座';\n",
    "    elif(birthday>=12.22 and birthday<=1.19) :\n",
    "        con= '魔羯座';\n",
    "    elif(birthday>=1.20 and birthday<=2.18) :\n",
    "        con= '水平座';\n",
    "    elif(birthday>=2.19 and birthday<=3.20) :\n",
    "        con= '双鱼座'\n",
    "        \n",
    "    return con\n",
    "        \n",
    "name = input('请输入用户姓名，以回车结束：')\n",
    "birthday = float(input('请输入生日（如8.04），以回车结束：'))\n",
    "\n",
    "print(name,',你是非常有性格的',constellation(birthday),'!')"
   ]
  },
  {
   "cell_type": "code",
   "execution_count": 10,
   "metadata": {
    "collapsed": false
   },
   "outputs": [
    {
     "name": "stdout",
     "output_type": "stream",
     "text": [
      "请输入第1个整数，以回车结束。3\n",
      "请输入第2个整数，以回车结束。15\n",
      "请输入整数间的间隔，以回车结束。2\n",
      "累加的和为： 63\n"
     ]
    }
   ],
   "source": [
    "def compute_pro(front,end,interval) :\n",
    "    total = 0\n",
    "    a = 0\n",
    "    \n",
    "    if (front > end) :\n",
    "        a = front\n",
    "        front = end\n",
    "        end = a\n",
    "    while(front <= end) :\n",
    "        total = total + front \n",
    "        front = front + interval\n",
    "        \n",
    "    return total\n",
    "\n",
    "m = int(input('请输入第1个整数，以回车结束。'))\n",
    "n = int(input('请输入第2个整数，以回车结束。'))\n",
    "k = int(input('请输入整数间的间隔，以回车结束。'))\n",
    "\n",
    "print('累加的和为：',compute_pro(m,n,k))"
   ]
  }
 ],
 "metadata": {
  "kernelspec": {
   "display_name": "Python 3",
   "language": "python",
   "name": "python3"
  },
  "language_info": {
   "codemirror_mode": {
    "name": "ipython",
    "version": 3
   },
   "file_extension": ".py",
   "mimetype": "text/x-python",
   "name": "python",
   "nbconvert_exporter": "python",
   "pygments_lexer": "ipython3",
   "version": "3.6.0"
  }
 },
 "nbformat": 4,
 "nbformat_minor": 2
}
