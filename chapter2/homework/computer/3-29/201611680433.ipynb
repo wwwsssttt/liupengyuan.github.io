{
 "cells": [
  {
   "cell_type": "markdown",
   "metadata": {},
   "source": [
    "练习1"
   ]
  },
  {
   "cell_type": "code",
   "execution_count": 1,
   "metadata": {
    "collapsed": false
   },
   "outputs": [
    {
     "name": "stdout",
     "output_type": "stream",
     "text": [
      "please input a number:1\n",
      "please input a number:2\n",
      "please input a number:3\n",
      "三个数阶乘的和为: 9\n"
     ]
    }
   ],
   "source": [
    "def jiecheng(end):\n",
    "    i=0\n",
    "    total_n=1\n",
    "    \n",
    "    while i<end:\n",
    "        i+=1\n",
    "        total_n*=i\n",
    "    \n",
    "    return total_n\n",
    "\n",
    "m=int(input('please input a number:'))\n",
    "n=int(input('please input a number:'))\n",
    "k=int(input('please input a number:'))\n",
    "\n",
    "print('三个数阶乘的和为:',jiecheng(m)+jiecheng(n)+jiecheng(k))"
   ]
  },
  {
   "cell_type": "markdown",
   "metadata": {},
   "source": [
    "练习2"
   ]
  },
  {
   "cell_type": "code",
   "execution_count": 18,
   "metadata": {
    "collapsed": false
   },
   "outputs": [
    {
     "name": "stdout",
     "output_type": "stream",
     "text": [
      "3.140592653839794\n",
      "3.1415826535897198\n"
     ]
    }
   ],
   "source": [
    "def fenshu(end):\n",
    "    i=1\n",
    "    flag=0\n",
    "    total_n=0\n",
    "    \n",
    "    while flag<end:\n",
    "        flag+=1\n",
    "        if flag%2!=0:\n",
    "            total_n+=1/i\n",
    "        else:\n",
    "            total_n-=1/i\n",
    "        i+=2\n",
    "        \n",
    "    return total_n\n",
    "\n",
    "print(4*fenshu(1000))\n",
    "print(4*fenshu(100000))"
   ]
  },
  {
   "cell_type": "markdown",
   "metadata": {},
   "source": [
    "练习3（1）"
   ]
  },
  {
   "cell_type": "code",
   "execution_count": 3,
   "metadata": {
    "collapsed": false
   },
   "outputs": [
    {
     "name": "stdout",
     "output_type": "stream",
     "text": [
      "请输入你的姓名,以回车结束。peipei\n",
      "请输入出生的月份，以回车结束。3\n",
      "请输入出生的日期，以回车结束。27\n",
      "peipei 你是非常有性格的白羊座\n"
     ]
    }
   ],
   "source": [
    "def xingzuo(month,day):\n",
    "    if (month==3 and day>=21) or (month==4 and day<=19):\n",
    "        print(name,'你是非常有性格的白羊座')\n",
    "    elif (month==4&day>=20)|(month==5&day<=20):\n",
    "        print(name,'你是非常有性格的金牛座')\n",
    "    elif (month==5&day>=21)|(month==6&day<=21):\n",
    "        print(name,'你是非常有性格的双子座')\n",
    "    elif (month==6&day>=22)|(month==7&day<=22):\n",
    "        print(name,'你是非常有性格的巨蟹座')\n",
    "    elif (month==7&day>=23)|(month==8&day<=22):\n",
    "        print(name,'你是非常有性格的狮子座')\n",
    "    elif (month==8&day>=23)|(month==9&day<=22):\n",
    "        print(name,'你是非常有性格的处女座')\n",
    "    elif (month==9&day>=23)|(month==10&day<=23):\n",
    "        print(name,'你是非常有性格的天秤座')\n",
    "    elif (month==10&day>=24)|(month==11&day<=22):\n",
    "        print(name,'你是非常有性格的天蝎座')\n",
    "    elif (month==11&day>=23)|(month==12&day<=21):\n",
    "        print(name,'你是非常有性格的射手座')\n",
    "    elif (month==12&day>=22)|(month==1&day<=19):\n",
    "        print(name,'你是非常有性格的摩羯座')\n",
    "    elif (month==1&day>=20)|(month==2&day<=18):\n",
    "        print(name,'你是非常有性格的水瓶座')\n",
    "    elif (month==2&day>=19|month==3&day<=20):\n",
    "        print(name,'你是非常有性格的双鱼座')\n",
    "\n",
    "    \n",
    "name=input('请输入你的姓名,以回车结束。')\n",
    "month=int(input('请输入出生的月份，以回车结束。'))\n",
    "day=int(input('请输入出生的日期，以回车结束。'))\n",
    "\n",
    "xingzuo(month,day)"
   ]
  },
  {
   "cell_type": "markdown",
   "metadata": {},
   "source": [
    "练习3（2）"
   ]
  },
  {
   "cell_type": "code",
   "execution_count": 6,
   "metadata": {
    "collapsed": false
   },
   "outputs": [
    {
     "name": "stdout",
     "output_type": "stream",
     "text": [
      "please input a word:stress\n",
      "stresses\n"
     ]
    }
   ],
   "source": [
    "def zimubianxing(danshu):\n",
    "    if danshu.endswith('x') or danshu.endswith('s') or danshu.endswith('sh') or danshu.endswith('ch'):\n",
    "        print(danshu,'es',sep='')\n",
    "    else:\n",
    "        print(danshu,'s',sep='')\n",
    "        \n",
    "word=input('please input a word:')\n",
    "\n",
    "zimubianxing(word)"
   ]
  },
  {
   "cell_type": "markdown",
   "metadata": {},
   "source": [
    "挑战性练习"
   ]
  },
  {
   "cell_type": "code",
   "execution_count": 13,
   "metadata": {
    "collapsed": false
   },
   "outputs": [
    {
     "name": "stdout",
     "output_type": "stream",
     "text": [
      "please input a number(start):2\n",
      "please input a number(end):100\n",
      "please input a number(gap):2\n",
      "2550\n"
     ]
    }
   ],
   "source": [
    "def tiaosum(start,end,gap):\n",
    "    i=start\n",
    "    total_n=0\n",
    "    \n",
    "    while i<=end:\n",
    "        total_n+=i\n",
    "        i+=gap\n",
    "    \n",
    "    return total_n\n",
    "\n",
    "m=int(input('please input a number(start):'))\n",
    "n=int(input('please input a number(end):'))\n",
    "k=int(input('please input a number(gap):'))\n",
    "\n",
    "print(tiaosum(m,n,k))"
   ]
  }
 ],
 "metadata": {
  "kernelspec": {
   "display_name": "Python 3",
   "language": "python",
   "name": "python3"
  },
  "language_info": {
   "codemirror_mode": {
    "name": "ipython",
    "version": 3
   },
   "file_extension": ".py",
   "mimetype": "text/x-python",
   "name": "python",
   "nbconvert_exporter": "python",
   "pygments_lexer": "ipython3",
   "version": "3.6.0"
  }
 },
 "nbformat": 4,
 "nbformat_minor": 2
}
