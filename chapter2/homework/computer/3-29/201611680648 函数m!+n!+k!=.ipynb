{
 "cells": [
  {
   "cell_type": "code",
   "execution_count": 1,
   "metadata": {
    "collapsed": false
   },
   "outputs": [
    {
     "name": "stdout",
     "output_type": "stream",
     "text": [
      "请输入整数m的值1\n",
      "请输入整数n的值2\n",
      "请输入整数k的值3\n",
      "m!+n!+k!= 9\n"
     ]
    }
   ],
   "source": [
    "def jc(n):\n",
    "    i=0\n",
    "    p=1\n",
    "    while i<n:\n",
    "        i+=1\n",
    "        p*=i\n",
    "    return p\n",
    "m=int(input('请输入整数m的值'))\n",
    "n=int(input('请输入整数n的值'))\n",
    "k=int(input('请输入整数k的值'))\n",
    "print('m!+n!+k!=',jc(m)+jc(n)+jc(k))"
   ]
  }
 ],
 "metadata": {
  "kernelspec": {
   "display_name": "Python 3",
   "language": "python",
   "name": "python3"
  },
  "language_info": {
   "codemirror_mode": {
    "name": "ipython",
    "version": 3
   },
   "file_extension": ".py",
   "mimetype": "text/x-python",
   "name": "python",
   "nbconvert_exporter": "python",
   "pygments_lexer": "ipython3",
   "version": "3.6.0"
  }
 },
 "nbformat": 4,
 "nbformat_minor": 2
}
