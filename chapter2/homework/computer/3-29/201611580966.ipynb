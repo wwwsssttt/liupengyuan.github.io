{
 "cells": [
  {
   "cell_type": "code",
   "execution_count": 18,
   "metadata": {
    "collapsed": false
   },
   "outputs": [
    {
     "name": "stdout",
     "output_type": "stream",
     "text": [
      "请输入第1个整数，回车结束。5\n",
      "请输入第2个整数，回车结束。6\n",
      "请输入第3个整数，回车结束。7\n",
      "最终的和是： 5880\n"
     ]
    }
   ],
   "source": [
    "def sum(end):\n",
    "    i=1\n",
    "    multi=1\n",
    "    \n",
    "    while i<=end:\n",
    "        multi=multi*i\n",
    "        i=i+1\n",
    "        \n",
    "    return multi\n",
    "\n",
    "m=int(input('请输入第1个整数，回车结束。'))\n",
    "n=int(input('请输入第2个整数，回车结束。'))\n",
    "k=int(input('请输入第3个整数，回车结束。'))\n",
    "\n",
    "print('最终的和是：',sum(m)+sum(n)+sum(k))"
   ]
  },
  {
   "cell_type": "code",
   "execution_count": 19,
   "metadata": {
    "collapsed": false
   },
   "outputs": [
    {
     "name": "stdout",
     "output_type": "stream",
     "text": [
      "请输入你想输入的项数，回车结束。100\n",
      "结果是: 3.1516934060711166\n"
     ]
    }
   ],
   "source": [
    "def sum(end):\n",
    "    m=1\n",
    "    i=0\n",
    "    total_n=0\n",
    "    \n",
    "    while m<end:\n",
    "        if m%2 !=0:\n",
    "            i=1/(2*m-1)\n",
    "        else:\n",
    "            i=(-1)/(2*m-1)\n",
    "           \n",
    "        m+=1\n",
    "        total_n=total_n+i\n",
    "            \n",
    "    return total_n\n",
    "            \n",
    "n=int(input('请输入你想输入的项数，回车结束。'))\n",
    "print('结果是:',4*sum(n))"
   ]
  },
  {
   "cell_type": "code",
   "execution_count": 20,
   "metadata": {
    "collapsed": false
   },
   "outputs": [
    {
     "name": "stdout",
     "output_type": "stream",
     "text": [
      "请输入一个整数，回车结束。8\n",
      "请输入一个整数作为间隔，回车结束。3\n"
     ]
    },
    {
     "data": {
      "text/plain": [
       "38"
      ]
     },
     "execution_count": 20,
     "metadata": {},
     "output_type": "execute_result"
    }
   ],
   "source": [
    "def sum(a,b):\n",
    "    if a<=b:\n",
    "        total=0\n",
    "        while a<=b:\n",
    "            total=total+a\n",
    "            a+=1\n",
    "    else:\n",
    "        total=0\n",
    "        while a>=b:\n",
    "            total=total+b\n",
    "            b+=1\n",
    "    return total\n",
    "\n",
    "m=int(input('请输入一个整数，回车结束。'))\n",
    "k=int(input('请输入一个整数作为间隔，回车结束。'))\n",
    "n=(m+k)\n",
    "sum(m,n)"
   ]
  }
 ],
 "metadata": {
  "kernelspec": {
   "display_name": "Python 3",
   "language": "python",
   "name": "python3"
  },
  "language_info": {
   "codemirror_mode": {
    "name": "ipython",
    "version": 3
   },
   "file_extension": ".py",
   "mimetype": "text/x-python",
   "name": "python",
   "nbconvert_exporter": "python",
   "pygments_lexer": "ipython3",
   "version": "3.6.0"
  }
 },
 "nbformat": 4,
 "nbformat_minor": 2
}
