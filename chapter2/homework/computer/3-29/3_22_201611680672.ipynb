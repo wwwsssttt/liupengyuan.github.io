{
 "cells": [
  {
   "cell_type": "code",
   "execution_count": 1,
   "metadata": {
    "collapsed": false,
    "deletable": true,
    "editable": true
   },
   "outputs": [
    {
     "name": "stdout",
     "output_type": "stream",
     "text": [
      "please enter an integer. 3\n",
      "please enter an integer. 4\n",
      "please enter an integer. 5\n",
      "31\n"
     ]
    }
   ],
   "source": [
    "def total (m):\n",
    "    i=0\n",
    "    ntotal=0\n",
    "    while i<m:\n",
    "        i+=1\n",
    "        ntotal+=i\n",
    "    return ntotal\n",
    "m=int(input('please enter an integer. '))\n",
    "n=int(input('please enter an integer. '))\n",
    "k=int(input('please enter an integer. '))\n",
    "\n",
    "sum=total(n)+total(m)+total(k)\n",
    "print(sum)"
   ]
  },
  {
   "cell_type": "markdown",
   "metadata": {
    "deletable": true,
    "editable": true
   },
   "source": [
    "练习 1：仿照求$ \\sum_{i=1}^mi + \\sum_{i=1}^ni + \\sum_{i=1}^ki$的完整代码，写程序，可求m!+n!+k!"
   ]
  },
  {
   "cell_type": "code",
   "execution_count": 2,
   "metadata": {
    "collapsed": false,
    "deletable": true,
    "editable": true
   },
   "outputs": [
    {
     "name": "stdout",
     "output_type": "stream",
     "text": [
      "please enter an integer. 6\n",
      "please enter an integer. 2\n",
      "please enter an integer. 4\n",
      "The result of  6 !+ 2 !+ 4 ! is : 746\n"
     ]
    }
   ],
   "source": [
    "def total (m):\n",
    "    i=0\n",
    "    result=1\n",
    "    while i<m:\n",
    "        i+=1\n",
    "        result*=i\n",
    "    return result\n",
    "m=int(input('please enter an integer. '))\n",
    "n=int(input('please enter an integer. '))\n",
    "k=int(input('please enter an integer. '))\n",
    "\n",
    "print('The result of ',m,'!+',n,'!+',k,'! is :',total(m)+total(n)+total(k))"
   ]
  },
  {
   "cell_type": "markdown",
   "metadata": {
    "deletable": true,
    "editable": true
   },
   "source": [
    "练习 2：写函数可返回1 - 1/3 + 1/5 - 1/7...的前n项的和。在主程序中，分别令n=1000及100000，打印4倍该函数的和。"
   ]
  },
  {
   "cell_type": "code",
   "execution_count": 3,
   "metadata": {
    "collapsed": false,
    "deletable": true,
    "editable": true
   },
   "outputs": [
    {
     "name": "stdout",
     "output_type": "stream",
     "text": [
      "please enter an integer. 1000\n",
      "please enter an integer. 100000\n",
      "resoult is : 3.140592653839794\n",
      "resoult is : 3.1415826535897198\n"
     ]
    }
   ],
   "source": [
    "def sum (n):\n",
    "    i=0\n",
    "    total=0\n",
    "    while i<n:\n",
    "        i+=1\n",
    "        if i%2==0:\n",
    "            total-=1/(2*i-1)\n",
    "        else:\n",
    "            total+=1/(2*i-1)\n",
    "    return total\n",
    "n=int(input('please enter an integer. '))\n",
    "m=int(input('please enter an integer. '))\n",
    "\n",
    "print('resoult is :',4*sum(n))\n",
    "print('resoult is :',4*sum(m))"
   ]
  },
  {
   "cell_type": "markdown",
   "metadata": {
    "deletable": true,
    "editable": true
   },
   "source": [
    "练习 3：将task3中的练习1及练习4改写为函数，并进行调用。"
   ]
  },
  {
   "cell_type": "markdown",
   "metadata": {
    "collapsed": true,
    "deletable": true,
    "editable": true
   },
   "source": [
    "- TASK3练习 1：写程序，可由键盘读入用户姓名例如Mr. right，让用户输入出生的月份与日期，判断用户星座，假设用户是金牛座，则输出，Mr. right，你是非常有性格的金牛座！。"
   ]
  },
  {
   "cell_type": "code",
   "execution_count": 8,
   "metadata": {
    "collapsed": false
   },
   "outputs": [
    {
     "name": "stdout",
     "output_type": "stream",
     "text": [
      "what is your name ?\n",
      "ZMM\n",
      "when is your birthday ?for example 3 月 4日 以如下格式输如：304\n",
      "426\n",
      "Mr ZMM 你是双鱼座\n"
     ]
    }
   ],
   "source": [
    "def find_star ( n,name):\n",
    "    if 321<=n<=419 :\n",
    "        print('Mr',name,'你是白羊座')\n",
    "    elif 420<=n<=520 :\n",
    "         print('Mr',name,'你是非常有个性的金牛座！')\n",
    "    elif 521<=n<=621 :\n",
    "         print('Mr',name,'你是双子座')\n",
    "    elif 622<=n<=722 :\n",
    "         print('Mr',name,'你是巨蟹座')\n",
    "    elif 723<=n<=822 :\n",
    "         print('Mr',name,'你是狮子座')\n",
    "    elif 823<=n<=922 :\n",
    "         print('Mr',name,'你是处女座')\n",
    "    elif 923<=n<=1023 :\n",
    "         print('Mr',name,'你是天枰座')\n",
    "    elif 1024<=n<=1122 :\n",
    "         print('Mr',name,'你是天蝎座')\n",
    "    elif 1123<=n<=1221 :\n",
    "         print('Mr',name,'你是射手座')\n",
    "    elif 1222<=n<=1231 or  101<=n<=119 :\n",
    "         print('Mr',name,'你是摩羯座')\n",
    "    elif 120<=n<=218 :\n",
    "         print('Mr',name,'你是水平座')\n",
    "    else :\n",
    "         print('Mr',name,'你是双鱼座')\n",
    "        \n",
    "print('what is your name ?')\n",
    "name=input()\n",
    "print('when is your birthday ?for example 3 月 4日 以如下格式输如：304')\n",
    "dat=int(input())\n",
    "find_star(n,name)"
   ]
  },
  {
   "cell_type": "markdown",
   "metadata": {},
   "source": [
    "- TASK3练习 4：英文单词单数转复数，要求输入一个英文动词（单数形式），能够得到其复数形式，或给出单数转复数形式的建议（提示，some_string.endswith(some_letter)函数可以判断某字符串结尾字符，可尝试运行：'myname'.endswith('me')，liupengyuan'.endswith('n')）。"
   ]
  },
  {
   "cell_type": "code",
   "execution_count": 11,
   "metadata": {
    "collapsed": false
   },
   "outputs": [
    {
     "name": "stdout",
     "output_type": "stream",
     "text": [
      "please enter a word :pig\n",
      "pigs\n"
     ]
    }
   ],
   "source": [
    "def change(word):\n",
    "    if  word.endswith('sh') or word.endswith('ch') or word.endswith('x') or word.endswith('s'):\n",
    "        print(word,'es',sep='')\n",
    "    else:\n",
    "        print(word,'s',sep='')\n",
    "\n",
    "word=input('please enter a word :')\n",
    "change(word)"
   ]
  },
  {
   "cell_type": "markdown",
   "metadata": {
    "deletable": true,
    "editable": true
   },
   "source": [
    "挑战性练习：写程序，可以求从整数m到整数n累加的和，间隔为k，求和部分需用函数实现，主程序中由用户输入m，n，k调用函数验证正确性。"
   ]
  },
  {
   "cell_type": "code",
   "execution_count": 5,
   "metadata": {
    "collapsed": false,
    "deletable": true,
    "editable": true
   },
   "outputs": [
    {
     "name": "stdout",
     "output_type": "stream",
     "text": [
      "please enter the from integer :1\n",
      "please enter the to integer : 6\n",
      "please enter the gap :2\n",
      "The result : 9\n"
     ]
    }
   ],
   "source": [
    "def sum (m,n,k):\n",
    "    i=m\n",
    "    total=m\n",
    "    while i<n and i+k<=n :\n",
    "        i+=k\n",
    "        total+=i\n",
    "    return total\n",
    "m=int(input('please enter the from integer :'))\n",
    "n=int(input('please enter the to integer : '))\n",
    "k=int(input('please enter the gap :'))\n",
    "\n",
    "print('The result :',sum(m,n,k))"
   ]
  },
  {
   "cell_type": "code",
   "execution_count": null,
   "metadata": {
    "collapsed": true
   },
   "outputs": [],
   "source": []
  }
 ],
 "metadata": {
  "kernelspec": {
   "display_name": "Python 3",
   "language": "python",
   "name": "python3"
  },
  "language_info": {
   "codemirror_mode": {
    "name": "ipython",
    "version": 3
   },
   "file_extension": ".py",
   "mimetype": "text/x-python",
   "name": "python",
   "nbconvert_exporter": "python",
   "pygments_lexer": "ipython3",
   "version": "3.6.0"
  }
 },
 "nbformat": 4,
 "nbformat_minor": 2
}
