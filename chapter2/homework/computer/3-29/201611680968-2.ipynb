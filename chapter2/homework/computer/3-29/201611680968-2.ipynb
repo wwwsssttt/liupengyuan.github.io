{
 "cells": [
  {
   "cell_type": "code",
   "execution_count": 1,
   "metadata": {
    "collapsed": false
   },
   "outputs": [
    {
     "name": "stdout",
     "output_type": "stream",
     "text": [
      "plz input first int:21\n",
      "plz input second int:23\n",
      "plz input third int:22\n",
      "m!+n!+k!= 621572402461017047040001\n"
     ]
    }
   ],
   "source": [
    "#练习1\n",
    "n=int(input('plz input first int:'))\n",
    "i=1\n",
    "result_n=1\n",
    "while i<=n:\n",
    "    i=i+1\n",
    "    result_n=result_n*i\n",
    "m=int(input('plz input second int:'))\n",
    "i=1\n",
    "result_m=1\n",
    "while i<=m:\n",
    "    i=i+1\n",
    "    result_m=result_m*i\n",
    "k=int(input('plz input third int:'))\n",
    "i=1\n",
    "result_k=1\n",
    "while i<=k:\n",
    "    i=i+1\n",
    "    result_s=result_k*i\n",
    "sum=result_m+result_n+result_k\n",
    "print('m!+n!+k!=',sum)"
   ]
  },
  {
   "cell_type": "code",
   "execution_count": 8,
   "metadata": {
    "collapsed": false
   },
   "outputs": [
    {
     "name": "stdout",
     "output_type": "stream",
     "text": [
      "3.140592653839794\n",
      "3.1414926535900345\n"
     ]
    }
   ],
   "source": [
    "#练习2\n",
    "def compute_sum(n):\n",
    "    i=0\n",
    "    total=0\n",
    "    while i<n:\n",
    "        i=i+1\n",
    "        if i%2==0:\n",
    "            total-=1/(2*i-1)\n",
    "        else:\n",
    "            total+=1/(2*i-1)\n",
    "    return total\n",
    "print(4*compute_sum(1000))\n",
    "print(4*compute_sum(10000))"
   ]
  },
  {
   "cell_type": "code",
   "execution_count": 18,
   "metadata": {
    "collapsed": false
   },
   "outputs": [
    {
     "name": "stdout",
     "output_type": "stream",
     "text": [
      "plz input your name:l\n",
      "plz iput your birthday:2.11\n",
      "l 你是非常有性格的 水瓶座\n"
     ]
    }
   ],
   "source": [
    "#练习3\n",
    "def xingzuo(name,date):\n",
    "    if 1.19<date<2.19:\n",
    "        xing='水瓶座'\n",
    "    elif 2.18<date<3.21:\n",
    "        xing='双鱼座'\n",
    "    elif 3.20<date<4.20:\n",
    "        xing='白羊座'\n",
    "    elif 4.19<date<5.21:\n",
    "        xing='金牛座'\n",
    "    elif 5.20<date<6.22:\n",
    "        xing='双子座'\n",
    "    elif 6.21<date<7.23:\n",
    "        xing='巨蟹座'\n",
    "    elif 7.22<date<8.23:\n",
    "        xing='狮子座'\n",
    "    elif 8.22<date<9.23:\n",
    "        xing='处女座'\n",
    "    elif 9.22<date<10.24:\n",
    "        xing='天秤座'\n",
    "    elif 10.23<date<11.23:\n",
    "        xing='天蝎座'\n",
    "    elif 11.22<date<12.22:\n",
    "        xing='射手座'\n",
    "    elif 12.21<date<1.20:\n",
    "        xing='摩羯座'\n",
    "    print(name,'你是非常有性格的',xing)\n",
    "name=str(input('plz input your name:'))\n",
    "date=float(input('plz iput your birthday:'))\n",
    "xingzuo(name,date)\n"
   ]
  },
  {
   "cell_type": "code",
   "execution_count": null,
   "metadata": {
    "collapsed": false
   },
   "outputs": [],
   "source": [
    "#练习3\n",
    "def plu(Eng_word):\n",
    "    if Eng_word.endswith('s') or Eng_word.endswith('x') or Eng_word.endswith('sh') or Eng_word.endswith('ch'):\n",
    "        print (Eng_word+'es')\n",
    "    elif Eng_word.endswith('y'):\n",
    "        print (Eng_word[0:len(Eng_word)-1]+'ies')\n",
    "    else :\n",
    "        print (Eng_word+'s')\n",
    "        \n",
    "while True :\n",
    "    Eng_word = input('请输入一个要转换的英语单词')\n",
    "    plu(Eng_word)"
   ]
  },
  {
   "cell_type": "code",
   "execution_count": 4,
   "metadata": {
    "collapsed": false
   },
   "outputs": [
    {
     "name": "stdout",
     "output_type": "stream",
     "text": [
      "输入m:1\n",
      "输入n:10\n",
      "输入k:3\n",
      "12\n"
     ]
    }
   ],
   "source": [
    "#挑战性练习\n",
    "def sum():\n",
    "    m=int(input('输入m:'))\n",
    "    n=int(input('输入n:'))\n",
    "    k=int(input('输入k:'))\n",
    "    total=0\n",
    "    while m<n:\n",
    "        total=total+m\n",
    "        m=m+k\n",
    "    print(total)\n",
    "sum()    "
   ]
  },
  {
   "cell_type": "code",
   "execution_count": null,
   "metadata": {
    "collapsed": true
   },
   "outputs": [],
   "source": []
  }
 ],
 "metadata": {
  "kernelspec": {
   "display_name": "Python 3",
   "language": "python",
   "name": "python3"
  },
  "language_info": {
   "codemirror_mode": {
    "name": "ipython",
    "version": 3
   },
   "file_extension": ".py",
   "mimetype": "text/x-python",
   "name": "python",
   "nbconvert_exporter": "python",
   "pygments_lexer": "ipython3",
   "version": "3.6.0"
  }
 },
 "nbformat": 4,
 "nbformat_minor": 2
}
