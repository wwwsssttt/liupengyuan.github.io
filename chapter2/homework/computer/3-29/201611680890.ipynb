{
 "cells": [
  {
   "cell_type": "code",
   "execution_count": 1,
   "metadata": {
    "collapsed": false,
    "deletable": true,
    "editable": true
   },
   "outputs": [
    {
     "name": "stdout",
     "output_type": "stream",
     "text": [
      "请输入第1个整数，以回车结束。5\n",
      "请输入第2个整数，以回车结束。4\n",
      "请输入第3个整数，以回车结束。3\n",
      "120\n",
      "24\n",
      "6\n",
      "最终的结果： 150\n"
     ]
    }
   ],
   "source": [
    "def compute_cheng(end):\n",
    "    i = 0\n",
    "    total_n = 1\n",
    "\n",
    "    while i < end:\n",
    "        i += 1\n",
    "        total_n *= i\n",
    "    print(total_n)\n",
    "\n",
    "    return total_n\n",
    "\n",
    "m = int(input('请输入第1个整数，以回车结束。'))\n",
    "n = int(input('请输入第2个整数，以回车结束。'))\n",
    "k = int(input('请输入第3个整数，以回车结束。'))\n",
    "\n",
    "print('最终的结果：', compute_cheng(m) + compute_cheng(n) + compute_cheng(k))"
   ]
  },
  {
   "cell_type": "code",
   "execution_count": 1,
   "metadata": {
    "collapsed": false,
    "deletable": true,
    "editable": true
   },
   "outputs": [
    {
     "name": "stdout",
     "output_type": "stream",
     "text": [
      "请输入一个整数3\n",
      "0.7646006914818333\n",
      "3.140592653839794\n",
      "3.1415826535897198\n"
     ]
    }
   ],
   "source": [
    "def compute(n):\n",
    "    i = 0\n",
    "    total = 0\n",
    "    \n",
    "    while i < n:\n",
    "        i += 1\n",
    "        if i % 2 == 1:\n",
    "            total += 1/(2*i - 1) \n",
    "        else:\n",
    "            total -= 1/(2*i - 1) \n",
    "    return total\n",
    "\n",
    "n = int(input('请输入一个整数'))\n",
    "print(compute(n * 4))\n",
    "print(compute(1000) * 4)\n",
    "print(compute(100000) * 4)\n"
   ]
  },
  {
   "cell_type": "code",
   "execution_count": 17,
   "metadata": {
    "collapsed": false,
    "deletable": true,
    "editable": true,
    "scrolled": true
   },
   "outputs": [
    {
     "name": "stdout",
     "output_type": "stream",
     "text": [
      "请输入你的名字Melody\n",
      "出生月份2\n",
      "出生日期2\n",
      "Melody ， 恭喜你是和我一样完美的水瓶座\n"
     ]
    }
   ],
   "source": [
    "def star(month,day):\n",
    "    if (month == 3 and day >= 21) or (month == 4 and day <= 19):\n",
    "        print(name,'，','你是很白的白羊座')\n",
    "    elif (month == 4 and day >= 20) or (month == 5 and day <= 20):\n",
    "        print(name,'，','你是很牛的金牛座')\n",
    "    elif (month == 5 and day >= 21) or (month == 6 and day <= 21):\n",
    "        print(name,'，','你是计划生育的双子座')\n",
    "    elif (month == 6 and day >= 22) or (month == 7 and day <= 22):\n",
    "        print(name,'，','你是温柔的巨蟹座')\n",
    "    elif (month == 7 and day >= 23) or (month == 8 and day <= 22):\n",
    "        print(name,'，','你是属狮的狮子座')\n",
    "    elif (month == 8 and day >= 23) or (month == 9 and day <= 22):\n",
    "        print(name,'，','你是全网黑的处女座')\n",
    "    elif (month == 9 and day >= 23) or (month == 10 and day <= 23):\n",
    "        print(name,'，','你是不知道怎么的天秤座')\n",
    "    elif (month == 10 and day >= 24) or (month == 11 and day <= 22):\n",
    "        print(name,'，','你是尾巴大的鞋子座')\n",
    "    elif (month == 11 and day >= 23) or (month == 12 and day <= 21):\n",
    "        print(name,'，','你是手疼的射手座')\n",
    "    elif (month == 12 and day >= 22) or (month == 1 and day <= 19):\n",
    "        print(name,'，','你是让我词穷的摩羯座')\n",
    "    elif (month == 1 and day >= 20) or (month == 2 and day <= 18):\n",
    "        print(name,'，','恭喜你是和我一样完美的水瓶座')\n",
    "    elif (month == 2 and day >= 19) or (month == 3 and day <= 20):\n",
    "        print(name,'，','你是我爱吃的双鱼座')\n",
    "        \n",
    "name = input('请输入你的名字')\n",
    "month = int(input('出生月份'))\n",
    "day = int(input('出生日期'))\n",
    "star(month,day)"
   ]
  },
  {
   "cell_type": "code",
   "execution_count": 14,
   "metadata": {
    "collapsed": false,
    "deletable": true,
    "editable": true
   },
   "outputs": [
    {
     "name": "stdout",
     "output_type": "stream",
     "text": [
      "请输入英文单词wish\n",
      "词尾加es\n"
     ]
    }
   ],
   "source": [
    "def change(word):\n",
    "    if word.endswith('s') | word.endswith('x') | word.endswith('sh') | word.endswith('ch'):\n",
    "        print('词尾加es')\n",
    "    elif word.endwith('f') | word.endswith('fe'):\n",
    "        print('将f变为v，加s')\n",
    "    elif word.endwith('y'):\n",
    "        print('去掉y加ies')    \n",
    "    else:\n",
    "        print('直接加s')\n",
    "\n",
    "word = input('请输入英文单词')\n",
    "change(word)"
   ]
  },
  {
   "cell_type": "code",
   "execution_count": 3,
   "metadata": {
    "collapsed": false,
    "deletable": true,
    "editable": true
   },
   "outputs": [
    {
     "name": "stdout",
     "output_type": "stream",
     "text": [
      "请输入第一个整数2\n",
      "请输入第二个整数10\n",
      "请输入间隔2\n"
     ]
    },
    {
     "data": {
      "text/plain": [
       "30"
      ]
     },
     "execution_count": 3,
     "metadata": {},
     "output_type": "execute_result"
    }
   ],
   "source": [
    "def sum(m,n,k):\n",
    "    i = m\n",
    "    sum = m\n",
    "    while i<n:\n",
    "        i += k\n",
    "        sum += i\n",
    "    return sum\n",
    "\n",
    "m = int(input('请输入第一个整数'))\n",
    "n = int(input('请输入第二个整数'))\n",
    "k = int(input('请输入间隔'))\n",
    "sum(m,n,k)"
   ]
  },
  {
   "cell_type": "code",
   "execution_count": null,
   "metadata": {
    "collapsed": true
   },
   "outputs": [],
   "source": []
  }
 ],
 "metadata": {
  "kernelspec": {
   "display_name": "Python 3",
   "language": "python",
   "name": "python3"
  },
  "language_info": {
   "codemirror_mode": {
    "name": "ipython",
    "version": 3
   },
   "file_extension": ".py",
   "mimetype": "text/x-python",
   "name": "python",
   "nbconvert_exporter": "python",
   "pygments_lexer": "ipython3",
   "version": "3.6.0"
  }
 },
 "nbformat": 4,
 "nbformat_minor": 2
}
