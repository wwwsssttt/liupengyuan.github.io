{
 "cells": [
  {
   "cell_type": "code",
   "execution_count": 1,
   "metadata": {
    "collapsed": false
   },
   "outputs": [
    {
     "name": "stdout",
     "output_type": "stream",
     "text": [
      "请输入第1个整数，以回车结束。1\n",
      "请输入第2个整数，以回车结束。2\n",
      "请输入第3个整数，以回车结束。3\n",
      "最终的和是： 9\n"
     ]
    }
   ],
   "source": [
    "#求m!+n!+k!\n",
    "def compute_chengji(end):\n",
    "    i = 1\n",
    "    total_n = 1\n",
    "    while i < end:\n",
    "        i = i + 1\n",
    "        total_n = total_n * i\n",
    "    return(total_n)\n",
    "\n",
    "# 主程序\n",
    "n = int(input('请输入第1个整数，以回车结束。'))\n",
    "m = int(input('请输入第2个整数，以回车结束。'))\n",
    "k = int(input('请输入第3个整数，以回车结束。'))\n",
    "\n",
    "print('最终的和是：', compute_chengji(m) + compute_chengji(n) + compute_chengji(k))"
   ]
  },
  {
   "cell_type": "code",
   "execution_count": 2,
   "metadata": {
    "collapsed": false
   },
   "outputs": [
    {
     "name": "stdout",
     "output_type": "stream",
     "text": [
      "3.140592653839794\n",
      "3.1414926535900345\n"
     ]
    }
   ],
   "source": [
    "def sum(end):\n",
    "    flag=1.0\n",
    "    sun=0\n",
    "    den=1.0\n",
    "    i=0\n",
    "    item=1.0\n",
    "    while i<end:\n",
    "        i=i+1\n",
    "        item=flag/den\n",
    "        sun+=item\n",
    "        flag=-flag\n",
    "        den+=2\n",
    "    return sun\n",
    "print(4*sum(1000))\n",
    "print(4*sum(10000))"
   ]
  },
  {
   "cell_type": "code",
   "execution_count": 3,
   "metadata": {
    "collapsed": false
   },
   "outputs": [
    {
     "name": "stdout",
     "output_type": "stream",
     "text": [
      "输入m:2\n",
      "输入n:100\n",
      "输入间隔k:2\n",
      "2548\n"
     ]
    }
   ],
   "source": [
    "def sum():\n",
    "    m=int(input('输入m:'))\n",
    "    n=int(input('输入n:'))\n",
    "    k=int(input('输入间隔k:'))\n",
    "    total=0\n",
    "    while m<n:\n",
    "        m=m+k\n",
    "        total=total+m\n",
    "    print(total)\n",
    "sum()\n",
    "    "
   ]
  },
  {
   "cell_type": "code",
   "execution_count": null,
   "metadata": {
    "collapsed": true
   },
   "outputs": [],
   "source": []
  }
 ],
 "metadata": {
  "kernelspec": {
   "display_name": "Python 3",
   "language": "python",
   "name": "python3"
  },
  "language_info": {
   "codemirror_mode": {
    "name": "ipython",
    "version": 3
   },
   "file_extension": ".py",
   "mimetype": "text/x-python",
   "name": "python",
   "nbconvert_exporter": "python",
   "pygments_lexer": "ipython3",
   "version": "3.6.0"
  }
 },
 "nbformat": 4,
 "nbformat_minor": 2
}
