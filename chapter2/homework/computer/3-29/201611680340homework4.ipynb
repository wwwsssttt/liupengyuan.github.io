{
 "cells": [
  {
   "cell_type": "code",
   "execution_count": 16,
   "metadata": {
    "collapsed": false
   },
   "outputs": [
    {
     "name": "stdout",
     "output_type": "stream",
     "text": [
      "请输入第1个整数，以回车结束。5\n",
      "请输入第2个整数，以回车结束。5\n",
      "请输入第3个整数，以回车结束。5\n",
      "最终的和是： 360\n"
     ]
    }
   ],
   "source": [
    "def compute_jicheng(end):\n",
    "    i = 1\n",
    "    val=1\n",
    "\n",
    "    while i < end:\n",
    "        i = i + 1\n",
    "        val = val * i\n",
    "\n",
    "    return val\n",
    "\n",
    "n = int(input('请输入第1个整数，以回车结束。'))\n",
    "m = int(input('请输入第2个整数，以回车结束。'))\n",
    "k = int(input('请输入第3个整数，以回车结束。'))\n",
    "\n",
    "print('最终的和是：', compute_jicheng(m) + compute_jicheng(n) + compute_jicheng(k))"
   ]
  },
  {
   "cell_type": "code",
   "execution_count": 28,
   "metadata": {
    "collapsed": false
   },
   "outputs": [
    {
     "name": "stdout",
     "output_type": "stream",
     "text": [
      "4倍该函数的和为： 3.142593654340044\n",
      "4倍该函数的和为： 3.1416026536897204\n"
     ]
    }
   ],
   "source": [
    "#写函数可返回1 - 1/3 + 1/5 - 1/7...的前n项的和。在主程序中，分别令n=1000及100000，打印4倍该函数的和。\n",
    "def compute_sum(end):\n",
    "    i=1\n",
    "    total_n=0\n",
    "    while i<end:\n",
    "        if i%2==0:\n",
    "            total_n=total_n-1/(2*i-1)\n",
    "            i=i+1\n",
    "        else:\n",
    "            total_n=total_n+1/(2*i-1)\n",
    "            i=i+1\n",
    "        \n",
    "               \n",
    "    return total_n\n",
    "n=1000\n",
    "print('4倍该函数的和为：',4*compute_sum(n))\n",
    "n=100000\n",
    "print('4倍该函数的和为：',4*compute_sum(n))"
   ]
  },
  {
   "cell_type": "code",
   "execution_count": 10,
   "metadata": {
    "collapsed": false
   },
   "outputs": [
    {
     "name": "stdout",
     "output_type": "stream",
     "text": [
      "请输入你的姓名，以回车结束。s\n",
      "请输入出生月份，回车结束9\n",
      "请输入出生日期，回车结束9\n",
      "你是处女座\n"
     ]
    }
   ],
   "source": [
    "def your_constellation(m,n):\n",
    "    if   m==1 and n>=20 or m==2 and n<=18:\n",
    "         print('你是水瓶座')\n",
    "    elif m==2 and n>=19 or m==3 and n<=20:\n",
    "         print('你是双鱼座')\n",
    "    elif m==3 and n>=21 or m==4 and n<=19:\n",
    "         print('你是白羊座')\n",
    "    elif m==4 and n>=20 or m==5 and n<=20:\n",
    "         print('你是金牛座')\n",
    "    elif m==5 and n>=21 or m==6 and n<=21:\n",
    "         print('你是双子座')\n",
    "    elif m==6 and n>=22 or m==7 and n<=22:\n",
    "         print('你是巨蟹座')\n",
    "    elif m==7 and n>=23 or m==8 and n<=22:\n",
    "         print('你是狮子座')\n",
    "    elif m==8 and n>=23 or m==9 and n<=22:\n",
    "         print('你是处女座')\n",
    "    elif m==9 and n>=23 or m==10 and n<=23:\n",
    "         print('你是天秤座')\n",
    "    elif m==10 and n>=24 or m==11 and n<=22:\n",
    "         print('你是天蝎座')\n",
    "    elif m==11 and n>=23 or m==12 and n<=21:\n",
    "         print('你是射手座')\n",
    "    elif m==12 and n>=22 or m==1 and n<=19:\n",
    "         print('你是摩羯座')\n",
    "\n",
    "            \n",
    "name = input('请输入你的姓名，以回车结束。')\n",
    "m = int(input('请输入出生月份，回车结束'))\n",
    "n = int(input('请输入出生日期，回车结束'))            \n",
    "your_constellation(m,n)      "
   ]
  },
  {
   "cell_type": "code",
   "execution_count": 18,
   "metadata": {
    "collapsed": false
   },
   "outputs": [
    {
     "name": "stdout",
     "output_type": "stream",
     "text": [
      "请输入一个英文名词（单数形式）bird\n",
      "birds\n"
     ]
    }
   ],
   "source": [
    "def my_word(a):\n",
    "    if a.endswith('s')or a.endswith('ch') or a.endswith('sh') or a.endswith('x') or a.endswith('o'):\n",
    "        print(a,'es',sep='')\n",
    "    else:\n",
    "        print(a,'s',sep='')\n",
    "\n",
    "a=input('请输入一个英文名词（单数形式）')\n",
    "my_word(a)"
   ]
  },
  {
   "cell_type": "code",
   "execution_count": 3,
   "metadata": {
    "collapsed": false
   },
   "outputs": [
    {
     "name": "stdout",
     "output_type": "stream",
     "text": [
      "请输入第1个整数，以回车结束。3\n",
      "请输入第2个整数，以回车结束。6\n",
      "请输入第3个整数，以回车结束。3\n",
      "9\n"
     ]
    }
   ],
   "source": [
    "def compute_jicheng(a,b,c):\n",
    "    if a>b:\n",
    "        a,b=b,a\n",
    "    i=a\n",
    "    total=0\n",
    "    while i<=n:\n",
    "        total=total+i\n",
    "        i=i+c\n",
    "    return total\n",
    "m = int(input('请输入第1个整数，以回车结束。'))\n",
    "n = int(input('请输入第2个整数，以回车结束。'))\n",
    "k = int(input('请输入第3个整数，以回车结束。'))    \n",
    "print(compute_jicheng(m,n,k))    "
   ]
  }
 ],
 "metadata": {
  "kernelspec": {
   "display_name": "Python 3",
   "language": "python",
   "name": "python3"
  },
  "language_info": {
   "codemirror_mode": {
    "name": "ipython",
    "version": 3
   },
   "file_extension": ".py",
   "mimetype": "text/x-python",
   "name": "python",
   "nbconvert_exporter": "python",
   "pygments_lexer": "ipython3",
   "version": "3.6.0"
  }
 },
 "nbformat": 4,
 "nbformat_minor": 2
}
