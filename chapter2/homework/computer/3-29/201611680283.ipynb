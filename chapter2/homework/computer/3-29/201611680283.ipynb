{
 "cells": [
  {
   "cell_type": "code",
   "execution_count": 2,
   "metadata": {
    "collapsed": false
   },
   "outputs": [
    {
     "name": "stdout",
     "output_type": "stream",
     "text": [
      "请输入第1个整数，以回车结束。2\n",
      "请输入第2个整数，以回车结束。2\n",
      "请输入第3个整数，以回车结束。2\n",
      "最终的和是： 6\n"
     ]
    }
   ],
   "source": [
    "#练习 1：仿照求$ \\sum_{i=1}^mi + \\sum_{i=1}^ni  + \\sum_{i=1}^ki$的完整代码，写程序，可求m!+n!+k!\n",
    "m = int(input('请输入第1个整数，以回车结束。'))\n",
    "i = 0\n",
    "jiecheng_m = 1\n",
    "while i < m:\n",
    "    i = i + 1\n",
    "    jiecheng_m = jiecheng_m * i\n",
    "    \n",
    "n = int(input('请输入第2个整数，以回车结束。'))\n",
    "i = 0\n",
    "jiecheng_n = 1\n",
    "while i < n:\n",
    "    i = i + 1\n",
    "    jiecheng_n = jiecheng_n * i\n",
    "\n",
    "k = int(input('请输入第3个整数，以回车结束。'))\n",
    "i = 0\n",
    "jiecheng_k = 1\n",
    "while i < k:\n",
    "    i = i + 1\n",
    "    jiecheng_k = jiecheng_k * i\n",
    "\n",
    "print('最终的和是：', jiecheng_m + jiecheng_n + jiecheng_k)"
   ]
  },
  {
   "cell_type": "code",
   "execution_count": 9,
   "metadata": {
    "collapsed": false
   },
   "outputs": [
    {
     "name": "stdout",
     "output_type": "stream",
     "text": [
      "请输入一整数2\n",
      "请输入一整数2\n",
      "请输入一整数2\n",
      "6\n"
     ]
    }
   ],
   "source": [
    "#练习 1：仿照求$ \\sum_{i=1}^mi + \\sum_{i=1}^ni  + \\sum_{i=1}^ki$的完整代码，写程序，可求m!+n!+k!\n",
    "def compute_jiecheng(end):\n",
    "    i = 0\n",
    "    jiecheng_n = 1\n",
    "    while i < end:\n",
    "        i = i + 1\n",
    "        jiecheng_n = jiecheng_n * i\n",
    "    return jiecheng_n\n",
    "\n",
    "m = int(input('请输入一整数'))\n",
    "n = int(input('请输入一整数'))\n",
    "k = int(input('请输入一整数'))\n",
    "print(compute_jiecheng(m) + compute_jiecheng(n) + compute_jiecheng(k))"
   ]
  },
  {
   "cell_type": "code",
   "execution_count": 10,
   "metadata": {
    "collapsed": false
   },
   "outputs": [
    {
     "name": "stdout",
     "output_type": "stream",
     "text": [
      "当n = 1000时，4倍函数的和为：   3.140592653839794\n",
      "当n = 100000时，4倍函数的和为： 3.1415826535897198\n"
     ]
    }
   ],
   "source": [
    "#练习 2：写函数可返回1 - 1/3 + 1/5 - 1/7...的前n项的和。在主程序中，分别令n=1000及100000，打印4倍该函数的和。\n",
    "def compute_sum(end) :\n",
    "    i = 0\n",
    "    jsum = 0\n",
    "    while i < end :\n",
    "        i = i + 1\n",
    "        jsum = jsum + (-1)**(i+1)* 1/(2*i-1)\n",
    "    return jsum\n",
    "\n",
    "print('当n = 1000时，4倍函数的和为：  ',compute_sum(1000) *4)\n",
    "print('当n = 100000时，4倍函数的和为：',compute_sum(100000) *4)"
   ]
  },
  {
   "cell_type": "code",
   "execution_count": 11,
   "metadata": {
    "collapsed": false
   },
   "outputs": [
    {
     "name": "stdout",
     "output_type": "stream",
     "text": [
      "请输入你的名字:liuxiaoning\n",
      "请输入你的出生月份和日期，以xx.xx形式，如3.09：3.09\n",
      "liuxiaoning ,你是非常有个性的双鱼座\n"
     ]
    }
   ],
   "source": [
    "#练习 3：将task3中的练习1及练习4改写为函数，并进行调用。\n",
    "#3.6 实践与练习\n",
    "#练习 1：写程序，可由键盘读入用户姓名例如Mr. right，让用户输入出生的月份与日期，判断用户星座。\n",
    "def xingzuo(data):\n",
    "    if 3.21<=data<=4.19:\n",
    "        print(name,',你是非常有个性的白羊座')\n",
    "    elif 4.20<=data<=5.20:\n",
    "        print(name,',你是非常有个性的金牛座')\n",
    "    elif 5.21<=data<=6.21:\n",
    "        print(name,',你是非常有个性的双子座')\n",
    "    elif 6.22<=data<=7.22:\n",
    "        print(name,',你是非常有个性的巨蟹座')\n",
    "    elif 7.23<=data<=8.22:\n",
    "        print(name,',你是非常有个性的狮子座')\n",
    "    elif 8.23<=data<=9.22:\n",
    "        print(name,',你是非常有个性的处女座')\n",
    "    elif 9.23<=data<=10.23:\n",
    "        print(name,',你是非常有个性的天秤座')\n",
    "    elif 10.24<=data<=11.22:\n",
    "        print(name,',你是非常有个性的天蝎座')\n",
    "    elif 11.23<=data<=12.21:\n",
    "        print(name,',你是非常有个性的射手座')\n",
    "    elif 12.22<=data<=1.19:\n",
    "        print(name,',你是非常有个性的魔蝎座')\n",
    "    elif 1.20<=data<=2.18:\n",
    "        print(name,',你是非常有个性的水瓶座')\n",
    "    else:\n",
    "        print(name,',你是非常有个性的双鱼座')\n",
    "             \n",
    "name=input('请输入你的名字:')\n",
    "data=float(input('请输入你的出生月份和日期，以xx.xx形式，如3.09：'))\n",
    "xingzuo(data)"
   ]
  },
  {
   "cell_type": "code",
   "execution_count": 12,
   "metadata": {
    "collapsed": false
   },
   "outputs": [
    {
     "name": "stdout",
     "output_type": "stream",
     "text": [
      "请输入一个可数英文名动词的单数形式boy\n",
      "boys\n"
     ]
    }
   ],
   "source": [
    "#练习 3：将task3中的练习1及练习4改写为函数，并进行调用。\n",
    "#3.6 实践与练习\n",
    "#练习 4：英文单词单数转复数，要求输入一个英文动（名？？？）词（单数形式），能够得到其复数形式，\n",
    "#或给出单数转复数形式的建议\n",
    "#（提示，some_string.endswith(some_letter)函数可以判断某字符串结尾字符，\n",
    "#可尝试运行：'myname'.endswith('me')，liupengyuan'.endswith('n')）。\n",
    "def vt_change(a):\n",
    "    if a.endswith('o') or a.endswith('s') or a.endswith('x')or a.endswith('ch') or a.endswith('sh'):\n",
    "        print (a,'es',sep='')\n",
    "    elif a.endswith('y'):\n",
    "        if a[:-1].endswith('a')or a[:-1].endswith('e') or a[:-1].endswith('i') or a[:-1].endswith('o') or a[:-1].endswith('u') :\n",
    "            print(a,'s',sep='')\n",
    "        else:\n",
    "            print (a[:-1],'ies',sep='')\n",
    "    else:\n",
    "        print(a,'s',sep='')\n",
    "              \n",
    "a=input(\"请输入一个可数英文名动词的单数形式\")\n",
    "vt_change(a)"
   ]
  },
  {
   "cell_type": "code",
   "execution_count": 13,
   "metadata": {
    "collapsed": false
   },
   "outputs": [
    {
     "name": "stdout",
     "output_type": "stream",
     "text": [
      "请输入整数m的值：1\n",
      "请输入整数n的值：5\n",
      "请输入整数k的值：2\n",
      "9\n"
     ]
    }
   ],
   "source": [
    "#挑战性练习：写程序，可以求从整数m到整数n累加的和，间隔为k，求和部分需用函数实现，主程序中由用户输入m，n，k调用函数验证正确性。\n",
    "#[^1] : 主程序可简单理解为指一个程序代码中第一层次的语句，该语句前没有空格，同时也不是函数定义语句。\n",
    "#[^2] : None这个对象不太容易清晰定义，举例进行说明会更容易理解。\n",
    "#      假设我们数东西(对象)，如果数苹果，可以说1个苹果，2个苹果。\n",
    "#     当没有的时候，我们不说这是0个苹果，因为这时没有苹果这个对象存在；\n",
    "#     不能说这是0，因为我们不一定是在数数；\n",
    "#     也不能说没有苹果，因为我们不一定数什么我们只能说'没有'或'没有东西'，\n",
    "#     这时候没有具体的对象和数。但是我们知道，如果确定了要数任何对象A，我们就可以说'没有A'。\n",
    "#     所以，python语言中，None可以被赋值给如函数及变量等任何对象。\n",
    "#[^3] : 此处多个返回值是在()里面，表示是python中元组(tuple)类型，将在后续章节介绍。\n",
    "#[^4] : 用global关键字，可以在函数内部改变全局变量的值，相对特殊，将在后续章节介绍。\n",
    "def sum_leijia( m, n, k):\n",
    "    i = m\n",
    "    sum = 0\n",
    "    while i <= n:\n",
    "        sum = sum + i\n",
    "        i = i + k\n",
    "    return sum\n",
    "\n",
    "m = int(input('请输入整数m的值：'))\n",
    "n = int(input('请输入整数n的值：'))\n",
    "k = int(input('请输入整数k的值：'))\n",
    "print(sum_leijia(m,n,k))"
   ]
  }
 ],
 "metadata": {
  "kernelspec": {
   "display_name": "Python 3",
   "language": "python",
   "name": "python3"
  },
  "language_info": {
   "codemirror_mode": {
    "name": "ipython",
    "version": 3
   },
   "file_extension": ".py",
   "mimetype": "text/x-python",
   "name": "python",
   "nbconvert_exporter": "python",
   "pygments_lexer": "ipython3",
   "version": "3.6.0"
  }
 },
 "nbformat": 4,
 "nbformat_minor": 2
}
