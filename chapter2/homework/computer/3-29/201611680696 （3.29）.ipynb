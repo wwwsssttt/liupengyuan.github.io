{
 "cells": [
  {
   "cell_type": "code",
   "execution_count": 4,
   "metadata": {
    "collapsed": false,
    "deletable": true,
    "editable": true
   },
   "outputs": [
    {
     "name": "stdout",
     "output_type": "stream",
     "text": [
      "请输入第1个整数，以回车结束。4\n",
      "请输入第2个整数，以回车结束。3\n",
      "请输入第3个整数，以回车结束。2\n",
      "最终的和是： 19\n"
     ]
    }
   ],
   "source": [
    "n = int(input('请输入第1个整数，以回车结束。'))\n",
    "i = 0\n",
    "total_n = 0\n",
    "while i < n:\n",
    "    i = i + 1\n",
    "    total_n = total_n + i\n",
    "\n",
    "m = int(input('请输入第2个整数，以回车结束。'))\n",
    "i = 0\n",
    "total_m = 0\n",
    "while i < m:\n",
    "    i = i + 1\n",
    "    total_m = total_m + i\n",
    "\n",
    "k = int(input('请输入第3个整数，以回车结束。'))\n",
    "i = 0\n",
    "total_k = 0\n",
    "while i < k:\n",
    "    i = i + 1\n",
    "    total_k = total_k + i\n",
    "print('最终的和是：', total_n + total_m + total_k)"
   ]
  },
  {
   "cell_type": "code",
   "execution_count": 5,
   "metadata": {
    "collapsed": false,
    "deletable": true,
    "editable": true
   },
   "outputs": [
    {
     "name": "stdout",
     "output_type": "stream",
     "text": [
      "假装是print()函数。\n"
     ]
    }
   ],
   "source": [
    "def fake_print(content):\n",
    "    print(content)\n",
    "fake_print('假装是print()函数。')"
   ]
  },
  {
   "cell_type": "code",
   "execution_count": 7,
   "metadata": {
    "collapsed": false,
    "deletable": true,
    "editable": true
   },
   "outputs": [
    {
     "name": "stdout",
     "output_type": "stream",
     "text": [
      "('多个返回值', 1000, 100, 10.0)\n"
     ]
    }
   ],
   "source": [
    "def example_multi(number):\n",
    "    return '多个返回值', number*10, number, number/10\n",
    "\n",
    "\n",
    "# 主程序\n",
    "n=100\n",
    "print(example_multi(100))"
   ]
  },
  {
   "cell_type": "code",
   "execution_count": 8,
   "metadata": {
    "collapsed": false,
    "deletable": true,
    "editable": true
   },
   "outputs": [
    {
     "name": "stdout",
     "output_type": "stream",
     "text": [
      "First: 1\n",
      "Second: 0\n",
      "Third: -1\n"
     ]
    }
   ],
   "source": [
    "def zero_flag(number):\n",
    "    if number < 0:\n",
    "        return -1\n",
    "    elif number == 0:\n",
    "        return 0\n",
    "    else:\n",
    "        return 1\n",
    "print('First:', zero_flag(100))\n",
    "print('Second:', zero_flag(0))\n",
    "print('Third:', zero_flag(-100))"
   ]
  },
  {
   "cell_type": "code",
   "execution_count": 9,
   "metadata": {
    "collapsed": false,
    "deletable": true,
    "editable": true
   },
   "outputs": [
    {
     "name": "stdout",
     "output_type": "stream",
     "text": [
      "1+2+...+ 1000 = 500500\n"
     ]
    }
   ],
   "source": [
    "def my_abs(number):\n",
    "    if number < 0:\n",
    "        number = -number\n",
    "\n",
    "    return number\n",
    "\n",
    "def compute_sum(end):\n",
    "    i = 0\n",
    "    total_n = 0\n",
    "    number = my_abs(end)\n",
    "\n",
    "    while i < number:\n",
    "        i = i + 1\n",
    "        total_n = total_n + i\n",
    "\n",
    "    return total_n\n",
    "i=1000\n",
    "print('1+2+...+', i, '=',compute_sum(i))"
   ]
  },
  {
   "cell_type": "code",
   "execution_count": 3,
   "metadata": {
    "collapsed": false,
    "deletable": true,
    "editable": true
   },
   "outputs": [
    {
     "name": "stdout",
     "output_type": "stream",
     "text": [
      "请输入第一个整数：4\n",
      "请输入第二个整数：3\n",
      "请输入第三个整数：1\n",
      "31\n"
     ]
    }
   ],
   "source": [
    "#练习1\n",
    "def compute_mul(n):\n",
    "    i=0\n",
    "    mul=1\n",
    "    while i<n:\n",
    "        i=i+1\n",
    "        mul=mul*i\n",
    "    return mul\n",
    "\n",
    "m=int(input('请输入第一个整数：'))\n",
    "n=int(input('请输入第二个整数：'))\n",
    "k=int(input('请输入第三个整数：'))\n",
    "\n",
    "print(compute_mul(m)+compute_mul(n)+compute_mul(k))"
   ]
  },
  {
   "cell_type": "code",
   "execution_count": 5,
   "metadata": {
    "collapsed": false,
    "deletable": true,
    "editable": true
   },
   "outputs": [
    {
     "name": "stdout",
     "output_type": "stream",
     "text": [
      "3.140592653839794\n",
      "3.1415826535897198\n"
     ]
    }
   ],
   "source": [
    "#练习2\n",
    "def a(n):\n",
    "    i=0\n",
    "    sum=0\n",
    "    while i<n:\n",
    "        i=i+1\n",
    "        j=i-1\n",
    "        k=pow((-1),j)\n",
    "        l=2*i-1\n",
    "        sum=sum+k*(1/l)\n",
    "    return sum\n",
    "\n",
    "n=1000\n",
    "print(4*a(n))\n",
    "\n",
    "n=100000\n",
    "print(4*a(n))"
   ]
  },
  {
   "cell_type": "code",
   "execution_count": 12,
   "metadata": {
    "collapsed": false
   },
   "outputs": [
    {
     "name": "stdout",
     "output_type": "stream",
     "text": [
      "请输入你的名字:dd\n",
      "请输入出生月份:8\n",
      "请输入出生日期:23\n",
      "dd ,你是非常有性格的处女座！\n"
     ]
    }
   ],
   "source": [
    "#练习3\n",
    "def s(m,d):\n",
    "    if (m==3 and d>=21)or(m==4 and d<=19):\n",
    "        print(a,',你是非常有性格的白羊座！')\n",
    "    if (m==4 and d>=20)or(m==5 and d<=20):\n",
    "        print(a,',你是非常有性格的金牛座！')\n",
    "    if (m==5 and d>=21)or(m==6 and d<=21):\n",
    "        print(a,',你是非常有性格的双子座！')\n",
    "    if (m==6 and d>=22)or(m==7 and d<=22):\n",
    "        print(a,',你是非常有性格的巨蟹座！')\n",
    "    if (m==7 and d>=23)or(m==8 and d<=22):\n",
    "        print(a,',你是非常有性格的狮子座！')\n",
    "    if (m==8 and d>=23)or(m==9 and d<=22):\n",
    "        print(a,',你是非常有性格的处女座！')\n",
    "    if (m==9 and d>=23)or(m==10 and d<=23):\n",
    "        print(a,',你是非常有性格的天秤座！')\n",
    "    if (m==10 and d>=24)or(m==11 and d<=22):\n",
    "        print(a,',你是非常有性格的天蝎座！')\n",
    "    if (m==11 and d>=23)or(m==12 and d<=21):\n",
    "        print(a,',你是非常有性格的射手座！')\n",
    "    if (m==12 and d>=22)or(m==1 and d<=19):\n",
    "        print(a,',你是非常有性格的魔羯座！')\n",
    "    if (m==1 and d>=20)or(m==2 and d<=18):\n",
    "        print(a,',你是非常有性格的水瓶座！')\n",
    "    if (m==2 and d>=19)or(m==3 and d<=20):\n",
    "        print(a,',你是非常有性格的双鱼座！')\n",
    "\n",
    "a=input('请输入你的名字:')\n",
    "m=int(input('请输入出生月份:'))\n",
    "d=int(input('请输入出生日期:'))\n",
    "s(m,n)"
   ]
  },
  {
   "cell_type": "code",
   "execution_count": null,
   "metadata": {
    "collapsed": false
   },
   "outputs": [],
   "source": [
    "#练习3\n",
    "def s(a):\n",
    "    if a.endstwich('y'):\n",
    "        print('把y改成i加es')\n",
    "    elif a.endstwich('x'):\n",
    "        print('加es')\n",
    "    elif a.endstwich('h'):\n",
    "        print('加es')\n",
    "    elif a.endstwich('sh'):\n",
    "        print('加es')\n",
    "    else:\n",
    "        print('加s')\n",
    "        \n",
    "a=input('请输入一个英文单词：')\n",
    "s(a)"
   ]
  },
  {
   "cell_type": "code",
   "execution_count": 8,
   "metadata": {
    "collapsed": false
   },
   "outputs": [
    {
     "name": "stdout",
     "output_type": "stream",
     "text": [
      "请输入一个数：5\n",
      "请输入一个数大于前一个数：8\n",
      "26\n"
     ]
    }
   ],
   "source": [
    "#挑战性练习\n",
    "def a(m,n,k):\n",
    "    sum=0\n",
    "    i=0\n",
    "    while(i<=k):\n",
    "        sum=sum+m+i\n",
    "        i=i+1\n",
    "    return sum\n",
    "\n",
    "m=int(input('请输入一个数：'))\n",
    "n=int(input('请输入一个数大于前一个数：'))\n",
    "k=n-m\n",
    "print(a(m,n,k))"
   ]
  },
  {
   "cell_type": "code",
   "execution_count": null,
   "metadata": {
    "collapsed": true
   },
   "outputs": [],
   "source": []
  }
 ],
 "metadata": {
  "kernelspec": {
   "display_name": "Python 3",
   "language": "python",
   "name": "python3"
  },
  "language_info": {
   "codemirror_mode": {
    "name": "ipython",
    "version": 3
   },
   "file_extension": ".py",
   "mimetype": "text/x-python",
   "name": "python",
   "nbconvert_exporter": "python",
   "pygments_lexer": "ipython3",
   "version": "3.6.0"
  }
 },
 "nbformat": 4,
 "nbformat_minor": 2
}
