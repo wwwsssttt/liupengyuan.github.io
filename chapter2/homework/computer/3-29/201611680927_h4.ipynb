{
 "cells": [
  {
   "cell_type": "code",
   "execution_count": 1,
   "metadata": {
    "collapsed": false,
    "deletable": true,
    "editable": true
   },
   "outputs": [
    {
     "name": "stdout",
     "output_type": "stream",
     "text": [
      "请输入第1个整数，以回车结束。2\n",
      "请输入第2个整数，以回车结束。5\n",
      "请输入第3个整数，以回车结束。6\n",
      "最终的和是： 842\n"
     ]
    }
   ],
   "source": [
    "def compute_multi(end):\n",
    "    i = 1\n",
    "    total_n = 1\n",
    "\n",
    "    while i < end:\n",
    "        i = i + 1\n",
    "        total_n = total_n * i\n",
    "\n",
    "    return total_n\n",
    "\n",
    "n = int(input('请输入第1个整数，以回车结束。'))\n",
    "m = int(input('请输入第2个整数，以回车结束。'))\n",
    "k = int(input('请输入第3个整数，以回车结束。'))\n",
    "\n",
    "print('最终的和是：', compute_multi(m) + compute_multi(n) + compute_multi(k))"
   ]
  },
  {
   "cell_type": "code",
   "execution_count": 17,
   "metadata": {
    "collapsed": false,
    "deletable": true,
    "editable": true
   },
   "outputs": [
    {
     "name": "stdout",
     "output_type": "stream",
     "text": [
      "当n等于1000时： -9.744529693840175\n",
      "当n=10000时： -14.347900786829019\n"
     ]
    }
   ],
   "source": [
    "def compute(n):\n",
    "    i=0\n",
    "    total=0\n",
    "    \n",
    "    while i<=n:\n",
    "        if i/2==0:\n",
    "            total=total+ 1/(2*i+1)\n",
    "        else:\n",
    "            total=total- 1/(2*i+1)\n",
    "        i=i+1\n",
    "    return total \n",
    "\n",
    "print('当n等于1000时：',4*compute(1000))\n",
    "print('当n=10000时：',4*compute(10000))"
   ]
  },
  {
   "cell_type": "code",
   "execution_count": 30,
   "metadata": {
    "collapsed": false,
    "deletable": true,
    "editable": true
   },
   "outputs": [
    {
     "name": "stdout",
     "output_type": "stream",
     "text": [
      "请输入你的名字：g\n",
      "如果你是女性，请输入1，否则请输入2：1\n",
      "请输入你的出生月份：7\n",
      "请输入你的出生日期：17\n",
      "你好 Miss g 你是 巨蟹座\n"
     ]
    }
   ],
   "source": [
    "name=input('请输入你的名字：')\n",
    "s=int(input('如果你是女性，请输入1，否则请输入2：'))\n",
    "m = int(input('请输入你的出生月份：'))\n",
    "n = int(input('请输入你的出生日期：'))\n",
    "def your_sex(s):\n",
    "    if s==1:\n",
    "        sex='Miss' \n",
    "    else:\n",
    "        sex='Mr'\n",
    "    return sex\n",
    "def constellation():\n",
    "    if m==1:\n",
    "        if n<21:\n",
    "            c='摩羯座'\n",
    "        else:\n",
    "            c='水瓶座'\n",
    "    if m==2:\n",
    "        if n<19:\n",
    "            c='水瓶座'\n",
    "        else:\n",
    "            c='双鱼座'\n",
    "    if m==3:\n",
    "        if n<21:\n",
    "            c='双鱼座'\n",
    "        else:\n",
    "            c='白羊座'\n",
    "    if m==4:\n",
    "        if n<20:\n",
    "            c='白羊座'\n",
    "        else:\n",
    "            c='金牛座'\n",
    "    if m==5:\n",
    "        if n<21:\n",
    "            c='金牛座'\n",
    "        else:\n",
    "            c='双子座'\n",
    "    if m==6:\n",
    "        if n<22:\n",
    "            c='双子座'\n",
    "        else:\n",
    "            c='巨蟹座'\n",
    "    if m==7:\n",
    "        if n<23:\n",
    "            c='巨蟹座'\n",
    "        else:\n",
    "            c='狮子座'\n",
    "    if m==8:\n",
    "        if n<23:\n",
    "            c='狮子座'\n",
    "        else:\n",
    "            c='处女座'\n",
    "    if m==9:\n",
    "        if n<23:\n",
    "            c='处女座'\n",
    "        else:\n",
    "            c='天秤座'\n",
    "    if m==10:\n",
    "        if n<24:\n",
    "            c='天秤座'\n",
    "        else:\n",
    "            c='天蝎座'\n",
    "    if m==11:\n",
    "        if n<23:\n",
    "            c='天蝎座'\n",
    "        else:\n",
    "            c='射手座'        \n",
    "    if m==12:\n",
    "        if n<22:\n",
    "            c='射手座'\n",
    "        else:\n",
    "            c='摩羯座'\n",
    "    return c\n",
    "your_sex(s)\n",
    "constellation()\n",
    "print('你好',your_sex(s),name,'你是',constellation())"
   ]
  },
  {
   "cell_type": "code",
   "execution_count": 21,
   "metadata": {
    "collapsed": false,
    "deletable": true,
    "editable": true
   },
   "outputs": [
    {
     "name": "stdout",
     "output_type": "stream",
     "text": [
      "请输入一个单数形式的英语单词:cry\n",
      "变y为i再加es\n"
     ]
    }
   ],
   "source": [
    "some_string=(input('请输入一个单数形式的英语单词:'))\n",
    "def plural():\n",
    "    if some_string.endswith('s') or some_string.endswith('sh') or some_string.endswith('ch') or some_string.endswith('x'):\n",
    "        print('加es')\n",
    "    elif some_string.endswith('y'):\n",
    "        print('变y为i再加es')\n",
    "    elif some_string.endswith('f') or some_string.endswith('fe'):\n",
    "        print('变f或fe为v再加es')\n",
    "    else:\n",
    "        print('直接加s')\n",
    "\n",
    "plural()"
   ]
  },
  {
   "cell_type": "code",
   "execution_count": 32,
   "metadata": {
    "collapsed": false,
    "deletable": true,
    "editable": true
   },
   "outputs": [
    {
     "name": "stdout",
     "output_type": "stream",
     "text": [
      "请输入开始整数，以回车结束。5\n",
      "请输入结束整数，以回车结束。15\n",
      "请输入间隔整数，以回车结束。3\n",
      "最终的和是： 38\n"
     ]
    }
   ],
   "source": [
    "def compute_total(m,n,tap):\n",
    "    i=m\n",
    "    total=0\n",
    "    \n",
    "    while(i<n):\n",
    "        total=total+i\n",
    "        i=i+tap\n",
    "    return total\n",
    "m = int(input('请输入开始整数，以回车结束。'))\n",
    "n = int(input('请输入结束整数，以回车结束。'))\n",
    "k = int(input('请输入间隔整数，以回车结束。'))\n",
    "print('最终的和是：', compute_total(m,n,k))"
   ]
  }
 ],
 "metadata": {
  "kernelspec": {
   "display_name": "Python 3",
   "language": "python",
   "name": "python3"
  },
  "language_info": {
   "codemirror_mode": {
    "name": "ipython",
    "version": 3
   },
   "file_extension": ".py",
   "mimetype": "text/x-python",
   "name": "python",
   "nbconvert_exporter": "python",
   "pygments_lexer": "ipython3",
   "version": "3.6.0"
  }
 },
 "nbformat": 4,
 "nbformat_minor": 2
}
