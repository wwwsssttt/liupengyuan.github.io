{
 "cells": [
  {
   "cell_type": "code",
   "execution_count": 2,
   "metadata": {
    "collapsed": false,
    "deletable": true,
    "editable": true
   },
   "outputs": [
    {
     "name": "stdout",
     "output_type": "stream",
     "text": [
      "请输入第1个整数，以回车结束。2\n",
      "请输入第2个整数，以回车结束。2\n",
      "请输入第3个整数，以回车结束。2\n",
      "最终的结果是： 6\n"
     ]
    }
   ],
   "source": [
    "n = int(input('请输入第1个整数，以回车结束。'))\n",
    "i = 0\n",
    "total_n = 1\n",
    "while i < n:\n",
    "    i = i + 1\n",
    "    total_n = total_n * i\n",
    "\n",
    "m = int(input('请输入第2个整数，以回车结束。'))\n",
    "i = 0\n",
    "total_m = 1\n",
    "while i < m:\n",
    "    i = i + 1\n",
    "    total_m = total_m * i\n",
    "\n",
    "k = int(input('请输入第3个整数，以回车结束。'))\n",
    "i = 0\n",
    "total_k = 1\n",
    "while i < k:\n",
    "    i = i + 1\n",
    "    total_k = total_k * i\n",
    "\n",
    "print('最终的结果是：', total_n + total_m + total_k)"
   ]
  }
 ],
 "metadata": {
  "kernelspec": {
   "display_name": "Python 3",
   "language": "python",
   "name": "python3"
  },
  "language_info": {
   "codemirror_mode": {
    "name": "ipython",
    "version": 3
   },
   "file_extension": ".py",
   "mimetype": "text/x-python",
   "name": "python",
   "nbconvert_exporter": "python",
   "pygments_lexer": "ipython3",
   "version": "3.6.0"
  }
 },
 "nbformat": 4,
 "nbformat_minor": 2
}
