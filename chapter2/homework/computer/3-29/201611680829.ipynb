{
 "cells": [
  {
   "cell_type": "code",
   "execution_count": 5,
   "metadata": {
    "collapsed": false,
    "deletable": true,
    "editable": true
   },
   "outputs": [
    {
     "name": "stdout",
     "output_type": "stream",
     "text": [
      "请输入第1个整数，以回车结束。1\n",
      "请输入第2个整数，以回车结束。3\n",
      "请输入第3个整数，以回车结束。5\n",
      "最终的积是： 127\n"
     ]
    }
   ],
   "source": [
    "n = int(input('请输入第1个整数，以回车结束。'))\n",
    "i = 0\n",
    "total_n = 1\n",
    "while i < n:\n",
    "    i = i + 1\n",
    "    total_n = total_n *i\n",
    "\n",
    "m = int(input('请输入第2个整数，以回车结束。'))\n",
    "i = 0\n",
    "total_m = 1\n",
    "while i < m:\n",
    "    i = i + 1\n",
    "    total_m = total_m * i\n",
    "\n",
    "k = int(input('请输入第3个整数，以回车结束。'))\n",
    "i = 0\n",
    "total_k = 1\n",
    "while i < k:\n",
    "    i = i + 1\n",
    "    total_k = total_k * i\n",
    "\n",
    "print('最终的积是：', total_n + total_m + total_k)"
   ]
  },
  {
   "cell_type": "code",
   "execution_count": 13,
   "metadata": {
    "collapsed": false,
    "deletable": true,
    "editable": true
   },
   "outputs": [
    {
     "name": "stdout",
     "output_type": "stream",
     "text": [
      "0.007992007992007992\n"
     ]
    }
   ],
   "source": [
    "def my_sum(end):\n",
    "    i=1\n",
    "    n=2*i-1\n",
    "    while n < end:\n",
    "        n=2*i-1\n",
    "        i=i+1\n",
    "        n=2*i-1\n",
    "        m=abs(n)\n",
    "        sum=1/m+1/n\n",
    "    return 4*sum\n",
    "\n",
    "a=1000\n",
    "print(my_sum(a))"
   ]
  },
  {
   "cell_type": "code",
   "execution_count": 5,
   "metadata": {
    "collapsed": false,
    "deletable": true,
    "editable": true
   },
   "outputs": [
    {
     "name": "stdout",
     "output_type": "stream",
     "text": [
      "请输入你的名字:ljh\n",
      "请输入你的生日，如1.1:1.5\n",
      "ljh 你是摩羯座\n"
     ]
    },
    {
     "data": {
      "text/plain": [
       "1.5"
      ]
     },
     "execution_count": 5,
     "metadata": {},
     "output_type": "execute_result"
    }
   ],
   "source": [
    "def birthday(x):\n",
    "    if 3.21<=x<=4.19:\n",
    "        print(a,'你是白羊座')\n",
    "    elif 4.20<=x<=5.20:\n",
    "        print(a,'你是金牛座')\n",
    "    elif 5.21<=x<=6.21:\n",
    "        print(a,'你是双子座')\n",
    "    elif 6.22<=x<=7.22:\n",
    "        print('你是巨蟹座')\n",
    "    elif 7.23<=x<=8.22:\n",
    "        print(a,'你是狮子座')\n",
    "    elif 8.23<=x<=9.22:\n",
    "        print(a,'你是处女座')\n",
    "    elif 9.23<=x<=10.23:\n",
    "        print(a,'你是天秤座')\n",
    "    elif 10.24<=x<=11.22:\n",
    "        print(a,'你是天蝎座')\n",
    "    elif 11.23<=x<=12.21:\n",
    "        print(a,'你是射手座')\n",
    "    else:\n",
    "        12.22<=x<=12.31 or 1.1<=x<=1.19\n",
    "        print(a,'你是摩羯座')\n",
    "    return x\n",
    "\n",
    "a=input('请输入你的名字:')\n",
    "b=float(input('请输入你的生日，如1.1:'))\n",
    "birthday(b)"
   ]
  },
  {
   "cell_type": "code",
   "execution_count": 15,
   "metadata": {
    "collapsed": false,
    "deletable": true,
    "editable": true
   },
   "outputs": [
    {
     "ename": "SyntaxError",
     "evalue": "invalid syntax (<ipython-input-15-fe4a28155581>, line 2)",
     "output_type": "error",
     "traceback": [
      "\u001b[1;36m  File \u001b[1;32m\"<ipython-input-15-fe4a28155581>\"\u001b[1;36m, line \u001b[1;32m2\u001b[0m\n\u001b[1;33m    if a.endswith('o' or 'x')):\u001b[0m\n\u001b[1;37m                             ^\u001b[0m\n\u001b[1;31mSyntaxError\u001b[0m\u001b[1;31m:\u001b[0m invalid syntax\n"
     ]
    }
   ],
   "source": [
    "def endletter(a):\n",
    "    if a.endswith('o' or 'x')):\n",
    "        print(a,'es')\n",
    "    else:\n",
    "        print(a,'s')\n",
    "    return a\n",
    "\n",
    "word=input('please enter a word')\n",
    "endletter(word)"
   ]
  },
  {
   "cell_type": "markdown",
   "metadata": {
    "collapsed": true,
    "deletable": true,
    "editable": true
   },
   "source": [
    "写程序，可以求从整数m到整数n累加的和，间隔为k，求和部分需用函数实现，主程序中由用户输入m，n，k调用函数验证正确性。"
   ]
  },
  {
   "cell_type": "code",
   "execution_count": 1,
   "metadata": {
    "collapsed": false,
    "deletable": true,
    "editable": true
   },
   "outputs": [
    {
     "name": "stdout",
     "output_type": "stream",
     "text": [
      "请输入整数k（m<k<n）3\n",
      "请输入一个整数1\n",
      "请输入一个整数4\n",
      "sum is: 10\n"
     ]
    }
   ],
   "source": [
    "def begin(a):\n",
    "    sum=0\n",
    "    while a<k:\n",
    "        sum=sum+a\n",
    "        a=a+1\n",
    "    return sum\n",
    "def end(b):\n",
    "    sum=0\n",
    "    while k<=b:\n",
    "        sum=sum+b\n",
    "        b=b-1\n",
    "    return sum\n",
    "\n",
    "k=int(input('请输入整数k（m<k<n）'))\n",
    "m=int(input('请输入一个整数'))\n",
    "begin(m)\n",
    "n=int(input('请输入一个整数'))\n",
    "end(n)\n",
    "sum=begin(m)+end(n)\n",
    "print('sum is:',sum)\n",
    "    \n",
    "   \n",
    "\n"
   ]
  }
 ],
 "metadata": {
  "kernelspec": {
   "display_name": "Python 3",
   "language": "python",
   "name": "python3"
  },
  "language_info": {
   "codemirror_mode": {
    "name": "ipython",
    "version": 3
   },
   "file_extension": ".py",
   "mimetype": "text/x-python",
   "name": "python",
   "nbconvert_exporter": "python",
   "pygments_lexer": "ipython3",
   "version": "3.6.0"
  }
 },
 "nbformat": 4,
 "nbformat_minor": 2
}
