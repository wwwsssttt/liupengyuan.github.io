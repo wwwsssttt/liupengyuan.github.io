{
 "cells": [
  {
   "cell_type": "markdown",
   "metadata": {},
   "source": [
    "仿照求$ \\sum_{i=1}^mi + \\sum_{i=1}^ni  + \\sum_{i=1}^ki$的完整代码，写程序，可求m!+n!+k!"
   ]
  },
  {
   "cell_type": "code",
   "execution_count": 1,
   "metadata": {
    "collapsed": false
   },
   "outputs": [
    {
     "name": "stdout",
     "output_type": "stream",
     "text": [
      "plz input m: 5\n",
      "plz input n: 4\n",
      "plz input k: 6\n",
      "46\n"
     ]
    }
   ],
   "source": [
    "def compute_sum(n):\n",
    "    i=0\n",
    "    sum=0\n",
    "    while i<n:\n",
    "        i=i+1\n",
    "        sum+=i\n",
    "    return sum\n",
    "m=int(input('plz input m: '))\n",
    "n=int(input('plz input n: '))\n",
    "k=int(input('plz input k: '))\n",
    "print(compute_sum(m) + compute_sum(n) + compute_sum(k))"
   ]
  },
  {
   "cell_type": "markdown",
   "metadata": {},
   "source": [
    "写函数可返回1 - 1/3 + 1/5 - 1/7...的前n项的和。在主程序中，分别令n=1000及100000，打印4倍该函数的和。"
   ]
  },
  {
   "cell_type": "code",
   "execution_count": 10,
   "metadata": {
    "collapsed": false
   },
   "outputs": [
    {
     "name": "stdout",
     "output_type": "stream",
     "text": [
      "0.7851481634599485\n",
      "*4:  3.140592653839794\n",
      "0.7853731633975086\n",
      "*4:  3.1414926535900345\n"
     ]
    }
   ],
   "source": [
    "def compute_sum(n):\n",
    "    i=0\n",
    "    total=0\n",
    "    while i<n:\n",
    "        i+=1\n",
    "        if i%2==0:\n",
    "            total-=1/(2*i-1)\n",
    "        else:\n",
    "            total+=1/(2*i-1)\n",
    "    return total\n",
    "print(compute_sum(1000))\n",
    "print('*4: ',4*compute_sum(1000))\n",
    "print(compute_sum(10000))\n",
    "print('*4: ',4*compute_sum(10000))"
   ]
  },
  {
   "cell_type": "markdown",
   "metadata": {},
   "source": [
    "将task3中的练习1及练习4改写为函数，并进行调用。\n",
    "练习 1：写程序，可由键盘读入用户姓名例如Mr. right，让用户输入出生的月份与日期，判断用户星座，假设用户是金牛座，则输出，Mr. right，你是非常有性格的金牛座！。\n",
    "练习 4：英文单词单数转复数，要求输入一个英文动词（单数形式），能够得到其复数形式，或给出单数转复数形式的建议（提示，some_string.endswith(some_letter)函数可以判断某字符串结尾字符，可尝试运行：'myname'.endswith('me')，liupengyuan'.endswith('n')）。"
   ]
  },
  {
   "cell_type": "code",
   "execution_count": 13,
   "metadata": {
    "collapsed": false
   },
   "outputs": [
    {
     "name": "stdout",
     "output_type": "stream",
     "text": [
      "plz input name:jessica\n",
      "plz input birth_mon: 8\n",
      "plz input birth_day: 15\n",
      "('jessica', '你是狮子座')\n"
     ]
    }
   ],
   "source": [
    "def Constellation(n,m,d):\n",
    "    if (m>=3 and d>21) or (m<=4 and d<19):\n",
    "        return (n,'你是白羊座')\n",
    "    elif (m>=4 and d>20) or (m<=5 and d<20):\n",
    "            return (n,'你是金牛座')\n",
    "    elif (m>=5 and d>21) or (m<=6 and d<21):\n",
    "            return (n,'你是双子座')\n",
    "    elif (m>=6 and d>22) or (m<=7 and d<22):\n",
    "            return (n,'你是巨蟹座')\n",
    "    elif (m>=7 and d>23) or (m<=8 and d<22):\n",
    "            return (n,'你是狮子座')\n",
    "    elif (m>=8 and d>23) or (m<=9 and d<22):\n",
    "            return (n,'你是处女座')\n",
    "    elif (m>=9 and d>23) or (m<=10 and d<23):\n",
    "            return (n,'你是天秤座')\n",
    "    elif (m>=10 and d>24) or (m<=11 and d<23):\n",
    "            return (n,'你是天蝎座')\n",
    "    elif (m>=11 and d>23) or (m<=12 and d<21):\n",
    "            return (n,'你是射手座')\n",
    "    elif (m>=12 and d>22) or (m<=1 and d<19):\n",
    "            return (n,'你是摩羯座')\n",
    "    elif (m>=1 and d>20) or (m<=2 and d<18):\n",
    "            return (n,'你是水瓶座')\n",
    "    elif (m>=2 and d>19) or (m<=3 and d<20):\n",
    "            return (n,'你是双鱼座')\n",
    "n=str(input('plz input name:'))\n",
    "m=int(input('plz input birth_mon: '))\n",
    "k=int(input('plz input birth_day: '))\n",
    "print(Constellation(n,m,k))"
   ]
  },
  {
   "cell_type": "code",
   "execution_count": 25,
   "metadata": {
    "collapsed": false
   },
   "outputs": [
    {
     "name": "stdout",
     "output_type": "stream",
     "text": [
      "plz input a wordapple\n",
      "apples\n"
     ]
    }
   ],
   "source": [
    "def Plurality(word):\n",
    "    if ( word.endswith('ch') or word.endswith('sh') or word.endswith('s') or word.endswith('x') ):\n",
    "        print(word,'es',sep='')\n",
    "       \n",
    "    else:\n",
    "        print(word,'s',sep='')\n",
    "w=str(input('plz input a word'))\n",
    "Plurality(w)"
   ]
  },
  {
   "cell_type": "markdown",
   "metadata": {},
   "source": [
    "挑战性练习：写程序，可以求从整数m到整数n累加的和，间隔为k，求和部分需用函数实现，主程序中由用户输入m，n，k调用函数验证正确性。"
   ]
  },
  {
   "cell_type": "code",
   "execution_count": 27,
   "metadata": {
    "collapsed": false
   },
   "outputs": [
    {
     "name": "stdout",
     "output_type": "stream",
     "text": [
      "plz input m:4\n",
      "plz input n:8\n",
      "plz input k:2\n",
      "18\n"
     ]
    }
   ],
   "source": [
    "def count_sum(m,n,k):\n",
    "    i=0\n",
    "    total=0\n",
    "    while i+k<n:\n",
    "        i=i+k\n",
    "        total+=i+k\n",
    "    return total\n",
    "\n",
    "m=int(input('plz input m:'))\n",
    "n=int(input('plz input n:'))\n",
    "k=int(input('plz input k:'))\n",
    "print(count_sum(m,n,k))"
   ]
  }
 ],
 "metadata": {
  "kernelspec": {
   "display_name": "Python 3",
   "language": "python",
   "name": "python3"
  },
  "language_info": {
   "codemirror_mode": {
    "name": "ipython",
    "version": 3
   },
   "file_extension": ".py",
   "mimetype": "text/x-python",
   "name": "python",
   "nbconvert_exporter": "python",
   "pygments_lexer": "ipython3",
   "version": "3.6.0"
  }
 },
 "nbformat": 4,
 "nbformat_minor": 2
}
