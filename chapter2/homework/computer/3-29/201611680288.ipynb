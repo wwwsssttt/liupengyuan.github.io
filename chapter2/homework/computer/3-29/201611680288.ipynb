{
 "cells": [
  {
   "cell_type": "code",
   "execution_count": 1,
   "metadata": {
    "collapsed": false,
    "deletable": true,
    "editable": true
   },
   "outputs": [
    {
     "name": "stdout",
     "output_type": "stream",
     "text": [
      "请输入第1个整数，以回车结束。1\n",
      "请输入第2个整数，以回车结束。2\n",
      "请输入第3个整数，以回车结束。3\n",
      "最终的结果是： 9\n"
     ]
    }
   ],
   "source": [
    "def compute_fact(end):\n",
    "    i = 1\n",
    "    fac_n = 1\n",
    "\n",
    "    while i < end:\n",
    "        i = i + 1\n",
    "        fac_n = i*fac_n \n",
    "\n",
    "    return fac_n\n",
    "\n",
    "m = int(input('请输入第1个整数，以回车结束。'))\n",
    "n = int(input('请输入第2个整数，以回车结束。'))\n",
    "k = int(input('请输入第3个整数，以回车结束。'))\n",
    "\n",
    "print('最终的结果是：', compute_fact(m) + compute_fact(n) + compute_fact(k))"
   ]
  },
  {
   "cell_type": "code",
   "execution_count": 3,
   "metadata": {
    "collapsed": false,
    "deletable": true,
    "editable": true
   },
   "outputs": [
    {
     "name": "stdout",
     "output_type": "stream",
     "text": [
      "最终结果是： 3.140592653839794\n",
      "最终结果是： 3.1415826535897198\n"
     ]
    }
   ],
   "source": [
    "def compute_sum(end):\n",
    "    i = 0\n",
    "    total_n = 0\n",
    "\n",
    "    while i < end:\n",
    "        i = i + 1\n",
    "        total_n = total_n + 1*(-1)**(i+1)/(2*i-1)\n",
    "\n",
    "    return total_n\n",
    "\n",
    "\n",
    "print('最终结果是：', 4*compute_sum(1000) )\n",
    "print('最终结果是：', 4*compute_sum(100000) )"
   ]
  },
  {
   "cell_type": "code",
   "execution_count": 1,
   "metadata": {
    "collapsed": false,
    "deletable": true,
    "editable": true
   },
   "outputs": [
    {
     "name": "stdout",
     "output_type": "stream",
     "text": [
      "输入您出生的月份3\n",
      "输入您出生的日期4\n",
      "您是双鱼座 ！\n"
     ]
    }
   ],
   "source": [
    "def c_tions(m,d):\n",
    "    if m==1:\n",
    "        if d>=1 and d<=19:\n",
    "            print('您是摩羯座 ！')\n",
    "        else: \n",
    "            print('您是水瓶座 ！')\n",
    "    elif m==2:\n",
    "        if d>=1 and d<=18:\n",
    "            print('您是水瓶座 ！')\n",
    "        else:\n",
    "            print('您是双鱼座 ！')\n",
    "    elif m==3:\n",
    "        if d>=1 and d<=20:\n",
    "            print('您是双鱼座 ！')\n",
    "        else:\n",
    "            print('您是白羊座 ！')\n",
    "    elif m==4:\n",
    "        if d>=1 and d<=19:\n",
    "            print('您是白羊座 ！')\n",
    "        else:\n",
    "            print('您是金牛座 ！')\n",
    "    elif m==5:\n",
    "        if d>=1 and d<=20:\n",
    "            print('您是金牛座 ！')\n",
    "        else:\n",
    "            print('您是双子座 ！')\n",
    "    elif m==6:\n",
    "        if d>=1 and d<=21:\n",
    "            print('您是双子座 ！')\n",
    "        else:\n",
    "            print('您是巨蟹座 ！')\n",
    "    elif m==7:\n",
    "        if d>=1 and d<=22:\n",
    "            print('您是巨蟹座 ！')\n",
    "        else:\n",
    "            print('您是狮子座 ！')\n",
    "    elif m==8:\n",
    "        if d>=1 and d<=22:\n",
    "            print('您是狮子座 ！')\n",
    "        else:\n",
    "            print('您是处女座 ！')\n",
    "    elif m==9:\n",
    "        if d>=1 and d<=22:\n",
    "            print('您是处女座 ！')\n",
    "        else:\n",
    "            print('您是天秤座 ！')\n",
    "    elif m==10:\n",
    "        if d>=1 and d<=23:\n",
    "            print('您是天秤座 ！')\n",
    "        else:\n",
    "            print('您是天蝎座 ！')\n",
    "    elif m==11:\n",
    "        if d>=1 and d<=24:\n",
    "            print('您是天蝎座 ！')\n",
    "        else:\n",
    "            print('您是射手座 ！')\n",
    "    else:\n",
    "        if d>=1 and d<=22:\n",
    "            print('您是射手座 ！')\n",
    "        else:\n",
    "            print('您是摩羯座 ！')\n",
    "\n",
    "\n",
    "m=int(input('输入您出生的月份'))\n",
    "d=int(input('输入您出生的日期'))\n",
    "c_tions(m,d)"
   ]
  },
  {
   "cell_type": "code",
   "execution_count": 13,
   "metadata": {
    "collapsed": false,
    "deletable": true,
    "editable": true
   },
   "outputs": [
    {
     "name": "stdout",
     "output_type": "stream",
     "text": [
      "请输入一个可数英文单词的单数形式，以回车结束book\n",
      "books\n"
     ]
    }
   ],
   "source": [
    "def n_change(a):\n",
    "    if a.endswith('y'):\n",
    "        print(a[:-1],'ies'sep='',)\n",
    "    elif a[:-1]in 'sx' or a[:-2]in ['sh','ch']:\n",
    "        print (a,'es',sep='')\n",
    "    elif a.endswith('an'):\n",
    "        print (a[:-2],'en',sep='')\n",
    "    else:\n",
    "        print  (a,'s',sep='')\n",
    "\n",
    "a=input('请输入一个可数英文单词的单数形式，以回车结束')\n",
    "n_change(a)"
   ]
  },
  {
   "cell_type": "code",
   "execution_count": 16,
   "metadata": {
    "collapsed": false
   },
   "outputs": [
    {
     "name": "stdout",
     "output_type": "stream",
     "text": [
      "请输入第1个整数，以回车结束。1\n",
      "请输入第2个整数，以回车结束。5\n",
      "请输入第3个整数，以回车结束。2\n",
      "最终的和是： 9\n"
     ]
    }
   ],
   "source": [
    "def compute_sum(m,n,k):\n",
    "    total_mn = m\n",
    "\n",
    "    while m < n:\n",
    "        m = m + k\n",
    "        total_mn = total_mn + m\n",
    "\n",
    "    return total_mn\n",
    "\n",
    "m = int(input('请输入第1个整数，以回车结束。'))\n",
    "n = int(input('请输入第2个整数，以回车结束。'))\n",
    "k = int(input('请输入第3个整数，以回车结束。'))\n",
    "\n",
    "print('最终的和是：', compute_sum(m,n,k) )"
   ]
  }
 ],
 "metadata": {
  "kernelspec": {
   "display_name": "Python 3",
   "language": "python",
   "name": "python3"
  },
  "language_info": {
   "codemirror_mode": {
    "name": "ipython",
    "version": 3
   },
   "file_extension": ".py",
   "mimetype": "text/x-python",
   "name": "python",
   "nbconvert_exporter": "python",
   "pygments_lexer": "ipython3",
   "version": "3.6.0"
  }
 },
 "nbformat": 4,
 "nbformat_minor": 2
}
