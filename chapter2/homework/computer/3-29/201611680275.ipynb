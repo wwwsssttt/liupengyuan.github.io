{
 "cells": [
  {
   "cell_type": "markdown",
   "metadata": {},
   "source": [
    "练习1："
   ]
  },
  {
   "cell_type": "code",
   "execution_count": 2,
   "metadata": {
    "collapsed": false
   },
   "outputs": [
    {
     "name": "stdout",
     "output_type": "stream",
     "text": [
      "请输入第1个整数，以回车结束。3\n",
      "请输入第2个整数，以回车结束。2\n",
      "请输入第3个整数，以回车结束。2\n",
      "最终的和是： 10\n"
     ]
    }
   ],
   "source": [
    "def compute_sum(end):\n",
    "    i = 0\n",
    "    total_n = 1\n",
    "\n",
    "    while i < end:\n",
    "        i = i + 1\n",
    "        total_n = total_n * i\n",
    "\n",
    "    return total_n\n",
    "\n",
    "n = int(input('请输入第1个整数，以回车结束。'))\n",
    "m = int(input('请输入第2个整数，以回车结束。'))\n",
    "k = int(input('请输入第3个整数，以回车结束。'))\n",
    "\n",
    "print('最终的和是：', compute_sum(m) + compute_sum(n) + compute_sum(k))"
   ]
  },
  {
   "cell_type": "markdown",
   "metadata": {},
   "source": [
    "练习2："
   ]
  },
  {
   "cell_type": "code",
   "execution_count": 2,
   "metadata": {
    "collapsed": false
   },
   "outputs": [
    {
     "name": "stdout",
     "output_type": "stream",
     "text": [
      "请输入一个整数，以回车结束：1000\n",
      "最终和的四倍是： 3.140592653839794\n",
      "请输入一个整数，以回车结束：100000\n",
      "最终和的四倍是： 3.1415826535897198\n"
     ]
    }
   ],
   "source": [
    "def compute(end):\n",
    "    pro = 1\n",
    "    num = 1\n",
    "    i = 1.0\n",
    "    j = 1.0/i\n",
    "    total_m = 0\n",
    "    \n",
    "    while num <= end:\n",
    "        j = 1.0/i * pro\n",
    "        total_m = total_m + j\n",
    "        pro = pro * (-1)\n",
    "        i = i + 2\n",
    "        num = num + 1\n",
    "        \n",
    "    return total_m\n",
    "\n",
    "n1 = int(input('请输入一个整数，以回车结束：'))\n",
    "print('最终和的四倍是：',compute(n1) * 4.0)\n",
    "n2 = int(input('请输入一个整数，以回车结束：'))\n",
    "print('最终和的四倍是：',compute(n2) * 4.0)"
   ]
  },
  {
   "cell_type": "markdown",
   "metadata": {},
   "source": [
    "练习3（第一小题）："
   ]
  },
  {
   "cell_type": "code",
   "execution_count": 21,
   "metadata": {
    "collapsed": false
   },
   "outputs": [
    {
     "name": "stdout",
     "output_type": "stream",
     "text": [
      "请输入你的名字：du\n",
      "如果你是女性，输入1，如果你是男性，输入2：1\n",
      "你的生日月份是：1\n",
      "你的生日日期是：2\n",
      "你好， Miss du 你是 摩羯\n"
     ]
    }
   ],
   "source": [
    "name=input('请输入你的名字：')\n",
    "def your_sex(s):\n",
    "    if s==1:\n",
    "        sex='Miss' \n",
    "    else:\n",
    "        sex='Mr' \n",
    "    \n",
    "    return sex\n",
    "    \n",
    "def birthday(birthday_month,birthday_data):\n",
    "\n",
    "    if birthday_month==1:\n",
    "        if birthday_data>=20: \n",
    "            xinzuo='水瓶'\n",
    "        else: \n",
    "            xinzuo='摩羯'\n",
    "    elif birthday_month==2:\n",
    "        if birthday_data>=19:\n",
    "            xinzuo='双鱼'\n",
    "        else:\n",
    "            xinzuo='水瓶'\n",
    "    elif birthday_month==3: \n",
    "        if birthday_data>=21:\n",
    "            xinzuo='白羊' \n",
    "        else:\n",
    "            xinzuo='双鱼'\n",
    "    elif birthday_month==4:\n",
    "        if birthday_data>=20:\n",
    "            xinzuo='金牛' \n",
    "        else: \n",
    "            xinzuo='白羊'\n",
    "    elif birthday_month==5:\n",
    "        if birthday_data>=21:\n",
    "            xinzuo='双子'\n",
    "        else: \n",
    "            xinzuo='金牛'\n",
    "    elif birthday_month==6:\n",
    "        if birthday_data>=22:\n",
    "            xinzuo='巨蟹'\n",
    "        else: \n",
    "            xinzuo='双子'\n",
    "    elif birthday_month==7:\n",
    "        if birthday_data>=23:\n",
    "            xinzuo='狮子'\n",
    "        else: \n",
    "            xinzuo='巨蟹'\n",
    "    elif birthday_month==8:\n",
    "        if birthday_data>=23:\n",
    "            xinzuo='处女'\n",
    "        else: \n",
    "            xinzuo='狮子'\n",
    "    elif birthday_month==9:\n",
    "        if birthday_data>=23:\n",
    "            xinzuo='天秤'\n",
    "        else: \n",
    "            xinzuo='处女'\n",
    "    elif birthday_month==10:\n",
    "        if birthday_data>=24:\n",
    "            xinzuo='天蝎'\n",
    "        else: \n",
    "            xinzuo='天秤'\n",
    "    elif birthday_month==11:\n",
    "        if birthday_data>=23:\n",
    "            xinzuo='射手'\n",
    "        else: \n",
    "            xinzuo='天蝎'\n",
    "    elif birthday_month==12:\n",
    "        if birthday_data>=22:\n",
    "            xinzuo='摩羯'\n",
    "        else: \n",
    "            xinzuo='射手'\n",
    "        \n",
    "    return xinzuo\n",
    "        \n",
    "\n",
    "ni=int(input('如果你是女性，输入1，如果你是男性，输入2：'))\n",
    "birthday_month=int(input('你的生日月份是：'))\n",
    "birthday_data=int(input('你的生日日期是：'))\n",
    "print('你好，',your_sex(ni),name,'你是',birthday(birthday_month,birthday_data))"
   ]
  },
  {
   "cell_type": "markdown",
   "metadata": {},
   "source": [
    "练习3（第二小题）："
   ]
  },
  {
   "cell_type": "code",
   "execution_count": 42,
   "metadata": {
    "collapsed": false
   },
   "outputs": [
    {
     "name": "stdout",
     "output_type": "stream",
     "text": [
      "请输入一个动词的原型：study\n",
      "它的变化规则是： 变y为i再加es\n"
     ]
    }
   ],
   "source": [
    "def add(word):\n",
    "    if word.endswith('s') or word.endswith('x') or word.endswith('ch') or word.endswith('sh') or word.endswith('o'):\n",
    "        end='加es'\n",
    "    elif word.endswith('ay')==0 and word.endswith('ey')==0 and word.endswith('iy')==0 and word.endswith('oy')==0 and word.endswith('uy')==0 and word.endswith('yy')==0 and word.endswith('y'):\n",
    "        end='变y为i再加es'\n",
    "    elif word=='have':\n",
    "        end='变为has'\n",
    "    else:\n",
    "        end='直接加s'\n",
    "    \n",
    "    return end\n",
    "\n",
    "verb=input('请输入一个动词的原型：')\n",
    "print('它的变化规则是：',add(verb))"
   ]
  },
  {
   "cell_type": "markdown",
   "metadata": {},
   "source": [
    "挑战性练习："
   ]
  },
  {
   "cell_type": "code",
   "execution_count": 9,
   "metadata": {
    "collapsed": false
   },
   "outputs": [
    {
     "name": "stdout",
     "output_type": "stream",
     "text": [
      "请输入开始整数，以回车结束。1\n",
      "请输入结束整数，以回车结束。100\n",
      "请输入间隔整数，以回车结束。2\n",
      "最终的和是： 2500\n"
     ]
    }
   ],
   "source": [
    "def compute_sum(star,end,tap):\n",
    "    i = star\n",
    "    total_n = 0\n",
    "\n",
    "    while i <= end:\n",
    "        total_n = total_n + i\n",
    "        i = i + tap\n",
    "    return total_n\n",
    "\n",
    "m = int(input('请输入开始整数，以回车结束。'))\n",
    "n = int(input('请输入结束整数，以回车结束。'))\n",
    "k = int(input('请输入间隔整数，以回车结束。'))\n",
    "print('最终的和是：', compute_sum(m,n,k))"
   ]
  }
 ],
 "metadata": {
  "kernelspec": {
   "display_name": "Python 3",
   "language": "python",
   "name": "python3"
  },
  "language_info": {
   "codemirror_mode": {
    "name": "ipython",
    "version": 3
   },
   "file_extension": ".py",
   "mimetype": "text/x-python",
   "name": "python",
   "nbconvert_exporter": "python",
   "pygments_lexer": "ipython3",
   "version": "3.6.0"
  }
 },
 "nbformat": 4,
 "nbformat_minor": 2
}
