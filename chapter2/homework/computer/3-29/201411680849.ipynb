{
 "cells": [
  {
   "cell_type": "code",
   "execution_count": null,
   "metadata": {
    "collapsed": true,
    "deletable": true,
    "editable": true
   },
   "outputs": [],
   "source": [
    "#练习 1：仿照求$ \\sum_{i=1}^mi + \\sum_{i=1}^ni  + \\sum_{i=1}^ki$的完整代码，写程序，可求m!+n!+k!\n",
    "#练习 2：写函数可返回1 - 1/3 + 1/5 - 1/7...的前n项的和。在主程序中，分别令n=1000及100000，打印4倍该函数的和。\n",
    "#练习 3：将task3中的练习1及练习4改写为函数，并进行调用。\n",
    "#挑战性练习：写程序，可以求从整数m到整数n累加的和，间隔为k，求和部分需用函数实现，主程序中由用户输入m，n，k调用函数验证正确性。"
   ]
  },
  {
   "cell_type": "code",
   "execution_count": 4,
   "metadata": {
    "collapsed": false,
    "deletable": true,
    "editable": true
   },
   "outputs": [
    {
     "name": "stdout",
     "output_type": "stream",
     "text": [
      "请输入第1个整数，以回车结束。3\n",
      "请输入第2个整数，以回车结束。6\n",
      "请输入第3个整数，以回车结束。9\n",
      "最终的和是： 363606\n"
     ]
    }
   ],
   "source": [
    "#练习 1：仿照求$ \\sum_{i=1}^mi + \\sum_{i=1}^ni  + \\sum_{i=1}^ki$的完整代码，写程序，可求m!+n!+k!\n",
    "def compute_pro(a):\n",
    "    i=0\n",
    "    total_k = 1\n",
    "    while i < a:\n",
    "        i+=1\n",
    "        total_k*=i\n",
    "    return total_k\n",
    "\n",
    "m = int(input('请输入第1个整数，以回车结束。'))\n",
    "n = int(input('请输入第2个整数，以回车结束。'))\n",
    "k = int(input('请输入第3个整数，以回车结束。'))\n",
    "#362880\n",
    "print('最终的和是：', compute_pro(m) + compute_pro(n) + compute_pro(k))"
   ]
  },
  {
   "cell_type": "code",
   "execution_count": 11,
   "metadata": {
    "collapsed": false,
    "deletable": true,
    "editable": true
   },
   "outputs": [
    {
     "name": "stdout",
     "output_type": "stream",
     "text": [
      "前1000项的和的4倍为 3.140592653839794\n",
      "前100000项的和的4倍为 3.1415826535897198\n"
     ]
    }
   ],
   "source": [
    "#练习 2：写函数可返回1 - 1/3 + 1/5 - 1/7...的前n项的和。在主程序中，分别令n=1000及100000，打印4倍该函数的和。\n",
    "def sum_of(n):\n",
    "    i=0\n",
    "    total=0\n",
    "    while i<n:\n",
    "        i=i+1\n",
    "        total=total+(((-1)**(i+1))*(1/(2*i-1)))\n",
    "    return total\n",
    "\n",
    "print(\"前1000项的和的4倍为\",4*sum_of(1000))\n",
    "print(\"前100000项的和的4倍为\",4*sum_of(100000))"
   ]
  },
  {
   "cell_type": "code",
   "execution_count": 37,
   "metadata": {
    "collapsed": false,
    "deletable": true,
    "editable": true
   },
   "outputs": [
    {
     "name": "stdout",
     "output_type": "stream",
     "text": [
      "han ， 你是个性十足的金牛座！\n"
     ]
    }
   ],
   "source": [
    "#练习 3：\n",
    "#练习 1：写程序，可由键盘读入用户姓名例如Mr. right，让用户输入出生的月份与日期，判断用户星座，假设用户是金牛座，则输出，Mr. right，你是非常有性格的金牛座！。\n",
    "def checkcons(name,date):\n",
    "    if(date>=1.20 and date<=2.18):\n",
    "        str1=\"你是创意十足的水瓶座！\"\n",
    "    elif(date>=2.19 and date<=3.20):\n",
    "        str1=\"你是善解人意的双鱼座！\"\n",
    "    elif(date>=3.21 and date<=4.19):\n",
    "        str1=\"你是坦白率真的白羊座！\"\n",
    "    elif(date>=4.20 and date<=5.20):\n",
    "        str1=\"你是个性十足的金牛座！\"\n",
    "    elif(date>=5.21 and date<=6.21):\n",
    "        str1=\"你是足智多谋的双子座！\"\n",
    "    elif(date>=6.22 and date<7.22):\n",
    "        str1=\"你是亲切温暖的巨蟹座！\"\n",
    "    elif(date>=7.23 and date<=8.22):\n",
    "        str1=\"你是热情开朗的狮子座！\"\n",
    "    elif(date>=8.23 and date<=9.22):\n",
    "        str1=\"你是勤奋努力的处女座！\"\n",
    "    elif(date>=9.23 and date<=10.23):\n",
    "        str1=\"你是能屈能伸的天秤座！\"\n",
    "    elif(date>=10.24 and date<=11.22):\n",
    "        str1=\"你是深谋远虑的天蝎座！\"\n",
    "    elif(date>=11.23 and date<=12.21):\n",
    "        str1=\"你是正直坦率的射手座！\"\n",
    "    else:\n",
    "        str1=\"你是谨慎谦逊的摩羯座！\"\n",
    "    print (name,'，',str1)\n",
    "\n",
    "\n",
    "checkcons('han',5.03)"
   ]
  },
  {
   "cell_type": "code",
   "execution_count": 23,
   "metadata": {
    "collapsed": false,
    "deletable": true,
    "editable": true
   },
   "outputs": [
    {
     "name": "stdout",
     "output_type": "stream",
     "text": [
      "happies\n",
      "names\n"
     ]
    }
   ],
   "source": [
    "#练习 3：\n",
    "#练习 4：英文单词单数转复数，要求输入一个英文动词（单数形式），能够得到其复数形式，或给出单数转复数形式的建议（提示，some_string.endswith(some_letter)函数可以判断某字符串结尾字符，可尝试运行：'myname'.endswith('me')，'liupengyuan'.endswith('n')`）。\n",
    "def my_convert(verb):\n",
    "    if(verb.endswith('s') | verb.endswith('z') | verb.endswith('sh') | verb.endswith('ch')):\n",
    "        verb=verb+'es'\n",
    "    elif(verb.endswith('y')):\n",
    "        verb=verb[:-1]+'ies'\n",
    "    else:\n",
    "        verb=verb+'s'\n",
    "    return verb\n",
    "\n",
    "print(my_convert('happy'))\n",
    "print(my_convert('name'))"
   ]
  },
  {
   "cell_type": "code",
   "execution_count": 18,
   "metadata": {
    "collapsed": false,
    "deletable": true,
    "editable": true
   },
   "outputs": [
    {
     "name": "stdout",
     "output_type": "stream",
     "text": [
      "累加和为 25\n"
     ]
    }
   ],
   "source": [
    "#挑战性练习：\n",
    "def sum_of(m,n,k):\n",
    "    i=m\n",
    "    total=m\n",
    "    while i<n and i+k<n:\n",
    "        i=i+k\n",
    "        total=total+i\n",
    "    return total\n",
    "print(\"累加和为\",sum_of(1,10,2))"
   ]
  }
 ],
 "metadata": {
  "kernelspec": {
   "display_name": "Python 3",
   "language": "python",
   "name": "python3"
  },
  "language_info": {
   "codemirror_mode": {
    "name": "ipython",
    "version": 3
   },
   "file_extension": ".py",
   "mimetype": "text/x-python",
   "name": "python",
   "nbconvert_exporter": "python",
   "pygments_lexer": "ipython3",
   "version": "3.6.0"
  }
 },
 "nbformat": 4,
 "nbformat_minor": 2
}
