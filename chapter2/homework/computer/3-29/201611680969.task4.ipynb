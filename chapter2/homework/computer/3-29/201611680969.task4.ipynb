{
 "cells": [
  {
   "cell_type": "code",
   "execution_count": 22,
   "metadata": {
    "collapsed": false
   },
   "outputs": [
    {
     "name": "stdout",
     "output_type": "stream",
     "text": [
      "请输入第1个整数，以回车结束。3\n",
      "请输入第2个整数，以回车结束。4\n",
      "请输入第3个整数，以回车结束。5\n",
      "最终结果是： 150\n"
     ]
    }
   ],
   "source": [
    "def multiply(end):\n",
    "    i=0\n",
    "    s=1\n",
    "    while i<end:\n",
    "        i=i+1\n",
    "        s=s*i\n",
    "    return s\n",
    "\n",
    "m = int(input('请输入第1个整数，以回车结束。'))\n",
    "n = int(input('请输入第2个整数，以回车结束。'))\n",
    "k = int(input('请输入第3个整数，以回车结束。'))\n",
    "print('最终结果是：',multiply(m)+multiply(n)+multiply(k))\n",
    "    "
   ]
  },
  {
   "cell_type": "code",
   "execution_count": 23,
   "metadata": {
    "collapsed": false
   },
   "outputs": [
    {
     "name": "stdout",
     "output_type": "stream",
     "text": [
      "最终结果是： 17.742530693340424\n",
      "最终结果是： 26.952870981991452\n"
     ]
    }
   ],
   "source": [
    "def compute_sum(n):\n",
    "    i=0\n",
    "    total=0\n",
    "    while i<n:\n",
    "        i=i+1\n",
    "        total=total+1/(2*i-1)\n",
    "    return total\n",
    "\n",
    "n=1000\n",
    "print('最终结果是：',4*compute_sum(n))\n",
    "n=100000\n",
    "print('最终结果是：',4*compute_sum(n))\n",
    "    "
   ]
  },
  {
   "cell_type": "code",
   "execution_count": 35,
   "metadata": {
    "collapsed": false
   },
   "outputs": [
    {
     "name": "stdout",
     "output_type": "stream",
     "text": [
      "请输入您的姓名，以回车结束zwn\n",
      "Hello zwn\n",
      "请输入您的出生月份，以回车结束10\n",
      "请输入您的出生日期，以回车结束24\n",
      "您是天蝎座\n"
     ]
    }
   ],
   "source": [
    "def birth(birth_month,birth_day):\n",
    "    if birth_month==12:\n",
    "        if birth_day>21:\n",
    "            print('您是摩羯座')\n",
    "        else:\n",
    "            print('你是射手座')\n",
    "    if birth_month==11:\n",
    "        if bitrh_day>22:\n",
    "            print('你是射手座')\n",
    "        else:\n",
    "            print('你是天蝎座')\n",
    "    if birth_month==10:\n",
    "        if birth_day>23:\n",
    "            print('您是天蝎座')\n",
    "        else:\n",
    "            print('您是天秤座')\n",
    "    if birth_month==9:\n",
    "        if birth_day>22:\n",
    "            print('您是天秤座')\n",
    "        else:\n",
    "            print('您是处女座')\n",
    "    if birth_month==8:\n",
    "        if bitrh_day>22:\n",
    "            print('您是处女座')\n",
    "        else:\n",
    "            print('您是狮子座')\n",
    "    if birth_month==7:\n",
    "        if birth_day>22:\n",
    "            print('您是狮子座')\n",
    "        else:\n",
    "            print('您是巨蟹座')\n",
    "    if birth_month==6:\n",
    "        if birth_day>22:\n",
    "            print('你是巨蟹座')\n",
    "        else:\n",
    "            print('您是双子座')\n",
    "    if birth_month==5:\n",
    "        if birth_day>20:\n",
    "            print('您是双子座')\n",
    "        else:\n",
    "            print('您是金牛座')\n",
    "    if birth_month==4:\n",
    "        if birth_day>19:\n",
    "            print('您是金牛座')\n",
    "        else:\n",
    "            print('您是白羊座')\n",
    "    if birth_month==3:\n",
    "        if birth_day>20:\n",
    "            print('您是白羊座')\n",
    "        else:\n",
    "            print('您是双鱼座')\n",
    "    if birth_month==2:\n",
    "        if birth_day>18:\n",
    "            print('您是双鱼座')\n",
    "        else:\n",
    "            print('您是水瓶座')\n",
    "    if birth_month==1:\n",
    "        if birth_day>19:\n",
    "            print('您是水瓶座')\n",
    "        else:\n",
    "            print('您是摩羯座')\n",
    "   \n",
    "name=input('请输入您的姓名，以回车结束')\n",
    "print('Hello',name)\n",
    "birth_month=int(input('请输入您的出生月份，以回车结束'))\n",
    "birth_day=int(input('请输入您的出生日期，以回车结束'))\n",
    "birth(birth_month,birth_day)\n"
   ]
  },
  {
   "cell_type": "code",
   "execution_count": 37,
   "metadata": {
    "collapsed": false
   },
   "outputs": [
    {
     "name": "stdout",
     "output_type": "stream",
     "text": [
      "请输入一个单数单词watch\n",
      "在词尾加es\n"
     ]
    }
   ],
   "source": [
    "def compute(some_string):\n",
    "    if some_string=='photo'or some_string=='piano':\n",
    "        print('在词尾加s')\n",
    "    elif some_string.endswith('s')or some_string.endswith('x')or some_string.endswith('o')or some_string.endswith('sh')or some_string.endswith('ch'):\n",
    "        print('在词尾加es')\n",
    "    elif some_string.endswith('y'):\n",
    "        print('变y为i加es')\n",
    "    elif some_string.endswith('f')or some_string.endswith('fe'):\n",
    "        print('变f或fe为v,再加es')\n",
    "    else:\n",
    "        print('在词尾加s')\n",
    "\n",
    "\n",
    "some_string=input('请输入一个单数单词')\n",
    "compute(some_string)\n"
   ]
  },
  {
   "cell_type": "code",
   "execution_count": 34,
   "metadata": {
    "collapsed": false
   },
   "outputs": [
    {
     "name": "stdout",
     "output_type": "stream",
     "text": [
      "请输入第1个整数，以回车结束。4\n",
      "请输入第2个整数，以回车结束。6\n",
      "最终结果是： 15\n"
     ]
    }
   ],
   "source": [
    "def compute_sum(m,n):\n",
    "    k=n-m\n",
    "    i=0\n",
    "    while i<k:\n",
    "        i=i+1\n",
    "        m=n-k+m+i\n",
    "    return m\n",
    "\n",
    "m = int(input('请输入第1个整数，以回车结束。'))\n",
    "n = int(input('请输入第2个整数，以回车结束。'))\n",
    "print('最终结果是：',compute_sum(m,n))"
   ]
  }
 ],
 "metadata": {
  "kernelspec": {
   "display_name": "Python 3",
   "language": "python",
   "name": "python3"
  },
  "language_info": {
   "codemirror_mode": {
    "name": "ipython",
    "version": 3
   },
   "file_extension": ".py",
   "mimetype": "text/x-python",
   "name": "python",
   "nbconvert_exporter": "python",
   "pygments_lexer": "ipython3",
   "version": "3.6.0"
  }
 },
 "nbformat": 4,
 "nbformat_minor": 2
}
