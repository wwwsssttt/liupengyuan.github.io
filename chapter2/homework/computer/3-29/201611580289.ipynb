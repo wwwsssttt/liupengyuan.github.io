{
 "cells": [
  {
   "cell_type": "code",
   "execution_count": 2,
   "metadata": {
    "collapsed": false
   },
   "outputs": [
    {
     "name": "stdout",
     "output_type": "stream",
     "text": [
      "Pleasse input an integer,and end with Enter.9\n",
      "45\n"
     ]
    }
   ],
   "source": [
    "def _sum(end): \n",
    "    i=0 \n",
    "    total=1\n",
    "    while i<end:\n",
    "        i=i+1\n",
    "        total=total*i\n",
    "\n",
    "    return total\n",
    "m=int(input('请输入一个整数，以回车结束')) \n",
    "n=int(input('请输入一个整数，以回车结束')) \n",
    "k=int(input('请输入一个整数，以回车结束'))\n",
    "print('最终和是：',_sum(m)+_sum(n)+_sum(k))"
   ]
  },
  {
   "cell_type": "code",
   "execution_count": 4,
   "metadata": {
    "collapsed": false
   },
   "outputs": [
    {
     "name": "stdout",
     "output_type": "stream",
     "text": [
      "请输入一个整数，以回车结束100000\n",
      "-3.1415726535897814\n"
     ]
    }
   ],
   "source": [
    "def end(a):\n",
    "    i=1\n",
    "    total=0\n",
    "    j=0\n",
    "    \n",
    "    while i<a:\n",
    "        if(j%2==0):\n",
    "            total=total-1/i\n",
    "        else:\n",
    "            total=total+1/i\n",
    "        i=i+2\n",
    "        j=j+1\n",
    "        \n",
    "    return total\n",
    "\n",
    "b=int(input('请输入一个整数，以回车结束'))\n",
    "print(end(b)*4)"
   ]
  },
  {
   "cell_type": "code",
   "execution_count": 1,
   "metadata": {
    "collapsed": false
   },
   "outputs": [
    {
     "name": "stdout",
     "output_type": "stream",
     "text": [
      "Please input your name.\n",
      "Halo\n",
      "Please input your birthday.\n",
      "7\n",
      "28\n",
      "狮子座\n",
      "你是很有个性的狮子座\n"
     ]
    }
   ],
   "source": [
    "def XZ(month,day):\n",
    "    if month==3:\n",
    "        if day<=31 and day>=21:\n",
    "            return('白羊座')\n",
    "    if month==4:\n",
    "        if day>=1 and day<=19:\n",
    "            return('白羊座')\n",
    "    if month==4:\n",
    "        if day<=30 and day>=20:\n",
    "            return('金牛座')\n",
    "    if month==5:\n",
    "        if day>=1 and day<=20:\n",
    "            return('金牛座')\n",
    "    if month==5:\n",
    "        if day<=31 and day>=21:\n",
    "            return('双子座')\n",
    "    if month==6:\n",
    "        if day>=1 and day<=21:\n",
    "            return('双子座')\n",
    "    if month==6:\n",
    "        if day<=30 and day>=22:\n",
    "            return('巨蟹座')\n",
    "    if month==7:\n",
    "        if day>=1 and day<=22:\n",
    "            return('巨蟹座')\n",
    "    if month==7:\n",
    "        if day<=31 and day>=23:\n",
    "            return('狮子座')\n",
    "    if month==8:\n",
    "        if day>=1 and day<=22:\n",
    "            return('狮子座')\n",
    "    if month==8:\n",
    "        if day<=31 and day>=23:\n",
    "            return('处女座')\n",
    "    if month==9:\n",
    "        if day>=1 and day<=22:\n",
    "            return('处女座')\n",
    "    if month==9:\n",
    "        if day<=30 and day>=23:\n",
    "            return('天秤座')\n",
    "    if month==10:\n",
    "        if day>=1 and day<=23:\n",
    "            return('天秤座')\n",
    "    if month==10:\n",
    "        if day<=31 and day>=24:\n",
    "            return('天蝎座')\n",
    "    if month==11:\n",
    "        if day>=1 and day<=22:\n",
    "            return('天蝎座')\n",
    "    if month==11:\n",
    "        if day<=30 and day>=23:\n",
    "            return('射手座')\n",
    "    if month==12:\n",
    "        if day>=1 and day<=21:\n",
    "            return('射手座')\n",
    "    if month==12:\n",
    "        if day<=31 and day>=22:\n",
    "            return('摩羯座')\n",
    "    if month==1:\n",
    "        if day>=1 and day<=19:\n",
    "            return('摩羯座')\n",
    "    if month==1:\n",
    "        if day<=31 and day>=20:\n",
    "            return('水瓶座')\n",
    "    if month==2:\n",
    "        if day>=1 and day<=18:\n",
    "            return('水瓶座')\n",
    "    if month==2:\n",
    "        if day<=28 and day>=19:\n",
    "            return('双鱼座')\n",
    "    if month==3:\n",
    "        if day>=1 and day<=20:\n",
    "            return('双鱼座')\n",
    "\n",
    "print('Please input your name.')\n",
    "name=input()\n",
    "print('Please input your birthday.')\n",
    "a=int(input())\n",
    "b=int(input())\n",
    "print(XZ(a,b))\n",
    "if a==7:\n",
    "    if b<=31 and b>=23:\n",
    "        print('你是很有个性的狮子座')\n",
    "if a==8:\n",
    "    if b>=1 and b<=22:\n",
    "        print('你是很有个性的狮子座')"
   ]
  },
  {
   "cell_type": "code",
   "execution_count": 2,
   "metadata": {
    "collapsed": false
   },
   "outputs": [
    {
     "name": "stdout",
     "output_type": "stream",
     "text": [
      "请输入一个动词单数\n",
      "apply\n",
      "applies\n"
     ]
    }
   ],
   "source": [
    "def fushu(word):\n",
    "    if word.endswith('o'):\n",
    "        return word+'es'\n",
    "    elif word.endswith('s'):\n",
    "        return word+'es'\n",
    "    elif word.endswith('h') and word[-1:].endswith('c'):\n",
    "        return word+'es'\n",
    "    elif word.endswith('h') and word[-1:].endswith('s'):\n",
    "        return word+'es'\n",
    "    elif word.endswith('y'):\n",
    "        word=word[0:-1]\n",
    "        return word+'ies'\n",
    "    else:\n",
    "        return word+'s'\n",
    "    \n",
    "print('请输入一个动词单数')\n",
    "a=input()\n",
    "print(fushu(a))"
   ]
  },
  {
   "cell_type": "code",
   "execution_count": 6,
   "metadata": {
    "collapsed": false
   },
   "outputs": [
    {
     "name": "stdout",
     "output_type": "stream",
     "text": [
      "请输入一个整数1\n",
      "请输入一个整数9\n",
      "请输入一个整数1\n",
      "45\n"
     ]
    }
   ],
   "source": [
    "def he(a,b,c):\n",
    "    i=0\n",
    "    total=0\n",
    "    i=a\n",
    "    \n",
    "    while i<=b:\n",
    "        total=total+i\n",
    "        i=i+c\n",
    "    return total\n",
    "        \n",
    "m=int(input('请输入一个整数'))\n",
    "n=int(input('请输入一个整数'))\n",
    "k=int(input('请输入一个整数'))\n",
    "print(he(m,n,k))\n",
    "        \n",
    "        \n",
    "    \n",
    "    "
   ]
  },
  {
   "cell_type": "code",
   "execution_count": null,
   "metadata": {
    "collapsed": true
   },
   "outputs": [],
   "source": []
  }
 ],
 "metadata": {
  "kernelspec": {
   "display_name": "Python 3",
   "language": "python",
   "name": "python3"
  },
  "language_info": {
   "codemirror_mode": {
    "name": "ipython",
    "version": 3
   },
   "file_extension": ".py",
   "mimetype": "text/x-python",
   "name": "python",
   "nbconvert_exporter": "python",
   "pygments_lexer": "ipython3",
   "version": "3.6.0"
  }
 },
 "nbformat": 4,
 "nbformat_minor": 2
}
