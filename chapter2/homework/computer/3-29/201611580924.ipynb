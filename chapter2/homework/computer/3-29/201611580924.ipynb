{
 "cells": [
  {
   "cell_type": "code",
   "execution_count": 1,
   "metadata": {
    "collapsed": false
   },
   "outputs": [
    {
     "name": "stdout",
     "output_type": "stream",
     "text": [
      "请输入三个数字:\n",
      "\n",
      "1\n",
      "3\n",
      "6\n",
      "\n",
      "三个数的阶乘相加得: 727\n"
     ]
    }
   ],
   "source": [
    "def f(end):\n",
    "    i=1\n",
    "    product=1\n",
    "    while(i<=end):\n",
    "        product =product* i\n",
    "        i =i+ 1\n",
    "    return product\n",
    "\n",
    "print('请输入三个数字:\\n')\n",
    "a1 = int(input())\n",
    "a2 = int(input())\n",
    "a3 = int(input())\n",
    "print('\\n三个数的阶乘相加得:',f(a1)+f(a2)+f(a3))\n"
   ]
  },
  {
   "cell_type": "code",
   "execution_count": 8,
   "metadata": {
    "collapsed": false
   },
   "outputs": [
    {
     "name": "stdout",
     "output_type": "stream",
     "text": [
      "n=1000时： 0.7851481634599485\n",
      "\n",
      "n=10000时: 0.7853731633975086\n"
     ]
    }
   ],
   "source": [
    "def f(end):\n",
    "    i=1\n",
    "    a=1\n",
    "    sum=0 \n",
    "    while(a<=end):\n",
    "        n=(-1)**((i-1)/2)\n",
    "        sum=sum+1/(i*n)\n",
    "        i=i+2\n",
    "        a=a+1\n",
    "    return sum\n",
    "print('n=1000时：',f(1000))\n",
    "print('\\nn=10000时:',f(10000))\n",
    "    "
   ]
  },
  {
   "cell_type": "code",
   "execution_count": 9,
   "metadata": {
    "collapsed": true
   },
   "outputs": [],
   "source": []
  },
  {
   "cell_type": "code",
   "execution_count": 16,
   "metadata": {
    "collapsed": false
   },
   "outputs": [
    {
     "name": "stdout",
     "output_type": "stream",
     "text": [
      "输入开始数值:1\n",
      "输入末尾数值:2\n",
      "输入间隔:10\n",
      "数据错误\n",
      "\n"
     ]
    }
   ],
   "source": [
    "def f(start,end,interval):\n",
    "    sum=start\n",
    "    now=start+interval\n",
    "    while(now<=end):\n",
    "        sum=sum+now\n",
    "        now=now+interval\n",
    "    if(now==end+interval):\n",
    "        print('结果是:',sum)\n",
    "    else: print(\"数据错误\\n\")\n",
    "\n",
    "a=int(input('输入开始数值:'))\n",
    "b=int(input('输入末尾数值:'))\n",
    "c=int(input('输入间隔:'))\n",
    "f(a,b,c)"
   ]
  },
  {
   "cell_type": "code",
   "execution_count": null,
   "metadata": {
    "collapsed": true
   },
   "outputs": [],
   "source": []
  }
 ],
 "metadata": {
  "kernelspec": {
   "display_name": "Python 3",
   "language": "python",
   "name": "python3"
  },
  "language_info": {
   "codemirror_mode": {
    "name": "ipython",
    "version": 3
   },
   "file_extension": ".py",
   "mimetype": "text/x-python",
   "name": "python",
   "nbconvert_exporter": "python",
   "pygments_lexer": "ipython3",
   "version": "3.6.0"
  }
 },
 "nbformat": 4,
 "nbformat_minor": 2
}
