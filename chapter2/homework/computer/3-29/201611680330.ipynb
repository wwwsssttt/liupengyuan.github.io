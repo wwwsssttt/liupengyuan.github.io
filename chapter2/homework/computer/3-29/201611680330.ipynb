{
 "cells": [
  {
   "cell_type": "code",
   "execution_count": 4,
   "metadata": {
    "collapsed": false
   },
   "outputs": [
    {
     "name": "stdout",
     "output_type": "stream",
     "text": [
      "请输入第1个整数，以回车结束。1\n",
      "请输入第2个整数，以回车结束。2\n",
      "请输入第3个整数，以回车结束。3\n",
      "最终的和是： 9\n"
     ]
    }
   ],
   "source": [
    "def c(end):\n",
    "    i=1\n",
    "    a=1\n",
    "    while i<=end:\n",
    "        a=a*i\n",
    "        i=i+1\n",
    "    return(a)\n",
    "n = int(input('请输入第1个整数，以回车结束。'))\n",
    "m = int(input('请输入第2个整数，以回车结束。'))\n",
    "k = int(input('请输入第3个整数，以回车结束。'))\n",
    "\n",
    "print('最终的和是：', c(m) + c(n) + c(k))\n"
   ]
  },
  {
   "cell_type": "code",
   "execution_count": null,
   "metadata": {
    "collapsed": true
   },
   "outputs": [],
   "source": [
    "# 写函数可返回1 - 1/3 + 1/5 - 1/7...的前n项的和。在主程序中，分别令n=1000及100000，打印4倍该函数的和。\n",
    "def total(n):\n",
    "    i=1\n",
    "    t=0.0\n",
    "    while 1<=n:\n",
    "        a=2*i-1\n",
    "        if i/2==0:\n",
    "            b=-float(1/a)\n",
    "        else:\n",
    "            b=float(1/a)\n",
    "        t=t+b\n",
    "        i=i+1\n",
    "    return(t)\n",
    "print(total(1000),4*total(10000))\n",
    "print(total(10000),4*total(100000))\n"
   ]
  },
  {
   "cell_type": "code",
   "execution_count": null,
   "metadata": {
    "collapsed": true
   },
   "outputs": [],
   "source": [
    "print('please enter your name.')\n",
    "a= str(input())\n",
    "print('please enter your birth monthes')\n",
    "b= int(input())\n",
    "print('please enter your birth days')\n",
    "c=int(input())\n",
    "def hahaha(a,b,c):\n",
    "    if b==1:\n",
    "        if c<=20:\n",
    "            print(a,'you are capricron')\n",
    "        else:\n",
    "            print(a,'you are aquarius')\n",
    "    elif b==2:\n",
    "        if c<=19:\n",
    "            print(a,'you are aquarius')\n",
    "        else:\n",
    "            print(a,'you are pisces')\n",
    "    elif b==3:\n",
    "        if c<=21:\n",
    "            print(a,'you are pisces')\n",
    "        else:\n",
    "            print(a,'you are aries')\n",
    "    elif b==4:\n",
    "        if c<=20:\n",
    "            print(a,'you are aries')\n",
    "        else:\n",
    "            print(a,'you are taurus')\n",
    "    elif b==5:\n",
    "        if c<=22:\n",
    "            print(a,'you are taurus')\n",
    "        else:\n",
    "            print(a,'you are gemini')\n",
    "    elif b==6:\n",
    "        if c<=21:\n",
    "            print(a,'you are gemini')\n",
    "        else:\n",
    "            print(a,'you are cancer')\n",
    "    elif b==7:\n",
    "        if c<=22:\n",
    "            print(a,'you are cancer')\n",
    "        else:\n",
    "            print(a,'you are leo')\n",
    "    elif b==8:\n",
    "        if c<=24:\n",
    "            print(a,'you are leo')\n",
    "        else:\n",
    "            print(a,'you are virgo')\n",
    "    elif b==9:\n",
    "        if c<=23:\n",
    "            print(a,'you are virgo')\n",
    "        else:\n",
    "            print(a,'libra')\n",
    "    elif b==10:\n",
    "        if c<=23:\n",
    "            print(a,'you are libra')\n",
    "        else:\n",
    "            print(a,'you are scorpio')\n",
    "    elif b==11:\n",
    "        if c<=23:\n",
    "            print(a,'you are scorpio')\n",
    "        else:\n",
    "            print(a,'you are sagittarius')\n",
    "    else:\n",
    "        if c<=21:\n",
    "            print(a,'you are sagittariu')\n",
    "        else:\n",
    "            print(a,'you are capricron')\n",
    "hahaha(a,b,c)"
   ]
  },
  {
   "cell_type": "code",
   "execution_count": null,
   "metadata": {
    "collapsed": true
   },
   "outputs": [],
   "source": [
    "print('please enter a word')\n",
    "a=str(input())\n",
    "def ha(a1):\n",
    "    if(a1.endswith('s')):\n",
    "        print(al,'es ')\n",
    "    elif(a1.endswith('sh')):\n",
    "        print(al,'es ')\n",
    "    elif(a1.endswith('ch')):\n",
    "        print(al,'es ')\n",
    "    elif(a1.endswith('x')):\n",
    "        print(al,'es ')\n",
    "    elif(a1.endswith('y')):\n",
    "        print('以辅音字母+y结尾 变y 为i再加es')\n",
    "    else:\n",
    "        print(al,'s')\n",
    "ha(a)"
   ]
  },
  {
   "cell_type": "code",
   "execution_count": null,
   "metadata": {
    "collapsed": true
   },
   "outputs": [],
   "source": [
    "def buhuizuo(m,n,k):\n",
    "    i=m\n",
    "    total=0\n",
    "    while i<n:\n",
    "        total=total+i\n",
    "        i=i+k+1\n",
    "    return(i)\n",
    "print('please enter the first number')\n",
    "m=int(input())\n",
    "print('please enter the second number')\n",
    "n=int(input())\n",
    "print('please enter the third number')\n",
    "k=int(input())\n",
    "print(buhuizuo(m,n,k))"
   ]
  },
  {
   "cell_type": "code",
   "execution_count": null,
   "metadata": {
    "collapsed": true
   },
   "outputs": [],
   "source": []
  }
 ],
 "metadata": {
  "kernelspec": {
   "display_name": "Python 3",
   "language": "python",
   "name": "python3"
  },
  "language_info": {
   "codemirror_mode": {
    "name": "ipython",
    "version": 3
   },
   "file_extension": ".py",
   "mimetype": "text/x-python",
   "name": "python",
   "nbconvert_exporter": "python",
   "pygments_lexer": "ipython3",
   "version": "3.6.0"
  }
 },
 "nbformat": 4,
 "nbformat_minor": 2
}
