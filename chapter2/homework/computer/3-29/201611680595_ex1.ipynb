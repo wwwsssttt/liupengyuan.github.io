{
 "cells": [
  {
   "cell_type": "code",
   "execution_count": 14,
   "metadata": {
    "collapsed": false
   },
   "outputs": [
    {
     "name": "stdout",
     "output_type": "stream",
     "text": [
      "plz enter an integer,end with a tab: 3\n",
      "plz enter an integer,end with a tab: 2\n",
      "plz enter an integer,end with a tab: 1\n",
      "9\n"
     ]
    }
   ],
   "source": [
    "def compute_sum(end):\n",
    "    i=0\n",
    "    total_n=1\n",
    "    \n",
    "    while i<end:\n",
    "        i=i+1\n",
    "        total_n=total_n*i\n",
    "        \n",
    "    return total_n\n",
    "\n",
    "n=int(input('plz enter an integer,end with a tab: '))\n",
    "m=int(input('plz enter an integer,end with a tab: '))\n",
    "k=int(input('plz enter an integer,end with a tab: '))\n",
    "    \n",
    "print(compute_sum(m)+compute_sum(n)+compute_sum(k))"
   ]
  }
 ],
 "metadata": {
  "kernelspec": {
   "display_name": "Python 3",
   "language": "python",
   "name": "python3"
  },
  "language_info": {
   "codemirror_mode": {
    "name": "ipython",
    "version": 3
   },
   "file_extension": ".py",
   "mimetype": "text/x-python",
   "name": "python",
   "nbconvert_exporter": "python",
   "pygments_lexer": "ipython3",
   "version": "3.6.0"
  }
 },
 "nbformat": 4,
 "nbformat_minor": 2
}
