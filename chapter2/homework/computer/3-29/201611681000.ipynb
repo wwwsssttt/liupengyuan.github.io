{
 "cells": [
  {
   "cell_type": "code",
   "execution_count": 4,
   "metadata": {
    "collapsed": false,
    "deletable": true,
    "editable": true
   },
   "outputs": [
    {
     "name": "stdout",
     "output_type": "stream",
     "text": [
      "请输入第1个整数，以回车结束。2\n",
      "请输入第2个整数，以回车结束。3\n",
      "请输入第3个整数，以回车结束。2\n",
      "最终的和是： 10\n"
     ]
    }
   ],
   "source": [
    "def fact (end):\n",
    "    i=1\n",
    "    j=1\n",
    "    while i<end :\n",
    "        i=i+1 \n",
    "        j=i*j\n",
    "    return j\n",
    "n = int(input('请输入第1个整数，以回车结束。'))\n",
    "m = int(input('请输入第2个整数，以回车结束。'))\n",
    "k = int(input('请输入第3个整数，以回车结束。'))\n",
    "\n",
    "print('最终的和是：', fact(m) +  fact(n) +  fact(k))"
   ]
  },
  {
   "cell_type": "code",
   "execution_count": 1,
   "metadata": {
    "collapsed": false,
    "deletable": true,
    "editable": true
   },
   "outputs": [
    {
     "name": "stdout",
     "output_type": "stream",
     "text": [
      "请输入一个整数4\n",
      "最终的和为: 2.8952380952380956\n",
      "最终的和为: 3.140592653839794\n",
      "最终的和为: 3.1415826535897198\n"
     ]
    }
   ],
   "source": [
    "def fun (end):\n",
    "    i=1\n",
    "    j=1\n",
    "    m=1\n",
    "    p=0\n",
    "    sum=0\n",
    "    while p<end:\n",
    "        m=j/i\n",
    "        i=i+2\n",
    "        j=-1*j\n",
    "        sum=sum+m\n",
    "        p=p+1\n",
    "    return sum\n",
    "n=int(input(\"请输入一个整数\"))\n",
    "print(\"最终的和为:\",4*fun(n))\n",
    "n=1000\n",
    "print(\"最终的和为:\",4*fun(n))\n",
    "n=100000\n",
    "print(\"最终的和为:\",4*fun(n))"
   ]
  },
  {
   "cell_type": "code",
   "execution_count": null,
   "metadata": {
    "collapsed": true,
    "deletable": true,
    "editable": true
   },
   "outputs": [],
   "source": []
  },
  {
   "cell_type": "code",
   "execution_count": 1,
   "metadata": {
    "collapsed": false,
    "deletable": true,
    "editable": true
   },
   "outputs": [
    {
     "name": "stdout",
     "output_type": "stream",
     "text": [
      "请输入你的名字\n",
      "wsk\n",
      "请输入你出生月份\n",
      "9\n",
      "请输入你的出生日期\n",
      "8\n",
      "wsk 你是非常完美的处女座\n"
     ]
    }
   ],
   "source": [
    "def constell (name,m,d):\n",
    "    if m==3 and d>20 or (m==4 and d<20):\n",
    "        print(name,\"你是傲娇的白羊座\")\n",
    "    elif m==4 and d>19 or (m==5 and d<21):\n",
    "        print(name,\"你是很有性格的金牛座\")\n",
    "    elif m==5 and d>20 or (m==6 and d<22):\n",
    "        print(name,\"你是人格分裂的双子座\")\n",
    "    elif m==6 and d>21 or (m==7 and d<23):\n",
    "        print(name,\"你是没有大脑的巨蟹座\")\n",
    "    elif m==7 and d>22 or (m==8 and d<23):\n",
    "        print(name,\"你是性格温顺的狮子座\")\n",
    "    elif m==8 and d>22 or (m==9 and d<23):\n",
    "        print(name,\"你是非常完美的处女座\")\n",
    "    elif m==9 and d>22 or(m==10 and d<24):\n",
    "        print(name,\"你是僵尸般的天秤座\")\n",
    "    elif m==10 and d>23 or (m==11 and d<23):\n",
    "        print(name,\"你是招人喜欢的天蝎座\")\n",
    "    elif m==11 and d>22 or (m==12 and d<22):\n",
    "        print(name,\"你是花心的射手座\")\n",
    "    elif m==12 and d>21 or (m==1 and d<18):\n",
    "        print(name,\"你是高高的摩羯座\")\n",
    "    elif m==1 and d>19 or (m==2 and d<19):\n",
    "        print(name,\"你是瘦瘦的水瓶座\")\n",
    "    elif m==2 and d>18 or(m==3 and d<21):\n",
    "        print (name,\"你是喜欢游泳的双鱼座\")\n",
    "name=input (\"请输入你的名字\\n\")\n",
    "m=int(input(\"请输入你出生月份\\n\"))\n",
    "d=int(input(\"请输入你的出生日期\\n\"))\n",
    "constell(name,m,d)"
   ]
  },
  {
   "cell_type": "code",
   "execution_count": 2,
   "metadata": {
    "collapsed": false,
    "deletable": true,
    "editable": true
   },
   "outputs": [
    {
     "name": "stdout",
     "output_type": "stream",
     "text": [
      "Please enter a countable noun\n",
      "bus\n",
      "buses\n"
     ]
    }
   ],
   "source": [
    "def plrule (word):\n",
    "    if word.endswith('s') or word.endswith('x') or word.endswith('sh') or word.endswith('ch'):\n",
    "        word+='es'\n",
    "        print(word)\n",
    "    elif word.endswith('y'):\n",
    "        print(\"You can change the last letter into i plus es\")\n",
    "        print(word,\"->\",word,\"ies\",sep='')\n",
    "    else:\n",
    "        word+='s'\n",
    "        print(word)\n",
    "w=input(\"Please enter a countable noun\\n\")\n",
    "plrule(w)"
   ]
  },
  {
   "cell_type": "code",
   "execution_count": 2,
   "metadata": {
    "collapsed": false,
    "deletable": true,
    "editable": true
   },
   "outputs": [
    {
     "name": "stdout",
     "output_type": "stream",
     "text": [
      "plz enter an positive interger\n",
      "5\n",
      "plz enter an positive interger and bigger than a\n",
      "8\n",
      "plz enter an positive interger\n",
      "2\n",
      "The sum is 12\n"
     ]
    }
   ],
   "source": [
    "def total (m,n,k):\n",
    "    sum=0\n",
    "    while(m<=n):\n",
    "        sum=sum+m \n",
    "        m=m+k\n",
    "        \n",
    "    return sum\n",
    "\n",
    "a=int(input(\"plz enter an positive interger\\n\"))\n",
    "b=int(input(\"plz enter an positive interger and bigger than a\\n\"))\n",
    "c=int(input(\"plz enter an positive interger\\n\"))\n",
    "print(\"The sum is\",total (a,b,c))"
   ]
  }
 ],
 "metadata": {
  "kernelspec": {
   "display_name": "Python 3",
   "language": "python",
   "name": "python3"
  },
  "language_info": {
   "codemirror_mode": {
    "name": "ipython",
    "version": 3
   },
   "file_extension": ".py",
   "mimetype": "text/x-python",
   "name": "python",
   "nbconvert_exporter": "python",
   "pygments_lexer": "ipython3",
   "version": "3.6.0"
  }
 },
 "nbformat": 4,
 "nbformat_minor": 2
}
