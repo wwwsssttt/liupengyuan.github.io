{
 "cells": [
  {
   "cell_type": "code",
   "execution_count": 3,
   "metadata": {
    "collapsed": false
   },
   "outputs": [
    {
     "name": "stdout",
     "output_type": "stream",
     "text": [
      "请输入第1个整数，以回车结束。1\n",
      "请输入第2个整数，以回车结束。2\n",
      "请输入第3个整数，以回车结束。3\n",
      "m!+n!=k!= 9\n"
     ]
    }
   ],
   "source": [
    "def computer_factorial(number):\n",
    "    i=1\n",
    "    factor_n=1\n",
    "    \n",
    "    while i<number:\n",
    "        i=i+1\n",
    "        factor_n=factor_n*i\n",
    "        \n",
    "    return factor_n\n",
    "\n",
    "n = int(input('请输入第1个整数，以回车结束。'))\n",
    "m = int(input('请输入第2个整数，以回车结束。'))\n",
    "k = int(input('请输入第3个整数，以回车结束。'))\n",
    "\n",
    "print('m!+n!=k!=', computer_factorial(m) + computer_factorial(n) + computer_factorial(k))\\"
   ]
  },
  {
   "cell_type": "code",
   "execution_count": 4,
   "metadata": {
    "collapsed": false
   },
   "outputs": [
    {
     "name": "stdout",
     "output_type": "stream",
     "text": [
      "  3.140592653839794\n",
      "  3.1415826535897198\n"
     ]
    }
   ],
   "source": [
    "def compute_sum(end):\n",
    "    import math\n",
    "    n=0\n",
    "    i = 1\n",
    "    total_n = 0\n",
    "    while n < end:\n",
    "        total_n = total_n + 1/i*math.pow(-1,n)\n",
    "        i = i + 2\n",
    "        n=n+1\n",
    "    return total_n\n",
    "print(' ', 4*compute_sum(1000))\n",
    "print(' ', 4*compute_sum(100000))"
   ]
  },
  {
   "cell_type": "code",
   "execution_count": 15,
   "metadata": {
    "collapsed": false
   },
   "outputs": [
    {
     "name": "stdout",
     "output_type": "stream",
     "text": [
      "请输入你的姓名:崔崔\n",
      "请输入你的出生日期，如1.1: 5.22\n",
      "('崔崔', '你是双子座')\n"
     ]
    }
   ],
   "source": [
    "def Constellation(name,date):\n",
    "    if 3.21<=date<=4.19:\n",
    "        return(name,'你昰白羊座')\n",
    "    elif 4.20<=date<=5.20:\n",
    "        return(name,'你是金牛座')\n",
    "    elif 5.21<=date<=6.21:\n",
    "        return(name,'你是双子座')\n",
    "    elif 6.22<=date<=7.22:\n",
    "        return(name,'你是巨蟹座')\n",
    "    elif 7.23<=date<=8.2:\n",
    "        return(name,'你是狮子座')\n",
    "    elif 8.23<=date<=9.22:\n",
    "        return(name,'你是处女座')\n",
    "    elif 9.23<=date<=10.23:\n",
    "        return(name,'你是天秤座')\n",
    "    elif 10.24<=date<=11.22:\n",
    "        return(name,'你是天蝎座')\n",
    "    elif 11.23<=date<=12.21:\n",
    "        return(name,'你是射手座')\n",
    "    elif 12.22<=date<=12.31 or 1.1<=m<=1.19:\n",
    "        return(name,'你是摩羯座')\n",
    "    elif 1.20<=date<=2.18:\n",
    "        return(name,'你是水瓶座')\n",
    "    elif 2.19<=date<=3.20:\n",
    "        return(name,'你是双鱼座')\n",
    "name=str(input('请输入你的姓名:'))\n",
    "date=float(input('请输入你的出生日期，如1.1: '))\n",
    "print(Constellation(name,date))"
   ]
  },
  {
   "cell_type": "code",
   "execution_count": 17,
   "metadata": {
    "collapsed": false
   },
   "outputs": [
    {
     "name": "stdout",
     "output_type": "stream",
     "text": [
      "请输入一个单词：boy\n",
      "boys\n"
     ]
    }
   ],
   "source": [
    "def Plurality(word):\n",
    "    if ( word.endswith('ch') or word.endswith('sh') or word.endswith('s') or word.endswith('x') ):\n",
    "        print(word,'es',sep='')\n",
    "       \n",
    "    else:\n",
    "        print(word,'s',sep='')\n",
    "w=str(input('请输入一个单词：'))\n",
    "Plurality(w)"
   ]
  },
  {
   "cell_type": "code",
   "execution_count": 18,
   "metadata": {
    "collapsed": false
   },
   "outputs": [
    {
     "name": "stdout",
     "output_type": "stream",
     "text": [
      "请输入起始数 m:2\n",
      "请输入终点数 n:10\n",
      "请输入间隔 k:2\n",
      "28\n"
     ]
    }
   ],
   "source": [
    "def count_sum(m,n,k):\n",
    "    i=0\n",
    "    total=0\n",
    "    while i+k<n:\n",
    "        i=i+k\n",
    "        total+=i+k\n",
    "    return total\n",
    "\n",
    "m=int(input('请输入起始数 m:'))\n",
    "n=int(input('请输入终点数 n:'))\n",
    "k=int(input('请输入间隔 k:'))\n",
    "print(count_sum(m,n,k))"
   ]
  }
 ],
 "metadata": {
  "kernelspec": {
   "display_name": "Python 3",
   "language": "python",
   "name": "python3"
  },
  "language_info": {
   "codemirror_mode": {
    "name": "ipython",
    "version": 3
   },
   "file_extension": ".py",
   "mimetype": "text/x-python",
   "name": "python",
   "nbconvert_exporter": "python",
   "pygments_lexer": "ipython3",
   "version": "3.6.0"
  }
 },
 "nbformat": 4,
 "nbformat_minor": 2
}
