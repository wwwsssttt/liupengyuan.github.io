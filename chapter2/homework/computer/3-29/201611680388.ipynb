{
 "cells": [
  {
   "cell_type": "code",
   "execution_count": 1,
   "metadata": {
    "collapsed": false
   },
   "outputs": [
    {
     "name": "stdout",
     "output_type": "stream",
     "text": [
      "请输入第1个整数，以回车结束。89\n",
      "请输入第2个整数，以回车结束。78\n",
      "请输入第3个整数，以回车结束。78\n",
      "最终的和是： 10167\n"
     ]
    }
   ],
   "source": [
    "m = int(input('请输入第1个整数，以回车结束。'))\n",
    "i = 0\n",
    "total_m = 0\n",
    "while i < m:\n",
    "    i = i + 1\n",
    "    total_m = total_m + i\n",
    "\n",
    "n = int(input('请输入第2个整数，以回车结束。'))\n",
    "i = 0\n",
    "total_n = 0\n",
    "while i < n:\n",
    "    i = i + 1\n",
    "    total_n = total_n + i\n",
    "\n",
    "k = int(input('请输入第3个整数，以回车结束。'))\n",
    "i = 0\n",
    "total_k = 0\n",
    "while i < k:\n",
    "    i = i + 1\n",
    "    total_k = total_k + i\n",
    "\n",
    "print('最终的和是：', total_n + total_m + total_k)\n"
   ]
  },
  {
   "cell_type": "code",
   "execution_count": 2,
   "metadata": {
    "collapsed": false
   },
   "outputs": [
    {
     "name": "stdout",
     "output_type": "stream",
     "text": [
      "-4.0\n",
      "-4.0\n"
     ]
    }
   ],
   "source": [
    "def sum_1(number):\n",
    "    total=0\n",
    "    i=1\n",
    "    f=1\n",
    "    while i<=number:\n",
    "    \n",
    "        total=((pow(-1,f)*1/i)+total)*4\n",
    "        i=i+2\n",
    "        f=f+1\n",
    "        return total\n",
    "    \n",
    "#主函数\n",
    "n=1000\n",
    "m=100000\n",
    "print(sum_1(n))\n",
    "print(sum_1(m))\n"
   ]
  },
  {
   "cell_type": "code",
   "execution_count": 5,
   "metadata": {
    "collapsed": false
   },
   "outputs": [
    {
     "name": "stdout",
     "output_type": "stream",
     "text": [
      "请输入一个整数，并以回车结束。3\n",
      "请输入一个整数，并以回车结束。90\n",
      "请输入一个整数，并以回车结束。3\n",
      "3\n"
     ]
    }
   ],
   "source": [
    "def sum_1(x,y,z):\n",
    "    total=0\n",
    "    while x<=y:\n",
    "        total=total+x\n",
    "        x=x+z\n",
    "        return total\n",
    "        print(total)\n",
    "    \n",
    "    \n",
    "#主函数\n",
    "m = int(input('请输入一个整数，并以回车结束。'))\n",
    "n = int(input('请输入一个整数，并以回车结束。'))\n",
    "k = int(input('请输入一个整数，并以回车结束。'))\n",
    "print(sum_1(m,n,k))\n"
   ]
  },
  {
   "cell_type": "code",
   "execution_count": 8,
   "metadata": {
    "collapsed": false
   },
   "outputs": [
    {
     "name": "stdout",
     "output_type": "stream",
     "text": [
      "请输入一个数字,回车结束6\n",
      "请输入数字，以回车结束2016\n",
      "请输入数字，以回车结束8\n",
      "请输入数字，以回车结束16\n"
     ]
    }
   ],
   "source": [
    "name =int(input('请输入一个数字,回车结束'))\n",
    "year =int(input('请输入数字，以回车结束'))\n",
    "month =int(input('请输入数字，以回车结束'))\n",
    "day =int(input('请输入数字，以回车结束'))\n",
    "if (month==1&day>=20)or(month==2&day<=18):\n",
    "    print(name,'你是非常有个性的水瓶座')\n",
    "if (month==2&day>18)or(month==3&day<21):\n",
    "    print(name,'你是非常有个性的双鱼座')\n",
    "if(month==3&day>20)or(month==4&day<20):\n",
    "    print(name,'你是非常有个性的白羊座')\n",
    "if(month==4&day>19)or(month==5&day<21):\n",
    "    print(name,'你是非常有个性的金牛座')\n",
    "if(month==5&day>20)or(month==6&day<22):\n",
    "    print(name,'你是非常有个性的双子座')\n",
    "if(month==6&day>21)or(month==7&day<23):\n",
    "    print(name,'你是非常有个性的巨蟹座')\n",
    "if(month==7&day>22)or(month==8&day<23):\n",
    "    print(name,'你是非常有个性的狮子座')\n",
    "if(month==8&day>22)or(month==9&day<23):\n",
    "    print(name,'你是非常有个性的处女座')\n",
    "if(month==9&day>22)or(month==10&day<24):\n",
    "    print(name,'你是非常有个性的天秤座')\n",
    "if(month==10&day>23)or(month==11&day<23):\n",
    "    print(name,'你是非常有个性的天蝎座')\n",
    "if(month==11&day>22)or(month==12&day<22):\n",
    "    print(name,'你是非常有个性的射手座')\n",
    "if(month==12&day<21)or(month==1&day<20):\n",
    "    print(name,'你是非常有个性的摩羯座')\n"
   ]
  },
  {
   "cell_type": "code",
   "execution_count": null,
   "metadata": {
    "collapsed": true
   },
   "outputs": [],
   "source": []
  }
 ],
 "metadata": {
  "kernelspec": {
   "display_name": "Python 3",
   "language": "python",
   "name": "python3"
  },
  "language_info": {
   "codemirror_mode": {
    "name": "ipython",
    "version": 3
   },
   "file_extension": ".py",
   "mimetype": "text/x-python",
   "name": "python",
   "nbconvert_exporter": "python",
   "pygments_lexer": "ipython3",
   "version": "3.6.0"
  }
 },
 "nbformat": 4,
 "nbformat_minor": 2
}
