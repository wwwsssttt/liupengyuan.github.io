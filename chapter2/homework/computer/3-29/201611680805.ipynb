{
 "cells": [
  {
   "cell_type": "code",
   "execution_count": 1,
   "metadata": {
    "collapsed": false
   },
   "outputs": [
    {
     "name": "stdout",
     "output_type": "stream",
     "text": [
      "请输入第1个整数，以回车结束。5\n",
      "请输入第2个整数，以回车结束。4\n",
      "请输入第3个整数，以回车结束。3\n",
      "m!+n!+k!： 150\n"
     ]
    }
   ],
   "source": [
    "n = int(input('请输入第1个整数，以回车结束。'))\n",
    "i = 0\n",
    "total_n = 1\n",
    "while i < n:\n",
    "    i = i + 1\n",
    "    total_n = total_n * i\n",
    "\n",
    "m = int(input('请输入第2个整数，以回车结束。'))\n",
    "i = 0\n",
    "total_m = 1\n",
    "while i < m:\n",
    "    i = i + 1\n",
    "    total_m = total_m * i\n",
    "\n",
    "k = int(input('请输入第3个整数，以回车结束。'))\n",
    "i = 0\n",
    "total_k = 1\n",
    "while i < k:\n",
    "    i = i + 1\n",
    "    total_k = total_k *i\n",
    "\n",
    "print('m!+n!+k!：', total_n + total_m + total_k)\n"
   ]
  },
  {
   "cell_type": "code",
   "execution_count": 4,
   "metadata": {
    "collapsed": false
   },
   "outputs": [
    {
     "name": "stdout",
     "output_type": "stream",
     "text": [
      "最终的和是： 3.140592653839794 3.1415826535897198\n"
     ]
    }
   ],
   "source": [
    "def compute_sum(end):\n",
    "    i=1\n",
    "    m=1\n",
    "    total_n=1\n",
    "    while i<end:\n",
    "        m+=2\n",
    "        total_n+=1/m*pow(-1,i)\n",
    "        i+=1\n",
    "    return total_n\n",
    "\n",
    "a=1000\n",
    "b=100000\n",
    "print('最终的和是：', 4*compute_sum(a), 4*compute_sum(b))\n",
    "   "
   ]
  },
  {
   "cell_type": "code",
   "execution_count": 18,
   "metadata": {
    "collapsed": false
   },
   "outputs": [
    {
     "name": "stdout",
     "output_type": "stream",
     "text": [
      "请输入你的生日3.24\n",
      "你是白羊座\n"
     ]
    }
   ],
   "source": [
    "def birthday(date):\n",
    "    if 1.19<date<2.19:\n",
    "        return('你是水瓶座')\n",
    "    elif 2.18<date<3.21:\n",
    "        return('你是双鱼座')\n",
    "    elif 3.20<date<4.20:\n",
    "        return('你是白羊座')\n",
    "    elif 4.19<date<5.21:\n",
    "        return('你是金牛座')\n",
    "    elif 5.20<date<6.22:\n",
    "        return('你是双子座')\n",
    "    elif 6.21<date<7.23:\n",
    "        return('你是巨蟹座')\n",
    "    elif 7.22<date<8.23:\n",
    "        return('你是狮子座')\n",
    "    elif 3.22<date<9.23:\n",
    "        return('你是处女座')\n",
    "    elif 9.22<date<10.24:\n",
    "        return('你是天枰座')\n",
    "    elif 10.23<date<11.23:\n",
    "        return('你是天蝎座')\n",
    "    elif 11.22<date<12.22:\n",
    "        return('你是射手座')\n",
    "    else:  \n",
    "        return('你是摩羯座')\n",
    "    \n",
    "date=float(input('请输入你的生日'))\n",
    "print(birthday(date))"
   ]
  },
  {
   "cell_type": "code",
   "execution_count": null,
   "metadata": {
    "collapsed": false
   },
   "outputs": [],
   "source": [
    "def switch_word(noun):\n",
    "    if noun.endwith('x','ch'):\n",
    "        return('加 es')\n",
    "    if noun.endwith('y'):\n",
    "        return('变y为i,加es')\n",
    "    else:\n",
    "        return('加 s')\n",
    "    \n",
    "    \n",
    "    \n",
    "word=input('请输入一个单数名词: ')\n",
    "print('该单词的复数形式为： ',switch_word(word))\n"
   ]
  },
  {
   "cell_type": "code",
   "execution_count": 6,
   "metadata": {
    "collapsed": false
   },
   "outputs": [
    {
     "name": "stdout",
     "output_type": "stream",
     "text": [
      "请输入一个整数m: 8\n",
      "请输入一个大于m的整数n: 15\n",
      "请输入间隔k: 2\n",
      "最终的和是： 52\n"
     ]
    }
   ],
   "source": [
    "def compute_sum(x,y,z):\n",
    "    total_sum=0\n",
    "    while x<=y:\n",
    "        x+=z\n",
    "        total_sum+=x\n",
    "    return total_sum\n",
    "    \n",
    "m=int(input('请输入一个整数m: '))\n",
    "n=int(input('请输入一个大于m的整数n: '))\n",
    "k=int(input('请输入间隔k: '))\n",
    "\n",
    "print('最终的和是：', compute_sum(m,n,k))\n",
    "    "
   ]
  }
 ],
 "metadata": {
  "kernelspec": {
   "display_name": "Python 3",
   "language": "python",
   "name": "python3"
  }
 },
 "nbformat": 4,
 "nbformat_minor": 2
}
