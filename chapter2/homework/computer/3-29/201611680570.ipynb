{
 "cells": [
  {
   "cell_type": "code",
   "execution_count": 2,
   "metadata": {
    "collapsed": false
   },
   "outputs": [
    {
     "name": "stdout",
     "output_type": "stream",
     "text": [
      "qing shu ru:8\n",
      "qing shu ru:9\n",
      "qing shu ru:9\n",
      "126\n",
      "126\n"
     ]
    }
   ],
   "source": [
    "def qiuhe (n):\n",
    "    i=0\n",
    "    total=0\n",
    "    while i<n:\n",
    "        i=i+1\n",
    "        total=total+i\n",
    "    return(total)\n",
    "k=int(input('qing shu ru:'))\n",
    "m=int(input('qing shu ru:'))\n",
    "j=int(input('qing shu ru:'))\n",
    "print(qiuhe(k)+qiuhe(m)+qiuhe(j))"
   ]
  },
  {
   "cell_type": "code",
   "execution_count": 4,
   "metadata": {
    "collapsed": false
   },
   "outputs": [
    {
     "name": "stdout",
     "output_type": "stream",
     "text": [
      "3.140592653839794\n",
      "3.1415826535897198\n",
      "3.140592653839794\n",
      "3.1415826535897198\n"
     ]
    }
   ],
   "source": [
    "def qiuhe(n):\n",
    "    i=1\n",
    "    total=1\n",
    "    s=1\n",
    "    while i<n:\n",
    "        i=i+1\n",
    "        s=s+2\n",
    "        d=1/s\n",
    "        if(i%2==0):\n",
    "            total=total-d\n",
    "        else:\n",
    "            total=total+d\n",
    "    return(total)\n",
    "print(4*qiuhe(1000))\n",
    "print(4*qiuhe(100000))\n",
    "        \n",
    "        "
   ]
  },
  {
   "cell_type": "code",
   "execution_count": 5,
   "metadata": {
    "collapsed": false
   },
   "outputs": [
    {
     "name": "stdout",
     "output_type": "stream",
     "text": [
      "ertyyu\n",
      "ertyyues\n",
      "ertyyues\n"
     ]
    }
   ],
   "source": [
    "def panduan(n):\n",
    "    if n.endswith('x') or n.endswith('ch') or n.endswith('sh')or n.endswith('0') or n.endswith('s') or n.endswith('o'):\n",
    "        print(n,'es',sep='')\n",
    "    elif n.endswith('y'):\n",
    "        print('bian y wei i jia es')\n",
    "    elif n.endswith('f') or n.endswith('fe'):\n",
    "        print('bain f or fe wei v jia es')\n",
    "    else:\n",
    "        print(n,'s',sep='')\n",
    "n=input()\n",
    "panduan(n)"
   ]
  },
  {
   "cell_type": "code",
   "execution_count": null,
   "metadata": {
    "collapsed": false
   },
   "outputs": [],
   "source": [
    "def qiuhe(n,m,k):\n",
    "    i=n\n",
    "    total=n\n",
    "    while i<m:\n",
    "        i=i+k\n",
    "        total=total+i\n",
    "    return(total)\n",
    "s=input()\n",
    "l=input()\n",
    "b=input()\n",
    "print(qiuhe(s,l,b))\n",
    "        "
   ]
  }
 ],
 "metadata": {
  "kernelspec": {
   "display_name": "Python 3",
   "language": "python",
   "name": "python3"
  },
  "language_info": {
   "codemirror_mode": {
    "name": "ipython",
    "version": 3
   },
   "file_extension": ".py",
   "mimetype": "text/x-python",
   "name": "python",
   "nbconvert_exporter": "python",
   "pygments_lexer": "ipython3",
   "version": "3.6.0"
  }
 },
 "nbformat": 4,
 "nbformat_minor": 2
}
