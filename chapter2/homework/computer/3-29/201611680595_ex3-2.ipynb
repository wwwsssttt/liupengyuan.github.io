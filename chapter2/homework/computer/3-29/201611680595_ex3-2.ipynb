{
 "cells": [
  {
   "cell_type": "code",
   "execution_count": 7,
   "metadata": {
    "collapsed": false
   },
   "outputs": [
    {
     "name": "stdout",
     "output_type": "stream",
     "text": [
      "please input a word: apple\n",
      "apples\n"
     ]
    }
   ],
   "source": [
    "def multiple():\n",
    "    word = input('please input a word: ')\n",
    "    if word.endswith('x')or word.endswith('s')or word.endswith('ch')or word.endswith('sh'):\n",
    "        print(word,'es',sep='')\n",
    "    else:\n",
    "        print(word,'s',sep='')\n",
    "        \n",
    "multiple()\n",
    "    \n",
    "\n"
   ]
  }
 ],
 "metadata": {
  "kernelspec": {
   "display_name": "Python 3",
   "language": "python",
   "name": "python3"
  },
  "language_info": {
   "codemirror_mode": {
    "name": "ipython",
    "version": 3
   },
   "file_extension": ".py",
   "mimetype": "text/x-python",
   "name": "python",
   "nbconvert_exporter": "python",
   "pygments_lexer": "ipython3",
   "version": "3.6.0"
  }
 },
 "nbformat": 4,
 "nbformat_minor": 2
}
