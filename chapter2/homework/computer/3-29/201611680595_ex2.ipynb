{
 "cells": [
  {
   "cell_type": "code",
   "execution_count": 17,
   "metadata": {
    "collapsed": false
   },
   "outputs": [
    {
     "name": "stdout",
     "output_type": "stream",
     "text": [
      "plz enter an integer,end with a tab: 1000\n",
      "0.470957748576633\n"
     ]
    }
   ],
   "source": [
    "def compute_posisum(end):\n",
    "    i=1\n",
    "    total=0\n",
    "    while i<end:\n",
    "        i=i+4\n",
    "        total=total+1/i\n",
    "    return total\n",
    "\n",
    "def compute_negasum(end):\n",
    "    i=3\n",
    "    total=0\n",
    "    while i<end:\n",
    "        i=i+4\n",
    "        total=total+1/i;\n",
    "    return total\n",
    "\n",
    "n=int(input('plz enter an integer,end with a tab: '))\n",
    "sum=0\n",
    "sum=compute_posisum(n/2)-compute_negasum(n/2)\n",
    "print(4*sum)"
   ]
  }
 ],
 "metadata": {
  "kernelspec": {
   "display_name": "Python 3",
   "language": "python",
   "name": "python3"
  },
  "language_info": {
   "codemirror_mode": {
    "name": "ipython",
    "version": 3
   },
   "file_extension": ".py",
   "mimetype": "text/x-python",
   "name": "python",
   "nbconvert_exporter": "python",
   "pygments_lexer": "ipython3",
   "version": "3.6.0"
  }
 },
 "nbformat": 4,
 "nbformat_minor": 2
}
