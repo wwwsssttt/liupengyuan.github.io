{
 "cells": [
  {
   "cell_type": "code",
   "execution_count": 3,
   "metadata": {
    "collapsed": false
   },
   "outputs": [
    {
     "name": "stdout",
     "output_type": "stream",
     "text": [
      "请输入m的值3\n",
      "请输入n的值3\n",
      "请输入k的值3\n",
      "最终的和是： 18\n"
     ]
    }
   ],
   "source": [
    "#练习1\n",
    "def sum_mul(end):\n",
    "    i=1\n",
    "    total=1\n",
    "    while i<=end:\n",
    "        total=total*i\n",
    "        i=i+1\n",
    "    return total\n",
    "m=int(input('请输入m的值'))\n",
    "n=int(input('请输入n的值'))\n",
    "k=int(input('请输入k的值'))\n",
    "\n",
    "print('最终的和是：',sum_mul(m)+sum_mul(n)+sum_mul(k))"
   ]
  },
  {
   "cell_type": "code",
   "execution_count": 17,
   "metadata": {
    "collapsed": false
   },
   "outputs": [
    {
     "name": "stdout",
     "output_type": "stream",
     "text": [
      "3.140592653839794\n",
      "3.1414926535900345\n"
     ]
    }
   ],
   "source": [
    "#练习2\n",
    "def fen(end):\n",
    "    i=1\n",
    "    total=1\n",
    "    while i<end:\n",
    "        if i%2==0:\n",
    "            total=total+1/(i*2+1)\n",
    "        if i%2!=0:\n",
    "            total=total-1/(i*2+1)\n",
    "        i=i+1\n",
    "    return total\n",
    "\n",
    "print(4*fen(1000))\n",
    "print(4*fen(10000))\n",
    "        \n",
    "        \n"
   ]
  },
  {
   "cell_type": "code",
   "execution_count": 20,
   "metadata": {
    "collapsed": false
   },
   "outputs": [
    {
     "name": "stdout",
     "output_type": "stream",
     "text": [
      "请输入你的名字lengxiaoxuan\n",
      "请输入你的生日1.1\n",
      "lengxiaoxuan 您是有个性的摩羯座\n"
     ]
    }
   ],
   "source": [
    "#练习3\n",
    "def xz(name,birthday):\n",
    "    if birthday >= 3.21 and birthday <= 4.19:\n",
    "        print(name,'您是有个性的白羊座')\n",
    "    elif birthday >= 4.20 and birthday <= 5.20:\n",
    "        print(name,'您是有个性的金牛座')\n",
    "    elif birthday >= 5.21 and birthday <= 6.21:\n",
    "        print(name,'您是有个性的双子座')\n",
    "    elif birthday >= 6.22 and birthday <= 7.22:\n",
    "        print(name,'您是有个性的巨蟹座')\n",
    "    elif birthday >= 7.23 and birthday <= 8.22:\n",
    "        print(name,'您是有个性的狮子座')\n",
    "    elif birthday >= 8.23 and birthday <= 9.22:\n",
    "        print(name,'您是有个性的处女座')\n",
    "    elif birthday >= 9.23 and birthday <= 10.23:\n",
    "        print(name,'您是有个性的天秤座')\n",
    "    elif birthday >= 10.24 and birthday <= 11.22:\n",
    "        print(name,'您是有个性的天蝎座')\n",
    "    elif birthday >= 11.23 and birthday <= 12.21:\n",
    "        print(name,'您是有个性的射手座')\n",
    "    elif birthday >= 1.20 and birthday <= 2.18:\n",
    "        print(name,'您是有个性的水瓶座')\n",
    "    elif birthday >= 2.19 and birthday <= 3.20:\n",
    "        print(name,'您是有个性的双鱼座')\n",
    "    else:\n",
    "        print(name,'您是有个性的摩羯座')\n",
    "        \n",
    "name=input('请输入你的名字')\n",
    "birthday=float(input('请输入你的生日'))\n",
    "xz(name,birthday)\n",
    "\n"
   ]
  },
  {
   "cell_type": "code",
   "execution_count": 22,
   "metadata": {
    "collapsed": false
   },
   "outputs": [
    {
     "name": "stdout",
     "output_type": "stream",
     "text": [
      "请输入一个单词word\n",
      "words\n"
     ]
    }
   ],
   "source": [
    "#练习3\n",
    "def words(word):\n",
    "    if (word.endswith('y')):\n",
    "        print(word[:-1]+'ies')\n",
    "    elif(word.endswith('s') or word.endswith('x') or word.endswith('ch') or word.endswith('sh')):\n",
    "        print(word+'es')\n",
    "    else:\n",
    "        print(word+'s')\n",
    "    \n",
    "word=input('请输入一个单词')\n",
    "words(word)"
   ]
  },
  {
   "cell_type": "code",
   "execution_count": 23,
   "metadata": {
    "collapsed": false
   },
   "outputs": [
    {
     "name": "stdout",
     "output_type": "stream",
     "text": [
      "请输入一个数：2\n",
      "请输入一个数大于前一个数：6\n",
      "20\n"
     ]
    }
   ],
   "source": [
    "#挑战性练习（没看懂题目要求）\n",
    "\n",
    "def a(m,n,k):\n",
    "    sum=0\n",
    "    i=0\n",
    "    while(i<=k):\n",
    "        sum=sum+m+i\n",
    "        i=i+1\n",
    "    return sum\n",
    "\n",
    "m=int(input('请输入一个数：'))\n",
    "n=int(input('请输入一个数大于前一个数：'))\n",
    "k=n-m\n",
    "print(a(m,n,k))"
   ]
  }
 ],
 "metadata": {
  "kernelspec": {
   "display_name": "Python 3",
   "language": "python",
   "name": "python3"
  },
  "language_info": {
   "codemirror_mode": {
    "name": "ipython",
    "version": 3
   },
   "file_extension": ".py",
   "mimetype": "text/x-python",
   "name": "python",
   "nbconvert_exporter": "python",
   "pygments_lexer": "ipython3",
   "version": "3.6.0"
  }
 },
 "nbformat": 4,
 "nbformat_minor": 2
}
