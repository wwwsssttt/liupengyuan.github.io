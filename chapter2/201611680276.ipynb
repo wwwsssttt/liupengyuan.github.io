{
 "cells": [
  {
   "cell_type": "code",
   "execution_count": 1,
   "metadata": {
    "collapsed": false
   },
   "outputs": [
    {
     "name": "stdout",
     "output_type": "stream",
     "text": [
      "请输入一个整数3\n",
      "请输入下限4\n",
      "请输入上限78\n",
      "7.874007874011811\n"
     ]
    }
   ],
   "source": [
    "import random,math\n",
    "n=int(input('请输入一个整数'))\n",
    "m=int(input('请输入下限'))\n",
    "k=int(input('请输入上限'))\n",
    "i=1\n",
    "sum=0\n",
    "while i<=n:\n",
    "    sum=sum+random.randint(m,k)\n",
    "    i=i+1\n",
    "q=math.sqrt(sum)\n",
    "print(q)"
   ]
  },
  {
   "cell_type": "code",
   "execution_count": 3,
   "metadata": {
    "collapsed": false
   },
   "outputs": [
    {
     "name": "stdout",
     "output_type": "stream",
     "text": [
      "请输入一个整数3\n",
      "请输入下限55\n",
      "请输入上限88\n",
      "78\n",
      "0.6951404011319195\n"
     ]
    }
   ],
   "source": [
    "import random,math\n",
    "n=int(input('请输入一个整数'))\n",
    "m=int(input('请输入下限'))\n",
    "k=int(input('请输入上限'))\n",
    "i=1\n",
    "sum=0\n",
    "while i<=n:\n",
    "    num=random.randint(m,k)\n",
    "    sum=sum+math.log1p(num)\n",
    "    i=i+1\n",
    "print(num)\n",
    "j=1\n",
    "s=0\n",
    "while j<=n:\n",
    "    num=random.randint(m,k)\n",
    "    s=s+1/math.log1p(num)\n",
    "    j=j+1\n",
    "print(s)"
   ]
  },
  {
   "cell_type": "code",
   "execution_count": 2,
   "metadata": {
    "collapsed": false
   },
   "outputs": [
    {
     "name": "stdout",
     "output_type": "stream",
     "text": [
      "请输入一个不小于1的整数2\n",
      "48\n"
     ]
    }
   ],
   "source": [
    "import random\n",
    "n=int(input('请输入一个不小于1的整数'))\n",
    "a=random.randint(1,9)\n",
    "i=1\n",
    "s=0\n",
    "num=0\n",
    "k=1\n",
    "while i<=n:\n",
    "    num=num+a*k\n",
    "    s=s+num\n",
    "    k=k*10\n",
    "    i=i+1\n",
    "print(s)"
   ]
  },
  {
   "cell_type": "code",
   "execution_count": null,
   "metadata": {
    "collapsed": true
   },
   "outputs": [],
   "source": []
  },
  {
   "cell_type": "code",
   "execution_count": null,
   "metadata": {
    "collapsed": true
   },
   "outputs": [],
   "source": []
  },
  {
   "cell_type": "code",
   "execution_count": null,
   "metadata": {
    "collapsed": true
   },
   "outputs": [],
   "source": []
  },
  {
   "cell_type": "code",
   "execution_count": null,
   "metadata": {
    "collapsed": true
   },
   "outputs": [],
   "source": []
  },
  {
   "cell_type": "code",
   "execution_count": null,
   "metadata": {
    "collapsed": true
   },
   "outputs": [],
   "source": []
  },
  {
   "cell_type": "code",
   "execution_count": null,
   "metadata": {
    "collapsed": true
   },
   "outputs": [],
   "source": []
  },
  {
   "cell_type": "code",
   "execution_count": null,
   "metadata": {
    "collapsed": true
   },
   "outputs": [],
   "source": []
  }
 ],
 "metadata": {
  "kernelspec": {
   "display_name": "Python 3",
   "language": "python",
   "name": "python3"
  },
  "language_info": {
   "codemirror_mode": {
    "name": "ipython",
    "version": 3
   },
   "file_extension": ".py",
   "mimetype": "text/x-python",
   "name": "python",
   "nbconvert_exporter": "python",
   "pygments_lexer": "ipython3",
   "version": "3.6.0"
  }
 },
 "nbformat": 4,
 "nbformat_minor": 2
}
