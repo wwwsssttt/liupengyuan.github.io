{
 "cells": [
  {
   "cell_type": "code",
   "execution_count": 14,
   "metadata": {
    "collapsed": false,
    "deletable": true,
    "editable": true
   },
   "outputs": [
    {
     "name": "stdout",
     "output_type": "stream",
     "text": [
      "请输入一个正整数，以回车结束。4\n",
      "24\n"
     ]
    }
   ],
   "source": [
    "n=int(input('请输入一个正整数，以回车结束。'))\n",
    "i=0\n",
    "total=1\n",
    "\n",
    "while  i< n:\n",
    "    i=i+1\n",
    "    total=total*i\n",
    "    \n",
    "    \n",
    "print(total)"
   ]
  },
  {
   "cell_type": "code",
   "execution_count": 18,
   "metadata": {
    "collapsed": false,
    "deletable": true,
    "editable": true
   },
   "outputs": [
    {
     "name": "stdout",
     "output_type": "stream",
     "text": [
      "请输入你的名字，以回车键结束。yangjiao\n",
      "你好 yangjiao\n",
      "请输入一个正整数，以回车结束。2\n",
      "请输入一个正整数，以回车结束。1\n",
      "请输入一个正整数，以回车结束。3\n",
      "两个数的和是： 5\n",
      "再见！ yangjiao\n"
     ]
    }
   ],
   "source": [
    "name=input('请输入你的名字，以回车键结束。')\n",
    "print('你好',name)\n",
    "\n",
    "n=int(input('请输入一个正整数，以回车结束。'))\n",
    "\n",
    "i=0\n",
    "while i<n:\n",
    "    i+=1\n",
    "    m=int(input('请输入一个正整数，以回车结束。'))\n",
    "\n",
    "print('两个数的和是：',m+n)\n",
    "print('再见！',name)"
   ]
  },
  {
   "cell_type": "code",
   "execution_count": null,
   "metadata": {
    "collapsed": false,
    "deletable": true,
    "editable": true,
    "scrolled": true
   },
   "outputs": [
    {
     "name": "stdout",
     "output_type": "stream",
     "text": [
      "请输入一个正整数，以回车结束。4\n",
      "如果你不想继续输入数字,请输入1,如果你想继续输入数字,请输入0\n",
      "0\n",
      "请输入一个正整数，以回车结束。5\n",
      "如果你不想继续输入数字,请输入1,如果你想继续输入数字,请输入0\n",
      "1\n"
     ]
    }
   ],
   "source": [
    "i=0\n",
    "m=0\n",
    "\n",
    "while  i==m: \n",
    "    n=int(input('请输入一个正整数，以回车结束。'))\n",
    "    print('如果你不想继续输入数字,请输入1,如果你想继续输入数字,请输入0')\n",
    "    m=input()\n",
    "    if '1'==m:\n",
    "        m=1\n",
    "    else:\n",
    "        m=0"
   ]
  },
  {
   "cell_type": "code",
   "execution_count": null,
   "metadata": {
    "collapsed": true
   },
   "outputs": [],
   "source": [
    "n=int(input('请输入任意数字'))\n",
    "total=0\n",
    "product=1\n",
    "while total>=n and product>=n*n:\n",
    "    total=total+n\n",
    "    product=product*n\n",
    "    n=int(input('请输入任意数字'))"
   ]
  }
 ],
 "metadata": {
  "kernelspec": {
   "display_name": "Python 3",
   "language": "python",
   "name": "python3"
  },
  "language_info": {
   "codemirror_mode": {
    "name": "ipython",
    "version": 3
   },
   "file_extension": ".py",
   "mimetype": "text/x-python",
   "name": "python",
   "nbconvert_exporter": "python",
   "pygments_lexer": "ipython3",
   "version": "3.6.0"
  }
 },
 "nbformat": 4,
 "nbformat_minor": 2
}
